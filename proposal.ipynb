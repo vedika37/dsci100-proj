{
 "cells": [
  {
   "cell_type": "code",
   "execution_count": null,
   "metadata": {},
   "outputs": [],
   "source": [
    "# Proposal\n",
    "\n",
    "## Title: Credit Score Classification \n",
    "\n",
    "https://www.kaggle.com/datasets/parisrohan/credit-score-classification/data \n",
    "\n",
    "\n",
    "### Introduction:\n",
    "A credit report is a summary of a person’s credit history and is created when you borrow money or apply for a credit card. A credit score is a 3 digit number calculated based on your credit report that summarizes how well you manage your credit and how risky it would be for someone to lend you money. The higher credit score the better your rating is.\n",
    "\n",
    "\n",
    "A credit score is calculated based on a few different factors such as:\n",
    "Annual_income\n",
    "\n",
    "Monthly_Inhand_Salary\n",
    "\n",
    "Num_Bank_Accounts\n",
    "\n",
    "Num_Credit_Card\n",
    "\n",
    "Interest_Rate\n",
    "\n",
    "Num_of_Loan\n",
    "\n",
    "Type_of_Loan\n",
    "\n",
    "Delay_from_due_date\n",
    "\n",
    "Num_of_Delayed_Payment\n",
    "\n",
    "Changed_Credit_Limit\n",
    "\n",
    "Num_Credit_Inquiries\n",
    "\n",
    "Credit_Mix\n",
    "\n",
    "Outstanding_Debt\n",
    "\n",
    "Credit_Utilization_Ratio\n",
    "\n",
    "Credit_History_Age\n",
    "\n",
    "Payment_of_Min_Amount\n",
    "\n",
    "Total_EMI_per_month\n",
    "\n",
    "Amount_invested_monthly\n",
    "\n",
    "Payment_Behaviour\n",
    "\n",
    "Monthly_Balance\n",
    "\n"
   ]
  },
  {
   "cell_type": "code",
   "execution_count": null,
   "metadata": {},
   "outputs": [],
   "source": []
  }
 ],
 "metadata": {
  "language_info": {
   "name": "python"
  }
 },
 "nbformat": 4,
 "nbformat_minor": 2
}
