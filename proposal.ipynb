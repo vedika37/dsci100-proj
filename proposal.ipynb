{
 "cells": [
  {
   "cell_type": "markdown",
   "metadata": {},
   "source": [
    "# Group 13 Project Proposal"
   ]
  },
  {
   "cell_type": "code",
   "execution_count": 1,
   "metadata": {
    "tags": []
   },
   "outputs": [
    {
     "name": "stdout",
     "output_type": "stream",
     "text": [
      "Defaulting to user installation because normal site-packages is not writeable\n",
      "Requirement already satisfied: altair in c:\\users\\user\\appdata\\roaming\\python\\python310\\site-packages (5.2.0)\n",
      "Requirement already satisfied: jinja2 in c:\\programdata\\miniconda3\\envs\\cpsc330\\lib\\site-packages (from altair) (3.1.2)\n",
      "Requirement already satisfied: jsonschema>=3.0 in c:\\programdata\\miniconda3\\envs\\cpsc330\\lib\\site-packages (from altair) (4.17.3)\n",
      "Requirement already satisfied: numpy in c:\\programdata\\miniconda3\\envs\\cpsc330\\lib\\site-packages (from altair) (1.23.5)\n",
      "Requirement already satisfied: packaging in c:\\programdata\\miniconda3\\envs\\cpsc330\\lib\\site-packages (from altair) (23.0)\n",
      "Requirement already satisfied: pandas>=0.25 in c:\\programdata\\miniconda3\\envs\\cpsc330\\lib\\site-packages (from altair) (1.5.2)\n",
      "Requirement already satisfied: toolz in c:\\programdata\\miniconda3\\envs\\cpsc330\\lib\\site-packages (from altair) (0.12.0)\n",
      "Requirement already satisfied: typing-extensions>=4.0.1 in c:\\programdata\\miniconda3\\envs\\cpsc330\\lib\\site-packages (from altair) (4.4.0)\n",
      "Requirement already satisfied: attrs>=17.4.0 in c:\\programdata\\miniconda3\\envs\\cpsc330\\lib\\site-packages (from jsonschema>=3.0->altair) (22.2.0)\n",
      "Requirement already satisfied: pyrsistent!=0.17.0,!=0.17.1,!=0.17.2,>=0.14.0 in c:\\programdata\\miniconda3\\envs\\cpsc330\\lib\\site-packages (from jsonschema>=3.0->altair) (0.19.3)\n",
      "Requirement already satisfied: python-dateutil>=2.8.1 in c:\\programdata\\miniconda3\\envs\\cpsc330\\lib\\site-packages (from pandas>=0.25->altair) (2.8.2)\n",
      "Requirement already satisfied: pytz>=2020.1 in c:\\programdata\\miniconda3\\envs\\cpsc330\\lib\\site-packages (from pandas>=0.25->altair) (2022.7)\n",
      "Requirement already satisfied: MarkupSafe>=2.0 in c:\\programdata\\miniconda3\\envs\\cpsc330\\lib\\site-packages (from jinja2->altair) (2.1.1)\n",
      "Requirement already satisfied: six>=1.5 in c:\\programdata\\miniconda3\\envs\\cpsc330\\lib\\site-packages (from python-dateutil>=2.8.1->pandas>=0.25->altair) (1.16.0)\n",
      "Note: you may need to restart the kernel to use updated packages.\n"
     ]
    }
   ],
   "source": [
    "pip install -U altair"
   ]
  },
  {
   "cell_type": "markdown",
   "metadata": {},
   "source": [
    "\n",
    "**Title: Credit Score Classification**\n",
    "\n",
    "https://www.kaggle.com/datasets/parisrohan/credit-score-classification/data \n",
    "\n",
    "\n",
    "**Introduction:**\n",
    "A credit report is a summary of a person’s credit history and is created when you borrow money or apply for a credit card. A credit score is a 3 digit number calculated based on your credit report that summarizes how well you manage your credit and how risky it would be for someone to lend you money. The higher credit score the better your rating is.\n",
    "\n",
    "\n",
    "A credit score is calculated based on a few different factors such as:\n",
    "- a person's anual income\n",
    "- the number of credit cards they have\n",
    "- the number of loans they have\n",
    "- their credit card payment history\n",
    "- how old their credit is\n",
    "and more\n",
    "\n",
    "\n",
    "\n",
    "\n",
    "**The Question we aim to answer:** Can we classify someone’s credit score based on certain banking history and financial traits (shown above)?\n",
    "\n",
    "**Dataset description:** The dataset contains the bank and credit-related information of many individuals that have been amassed by a global finance company. It contains 27 columns of these information such as bank account history, loans, debt and EMI along with the number of credit cards a person has and their credit card payment history\n"
   ]
  },
  {
   "cell_type": "code",
   "execution_count": 2,
   "metadata": {
    "tags": []
   },
   "outputs": [],
   "source": [
    "import random\n",
    "import altair as alt\n",
    "import pandas as pd\n",
    "import numpy as np\n",
    "from sklearn import set_config\n",
    "from sklearn.compose import make_column_transformer\n",
    "from sklearn.metrics.pairwise import euclidean_distances\n",
    "from sklearn.neighbors import KNeighborsClassifier\n",
    "from sklearn.pipeline import make_pipeline\n",
    "from sklearn.preprocessing import OneHotEncoder, StandardScaler\n",
    "from sklearn.metrics import confusion_matrix\n",
    "from sklearn.model_selection import GridSearchCV, cross_validate\n",
    "\n",
    "np.random.seed(999) # setting the seed"
   ]
  },
  {
   "cell_type": "markdown",
   "metadata": {},
   "source": [
    "### Reading the data from a URL"
   ]
  },
  {
   "cell_type": "code",
   "execution_count": 3,
   "metadata": {
    "tags": []
   },
   "outputs": [
    {
     "name": "stdout",
     "output_type": "stream",
     "text": [
      "<class 'pandas.core.frame.DataFrame'>\n",
      "RangeIndex: 100000 entries, 0 to 99999\n",
      "Data columns (total 28 columns):\n",
      " #   Column                    Non-Null Count   Dtype  \n",
      "---  ------                    --------------   -----  \n",
      " 0   ID                        100000 non-null  object \n",
      " 1   Customer_ID               100000 non-null  object \n",
      " 2   Month                     100000 non-null  object \n",
      " 3   Name                      90015 non-null   object \n",
      " 4   Age                       100000 non-null  object \n",
      " 5   SSN                       100000 non-null  object \n",
      " 6   Occupation                100000 non-null  object \n",
      " 7   Annual_Income             100000 non-null  object \n",
      " 8   Monthly_Inhand_Salary     84998 non-null   float64\n",
      " 9   Num_Bank_Accounts         100000 non-null  int64  \n",
      " 10  Num_Credit_Card           100000 non-null  int64  \n",
      " 11  Interest_Rate             100000 non-null  int64  \n",
      " 12  Num_of_Loan               100000 non-null  object \n",
      " 13  Type_of_Loan              88592 non-null   object \n",
      " 14  Delay_from_due_date       100000 non-null  int64  \n",
      " 15  Num_of_Delayed_Payment    92998 non-null   object \n",
      " 16  Changed_Credit_Limit      100000 non-null  object \n",
      " 17  Num_Credit_Inquiries      98035 non-null   float64\n",
      " 18  Credit_Mix                100000 non-null  object \n",
      " 19  Outstanding_Debt          100000 non-null  object \n",
      " 20  Credit_Utilization_Ratio  100000 non-null  float64\n",
      " 21  Credit_History_Age        90970 non-null   object \n",
      " 22  Payment_of_Min_Amount     100000 non-null  object \n",
      " 23  Total_EMI_per_month       100000 non-null  float64\n",
      " 24  Amount_invested_monthly   95521 non-null   object \n",
      " 25  Payment_Behaviour         100000 non-null  object \n",
      " 26  Monthly_Balance           98800 non-null   object \n",
      " 27  Credit_Score              100000 non-null  object \n",
      "dtypes: float64(4), int64(4), object(20)\n",
      "memory usage: 21.4+ MB\n"
     ]
    }
   ],
   "source": [
    "url_credit = \"https://raw.githubusercontent.com/vedika37/dsci100-proj/main/train.csv\"\n",
    "credit = pd.read_csv(url_credit,sep = \",\", low_memory=False)\n",
    "credit.info()"
   ]
  },
  {
   "cell_type": "markdown",
   "metadata": {},
   "source": [
    "As we can see from the output of credit.info() the number of non-null observations are not the same across all variables, so to be able to analyze patterns in our data, we will first have to do some data cleaning. "
   ]
  },
  {
   "cell_type": "markdown",
   "metadata": {},
   "source": [
    "### Cleaning Data "
   ]
  },
  {
   "cell_type": "code",
   "execution_count": 4,
   "metadata": {
    "tags": []
   },
   "outputs": [
    {
     "data": {
      "text/html": [
       "<div>\n",
       "<style scoped>\n",
       "    .dataframe tbody tr th:only-of-type {\n",
       "        vertical-align: middle;\n",
       "    }\n",
       "\n",
       "    .dataframe tbody tr th {\n",
       "        vertical-align: top;\n",
       "    }\n",
       "\n",
       "    .dataframe thead th {\n",
       "        text-align: right;\n",
       "    }\n",
       "</style>\n",
       "<table border=\"1\" class=\"dataframe\">\n",
       "  <thead>\n",
       "    <tr style=\"text-align: right;\">\n",
       "      <th></th>\n",
       "      <th>Num_of_Delayed_Payment</th>\n",
       "      <th>Delay_from_due_date</th>\n",
       "      <th>Credit_Score</th>\n",
       "    </tr>\n",
       "  </thead>\n",
       "  <tbody>\n",
       "    <tr>\n",
       "      <th>0</th>\n",
       "      <td>7</td>\n",
       "      <td>3</td>\n",
       "      <td>Good</td>\n",
       "    </tr>\n",
       "    <tr>\n",
       "      <th>2</th>\n",
       "      <td>7</td>\n",
       "      <td>3</td>\n",
       "      <td>Good</td>\n",
       "    </tr>\n",
       "    <tr>\n",
       "      <th>3</th>\n",
       "      <td>4</td>\n",
       "      <td>5</td>\n",
       "      <td>Good</td>\n",
       "    </tr>\n",
       "    <tr>\n",
       "      <th>5</th>\n",
       "      <td>4</td>\n",
       "      <td>8</td>\n",
       "      <td>Good</td>\n",
       "    </tr>\n",
       "    <tr>\n",
       "      <th>6</th>\n",
       "      <td>8_</td>\n",
       "      <td>3</td>\n",
       "      <td>Good</td>\n",
       "    </tr>\n",
       "    <tr>\n",
       "      <th>...</th>\n",
       "      <td>...</td>\n",
       "      <td>...</td>\n",
       "      <td>...</td>\n",
       "    </tr>\n",
       "    <tr>\n",
       "      <th>99994</th>\n",
       "      <td>6</td>\n",
       "      <td>20</td>\n",
       "      <td>Poor</td>\n",
       "    </tr>\n",
       "    <tr>\n",
       "      <th>99995</th>\n",
       "      <td>7</td>\n",
       "      <td>23</td>\n",
       "      <td>Poor</td>\n",
       "    </tr>\n",
       "    <tr>\n",
       "      <th>99996</th>\n",
       "      <td>7</td>\n",
       "      <td>18</td>\n",
       "      <td>Poor</td>\n",
       "    </tr>\n",
       "    <tr>\n",
       "      <th>99997</th>\n",
       "      <td>6</td>\n",
       "      <td>27</td>\n",
       "      <td>Poor</td>\n",
       "    </tr>\n",
       "    <tr>\n",
       "      <th>99999</th>\n",
       "      <td>6</td>\n",
       "      <td>18</td>\n",
       "      <td>Poor</td>\n",
       "    </tr>\n",
       "  </tbody>\n",
       "</table>\n",
       "<p>92998 rows × 3 columns</p>\n",
       "</div>"
      ],
      "text/plain": [
       "      Num_of_Delayed_Payment  Delay_from_due_date Credit_Score\n",
       "0                          7                    3         Good\n",
       "2                          7                    3         Good\n",
       "3                          4                    5         Good\n",
       "5                          4                    8         Good\n",
       "6                         8_                    3         Good\n",
       "...                      ...                  ...          ...\n",
       "99994                      6                   20         Poor\n",
       "99995                      7                   23         Poor\n",
       "99996                      7                   18         Poor\n",
       "99997                      6                   27         Poor\n",
       "99999                      6                   18         Poor\n",
       "\n",
       "[92998 rows x 3 columns]"
      ]
     },
     "execution_count": 4,
     "metadata": {},
     "output_type": "execute_result"
    }
   ],
   "source": [
    "# dropping null values and columns not used in analysis\n",
    "\n",
    "# Predictors:\n",
    "\n",
    "# - number of delayed payments \n",
    "# - delay from due date \n",
    "\n",
    "credit = credit[['Num_of_Delayed_Payment', 'Delay_from_due_date', 'Credit_Score']]\n",
    "credit = credit.dropna()\n",
    "credit"
   ]
  },
  {
   "cell_type": "code",
   "execution_count": 5,
   "metadata": {
    "tags": []
   },
   "outputs": [
    {
     "data": {
      "text/plain": [
       "array(['Good', 'Standard', 'Poor'], dtype=object)"
      ]
     },
     "execution_count": 5,
     "metadata": {},
     "output_type": "execute_result"
    }
   ],
   "source": [
    "credit[\"Credit_Score\"].unique()"
   ]
  },
  {
   "cell_type": "markdown",
   "metadata": {},
   "source": [
    "We see here that our output variable i.e the credit score takes three unique values -> Good, Standard and Poor."
   ]
  },
  {
   "cell_type": "code",
   "execution_count": 6,
   "metadata": {
    "tags": []
   },
   "outputs": [
    {
     "data": {
      "text/html": [
       "<div>\n",
       "<style scoped>\n",
       "    .dataframe tbody tr th:only-of-type {\n",
       "        vertical-align: middle;\n",
       "    }\n",
       "\n",
       "    .dataframe tbody tr th {\n",
       "        vertical-align: top;\n",
       "    }\n",
       "\n",
       "    .dataframe thead th {\n",
       "        text-align: right;\n",
       "    }\n",
       "</style>\n",
       "<table border=\"1\" class=\"dataframe\">\n",
       "  <thead>\n",
       "    <tr style=\"text-align: right;\">\n",
       "      <th></th>\n",
       "      <th>Num_of_Delayed_Payment</th>\n",
       "      <th>Delay_from_due_date</th>\n",
       "      <th>Credit_Score</th>\n",
       "    </tr>\n",
       "  </thead>\n",
       "  <tbody>\n",
       "    <tr>\n",
       "      <th>0</th>\n",
       "      <td>7</td>\n",
       "      <td>3</td>\n",
       "      <td>Good</td>\n",
       "    </tr>\n",
       "    <tr>\n",
       "      <th>2</th>\n",
       "      <td>7</td>\n",
       "      <td>3</td>\n",
       "      <td>Good</td>\n",
       "    </tr>\n",
       "    <tr>\n",
       "      <th>3</th>\n",
       "      <td>4</td>\n",
       "      <td>5</td>\n",
       "      <td>Good</td>\n",
       "    </tr>\n",
       "    <tr>\n",
       "      <th>5</th>\n",
       "      <td>4</td>\n",
       "      <td>8</td>\n",
       "      <td>Good</td>\n",
       "    </tr>\n",
       "    <tr>\n",
       "      <th>7</th>\n",
       "      <td>6</td>\n",
       "      <td>3</td>\n",
       "      <td>Standard</td>\n",
       "    </tr>\n",
       "    <tr>\n",
       "      <th>...</th>\n",
       "      <td>...</td>\n",
       "      <td>...</td>\n",
       "      <td>...</td>\n",
       "    </tr>\n",
       "    <tr>\n",
       "      <th>99994</th>\n",
       "      <td>6</td>\n",
       "      <td>20</td>\n",
       "      <td>Poor</td>\n",
       "    </tr>\n",
       "    <tr>\n",
       "      <th>99995</th>\n",
       "      <td>7</td>\n",
       "      <td>23</td>\n",
       "      <td>Poor</td>\n",
       "    </tr>\n",
       "    <tr>\n",
       "      <th>99996</th>\n",
       "      <td>7</td>\n",
       "      <td>18</td>\n",
       "      <td>Poor</td>\n",
       "    </tr>\n",
       "    <tr>\n",
       "      <th>99997</th>\n",
       "      <td>6</td>\n",
       "      <td>27</td>\n",
       "      <td>Poor</td>\n",
       "    </tr>\n",
       "    <tr>\n",
       "      <th>99999</th>\n",
       "      <td>6</td>\n",
       "      <td>18</td>\n",
       "      <td>Poor</td>\n",
       "    </tr>\n",
       "  </tbody>\n",
       "</table>\n",
       "<p>89632 rows × 3 columns</p>\n",
       "</div>"
      ],
      "text/plain": [
       "      Num_of_Delayed_Payment  Delay_from_due_date Credit_Score\n",
       "0                          7                    3         Good\n",
       "2                          7                    3         Good\n",
       "3                          4                    5         Good\n",
       "5                          4                    8         Good\n",
       "7                          6                    3     Standard\n",
       "...                      ...                  ...          ...\n",
       "99994                      6                   20         Poor\n",
       "99995                      7                   23         Poor\n",
       "99996                      7                   18         Poor\n",
       "99997                      6                   27         Poor\n",
       "99999                      6                   18         Poor\n",
       "\n",
       "[89632 rows x 3 columns]"
      ]
     },
     "execution_count": 6,
     "metadata": {},
     "output_type": "execute_result"
    }
   ],
   "source": [
    "credit = credit[credit['Num_of_Delayed_Payment'].str.isdigit()]\n",
    "credit"
   ]
  },
  {
   "cell_type": "code",
   "execution_count": 7,
   "metadata": {
    "tags": []
   },
   "outputs": [
    {
     "data": {
      "text/html": [
       "<div>\n",
       "<style scoped>\n",
       "    .dataframe tbody tr th:only-of-type {\n",
       "        vertical-align: middle;\n",
       "    }\n",
       "\n",
       "    .dataframe tbody tr th {\n",
       "        vertical-align: top;\n",
       "    }\n",
       "\n",
       "    .dataframe thead th {\n",
       "        text-align: right;\n",
       "    }\n",
       "</style>\n",
       "<table border=\"1\" class=\"dataframe\">\n",
       "  <thead>\n",
       "    <tr style=\"text-align: right;\">\n",
       "      <th></th>\n",
       "      <th>Num_of_Delayed_Payment</th>\n",
       "      <th>Delay_from_due_date</th>\n",
       "      <th>Credit_Score</th>\n",
       "    </tr>\n",
       "  </thead>\n",
       "  <tbody>\n",
       "    <tr>\n",
       "      <th>0</th>\n",
       "      <td>7</td>\n",
       "      <td>3</td>\n",
       "      <td>Good</td>\n",
       "    </tr>\n",
       "    <tr>\n",
       "      <th>2</th>\n",
       "      <td>7</td>\n",
       "      <td>3</td>\n",
       "      <td>Good</td>\n",
       "    </tr>\n",
       "    <tr>\n",
       "      <th>3</th>\n",
       "      <td>4</td>\n",
       "      <td>5</td>\n",
       "      <td>Good</td>\n",
       "    </tr>\n",
       "    <tr>\n",
       "      <th>5</th>\n",
       "      <td>4</td>\n",
       "      <td>8</td>\n",
       "      <td>Good</td>\n",
       "    </tr>\n",
       "    <tr>\n",
       "      <th>7</th>\n",
       "      <td>6</td>\n",
       "      <td>3</td>\n",
       "      <td>Standard</td>\n",
       "    </tr>\n",
       "    <tr>\n",
       "      <th>...</th>\n",
       "      <td>...</td>\n",
       "      <td>...</td>\n",
       "      <td>...</td>\n",
       "    </tr>\n",
       "    <tr>\n",
       "      <th>99994</th>\n",
       "      <td>6</td>\n",
       "      <td>20</td>\n",
       "      <td>Poor</td>\n",
       "    </tr>\n",
       "    <tr>\n",
       "      <th>99995</th>\n",
       "      <td>7</td>\n",
       "      <td>23</td>\n",
       "      <td>Poor</td>\n",
       "    </tr>\n",
       "    <tr>\n",
       "      <th>99996</th>\n",
       "      <td>7</td>\n",
       "      <td>18</td>\n",
       "      <td>Poor</td>\n",
       "    </tr>\n",
       "    <tr>\n",
       "      <th>99997</th>\n",
       "      <td>6</td>\n",
       "      <td>27</td>\n",
       "      <td>Poor</td>\n",
       "    </tr>\n",
       "    <tr>\n",
       "      <th>99999</th>\n",
       "      <td>6</td>\n",
       "      <td>18</td>\n",
       "      <td>Poor</td>\n",
       "    </tr>\n",
       "  </tbody>\n",
       "</table>\n",
       "<p>89632 rows × 3 columns</p>\n",
       "</div>"
      ],
      "text/plain": [
       "       Num_of_Delayed_Payment  Delay_from_due_date Credit_Score\n",
       "0                           7                    3         Good\n",
       "2                           7                    3         Good\n",
       "3                           4                    5         Good\n",
       "5                           4                    8         Good\n",
       "7                           6                    3     Standard\n",
       "...                       ...                  ...          ...\n",
       "99994                       6                   20         Poor\n",
       "99995                       7                   23         Poor\n",
       "99996                       7                   18         Poor\n",
       "99997                       6                   27         Poor\n",
       "99999                       6                   18         Poor\n",
       "\n",
       "[89632 rows x 3 columns]"
      ]
     },
     "execution_count": 7,
     "metadata": {},
     "output_type": "execute_result"
    }
   ],
   "source": [
    "credit= credit.astype({'Num_of_Delayed_Payment': int})\n",
    "credit\n"
   ]
  },
  {
   "cell_type": "markdown",
   "metadata": {},
   "source": [
    "### Summarizing Data"
   ]
  },
  {
   "cell_type": "code",
   "execution_count": 8,
   "metadata": {
    "tags": []
   },
   "outputs": [
    {
     "data": {
      "text/plain": [
       "Num_of_Delayed_Payment     int32\n",
       "Delay_from_due_date        int64\n",
       "Credit_Score              object\n",
       "dtype: object"
      ]
     },
     "execution_count": 8,
     "metadata": {},
     "output_type": "execute_result"
    }
   ],
   "source": [
    "# each column along with its datatype\n",
    "credit.dtypes"
   ]
  },
  {
   "cell_type": "code",
   "execution_count": 9,
   "metadata": {
    "tags": []
   },
   "outputs": [
    {
     "name": "stdout",
     "output_type": "stream",
     "text": [
      "<class 'pandas.core.frame.DataFrame'>\n",
      "Int64Index: 89632 entries, 0 to 99999\n",
      "Data columns (total 3 columns):\n",
      " #   Column                  Non-Null Count  Dtype \n",
      "---  ------                  --------------  ----- \n",
      " 0   Num_of_Delayed_Payment  89632 non-null  int32 \n",
      " 1   Delay_from_due_date     89632 non-null  int64 \n",
      " 2   Credit_Score            89632 non-null  object\n",
      "dtypes: int32(1), int64(1), object(1)\n",
      "memory usage: 2.4+ MB\n"
     ]
    }
   ],
   "source": [
    "credit.info()"
   ]
  },
  {
   "cell_type": "code",
   "execution_count": 10,
   "metadata": {
    "tags": []
   },
   "outputs": [
    {
     "data": {
      "text/html": [
       "<div>\n",
       "<style scoped>\n",
       "    .dataframe tbody tr th:only-of-type {\n",
       "        vertical-align: middle;\n",
       "    }\n",
       "\n",
       "    .dataframe tbody tr th {\n",
       "        vertical-align: top;\n",
       "    }\n",
       "\n",
       "    .dataframe thead th {\n",
       "        text-align: right;\n",
       "    }\n",
       "</style>\n",
       "<table border=\"1\" class=\"dataframe\">\n",
       "  <thead>\n",
       "    <tr style=\"text-align: right;\">\n",
       "      <th></th>\n",
       "      <th>Num_of_Delayed_Payment</th>\n",
       "      <th>Delay_from_due_date</th>\n",
       "    </tr>\n",
       "  </thead>\n",
       "  <tbody>\n",
       "    <tr>\n",
       "      <th>count</th>\n",
       "      <td>89632.000000</td>\n",
       "      <td>89632.000000</td>\n",
       "    </tr>\n",
       "    <tr>\n",
       "      <th>mean</th>\n",
       "      <td>31.259863</td>\n",
       "      <td>21.175328</td>\n",
       "    </tr>\n",
       "    <tr>\n",
       "      <th>std</th>\n",
       "      <td>227.725486</td>\n",
       "      <td>14.864670</td>\n",
       "    </tr>\n",
       "    <tr>\n",
       "      <th>min</th>\n",
       "      <td>0.000000</td>\n",
       "      <td>-5.000000</td>\n",
       "    </tr>\n",
       "    <tr>\n",
       "      <th>25%</th>\n",
       "      <td>9.000000</td>\n",
       "      <td>10.000000</td>\n",
       "    </tr>\n",
       "    <tr>\n",
       "      <th>50%</th>\n",
       "      <td>14.000000</td>\n",
       "      <td>18.000000</td>\n",
       "    </tr>\n",
       "    <tr>\n",
       "      <th>75%</th>\n",
       "      <td>18.000000</td>\n",
       "      <td>28.000000</td>\n",
       "    </tr>\n",
       "    <tr>\n",
       "      <th>max</th>\n",
       "      <td>4397.000000</td>\n",
       "      <td>67.000000</td>\n",
       "    </tr>\n",
       "  </tbody>\n",
       "</table>\n",
       "</div>"
      ],
      "text/plain": [
       "       Num_of_Delayed_Payment  Delay_from_due_date\n",
       "count            89632.000000         89632.000000\n",
       "mean                31.259863            21.175328\n",
       "std                227.725486            14.864670\n",
       "min                  0.000000            -5.000000\n",
       "25%                  9.000000            10.000000\n",
       "50%                 14.000000            18.000000\n",
       "75%                 18.000000            28.000000\n",
       "max               4397.000000            67.000000"
      ]
     },
     "execution_count": 10,
     "metadata": {},
     "output_type": "execute_result"
    }
   ],
   "source": [
    "# generating descriptive statistics for numeric and 'object' type columns\n",
    "credit.describe()"
   ]
  },
  {
   "cell_type": "markdown",
   "metadata": {},
   "source": [
    "### Taking a Random Sample\n",
    "Since our current dataset has 81549 values, it is too  large to perform "
   ]
  },
  {
   "cell_type": "code",
   "execution_count": 11,
   "metadata": {
    "tags": []
   },
   "outputs": [
    {
     "data": {
      "text/plain": [
       "Standard    0.532366\n",
       "Poor        0.291693\n",
       "Good        0.175942\n",
       "Name: Credit_Score, dtype: float64"
      ]
     },
     "execution_count": 11,
     "metadata": {},
     "output_type": "execute_result"
    }
   ],
   "source": [
    "credit['Credit_Score'].value_counts(normalize=True)"
   ]
  },
  {
   "cell_type": "code",
   "execution_count": 12,
   "metadata": {
    "tags": []
   },
   "outputs": [
    {
     "data": {
      "text/plain": [
       "Standard    0.545\n",
       "Poor        0.280\n",
       "Good        0.175\n",
       "Name: Credit_Score, dtype: float64"
      ]
     },
     "execution_count": 12,
     "metadata": {},
     "output_type": "execute_result"
    }
   ],
   "source": [
    "credit_sample = credit.sample(n = 1000)\n",
    "credit_sample['Credit_Score'].value_counts(normalize=True)"
   ]
  },
  {
   "cell_type": "markdown",
   "metadata": {},
   "source": [
    "#### Impact Of Taking Subset of Data\n",
    "\n",
    "We have limited our sample size to 1,000 observations, despite the original dataset containing over 80,000 entries. Training our model on the full dataset might yield more representative results, but this approach demands significant computational resources and time. To mitigate this, we've ensured that the proportions of output categories in our sample closely mirror those in the original dataset, thus minimizing the risk of bias in our results. However, it's notable that the 'standard' category constitutes approximately 53.3% of our sample outputs. This could suggest a sampling bias, a factor often beyond the control of data scientists and a potential limitation of our study. To further address this, we could consider selecting a dataset where all outputs are equally represented. However, this approach may not accurately reflect the actual population demographics, presenting a trade-off between balanced representation and real-world application."
   ]
  },
  {
   "cell_type": "markdown",
   "metadata": {},
   "source": [
    "### Train - Test Split "
   ]
  },
  {
   "cell_type": "code",
   "execution_count": 13,
   "metadata": {
    "tags": []
   },
   "outputs": [
    {
     "name": "stdout",
     "output_type": "stream",
     "text": [
      "<class 'pandas.core.frame.DataFrame'>\n",
      "Int64Index: 750 entries, 25469 to 14556\n",
      "Data columns (total 3 columns):\n",
      " #   Column                  Non-Null Count  Dtype \n",
      "---  ------                  --------------  ----- \n",
      " 0   Num_of_Delayed_Payment  750 non-null    int32 \n",
      " 1   Delay_from_due_date     750 non-null    int64 \n",
      " 2   Credit_Score            750 non-null    object\n",
      "dtypes: int32(1), int64(1), object(1)\n",
      "memory usage: 20.5+ KB\n",
      "None\n",
      "<class 'pandas.core.frame.DataFrame'>\n",
      "Int64Index: 250 entries, 28983 to 95411\n",
      "Data columns (total 3 columns):\n",
      " #   Column                  Non-Null Count  Dtype \n",
      "---  ------                  --------------  ----- \n",
      " 0   Num_of_Delayed_Payment  250 non-null    int32 \n",
      " 1   Delay_from_due_date     250 non-null    int64 \n",
      " 2   Credit_Score            250 non-null    object\n",
      "dtypes: int32(1), int64(1), object(1)\n",
      "memory usage: 6.8+ KB\n",
      "None\n"
     ]
    }
   ],
   "source": [
    "from sklearn.model_selection import train_test_split\n",
    "\n",
    "train, test = train_test_split(\n",
    "    credit_sample, train_size=0.75, stratify=credit_sample[\"Credit_Score\"]\n",
    ")\n",
    "print(train.info())\n",
    "print(test.info())"
   ]
  },
  {
   "cell_type": "code",
   "execution_count": 14,
   "metadata": {
    "tags": []
   },
   "outputs": [
    {
     "name": "stdout",
     "output_type": "stream",
     "text": [
      "Value counts for training data\n",
      " Standard    0.545333\n",
      "Poor        0.280000\n",
      "Good        0.174667\n",
      "Name: Credit_Score, dtype: float64\n",
      "\n",
      "Value counts for testing data\n",
      " Standard    0.544\n",
      "Poor        0.280\n",
      "Good        0.176\n",
      "Name: Credit_Score, dtype: float64\n"
     ]
    }
   ],
   "source": [
    "print(\"Value counts for training data\\n\",train[\"Credit_Score\"].value_counts(normalize=True))\n",
    "print(\"\\nValue counts for testing data\\n\",test[\"Credit_Score\"].value_counts(normalize=True))"
   ]
  },
  {
   "cell_type": "markdown",
   "metadata": {},
   "source": [
    "### Visualizing Data - Distribution of Predictor Variables"
   ]
  },
  {
   "cell_type": "code",
   "execution_count": 15,
   "metadata": {
    "tags": []
   },
   "outputs": [
    {
     "data": {
      "text/html": [
       "\n",
       "<style>\n",
       "  #altair-viz-1b392b59fe25432bb8213dd7b8128646.vega-embed {\n",
       "    width: 100%;\n",
       "    display: flex;\n",
       "  }\n",
       "\n",
       "  #altair-viz-1b392b59fe25432bb8213dd7b8128646.vega-embed details,\n",
       "  #altair-viz-1b392b59fe25432bb8213dd7b8128646.vega-embed details summary {\n",
       "    position: relative;\n",
       "  }\n",
       "</style>\n",
       "<div id=\"altair-viz-1b392b59fe25432bb8213dd7b8128646\"></div>\n",
       "<script type=\"text/javascript\">\n",
       "  var VEGA_DEBUG = (typeof VEGA_DEBUG == \"undefined\") ? {} : VEGA_DEBUG;\n",
       "  (function(spec, embedOpt){\n",
       "    let outputDiv = document.currentScript.previousElementSibling;\n",
       "    if (outputDiv.id !== \"altair-viz-1b392b59fe25432bb8213dd7b8128646\") {\n",
       "      outputDiv = document.getElementById(\"altair-viz-1b392b59fe25432bb8213dd7b8128646\");\n",
       "    }\n",
       "    const paths = {\n",
       "      \"vega\": \"https://cdn.jsdelivr.net/npm/vega@5?noext\",\n",
       "      \"vega-lib\": \"https://cdn.jsdelivr.net/npm/vega-lib?noext\",\n",
       "      \"vega-lite\": \"https://cdn.jsdelivr.net/npm/vega-lite@5.16.3?noext\",\n",
       "      \"vega-embed\": \"https://cdn.jsdelivr.net/npm/vega-embed@6?noext\",\n",
       "    };\n",
       "\n",
       "    function maybeLoadScript(lib, version) {\n",
       "      var key = `${lib.replace(\"-\", \"\")}_version`;\n",
       "      return (VEGA_DEBUG[key] == version) ?\n",
       "        Promise.resolve(paths[lib]) :\n",
       "        new Promise(function(resolve, reject) {\n",
       "          var s = document.createElement('script');\n",
       "          document.getElementsByTagName(\"head\")[0].appendChild(s);\n",
       "          s.async = true;\n",
       "          s.onload = () => {\n",
       "            VEGA_DEBUG[key] = version;\n",
       "            return resolve(paths[lib]);\n",
       "          };\n",
       "          s.onerror = () => reject(`Error loading script: ${paths[lib]}`);\n",
       "          s.src = paths[lib];\n",
       "        });\n",
       "    }\n",
       "\n",
       "    function showError(err) {\n",
       "      outputDiv.innerHTML = `<div class=\"error\" style=\"color:red;\">${err}</div>`;\n",
       "      throw err;\n",
       "    }\n",
       "\n",
       "    function displayChart(vegaEmbed) {\n",
       "      vegaEmbed(outputDiv, spec, embedOpt)\n",
       "        .catch(err => showError(`Javascript Error: ${err.message}<br>This usually means there's a typo in your chart specification. See the javascript console for the full traceback.`));\n",
       "    }\n",
       "\n",
       "    if(typeof define === \"function\" && define.amd) {\n",
       "      requirejs.config({paths});\n",
       "      require([\"vega-embed\"], displayChart, err => showError(`Error loading script: ${err.message}`));\n",
       "    } else {\n",
       "      maybeLoadScript(\"vega\", \"5\")\n",
       "        .then(() => maybeLoadScript(\"vega-lite\", \"5.16.3\"))\n",
       "        .then(() => maybeLoadScript(\"vega-embed\", \"6\"))\n",
       "        .catch(showError)\n",
       "        .then(() => displayChart(vegaEmbed));\n",
       "    }\n",
       "  })({\"config\": {\"view\": {\"continuousWidth\": 300, \"continuousHeight\": 300}}, \"repeat\": {\"column\": [\"Delay_from_due_date\", \"Num_of_Delayed_Payment\"], \"row\": [\"Delay_from_due_date\", \"Num_of_Delayed_Payment\"]}, \"spec\": {\"data\": {\"name\": \"data-0c54c0de4fa58a95fe37ff37347a536c\"}, \"mark\": {\"type\": \"point\", \"opacity\": 0.4}, \"encoding\": {\"color\": {\"field\": \"Credit_Score\", \"title\": \"Credit_Score\", \"type\": \"nominal\"}, \"x\": {\"field\": {\"repeat\": \"row\"}, \"type\": \"quantitative\"}, \"y\": {\"field\": {\"repeat\": \"column\"}, \"type\": \"quantitative\"}}, \"height\": 200, \"width\": 200}, \"$schema\": \"https://vega.github.io/schema/vega-lite/v5.16.3.json\", \"datasets\": {\"data-0c54c0de4fa58a95fe37ff37347a536c\": [{\"Num_of_Delayed_Payment\": 17, \"Delay_from_due_date\": 23, \"Credit_Score\": \"Standard\"}, {\"Num_of_Delayed_Payment\": 16, \"Delay_from_due_date\": 48, \"Credit_Score\": \"Poor\"}, {\"Num_of_Delayed_Payment\": 19, \"Delay_from_due_date\": 15, \"Credit_Score\": \"Poor\"}, {\"Num_of_Delayed_Payment\": 22, \"Delay_from_due_date\": 48, \"Credit_Score\": \"Poor\"}, {\"Num_of_Delayed_Payment\": 19, \"Delay_from_due_date\": 26, \"Credit_Score\": \"Standard\"}, {\"Num_of_Delayed_Payment\": 23, \"Delay_from_due_date\": 24, \"Credit_Score\": \"Standard\"}, {\"Num_of_Delayed_Payment\": 18, \"Delay_from_due_date\": 31, \"Credit_Score\": \"Poor\"}, {\"Num_of_Delayed_Payment\": 8, \"Delay_from_due_date\": 11, \"Credit_Score\": \"Good\"}, {\"Num_of_Delayed_Payment\": 20, \"Delay_from_due_date\": 26, \"Credit_Score\": \"Standard\"}, {\"Num_of_Delayed_Payment\": 6, \"Delay_from_due_date\": 9, \"Credit_Score\": \"Standard\"}, {\"Num_of_Delayed_Payment\": 17, \"Delay_from_due_date\": 25, \"Credit_Score\": \"Poor\"}, {\"Num_of_Delayed_Payment\": 8, \"Delay_from_due_date\": 18, \"Credit_Score\": \"Poor\"}, {\"Num_of_Delayed_Payment\": 12, \"Delay_from_due_date\": 12, \"Credit_Score\": \"Poor\"}, {\"Num_of_Delayed_Payment\": 7, \"Delay_from_due_date\": 4, \"Credit_Score\": \"Good\"}, {\"Num_of_Delayed_Payment\": 11, \"Delay_from_due_date\": 12, \"Credit_Score\": \"Good\"}, {\"Num_of_Delayed_Payment\": 12, \"Delay_from_due_date\": 4, \"Credit_Score\": \"Standard\"}, {\"Num_of_Delayed_Payment\": 20, \"Delay_from_due_date\": 19, \"Credit_Score\": \"Standard\"}, {\"Num_of_Delayed_Payment\": 7, \"Delay_from_due_date\": 11, \"Credit_Score\": \"Good\"}, {\"Num_of_Delayed_Payment\": 14, \"Delay_from_due_date\": 16, \"Credit_Score\": \"Good\"}, {\"Num_of_Delayed_Payment\": 18, \"Delay_from_due_date\": 16, \"Credit_Score\": \"Standard\"}, {\"Num_of_Delayed_Payment\": 12, \"Delay_from_due_date\": 16, \"Credit_Score\": \"Standard\"}, {\"Num_of_Delayed_Payment\": 7, \"Delay_from_due_date\": 20, \"Credit_Score\": \"Poor\"}, {\"Num_of_Delayed_Payment\": 13, \"Delay_from_due_date\": 9, \"Credit_Score\": \"Standard\"}, {\"Num_of_Delayed_Payment\": 5, \"Delay_from_due_date\": 8, \"Credit_Score\": \"Good\"}, {\"Num_of_Delayed_Payment\": 19, \"Delay_from_due_date\": 40, \"Credit_Score\": \"Good\"}, {\"Num_of_Delayed_Payment\": 12, \"Delay_from_due_date\": 16, \"Credit_Score\": \"Good\"}, {\"Num_of_Delayed_Payment\": 17, \"Delay_from_due_date\": 16, \"Credit_Score\": \"Standard\"}, {\"Num_of_Delayed_Payment\": 19, \"Delay_from_due_date\": 21, \"Credit_Score\": \"Standard\"}, {\"Num_of_Delayed_Payment\": 7, \"Delay_from_due_date\": 25, \"Credit_Score\": \"Poor\"}, {\"Num_of_Delayed_Payment\": 9, \"Delay_from_due_date\": 27, \"Credit_Score\": \"Standard\"}, {\"Num_of_Delayed_Payment\": 12, \"Delay_from_due_date\": 42, \"Credit_Score\": \"Poor\"}, {\"Num_of_Delayed_Payment\": 16, \"Delay_from_due_date\": 22, \"Credit_Score\": \"Good\"}, {\"Num_of_Delayed_Payment\": 15, \"Delay_from_due_date\": 32, \"Credit_Score\": \"Standard\"}, {\"Num_of_Delayed_Payment\": 11, \"Delay_from_due_date\": 26, \"Credit_Score\": \"Standard\"}, {\"Num_of_Delayed_Payment\": 11, \"Delay_from_due_date\": 22, \"Credit_Score\": \"Standard\"}, {\"Num_of_Delayed_Payment\": 20, \"Delay_from_due_date\": 8, \"Credit_Score\": \"Good\"}, {\"Num_of_Delayed_Payment\": 0, \"Delay_from_due_date\": 8, \"Credit_Score\": \"Good\"}, {\"Num_of_Delayed_Payment\": 16, \"Delay_from_due_date\": 25, \"Credit_Score\": \"Poor\"}, {\"Num_of_Delayed_Payment\": 13, \"Delay_from_due_date\": 29, \"Credit_Score\": \"Standard\"}, {\"Num_of_Delayed_Payment\": 25, \"Delay_from_due_date\": 25, \"Credit_Score\": \"Standard\"}, {\"Num_of_Delayed_Payment\": 19, \"Delay_from_due_date\": 21, \"Credit_Score\": \"Standard\"}, {\"Num_of_Delayed_Payment\": 11, \"Delay_from_due_date\": 9, \"Credit_Score\": \"Standard\"}, {\"Num_of_Delayed_Payment\": 12, \"Delay_from_due_date\": 25, \"Credit_Score\": \"Standard\"}, {\"Num_of_Delayed_Payment\": 18, \"Delay_from_due_date\": 16, \"Credit_Score\": \"Standard\"}, {\"Num_of_Delayed_Payment\": 28, \"Delay_from_due_date\": 35, \"Credit_Score\": \"Poor\"}, {\"Num_of_Delayed_Payment\": 16, \"Delay_from_due_date\": 13, \"Credit_Score\": \"Standard\"}, {\"Num_of_Delayed_Payment\": 13, \"Delay_from_due_date\": 18, \"Credit_Score\": \"Poor\"}, {\"Num_of_Delayed_Payment\": 5, \"Delay_from_due_date\": 3, \"Credit_Score\": \"Good\"}, {\"Num_of_Delayed_Payment\": 18, \"Delay_from_due_date\": 9, \"Credit_Score\": \"Standard\"}, {\"Num_of_Delayed_Payment\": 23, \"Delay_from_due_date\": 48, \"Credit_Score\": \"Standard\"}, {\"Num_of_Delayed_Payment\": 25, \"Delay_from_due_date\": 37, \"Credit_Score\": \"Poor\"}, {\"Num_of_Delayed_Payment\": 6, \"Delay_from_due_date\": 9, \"Credit_Score\": \"Good\"}, {\"Num_of_Delayed_Payment\": 15, \"Delay_from_due_date\": 29, \"Credit_Score\": \"Standard\"}, {\"Num_of_Delayed_Payment\": 11, \"Delay_from_due_date\": -1, \"Credit_Score\": \"Good\"}, {\"Num_of_Delayed_Payment\": 26, \"Delay_from_due_date\": 22, \"Credit_Score\": \"Poor\"}, {\"Num_of_Delayed_Payment\": 0, \"Delay_from_due_date\": 4, \"Credit_Score\": \"Standard\"}, {\"Num_of_Delayed_Payment\": 12, \"Delay_from_due_date\": 27, \"Credit_Score\": \"Standard\"}, {\"Num_of_Delayed_Payment\": 9, \"Delay_from_due_date\": 13, \"Credit_Score\": \"Poor\"}, {\"Num_of_Delayed_Payment\": 9, \"Delay_from_due_date\": 13, \"Credit_Score\": \"Standard\"}, {\"Num_of_Delayed_Payment\": 13, \"Delay_from_due_date\": 27, \"Credit_Score\": \"Standard\"}, {\"Num_of_Delayed_Payment\": 11, \"Delay_from_due_date\": 28, \"Credit_Score\": \"Standard\"}, {\"Num_of_Delayed_Payment\": 25, \"Delay_from_due_date\": 22, \"Credit_Score\": \"Poor\"}, {\"Num_of_Delayed_Payment\": 10, \"Delay_from_due_date\": 2, \"Credit_Score\": \"Good\"}, {\"Num_of_Delayed_Payment\": 14, \"Delay_from_due_date\": 14, \"Credit_Score\": \"Standard\"}, {\"Num_of_Delayed_Payment\": 18, \"Delay_from_due_date\": 16, \"Credit_Score\": \"Standard\"}, {\"Num_of_Delayed_Payment\": 17, \"Delay_from_due_date\": 10, \"Credit_Score\": \"Standard\"}, {\"Num_of_Delayed_Payment\": 2, \"Delay_from_due_date\": 11, \"Credit_Score\": \"Good\"}, {\"Num_of_Delayed_Payment\": 11, \"Delay_from_due_date\": 2, \"Credit_Score\": \"Standard\"}, {\"Num_of_Delayed_Payment\": 19, \"Delay_from_due_date\": 29, \"Credit_Score\": \"Standard\"}, {\"Num_of_Delayed_Payment\": 2, \"Delay_from_due_date\": -1, \"Credit_Score\": \"Good\"}, {\"Num_of_Delayed_Payment\": 10, \"Delay_from_due_date\": 6, \"Credit_Score\": \"Standard\"}, {\"Num_of_Delayed_Payment\": 3, \"Delay_from_due_date\": 13, \"Credit_Score\": \"Good\"}, {\"Num_of_Delayed_Payment\": 3, \"Delay_from_due_date\": 6, \"Credit_Score\": \"Poor\"}, {\"Num_of_Delayed_Payment\": 14, \"Delay_from_due_date\": 19, \"Credit_Score\": \"Standard\"}, {\"Num_of_Delayed_Payment\": 19, \"Delay_from_due_date\": 25, \"Credit_Score\": \"Standard\"}, {\"Num_of_Delayed_Payment\": 4, \"Delay_from_due_date\": 10, \"Credit_Score\": \"Standard\"}, {\"Num_of_Delayed_Payment\": 25, \"Delay_from_due_date\": 40, \"Credit_Score\": \"Poor\"}, {\"Num_of_Delayed_Payment\": 14, \"Delay_from_due_date\": 34, \"Credit_Score\": \"Poor\"}, {\"Num_of_Delayed_Payment\": 15, \"Delay_from_due_date\": 12, \"Credit_Score\": \"Poor\"}, {\"Num_of_Delayed_Payment\": 15, \"Delay_from_due_date\": 12, \"Credit_Score\": \"Poor\"}, {\"Num_of_Delayed_Payment\": 6, \"Delay_from_due_date\": 15, \"Credit_Score\": \"Good\"}, {\"Num_of_Delayed_Payment\": 8, \"Delay_from_due_date\": 10, \"Credit_Score\": \"Standard\"}, {\"Num_of_Delayed_Payment\": 19, \"Delay_from_due_date\": 25, \"Credit_Score\": \"Standard\"}, {\"Num_of_Delayed_Payment\": 14, \"Delay_from_due_date\": 10, \"Credit_Score\": \"Standard\"}, {\"Num_of_Delayed_Payment\": 8, \"Delay_from_due_date\": 36, \"Credit_Score\": \"Standard\"}, {\"Num_of_Delayed_Payment\": 6, \"Delay_from_due_date\": 9, \"Credit_Score\": \"Standard\"}, {\"Num_of_Delayed_Payment\": 23, \"Delay_from_due_date\": 13, \"Credit_Score\": \"Standard\"}, {\"Num_of_Delayed_Payment\": 23, \"Delay_from_due_date\": 36, \"Credit_Score\": \"Poor\"}, {\"Num_of_Delayed_Payment\": 9, \"Delay_from_due_date\": 30, \"Credit_Score\": \"Poor\"}, {\"Num_of_Delayed_Payment\": 15, \"Delay_from_due_date\": 20, \"Credit_Score\": \"Poor\"}, {\"Num_of_Delayed_Payment\": 22, \"Delay_from_due_date\": 21, \"Credit_Score\": \"Standard\"}, {\"Num_of_Delayed_Payment\": 16, \"Delay_from_due_date\": 20, \"Credit_Score\": \"Poor\"}, {\"Num_of_Delayed_Payment\": 18, \"Delay_from_due_date\": 25, \"Credit_Score\": \"Standard\"}, {\"Num_of_Delayed_Payment\": 10, \"Delay_from_due_date\": 16, \"Credit_Score\": \"Standard\"}, {\"Num_of_Delayed_Payment\": 10, \"Delay_from_due_date\": 4, \"Credit_Score\": \"Good\"}, {\"Num_of_Delayed_Payment\": 16, \"Delay_from_due_date\": 17, \"Credit_Score\": \"Standard\"}, {\"Num_of_Delayed_Payment\": 15, \"Delay_from_due_date\": 27, \"Credit_Score\": \"Standard\"}, {\"Num_of_Delayed_Payment\": 9, \"Delay_from_due_date\": 5, \"Credit_Score\": \"Standard\"}, {\"Num_of_Delayed_Payment\": 13, \"Delay_from_due_date\": 7, \"Credit_Score\": \"Standard\"}, {\"Num_of_Delayed_Payment\": 13, \"Delay_from_due_date\": 1, \"Credit_Score\": \"Standard\"}, {\"Num_of_Delayed_Payment\": 15, \"Delay_from_due_date\": 7, \"Credit_Score\": \"Standard\"}, {\"Num_of_Delayed_Payment\": 7, \"Delay_from_due_date\": 9, \"Credit_Score\": \"Standard\"}, {\"Num_of_Delayed_Payment\": 15, \"Delay_from_due_date\": 16, \"Credit_Score\": \"Standard\"}, {\"Num_of_Delayed_Payment\": 17, \"Delay_from_due_date\": 6, \"Credit_Score\": \"Standard\"}, {\"Num_of_Delayed_Payment\": 19, \"Delay_from_due_date\": 30, \"Credit_Score\": \"Standard\"}, {\"Num_of_Delayed_Payment\": 20, \"Delay_from_due_date\": 7, \"Credit_Score\": \"Standard\"}, {\"Num_of_Delayed_Payment\": 20, \"Delay_from_due_date\": 29, \"Credit_Score\": \"Standard\"}, {\"Num_of_Delayed_Payment\": 6, \"Delay_from_due_date\": 8, \"Credit_Score\": \"Poor\"}, {\"Num_of_Delayed_Payment\": 3, \"Delay_from_due_date\": 0, \"Credit_Score\": \"Good\"}, {\"Num_of_Delayed_Payment\": 23, \"Delay_from_due_date\": 49, \"Credit_Score\": \"Standard\"}, {\"Num_of_Delayed_Payment\": 25, \"Delay_from_due_date\": 32, \"Credit_Score\": \"Poor\"}, {\"Num_of_Delayed_Payment\": 12, \"Delay_from_due_date\": 14, \"Credit_Score\": \"Standard\"}, {\"Num_of_Delayed_Payment\": 7, \"Delay_from_due_date\": 12, \"Credit_Score\": \"Standard\"}, {\"Num_of_Delayed_Payment\": 15, \"Delay_from_due_date\": 44, \"Credit_Score\": \"Poor\"}, {\"Num_of_Delayed_Payment\": 11, \"Delay_from_due_date\": 13, \"Credit_Score\": \"Standard\"}, {\"Num_of_Delayed_Payment\": 19, \"Delay_from_due_date\": 25, \"Credit_Score\": \"Poor\"}, {\"Num_of_Delayed_Payment\": 9, \"Delay_from_due_date\": 10, \"Credit_Score\": \"Poor\"}, {\"Num_of_Delayed_Payment\": 20, \"Delay_from_due_date\": 30, \"Credit_Score\": \"Poor\"}, {\"Num_of_Delayed_Payment\": 16, \"Delay_from_due_date\": 17, \"Credit_Score\": \"Standard\"}, {\"Num_of_Delayed_Payment\": 22, \"Delay_from_due_date\": 28, \"Credit_Score\": \"Standard\"}, {\"Num_of_Delayed_Payment\": 23, \"Delay_from_due_date\": 42, \"Credit_Score\": \"Poor\"}, {\"Num_of_Delayed_Payment\": 1, \"Delay_from_due_date\": 4, \"Credit_Score\": \"Good\"}, {\"Num_of_Delayed_Payment\": 15, \"Delay_from_due_date\": 21, \"Credit_Score\": \"Standard\"}, {\"Num_of_Delayed_Payment\": 16, \"Delay_from_due_date\": 16, \"Credit_Score\": \"Poor\"}, {\"Num_of_Delayed_Payment\": 8, \"Delay_from_due_date\": 22, \"Credit_Score\": \"Standard\"}, {\"Num_of_Delayed_Payment\": 4, \"Delay_from_due_date\": 14, \"Credit_Score\": \"Standard\"}, {\"Num_of_Delayed_Payment\": 0, \"Delay_from_due_date\": 3, \"Credit_Score\": \"Standard\"}, {\"Num_of_Delayed_Payment\": 6, \"Delay_from_due_date\": 13, \"Credit_Score\": \"Good\"}, {\"Num_of_Delayed_Payment\": 8, \"Delay_from_due_date\": 20, \"Credit_Score\": \"Good\"}, {\"Num_of_Delayed_Payment\": 2, \"Delay_from_due_date\": 5, \"Credit_Score\": \"Good\"}, {\"Num_of_Delayed_Payment\": 21, \"Delay_from_due_date\": 48, \"Credit_Score\": \"Poor\"}, {\"Num_of_Delayed_Payment\": 7, \"Delay_from_due_date\": 23, \"Credit_Score\": \"Standard\"}, {\"Num_of_Delayed_Payment\": 8, \"Delay_from_due_date\": 13, \"Credit_Score\": \"Standard\"}, {\"Num_of_Delayed_Payment\": 17, \"Delay_from_due_date\": 24, \"Credit_Score\": \"Standard\"}, {\"Num_of_Delayed_Payment\": 25, \"Delay_from_due_date\": 36, \"Credit_Score\": \"Standard\"}, {\"Num_of_Delayed_Payment\": 11, \"Delay_from_due_date\": 1, \"Credit_Score\": \"Standard\"}, {\"Num_of_Delayed_Payment\": 11, \"Delay_from_due_date\": 13, \"Credit_Score\": \"Good\"}, {\"Num_of_Delayed_Payment\": 24, \"Delay_from_due_date\": 35, \"Credit_Score\": \"Standard\"}, {\"Num_of_Delayed_Payment\": 5, \"Delay_from_due_date\": 17, \"Credit_Score\": \"Poor\"}, {\"Num_of_Delayed_Payment\": 18, \"Delay_from_due_date\": 43, \"Credit_Score\": \"Standard\"}, {\"Num_of_Delayed_Payment\": 8, \"Delay_from_due_date\": 2, \"Credit_Score\": \"Standard\"}, {\"Num_of_Delayed_Payment\": 18, \"Delay_from_due_date\": 43, \"Credit_Score\": \"Poor\"}, {\"Num_of_Delayed_Payment\": 18, \"Delay_from_due_date\": 19, \"Credit_Score\": \"Poor\"}, {\"Num_of_Delayed_Payment\": 10, \"Delay_from_due_date\": 12, \"Credit_Score\": \"Standard\"}, {\"Num_of_Delayed_Payment\": 10, \"Delay_from_due_date\": 19, \"Credit_Score\": \"Poor\"}, {\"Num_of_Delayed_Payment\": 17, \"Delay_from_due_date\": 30, \"Credit_Score\": \"Poor\"}, {\"Num_of_Delayed_Payment\": 19, \"Delay_from_due_date\": 11, \"Credit_Score\": \"Standard\"}, {\"Num_of_Delayed_Payment\": 21, \"Delay_from_due_date\": 20, \"Credit_Score\": \"Poor\"}, {\"Num_of_Delayed_Payment\": 8, \"Delay_from_due_date\": 17, \"Credit_Score\": \"Standard\"}, {\"Num_of_Delayed_Payment\": 17, \"Delay_from_due_date\": 14, \"Credit_Score\": \"Standard\"}, {\"Num_of_Delayed_Payment\": 14, \"Delay_from_due_date\": 12, \"Credit_Score\": \"Standard\"}, {\"Num_of_Delayed_Payment\": 2, \"Delay_from_due_date\": 30, \"Credit_Score\": \"Standard\"}, {\"Num_of_Delayed_Payment\": 6, \"Delay_from_due_date\": 4, \"Credit_Score\": \"Good\"}, {\"Num_of_Delayed_Payment\": 20, \"Delay_from_due_date\": 19, \"Credit_Score\": \"Standard\"}, {\"Num_of_Delayed_Payment\": 14, \"Delay_from_due_date\": 6, \"Credit_Score\": \"Standard\"}, {\"Num_of_Delayed_Payment\": 19, \"Delay_from_due_date\": 29, \"Credit_Score\": \"Standard\"}, {\"Num_of_Delayed_Payment\": 5, \"Delay_from_due_date\": 15, \"Credit_Score\": \"Good\"}, {\"Num_of_Delayed_Payment\": 18, \"Delay_from_due_date\": 14, \"Credit_Score\": \"Standard\"}, {\"Num_of_Delayed_Payment\": 9, \"Delay_from_due_date\": 5, \"Credit_Score\": \"Good\"}, {\"Num_of_Delayed_Payment\": 17, \"Delay_from_due_date\": 15, \"Credit_Score\": \"Poor\"}, {\"Num_of_Delayed_Payment\": 17, \"Delay_from_due_date\": 21, \"Credit_Score\": \"Poor\"}, {\"Num_of_Delayed_Payment\": 2, \"Delay_from_due_date\": 3, \"Credit_Score\": \"Good\"}, {\"Num_of_Delayed_Payment\": 19, \"Delay_from_due_date\": 14, \"Credit_Score\": \"Standard\"}, {\"Num_of_Delayed_Payment\": 20, \"Delay_from_due_date\": 5, \"Credit_Score\": \"Standard\"}, {\"Num_of_Delayed_Payment\": 20, \"Delay_from_due_date\": 28, \"Credit_Score\": \"Standard\"}, {\"Num_of_Delayed_Payment\": 2, \"Delay_from_due_date\": 10, \"Credit_Score\": \"Poor\"}, {\"Num_of_Delayed_Payment\": 6, \"Delay_from_due_date\": 10, \"Credit_Score\": \"Standard\"}, {\"Num_of_Delayed_Payment\": 10, \"Delay_from_due_date\": -2, \"Credit_Score\": \"Poor\"}, {\"Num_of_Delayed_Payment\": 14, \"Delay_from_due_date\": 26, \"Credit_Score\": \"Poor\"}, {\"Num_of_Delayed_Payment\": 11, \"Delay_from_due_date\": 12, \"Credit_Score\": \"Good\"}, {\"Num_of_Delayed_Payment\": 8, \"Delay_from_due_date\": 6, \"Credit_Score\": \"Standard\"}, {\"Num_of_Delayed_Payment\": 12, \"Delay_from_due_date\": 20, \"Credit_Score\": \"Good\"}, {\"Num_of_Delayed_Payment\": 11, \"Delay_from_due_date\": 25, \"Credit_Score\": \"Standard\"}, {\"Num_of_Delayed_Payment\": 17, \"Delay_from_due_date\": 27, \"Credit_Score\": \"Standard\"}, {\"Num_of_Delayed_Payment\": 19, \"Delay_from_due_date\": 10, \"Credit_Score\": \"Good\"}, {\"Num_of_Delayed_Payment\": 18, \"Delay_from_due_date\": 19, \"Credit_Score\": \"Poor\"}, {\"Num_of_Delayed_Payment\": 19, \"Delay_from_due_date\": 12, \"Credit_Score\": \"Standard\"}, {\"Num_of_Delayed_Payment\": 19, \"Delay_from_due_date\": 21, \"Credit_Score\": \"Poor\"}, {\"Num_of_Delayed_Payment\": 13, \"Delay_from_due_date\": 17, \"Credit_Score\": \"Poor\"}, {\"Num_of_Delayed_Payment\": 11, \"Delay_from_due_date\": 4, \"Credit_Score\": \"Standard\"}, {\"Num_of_Delayed_Payment\": 17, \"Delay_from_due_date\": 6, \"Credit_Score\": \"Standard\"}, {\"Num_of_Delayed_Payment\": 13, \"Delay_from_due_date\": 18, \"Credit_Score\": \"Standard\"}, {\"Num_of_Delayed_Payment\": 19, \"Delay_from_due_date\": 19, \"Credit_Score\": \"Poor\"}, {\"Num_of_Delayed_Payment\": 16, \"Delay_from_due_date\": 19, \"Credit_Score\": \"Standard\"}, {\"Num_of_Delayed_Payment\": 10, \"Delay_from_due_date\": 6, \"Credit_Score\": \"Standard\"}, {\"Num_of_Delayed_Payment\": 21, \"Delay_from_due_date\": 40, \"Credit_Score\": \"Standard\"}, {\"Num_of_Delayed_Payment\": 20, \"Delay_from_due_date\": 16, \"Credit_Score\": \"Standard\"}, {\"Num_of_Delayed_Payment\": 1, \"Delay_from_due_date\": 7, \"Credit_Score\": \"Standard\"}, {\"Num_of_Delayed_Payment\": 10, \"Delay_from_due_date\": 13, \"Credit_Score\": \"Standard\"}, {\"Num_of_Delayed_Payment\": 13, \"Delay_from_due_date\": 12, \"Credit_Score\": \"Poor\"}, {\"Num_of_Delayed_Payment\": 9, \"Delay_from_due_date\": 10, \"Credit_Score\": \"Good\"}, {\"Num_of_Delayed_Payment\": 24, \"Delay_from_due_date\": 22, \"Credit_Score\": \"Poor\"}, {\"Num_of_Delayed_Payment\": 2, \"Delay_from_due_date\": 8, \"Credit_Score\": \"Standard\"}, {\"Num_of_Delayed_Payment\": 20, \"Delay_from_due_date\": 21, \"Credit_Score\": \"Standard\"}, {\"Num_of_Delayed_Payment\": 9, \"Delay_from_due_date\": 30, \"Credit_Score\": \"Standard\"}, {\"Num_of_Delayed_Payment\": 14, \"Delay_from_due_date\": 6, \"Credit_Score\": \"Standard\"}, {\"Num_of_Delayed_Payment\": 17, \"Delay_from_due_date\": 32, \"Credit_Score\": \"Standard\"}, {\"Num_of_Delayed_Payment\": 26, \"Delay_from_due_date\": 35, \"Credit_Score\": \"Poor\"}, {\"Num_of_Delayed_Payment\": 15, \"Delay_from_due_date\": 24, \"Credit_Score\": \"Standard\"}, {\"Num_of_Delayed_Payment\": 15, \"Delay_from_due_date\": 10, \"Credit_Score\": \"Standard\"}, {\"Num_of_Delayed_Payment\": 15, \"Delay_from_due_date\": 23, \"Credit_Score\": \"Good\"}, {\"Num_of_Delayed_Payment\": 1, \"Delay_from_due_date\": 14, \"Credit_Score\": \"Standard\"}, {\"Num_of_Delayed_Payment\": 16, \"Delay_from_due_date\": 15, \"Credit_Score\": \"Standard\"}, {\"Num_of_Delayed_Payment\": 17, \"Delay_from_due_date\": 26, \"Credit_Score\": \"Poor\"}, {\"Num_of_Delayed_Payment\": 3, \"Delay_from_due_date\": 8, \"Credit_Score\": \"Good\"}, {\"Num_of_Delayed_Payment\": 17, \"Delay_from_due_date\": 25, \"Credit_Score\": \"Standard\"}, {\"Num_of_Delayed_Payment\": 8, \"Delay_from_due_date\": 31, \"Credit_Score\": \"Standard\"}, {\"Num_of_Delayed_Payment\": 13, \"Delay_from_due_date\": 6, \"Credit_Score\": \"Standard\"}, {\"Num_of_Delayed_Payment\": 9, \"Delay_from_due_date\": 25, \"Credit_Score\": \"Standard\"}, {\"Num_of_Delayed_Payment\": 8, \"Delay_from_due_date\": 3, \"Credit_Score\": \"Good\"}, {\"Num_of_Delayed_Payment\": 20, \"Delay_from_due_date\": 15, \"Credit_Score\": \"Standard\"}, {\"Num_of_Delayed_Payment\": 24, \"Delay_from_due_date\": 38, \"Credit_Score\": \"Standard\"}, {\"Num_of_Delayed_Payment\": 11, \"Delay_from_due_date\": 6, \"Credit_Score\": \"Standard\"}, {\"Num_of_Delayed_Payment\": 17, \"Delay_from_due_date\": 20, \"Credit_Score\": \"Standard\"}, {\"Num_of_Delayed_Payment\": 19, \"Delay_from_due_date\": 6, \"Credit_Score\": \"Standard\"}, {\"Num_of_Delayed_Payment\": 12, \"Delay_from_due_date\": 16, \"Credit_Score\": \"Standard\"}, {\"Num_of_Delayed_Payment\": 0, \"Delay_from_due_date\": 0, \"Credit_Score\": \"Good\"}, {\"Num_of_Delayed_Payment\": 7, \"Delay_from_due_date\": 11, \"Credit_Score\": \"Standard\"}, {\"Num_of_Delayed_Payment\": 25, \"Delay_from_due_date\": 41, \"Credit_Score\": \"Poor\"}, {\"Num_of_Delayed_Payment\": 7, \"Delay_from_due_date\": 5, \"Credit_Score\": \"Good\"}, {\"Num_of_Delayed_Payment\": 9, \"Delay_from_due_date\": 33, \"Credit_Score\": \"Standard\"}, {\"Num_of_Delayed_Payment\": 7, \"Delay_from_due_date\": 5, \"Credit_Score\": \"Good\"}, {\"Num_of_Delayed_Payment\": 5, \"Delay_from_due_date\": 10, \"Credit_Score\": \"Good\"}, {\"Num_of_Delayed_Payment\": 7, \"Delay_from_due_date\": 9, \"Credit_Score\": \"Standard\"}, {\"Num_of_Delayed_Payment\": 19, \"Delay_from_due_date\": 24, \"Credit_Score\": \"Poor\"}, {\"Num_of_Delayed_Payment\": 18, \"Delay_from_due_date\": 6, \"Credit_Score\": \"Standard\"}, {\"Num_of_Delayed_Payment\": 15, \"Delay_from_due_date\": 42, \"Credit_Score\": \"Standard\"}, {\"Num_of_Delayed_Payment\": 13, \"Delay_from_due_date\": 24, \"Credit_Score\": \"Standard\"}, {\"Num_of_Delayed_Payment\": 10, \"Delay_from_due_date\": 6, \"Credit_Score\": \"Good\"}, {\"Num_of_Delayed_Payment\": 7, \"Delay_from_due_date\": 25, \"Credit_Score\": \"Good\"}, {\"Num_of_Delayed_Payment\": 8, \"Delay_from_due_date\": 10, \"Credit_Score\": \"Standard\"}, {\"Num_of_Delayed_Payment\": 18, \"Delay_from_due_date\": 49, \"Credit_Score\": \"Standard\"}, {\"Num_of_Delayed_Payment\": 8, \"Delay_from_due_date\": 11, \"Credit_Score\": \"Good\"}, {\"Num_of_Delayed_Payment\": 16, \"Delay_from_due_date\": 34, \"Credit_Score\": \"Standard\"}, {\"Num_of_Delayed_Payment\": 22, \"Delay_from_due_date\": 34, \"Credit_Score\": \"Poor\"}, {\"Num_of_Delayed_Payment\": 9, \"Delay_from_due_date\": 26, \"Credit_Score\": \"Standard\"}, {\"Num_of_Delayed_Payment\": 12, \"Delay_from_due_date\": 8, \"Credit_Score\": \"Poor\"}, {\"Num_of_Delayed_Payment\": 9, \"Delay_from_due_date\": 30, \"Credit_Score\": \"Standard\"}, {\"Num_of_Delayed_Payment\": 19, \"Delay_from_due_date\": 25, \"Credit_Score\": \"Standard\"}, {\"Num_of_Delayed_Payment\": 10, \"Delay_from_due_date\": 11, \"Credit_Score\": \"Standard\"}, {\"Num_of_Delayed_Payment\": 10, \"Delay_from_due_date\": 29, \"Credit_Score\": \"Poor\"}, {\"Num_of_Delayed_Payment\": 3, \"Delay_from_due_date\": 9, \"Credit_Score\": \"Good\"}, {\"Num_of_Delayed_Payment\": 19, \"Delay_from_due_date\": 13, \"Credit_Score\": \"Good\"}, {\"Num_of_Delayed_Payment\": 20, \"Delay_from_due_date\": 19, \"Credit_Score\": \"Poor\"}, {\"Num_of_Delayed_Payment\": 19, \"Delay_from_due_date\": 24, \"Credit_Score\": \"Standard\"}, {\"Num_of_Delayed_Payment\": 2, \"Delay_from_due_date\": 5, \"Credit_Score\": \"Standard\"}, {\"Num_of_Delayed_Payment\": 8, \"Delay_from_due_date\": 2, \"Credit_Score\": \"Standard\"}, {\"Num_of_Delayed_Payment\": 10, \"Delay_from_due_date\": 15, \"Credit_Score\": \"Standard\"}, {\"Num_of_Delayed_Payment\": 17, \"Delay_from_due_date\": 25, \"Credit_Score\": \"Standard\"}, {\"Num_of_Delayed_Payment\": 10, \"Delay_from_due_date\": 14, \"Credit_Score\": \"Poor\"}, {\"Num_of_Delayed_Payment\": 8, \"Delay_from_due_date\": 16, \"Credit_Score\": \"Poor\"}, {\"Num_of_Delayed_Payment\": 16, \"Delay_from_due_date\": 27, \"Credit_Score\": \"Standard\"}, {\"Num_of_Delayed_Payment\": 17, \"Delay_from_due_date\": 37, \"Credit_Score\": \"Standard\"}, {\"Num_of_Delayed_Payment\": 18, \"Delay_from_due_date\": 27, \"Credit_Score\": \"Poor\"}, {\"Num_of_Delayed_Payment\": 9, \"Delay_from_due_date\": 1, \"Credit_Score\": \"Good\"}, {\"Num_of_Delayed_Payment\": 8, \"Delay_from_due_date\": 15, \"Credit_Score\": \"Standard\"}, {\"Num_of_Delayed_Payment\": 10, \"Delay_from_due_date\": 11, \"Credit_Score\": \"Standard\"}, {\"Num_of_Delayed_Payment\": 1, \"Delay_from_due_date\": 13, \"Credit_Score\": \"Standard\"}, {\"Num_of_Delayed_Payment\": 16, \"Delay_from_due_date\": 19, \"Credit_Score\": \"Standard\"}, {\"Num_of_Delayed_Payment\": 10, \"Delay_from_due_date\": 15, \"Credit_Score\": \"Good\"}, {\"Num_of_Delayed_Payment\": 13, \"Delay_from_due_date\": 27, \"Credit_Score\": \"Standard\"}, {\"Num_of_Delayed_Payment\": 12, \"Delay_from_due_date\": 23, \"Credit_Score\": \"Poor\"}, {\"Num_of_Delayed_Payment\": 12, \"Delay_from_due_date\": 28, \"Credit_Score\": \"Poor\"}, {\"Num_of_Delayed_Payment\": 3, \"Delay_from_due_date\": 0, \"Credit_Score\": \"Good\"}, {\"Num_of_Delayed_Payment\": 10, \"Delay_from_due_date\": 7, \"Credit_Score\": \"Standard\"}, {\"Num_of_Delayed_Payment\": 12, \"Delay_from_due_date\": 15, \"Credit_Score\": \"Standard\"}, {\"Num_of_Delayed_Payment\": 9, \"Delay_from_due_date\": 25, \"Credit_Score\": \"Standard\"}, {\"Num_of_Delayed_Payment\": 13, \"Delay_from_due_date\": 22, \"Credit_Score\": \"Poor\"}, {\"Num_of_Delayed_Payment\": 12, \"Delay_from_due_date\": 16, \"Credit_Score\": \"Poor\"}, {\"Num_of_Delayed_Payment\": 14, \"Delay_from_due_date\": 23, \"Credit_Score\": \"Standard\"}, {\"Num_of_Delayed_Payment\": 17, \"Delay_from_due_date\": 11, \"Credit_Score\": \"Standard\"}, {\"Num_of_Delayed_Payment\": 5, \"Delay_from_due_date\": 11, \"Credit_Score\": \"Poor\"}, {\"Num_of_Delayed_Payment\": 1, \"Delay_from_due_date\": 4, \"Credit_Score\": \"Good\"}, {\"Num_of_Delayed_Payment\": 5, \"Delay_from_due_date\": 3, \"Credit_Score\": \"Standard\"}, {\"Num_of_Delayed_Payment\": 6, \"Delay_from_due_date\": 2, \"Credit_Score\": \"Good\"}, {\"Num_of_Delayed_Payment\": 5, \"Delay_from_due_date\": 11, \"Credit_Score\": \"Standard\"}, {\"Num_of_Delayed_Payment\": 4, \"Delay_from_due_date\": 1, \"Credit_Score\": \"Good\"}, {\"Num_of_Delayed_Payment\": 15, \"Delay_from_due_date\": 27, \"Credit_Score\": \"Standard\"}, {\"Num_of_Delayed_Payment\": 10, \"Delay_from_due_date\": 15, \"Credit_Score\": \"Good\"}, {\"Num_of_Delayed_Payment\": 23, \"Delay_from_due_date\": 26, \"Credit_Score\": \"Poor\"}, {\"Num_of_Delayed_Payment\": 16, \"Delay_from_due_date\": 11, \"Credit_Score\": \"Standard\"}, {\"Num_of_Delayed_Payment\": 13, \"Delay_from_due_date\": 4, \"Credit_Score\": \"Good\"}, {\"Num_of_Delayed_Payment\": 20, \"Delay_from_due_date\": 25, \"Credit_Score\": \"Good\"}, {\"Num_of_Delayed_Payment\": 0, \"Delay_from_due_date\": 10, \"Credit_Score\": \"Good\"}, {\"Num_of_Delayed_Payment\": 19, \"Delay_from_due_date\": 30, \"Credit_Score\": \"Poor\"}, {\"Num_of_Delayed_Payment\": 10, \"Delay_from_due_date\": 4, \"Credit_Score\": \"Good\"}, {\"Num_of_Delayed_Payment\": 6, \"Delay_from_due_date\": 29, \"Credit_Score\": \"Poor\"}, {\"Num_of_Delayed_Payment\": 9, \"Delay_from_due_date\": 17, \"Credit_Score\": \"Poor\"}, {\"Num_of_Delayed_Payment\": 5, \"Delay_from_due_date\": 26, \"Credit_Score\": \"Standard\"}, {\"Num_of_Delayed_Payment\": 9, \"Delay_from_due_date\": 16, \"Credit_Score\": \"Poor\"}, {\"Num_of_Delayed_Payment\": 6, \"Delay_from_due_date\": 10, \"Credit_Score\": \"Standard\"}, {\"Num_of_Delayed_Payment\": 20, \"Delay_from_due_date\": 26, \"Credit_Score\": \"Standard\"}, {\"Num_of_Delayed_Payment\": 2, \"Delay_from_due_date\": 7, \"Credit_Score\": \"Standard\"}, {\"Num_of_Delayed_Payment\": 9, \"Delay_from_due_date\": 29, \"Credit_Score\": \"Standard\"}, {\"Num_of_Delayed_Payment\": 15, \"Delay_from_due_date\": 7, \"Credit_Score\": \"Standard\"}, {\"Num_of_Delayed_Payment\": 11, \"Delay_from_due_date\": 17, \"Credit_Score\": \"Standard\"}, {\"Num_of_Delayed_Payment\": 17, \"Delay_from_due_date\": 7, \"Credit_Score\": \"Standard\"}, {\"Num_of_Delayed_Payment\": 15, \"Delay_from_due_date\": 15, \"Credit_Score\": \"Standard\"}, {\"Num_of_Delayed_Payment\": 0, \"Delay_from_due_date\": 4, \"Credit_Score\": \"Standard\"}, {\"Num_of_Delayed_Payment\": 11, \"Delay_from_due_date\": 18, \"Credit_Score\": \"Standard\"}, {\"Num_of_Delayed_Payment\": 24, \"Delay_from_due_date\": 12, \"Credit_Score\": \"Poor\"}, {\"Num_of_Delayed_Payment\": 12, \"Delay_from_due_date\": 24, \"Credit_Score\": \"Standard\"}, {\"Num_of_Delayed_Payment\": 15, \"Delay_from_due_date\": 15, \"Credit_Score\": \"Good\"}, {\"Num_of_Delayed_Payment\": 15, \"Delay_from_due_date\": 7, \"Credit_Score\": \"Standard\"}, {\"Num_of_Delayed_Payment\": 0, \"Delay_from_due_date\": 6, \"Credit_Score\": \"Good\"}, {\"Num_of_Delayed_Payment\": 18, \"Delay_from_due_date\": 22, \"Credit_Score\": \"Standard\"}, {\"Num_of_Delayed_Payment\": 17, \"Delay_from_due_date\": 21, \"Credit_Score\": \"Standard\"}, {\"Num_of_Delayed_Payment\": 10, \"Delay_from_due_date\": 8, \"Credit_Score\": \"Standard\"}, {\"Num_of_Delayed_Payment\": 19, \"Delay_from_due_date\": 24, \"Credit_Score\": \"Standard\"}, {\"Num_of_Delayed_Payment\": 9, \"Delay_from_due_date\": 20, \"Credit_Score\": \"Standard\"}, {\"Num_of_Delayed_Payment\": 18, \"Delay_from_due_date\": 16, \"Credit_Score\": \"Standard\"}, {\"Num_of_Delayed_Payment\": 8, \"Delay_from_due_date\": 23, \"Credit_Score\": \"Standard\"}, {\"Num_of_Delayed_Payment\": 22, \"Delay_from_due_date\": 16, \"Credit_Score\": \"Poor\"}, {\"Num_of_Delayed_Payment\": 22, \"Delay_from_due_date\": 28, \"Credit_Score\": \"Poor\"}, {\"Num_of_Delayed_Payment\": 14, \"Delay_from_due_date\": 16, \"Credit_Score\": \"Standard\"}, {\"Num_of_Delayed_Payment\": 17, \"Delay_from_due_date\": 26, \"Credit_Score\": \"Standard\"}, {\"Num_of_Delayed_Payment\": 10, \"Delay_from_due_date\": 5, \"Credit_Score\": \"Standard\"}, {\"Num_of_Delayed_Payment\": 20, \"Delay_from_due_date\": 24, \"Credit_Score\": \"Standard\"}, {\"Num_of_Delayed_Payment\": 5, \"Delay_from_due_date\": 12, \"Credit_Score\": \"Good\"}, {\"Num_of_Delayed_Payment\": 8, \"Delay_from_due_date\": 9, \"Credit_Score\": \"Good\"}, {\"Num_of_Delayed_Payment\": 1, \"Delay_from_due_date\": 10, \"Credit_Score\": \"Good\"}, {\"Num_of_Delayed_Payment\": 17, \"Delay_from_due_date\": 18, \"Credit_Score\": \"Poor\"}, {\"Num_of_Delayed_Payment\": 19, \"Delay_from_due_date\": 10, \"Credit_Score\": \"Standard\"}, {\"Num_of_Delayed_Payment\": 19, \"Delay_from_due_date\": 30, \"Credit_Score\": \"Standard\"}, {\"Num_of_Delayed_Payment\": 7, \"Delay_from_due_date\": 4, \"Credit_Score\": \"Good\"}, {\"Num_of_Delayed_Payment\": 11, \"Delay_from_due_date\": 26, \"Credit_Score\": \"Standard\"}, {\"Num_of_Delayed_Payment\": 21, \"Delay_from_due_date\": 36, \"Credit_Score\": \"Standard\"}, {\"Num_of_Delayed_Payment\": 10, \"Delay_from_due_date\": 3, \"Credit_Score\": \"Good\"}, {\"Num_of_Delayed_Payment\": 0, \"Delay_from_due_date\": 6, \"Credit_Score\": \"Good\"}, {\"Num_of_Delayed_Payment\": 20, \"Delay_from_due_date\": 27, \"Credit_Score\": \"Standard\"}, {\"Num_of_Delayed_Payment\": 11, \"Delay_from_due_date\": 0, \"Credit_Score\": \"Standard\"}, {\"Num_of_Delayed_Payment\": 10, \"Delay_from_due_date\": 47, \"Credit_Score\": \"Standard\"}, {\"Num_of_Delayed_Payment\": 11, \"Delay_from_due_date\": 11, \"Credit_Score\": \"Standard\"}, {\"Num_of_Delayed_Payment\": 18, \"Delay_from_due_date\": 39, \"Credit_Score\": \"Poor\"}, {\"Num_of_Delayed_Payment\": 2, \"Delay_from_due_date\": 4, \"Credit_Score\": \"Standard\"}, {\"Num_of_Delayed_Payment\": 18, \"Delay_from_due_date\": 17, \"Credit_Score\": \"Standard\"}, {\"Num_of_Delayed_Payment\": 14, \"Delay_from_due_date\": 31, \"Credit_Score\": \"Standard\"}, {\"Num_of_Delayed_Payment\": 24, \"Delay_from_due_date\": 50, \"Credit_Score\": \"Poor\"}, {\"Num_of_Delayed_Payment\": 4, \"Delay_from_due_date\": 6, \"Credit_Score\": \"Standard\"}, {\"Num_of_Delayed_Payment\": 27, \"Delay_from_due_date\": 27, \"Credit_Score\": \"Standard\"}, {\"Num_of_Delayed_Payment\": 13, \"Delay_from_due_date\": 17, \"Credit_Score\": \"Poor\"}, {\"Num_of_Delayed_Payment\": 2, \"Delay_from_due_date\": 4, \"Credit_Score\": \"Good\"}, {\"Num_of_Delayed_Payment\": 19, \"Delay_from_due_date\": 17, \"Credit_Score\": \"Standard\"}, {\"Num_of_Delayed_Payment\": 12, \"Delay_from_due_date\": 22, \"Credit_Score\": \"Standard\"}, {\"Num_of_Delayed_Payment\": 18, \"Delay_from_due_date\": 6, \"Credit_Score\": \"Standard\"}, {\"Num_of_Delayed_Payment\": 20, \"Delay_from_due_date\": 11, \"Credit_Score\": \"Standard\"}, {\"Num_of_Delayed_Payment\": 2, \"Delay_from_due_date\": 14, \"Credit_Score\": \"Standard\"}, {\"Num_of_Delayed_Payment\": 6, \"Delay_from_due_date\": 15, \"Credit_Score\": \"Good\"}, {\"Num_of_Delayed_Payment\": 6, \"Delay_from_due_date\": 5, \"Credit_Score\": \"Good\"}, {\"Num_of_Delayed_Payment\": 25, \"Delay_from_due_date\": 16, \"Credit_Score\": \"Good\"}, {\"Num_of_Delayed_Payment\": 19, \"Delay_from_due_date\": 30, \"Credit_Score\": \"Good\"}, {\"Num_of_Delayed_Payment\": 5, \"Delay_from_due_date\": 5, \"Credit_Score\": \"Good\"}, {\"Num_of_Delayed_Payment\": 22, \"Delay_from_due_date\": 16, \"Credit_Score\": \"Standard\"}, {\"Num_of_Delayed_Payment\": 2, \"Delay_from_due_date\": -1, \"Credit_Score\": \"Good\"}, {\"Num_of_Delayed_Payment\": 5, \"Delay_from_due_date\": 3, \"Credit_Score\": \"Good\"}, {\"Num_of_Delayed_Payment\": 12, \"Delay_from_due_date\": 15, \"Credit_Score\": \"Good\"}, {\"Num_of_Delayed_Payment\": 9, \"Delay_from_due_date\": 25, \"Credit_Score\": \"Poor\"}, {\"Num_of_Delayed_Payment\": 17, \"Delay_from_due_date\": 27, \"Credit_Score\": \"Poor\"}, {\"Num_of_Delayed_Payment\": 16, \"Delay_from_due_date\": 6, \"Credit_Score\": \"Standard\"}, {\"Num_of_Delayed_Payment\": 20, \"Delay_from_due_date\": 28, \"Credit_Score\": \"Standard\"}, {\"Num_of_Delayed_Payment\": 11, \"Delay_from_due_date\": 24, \"Credit_Score\": \"Poor\"}, {\"Num_of_Delayed_Payment\": 16, \"Delay_from_due_date\": 12, \"Credit_Score\": \"Standard\"}, {\"Num_of_Delayed_Payment\": 8, \"Delay_from_due_date\": 18, \"Credit_Score\": \"Standard\"}, {\"Num_of_Delayed_Payment\": 2, \"Delay_from_due_date\": 0, \"Credit_Score\": \"Standard\"}, {\"Num_of_Delayed_Payment\": 20, \"Delay_from_due_date\": 16, \"Credit_Score\": \"Standard\"}, {\"Num_of_Delayed_Payment\": 2, \"Delay_from_due_date\": 8, \"Credit_Score\": \"Poor\"}, {\"Num_of_Delayed_Payment\": 14, \"Delay_from_due_date\": 12, \"Credit_Score\": \"Poor\"}, {\"Num_of_Delayed_Payment\": 5, \"Delay_from_due_date\": 15, \"Credit_Score\": \"Poor\"}, {\"Num_of_Delayed_Payment\": 9, \"Delay_from_due_date\": 5, \"Credit_Score\": \"Standard\"}, {\"Num_of_Delayed_Payment\": 18, \"Delay_from_due_date\": 25, \"Credit_Score\": \"Standard\"}, {\"Num_of_Delayed_Payment\": 16, \"Delay_from_due_date\": 23, \"Credit_Score\": \"Poor\"}, {\"Num_of_Delayed_Payment\": 18, \"Delay_from_due_date\": 21, \"Credit_Score\": \"Poor\"}, {\"Num_of_Delayed_Payment\": 10, \"Delay_from_due_date\": 6, \"Credit_Score\": \"Standard\"}, {\"Num_of_Delayed_Payment\": 24, \"Delay_from_due_date\": 50, \"Credit_Score\": \"Poor\"}, {\"Num_of_Delayed_Payment\": 10, \"Delay_from_due_date\": 11, \"Credit_Score\": \"Poor\"}, {\"Num_of_Delayed_Payment\": 21, \"Delay_from_due_date\": 34, \"Credit_Score\": \"Standard\"}, {\"Num_of_Delayed_Payment\": 1, \"Delay_from_due_date\": 15, \"Credit_Score\": \"Good\"}, {\"Num_of_Delayed_Payment\": 20, \"Delay_from_due_date\": 48, \"Credit_Score\": \"Poor\"}, {\"Num_of_Delayed_Payment\": 21, \"Delay_from_due_date\": 42, \"Credit_Score\": \"Standard\"}, {\"Num_of_Delayed_Payment\": 18, \"Delay_from_due_date\": 47, \"Credit_Score\": \"Poor\"}, {\"Num_of_Delayed_Payment\": 9, \"Delay_from_due_date\": 10, \"Credit_Score\": \"Poor\"}, {\"Num_of_Delayed_Payment\": 16, \"Delay_from_due_date\": 26, \"Credit_Score\": \"Standard\"}, {\"Num_of_Delayed_Payment\": 17, \"Delay_from_due_date\": 23, \"Credit_Score\": \"Standard\"}, {\"Num_of_Delayed_Payment\": 10, \"Delay_from_due_date\": 14, \"Credit_Score\": \"Standard\"}, {\"Num_of_Delayed_Payment\": 17, \"Delay_from_due_date\": 20, \"Credit_Score\": \"Standard\"}, {\"Num_of_Delayed_Payment\": 22, \"Delay_from_due_date\": 24, \"Credit_Score\": \"Poor\"}, {\"Num_of_Delayed_Payment\": 10, \"Delay_from_due_date\": 5, \"Credit_Score\": \"Standard\"}, {\"Num_of_Delayed_Payment\": 19, \"Delay_from_due_date\": 5, \"Credit_Score\": \"Standard\"}, {\"Num_of_Delayed_Payment\": 12, \"Delay_from_due_date\": 5, \"Credit_Score\": \"Good\"}, {\"Num_of_Delayed_Payment\": 9, \"Delay_from_due_date\": 1, \"Credit_Score\": \"Standard\"}, {\"Num_of_Delayed_Payment\": 8, \"Delay_from_due_date\": 27, \"Credit_Score\": \"Poor\"}, {\"Num_of_Delayed_Payment\": 8, \"Delay_from_due_date\": 8, \"Credit_Score\": \"Standard\"}, {\"Num_of_Delayed_Payment\": 9, \"Delay_from_due_date\": 8, \"Credit_Score\": \"Standard\"}, {\"Num_of_Delayed_Payment\": 4, \"Delay_from_due_date\": 2, \"Credit_Score\": \"Good\"}, {\"Num_of_Delayed_Payment\": 16, \"Delay_from_due_date\": 12, \"Credit_Score\": \"Good\"}, {\"Num_of_Delayed_Payment\": 15, \"Delay_from_due_date\": 13, \"Credit_Score\": \"Good\"}, {\"Num_of_Delayed_Payment\": 7, \"Delay_from_due_date\": 2, \"Credit_Score\": \"Good\"}, {\"Num_of_Delayed_Payment\": 18, \"Delay_from_due_date\": 21, \"Credit_Score\": \"Standard\"}, {\"Num_of_Delayed_Payment\": 10, \"Delay_from_due_date\": 7, \"Credit_Score\": \"Standard\"}, {\"Num_of_Delayed_Payment\": 13, \"Delay_from_due_date\": 15, \"Credit_Score\": \"Standard\"}, {\"Num_of_Delayed_Payment\": 1, \"Delay_from_due_date\": 9, \"Credit_Score\": \"Standard\"}, {\"Num_of_Delayed_Payment\": 16, \"Delay_from_due_date\": 13, \"Credit_Score\": \"Standard\"}, {\"Num_of_Delayed_Payment\": 10, \"Delay_from_due_date\": 28, \"Credit_Score\": \"Good\"}, {\"Num_of_Delayed_Payment\": 12, \"Delay_from_due_date\": 13, \"Credit_Score\": \"Poor\"}, {\"Num_of_Delayed_Payment\": 2, \"Delay_from_due_date\": 14, \"Credit_Score\": \"Standard\"}, {\"Num_of_Delayed_Payment\": 0, \"Delay_from_due_date\": 9, \"Credit_Score\": \"Good\"}, {\"Num_of_Delayed_Payment\": 22, \"Delay_from_due_date\": 47, \"Credit_Score\": \"Poor\"}, {\"Num_of_Delayed_Payment\": 17, \"Delay_from_due_date\": 25, \"Credit_Score\": \"Poor\"}, {\"Num_of_Delayed_Payment\": 16, \"Delay_from_due_date\": 10, \"Credit_Score\": \"Good\"}, {\"Num_of_Delayed_Payment\": 8, \"Delay_from_due_date\": 8, \"Credit_Score\": \"Standard\"}, {\"Num_of_Delayed_Payment\": 21, \"Delay_from_due_date\": 18, \"Credit_Score\": \"Poor\"}, {\"Num_of_Delayed_Payment\": 11, \"Delay_from_due_date\": 9, \"Credit_Score\": \"Good\"}, {\"Num_of_Delayed_Payment\": 19, \"Delay_from_due_date\": 19, \"Credit_Score\": \"Poor\"}, {\"Num_of_Delayed_Payment\": 16, \"Delay_from_due_date\": 28, \"Credit_Score\": \"Poor\"}, {\"Num_of_Delayed_Payment\": 10, \"Delay_from_due_date\": 19, \"Credit_Score\": \"Standard\"}, {\"Num_of_Delayed_Payment\": 9, \"Delay_from_due_date\": 14, \"Credit_Score\": \"Poor\"}, {\"Num_of_Delayed_Payment\": 15, \"Delay_from_due_date\": 25, \"Credit_Score\": \"Good\"}, {\"Num_of_Delayed_Payment\": 4, \"Delay_from_due_date\": 15, \"Credit_Score\": \"Good\"}, {\"Num_of_Delayed_Payment\": 20, \"Delay_from_due_date\": 24, \"Credit_Score\": \"Standard\"}, {\"Num_of_Delayed_Payment\": 12, \"Delay_from_due_date\": 15, \"Credit_Score\": \"Good\"}, {\"Num_of_Delayed_Payment\": 8, \"Delay_from_due_date\": 49, \"Credit_Score\": \"Poor\"}, {\"Num_of_Delayed_Payment\": 0, \"Delay_from_due_date\": 5, \"Credit_Score\": \"Standard\"}, {\"Num_of_Delayed_Payment\": 8, \"Delay_from_due_date\": 8, \"Credit_Score\": \"Standard\"}, {\"Num_of_Delayed_Payment\": 8, \"Delay_from_due_date\": 7, \"Credit_Score\": \"Poor\"}, {\"Num_of_Delayed_Payment\": 12, \"Delay_from_due_date\": 19, \"Credit_Score\": \"Standard\"}, {\"Num_of_Delayed_Payment\": 18, \"Delay_from_due_date\": 49, \"Credit_Score\": \"Standard\"}, {\"Num_of_Delayed_Payment\": 17, \"Delay_from_due_date\": 9, \"Credit_Score\": \"Standard\"}, {\"Num_of_Delayed_Payment\": 15, \"Delay_from_due_date\": 16, \"Credit_Score\": \"Good\"}, {\"Num_of_Delayed_Payment\": 8, \"Delay_from_due_date\": -1, \"Credit_Score\": \"Standard\"}, {\"Num_of_Delayed_Payment\": 6, \"Delay_from_due_date\": 9, \"Credit_Score\": \"Standard\"}, {\"Num_of_Delayed_Payment\": 15, \"Delay_from_due_date\": 20, \"Credit_Score\": \"Standard\"}, {\"Num_of_Delayed_Payment\": 11, \"Delay_from_due_date\": 11, \"Credit_Score\": \"Standard\"}, {\"Num_of_Delayed_Payment\": 15, \"Delay_from_due_date\": 7, \"Credit_Score\": \"Standard\"}, {\"Num_of_Delayed_Payment\": 11, \"Delay_from_due_date\": 15, \"Credit_Score\": \"Standard\"}, {\"Num_of_Delayed_Payment\": 11, \"Delay_from_due_date\": 10, \"Credit_Score\": \"Standard\"}, {\"Num_of_Delayed_Payment\": 14, \"Delay_from_due_date\": 22, \"Credit_Score\": \"Poor\"}, {\"Num_of_Delayed_Payment\": 9, \"Delay_from_due_date\": 5, \"Credit_Score\": \"Standard\"}, {\"Num_of_Delayed_Payment\": 10, \"Delay_from_due_date\": 27, \"Credit_Score\": \"Standard\"}, {\"Num_of_Delayed_Payment\": 21, \"Delay_from_due_date\": 37, \"Credit_Score\": \"Poor\"}, {\"Num_of_Delayed_Payment\": 3, \"Delay_from_due_date\": 10, \"Credit_Score\": \"Good\"}, {\"Num_of_Delayed_Payment\": 17, \"Delay_from_due_date\": 7, \"Credit_Score\": \"Standard\"}, {\"Num_of_Delayed_Payment\": 12, \"Delay_from_due_date\": 10, \"Credit_Score\": \"Standard\"}, {\"Num_of_Delayed_Payment\": 12, \"Delay_from_due_date\": 5, \"Credit_Score\": \"Good\"}, {\"Num_of_Delayed_Payment\": 19, \"Delay_from_due_date\": 8, \"Credit_Score\": \"Standard\"}, {\"Num_of_Delayed_Payment\": 7, \"Delay_from_due_date\": 10, \"Credit_Score\": \"Standard\"}, {\"Num_of_Delayed_Payment\": 12, \"Delay_from_due_date\": 15, \"Credit_Score\": \"Good\"}, {\"Num_of_Delayed_Payment\": 10, \"Delay_from_due_date\": 17, \"Credit_Score\": \"Standard\"}, {\"Num_of_Delayed_Payment\": 8, \"Delay_from_due_date\": 29, \"Credit_Score\": \"Standard\"}, {\"Num_of_Delayed_Payment\": 19, \"Delay_from_due_date\": 24, \"Credit_Score\": \"Standard\"}, {\"Num_of_Delayed_Payment\": 12, \"Delay_from_due_date\": 9, \"Credit_Score\": \"Standard\"}, {\"Num_of_Delayed_Payment\": 10, \"Delay_from_due_date\": 25, \"Credit_Score\": \"Standard\"}, {\"Num_of_Delayed_Payment\": 18, \"Delay_from_due_date\": 10, \"Credit_Score\": \"Poor\"}, {\"Num_of_Delayed_Payment\": 15, \"Delay_from_due_date\": 17, \"Credit_Score\": \"Standard\"}, {\"Num_of_Delayed_Payment\": 14, \"Delay_from_due_date\": 15, \"Credit_Score\": \"Poor\"}, {\"Num_of_Delayed_Payment\": 8, \"Delay_from_due_date\": 14, \"Credit_Score\": \"Good\"}, {\"Num_of_Delayed_Payment\": 7, \"Delay_from_due_date\": 18, \"Credit_Score\": \"Standard\"}, {\"Num_of_Delayed_Payment\": 8, \"Delay_from_due_date\": 26, \"Credit_Score\": \"Poor\"}, {\"Num_of_Delayed_Payment\": 12, \"Delay_from_due_date\": 10, \"Credit_Score\": \"Standard\"}, {\"Num_of_Delayed_Payment\": 22, \"Delay_from_due_date\": 33, \"Credit_Score\": \"Poor\"}, {\"Num_of_Delayed_Payment\": 10, \"Delay_from_due_date\": 12, \"Credit_Score\": \"Good\"}, {\"Num_of_Delayed_Payment\": 20, \"Delay_from_due_date\": 15, \"Credit_Score\": \"Poor\"}, {\"Num_of_Delayed_Payment\": 13, \"Delay_from_due_date\": 22, \"Credit_Score\": \"Standard\"}, {\"Num_of_Delayed_Payment\": 0, \"Delay_from_due_date\": 1, \"Credit_Score\": \"Standard\"}, {\"Num_of_Delayed_Payment\": 8, \"Delay_from_due_date\": 0, \"Credit_Score\": \"Standard\"}, {\"Num_of_Delayed_Payment\": 15, \"Delay_from_due_date\": 6, \"Credit_Score\": \"Standard\"}, {\"Num_of_Delayed_Payment\": 21, \"Delay_from_due_date\": 24, \"Credit_Score\": \"Poor\"}, {\"Num_of_Delayed_Payment\": 3, \"Delay_from_due_date\": 11, \"Credit_Score\": \"Good\"}, {\"Num_of_Delayed_Payment\": 11, \"Delay_from_due_date\": 15, \"Credit_Score\": \"Standard\"}, {\"Num_of_Delayed_Payment\": 18, \"Delay_from_due_date\": 26, \"Credit_Score\": \"Standard\"}, {\"Num_of_Delayed_Payment\": 14, \"Delay_from_due_date\": 15, \"Credit_Score\": \"Standard\"}, {\"Num_of_Delayed_Payment\": 22, \"Delay_from_due_date\": 19, \"Credit_Score\": \"Poor\"}, {\"Num_of_Delayed_Payment\": 10, \"Delay_from_due_date\": 16, \"Credit_Score\": \"Poor\"}, {\"Num_of_Delayed_Payment\": 26, \"Delay_from_due_date\": 23, \"Credit_Score\": \"Poor\"}, {\"Num_of_Delayed_Payment\": 18, \"Delay_from_due_date\": 8, \"Credit_Score\": \"Standard\"}, {\"Num_of_Delayed_Payment\": 19, \"Delay_from_due_date\": 13, \"Credit_Score\": \"Standard\"}, {\"Num_of_Delayed_Payment\": 25, \"Delay_from_due_date\": 32, \"Credit_Score\": \"Poor\"}, {\"Num_of_Delayed_Payment\": 20, \"Delay_from_due_date\": 23, \"Credit_Score\": \"Standard\"}, {\"Num_of_Delayed_Payment\": 13, \"Delay_from_due_date\": 10, \"Credit_Score\": \"Poor\"}, {\"Num_of_Delayed_Payment\": 0, \"Delay_from_due_date\": 15, \"Credit_Score\": \"Good\"}, {\"Num_of_Delayed_Payment\": 17, \"Delay_from_due_date\": 33, \"Credit_Score\": \"Standard\"}, {\"Num_of_Delayed_Payment\": 17, \"Delay_from_due_date\": 34, \"Credit_Score\": \"Standard\"}, {\"Num_of_Delayed_Payment\": 23, \"Delay_from_due_date\": 24, \"Credit_Score\": \"Poor\"}, {\"Num_of_Delayed_Payment\": 14, \"Delay_from_due_date\": 17, \"Credit_Score\": \"Poor\"}, {\"Num_of_Delayed_Payment\": 7, \"Delay_from_due_date\": 15, \"Credit_Score\": \"Good\"}, {\"Num_of_Delayed_Payment\": 12, \"Delay_from_due_date\": 22, \"Credit_Score\": \"Poor\"}, {\"Num_of_Delayed_Payment\": 18, \"Delay_from_due_date\": 13, \"Credit_Score\": \"Poor\"}, {\"Num_of_Delayed_Payment\": 19, \"Delay_from_due_date\": 13, \"Credit_Score\": \"Standard\"}, {\"Num_of_Delayed_Payment\": 23, \"Delay_from_due_date\": 42, \"Credit_Score\": \"Poor\"}, {\"Num_of_Delayed_Payment\": 20, \"Delay_from_due_date\": 17, \"Credit_Score\": \"Poor\"}, {\"Num_of_Delayed_Payment\": 14, \"Delay_from_due_date\": 27, \"Credit_Score\": \"Standard\"}, {\"Num_of_Delayed_Payment\": 12, \"Delay_from_due_date\": 11, \"Credit_Score\": \"Good\"}, {\"Num_of_Delayed_Payment\": 10, \"Delay_from_due_date\": 23, \"Credit_Score\": \"Standard\"}, {\"Num_of_Delayed_Payment\": 17, \"Delay_from_due_date\": 8, \"Credit_Score\": \"Good\"}, {\"Num_of_Delayed_Payment\": 16, \"Delay_from_due_date\": 17, \"Credit_Score\": \"Good\"}, {\"Num_of_Delayed_Payment\": 18, \"Delay_from_due_date\": 25, \"Credit_Score\": \"Standard\"}, {\"Num_of_Delayed_Payment\": 19, \"Delay_from_due_date\": 11, \"Credit_Score\": \"Standard\"}, {\"Num_of_Delayed_Payment\": 10, \"Delay_from_due_date\": 13, \"Credit_Score\": \"Standard\"}, {\"Num_of_Delayed_Payment\": 17, \"Delay_from_due_date\": 23, \"Credit_Score\": \"Poor\"}, {\"Num_of_Delayed_Payment\": 3, \"Delay_from_due_date\": 5, \"Credit_Score\": \"Good\"}, {\"Num_of_Delayed_Payment\": 11, \"Delay_from_due_date\": 17, \"Credit_Score\": \"Standard\"}, {\"Num_of_Delayed_Payment\": 17, \"Delay_from_due_date\": 25, \"Credit_Score\": \"Poor\"}, {\"Num_of_Delayed_Payment\": 14, \"Delay_from_due_date\": 24, \"Credit_Score\": \"Standard\"}, {\"Num_of_Delayed_Payment\": 8, \"Delay_from_due_date\": 11, \"Credit_Score\": \"Standard\"}, {\"Num_of_Delayed_Payment\": 20, \"Delay_from_due_date\": 6, \"Credit_Score\": \"Standard\"}, {\"Num_of_Delayed_Payment\": 9, \"Delay_from_due_date\": 18, \"Credit_Score\": \"Poor\"}, {\"Num_of_Delayed_Payment\": 8, \"Delay_from_due_date\": 2, \"Credit_Score\": \"Standard\"}, {\"Num_of_Delayed_Payment\": 25, \"Delay_from_due_date\": 27, \"Credit_Score\": \"Standard\"}, {\"Num_of_Delayed_Payment\": 19, \"Delay_from_due_date\": 21, \"Credit_Score\": \"Standard\"}, {\"Num_of_Delayed_Payment\": 22, \"Delay_from_due_date\": 26, \"Credit_Score\": \"Standard\"}, {\"Num_of_Delayed_Payment\": 5, \"Delay_from_due_date\": 15, \"Credit_Score\": \"Standard\"}, {\"Num_of_Delayed_Payment\": 14, \"Delay_from_due_date\": 25, \"Credit_Score\": \"Poor\"}, {\"Num_of_Delayed_Payment\": 18, \"Delay_from_due_date\": 11, \"Credit_Score\": \"Standard\"}, {\"Num_of_Delayed_Payment\": 17, \"Delay_from_due_date\": 17, \"Credit_Score\": \"Standard\"}, {\"Num_of_Delayed_Payment\": 20, \"Delay_from_due_date\": 14, \"Credit_Score\": \"Poor\"}, {\"Num_of_Delayed_Payment\": 12, \"Delay_from_due_date\": 6, \"Credit_Score\": \"Standard\"}, {\"Num_of_Delayed_Payment\": 12, \"Delay_from_due_date\": 9, \"Credit_Score\": \"Standard\"}, {\"Num_of_Delayed_Payment\": 8, \"Delay_from_due_date\": 19, \"Credit_Score\": \"Standard\"}, {\"Num_of_Delayed_Payment\": 18, \"Delay_from_due_date\": 25, \"Credit_Score\": \"Standard\"}, {\"Num_of_Delayed_Payment\": 10, \"Delay_from_due_date\": 17, \"Credit_Score\": \"Standard\"}, {\"Num_of_Delayed_Payment\": 7, \"Delay_from_due_date\": 30, \"Credit_Score\": \"Standard\"}, {\"Num_of_Delayed_Payment\": 19, \"Delay_from_due_date\": 24, \"Credit_Score\": \"Standard\"}, {\"Num_of_Delayed_Payment\": 24, \"Delay_from_due_date\": 22, \"Credit_Score\": \"Standard\"}, {\"Num_of_Delayed_Payment\": 8, \"Delay_from_due_date\": 8, \"Credit_Score\": \"Poor\"}, {\"Num_of_Delayed_Payment\": 5, \"Delay_from_due_date\": 2, \"Credit_Score\": \"Poor\"}, {\"Num_of_Delayed_Payment\": 9, \"Delay_from_due_date\": 33, \"Credit_Score\": \"Poor\"}, {\"Num_of_Delayed_Payment\": 20, \"Delay_from_due_date\": 22, \"Credit_Score\": \"Poor\"}, {\"Num_of_Delayed_Payment\": 11, \"Delay_from_due_date\": 11, \"Credit_Score\": \"Standard\"}, {\"Num_of_Delayed_Payment\": 16, \"Delay_from_due_date\": 15, \"Credit_Score\": \"Good\"}, {\"Num_of_Delayed_Payment\": 19, \"Delay_from_due_date\": 9, \"Credit_Score\": \"Standard\"}, {\"Num_of_Delayed_Payment\": 14, \"Delay_from_due_date\": 16, \"Credit_Score\": \"Standard\"}, {\"Num_of_Delayed_Payment\": 13, \"Delay_from_due_date\": 23, \"Credit_Score\": \"Poor\"}, {\"Num_of_Delayed_Payment\": 11, \"Delay_from_due_date\": 21, \"Credit_Score\": \"Good\"}, {\"Num_of_Delayed_Payment\": 11, \"Delay_from_due_date\": 11, \"Credit_Score\": \"Standard\"}, {\"Num_of_Delayed_Payment\": 9, \"Delay_from_due_date\": 18, \"Credit_Score\": \"Standard\"}, {\"Num_of_Delayed_Payment\": 20, \"Delay_from_due_date\": 4, \"Credit_Score\": \"Standard\"}, {\"Num_of_Delayed_Payment\": 18, \"Delay_from_due_date\": 17, \"Credit_Score\": \"Standard\"}, {\"Num_of_Delayed_Payment\": 16, \"Delay_from_due_date\": 3, \"Credit_Score\": \"Standard\"}, {\"Num_of_Delayed_Payment\": 19, \"Delay_from_due_date\": 24, \"Credit_Score\": \"Poor\"}, {\"Num_of_Delayed_Payment\": 8, \"Delay_from_due_date\": 16, \"Credit_Score\": \"Standard\"}, {\"Num_of_Delayed_Payment\": 7, \"Delay_from_due_date\": 18, \"Credit_Score\": \"Standard\"}, {\"Num_of_Delayed_Payment\": 18, \"Delay_from_due_date\": 29, \"Credit_Score\": \"Poor\"}, {\"Num_of_Delayed_Payment\": 16, \"Delay_from_due_date\": 31, \"Credit_Score\": \"Poor\"}, {\"Num_of_Delayed_Payment\": 12, \"Delay_from_due_date\": 21, \"Credit_Score\": \"Standard\"}, {\"Num_of_Delayed_Payment\": 11, \"Delay_from_due_date\": 3, \"Credit_Score\": \"Standard\"}, {\"Num_of_Delayed_Payment\": 6, \"Delay_from_due_date\": 22, \"Credit_Score\": \"Standard\"}, {\"Num_of_Delayed_Payment\": 11, \"Delay_from_due_date\": 12, \"Credit_Score\": \"Good\"}, {\"Num_of_Delayed_Payment\": 24, \"Delay_from_due_date\": 38, \"Credit_Score\": \"Poor\"}, {\"Num_of_Delayed_Payment\": 21, \"Delay_from_due_date\": 17, \"Credit_Score\": \"Standard\"}, {\"Num_of_Delayed_Payment\": 11, \"Delay_from_due_date\": 19, \"Credit_Score\": \"Standard\"}, {\"Num_of_Delayed_Payment\": 17, \"Delay_from_due_date\": 20, \"Credit_Score\": \"Poor\"}, {\"Num_of_Delayed_Payment\": 11, \"Delay_from_due_date\": 14, \"Credit_Score\": \"Good\"}, {\"Num_of_Delayed_Payment\": 20, \"Delay_from_due_date\": 12, \"Credit_Score\": \"Standard\"}, {\"Num_of_Delayed_Payment\": 2, \"Delay_from_due_date\": 22, \"Credit_Score\": \"Poor\"}, {\"Num_of_Delayed_Payment\": 11, \"Delay_from_due_date\": 23, \"Credit_Score\": \"Standard\"}, {\"Num_of_Delayed_Payment\": 1, \"Delay_from_due_date\": 3, \"Credit_Score\": \"Good\"}, {\"Num_of_Delayed_Payment\": 21, \"Delay_from_due_date\": 2, \"Credit_Score\": \"Standard\"}, {\"Num_of_Delayed_Payment\": 12, \"Delay_from_due_date\": 7, \"Credit_Score\": \"Standard\"}, {\"Num_of_Delayed_Payment\": 21, \"Delay_from_due_date\": 8, \"Credit_Score\": \"Poor\"}, {\"Num_of_Delayed_Payment\": 2, \"Delay_from_due_date\": 4, \"Credit_Score\": \"Good\"}, {\"Num_of_Delayed_Payment\": 19, \"Delay_from_due_date\": 25, \"Credit_Score\": \"Poor\"}, {\"Num_of_Delayed_Payment\": 16, \"Delay_from_due_date\": 28, \"Credit_Score\": \"Standard\"}, {\"Num_of_Delayed_Payment\": 20, \"Delay_from_due_date\": 18, \"Credit_Score\": \"Good\"}, {\"Num_of_Delayed_Payment\": 14, \"Delay_from_due_date\": 20, \"Credit_Score\": \"Standard\"}, {\"Num_of_Delayed_Payment\": 16, \"Delay_from_due_date\": 10, \"Credit_Score\": \"Standard\"}, {\"Num_of_Delayed_Payment\": 4, \"Delay_from_due_date\": 3, \"Credit_Score\": \"Good\"}, {\"Num_of_Delayed_Payment\": 24, \"Delay_from_due_date\": 25, \"Credit_Score\": \"Standard\"}, {\"Num_of_Delayed_Payment\": 15, \"Delay_from_due_date\": 13, \"Credit_Score\": \"Standard\"}, {\"Num_of_Delayed_Payment\": 21, \"Delay_from_due_date\": 20, \"Credit_Score\": \"Standard\"}, {\"Num_of_Delayed_Payment\": 19, \"Delay_from_due_date\": 22, \"Credit_Score\": \"Standard\"}, {\"Num_of_Delayed_Payment\": 16, \"Delay_from_due_date\": 11, \"Credit_Score\": \"Good\"}, {\"Num_of_Delayed_Payment\": 9, \"Delay_from_due_date\": 29, \"Credit_Score\": \"Standard\"}, {\"Num_of_Delayed_Payment\": 12, \"Delay_from_due_date\": 28, \"Credit_Score\": \"Standard\"}, {\"Num_of_Delayed_Payment\": 14, \"Delay_from_due_date\": 21, \"Credit_Score\": \"Poor\"}, {\"Num_of_Delayed_Payment\": 11, \"Delay_from_due_date\": 14, \"Credit_Score\": \"Standard\"}, {\"Num_of_Delayed_Payment\": 21, \"Delay_from_due_date\": 19, \"Credit_Score\": \"Poor\"}, {\"Num_of_Delayed_Payment\": 19, \"Delay_from_due_date\": 26, \"Credit_Score\": \"Standard\"}, {\"Num_of_Delayed_Payment\": 10, \"Delay_from_due_date\": 8, \"Credit_Score\": \"Good\"}, {\"Num_of_Delayed_Payment\": 7, \"Delay_from_due_date\": 6, \"Credit_Score\": \"Standard\"}, {\"Num_of_Delayed_Payment\": 14, \"Delay_from_due_date\": 18, \"Credit_Score\": \"Standard\"}, {\"Num_of_Delayed_Payment\": 11, \"Delay_from_due_date\": 2, \"Credit_Score\": \"Good\"}, {\"Num_of_Delayed_Payment\": 6, \"Delay_from_due_date\": 3, \"Credit_Score\": \"Good\"}, {\"Num_of_Delayed_Payment\": 14, \"Delay_from_due_date\": 10, \"Credit_Score\": \"Standard\"}, {\"Num_of_Delayed_Payment\": 3, \"Delay_from_due_date\": 17, \"Credit_Score\": \"Poor\"}, {\"Num_of_Delayed_Payment\": 11, \"Delay_from_due_date\": 2, \"Credit_Score\": \"Standard\"}, {\"Num_of_Delayed_Payment\": 19, \"Delay_from_due_date\": 28, \"Credit_Score\": \"Poor\"}, {\"Num_of_Delayed_Payment\": 5, \"Delay_from_due_date\": 14, \"Credit_Score\": \"Standard\"}, {\"Num_of_Delayed_Payment\": 17, \"Delay_from_due_date\": 16, \"Credit_Score\": \"Standard\"}, {\"Num_of_Delayed_Payment\": 15, \"Delay_from_due_date\": 19, \"Credit_Score\": \"Good\"}, {\"Num_of_Delayed_Payment\": 15, \"Delay_from_due_date\": 18, \"Credit_Score\": \"Standard\"}, {\"Num_of_Delayed_Payment\": 12, \"Delay_from_due_date\": 13, \"Credit_Score\": \"Standard\"}, {\"Num_of_Delayed_Payment\": 18, \"Delay_from_due_date\": 16, \"Credit_Score\": \"Standard\"}, {\"Num_of_Delayed_Payment\": 9, \"Delay_from_due_date\": 5, \"Credit_Score\": \"Good\"}, {\"Num_of_Delayed_Payment\": 1, \"Delay_from_due_date\": 10, \"Credit_Score\": \"Poor\"}, {\"Num_of_Delayed_Payment\": 5, \"Delay_from_due_date\": 14, \"Credit_Score\": \"Good\"}, {\"Num_of_Delayed_Payment\": 9, \"Delay_from_due_date\": 15, \"Credit_Score\": \"Standard\"}, {\"Num_of_Delayed_Payment\": 10, \"Delay_from_due_date\": 23, \"Credit_Score\": \"Standard\"}, {\"Num_of_Delayed_Payment\": 15, \"Delay_from_due_date\": 29, \"Credit_Score\": \"Poor\"}, {\"Num_of_Delayed_Payment\": 17, \"Delay_from_due_date\": 10, \"Credit_Score\": \"Good\"}, {\"Num_of_Delayed_Payment\": 6, \"Delay_from_due_date\": 7, \"Credit_Score\": \"Good\"}, {\"Num_of_Delayed_Payment\": 20, \"Delay_from_due_date\": 16, \"Credit_Score\": \"Standard\"}, {\"Num_of_Delayed_Payment\": 14, \"Delay_from_due_date\": 21, \"Credit_Score\": \"Standard\"}, {\"Num_of_Delayed_Payment\": 5, \"Delay_from_due_date\": 2, \"Credit_Score\": \"Good\"}, {\"Num_of_Delayed_Payment\": 16, \"Delay_from_due_date\": 29, \"Credit_Score\": \"Poor\"}, {\"Num_of_Delayed_Payment\": 11, \"Delay_from_due_date\": 19, \"Credit_Score\": \"Standard\"}, {\"Num_of_Delayed_Payment\": 8, \"Delay_from_due_date\": 2, \"Credit_Score\": \"Standard\"}, {\"Num_of_Delayed_Payment\": 11, \"Delay_from_due_date\": 17, \"Credit_Score\": \"Poor\"}, {\"Num_of_Delayed_Payment\": 8, \"Delay_from_due_date\": 7, \"Credit_Score\": \"Standard\"}, {\"Num_of_Delayed_Payment\": 3, \"Delay_from_due_date\": 7, \"Credit_Score\": \"Good\"}, {\"Num_of_Delayed_Payment\": 16, \"Delay_from_due_date\": 30, \"Credit_Score\": \"Poor\"}, {\"Num_of_Delayed_Payment\": 12, \"Delay_from_due_date\": 13, \"Credit_Score\": \"Standard\"}, {\"Num_of_Delayed_Payment\": 16, \"Delay_from_due_date\": 10, \"Credit_Score\": \"Good\"}, {\"Num_of_Delayed_Payment\": 11, \"Delay_from_due_date\": 15, \"Credit_Score\": \"Standard\"}, {\"Num_of_Delayed_Payment\": 15, \"Delay_from_due_date\": 12, \"Credit_Score\": \"Standard\"}, {\"Num_of_Delayed_Payment\": 13, \"Delay_from_due_date\": 22, \"Credit_Score\": \"Good\"}, {\"Num_of_Delayed_Payment\": 7, \"Delay_from_due_date\": 22, \"Credit_Score\": \"Standard\"}, {\"Num_of_Delayed_Payment\": 15, \"Delay_from_due_date\": 27, \"Credit_Score\": \"Standard\"}, {\"Num_of_Delayed_Payment\": 7, \"Delay_from_due_date\": 15, \"Credit_Score\": \"Standard\"}, {\"Num_of_Delayed_Payment\": 12, \"Delay_from_due_date\": 26, \"Credit_Score\": \"Poor\"}, {\"Num_of_Delayed_Payment\": 12, \"Delay_from_due_date\": 28, \"Credit_Score\": \"Standard\"}, {\"Num_of_Delayed_Payment\": 1, \"Delay_from_due_date\": 15, \"Credit_Score\": \"Standard\"}, {\"Num_of_Delayed_Payment\": 21, \"Delay_from_due_date\": 36, \"Credit_Score\": \"Standard\"}, {\"Num_of_Delayed_Payment\": 21, \"Delay_from_due_date\": 11, \"Credit_Score\": \"Standard\"}, {\"Num_of_Delayed_Payment\": 12, \"Delay_from_due_date\": 6, \"Credit_Score\": \"Poor\"}, {\"Num_of_Delayed_Payment\": 6, \"Delay_from_due_date\": 23, \"Credit_Score\": \"Standard\"}, {\"Num_of_Delayed_Payment\": 7, \"Delay_from_due_date\": 0, \"Credit_Score\": \"Good\"}, {\"Num_of_Delayed_Payment\": 11, \"Delay_from_due_date\": 22, \"Credit_Score\": \"Standard\"}, {\"Num_of_Delayed_Payment\": 19, \"Delay_from_due_date\": 22, \"Credit_Score\": \"Standard\"}, {\"Num_of_Delayed_Payment\": 6, \"Delay_from_due_date\": 12, \"Credit_Score\": \"Good\"}, {\"Num_of_Delayed_Payment\": 14, \"Delay_from_due_date\": 19, \"Credit_Score\": \"Poor\"}, {\"Num_of_Delayed_Payment\": 15, \"Delay_from_due_date\": 22, \"Credit_Score\": \"Standard\"}, {\"Num_of_Delayed_Payment\": 14, \"Delay_from_due_date\": 19, \"Credit_Score\": \"Poor\"}, {\"Num_of_Delayed_Payment\": 14, \"Delay_from_due_date\": 10, \"Credit_Score\": \"Standard\"}, {\"Num_of_Delayed_Payment\": 25, \"Delay_from_due_date\": 23, \"Credit_Score\": \"Poor\"}, {\"Num_of_Delayed_Payment\": 2, \"Delay_from_due_date\": 4, \"Credit_Score\": \"Standard\"}, {\"Num_of_Delayed_Payment\": 0, \"Delay_from_due_date\": 2, \"Credit_Score\": \"Standard\"}, {\"Num_of_Delayed_Payment\": 11, \"Delay_from_due_date\": 12, \"Credit_Score\": \"Poor\"}, {\"Num_of_Delayed_Payment\": 6, \"Delay_from_due_date\": 2, \"Credit_Score\": \"Poor\"}, {\"Num_of_Delayed_Payment\": 12, \"Delay_from_due_date\": 25, \"Credit_Score\": \"Poor\"}, {\"Num_of_Delayed_Payment\": 13, \"Delay_from_due_date\": 7, \"Credit_Score\": \"Standard\"}, {\"Num_of_Delayed_Payment\": 18, \"Delay_from_due_date\": 47, \"Credit_Score\": \"Standard\"}, {\"Num_of_Delayed_Payment\": 12, \"Delay_from_due_date\": 22, \"Credit_Score\": \"Standard\"}, {\"Num_of_Delayed_Payment\": 18, \"Delay_from_due_date\": 38, \"Credit_Score\": \"Standard\"}, {\"Num_of_Delayed_Payment\": 12, \"Delay_from_due_date\": 48, \"Credit_Score\": \"Poor\"}, {\"Num_of_Delayed_Payment\": 12, \"Delay_from_due_date\": 13, \"Credit_Score\": \"Poor\"}, {\"Num_of_Delayed_Payment\": 22, \"Delay_from_due_date\": 8, \"Credit_Score\": \"Standard\"}, {\"Num_of_Delayed_Payment\": 9, \"Delay_from_due_date\": 1, \"Credit_Score\": \"Good\"}, {\"Num_of_Delayed_Payment\": 15, \"Delay_from_due_date\": 50, \"Credit_Score\": \"Poor\"}, {\"Num_of_Delayed_Payment\": 5, \"Delay_from_due_date\": 9, \"Credit_Score\": \"Standard\"}, {\"Num_of_Delayed_Payment\": 17, \"Delay_from_due_date\": 6, \"Credit_Score\": \"Standard\"}, {\"Num_of_Delayed_Payment\": 11, \"Delay_from_due_date\": 9, \"Credit_Score\": \"Standard\"}, {\"Num_of_Delayed_Payment\": 6, \"Delay_from_due_date\": 12, \"Credit_Score\": \"Standard\"}, {\"Num_of_Delayed_Payment\": 17, \"Delay_from_due_date\": 15, \"Credit_Score\": \"Standard\"}, {\"Num_of_Delayed_Payment\": 4, \"Delay_from_due_date\": 7, \"Credit_Score\": \"Good\"}, {\"Num_of_Delayed_Payment\": 16, \"Delay_from_due_date\": 28, \"Credit_Score\": \"Poor\"}, {\"Num_of_Delayed_Payment\": 6, \"Delay_from_due_date\": 11, \"Credit_Score\": \"Good\"}, {\"Num_of_Delayed_Payment\": 8, \"Delay_from_due_date\": 9, \"Credit_Score\": \"Standard\"}, {\"Num_of_Delayed_Payment\": 3, \"Delay_from_due_date\": 10, \"Credit_Score\": \"Poor\"}, {\"Num_of_Delayed_Payment\": 15, \"Delay_from_due_date\": 19, \"Credit_Score\": \"Poor\"}, {\"Num_of_Delayed_Payment\": 12, \"Delay_from_due_date\": 13, \"Credit_Score\": \"Standard\"}, {\"Num_of_Delayed_Payment\": 11, \"Delay_from_due_date\": 2, \"Credit_Score\": \"Standard\"}, {\"Num_of_Delayed_Payment\": 15, \"Delay_from_due_date\": 9, \"Credit_Score\": \"Standard\"}, {\"Num_of_Delayed_Payment\": 7, \"Delay_from_due_date\": 14, \"Credit_Score\": \"Standard\"}, {\"Num_of_Delayed_Payment\": 17, \"Delay_from_due_date\": 4, \"Credit_Score\": \"Standard\"}, {\"Num_of_Delayed_Payment\": 6, \"Delay_from_due_date\": 8, \"Credit_Score\": \"Standard\"}, {\"Num_of_Delayed_Payment\": 4, \"Delay_from_due_date\": 10, \"Credit_Score\": \"Standard\"}, {\"Num_of_Delayed_Payment\": 16, \"Delay_from_due_date\": 20, \"Credit_Score\": \"Poor\"}, {\"Num_of_Delayed_Payment\": 24, \"Delay_from_due_date\": 43, \"Credit_Score\": \"Standard\"}, {\"Num_of_Delayed_Payment\": 10, \"Delay_from_due_date\": 22, \"Credit_Score\": \"Standard\"}, {\"Num_of_Delayed_Payment\": 18, \"Delay_from_due_date\": 17, \"Credit_Score\": \"Poor\"}, {\"Num_of_Delayed_Payment\": 5, \"Delay_from_due_date\": 25, \"Credit_Score\": \"Poor\"}, {\"Num_of_Delayed_Payment\": 23, \"Delay_from_due_date\": 41, \"Credit_Score\": \"Poor\"}, {\"Num_of_Delayed_Payment\": 8, \"Delay_from_due_date\": 5, \"Credit_Score\": \"Standard\"}, {\"Num_of_Delayed_Payment\": 16, \"Delay_from_due_date\": 6, \"Credit_Score\": \"Standard\"}, {\"Num_of_Delayed_Payment\": 13, \"Delay_from_due_date\": 13, \"Credit_Score\": \"Standard\"}, {\"Num_of_Delayed_Payment\": 8, \"Delay_from_due_date\": 17, \"Credit_Score\": \"Standard\"}, {\"Num_of_Delayed_Payment\": 16, \"Delay_from_due_date\": 30, \"Credit_Score\": \"Standard\"}, {\"Num_of_Delayed_Payment\": 15, \"Delay_from_due_date\": 18, \"Credit_Score\": \"Poor\"}, {\"Num_of_Delayed_Payment\": 18, \"Delay_from_due_date\": 24, \"Credit_Score\": \"Standard\"}, {\"Num_of_Delayed_Payment\": 20, \"Delay_from_due_date\": 18, \"Credit_Score\": \"Poor\"}, {\"Num_of_Delayed_Payment\": 5, \"Delay_from_due_date\": 8, \"Credit_Score\": \"Good\"}, {\"Num_of_Delayed_Payment\": 8, \"Delay_from_due_date\": 10, \"Credit_Score\": \"Standard\"}, {\"Num_of_Delayed_Payment\": 14, \"Delay_from_due_date\": 15, \"Credit_Score\": \"Standard\"}, {\"Num_of_Delayed_Payment\": 19, \"Delay_from_due_date\": 21, \"Credit_Score\": \"Standard\"}, {\"Num_of_Delayed_Payment\": 15, \"Delay_from_due_date\": 23, \"Credit_Score\": \"Standard\"}, {\"Num_of_Delayed_Payment\": 15, \"Delay_from_due_date\": 7, \"Credit_Score\": \"Standard\"}, {\"Num_of_Delayed_Payment\": 22, \"Delay_from_due_date\": 25, \"Credit_Score\": \"Poor\"}, {\"Num_of_Delayed_Payment\": 16, \"Delay_from_due_date\": 41, \"Credit_Score\": \"Poor\"}, {\"Num_of_Delayed_Payment\": 18, \"Delay_from_due_date\": 29, \"Credit_Score\": \"Standard\"}]}}, {\"mode\": \"vega-lite\"});\n",
       "</script>"
      ],
      "text/plain": [
       "alt.RepeatChart(...)"
      ]
     },
     "execution_count": 15,
     "metadata": {},
     "output_type": "execute_result"
    }
   ],
   "source": [
    "# initializing list of predictors\n",
    "predictors = [\"Delay_from_due_date\", \"Num_of_Delayed_Payment\"]\n",
    "\n",
    "# visualizing training data\n",
    "\n",
    "# removing outliers - just for the visualization\n",
    "def remove_outliers(column):\n",
    "    Q1 = column.quantile(0.25)\n",
    "    Q3 = column.quantile(0.75)\n",
    "    IQR = Q3 - Q1\n",
    "    return (column >= Q1 - 1.5 * IQR) & (column <= Q3 + 1.5 * IQR)\n",
    "\n",
    "# Apply outlier removal to each column\n",
    "for col in predictors:\n",
    "    train = train[remove_outliers(train[col])]\n",
    "\n",
    "train_pairplot = alt.Chart(train).mark_point(opacity=0.4).encode(\n",
    "    alt.X(alt.repeat(\"row\"), type=\"quantitative\"),\n",
    "    alt.Y(alt.repeat(\"column\"), type=\"quantitative\"),\n",
    "    color = alt.Color(\"Credit_Score\").title(\"Credit_Score\")\n",
    ").properties(\n",
    "    width=200,\n",
    "    height=200\n",
    ").repeat(\n",
    "    column=predictors,\n",
    "    row=predictors\n",
    ")\n",
    "\n",
    "train_pairplot"
   ]
  },
  {
   "cell_type": "markdown",
   "metadata": {},
   "source": [
    "Delay from due date vs Num of delayed payments. We would expect to see a linaer relation between these two variables (generally speaking). Our expectations are met as seen in the visualization above. The two variables show a (weak) positive relation."
   ]
  },
  {
   "cell_type": "markdown",
   "metadata": {},
   "source": [
    "### Methods\n",
    "\n",
    "We plan to conduct our data analysis using the K Nearest Neighbors Classification algrorithm. We'll choose the best value of k using cross-validation and then use the following predictors to predict whether someone's Credit Score is Good, Standard or Poor.\n",
    "\n",
    "Predictors:\n",
    "\n",
    "- number of delayed payments \n",
    "- delay from due date \n",
    "**Describing our visualizations**\n",
    "We will plot histograms to visualize the distributions of our predictors. This will help us explore the relation between predicted credit score and the factors that may impact the credit score more than others like income, missed payments, credit utilization ratios.\n"
   ]
  },
  {
   "cell_type": "code",
   "execution_count": 16,
   "metadata": {
    "tags": []
   },
   "outputs": [],
   "source": [
    "# training_labels = subset_train[\"Credit_Score\"]\n",
    "# training_labels"
   ]
  },
  {
   "cell_type": "code",
   "execution_count": 17,
   "metadata": {
    "tags": []
   },
   "outputs": [
    {
     "data": {
      "text/html": [
       "<style>#sk-container-id-1 {color: black;background-color: white;}#sk-container-id-1 pre{padding: 0;}#sk-container-id-1 div.sk-toggleable {background-color: white;}#sk-container-id-1 label.sk-toggleable__label {cursor: pointer;display: block;width: 100%;margin-bottom: 0;padding: 0.3em;box-sizing: border-box;text-align: center;}#sk-container-id-1 label.sk-toggleable__label-arrow:before {content: \"▸\";float: left;margin-right: 0.25em;color: #696969;}#sk-container-id-1 label.sk-toggleable__label-arrow:hover:before {color: black;}#sk-container-id-1 div.sk-estimator:hover label.sk-toggleable__label-arrow:before {color: black;}#sk-container-id-1 div.sk-toggleable__content {max-height: 0;max-width: 0;overflow: hidden;text-align: left;background-color: #f0f8ff;}#sk-container-id-1 div.sk-toggleable__content pre {margin: 0.2em;color: black;border-radius: 0.25em;background-color: #f0f8ff;}#sk-container-id-1 input.sk-toggleable__control:checked~div.sk-toggleable__content {max-height: 200px;max-width: 100%;overflow: auto;}#sk-container-id-1 input.sk-toggleable__control:checked~label.sk-toggleable__label-arrow:before {content: \"▾\";}#sk-container-id-1 div.sk-estimator input.sk-toggleable__control:checked~label.sk-toggleable__label {background-color: #d4ebff;}#sk-container-id-1 div.sk-label input.sk-toggleable__control:checked~label.sk-toggleable__label {background-color: #d4ebff;}#sk-container-id-1 input.sk-hidden--visually {border: 0;clip: rect(1px 1px 1px 1px);clip: rect(1px, 1px, 1px, 1px);height: 1px;margin: -1px;overflow: hidden;padding: 0;position: absolute;width: 1px;}#sk-container-id-1 div.sk-estimator {font-family: monospace;background-color: #f0f8ff;border: 1px dotted black;border-radius: 0.25em;box-sizing: border-box;margin-bottom: 0.5em;}#sk-container-id-1 div.sk-estimator:hover {background-color: #d4ebff;}#sk-container-id-1 div.sk-parallel-item::after {content: \"\";width: 100%;border-bottom: 1px solid gray;flex-grow: 1;}#sk-container-id-1 div.sk-label:hover label.sk-toggleable__label {background-color: #d4ebff;}#sk-container-id-1 div.sk-serial::before {content: \"\";position: absolute;border-left: 1px solid gray;box-sizing: border-box;top: 0;bottom: 0;left: 50%;z-index: 0;}#sk-container-id-1 div.sk-serial {display: flex;flex-direction: column;align-items: center;background-color: white;padding-right: 0.2em;padding-left: 0.2em;position: relative;}#sk-container-id-1 div.sk-item {position: relative;z-index: 1;}#sk-container-id-1 div.sk-parallel {display: flex;align-items: stretch;justify-content: center;background-color: white;position: relative;}#sk-container-id-1 div.sk-item::before, #sk-container-id-1 div.sk-parallel-item::before {content: \"\";position: absolute;border-left: 1px solid gray;box-sizing: border-box;top: 0;bottom: 0;left: 50%;z-index: -1;}#sk-container-id-1 div.sk-parallel-item {display: flex;flex-direction: column;z-index: 1;position: relative;background-color: white;}#sk-container-id-1 div.sk-parallel-item:first-child::after {align-self: flex-end;width: 50%;}#sk-container-id-1 div.sk-parallel-item:last-child::after {align-self: flex-start;width: 50%;}#sk-container-id-1 div.sk-parallel-item:only-child::after {width: 0;}#sk-container-id-1 div.sk-dashed-wrapped {border: 1px dashed gray;margin: 0 0.4em 0.5em 0.4em;box-sizing: border-box;padding-bottom: 0.4em;background-color: white;}#sk-container-id-1 div.sk-label label {font-family: monospace;font-weight: bold;display: inline-block;line-height: 1.2em;}#sk-container-id-1 div.sk-label-container {text-align: center;}#sk-container-id-1 div.sk-container {/* jupyter's `normalize.less` sets `[hidden] { display: none; }` but bootstrap.min.css set `[hidden] { display: none !important; }` so we also need the `!important` here to be able to override the default hidden behavior on the sphinx rendered scikit-learn.org. See: https://github.com/scikit-learn/scikit-learn/issues/21755 */display: inline-block !important;position: relative;}#sk-container-id-1 div.sk-text-repr-fallback {display: none;}</style><div id=\"sk-container-id-1\" class=\"sk-top-container\"><div class=\"sk-text-repr-fallback\"><pre>KNeighborsClassifier(n_neighbors=57)</pre><b>In a Jupyter environment, please rerun this cell to show the HTML representation or trust the notebook. <br />On GitHub, the HTML representation is unable to render, please try loading this page with nbviewer.org.</b></div><div class=\"sk-container\" hidden><div class=\"sk-item\"><div class=\"sk-estimator sk-toggleable\"><input class=\"sk-toggleable__control sk-hidden--visually\" id=\"sk-estimator-id-1\" type=\"checkbox\" checked><label for=\"sk-estimator-id-1\" class=\"sk-toggleable__label sk-toggleable__label-arrow\">KNeighborsClassifier</label><div class=\"sk-toggleable__content\"><pre>KNeighborsClassifier(n_neighbors=57)</pre></div></div></div></div></div>"
      ],
      "text/plain": [
       "KNeighborsClassifier(n_neighbors=57)"
      ]
     },
     "execution_count": 17,
     "metadata": {},
     "output_type": "execute_result"
    }
   ],
   "source": [
    "knn = KNeighborsClassifier(n_neighbors=57)\n",
    "knn"
   ]
  },
  {
   "cell_type": "code",
   "execution_count": 18,
   "metadata": {
    "tags": []
   },
   "outputs": [
    {
     "data": {
      "text/html": [
       "<style>#sk-container-id-2 {color: black;background-color: white;}#sk-container-id-2 pre{padding: 0;}#sk-container-id-2 div.sk-toggleable {background-color: white;}#sk-container-id-2 label.sk-toggleable__label {cursor: pointer;display: block;width: 100%;margin-bottom: 0;padding: 0.3em;box-sizing: border-box;text-align: center;}#sk-container-id-2 label.sk-toggleable__label-arrow:before {content: \"▸\";float: left;margin-right: 0.25em;color: #696969;}#sk-container-id-2 label.sk-toggleable__label-arrow:hover:before {color: black;}#sk-container-id-2 div.sk-estimator:hover label.sk-toggleable__label-arrow:before {color: black;}#sk-container-id-2 div.sk-toggleable__content {max-height: 0;max-width: 0;overflow: hidden;text-align: left;background-color: #f0f8ff;}#sk-container-id-2 div.sk-toggleable__content pre {margin: 0.2em;color: black;border-radius: 0.25em;background-color: #f0f8ff;}#sk-container-id-2 input.sk-toggleable__control:checked~div.sk-toggleable__content {max-height: 200px;max-width: 100%;overflow: auto;}#sk-container-id-2 input.sk-toggleable__control:checked~label.sk-toggleable__label-arrow:before {content: \"▾\";}#sk-container-id-2 div.sk-estimator input.sk-toggleable__control:checked~label.sk-toggleable__label {background-color: #d4ebff;}#sk-container-id-2 div.sk-label input.sk-toggleable__control:checked~label.sk-toggleable__label {background-color: #d4ebff;}#sk-container-id-2 input.sk-hidden--visually {border: 0;clip: rect(1px 1px 1px 1px);clip: rect(1px, 1px, 1px, 1px);height: 1px;margin: -1px;overflow: hidden;padding: 0;position: absolute;width: 1px;}#sk-container-id-2 div.sk-estimator {font-family: monospace;background-color: #f0f8ff;border: 1px dotted black;border-radius: 0.25em;box-sizing: border-box;margin-bottom: 0.5em;}#sk-container-id-2 div.sk-estimator:hover {background-color: #d4ebff;}#sk-container-id-2 div.sk-parallel-item::after {content: \"\";width: 100%;border-bottom: 1px solid gray;flex-grow: 1;}#sk-container-id-2 div.sk-label:hover label.sk-toggleable__label {background-color: #d4ebff;}#sk-container-id-2 div.sk-serial::before {content: \"\";position: absolute;border-left: 1px solid gray;box-sizing: border-box;top: 0;bottom: 0;left: 50%;z-index: 0;}#sk-container-id-2 div.sk-serial {display: flex;flex-direction: column;align-items: center;background-color: white;padding-right: 0.2em;padding-left: 0.2em;position: relative;}#sk-container-id-2 div.sk-item {position: relative;z-index: 1;}#sk-container-id-2 div.sk-parallel {display: flex;align-items: stretch;justify-content: center;background-color: white;position: relative;}#sk-container-id-2 div.sk-item::before, #sk-container-id-2 div.sk-parallel-item::before {content: \"\";position: absolute;border-left: 1px solid gray;box-sizing: border-box;top: 0;bottom: 0;left: 50%;z-index: -1;}#sk-container-id-2 div.sk-parallel-item {display: flex;flex-direction: column;z-index: 1;position: relative;background-color: white;}#sk-container-id-2 div.sk-parallel-item:first-child::after {align-self: flex-end;width: 50%;}#sk-container-id-2 div.sk-parallel-item:last-child::after {align-self: flex-start;width: 50%;}#sk-container-id-2 div.sk-parallel-item:only-child::after {width: 0;}#sk-container-id-2 div.sk-dashed-wrapped {border: 1px dashed gray;margin: 0 0.4em 0.5em 0.4em;box-sizing: border-box;padding-bottom: 0.4em;background-color: white;}#sk-container-id-2 div.sk-label label {font-family: monospace;font-weight: bold;display: inline-block;line-height: 1.2em;}#sk-container-id-2 div.sk-label-container {text-align: center;}#sk-container-id-2 div.sk-container {/* jupyter's `normalize.less` sets `[hidden] { display: none; }` but bootstrap.min.css set `[hidden] { display: none !important; }` so we also need the `!important` here to be able to override the default hidden behavior on the sphinx rendered scikit-learn.org. See: https://github.com/scikit-learn/scikit-learn/issues/21755 */display: inline-block !important;position: relative;}#sk-container-id-2 div.sk-text-repr-fallback {display: none;}</style><div id=\"sk-container-id-2\" class=\"sk-top-container\"><div class=\"sk-text-repr-fallback\"><pre>ColumnTransformer(remainder=&#x27;passthrough&#x27;,\n",
       "                  transformers=[(&#x27;standardscaler&#x27;, StandardScaler(),\n",
       "                                 [&#x27;Delay_from_due_date&#x27;,\n",
       "                                  &#x27;Num_of_Delayed_Payment&#x27;])],\n",
       "                  verbose_feature_names_out=False)</pre><b>In a Jupyter environment, please rerun this cell to show the HTML representation or trust the notebook. <br />On GitHub, the HTML representation is unable to render, please try loading this page with nbviewer.org.</b></div><div class=\"sk-container\" hidden><div class=\"sk-item sk-dashed-wrapped\"><div class=\"sk-label-container\"><div class=\"sk-label sk-toggleable\"><input class=\"sk-toggleable__control sk-hidden--visually\" id=\"sk-estimator-id-2\" type=\"checkbox\" ><label for=\"sk-estimator-id-2\" class=\"sk-toggleable__label sk-toggleable__label-arrow\">ColumnTransformer</label><div class=\"sk-toggleable__content\"><pre>ColumnTransformer(remainder=&#x27;passthrough&#x27;,\n",
       "                  transformers=[(&#x27;standardscaler&#x27;, StandardScaler(),\n",
       "                                 [&#x27;Delay_from_due_date&#x27;,\n",
       "                                  &#x27;Num_of_Delayed_Payment&#x27;])],\n",
       "                  verbose_feature_names_out=False)</pre></div></div></div><div class=\"sk-parallel\"><div class=\"sk-parallel-item\"><div class=\"sk-item\"><div class=\"sk-label-container\"><div class=\"sk-label sk-toggleable\"><input class=\"sk-toggleable__control sk-hidden--visually\" id=\"sk-estimator-id-3\" type=\"checkbox\" ><label for=\"sk-estimator-id-3\" class=\"sk-toggleable__label sk-toggleable__label-arrow\">standardscaler</label><div class=\"sk-toggleable__content\"><pre>[&#x27;Delay_from_due_date&#x27;, &#x27;Num_of_Delayed_Payment&#x27;]</pre></div></div></div><div class=\"sk-serial\"><div class=\"sk-item\"><div class=\"sk-estimator sk-toggleable\"><input class=\"sk-toggleable__control sk-hidden--visually\" id=\"sk-estimator-id-4\" type=\"checkbox\" ><label for=\"sk-estimator-id-4\" class=\"sk-toggleable__label sk-toggleable__label-arrow\">StandardScaler</label><div class=\"sk-toggleable__content\"><pre>StandardScaler()</pre></div></div></div></div></div></div><div class=\"sk-parallel-item\"><div class=\"sk-item\"><div class=\"sk-label-container\"><div class=\"sk-label sk-toggleable\"><input class=\"sk-toggleable__control sk-hidden--visually\" id=\"sk-estimator-id-5\" type=\"checkbox\" ><label for=\"sk-estimator-id-5\" class=\"sk-toggleable__label sk-toggleable__label-arrow\">remainder</label><div class=\"sk-toggleable__content\"><pre></pre></div></div></div><div class=\"sk-serial\"><div class=\"sk-item\"><div class=\"sk-estimator sk-toggleable\"><input class=\"sk-toggleable__control sk-hidden--visually\" id=\"sk-estimator-id-6\" type=\"checkbox\" ><label for=\"sk-estimator-id-6\" class=\"sk-toggleable__label sk-toggleable__label-arrow\">passthrough</label><div class=\"sk-toggleable__content\"><pre>passthrough</pre></div></div></div></div></div></div></div></div></div></div>"
      ],
      "text/plain": [
       "ColumnTransformer(remainder='passthrough',\n",
       "                  transformers=[('standardscaler', StandardScaler(),\n",
       "                                 ['Delay_from_due_date',\n",
       "                                  'Num_of_Delayed_Payment'])],\n",
       "                  verbose_feature_names_out=False)"
      ]
     },
     "execution_count": 18,
     "metadata": {},
     "output_type": "execute_result"
    }
   ],
   "source": [
    "preprocessor = make_column_transformer(\n",
    "    (StandardScaler(), predictors),\n",
    "    remainder='passthrough',\n",
    "    verbose_feature_names_out=False\n",
    ")\n",
    "preprocessor"
   ]
  },
  {
   "cell_type": "code",
   "execution_count": 19,
   "metadata": {
    "tags": []
   },
   "outputs": [
    {
     "data": {
      "text/html": [
       "<style>#sk-container-id-3 {color: black;background-color: white;}#sk-container-id-3 pre{padding: 0;}#sk-container-id-3 div.sk-toggleable {background-color: white;}#sk-container-id-3 label.sk-toggleable__label {cursor: pointer;display: block;width: 100%;margin-bottom: 0;padding: 0.3em;box-sizing: border-box;text-align: center;}#sk-container-id-3 label.sk-toggleable__label-arrow:before {content: \"▸\";float: left;margin-right: 0.25em;color: #696969;}#sk-container-id-3 label.sk-toggleable__label-arrow:hover:before {color: black;}#sk-container-id-3 div.sk-estimator:hover label.sk-toggleable__label-arrow:before {color: black;}#sk-container-id-3 div.sk-toggleable__content {max-height: 0;max-width: 0;overflow: hidden;text-align: left;background-color: #f0f8ff;}#sk-container-id-3 div.sk-toggleable__content pre {margin: 0.2em;color: black;border-radius: 0.25em;background-color: #f0f8ff;}#sk-container-id-3 input.sk-toggleable__control:checked~div.sk-toggleable__content {max-height: 200px;max-width: 100%;overflow: auto;}#sk-container-id-3 input.sk-toggleable__control:checked~label.sk-toggleable__label-arrow:before {content: \"▾\";}#sk-container-id-3 div.sk-estimator input.sk-toggleable__control:checked~label.sk-toggleable__label {background-color: #d4ebff;}#sk-container-id-3 div.sk-label input.sk-toggleable__control:checked~label.sk-toggleable__label {background-color: #d4ebff;}#sk-container-id-3 input.sk-hidden--visually {border: 0;clip: rect(1px 1px 1px 1px);clip: rect(1px, 1px, 1px, 1px);height: 1px;margin: -1px;overflow: hidden;padding: 0;position: absolute;width: 1px;}#sk-container-id-3 div.sk-estimator {font-family: monospace;background-color: #f0f8ff;border: 1px dotted black;border-radius: 0.25em;box-sizing: border-box;margin-bottom: 0.5em;}#sk-container-id-3 div.sk-estimator:hover {background-color: #d4ebff;}#sk-container-id-3 div.sk-parallel-item::after {content: \"\";width: 100%;border-bottom: 1px solid gray;flex-grow: 1;}#sk-container-id-3 div.sk-label:hover label.sk-toggleable__label {background-color: #d4ebff;}#sk-container-id-3 div.sk-serial::before {content: \"\";position: absolute;border-left: 1px solid gray;box-sizing: border-box;top: 0;bottom: 0;left: 50%;z-index: 0;}#sk-container-id-3 div.sk-serial {display: flex;flex-direction: column;align-items: center;background-color: white;padding-right: 0.2em;padding-left: 0.2em;position: relative;}#sk-container-id-3 div.sk-item {position: relative;z-index: 1;}#sk-container-id-3 div.sk-parallel {display: flex;align-items: stretch;justify-content: center;background-color: white;position: relative;}#sk-container-id-3 div.sk-item::before, #sk-container-id-3 div.sk-parallel-item::before {content: \"\";position: absolute;border-left: 1px solid gray;box-sizing: border-box;top: 0;bottom: 0;left: 50%;z-index: -1;}#sk-container-id-3 div.sk-parallel-item {display: flex;flex-direction: column;z-index: 1;position: relative;background-color: white;}#sk-container-id-3 div.sk-parallel-item:first-child::after {align-self: flex-end;width: 50%;}#sk-container-id-3 div.sk-parallel-item:last-child::after {align-self: flex-start;width: 50%;}#sk-container-id-3 div.sk-parallel-item:only-child::after {width: 0;}#sk-container-id-3 div.sk-dashed-wrapped {border: 1px dashed gray;margin: 0 0.4em 0.5em 0.4em;box-sizing: border-box;padding-bottom: 0.4em;background-color: white;}#sk-container-id-3 div.sk-label label {font-family: monospace;font-weight: bold;display: inline-block;line-height: 1.2em;}#sk-container-id-3 div.sk-label-container {text-align: center;}#sk-container-id-3 div.sk-container {/* jupyter's `normalize.less` sets `[hidden] { display: none; }` but bootstrap.min.css set `[hidden] { display: none !important; }` so we also need the `!important` here to be able to override the default hidden behavior on the sphinx rendered scikit-learn.org. See: https://github.com/scikit-learn/scikit-learn/issues/21755 */display: inline-block !important;position: relative;}#sk-container-id-3 div.sk-text-repr-fallback {display: none;}</style><div id=\"sk-container-id-3\" class=\"sk-top-container\"><div class=\"sk-text-repr-fallback\"><pre>Pipeline(steps=[(&#x27;columntransformer&#x27;,\n",
       "                 ColumnTransformer(remainder=&#x27;passthrough&#x27;,\n",
       "                                   transformers=[(&#x27;standardscaler&#x27;,\n",
       "                                                  StandardScaler(),\n",
       "                                                  [&#x27;Delay_from_due_date&#x27;,\n",
       "                                                   &#x27;Num_of_Delayed_Payment&#x27;])],\n",
       "                                   verbose_feature_names_out=False)),\n",
       "                (&#x27;kneighborsclassifier&#x27;, KNeighborsClassifier(n_neighbors=57))])</pre><b>In a Jupyter environment, please rerun this cell to show the HTML representation or trust the notebook. <br />On GitHub, the HTML representation is unable to render, please try loading this page with nbviewer.org.</b></div><div class=\"sk-container\" hidden><div class=\"sk-item sk-dashed-wrapped\"><div class=\"sk-label-container\"><div class=\"sk-label sk-toggleable\"><input class=\"sk-toggleable__control sk-hidden--visually\" id=\"sk-estimator-id-7\" type=\"checkbox\" ><label for=\"sk-estimator-id-7\" class=\"sk-toggleable__label sk-toggleable__label-arrow\">Pipeline</label><div class=\"sk-toggleable__content\"><pre>Pipeline(steps=[(&#x27;columntransformer&#x27;,\n",
       "                 ColumnTransformer(remainder=&#x27;passthrough&#x27;,\n",
       "                                   transformers=[(&#x27;standardscaler&#x27;,\n",
       "                                                  StandardScaler(),\n",
       "                                                  [&#x27;Delay_from_due_date&#x27;,\n",
       "                                                   &#x27;Num_of_Delayed_Payment&#x27;])],\n",
       "                                   verbose_feature_names_out=False)),\n",
       "                (&#x27;kneighborsclassifier&#x27;, KNeighborsClassifier(n_neighbors=57))])</pre></div></div></div><div class=\"sk-serial\"><div class=\"sk-item sk-dashed-wrapped\"><div class=\"sk-label-container\"><div class=\"sk-label sk-toggleable\"><input class=\"sk-toggleable__control sk-hidden--visually\" id=\"sk-estimator-id-8\" type=\"checkbox\" ><label for=\"sk-estimator-id-8\" class=\"sk-toggleable__label sk-toggleable__label-arrow\">columntransformer: ColumnTransformer</label><div class=\"sk-toggleable__content\"><pre>ColumnTransformer(remainder=&#x27;passthrough&#x27;,\n",
       "                  transformers=[(&#x27;standardscaler&#x27;, StandardScaler(),\n",
       "                                 [&#x27;Delay_from_due_date&#x27;,\n",
       "                                  &#x27;Num_of_Delayed_Payment&#x27;])],\n",
       "                  verbose_feature_names_out=False)</pre></div></div></div><div class=\"sk-parallel\"><div class=\"sk-parallel-item\"><div class=\"sk-item\"><div class=\"sk-label-container\"><div class=\"sk-label sk-toggleable\"><input class=\"sk-toggleable__control sk-hidden--visually\" id=\"sk-estimator-id-9\" type=\"checkbox\" ><label for=\"sk-estimator-id-9\" class=\"sk-toggleable__label sk-toggleable__label-arrow\">standardscaler</label><div class=\"sk-toggleable__content\"><pre>[&#x27;Delay_from_due_date&#x27;, &#x27;Num_of_Delayed_Payment&#x27;]</pre></div></div></div><div class=\"sk-serial\"><div class=\"sk-item\"><div class=\"sk-estimator sk-toggleable\"><input class=\"sk-toggleable__control sk-hidden--visually\" id=\"sk-estimator-id-10\" type=\"checkbox\" ><label for=\"sk-estimator-id-10\" class=\"sk-toggleable__label sk-toggleable__label-arrow\">StandardScaler</label><div class=\"sk-toggleable__content\"><pre>StandardScaler()</pre></div></div></div></div></div></div><div class=\"sk-parallel-item\"><div class=\"sk-item\"><div class=\"sk-label-container\"><div class=\"sk-label sk-toggleable\"><input class=\"sk-toggleable__control sk-hidden--visually\" id=\"sk-estimator-id-11\" type=\"checkbox\" ><label for=\"sk-estimator-id-11\" class=\"sk-toggleable__label sk-toggleable__label-arrow\">remainder</label><div class=\"sk-toggleable__content\"><pre>[]</pre></div></div></div><div class=\"sk-serial\"><div class=\"sk-item\"><div class=\"sk-estimator sk-toggleable\"><input class=\"sk-toggleable__control sk-hidden--visually\" id=\"sk-estimator-id-12\" type=\"checkbox\" ><label for=\"sk-estimator-id-12\" class=\"sk-toggleable__label sk-toggleable__label-arrow\">passthrough</label><div class=\"sk-toggleable__content\"><pre>passthrough</pre></div></div></div></div></div></div></div></div><div class=\"sk-item\"><div class=\"sk-estimator sk-toggleable\"><input class=\"sk-toggleable__control sk-hidden--visually\" id=\"sk-estimator-id-13\" type=\"checkbox\" ><label for=\"sk-estimator-id-13\" class=\"sk-toggleable__label sk-toggleable__label-arrow\">KNeighborsClassifier</label><div class=\"sk-toggleable__content\"><pre>KNeighborsClassifier(n_neighbors=57)</pre></div></div></div></div></div></div></div>"
      ],
      "text/plain": [
       "Pipeline(steps=[('columntransformer',\n",
       "                 ColumnTransformer(remainder='passthrough',\n",
       "                                   transformers=[('standardscaler',\n",
       "                                                  StandardScaler(),\n",
       "                                                  ['Delay_from_due_date',\n",
       "                                                   'Num_of_Delayed_Payment'])],\n",
       "                                   verbose_feature_names_out=False)),\n",
       "                ('kneighborsclassifier', KNeighborsClassifier(n_neighbors=57))])"
      ]
     },
     "execution_count": 19,
     "metadata": {},
     "output_type": "execute_result"
    }
   ],
   "source": [
    "X = train.drop(columns='Credit_Score')\n",
    "y = train[\"Credit_Score\"]\n",
    "\n",
    "train_fit = make_pipeline(preprocessor, knn).fit(X, y)\n",
    "\n",
    "train_fit"
   ]
  },
  {
   "cell_type": "code",
   "execution_count": 20,
   "metadata": {
    "tags": []
   },
   "outputs": [
    {
     "data": {
      "text/html": [
       "<div>\n",
       "<style scoped>\n",
       "    .dataframe tbody tr th:only-of-type {\n",
       "        vertical-align: middle;\n",
       "    }\n",
       "\n",
       "    .dataframe tbody tr th {\n",
       "        vertical-align: top;\n",
       "    }\n",
       "\n",
       "    .dataframe thead th {\n",
       "        text-align: right;\n",
       "    }\n",
       "</style>\n",
       "<table border=\"1\" class=\"dataframe\">\n",
       "  <thead>\n",
       "    <tr style=\"text-align: right;\">\n",
       "      <th></th>\n",
       "      <th>Num_of_Delayed_Payment</th>\n",
       "      <th>Delay_from_due_date</th>\n",
       "      <th>Credit_Score</th>\n",
       "      <th>predicted</th>\n",
       "    </tr>\n",
       "  </thead>\n",
       "  <tbody>\n",
       "    <tr>\n",
       "      <th>28983</th>\n",
       "      <td>23</td>\n",
       "      <td>47</td>\n",
       "      <td>Standard</td>\n",
       "      <td>Poor</td>\n",
       "    </tr>\n",
       "    <tr>\n",
       "      <th>1431</th>\n",
       "      <td>20</td>\n",
       "      <td>25</td>\n",
       "      <td>Standard</td>\n",
       "      <td>Standard</td>\n",
       "    </tr>\n",
       "    <tr>\n",
       "      <th>27040</th>\n",
       "      <td>5</td>\n",
       "      <td>18</td>\n",
       "      <td>Standard</td>\n",
       "      <td>Standard</td>\n",
       "    </tr>\n",
       "    <tr>\n",
       "      <th>9783</th>\n",
       "      <td>1</td>\n",
       "      <td>11</td>\n",
       "      <td>Standard</td>\n",
       "      <td>Good</td>\n",
       "    </tr>\n",
       "    <tr>\n",
       "      <th>29776</th>\n",
       "      <td>7</td>\n",
       "      <td>15</td>\n",
       "      <td>Standard</td>\n",
       "      <td>Standard</td>\n",
       "    </tr>\n",
       "    <tr>\n",
       "      <th>...</th>\n",
       "      <td>...</td>\n",
       "      <td>...</td>\n",
       "      <td>...</td>\n",
       "      <td>...</td>\n",
       "    </tr>\n",
       "    <tr>\n",
       "      <th>69945</th>\n",
       "      <td>6</td>\n",
       "      <td>16</td>\n",
       "      <td>Standard</td>\n",
       "      <td>Standard</td>\n",
       "    </tr>\n",
       "    <tr>\n",
       "      <th>60433</th>\n",
       "      <td>14</td>\n",
       "      <td>11</td>\n",
       "      <td>Standard</td>\n",
       "      <td>Standard</td>\n",
       "    </tr>\n",
       "    <tr>\n",
       "      <th>88064</th>\n",
       "      <td>17</td>\n",
       "      <td>5</td>\n",
       "      <td>Standard</td>\n",
       "      <td>Standard</td>\n",
       "    </tr>\n",
       "    <tr>\n",
       "      <th>50620</th>\n",
       "      <td>10</td>\n",
       "      <td>10</td>\n",
       "      <td>Good</td>\n",
       "      <td>Standard</td>\n",
       "    </tr>\n",
       "    <tr>\n",
       "      <th>95411</th>\n",
       "      <td>16</td>\n",
       "      <td>6</td>\n",
       "      <td>Standard</td>\n",
       "      <td>Standard</td>\n",
       "    </tr>\n",
       "  </tbody>\n",
       "</table>\n",
       "<p>250 rows × 4 columns</p>\n",
       "</div>"
      ],
      "text/plain": [
       "       Num_of_Delayed_Payment  Delay_from_due_date Credit_Score predicted\n",
       "28983                      23                   47     Standard      Poor\n",
       "1431                       20                   25     Standard  Standard\n",
       "27040                       5                   18     Standard  Standard\n",
       "9783                        1                   11     Standard      Good\n",
       "29776                       7                   15     Standard  Standard\n",
       "...                       ...                  ...          ...       ...\n",
       "69945                       6                   16     Standard  Standard\n",
       "60433                      14                   11     Standard  Standard\n",
       "88064                      17                    5     Standard  Standard\n",
       "50620                      10                   10         Good  Standard\n",
       "95411                      16                    6     Standard  Standard\n",
       "\n",
       "[250 rows x 4 columns]"
      ]
     },
     "execution_count": 20,
     "metadata": {},
     "output_type": "execute_result"
    }
   ],
   "source": [
    "test_predictions = test.assign(\n",
    "    predicted = train_fit.predict(test[predictors])\n",
    ")\n",
    "test_predictions"
   ]
  },
  {
   "cell_type": "code",
   "execution_count": 21,
   "metadata": {
    "tags": []
   },
   "outputs": [
    {
     "data": {
      "text/plain": [
       "0.62"
      ]
     },
     "execution_count": 21,
     "metadata": {},
     "output_type": "execute_result"
    }
   ],
   "source": [
    "correct_preds = test_predictions[\n",
    "    test_predictions['Credit_Score'] == test_predictions['predicted']\n",
    "]\n",
    "\n",
    "correct_preds.shape[0] / test_predictions.shape[0]"
   ]
  },
  {
   "cell_type": "code",
   "execution_count": 22,
   "metadata": {
    "tags": []
   },
   "outputs": [
    {
     "data": {
      "text/plain": [
       "0.62"
      ]
     },
     "execution_count": 22,
     "metadata": {},
     "output_type": "execute_result"
    }
   ],
   "source": [
    "X_test = test[predictors]\n",
    "y_test = test[\"Credit_Score\"]\n",
    "accuracy = train_fit.score(X_test,y_test)\n",
    "accuracy"
   ]
  },
  {
   "cell_type": "markdown",
   "metadata": {},
   "source": [
    "### Choosing the best K"
   ]
  },
  {
   "cell_type": "code",
   "execution_count": 23,
   "metadata": {
    "tags": []
   },
   "outputs": [],
   "source": [
    "param_grid = {\n",
    "    \"kneighborsclassifier__n_neighbors\": range(1, 100, 5),\n",
    "}\n",
    "tune_pipe = make_pipeline(preprocessor, KNeighborsClassifier())"
   ]
  },
  {
   "cell_type": "code",
   "execution_count": 24,
   "metadata": {
    "tags": []
   },
   "outputs": [
    {
     "data": {
      "text/html": [
       "<style>#sk-container-id-4 {color: black;background-color: white;}#sk-container-id-4 pre{padding: 0;}#sk-container-id-4 div.sk-toggleable {background-color: white;}#sk-container-id-4 label.sk-toggleable__label {cursor: pointer;display: block;width: 100%;margin-bottom: 0;padding: 0.3em;box-sizing: border-box;text-align: center;}#sk-container-id-4 label.sk-toggleable__label-arrow:before {content: \"▸\";float: left;margin-right: 0.25em;color: #696969;}#sk-container-id-4 label.sk-toggleable__label-arrow:hover:before {color: black;}#sk-container-id-4 div.sk-estimator:hover label.sk-toggleable__label-arrow:before {color: black;}#sk-container-id-4 div.sk-toggleable__content {max-height: 0;max-width: 0;overflow: hidden;text-align: left;background-color: #f0f8ff;}#sk-container-id-4 div.sk-toggleable__content pre {margin: 0.2em;color: black;border-radius: 0.25em;background-color: #f0f8ff;}#sk-container-id-4 input.sk-toggleable__control:checked~div.sk-toggleable__content {max-height: 200px;max-width: 100%;overflow: auto;}#sk-container-id-4 input.sk-toggleable__control:checked~label.sk-toggleable__label-arrow:before {content: \"▾\";}#sk-container-id-4 div.sk-estimator input.sk-toggleable__control:checked~label.sk-toggleable__label {background-color: #d4ebff;}#sk-container-id-4 div.sk-label input.sk-toggleable__control:checked~label.sk-toggleable__label {background-color: #d4ebff;}#sk-container-id-4 input.sk-hidden--visually {border: 0;clip: rect(1px 1px 1px 1px);clip: rect(1px, 1px, 1px, 1px);height: 1px;margin: -1px;overflow: hidden;padding: 0;position: absolute;width: 1px;}#sk-container-id-4 div.sk-estimator {font-family: monospace;background-color: #f0f8ff;border: 1px dotted black;border-radius: 0.25em;box-sizing: border-box;margin-bottom: 0.5em;}#sk-container-id-4 div.sk-estimator:hover {background-color: #d4ebff;}#sk-container-id-4 div.sk-parallel-item::after {content: \"\";width: 100%;border-bottom: 1px solid gray;flex-grow: 1;}#sk-container-id-4 div.sk-label:hover label.sk-toggleable__label {background-color: #d4ebff;}#sk-container-id-4 div.sk-serial::before {content: \"\";position: absolute;border-left: 1px solid gray;box-sizing: border-box;top: 0;bottom: 0;left: 50%;z-index: 0;}#sk-container-id-4 div.sk-serial {display: flex;flex-direction: column;align-items: center;background-color: white;padding-right: 0.2em;padding-left: 0.2em;position: relative;}#sk-container-id-4 div.sk-item {position: relative;z-index: 1;}#sk-container-id-4 div.sk-parallel {display: flex;align-items: stretch;justify-content: center;background-color: white;position: relative;}#sk-container-id-4 div.sk-item::before, #sk-container-id-4 div.sk-parallel-item::before {content: \"\";position: absolute;border-left: 1px solid gray;box-sizing: border-box;top: 0;bottom: 0;left: 50%;z-index: -1;}#sk-container-id-4 div.sk-parallel-item {display: flex;flex-direction: column;z-index: 1;position: relative;background-color: white;}#sk-container-id-4 div.sk-parallel-item:first-child::after {align-self: flex-end;width: 50%;}#sk-container-id-4 div.sk-parallel-item:last-child::after {align-self: flex-start;width: 50%;}#sk-container-id-4 div.sk-parallel-item:only-child::after {width: 0;}#sk-container-id-4 div.sk-dashed-wrapped {border: 1px dashed gray;margin: 0 0.4em 0.5em 0.4em;box-sizing: border-box;padding-bottom: 0.4em;background-color: white;}#sk-container-id-4 div.sk-label label {font-family: monospace;font-weight: bold;display: inline-block;line-height: 1.2em;}#sk-container-id-4 div.sk-label-container {text-align: center;}#sk-container-id-4 div.sk-container {/* jupyter's `normalize.less` sets `[hidden] { display: none; }` but bootstrap.min.css set `[hidden] { display: none !important; }` so we also need the `!important` here to be able to override the default hidden behavior on the sphinx rendered scikit-learn.org. See: https://github.com/scikit-learn/scikit-learn/issues/21755 */display: inline-block !important;position: relative;}#sk-container-id-4 div.sk-text-repr-fallback {display: none;}</style><div id=\"sk-container-id-4\" class=\"sk-top-container\"><div class=\"sk-text-repr-fallback\"><pre>GridSearchCV(cv=25,\n",
       "             estimator=Pipeline(steps=[(&#x27;columntransformer&#x27;,\n",
       "                                        ColumnTransformer(remainder=&#x27;passthrough&#x27;,\n",
       "                                                          transformers=[(&#x27;standardscaler&#x27;,\n",
       "                                                                         StandardScaler(),\n",
       "                                                                         [&#x27;Delay_from_due_date&#x27;,\n",
       "                                                                          &#x27;Num_of_Delayed_Payment&#x27;])],\n",
       "                                                          verbose_feature_names_out=False)),\n",
       "                                       (&#x27;kneighborsclassifier&#x27;,\n",
       "                                        KNeighborsClassifier())]),\n",
       "             param_grid={&#x27;kneighborsclassifier__n_neighbors&#x27;: range(1, 100, 5)})</pre><b>In a Jupyter environment, please rerun this cell to show the HTML representation or trust the notebook. <br />On GitHub, the HTML representation is unable to render, please try loading this page with nbviewer.org.</b></div><div class=\"sk-container\" hidden><div class=\"sk-item sk-dashed-wrapped\"><div class=\"sk-label-container\"><div class=\"sk-label sk-toggleable\"><input class=\"sk-toggleable__control sk-hidden--visually\" id=\"sk-estimator-id-14\" type=\"checkbox\" ><label for=\"sk-estimator-id-14\" class=\"sk-toggleable__label sk-toggleable__label-arrow\">GridSearchCV</label><div class=\"sk-toggleable__content\"><pre>GridSearchCV(cv=25,\n",
       "             estimator=Pipeline(steps=[(&#x27;columntransformer&#x27;,\n",
       "                                        ColumnTransformer(remainder=&#x27;passthrough&#x27;,\n",
       "                                                          transformers=[(&#x27;standardscaler&#x27;,\n",
       "                                                                         StandardScaler(),\n",
       "                                                                         [&#x27;Delay_from_due_date&#x27;,\n",
       "                                                                          &#x27;Num_of_Delayed_Payment&#x27;])],\n",
       "                                                          verbose_feature_names_out=False)),\n",
       "                                       (&#x27;kneighborsclassifier&#x27;,\n",
       "                                        KNeighborsClassifier())]),\n",
       "             param_grid={&#x27;kneighborsclassifier__n_neighbors&#x27;: range(1, 100, 5)})</pre></div></div></div><div class=\"sk-parallel\"><div class=\"sk-parallel-item\"><div class=\"sk-item\"><div class=\"sk-label-container\"><div class=\"sk-label sk-toggleable\"><input class=\"sk-toggleable__control sk-hidden--visually\" id=\"sk-estimator-id-15\" type=\"checkbox\" ><label for=\"sk-estimator-id-15\" class=\"sk-toggleable__label sk-toggleable__label-arrow\">estimator: Pipeline</label><div class=\"sk-toggleable__content\"><pre>Pipeline(steps=[(&#x27;columntransformer&#x27;,\n",
       "                 ColumnTransformer(remainder=&#x27;passthrough&#x27;,\n",
       "                                   transformers=[(&#x27;standardscaler&#x27;,\n",
       "                                                  StandardScaler(),\n",
       "                                                  [&#x27;Delay_from_due_date&#x27;,\n",
       "                                                   &#x27;Num_of_Delayed_Payment&#x27;])],\n",
       "                                   verbose_feature_names_out=False)),\n",
       "                (&#x27;kneighborsclassifier&#x27;, KNeighborsClassifier())])</pre></div></div></div><div class=\"sk-serial\"><div class=\"sk-item\"><div class=\"sk-serial\"><div class=\"sk-item sk-dashed-wrapped\"><div class=\"sk-label-container\"><div class=\"sk-label sk-toggleable\"><input class=\"sk-toggleable__control sk-hidden--visually\" id=\"sk-estimator-id-16\" type=\"checkbox\" ><label for=\"sk-estimator-id-16\" class=\"sk-toggleable__label sk-toggleable__label-arrow\">columntransformer: ColumnTransformer</label><div class=\"sk-toggleable__content\"><pre>ColumnTransformer(remainder=&#x27;passthrough&#x27;,\n",
       "                  transformers=[(&#x27;standardscaler&#x27;, StandardScaler(),\n",
       "                                 [&#x27;Delay_from_due_date&#x27;,\n",
       "                                  &#x27;Num_of_Delayed_Payment&#x27;])],\n",
       "                  verbose_feature_names_out=False)</pre></div></div></div><div class=\"sk-parallel\"><div class=\"sk-parallel-item\"><div class=\"sk-item\"><div class=\"sk-label-container\"><div class=\"sk-label sk-toggleable\"><input class=\"sk-toggleable__control sk-hidden--visually\" id=\"sk-estimator-id-17\" type=\"checkbox\" ><label for=\"sk-estimator-id-17\" class=\"sk-toggleable__label sk-toggleable__label-arrow\">standardscaler</label><div class=\"sk-toggleable__content\"><pre>[&#x27;Delay_from_due_date&#x27;, &#x27;Num_of_Delayed_Payment&#x27;]</pre></div></div></div><div class=\"sk-serial\"><div class=\"sk-item\"><div class=\"sk-estimator sk-toggleable\"><input class=\"sk-toggleable__control sk-hidden--visually\" id=\"sk-estimator-id-18\" type=\"checkbox\" ><label for=\"sk-estimator-id-18\" class=\"sk-toggleable__label sk-toggleable__label-arrow\">StandardScaler</label><div class=\"sk-toggleable__content\"><pre>StandardScaler()</pre></div></div></div></div></div></div><div class=\"sk-parallel-item\"><div class=\"sk-item\"><div class=\"sk-label-container\"><div class=\"sk-label sk-toggleable\"><input class=\"sk-toggleable__control sk-hidden--visually\" id=\"sk-estimator-id-19\" type=\"checkbox\" ><label for=\"sk-estimator-id-19\" class=\"sk-toggleable__label sk-toggleable__label-arrow\">remainder</label><div class=\"sk-toggleable__content\"><pre>[]</pre></div></div></div><div class=\"sk-serial\"><div class=\"sk-item\"><div class=\"sk-estimator sk-toggleable\"><input class=\"sk-toggleable__control sk-hidden--visually\" id=\"sk-estimator-id-20\" type=\"checkbox\" ><label for=\"sk-estimator-id-20\" class=\"sk-toggleable__label sk-toggleable__label-arrow\">passthrough</label><div class=\"sk-toggleable__content\"><pre>passthrough</pre></div></div></div></div></div></div></div></div><div class=\"sk-item\"><div class=\"sk-estimator sk-toggleable\"><input class=\"sk-toggleable__control sk-hidden--visually\" id=\"sk-estimator-id-21\" type=\"checkbox\" ><label for=\"sk-estimator-id-21\" class=\"sk-toggleable__label sk-toggleable__label-arrow\">KNeighborsClassifier</label><div class=\"sk-toggleable__content\"><pre>KNeighborsClassifier()</pre></div></div></div></div></div></div></div></div></div></div></div></div>"
      ],
      "text/plain": [
       "GridSearchCV(cv=25,\n",
       "             estimator=Pipeline(steps=[('columntransformer',\n",
       "                                        ColumnTransformer(remainder='passthrough',\n",
       "                                                          transformers=[('standardscaler',\n",
       "                                                                         StandardScaler(),\n",
       "                                                                         ['Delay_from_due_date',\n",
       "                                                                          'Num_of_Delayed_Payment'])],\n",
       "                                                          verbose_feature_names_out=False)),\n",
       "                                       ('kneighborsclassifier',\n",
       "                                        KNeighborsClassifier())]),\n",
       "             param_grid={'kneighborsclassifier__n_neighbors': range(1, 100, 5)})"
      ]
     },
     "execution_count": 24,
     "metadata": {},
     "output_type": "execute_result"
    }
   ],
   "source": [
    "knn_tune_grid = GridSearchCV(\n",
    "    estimator = tune_pipe, param_grid = param_grid, cv=25,\n",
    ")\n",
    "knn_tune_grid"
   ]
  },
  {
   "cell_type": "code",
   "execution_count": 25,
   "metadata": {
    "tags": []
   },
   "outputs": [],
   "source": [
    "knn_model_grid = knn_tune_grid.fit(X, y)\n",
    "\n",
    "accuracies_grid = pd.DataFrame(knn_model_grid.cv_results_)\n",
    "#accuracies_grid"
   ]
  },
  {
   "cell_type": "code",
   "execution_count": 26,
   "metadata": {
    "tags": []
   },
   "outputs": [
    {
     "data": {
      "text/html": [
       "\n",
       "<style>\n",
       "  #altair-viz-62b00b9a96a14d9ba60d1ce90470976a.vega-embed {\n",
       "    width: 100%;\n",
       "    display: flex;\n",
       "  }\n",
       "\n",
       "  #altair-viz-62b00b9a96a14d9ba60d1ce90470976a.vega-embed details,\n",
       "  #altair-viz-62b00b9a96a14d9ba60d1ce90470976a.vega-embed details summary {\n",
       "    position: relative;\n",
       "  }\n",
       "</style>\n",
       "<div id=\"altair-viz-62b00b9a96a14d9ba60d1ce90470976a\"></div>\n",
       "<script type=\"text/javascript\">\n",
       "  var VEGA_DEBUG = (typeof VEGA_DEBUG == \"undefined\") ? {} : VEGA_DEBUG;\n",
       "  (function(spec, embedOpt){\n",
       "    let outputDiv = document.currentScript.previousElementSibling;\n",
       "    if (outputDiv.id !== \"altair-viz-62b00b9a96a14d9ba60d1ce90470976a\") {\n",
       "      outputDiv = document.getElementById(\"altair-viz-62b00b9a96a14d9ba60d1ce90470976a\");\n",
       "    }\n",
       "    const paths = {\n",
       "      \"vega\": \"https://cdn.jsdelivr.net/npm/vega@5?noext\",\n",
       "      \"vega-lib\": \"https://cdn.jsdelivr.net/npm/vega-lib?noext\",\n",
       "      \"vega-lite\": \"https://cdn.jsdelivr.net/npm/vega-lite@5.16.3?noext\",\n",
       "      \"vega-embed\": \"https://cdn.jsdelivr.net/npm/vega-embed@6?noext\",\n",
       "    };\n",
       "\n",
       "    function maybeLoadScript(lib, version) {\n",
       "      var key = `${lib.replace(\"-\", \"\")}_version`;\n",
       "      return (VEGA_DEBUG[key] == version) ?\n",
       "        Promise.resolve(paths[lib]) :\n",
       "        new Promise(function(resolve, reject) {\n",
       "          var s = document.createElement('script');\n",
       "          document.getElementsByTagName(\"head\")[0].appendChild(s);\n",
       "          s.async = true;\n",
       "          s.onload = () => {\n",
       "            VEGA_DEBUG[key] = version;\n",
       "            return resolve(paths[lib]);\n",
       "          };\n",
       "          s.onerror = () => reject(`Error loading script: ${paths[lib]}`);\n",
       "          s.src = paths[lib];\n",
       "        });\n",
       "    }\n",
       "\n",
       "    function showError(err) {\n",
       "      outputDiv.innerHTML = `<div class=\"error\" style=\"color:red;\">${err}</div>`;\n",
       "      throw err;\n",
       "    }\n",
       "\n",
       "    function displayChart(vegaEmbed) {\n",
       "      vegaEmbed(outputDiv, spec, embedOpt)\n",
       "        .catch(err => showError(`Javascript Error: ${err.message}<br>This usually means there's a typo in your chart specification. See the javascript console for the full traceback.`));\n",
       "    }\n",
       "\n",
       "    if(typeof define === \"function\" && define.amd) {\n",
       "      requirejs.config({paths});\n",
       "      require([\"vega-embed\"], displayChart, err => showError(`Error loading script: ${err.message}`));\n",
       "    } else {\n",
       "      maybeLoadScript(\"vega\", \"5\")\n",
       "        .then(() => maybeLoadScript(\"vega-lite\", \"5.16.3\"))\n",
       "        .then(() => maybeLoadScript(\"vega-embed\", \"6\"))\n",
       "        .catch(showError)\n",
       "        .then(() => displayChart(vegaEmbed));\n",
       "    }\n",
       "  })({\"config\": {\"view\": {\"continuousWidth\": 300, \"continuousHeight\": 300}}, \"data\": {\"name\": \"data-6d08b1637404e2d629b4d6855fcc7bb5\"}, \"mark\": {\"type\": \"line\", \"point\": true}, \"encoding\": {\"x\": {\"field\": \"param_kneighborsclassifier__n_neighbors\", \"scale\": {\"zero\": false}, \"title\": \"neighbors\", \"type\": \"quantitative\"}, \"y\": {\"field\": \"mean_test_score\", \"scale\": {\"zero\": false}, \"title\": \"Mean test score\", \"type\": \"quantitative\"}}, \"$schema\": \"https://vega.github.io/schema/vega-lite/v5.16.3.json\", \"datasets\": {\"data-6d08b1637404e2d629b4d6855fcc7bb5\": [{\"mean_fit_time\": 0.005985860824584961, \"std_fit_time\": 0.0011516396615020583, \"mean_score_time\": 0.0046945858001708985, \"std_score_time\": 0.000924067890243962, \"param_kneighborsclassifier__n_neighbors\": 1, \"params\": {\"kneighborsclassifier__n_neighbors\": 1}, \"split0_test_score\": 0.5714285714285714, \"split1_test_score\": 0.39285714285714285, \"split2_test_score\": 0.5714285714285714, \"split3_test_score\": 0.5714285714285714, \"split4_test_score\": 0.39285714285714285, \"split5_test_score\": 0.42857142857142855, \"split6_test_score\": 0.5, \"split7_test_score\": 0.5, \"split8_test_score\": 0.42857142857142855, \"split9_test_score\": 0.35714285714285715, \"split10_test_score\": 0.4642857142857143, \"split11_test_score\": 0.5357142857142857, \"split12_test_score\": 0.5357142857142857, \"split13_test_score\": 0.6666666666666666, \"split14_test_score\": 0.6666666666666666, \"split15_test_score\": 0.5555555555555556, \"split16_test_score\": 0.5555555555555556, \"split17_test_score\": 0.5185185185185185, \"split18_test_score\": 0.3333333333333333, \"split19_test_score\": 0.48148148148148145, \"split20_test_score\": 0.4444444444444444, \"split21_test_score\": 0.37037037037037035, \"split22_test_score\": 0.4074074074074074, \"split23_test_score\": 0.4444444444444444, \"split24_test_score\": 0.48148148148148145, \"mean_test_score\": 0.48703703703703705, \"std_test_score\": 0.08731280992480961, \"rank_test_score\": 20}, {\"mean_fit_time\": 0.0055313587188720705, \"std_fit_time\": 0.0030009008458220113, \"mean_score_time\": 0.004838933944702148, \"std_score_time\": 0.0032670710481471073, \"param_kneighborsclassifier__n_neighbors\": 6, \"params\": {\"kneighborsclassifier__n_neighbors\": 6}, \"split0_test_score\": 0.5357142857142857, \"split1_test_score\": 0.5357142857142857, \"split2_test_score\": 0.5714285714285714, \"split3_test_score\": 0.7142857142857143, \"split4_test_score\": 0.5714285714285714, \"split5_test_score\": 0.6785714285714286, \"split6_test_score\": 0.42857142857142855, \"split7_test_score\": 0.6428571428571429, \"split8_test_score\": 0.5, \"split9_test_score\": 0.42857142857142855, \"split10_test_score\": 0.5357142857142857, \"split11_test_score\": 0.5714285714285714, \"split12_test_score\": 0.5357142857142857, \"split13_test_score\": 0.5925925925925926, \"split14_test_score\": 0.6296296296296297, \"split15_test_score\": 0.5925925925925926, \"split16_test_score\": 0.6296296296296297, \"split17_test_score\": 0.5555555555555556, \"split18_test_score\": 0.5555555555555556, \"split19_test_score\": 0.6296296296296297, \"split20_test_score\": 0.4444444444444444, \"split21_test_score\": 0.5555555555555556, \"split22_test_score\": 0.4074074074074074, \"split23_test_score\": 0.5185185185185185, \"split24_test_score\": 0.5185185185185185, \"mean_test_score\": 0.5551851851851852, \"std_test_score\": 0.07532719331703547, \"rank_test_score\": 19}, {\"mean_fit_time\": 0.006695432662963867, \"std_fit_time\": 0.002451266792186191, \"mean_score_time\": 0.005237760543823242, \"std_score_time\": 0.002588804748440735, \"param_kneighborsclassifier__n_neighbors\": 11, \"params\": {\"kneighborsclassifier__n_neighbors\": 11}, \"split0_test_score\": 0.6428571428571429, \"split1_test_score\": 0.6785714285714286, \"split2_test_score\": 0.6071428571428571, \"split3_test_score\": 0.6428571428571429, \"split4_test_score\": 0.4642857142857143, \"split5_test_score\": 0.7142857142857143, \"split6_test_score\": 0.39285714285714285, \"split7_test_score\": 0.7142857142857143, \"split8_test_score\": 0.4642857142857143, \"split9_test_score\": 0.5, \"split10_test_score\": 0.5714285714285714, \"split11_test_score\": 0.5714285714285714, \"split12_test_score\": 0.5, \"split13_test_score\": 0.6296296296296297, \"split14_test_score\": 0.5185185185185185, \"split15_test_score\": 0.6666666666666666, \"split16_test_score\": 0.5555555555555556, \"split17_test_score\": 0.5555555555555556, \"split18_test_score\": 0.5925925925925926, \"split19_test_score\": 0.6296296296296297, \"split20_test_score\": 0.4444444444444444, \"split21_test_score\": 0.4444444444444444, \"split22_test_score\": 0.48148148148148145, \"split23_test_score\": 0.5925925925925926, \"split24_test_score\": 0.5185185185185185, \"mean_test_score\": 0.5637566137566138, \"std_test_score\": 0.08730158730158731, \"rank_test_score\": 16}, {\"mean_fit_time\": 0.007473297119140625, \"std_fit_time\": 0.002593568132740196, \"mean_score_time\": 0.006421833038330078, \"std_score_time\": 0.003209844791803253, \"param_kneighborsclassifier__n_neighbors\": 16, \"params\": {\"kneighborsclassifier__n_neighbors\": 16}, \"split0_test_score\": 0.5714285714285714, \"split1_test_score\": 0.5714285714285714, \"split2_test_score\": 0.6071428571428571, \"split3_test_score\": 0.7142857142857143, \"split4_test_score\": 0.5714285714285714, \"split5_test_score\": 0.6785714285714286, \"split6_test_score\": 0.4642857142857143, \"split7_test_score\": 0.7142857142857143, \"split8_test_score\": 0.4642857142857143, \"split9_test_score\": 0.5357142857142857, \"split10_test_score\": 0.5357142857142857, \"split11_test_score\": 0.5357142857142857, \"split12_test_score\": 0.5357142857142857, \"split13_test_score\": 0.6666666666666666, \"split14_test_score\": 0.48148148148148145, \"split15_test_score\": 0.6296296296296297, \"split16_test_score\": 0.5555555555555556, \"split17_test_score\": 0.5555555555555556, \"split18_test_score\": 0.5555555555555556, \"split19_test_score\": 0.5925925925925926, \"split20_test_score\": 0.3333333333333333, \"split21_test_score\": 0.4444444444444444, \"split22_test_score\": 0.5185185185185185, \"split23_test_score\": 0.6296296296296297, \"split24_test_score\": 0.48148148148148145, \"mean_test_score\": 0.5577777777777777, \"std_test_score\": 0.08621312807079366, \"rank_test_score\": 17}, {\"mean_fit_time\": 0.006618928909301758, \"std_fit_time\": 0.002247977445791289, \"mean_score_time\": 0.005253372192382813, \"std_score_time\": 0.002292346398177788, \"param_kneighborsclassifier__n_neighbors\": 21, \"params\": {\"kneighborsclassifier__n_neighbors\": 21}, \"split0_test_score\": 0.6428571428571429, \"split1_test_score\": 0.5357142857142857, \"split2_test_score\": 0.6428571428571429, \"split3_test_score\": 0.6428571428571429, \"split4_test_score\": 0.4642857142857143, \"split5_test_score\": 0.7857142857142857, \"split6_test_score\": 0.4642857142857143, \"split7_test_score\": 0.6785714285714286, \"split8_test_score\": 0.39285714285714285, \"split9_test_score\": 0.5357142857142857, \"split10_test_score\": 0.5714285714285714, \"split11_test_score\": 0.5, \"split12_test_score\": 0.42857142857142855, \"split13_test_score\": 0.6296296296296297, \"split14_test_score\": 0.5555555555555556, \"split15_test_score\": 0.7037037037037037, \"split16_test_score\": 0.5555555555555556, \"split17_test_score\": 0.5555555555555556, \"split18_test_score\": 0.5925925925925926, \"split19_test_score\": 0.5555555555555556, \"split20_test_score\": 0.3333333333333333, \"split21_test_score\": 0.48148148148148145, \"split22_test_score\": 0.48148148148148145, \"split23_test_score\": 0.6666666666666666, \"split24_test_score\": 0.5185185185185185, \"mean_test_score\": 0.5566137566137566, \"std_test_score\": 0.10143079324005283, \"rank_test_score\": 18}, {\"mean_fit_time\": 0.007475090026855469, \"std_fit_time\": 0.0029590178650165783, \"mean_score_time\": 0.00523615837097168, \"std_score_time\": 0.003666920523697815, \"param_kneighborsclassifier__n_neighbors\": 26, \"params\": {\"kneighborsclassifier__n_neighbors\": 26}, \"split0_test_score\": 0.6428571428571429, \"split1_test_score\": 0.5714285714285714, \"split2_test_score\": 0.6428571428571429, \"split3_test_score\": 0.6428571428571429, \"split4_test_score\": 0.5714285714285714, \"split5_test_score\": 0.6785714285714286, \"split6_test_score\": 0.4642857142857143, \"split7_test_score\": 0.7142857142857143, \"split8_test_score\": 0.5, \"split9_test_score\": 0.5357142857142857, \"split10_test_score\": 0.5714285714285714, \"split11_test_score\": 0.5714285714285714, \"split12_test_score\": 0.5357142857142857, \"split13_test_score\": 0.7037037037037037, \"split14_test_score\": 0.5555555555555556, \"split15_test_score\": 0.6296296296296297, \"split16_test_score\": 0.6296296296296297, \"split17_test_score\": 0.5555555555555556, \"split18_test_score\": 0.5555555555555556, \"split19_test_score\": 0.5555555555555556, \"split20_test_score\": 0.48148148148148145, \"split21_test_score\": 0.5925925925925926, \"split22_test_score\": 0.48148148148148145, \"split23_test_score\": 0.7037037037037037, \"split24_test_score\": 0.5925925925925926, \"mean_test_score\": 0.5871957671957673, \"std_test_score\": 0.0692716873583006, \"rank_test_score\": 14}, {\"mean_fit_time\": 0.006785945892333984, \"std_fit_time\": 0.002991867159453486, \"mean_score_time\": 0.005416831970214844, \"std_score_time\": 0.0024910579029604136, \"param_kneighborsclassifier__n_neighbors\": 31, \"params\": {\"kneighborsclassifier__n_neighbors\": 31}, \"split0_test_score\": 0.6428571428571429, \"split1_test_score\": 0.5357142857142857, \"split2_test_score\": 0.7142857142857143, \"split3_test_score\": 0.6785714285714286, \"split4_test_score\": 0.6071428571428571, \"split5_test_score\": 0.6428571428571429, \"split6_test_score\": 0.4642857142857143, \"split7_test_score\": 0.7142857142857143, \"split8_test_score\": 0.4642857142857143, \"split9_test_score\": 0.5714285714285714, \"split10_test_score\": 0.5714285714285714, \"split11_test_score\": 0.6428571428571429, \"split12_test_score\": 0.5714285714285714, \"split13_test_score\": 0.7407407407407407, \"split14_test_score\": 0.5185185185185185, \"split15_test_score\": 0.6296296296296297, \"split16_test_score\": 0.5185185185185185, \"split17_test_score\": 0.5185185185185185, \"split18_test_score\": 0.5555555555555556, \"split19_test_score\": 0.6296296296296297, \"split20_test_score\": 0.5185185185185185, \"split21_test_score\": 0.5925925925925926, \"split22_test_score\": 0.4444444444444444, \"split23_test_score\": 0.6666666666666666, \"split24_test_score\": 0.6296296296296297, \"mean_test_score\": 0.5913756613756614, \"std_test_score\": 0.07977137623970249, \"rank_test_score\": 12}, {\"mean_fit_time\": 0.005538349151611328, \"std_fit_time\": 0.0032803687529387904, \"mean_score_time\": 0.004557209014892578, \"std_score_time\": 0.0028130742932047513, \"param_kneighborsclassifier__n_neighbors\": 36, \"params\": {\"kneighborsclassifier__n_neighbors\": 36}, \"split0_test_score\": 0.6785714285714286, \"split1_test_score\": 0.5714285714285714, \"split2_test_score\": 0.6785714285714286, \"split3_test_score\": 0.6785714285714286, \"split4_test_score\": 0.6071428571428571, \"split5_test_score\": 0.6428571428571429, \"split6_test_score\": 0.4642857142857143, \"split7_test_score\": 0.7142857142857143, \"split8_test_score\": 0.4642857142857143, \"split9_test_score\": 0.5714285714285714, \"split10_test_score\": 0.5714285714285714, \"split11_test_score\": 0.6785714285714286, \"split12_test_score\": 0.6071428571428571, \"split13_test_score\": 0.7037037037037037, \"split14_test_score\": 0.5185185185185185, \"split15_test_score\": 0.6666666666666666, \"split16_test_score\": 0.48148148148148145, \"split17_test_score\": 0.5555555555555556, \"split18_test_score\": 0.5925925925925926, \"split19_test_score\": 0.6296296296296297, \"split20_test_score\": 0.6296296296296297, \"split21_test_score\": 0.5925925925925926, \"split22_test_score\": 0.4444444444444444, \"split23_test_score\": 0.6666666666666666, \"split24_test_score\": 0.5925925925925926, \"mean_test_score\": 0.6001058201058201, \"std_test_score\": 0.07678588632294597, \"rank_test_score\": 2}, {\"mean_fit_time\": 0.005721025466918946, \"std_fit_time\": 0.0027797559222101326, \"mean_score_time\": 0.004764385223388672, \"std_score_time\": 0.0031029646286893932, \"param_kneighborsclassifier__n_neighbors\": 41, \"params\": {\"kneighborsclassifier__n_neighbors\": 41}, \"split0_test_score\": 0.6785714285714286, \"split1_test_score\": 0.5357142857142857, \"split2_test_score\": 0.7142857142857143, \"split3_test_score\": 0.6785714285714286, \"split4_test_score\": 0.6428571428571429, \"split5_test_score\": 0.6785714285714286, \"split6_test_score\": 0.4642857142857143, \"split7_test_score\": 0.6428571428571429, \"split8_test_score\": 0.5, \"split9_test_score\": 0.5357142857142857, \"split10_test_score\": 0.5714285714285714, \"split11_test_score\": 0.6785714285714286, \"split12_test_score\": 0.6071428571428571, \"split13_test_score\": 0.7407407407407407, \"split14_test_score\": 0.5185185185185185, \"split15_test_score\": 0.6296296296296297, \"split16_test_score\": 0.5185185185185185, \"split17_test_score\": 0.5185185185185185, \"split18_test_score\": 0.5925925925925926, \"split19_test_score\": 0.6296296296296297, \"split20_test_score\": 0.6296296296296297, \"split21_test_score\": 0.5925925925925926, \"split22_test_score\": 0.4074074074074074, \"split23_test_score\": 0.6296296296296297, \"split24_test_score\": 0.6296296296296297, \"mean_test_score\": 0.5986243386243386, \"std_test_score\": 0.08006226405971946, \"rank_test_score\": 5}, {\"mean_fit_time\": 0.008367557525634766, \"std_fit_time\": 0.0026095272220500055, \"mean_score_time\": 0.005719060897827148, \"std_score_time\": 0.0028182610351569913, \"param_kneighborsclassifier__n_neighbors\": 46, \"params\": {\"kneighborsclassifier__n_neighbors\": 46}, \"split0_test_score\": 0.6785714285714286, \"split1_test_score\": 0.5714285714285714, \"split2_test_score\": 0.6428571428571429, \"split3_test_score\": 0.6785714285714286, \"split4_test_score\": 0.6071428571428571, \"split5_test_score\": 0.6785714285714286, \"split6_test_score\": 0.4642857142857143, \"split7_test_score\": 0.6428571428571429, \"split8_test_score\": 0.5, \"split9_test_score\": 0.5357142857142857, \"split10_test_score\": 0.5714285714285714, \"split11_test_score\": 0.6785714285714286, \"split12_test_score\": 0.5714285714285714, \"split13_test_score\": 0.7037037037037037, \"split14_test_score\": 0.5185185185185185, \"split15_test_score\": 0.6296296296296297, \"split16_test_score\": 0.5185185185185185, \"split17_test_score\": 0.5185185185185185, \"split18_test_score\": 0.5925925925925926, \"split19_test_score\": 0.6296296296296297, \"split20_test_score\": 0.6296296296296297, \"split21_test_score\": 0.6296296296296297, \"split22_test_score\": 0.4074074074074074, \"split23_test_score\": 0.6296296296296297, \"split24_test_score\": 0.5925925925925926, \"mean_test_score\": 0.592857142857143, \"std_test_score\": 0.07332291091560779, \"rank_test_score\": 11}, {\"mean_fit_time\": 0.006554718017578125, \"std_fit_time\": 0.0014824222210175855, \"mean_score_time\": 0.004913530349731445, \"std_score_time\": 0.0013295161651059749, \"param_kneighborsclassifier__n_neighbors\": 51, \"params\": {\"kneighborsclassifier__n_neighbors\": 51}, \"split0_test_score\": 0.6428571428571429, \"split1_test_score\": 0.5714285714285714, \"split2_test_score\": 0.6428571428571429, \"split3_test_score\": 0.6785714285714286, \"split4_test_score\": 0.6071428571428571, \"split5_test_score\": 0.6785714285714286, \"split6_test_score\": 0.4642857142857143, \"split7_test_score\": 0.6071428571428571, \"split8_test_score\": 0.5, \"split9_test_score\": 0.5357142857142857, \"split10_test_score\": 0.5714285714285714, \"split11_test_score\": 0.7142857142857143, \"split12_test_score\": 0.5714285714285714, \"split13_test_score\": 0.7037037037037037, \"split14_test_score\": 0.5185185185185185, \"split15_test_score\": 0.6296296296296297, \"split16_test_score\": 0.48148148148148145, \"split17_test_score\": 0.5555555555555556, \"split18_test_score\": 0.6296296296296297, \"split19_test_score\": 0.6296296296296297, \"split20_test_score\": 0.6296296296296297, \"split21_test_score\": 0.6296296296296297, \"split22_test_score\": 0.4074074074074074, \"split23_test_score\": 0.7037037037037037, \"split24_test_score\": 0.6666666666666666, \"mean_test_score\": 0.5988359788359788, \"std_test_score\": 0.07854828369493617, \"rank_test_score\": 3}, {\"mean_fit_time\": 0.0071954345703125, \"std_fit_time\": 0.0020281237327707887, \"mean_score_time\": 0.004447851181030273, \"std_score_time\": 0.0025650597884114726, \"param_kneighborsclassifier__n_neighbors\": 56, \"params\": {\"kneighborsclassifier__n_neighbors\": 56}, \"split0_test_score\": 0.6785714285714286, \"split1_test_score\": 0.6071428571428571, \"split2_test_score\": 0.6785714285714286, \"split3_test_score\": 0.6428571428571429, \"split4_test_score\": 0.6428571428571429, \"split5_test_score\": 0.6785714285714286, \"split6_test_score\": 0.4642857142857143, \"split7_test_score\": 0.6785714285714286, \"split8_test_score\": 0.5357142857142857, \"split9_test_score\": 0.5357142857142857, \"split10_test_score\": 0.5714285714285714, \"split11_test_score\": 0.6428571428571429, \"split12_test_score\": 0.5714285714285714, \"split13_test_score\": 0.7407407407407407, \"split14_test_score\": 0.5185185185185185, \"split15_test_score\": 0.6296296296296297, \"split16_test_score\": 0.48148148148148145, \"split17_test_score\": 0.6296296296296297, \"split18_test_score\": 0.6296296296296297, \"split19_test_score\": 0.6296296296296297, \"split20_test_score\": 0.6296296296296297, \"split21_test_score\": 0.6296296296296297, \"split22_test_score\": 0.4074074074074074, \"split23_test_score\": 0.5925925925925926, \"split24_test_score\": 0.6666666666666666, \"mean_test_score\": 0.6045502645502645, \"std_test_score\": 0.07626436746145655, \"rank_test_score\": 1}, {\"mean_fit_time\": 0.007003087997436524, \"std_fit_time\": 0.0027794936435006023, \"mean_score_time\": 0.004593954086303711, \"std_score_time\": 0.0025637910792933004, \"param_kneighborsclassifier__n_neighbors\": 61, \"params\": {\"kneighborsclassifier__n_neighbors\": 61}, \"split0_test_score\": 0.6785714285714286, \"split1_test_score\": 0.6071428571428571, \"split2_test_score\": 0.6071428571428571, \"split3_test_score\": 0.6071428571428571, \"split4_test_score\": 0.6428571428571429, \"split5_test_score\": 0.6785714285714286, \"split6_test_score\": 0.4642857142857143, \"split7_test_score\": 0.6428571428571429, \"split8_test_score\": 0.5, \"split9_test_score\": 0.5357142857142857, \"split10_test_score\": 0.5714285714285714, \"split11_test_score\": 0.6428571428571429, \"split12_test_score\": 0.5714285714285714, \"split13_test_score\": 0.7407407407407407, \"split14_test_score\": 0.5555555555555556, \"split15_test_score\": 0.6296296296296297, \"split16_test_score\": 0.48148148148148145, \"split17_test_score\": 0.6296296296296297, \"split18_test_score\": 0.6296296296296297, \"split19_test_score\": 0.5925925925925926, \"split20_test_score\": 0.6296296296296297, \"split21_test_score\": 0.6296296296296297, \"split22_test_score\": 0.4074074074074074, \"split23_test_score\": 0.6296296296296297, \"split24_test_score\": 0.6296296296296297, \"mean_test_score\": 0.5974074074074075, \"std_test_score\": 0.07242870265033118, \"rank_test_score\": 6}, {\"mean_fit_time\": 0.005668201446533203, \"std_fit_time\": 0.002202903738404623, \"mean_score_time\": 0.004521579742431641, \"std_score_time\": 0.0013791564124272261, \"param_kneighborsclassifier__n_neighbors\": 66, \"params\": {\"kneighborsclassifier__n_neighbors\": 66}, \"split0_test_score\": 0.6428571428571429, \"split1_test_score\": 0.5714285714285714, \"split2_test_score\": 0.6428571428571429, \"split3_test_score\": 0.6071428571428571, \"split4_test_score\": 0.6428571428571429, \"split5_test_score\": 0.6785714285714286, \"split6_test_score\": 0.4642857142857143, \"split7_test_score\": 0.6071428571428571, \"split8_test_score\": 0.5, \"split9_test_score\": 0.5714285714285714, \"split10_test_score\": 0.5714285714285714, \"split11_test_score\": 0.6785714285714286, \"split12_test_score\": 0.5714285714285714, \"split13_test_score\": 0.7037037037037037, \"split14_test_score\": 0.5555555555555556, \"split15_test_score\": 0.6296296296296297, \"split16_test_score\": 0.5185185185185185, \"split17_test_score\": 0.6296296296296297, \"split18_test_score\": 0.6296296296296297, \"split19_test_score\": 0.5925925925925926, \"split20_test_score\": 0.6296296296296297, \"split21_test_score\": 0.6296296296296297, \"split22_test_score\": 0.4074074074074074, \"split23_test_score\": 0.5925925925925926, \"split24_test_score\": 0.6296296296296297, \"mean_test_score\": 0.595925925925926, \"std_test_score\": 0.0666531438371989, \"rank_test_score\": 7}, {\"mean_fit_time\": 0.006114931106567383, \"std_fit_time\": 0.002512410929038919, \"mean_score_time\": 0.004019298553466797, \"std_score_time\": 0.0021788742854947037, \"param_kneighborsclassifier__n_neighbors\": 71, \"params\": {\"kneighborsclassifier__n_neighbors\": 71}, \"split0_test_score\": 0.6428571428571429, \"split1_test_score\": 0.6071428571428571, \"split2_test_score\": 0.6071428571428571, \"split3_test_score\": 0.6071428571428571, \"split4_test_score\": 0.6428571428571429, \"split5_test_score\": 0.6428571428571429, \"split6_test_score\": 0.4642857142857143, \"split7_test_score\": 0.6071428571428571, \"split8_test_score\": 0.5357142857142857, \"split9_test_score\": 0.5714285714285714, \"split10_test_score\": 0.5714285714285714, \"split11_test_score\": 0.6785714285714286, \"split12_test_score\": 0.5714285714285714, \"split13_test_score\": 0.7037037037037037, \"split14_test_score\": 0.5185185185185185, \"split15_test_score\": 0.5925925925925926, \"split16_test_score\": 0.5185185185185185, \"split17_test_score\": 0.6296296296296297, \"split18_test_score\": 0.6296296296296297, \"split19_test_score\": 0.5925925925925926, \"split20_test_score\": 0.6296296296296297, \"split21_test_score\": 0.6296296296296297, \"split22_test_score\": 0.4074074074074074, \"split23_test_score\": 0.6296296296296297, \"split24_test_score\": 0.6296296296296297, \"mean_test_score\": 0.5944444444444444, \"std_test_score\": 0.06406815364186422, \"rank_test_score\": 9}, {\"mean_fit_time\": 0.0059051322937011715, \"std_fit_time\": 0.0024043197230970066, \"mean_score_time\": 0.004388294219970703, \"std_score_time\": 0.002574410128032987, \"param_kneighborsclassifier__n_neighbors\": 76, \"params\": {\"kneighborsclassifier__n_neighbors\": 76}, \"split0_test_score\": 0.6428571428571429, \"split1_test_score\": 0.6071428571428571, \"split2_test_score\": 0.6071428571428571, \"split3_test_score\": 0.6428571428571429, \"split4_test_score\": 0.6071428571428571, \"split5_test_score\": 0.6785714285714286, \"split6_test_score\": 0.4642857142857143, \"split7_test_score\": 0.6071428571428571, \"split8_test_score\": 0.5357142857142857, \"split9_test_score\": 0.5714285714285714, \"split10_test_score\": 0.5714285714285714, \"split11_test_score\": 0.6785714285714286, \"split12_test_score\": 0.6071428571428571, \"split13_test_score\": 0.7037037037037037, \"split14_test_score\": 0.5185185185185185, \"split15_test_score\": 0.5925925925925926, \"split16_test_score\": 0.5185185185185185, \"split17_test_score\": 0.6296296296296297, \"split18_test_score\": 0.6296296296296297, \"split19_test_score\": 0.5925925925925926, \"split20_test_score\": 0.6296296296296297, \"split21_test_score\": 0.6296296296296297, \"split22_test_score\": 0.4444444444444444, \"split23_test_score\": 0.6296296296296297, \"split24_test_score\": 0.6296296296296297, \"mean_test_score\": 0.5987830687830688, \"std_test_score\": 0.061328571608877634, \"rank_test_score\": 4}, {\"mean_fit_time\": 0.006261863708496094, \"std_fit_time\": 0.002207430072596962, \"mean_score_time\": 0.004438409805297852, \"std_score_time\": 0.0010366229484200002, \"param_kneighborsclassifier__n_neighbors\": 81, \"params\": {\"kneighborsclassifier__n_neighbors\": 81}, \"split0_test_score\": 0.6071428571428571, \"split1_test_score\": 0.6071428571428571, \"split2_test_score\": 0.6071428571428571, \"split3_test_score\": 0.6428571428571429, \"split4_test_score\": 0.6428571428571429, \"split5_test_score\": 0.6785714285714286, \"split6_test_score\": 0.4642857142857143, \"split7_test_score\": 0.6071428571428571, \"split8_test_score\": 0.5357142857142857, \"split9_test_score\": 0.5714285714285714, \"split10_test_score\": 0.5714285714285714, \"split11_test_score\": 0.6071428571428571, \"split12_test_score\": 0.6428571428571429, \"split13_test_score\": 0.7407407407407407, \"split14_test_score\": 0.5185185185185185, \"split15_test_score\": 0.5925925925925926, \"split16_test_score\": 0.5185185185185185, \"split17_test_score\": 0.5925925925925926, \"split18_test_score\": 0.6296296296296297, \"split19_test_score\": 0.5925925925925926, \"split20_test_score\": 0.6296296296296297, \"split21_test_score\": 0.6296296296296297, \"split22_test_score\": 0.4444444444444444, \"split23_test_score\": 0.5925925925925926, \"split24_test_score\": 0.6296296296296297, \"mean_test_score\": 0.5958730158730158, \"std_test_score\": 0.06219702185578331, \"rank_test_score\": 8}, {\"mean_fit_time\": 0.005304298400878906, \"std_fit_time\": 0.001958824380541071, \"mean_score_time\": 0.004655647277832031, \"std_score_time\": 0.001735866984032887, \"param_kneighborsclassifier__n_neighbors\": 86, \"params\": {\"kneighborsclassifier__n_neighbors\": 86}, \"split0_test_score\": 0.6071428571428571, \"split1_test_score\": 0.6428571428571429, \"split2_test_score\": 0.6071428571428571, \"split3_test_score\": 0.6071428571428571, \"split4_test_score\": 0.6428571428571429, \"split5_test_score\": 0.6428571428571429, \"split6_test_score\": 0.4642857142857143, \"split7_test_score\": 0.6428571428571429, \"split8_test_score\": 0.5357142857142857, \"split9_test_score\": 0.5357142857142857, \"split10_test_score\": 0.5714285714285714, \"split11_test_score\": 0.6428571428571429, \"split12_test_score\": 0.6428571428571429, \"split13_test_score\": 0.7037037037037037, \"split14_test_score\": 0.5185185185185185, \"split15_test_score\": 0.5925925925925926, \"split16_test_score\": 0.5185185185185185, \"split17_test_score\": 0.5925925925925926, \"split18_test_score\": 0.5925925925925926, \"split19_test_score\": 0.5925925925925926, \"split20_test_score\": 0.6296296296296297, \"split21_test_score\": 0.6296296296296297, \"split22_test_score\": 0.4074074074074074, \"split23_test_score\": 0.5555555555555556, \"split24_test_score\": 0.5925925925925926, \"mean_test_score\": 0.5884656084656085, \"std_test_score\": 0.06339644475417369, \"rank_test_score\": 13}, {\"mean_fit_time\": 0.005519294738769531, \"std_fit_time\": 0.00261818607348599, \"mean_score_time\": 0.004821186065673828, \"std_score_time\": 0.0027497883566627575, \"param_kneighborsclassifier__n_neighbors\": 91, \"params\": {\"kneighborsclassifier__n_neighbors\": 91}, \"split0_test_score\": 0.6071428571428571, \"split1_test_score\": 0.5357142857142857, \"split2_test_score\": 0.6071428571428571, \"split3_test_score\": 0.6071428571428571, \"split4_test_score\": 0.6785714285714286, \"split5_test_score\": 0.6428571428571429, \"split6_test_score\": 0.4642857142857143, \"split7_test_score\": 0.6071428571428571, \"split8_test_score\": 0.5714285714285714, \"split9_test_score\": 0.5714285714285714, \"split10_test_score\": 0.5714285714285714, \"split11_test_score\": 0.6428571428571429, \"split12_test_score\": 0.6428571428571429, \"split13_test_score\": 0.7407407407407407, \"split14_test_score\": 0.5185185185185185, \"split15_test_score\": 0.5925925925925926, \"split16_test_score\": 0.5185185185185185, \"split17_test_score\": 0.6296296296296297, \"split18_test_score\": 0.5925925925925926, \"split19_test_score\": 0.5925925925925926, \"split20_test_score\": 0.6296296296296297, \"split21_test_score\": 0.5925925925925926, \"split22_test_score\": 0.4074074074074074, \"split23_test_score\": 0.5925925925925926, \"split24_test_score\": 0.6666666666666666, \"mean_test_score\": 0.592962962962963, \"std_test_score\": 0.06702319213259449, \"rank_test_score\": 10}, {\"mean_fit_time\": 0.005478038787841797, \"std_fit_time\": 0.002392366903196502, \"mean_score_time\": 0.004260740280151367, \"std_score_time\": 0.002390876574900601, \"param_kneighborsclassifier__n_neighbors\": 96, \"params\": {\"kneighborsclassifier__n_neighbors\": 96}, \"split0_test_score\": 0.5357142857142857, \"split1_test_score\": 0.5714285714285714, \"split2_test_score\": 0.6428571428571429, \"split3_test_score\": 0.6071428571428571, \"split4_test_score\": 0.6785714285714286, \"split5_test_score\": 0.6071428571428571, \"split6_test_score\": 0.4642857142857143, \"split7_test_score\": 0.6071428571428571, \"split8_test_score\": 0.5357142857142857, \"split9_test_score\": 0.5714285714285714, \"split10_test_score\": 0.5357142857142857, \"split11_test_score\": 0.6428571428571429, \"split12_test_score\": 0.6428571428571429, \"split13_test_score\": 0.6666666666666666, \"split14_test_score\": 0.5185185185185185, \"split15_test_score\": 0.5925925925925926, \"split16_test_score\": 0.5185185185185185, \"split17_test_score\": 0.5925925925925926, \"split18_test_score\": 0.5925925925925926, \"split19_test_score\": 0.5925925925925926, \"split20_test_score\": 0.6296296296296297, \"split21_test_score\": 0.6296296296296297, \"split22_test_score\": 0.4444444444444444, \"split23_test_score\": 0.5925925925925926, \"split24_test_score\": 0.6296296296296297, \"mean_test_score\": 0.5857142857142857, \"std_test_score\": 0.05796971820022155, \"rank_test_score\": 15}]}}, {\"mode\": \"vega-lite\"});\n",
       "</script>"
      ],
      "text/plain": [
       "alt.Chart(...)"
      ]
     },
     "execution_count": 26,
     "metadata": {},
     "output_type": "execute_result"
    }
   ],
   "source": [
    "accuracy_versus_k_grid = alt.Chart(accuracies_grid).mark_line(point=True).encode(\n",
    "    x=alt.X(\"param_kneighborsclassifier__n_neighbors\")\n",
    "        .title(\"neighbors\")\n",
    "        .scale(zero=False),\n",
    "    y=alt.Y(\"mean_test_score\")\n",
    "        .title(\"Mean test score\")\n",
    "        .scale(zero=False)\n",
    ")\n",
    "accuracy_versus_k_grid"
   ]
  },
  {
   "cell_type": "markdown",
   "metadata": {},
   "source": [
    "### Expected outcomes and significance\n",
    "- *What do you expect to find?* \n",
    "  \n",
    "  Find if number of late payments and days from late payment interact with each other to have an impact on someone's credit score category.\n",
    "  \n",
    "- *What impact could such findings have?*\n",
    "  - Helping banks predict whether it is a good idea to issue a new credit card to a new user\n",
    "  - Can influence an individual’s credit limit/interest rate.\n",
    "  - Studying the relation of individual factors with credit score category classification.\n",
    "  \n",
    "- *What future questions could this lead to?* \n",
    "  \n",
    "  How do we evaluate or categorize a new person who has just started working and does not have a long enough credit history. \n"
   ]
  },
  {
   "cell_type": "markdown",
   "metadata": {},
   "source": [
    "### Discussion\n"
   ]
  },
  {
   "cell_type": "markdown",
   "metadata": {},
   "source": [
    "In our credit score category classification project, we discovered that a k-nearest neighbors (KNN) model with a k-value of 57 yields the highest accuracy of 62%. This finding was somewhat anticipated given the nature of our dataset and the typical behavior of KNN models. A moderately high k-value like 57 helps in achieving a balance between overfitting and bias. It's larger than the very small k-values which tend to overfit, but not so large as to introduce significant bias, which can be a problem with very high k-values. This middle ground suggests that our model is less prone to overfitting and is likely to have a smoother decision boundary, making it suitable for larger datasets.\n",
    "\n",
    "What we found: our predictors (num of delayed payments and days from delayed payments) show a weak positive relation as we would expect. But it is unlikely and hard to find a strong positive relation owing to the difference in behavioural patterns of consumers, however, that discussion is outside the scope of this project. \n",
    "\n",
    "The impact of these findings is notable in the field of credit scoring. By efficiently predicting creditworthiness with a balanced bias-variance tradeoff, financial institutions can make more informed decisions, potentially reducing the risk of default while offering credit opportunities to eligible individuals."
   ]
  },
  {
   "cell_type": "markdown",
   "metadata": {},
   "source": [
    "Potential Shortcomings:investigating the impact of feature selection and data quality on the model's performance could lead to more robust and accurate predictions. Lastly, considering ethical implications and the model's behavior in diverse, real-world scenarios would be essential for responsible application. Since we see that existing research cited discriminates based on credit history age. Additionally, we only used two predictor variables but using multiple variables and studying their interactions is something worth looking into for improving the accuracy of the model. With adding each new predictor, the interaction possibilities grows multiplicatively. So, the process can be time consuming but might yield better results. "
   ]
  },
  {
   "cell_type": "markdown",
   "metadata": {},
   "source": [
    "### References\n"
   ]
  },
  {
   "cell_type": "markdown",
   "metadata": {},
   "source": [
    "- Debt.org. (2023, September 1). Credit Scoring Models: FICO, VantageScore & More. Retrieved from https://www.debt.org/credit/report/scoring-models/                                     \n",
    "- Akin, J. (2023, July 29). What Affects Your Credit Scores? Experian. https://www.experian.com/blogs/ask-experian/credit-education/score-basics/what-affects-your-credit-scores/"
   ]
  }
 ],
 "metadata": {
  "kernelspec": {
   "display_name": "Python 3 (ipykernel)",
   "language": "python",
   "name": "python3"
  },
  "language_info": {
   "codemirror_mode": {
    "name": "ipython",
    "version": 3
   },
   "file_extension": ".py",
   "mimetype": "text/x-python",
   "name": "python",
   "nbconvert_exporter": "python",
   "pygments_lexer": "ipython3",
   "version": "3.10.8"
  }
 },
 "nbformat": 4,
 "nbformat_minor": 4
}
