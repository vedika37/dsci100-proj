{
 "cells": [
  {
   "cell_type": "markdown",
   "metadata": {},
   "source": [
    "# Group 13 Project Proposal"
   ]
  },
  {
   "cell_type": "code",
   "execution_count": 49,
   "metadata": {
    "tags": []
   },
   "outputs": [
    {
     "name": "stdout",
     "output_type": "stream",
     "text": [
      "^C\n",
      "Note: you may need to restart the kernel to use updated packages.\n"
     ]
    }
   ],
   "source": [
    "pip install -U altair"
   ]
  },
  {
   "cell_type": "markdown",
   "metadata": {},
   "source": [
    "\n",
    "**Title: Credit Score Classification**\n",
    "\n",
    "https://www.kaggle.com/datasets/parisrohan/credit-score-classification/data \n",
    "\n",
    "\n",
    "**Introduction:**\n",
    "A credit report is a summary of a person’s credit history and is created when you borrow money or apply for a credit card. A credit score is a 3 digit number calculated based on your credit report that summarizes how well you manage your credit and how risky it would be for someone to lend you money. The higher credit score the better your rating is.\n",
    "\n",
    "\n",
    "A credit score is calculated based on a few different factors such as:\n",
    "- a person's anual income\n",
    "- the number of credit cards they have\n",
    "- the number of loans they have\n",
    "- their credit card payment history\n",
    "- how old their credit is\n",
    "and more\n",
    "\n",
    "\n",
    "\n",
    "\n",
    "**The Question we aim to answer:** Can we classify someone’s credit score based on certain banking history and financial traits (shown above)?\n",
    "\n",
    "**Dataset description:** The dataset contains the bank and credit-related information of many individuals that have been amassed by a global finance company. It contains 27 columns of these information such as bank account history, loans, debt and EMI along with the number of credit cards a person has and their credit card payment history\n"
   ]
  },
  {
   "cell_type": "code",
   "execution_count": null,
   "metadata": {
    "tags": []
   },
   "outputs": [],
   "source": [
    "import random\n",
    "import altair as alt\n",
    "import pandas as pd\n",
    "import numpy as np\n",
    "from sklearn import set_config\n",
    "from sklearn.compose import make_column_transformer\n",
    "from sklearn.metrics.pairwise import euclidean_distances\n",
    "from sklearn.neighbors import KNeighborsClassifier\n",
    "from sklearn.pipeline import make_pipeline\n",
    "from sklearn.preprocessing import OneHotEncoder, StandardScaler\n",
    "from sklearn.metrics import confusion_matrix\n",
    "from sklearn.model_selection import GridSearchCV, cross_validate\n",
    "\n",
    "np.random.seed(999) # setting the seed"
   ]
  },
  {
   "cell_type": "markdown",
   "metadata": {},
   "source": [
    "### Reading the data from a URL"
   ]
  },
  {
   "cell_type": "code",
   "execution_count": null,
   "metadata": {
    "tags": []
   },
   "outputs": [
    {
     "name": "stdout",
     "output_type": "stream",
     "text": [
      "<class 'pandas.core.frame.DataFrame'>\n",
      "RangeIndex: 100000 entries, 0 to 99999\n",
      "Data columns (total 28 columns):\n",
      " #   Column                    Non-Null Count   Dtype  \n",
      "---  ------                    --------------   -----  \n",
      " 0   ID                        100000 non-null  object \n",
      " 1   Customer_ID               100000 non-null  object \n",
      " 2   Month                     100000 non-null  object \n",
      " 3   Name                      90015 non-null   object \n",
      " 4   Age                       100000 non-null  object \n",
      " 5   SSN                       100000 non-null  object \n",
      " 6   Occupation                100000 non-null  object \n",
      " 7   Annual_Income             100000 non-null  object \n",
      " 8   Monthly_Inhand_Salary     84998 non-null   float64\n",
      " 9   Num_Bank_Accounts         100000 non-null  int64  \n",
      " 10  Num_Credit_Card           100000 non-null  int64  \n",
      " 11  Interest_Rate             100000 non-null  int64  \n",
      " 12  Num_of_Loan               100000 non-null  object \n",
      " 13  Type_of_Loan              88592 non-null   object \n",
      " 14  Delay_from_due_date       100000 non-null  int64  \n",
      " 15  Num_of_Delayed_Payment    92998 non-null   object \n",
      " 16  Changed_Credit_Limit      100000 non-null  object \n",
      " 17  Num_Credit_Inquiries      98035 non-null   float64\n",
      " 18  Credit_Mix                100000 non-null  object \n",
      " 19  Outstanding_Debt          100000 non-null  object \n",
      " 20  Credit_Utilization_Ratio  100000 non-null  float64\n",
      " 21  Credit_History_Age        90970 non-null   object \n",
      " 22  Payment_of_Min_Amount     100000 non-null  object \n",
      " 23  Total_EMI_per_month       100000 non-null  float64\n",
      " 24  Amount_invested_monthly   95521 non-null   object \n",
      " 25  Payment_Behaviour         100000 non-null  object \n",
      " 26  Monthly_Balance           98800 non-null   object \n",
      " 27  Credit_Score              100000 non-null  object \n",
      "dtypes: float64(4), int64(4), object(20)\n",
      "memory usage: 21.4+ MB\n"
     ]
    }
   ],
   "source": [
    "url_credit = \"https://raw.githubusercontent.com/vedika37/dsci100-proj/main/train.csv\"\n",
    "credit = pd.read_csv(url_credit,sep = \",\", low_memory=False)\n",
    "credit.info()"
   ]
  },
  {
   "cell_type": "markdown",
   "metadata": {},
   "source": [
    "As we can see from the output of credit.info() the number of non-null observations are not the same across all variables, so to be able to analyze patterns in our data, we will first have to do some data cleaning. "
   ]
  },
  {
   "cell_type": "markdown",
   "metadata": {},
   "source": [
    "### Cleaning Data "
   ]
  },
  {
   "cell_type": "code",
   "execution_count": null,
   "metadata": {
    "tags": []
   },
   "outputs": [
    {
     "data": {
      "text/html": [
       "<div>\n",
       "<style scoped>\n",
       "    .dataframe tbody tr th:only-of-type {\n",
       "        vertical-align: middle;\n",
       "    }\n",
       "\n",
       "    .dataframe tbody tr th {\n",
       "        vertical-align: top;\n",
       "    }\n",
       "\n",
       "    .dataframe thead th {\n",
       "        text-align: right;\n",
       "    }\n",
       "</style>\n",
       "<table border=\"1\" class=\"dataframe\">\n",
       "  <thead>\n",
       "    <tr style=\"text-align: right;\">\n",
       "      <th></th>\n",
       "      <th>Num_of_Delayed_Payment</th>\n",
       "      <th>Delay_from_due_date</th>\n",
       "      <th>Credit_Score</th>\n",
       "    </tr>\n",
       "  </thead>\n",
       "  <tbody>\n",
       "    <tr>\n",
       "      <th>0</th>\n",
       "      <td>7</td>\n",
       "      <td>3</td>\n",
       "      <td>Good</td>\n",
       "    </tr>\n",
       "    <tr>\n",
       "      <th>2</th>\n",
       "      <td>7</td>\n",
       "      <td>3</td>\n",
       "      <td>Good</td>\n",
       "    </tr>\n",
       "    <tr>\n",
       "      <th>3</th>\n",
       "      <td>4</td>\n",
       "      <td>5</td>\n",
       "      <td>Good</td>\n",
       "    </tr>\n",
       "    <tr>\n",
       "      <th>5</th>\n",
       "      <td>4</td>\n",
       "      <td>8</td>\n",
       "      <td>Good</td>\n",
       "    </tr>\n",
       "    <tr>\n",
       "      <th>8</th>\n",
       "      <td>4</td>\n",
       "      <td>3</td>\n",
       "      <td>Standard</td>\n",
       "    </tr>\n",
       "    <tr>\n",
       "      <th>...</th>\n",
       "      <td>...</td>\n",
       "      <td>...</td>\n",
       "      <td>...</td>\n",
       "    </tr>\n",
       "    <tr>\n",
       "      <th>99994</th>\n",
       "      <td>6</td>\n",
       "      <td>20</td>\n",
       "      <td>Poor</td>\n",
       "    </tr>\n",
       "    <tr>\n",
       "      <th>99995</th>\n",
       "      <td>7</td>\n",
       "      <td>23</td>\n",
       "      <td>Poor</td>\n",
       "    </tr>\n",
       "    <tr>\n",
       "      <th>99996</th>\n",
       "      <td>7</td>\n",
       "      <td>18</td>\n",
       "      <td>Poor</td>\n",
       "    </tr>\n",
       "    <tr>\n",
       "      <th>99997</th>\n",
       "      <td>6</td>\n",
       "      <td>27</td>\n",
       "      <td>Poor</td>\n",
       "    </tr>\n",
       "    <tr>\n",
       "      <th>99999</th>\n",
       "      <td>6</td>\n",
       "      <td>18</td>\n",
       "      <td>Poor</td>\n",
       "    </tr>\n",
       "  </tbody>\n",
       "</table>\n",
       "<p>81549 rows × 3 columns</p>\n",
       "</div>"
      ],
      "text/plain": [
       "       Num_of_Delayed_Payment  Delay_from_due_date Credit_Score\n",
       "0                           7                    3         Good\n",
       "2                           7                    3         Good\n",
       "3                           4                    5         Good\n",
       "5                           4                    8         Good\n",
       "8                           4                    3     Standard\n",
       "...                       ...                  ...          ...\n",
       "99994                       6                   20         Poor\n",
       "99995                       7                   23         Poor\n",
       "99996                       7                   18         Poor\n",
       "99997                       6                   27         Poor\n",
       "99999                       6                   18         Poor\n",
       "\n",
       "[81549 rows x 3 columns]"
      ]
     },
     "execution_count": 31,
     "metadata": {},
     "output_type": "execute_result"
    }
   ],
   "source": [
    "# dropping null values and columns not used in analysis\n",
    "\n",
    "# Predictors:\n",
    "\n",
    "# - number of delayed payments \n",
    "# - delay from due date \n",
    "# - Credit_Utilization_Ratio\n",
    "# - credit history age\n",
    "\n",
    "\n",
    "\n",
    "credit = credit[['Num_of_Delayed_Payment', 'Delay_from_due_date', 'Credit_Score']]\n",
    "credit = credit.dropna()\n",
    "credit"
   ]
  },
  {
   "cell_type": "code",
   "execution_count": null,
   "metadata": {
    "tags": []
   },
   "outputs": [
    {
     "data": {
      "text/plain": [
       "array(['Good', 'Standard', 'Poor'], dtype=object)"
      ]
     },
     "execution_count": 7,
     "metadata": {},
     "output_type": "execute_result"
    }
   ],
   "source": [
    "credit[\"Credit_Score\"].unique()"
   ]
  },
  {
   "cell_type": "markdown",
   "metadata": {},
   "source": [
    "We see here that our output variable i.e the credit score takes three unique values -> Good, Standard and Poor."
   ]
  },
  {
   "cell_type": "code",
   "execution_count": null,
   "metadata": {
    "tags": []
   },
   "outputs": [
    {
     "data": {
      "text/html": [
       "<div>\n",
       "<style scoped>\n",
       "    .dataframe tbody tr th:only-of-type {\n",
       "        vertical-align: middle;\n",
       "    }\n",
       "\n",
       "    .dataframe tbody tr th {\n",
       "        vertical-align: top;\n",
       "    }\n",
       "\n",
       "    .dataframe thead th {\n",
       "        text-align: right;\n",
       "    }\n",
       "</style>\n",
       "<table border=\"1\" class=\"dataframe\">\n",
       "  <thead>\n",
       "    <tr style=\"text-align: right;\">\n",
       "      <th></th>\n",
       "      <th>Delay_from_due_date</th>\n",
       "      <th>Num_of_Delayed_Payment</th>\n",
       "      <th>Credit_Utilization_Ratio</th>\n",
       "      <th>Credit_History_Age</th>\n",
       "      <th>Credit_Score</th>\n",
       "    </tr>\n",
       "  </thead>\n",
       "  <tbody>\n",
       "    <tr>\n",
       "      <th>0</th>\n",
       "      <td>3</td>\n",
       "      <td>7</td>\n",
       "      <td>26.822620</td>\n",
       "      <td>22 Years and 1 Months</td>\n",
       "      <td>Good</td>\n",
       "    </tr>\n",
       "    <tr>\n",
       "      <th>2</th>\n",
       "      <td>3</td>\n",
       "      <td>7</td>\n",
       "      <td>28.609352</td>\n",
       "      <td>22 Years and 3 Months</td>\n",
       "      <td>Good</td>\n",
       "    </tr>\n",
       "    <tr>\n",
       "      <th>3</th>\n",
       "      <td>5</td>\n",
       "      <td>4</td>\n",
       "      <td>31.377862</td>\n",
       "      <td>22 Years and 4 Months</td>\n",
       "      <td>Good</td>\n",
       "    </tr>\n",
       "    <tr>\n",
       "      <th>5</th>\n",
       "      <td>8</td>\n",
       "      <td>4</td>\n",
       "      <td>27.262259</td>\n",
       "      <td>22 Years and 6 Months</td>\n",
       "      <td>Good</td>\n",
       "    </tr>\n",
       "    <tr>\n",
       "      <th>8</th>\n",
       "      <td>3</td>\n",
       "      <td>4</td>\n",
       "      <td>24.464031</td>\n",
       "      <td>26 Years and 7 Months</td>\n",
       "      <td>Standard</td>\n",
       "    </tr>\n",
       "    <tr>\n",
       "      <th>...</th>\n",
       "      <td>...</td>\n",
       "      <td>...</td>\n",
       "      <td>...</td>\n",
       "      <td>...</td>\n",
       "      <td>...</td>\n",
       "    </tr>\n",
       "    <tr>\n",
       "      <th>99994</th>\n",
       "      <td>20</td>\n",
       "      <td>6</td>\n",
       "      <td>39.323569</td>\n",
       "      <td>31 Years and 5 Months</td>\n",
       "      <td>Poor</td>\n",
       "    </tr>\n",
       "    <tr>\n",
       "      <th>99995</th>\n",
       "      <td>23</td>\n",
       "      <td>7</td>\n",
       "      <td>34.663572</td>\n",
       "      <td>31 Years and 6 Months</td>\n",
       "      <td>Poor</td>\n",
       "    </tr>\n",
       "    <tr>\n",
       "      <th>99996</th>\n",
       "      <td>18</td>\n",
       "      <td>7</td>\n",
       "      <td>40.565631</td>\n",
       "      <td>31 Years and 7 Months</td>\n",
       "      <td>Poor</td>\n",
       "    </tr>\n",
       "    <tr>\n",
       "      <th>99997</th>\n",
       "      <td>27</td>\n",
       "      <td>6</td>\n",
       "      <td>41.255522</td>\n",
       "      <td>31 Years and 8 Months</td>\n",
       "      <td>Poor</td>\n",
       "    </tr>\n",
       "    <tr>\n",
       "      <th>99999</th>\n",
       "      <td>18</td>\n",
       "      <td>6</td>\n",
       "      <td>34.192463</td>\n",
       "      <td>31 Years and 10 Months</td>\n",
       "      <td>Poor</td>\n",
       "    </tr>\n",
       "  </tbody>\n",
       "</table>\n",
       "<p>81549 rows × 5 columns</p>\n",
       "</div>"
      ],
      "text/plain": [
       "       Delay_from_due_date Num_of_Delayed_Payment  Credit_Utilization_Ratio  \\\n",
       "0                        3                      7                 26.822620   \n",
       "2                        3                      7                 28.609352   \n",
       "3                        5                      4                 31.377862   \n",
       "5                        8                      4                 27.262259   \n",
       "8                        3                      4                 24.464031   \n",
       "...                    ...                    ...                       ...   \n",
       "99994                   20                      6                 39.323569   \n",
       "99995                   23                      7                 34.663572   \n",
       "99996                   18                      7                 40.565631   \n",
       "99997                   27                      6                 41.255522   \n",
       "99999                   18                      6                 34.192463   \n",
       "\n",
       "           Credit_History_Age Credit_Score  \n",
       "0       22 Years and 1 Months         Good  \n",
       "2       22 Years and 3 Months         Good  \n",
       "3       22 Years and 4 Months         Good  \n",
       "5       22 Years and 6 Months         Good  \n",
       "8       26 Years and 7 Months     Standard  \n",
       "...                       ...          ...  \n",
       "99994   31 Years and 5 Months         Poor  \n",
       "99995   31 Years and 6 Months         Poor  \n",
       "99996   31 Years and 7 Months         Poor  \n",
       "99997   31 Years and 8 Months         Poor  \n",
       "99999  31 Years and 10 Months         Poor  \n",
       "\n",
       "[81549 rows x 5 columns]"
      ]
     },
     "execution_count": 8,
     "metadata": {},
     "output_type": "execute_result"
    }
   ],
   "source": [
    "credit = credit[credit['Num_of_Delayed_Payment'].str.isdigit()]\n",
    "credit"
   ]
  },
  {
   "cell_type": "code",
   "execution_count": null,
   "metadata": {
    "tags": []
   },
   "outputs": [
    {
     "data": {
      "text/html": [
       "<div>\n",
       "<style scoped>\n",
       "    .dataframe tbody tr th:only-of-type {\n",
       "        vertical-align: middle;\n",
       "    }\n",
       "\n",
       "    .dataframe tbody tr th {\n",
       "        vertical-align: top;\n",
       "    }\n",
       "\n",
       "    .dataframe thead th {\n",
       "        text-align: right;\n",
       "    }\n",
       "</style>\n",
       "<table border=\"1\" class=\"dataframe\">\n",
       "  <thead>\n",
       "    <tr style=\"text-align: right;\">\n",
       "      <th></th>\n",
       "      <th>Delay_from_due_date</th>\n",
       "      <th>Num_of_Delayed_Payment</th>\n",
       "      <th>Credit_Utilization_Ratio</th>\n",
       "      <th>Credit_History_Age</th>\n",
       "      <th>Credit_Score</th>\n",
       "    </tr>\n",
       "  </thead>\n",
       "  <tbody>\n",
       "    <tr>\n",
       "      <th>0</th>\n",
       "      <td>3</td>\n",
       "      <td>7</td>\n",
       "      <td>26.822620</td>\n",
       "      <td>22 Years and 1 Months</td>\n",
       "      <td>Good</td>\n",
       "    </tr>\n",
       "    <tr>\n",
       "      <th>2</th>\n",
       "      <td>3</td>\n",
       "      <td>7</td>\n",
       "      <td>28.609352</td>\n",
       "      <td>22 Years and 3 Months</td>\n",
       "      <td>Good</td>\n",
       "    </tr>\n",
       "    <tr>\n",
       "      <th>3</th>\n",
       "      <td>5</td>\n",
       "      <td>4</td>\n",
       "      <td>31.377862</td>\n",
       "      <td>22 Years and 4 Months</td>\n",
       "      <td>Good</td>\n",
       "    </tr>\n",
       "    <tr>\n",
       "      <th>5</th>\n",
       "      <td>8</td>\n",
       "      <td>4</td>\n",
       "      <td>27.262259</td>\n",
       "      <td>22 Years and 6 Months</td>\n",
       "      <td>Good</td>\n",
       "    </tr>\n",
       "    <tr>\n",
       "      <th>8</th>\n",
       "      <td>3</td>\n",
       "      <td>4</td>\n",
       "      <td>24.464031</td>\n",
       "      <td>26 Years and 7 Months</td>\n",
       "      <td>Standard</td>\n",
       "    </tr>\n",
       "    <tr>\n",
       "      <th>...</th>\n",
       "      <td>...</td>\n",
       "      <td>...</td>\n",
       "      <td>...</td>\n",
       "      <td>...</td>\n",
       "      <td>...</td>\n",
       "    </tr>\n",
       "    <tr>\n",
       "      <th>99994</th>\n",
       "      <td>20</td>\n",
       "      <td>6</td>\n",
       "      <td>39.323569</td>\n",
       "      <td>31 Years and 5 Months</td>\n",
       "      <td>Poor</td>\n",
       "    </tr>\n",
       "    <tr>\n",
       "      <th>99995</th>\n",
       "      <td>23</td>\n",
       "      <td>7</td>\n",
       "      <td>34.663572</td>\n",
       "      <td>31 Years and 6 Months</td>\n",
       "      <td>Poor</td>\n",
       "    </tr>\n",
       "    <tr>\n",
       "      <th>99996</th>\n",
       "      <td>18</td>\n",
       "      <td>7</td>\n",
       "      <td>40.565631</td>\n",
       "      <td>31 Years and 7 Months</td>\n",
       "      <td>Poor</td>\n",
       "    </tr>\n",
       "    <tr>\n",
       "      <th>99997</th>\n",
       "      <td>27</td>\n",
       "      <td>6</td>\n",
       "      <td>41.255522</td>\n",
       "      <td>31 Years and 8 Months</td>\n",
       "      <td>Poor</td>\n",
       "    </tr>\n",
       "    <tr>\n",
       "      <th>99999</th>\n",
       "      <td>18</td>\n",
       "      <td>6</td>\n",
       "      <td>34.192463</td>\n",
       "      <td>31 Years and 10 Months</td>\n",
       "      <td>Poor</td>\n",
       "    </tr>\n",
       "  </tbody>\n",
       "</table>\n",
       "<p>81549 rows × 5 columns</p>\n",
       "</div>"
      ],
      "text/plain": [
       "       Delay_from_due_date  Num_of_Delayed_Payment  Credit_Utilization_Ratio  \\\n",
       "0                        3                       7                 26.822620   \n",
       "2                        3                       7                 28.609352   \n",
       "3                        5                       4                 31.377862   \n",
       "5                        8                       4                 27.262259   \n",
       "8                        3                       4                 24.464031   \n",
       "...                    ...                     ...                       ...   \n",
       "99994                   20                       6                 39.323569   \n",
       "99995                   23                       7                 34.663572   \n",
       "99996                   18                       7                 40.565631   \n",
       "99997                   27                       6                 41.255522   \n",
       "99999                   18                       6                 34.192463   \n",
       "\n",
       "           Credit_History_Age Credit_Score  \n",
       "0       22 Years and 1 Months         Good  \n",
       "2       22 Years and 3 Months         Good  \n",
       "3       22 Years and 4 Months         Good  \n",
       "5       22 Years and 6 Months         Good  \n",
       "8       26 Years and 7 Months     Standard  \n",
       "...                       ...          ...  \n",
       "99994   31 Years and 5 Months         Poor  \n",
       "99995   31 Years and 6 Months         Poor  \n",
       "99996   31 Years and 7 Months         Poor  \n",
       "99997   31 Years and 8 Months         Poor  \n",
       "99999  31 Years and 10 Months         Poor  \n",
       "\n",
       "[81549 rows x 5 columns]"
      ]
     },
     "execution_count": 9,
     "metadata": {},
     "output_type": "execute_result"
    }
   ],
   "source": [
    "credit= credit.astype({'Num_of_Delayed_Payment': int})\n",
    "credit\n"
   ]
  },
  {
   "cell_type": "markdown",
   "metadata": {},
   "source": [
    "### Summarizing Data"
   ]
  },
  {
   "cell_type": "code",
   "execution_count": null,
   "metadata": {
    "tags": []
   },
   "outputs": [
    {
     "data": {
      "text/plain": [
       "Delay_from_due_date           int64\n",
       "Num_of_Delayed_Payment        int32\n",
       "Credit_Utilization_Ratio    float64\n",
       "Credit_History_Age            int32\n",
       "Credit_Score                 object\n",
       "dtype: object"
      ]
     },
     "execution_count": 12,
     "metadata": {},
     "output_type": "execute_result"
    }
   ],
   "source": [
    "# each column along with its datatype\n",
    "credit.dtypes"
   ]
  },
  {
   "cell_type": "code",
   "execution_count": null,
   "metadata": {
    "tags": []
   },
   "outputs": [
    {
     "name": "stdout",
     "output_type": "stream",
     "text": [
      "<class 'pandas.core.frame.DataFrame'>\n",
      "Int64Index: 81549 entries, 0 to 99999\n",
      "Data columns (total 5 columns):\n",
      " #   Column                    Non-Null Count  Dtype  \n",
      "---  ------                    --------------  -----  \n",
      " 0   Delay_from_due_date       81549 non-null  int64  \n",
      " 1   Num_of_Delayed_Payment    81549 non-null  int32  \n",
      " 2   Credit_Utilization_Ratio  81549 non-null  float64\n",
      " 3   Credit_History_Age        81549 non-null  int32  \n",
      " 4   Credit_Score              81549 non-null  object \n",
      "dtypes: float64(1), int32(2), int64(1), object(1)\n",
      "memory usage: 3.1+ MB\n"
     ]
    }
   ],
   "source": [
    "credit.info()"
   ]
  },
  {
   "cell_type": "code",
   "execution_count": null,
   "metadata": {
    "tags": []
   },
   "outputs": [
    {
     "data": {
      "text/html": [
       "<div>\n",
       "<style scoped>\n",
       "    .dataframe tbody tr th:only-of-type {\n",
       "        vertical-align: middle;\n",
       "    }\n",
       "\n",
       "    .dataframe tbody tr th {\n",
       "        vertical-align: top;\n",
       "    }\n",
       "\n",
       "    .dataframe thead th {\n",
       "        text-align: right;\n",
       "    }\n",
       "</style>\n",
       "<table border=\"1\" class=\"dataframe\">\n",
       "  <thead>\n",
       "    <tr style=\"text-align: right;\">\n",
       "      <th></th>\n",
       "      <th>Delay_from_due_date</th>\n",
       "      <th>Num_of_Delayed_Payment</th>\n",
       "      <th>Credit_Utilization_Ratio</th>\n",
       "      <th>Credit_History_Age</th>\n",
       "    </tr>\n",
       "  </thead>\n",
       "  <tbody>\n",
       "    <tr>\n",
       "      <th>count</th>\n",
       "      <td>81549.000000</td>\n",
       "      <td>81549.000000</td>\n",
       "      <td>81549.000000</td>\n",
       "      <td>81549.000000</td>\n",
       "    </tr>\n",
       "    <tr>\n",
       "      <th>mean</th>\n",
       "      <td>21.180162</td>\n",
       "      <td>31.155796</td>\n",
       "      <td>32.297847</td>\n",
       "      <td>17.919815</td>\n",
       "    </tr>\n",
       "    <tr>\n",
       "      <th>std</th>\n",
       "      <td>14.883628</td>\n",
       "      <td>226.908684</td>\n",
       "      <td>5.115680</td>\n",
       "      <td>8.321895</td>\n",
       "    </tr>\n",
       "    <tr>\n",
       "      <th>min</th>\n",
       "      <td>-5.000000</td>\n",
       "      <td>0.000000</td>\n",
       "      <td>20.172942</td>\n",
       "      <td>0.000000</td>\n",
       "    </tr>\n",
       "    <tr>\n",
       "      <th>25%</th>\n",
       "      <td>10.000000</td>\n",
       "      <td>9.000000</td>\n",
       "      <td>28.072546</td>\n",
       "      <td>12.000000</td>\n",
       "    </tr>\n",
       "    <tr>\n",
       "      <th>50%</th>\n",
       "      <td>18.000000</td>\n",
       "      <td>14.000000</td>\n",
       "      <td>32.326517</td>\n",
       "      <td>18.000000</td>\n",
       "    </tr>\n",
       "    <tr>\n",
       "      <th>75%</th>\n",
       "      <td>28.000000</td>\n",
       "      <td>18.000000</td>\n",
       "      <td>36.505576</td>\n",
       "      <td>25.000000</td>\n",
       "    </tr>\n",
       "    <tr>\n",
       "      <th>max</th>\n",
       "      <td>67.000000</td>\n",
       "      <td>4397.000000</td>\n",
       "      <td>50.000000</td>\n",
       "      <td>33.000000</td>\n",
       "    </tr>\n",
       "  </tbody>\n",
       "</table>\n",
       "</div>"
      ],
      "text/plain": [
       "       Delay_from_due_date  Num_of_Delayed_Payment  Credit_Utilization_Ratio  \\\n",
       "count         81549.000000            81549.000000              81549.000000   \n",
       "mean             21.180162               31.155796                 32.297847   \n",
       "std              14.883628              226.908684                  5.115680   \n",
       "min              -5.000000                0.000000                 20.172942   \n",
       "25%              10.000000                9.000000                 28.072546   \n",
       "50%              18.000000               14.000000                 32.326517   \n",
       "75%              28.000000               18.000000                 36.505576   \n",
       "max              67.000000             4397.000000                 50.000000   \n",
       "\n",
       "       Credit_History_Age  \n",
       "count        81549.000000  \n",
       "mean            17.919815  \n",
       "std              8.321895  \n",
       "min              0.000000  \n",
       "25%             12.000000  \n",
       "50%             18.000000  \n",
       "75%             25.000000  \n",
       "max             33.000000  "
      ]
     },
     "execution_count": 14,
     "metadata": {},
     "output_type": "execute_result"
    }
   ],
   "source": [
    "# generating descriptive statistics for numeric and 'object' type columns\n",
    "credit.describe()"
   ]
  },
  {
   "cell_type": "markdown",
   "metadata": {},
   "source": [
    "### Taking a Random Sample\n",
    "Since our current dataset has 81549 values, it is too  large to perform "
   ]
  },
  {
   "cell_type": "code",
   "execution_count": null,
   "metadata": {
    "tags": []
   },
   "outputs": [
    {
     "data": {
      "text/plain": [
       "Standard    0.532318\n",
       "Poor        0.292058\n",
       "Good        0.175624\n",
       "Name: Credit_Score, dtype: float64"
      ]
     },
     "execution_count": 34,
     "metadata": {},
     "output_type": "execute_result"
    }
   ],
   "source": [
    "credit['Credit_Score'].value_counts(normalize=True)"
   ]
  },
  {
   "cell_type": "code",
   "execution_count": null,
   "metadata": {
    "tags": []
   },
   "outputs": [
    {
     "data": {
      "text/plain": [
       "Standard    0.541\n",
       "Poor        0.297\n",
       "Good        0.162\n",
       "Name: Credit_Score, dtype: float64"
      ]
     },
     "execution_count": 35,
     "metadata": {},
     "output_type": "execute_result"
    }
   ],
   "source": [
    "credit_sample = credit.sample(n = 1000)\n",
    "credit_sample['Credit_Score'].value_counts(normalize=True)"
   ]
  },
  {
   "cell_type": "markdown",
   "metadata": {},
   "source": [
    "#### Impact Of Taking Subset of Data\n",
    "\n",
    "We have limited our sample size to 1,000 observations, despite the original dataset containing over 80,000 entries. Training our model on the full dataset might yield more representative results, but this approach demands significant computational resources and time. To mitigate this, we've ensured that the proportions of output categories in our sample closely mirror those in the original dataset, thus minimizing the risk of bias in our results. However, it's notable that the 'standard' category constitutes approximately 53.3% of our sample outputs. This could suggest a sampling bias, a factor often beyond the control of data scientists and a potential limitation of our study. To further address this, we could consider selecting a dataset where all outputs are equally represented. However, this approach may not accurately reflect the actual population demographics, presenting a trade-off between balanced representation and real-world application."
   ]
  },
  {
   "cell_type": "markdown",
   "metadata": {},
   "source": [
    "### Train - Test Split "
   ]
  },
  {
   "cell_type": "code",
   "execution_count": null,
   "metadata": {
    "tags": []
   },
   "outputs": [
    {
     "name": "stdout",
     "output_type": "stream",
     "text": [
      "<class 'pandas.core.frame.DataFrame'>\n",
      "Int64Index: 750 entries, 84127 to 79125\n",
      "Data columns (total 3 columns):\n",
      " #   Column                  Non-Null Count  Dtype \n",
      "---  ------                  --------------  ----- \n",
      " 0   Num_of_Delayed_Payment  750 non-null    int32 \n",
      " 1   Delay_from_due_date     750 non-null    int64 \n",
      " 2   Credit_Score            750 non-null    object\n",
      "dtypes: int32(1), int64(1), object(1)\n",
      "memory usage: 20.5+ KB\n",
      "None\n",
      "<class 'pandas.core.frame.DataFrame'>\n",
      "Int64Index: 250 entries, 22730 to 33440\n",
      "Data columns (total 3 columns):\n",
      " #   Column                  Non-Null Count  Dtype \n",
      "---  ------                  --------------  ----- \n",
      " 0   Num_of_Delayed_Payment  250 non-null    int32 \n",
      " 1   Delay_from_due_date     250 non-null    int64 \n",
      " 2   Credit_Score            250 non-null    object\n",
      "dtypes: int32(1), int64(1), object(1)\n",
      "memory usage: 6.8+ KB\n",
      "None\n"
     ]
    }
   ],
   "source": [
    "from sklearn.model_selection import train_test_split\n",
    "\n",
    "train, test = train_test_split(\n",
    "    credit_sample, train_size=0.75, stratify=credit_sample[\"Credit_Score\"]\n",
    ")\n",
    "print(train.info())\n",
    "print(test.info())"
   ]
  },
  {
   "cell_type": "code",
   "execution_count": null,
   "metadata": {
    "tags": []
   },
   "outputs": [
    {
     "name": "stdout",
     "output_type": "stream",
     "text": [
      "Value counts for training data\n",
      " Standard    0.541333\n",
      "Poor        0.297333\n",
      "Good        0.161333\n",
      "Name: Credit_Score, dtype: float64\n",
      "\n",
      "Value counts for testing data\n",
      " Standard    0.540\n",
      "Poor        0.296\n",
      "Good        0.164\n",
      "Name: Credit_Score, dtype: float64\n"
     ]
    }
   ],
   "source": [
    "print(\"Value counts for training data\\n\",train[\"Credit_Score\"].value_counts(normalize=True))\n",
    "print(\"\\nValue counts for testing data\\n\",test[\"Credit_Score\"].value_counts(normalize=True))"
   ]
  },
  {
   "cell_type": "markdown",
   "metadata": {},
   "source": [
    "### Visualizing Data - Distribution of Predictor Variables"
   ]
  },
  {
   "cell_type": "code",
   "execution_count": null,
   "metadata": {
    "tags": []
   },
   "outputs": [
    {
     "data": {
      "text/html": [
       "\n",
       "<style>\n",
       "  #altair-viz-2a86c1ab7dd741cfa3133ff8952b3683.vega-embed {\n",
       "    width: 100%;\n",
       "    display: flex;\n",
       "  }\n",
       "\n",
       "  #altair-viz-2a86c1ab7dd741cfa3133ff8952b3683.vega-embed details,\n",
       "  #altair-viz-2a86c1ab7dd741cfa3133ff8952b3683.vega-embed details summary {\n",
       "    position: relative;\n",
       "  }\n",
       "</style>\n",
       "<div id=\"altair-viz-2a86c1ab7dd741cfa3133ff8952b3683\"></div>\n",
       "<script type=\"text/javascript\">\n",
       "  var VEGA_DEBUG = (typeof VEGA_DEBUG == \"undefined\") ? {} : VEGA_DEBUG;\n",
       "  (function(spec, embedOpt){\n",
       "    let outputDiv = document.currentScript.previousElementSibling;\n",
       "    if (outputDiv.id !== \"altair-viz-2a86c1ab7dd741cfa3133ff8952b3683\") {\n",
       "      outputDiv = document.getElementById(\"altair-viz-2a86c1ab7dd741cfa3133ff8952b3683\");\n",
       "    }\n",
       "    const paths = {\n",
       "      \"vega\": \"https://cdn.jsdelivr.net/npm/vega@5?noext\",\n",
       "      \"vega-lib\": \"https://cdn.jsdelivr.net/npm/vega-lib?noext\",\n",
       "      \"vega-lite\": \"https://cdn.jsdelivr.net/npm/vega-lite@5.16.3?noext\",\n",
       "      \"vega-embed\": \"https://cdn.jsdelivr.net/npm/vega-embed@6?noext\",\n",
       "    };\n",
       "\n",
       "    function maybeLoadScript(lib, version) {\n",
       "      var key = `${lib.replace(\"-\", \"\")}_version`;\n",
       "      return (VEGA_DEBUG[key] == version) ?\n",
       "        Promise.resolve(paths[lib]) :\n",
       "        new Promise(function(resolve, reject) {\n",
       "          var s = document.createElement('script');\n",
       "          document.getElementsByTagName(\"head\")[0].appendChild(s);\n",
       "          s.async = true;\n",
       "          s.onload = () => {\n",
       "            VEGA_DEBUG[key] = version;\n",
       "            return resolve(paths[lib]);\n",
       "          };\n",
       "          s.onerror = () => reject(`Error loading script: ${paths[lib]}`);\n",
       "          s.src = paths[lib];\n",
       "        });\n",
       "    }\n",
       "\n",
       "    function showError(err) {\n",
       "      outputDiv.innerHTML = `<div class=\"error\" style=\"color:red;\">${err}</div>`;\n",
       "      throw err;\n",
       "    }\n",
       "\n",
       "    function displayChart(vegaEmbed) {\n",
       "      vegaEmbed(outputDiv, spec, embedOpt)\n",
       "        .catch(err => showError(`Javascript Error: ${err.message}<br>This usually means there's a typo in your chart specification. See the javascript console for the full traceback.`));\n",
       "    }\n",
       "\n",
       "    if(typeof define === \"function\" && define.amd) {\n",
       "      requirejs.config({paths});\n",
       "      require([\"vega-embed\"], displayChart, err => showError(`Error loading script: ${err.message}`));\n",
       "    } else {\n",
       "      maybeLoadScript(\"vega\", \"5\")\n",
       "        .then(() => maybeLoadScript(\"vega-lite\", \"5.16.3\"))\n",
       "        .then(() => maybeLoadScript(\"vega-embed\", \"6\"))\n",
       "        .catch(showError)\n",
       "        .then(() => displayChart(vegaEmbed));\n",
       "    }\n",
       "  })({\"config\": {\"view\": {\"continuousWidth\": 300, \"continuousHeight\": 300}}, \"repeat\": {\"column\": [\"Delay_from_due_date\", \"Num_of_Delayed_Payment\"], \"row\": [\"Delay_from_due_date\", \"Num_of_Delayed_Payment\"]}, \"spec\": {\"data\": {\"name\": \"data-b2e3bbae3eb54d6ca5a7c9064a1bc706\"}, \"mark\": {\"type\": \"point\", \"opacity\": 0.4}, \"encoding\": {\"color\": {\"field\": \"Credit_Score\", \"title\": \"Credit_Score\", \"type\": \"nominal\"}, \"x\": {\"field\": {\"repeat\": \"row\"}, \"type\": \"quantitative\"}, \"y\": {\"field\": {\"repeat\": \"column\"}, \"type\": \"quantitative\"}}, \"height\": 200, \"width\": 200}, \"$schema\": \"https://vega.github.io/schema/vega-lite/v5.16.3.json\", \"datasets\": {\"data-b2e3bbae3eb54d6ca5a7c9064a1bc706\": [{\"Num_of_Delayed_Payment\": 16, \"Delay_from_due_date\": 11, \"Credit_Score\": \"Standard\"}, {\"Num_of_Delayed_Payment\": 16, \"Delay_from_due_date\": 18, \"Credit_Score\": \"Good\"}, {\"Num_of_Delayed_Payment\": 9, \"Delay_from_due_date\": 39, \"Credit_Score\": \"Poor\"}, {\"Num_of_Delayed_Payment\": 19, \"Delay_from_due_date\": 49, \"Credit_Score\": \"Poor\"}, {\"Num_of_Delayed_Payment\": 27, \"Delay_from_due_date\": 43, \"Credit_Score\": \"Standard\"}, {\"Num_of_Delayed_Payment\": 21, \"Delay_from_due_date\": 51, \"Credit_Score\": \"Poor\"}, {\"Num_of_Delayed_Payment\": 19, \"Delay_from_due_date\": 18, \"Credit_Score\": \"Standard\"}, {\"Num_of_Delayed_Payment\": 6, \"Delay_from_due_date\": 11, \"Credit_Score\": \"Good\"}, {\"Num_of_Delayed_Payment\": 17, \"Delay_from_due_date\": 27, \"Credit_Score\": \"Standard\"}, {\"Num_of_Delayed_Payment\": 22, \"Delay_from_due_date\": 47, \"Credit_Score\": \"Poor\"}, {\"Num_of_Delayed_Payment\": 11, \"Delay_from_due_date\": 10, \"Credit_Score\": \"Standard\"}, {\"Num_of_Delayed_Payment\": 18, \"Delay_from_due_date\": 7, \"Credit_Score\": \"Standard\"}, {\"Num_of_Delayed_Payment\": 9, \"Delay_from_due_date\": 4, \"Credit_Score\": \"Good\"}, {\"Num_of_Delayed_Payment\": 0, \"Delay_from_due_date\": 3, \"Credit_Score\": \"Standard\"}, {\"Num_of_Delayed_Payment\": 15, \"Delay_from_due_date\": 10, \"Credit_Score\": \"Poor\"}, {\"Num_of_Delayed_Payment\": 16, \"Delay_from_due_date\": 7, \"Credit_Score\": \"Standard\"}, {\"Num_of_Delayed_Payment\": 3, \"Delay_from_due_date\": 14, \"Credit_Score\": \"Poor\"}, {\"Num_of_Delayed_Payment\": 9, \"Delay_from_due_date\": 14, \"Credit_Score\": \"Standard\"}, {\"Num_of_Delayed_Payment\": 17, \"Delay_from_due_date\": 25, \"Credit_Score\": \"Standard\"}, {\"Num_of_Delayed_Payment\": 7, \"Delay_from_due_date\": 8, \"Credit_Score\": \"Good\"}, {\"Num_of_Delayed_Payment\": 13, \"Delay_from_due_date\": 6, \"Credit_Score\": \"Standard\"}, {\"Num_of_Delayed_Payment\": 10, \"Delay_from_due_date\": 8, \"Credit_Score\": \"Standard\"}, {\"Num_of_Delayed_Payment\": 8, \"Delay_from_due_date\": 11, \"Credit_Score\": \"Standard\"}, {\"Num_of_Delayed_Payment\": 18, \"Delay_from_due_date\": 26, \"Credit_Score\": \"Good\"}, {\"Num_of_Delayed_Payment\": 2, \"Delay_from_due_date\": 10, \"Credit_Score\": \"Good\"}, {\"Num_of_Delayed_Payment\": 8, \"Delay_from_due_date\": 5, \"Credit_Score\": \"Standard\"}, {\"Num_of_Delayed_Payment\": 23, \"Delay_from_due_date\": 45, \"Credit_Score\": \"Poor\"}, {\"Num_of_Delayed_Payment\": 28, \"Delay_from_due_date\": 48, \"Credit_Score\": \"Poor\"}, {\"Num_of_Delayed_Payment\": 14, \"Delay_from_due_date\": 37, \"Credit_Score\": \"Standard\"}, {\"Num_of_Delayed_Payment\": 16, \"Delay_from_due_date\": 7, \"Credit_Score\": \"Standard\"}, {\"Num_of_Delayed_Payment\": 15, \"Delay_from_due_date\": 16, \"Credit_Score\": \"Poor\"}, {\"Num_of_Delayed_Payment\": 19, \"Delay_from_due_date\": 18, \"Credit_Score\": \"Standard\"}, {\"Num_of_Delayed_Payment\": 19, \"Delay_from_due_date\": 29, \"Credit_Score\": \"Standard\"}, {\"Num_of_Delayed_Payment\": 0, \"Delay_from_due_date\": 6, \"Credit_Score\": \"Standard\"}, {\"Num_of_Delayed_Payment\": 8, \"Delay_from_due_date\": 8, \"Credit_Score\": \"Standard\"}, {\"Num_of_Delayed_Payment\": 11, \"Delay_from_due_date\": 25, \"Credit_Score\": \"Standard\"}, {\"Num_of_Delayed_Payment\": 2, \"Delay_from_due_date\": 11, \"Credit_Score\": \"Standard\"}, {\"Num_of_Delayed_Payment\": 17, \"Delay_from_due_date\": 8, \"Credit_Score\": \"Standard\"}, {\"Num_of_Delayed_Payment\": 8, \"Delay_from_due_date\": 13, \"Credit_Score\": \"Standard\"}, {\"Num_of_Delayed_Payment\": 21, \"Delay_from_due_date\": 33, \"Credit_Score\": \"Standard\"}, {\"Num_of_Delayed_Payment\": 8, \"Delay_from_due_date\": 18, \"Credit_Score\": \"Poor\"}, {\"Num_of_Delayed_Payment\": 15, \"Delay_from_due_date\": 6, \"Credit_Score\": \"Poor\"}, {\"Num_of_Delayed_Payment\": 20, \"Delay_from_due_date\": 16, \"Credit_Score\": \"Standard\"}, {\"Num_of_Delayed_Payment\": 10, \"Delay_from_due_date\": 18, \"Credit_Score\": \"Standard\"}, {\"Num_of_Delayed_Payment\": 16, \"Delay_from_due_date\": 24, \"Credit_Score\": \"Standard\"}, {\"Num_of_Delayed_Payment\": 13, \"Delay_from_due_date\": 8, \"Credit_Score\": \"Standard\"}, {\"Num_of_Delayed_Payment\": 9, \"Delay_from_due_date\": 25, \"Credit_Score\": \"Standard\"}, {\"Num_of_Delayed_Payment\": 9, \"Delay_from_due_date\": 17, \"Credit_Score\": \"Good\"}, {\"Num_of_Delayed_Payment\": 9, \"Delay_from_due_date\": 17, \"Credit_Score\": \"Standard\"}, {\"Num_of_Delayed_Payment\": 2, \"Delay_from_due_date\": 10, \"Credit_Score\": \"Poor\"}, {\"Num_of_Delayed_Payment\": 8, \"Delay_from_due_date\": 14, \"Credit_Score\": \"Standard\"}, {\"Num_of_Delayed_Payment\": 2, \"Delay_from_due_date\": 13, \"Credit_Score\": \"Good\"}, {\"Num_of_Delayed_Payment\": 17, \"Delay_from_due_date\": 13, \"Credit_Score\": \"Standard\"}, {\"Num_of_Delayed_Payment\": 9, \"Delay_from_due_date\": 6, \"Credit_Score\": \"Standard\"}, {\"Num_of_Delayed_Payment\": 9, \"Delay_from_due_date\": 26, \"Credit_Score\": \"Standard\"}, {\"Num_of_Delayed_Payment\": 2, \"Delay_from_due_date\": 30, \"Credit_Score\": \"Poor\"}, {\"Num_of_Delayed_Payment\": 21, \"Delay_from_due_date\": 15, \"Credit_Score\": \"Standard\"}, {\"Num_of_Delayed_Payment\": 6, \"Delay_from_due_date\": 14, \"Credit_Score\": \"Standard\"}, {\"Num_of_Delayed_Payment\": 18, \"Delay_from_due_date\": 15, \"Credit_Score\": \"Standard\"}, {\"Num_of_Delayed_Payment\": 16, \"Delay_from_due_date\": 19, \"Credit_Score\": \"Standard\"}, {\"Num_of_Delayed_Payment\": 12, \"Delay_from_due_date\": 24, \"Credit_Score\": \"Standard\"}, {\"Num_of_Delayed_Payment\": 16, \"Delay_from_due_date\": 13, \"Credit_Score\": \"Standard\"}, {\"Num_of_Delayed_Payment\": 17, \"Delay_from_due_date\": 12, \"Credit_Score\": \"Standard\"}, {\"Num_of_Delayed_Payment\": 14, \"Delay_from_due_date\": 6, \"Credit_Score\": \"Standard\"}, {\"Num_of_Delayed_Payment\": 23, \"Delay_from_due_date\": 44, \"Credit_Score\": \"Standard\"}, {\"Num_of_Delayed_Payment\": 13, \"Delay_from_due_date\": 45, \"Credit_Score\": \"Standard\"}, {\"Num_of_Delayed_Payment\": 2, \"Delay_from_due_date\": 5, \"Credit_Score\": \"Good\"}, {\"Num_of_Delayed_Payment\": 26, \"Delay_from_due_date\": 19, \"Credit_Score\": \"Poor\"}, {\"Num_of_Delayed_Payment\": 6, \"Delay_from_due_date\": 15, \"Credit_Score\": \"Good\"}, {\"Num_of_Delayed_Payment\": 8, \"Delay_from_due_date\": 37, \"Credit_Score\": \"Poor\"}, {\"Num_of_Delayed_Payment\": 14, \"Delay_from_due_date\": 26, \"Credit_Score\": \"Standard\"}, {\"Num_of_Delayed_Payment\": 10, \"Delay_from_due_date\": 13, \"Credit_Score\": \"Standard\"}, {\"Num_of_Delayed_Payment\": 0, \"Delay_from_due_date\": 12, \"Credit_Score\": \"Good\"}, {\"Num_of_Delayed_Payment\": 3, \"Delay_from_due_date\": 17, \"Credit_Score\": \"Poor\"}, {\"Num_of_Delayed_Payment\": 20, \"Delay_from_due_date\": 26, \"Credit_Score\": \"Poor\"}, {\"Num_of_Delayed_Payment\": 10, \"Delay_from_due_date\": 9, \"Credit_Score\": \"Good\"}, {\"Num_of_Delayed_Payment\": 20, \"Delay_from_due_date\": 25, \"Credit_Score\": \"Standard\"}, {\"Num_of_Delayed_Payment\": 25, \"Delay_from_due_date\": 32, \"Credit_Score\": \"Standard\"}, {\"Num_of_Delayed_Payment\": 7, \"Delay_from_due_date\": 22, \"Credit_Score\": \"Poor\"}, {\"Num_of_Delayed_Payment\": 22, \"Delay_from_due_date\": 16, \"Credit_Score\": \"Poor\"}, {\"Num_of_Delayed_Payment\": 15, \"Delay_from_due_date\": 14, \"Credit_Score\": \"Poor\"}, {\"Num_of_Delayed_Payment\": 17, \"Delay_from_due_date\": 37, \"Credit_Score\": \"Standard\"}, {\"Num_of_Delayed_Payment\": 9, \"Delay_from_due_date\": 24, \"Credit_Score\": \"Good\"}, {\"Num_of_Delayed_Payment\": 21, \"Delay_from_due_date\": 19, \"Credit_Score\": \"Standard\"}, {\"Num_of_Delayed_Payment\": 11, \"Delay_from_due_date\": 49, \"Credit_Score\": \"Poor\"}, {\"Num_of_Delayed_Payment\": 15, \"Delay_from_due_date\": 17, \"Credit_Score\": \"Standard\"}, {\"Num_of_Delayed_Payment\": 9, \"Delay_from_due_date\": 8, \"Credit_Score\": \"Good\"}, {\"Num_of_Delayed_Payment\": 15, \"Delay_from_due_date\": 17, \"Credit_Score\": \"Standard\"}, {\"Num_of_Delayed_Payment\": 8, \"Delay_from_due_date\": 13, \"Credit_Score\": \"Standard\"}, {\"Num_of_Delayed_Payment\": 20, \"Delay_from_due_date\": 14, \"Credit_Score\": \"Standard\"}, {\"Num_of_Delayed_Payment\": 20, \"Delay_from_due_date\": 19, \"Credit_Score\": \"Standard\"}, {\"Num_of_Delayed_Payment\": 17, \"Delay_from_due_date\": 26, \"Credit_Score\": \"Standard\"}, {\"Num_of_Delayed_Payment\": 19, \"Delay_from_due_date\": 45, \"Credit_Score\": \"Poor\"}, {\"Num_of_Delayed_Payment\": 4, \"Delay_from_due_date\": 6, \"Credit_Score\": \"Standard\"}, {\"Num_of_Delayed_Payment\": 19, \"Delay_from_due_date\": 31, \"Credit_Score\": \"Standard\"}, {\"Num_of_Delayed_Payment\": 9, \"Delay_from_due_date\": 17, \"Credit_Score\": \"Standard\"}, {\"Num_of_Delayed_Payment\": 12, \"Delay_from_due_date\": 11, \"Credit_Score\": \"Poor\"}, {\"Num_of_Delayed_Payment\": 2, \"Delay_from_due_date\": 5, \"Credit_Score\": \"Standard\"}, {\"Num_of_Delayed_Payment\": 16, \"Delay_from_due_date\": 11, \"Credit_Score\": \"Standard\"}, {\"Num_of_Delayed_Payment\": 2, \"Delay_from_due_date\": 11, \"Credit_Score\": \"Good\"}, {\"Num_of_Delayed_Payment\": 17, \"Delay_from_due_date\": 6, \"Credit_Score\": \"Standard\"}, {\"Num_of_Delayed_Payment\": 15, \"Delay_from_due_date\": 23, \"Credit_Score\": \"Standard\"}, {\"Num_of_Delayed_Payment\": 16, \"Delay_from_due_date\": 19, \"Credit_Score\": \"Standard\"}, {\"Num_of_Delayed_Payment\": 4, \"Delay_from_due_date\": 26, \"Credit_Score\": \"Poor\"}, {\"Num_of_Delayed_Payment\": 13, \"Delay_from_due_date\": 8, \"Credit_Score\": \"Standard\"}, {\"Num_of_Delayed_Payment\": 9, \"Delay_from_due_date\": 13, \"Credit_Score\": \"Good\"}, {\"Num_of_Delayed_Payment\": 20, \"Delay_from_due_date\": 25, \"Credit_Score\": \"Standard\"}, {\"Num_of_Delayed_Payment\": 19, \"Delay_from_due_date\": 7, \"Credit_Score\": \"Standard\"}, {\"Num_of_Delayed_Payment\": 15, \"Delay_from_due_date\": 17, \"Credit_Score\": \"Standard\"}, {\"Num_of_Delayed_Payment\": 8, \"Delay_from_due_date\": 2, \"Credit_Score\": \"Standard\"}, {\"Num_of_Delayed_Payment\": 9, \"Delay_from_due_date\": 23, \"Credit_Score\": \"Standard\"}, {\"Num_of_Delayed_Payment\": 15, \"Delay_from_due_date\": 25, \"Credit_Score\": \"Poor\"}, {\"Num_of_Delayed_Payment\": 19, \"Delay_from_due_date\": 9, \"Credit_Score\": \"Standard\"}, {\"Num_of_Delayed_Payment\": 1, \"Delay_from_due_date\": 2, \"Credit_Score\": \"Good\"}, {\"Num_of_Delayed_Payment\": 9, \"Delay_from_due_date\": 18, \"Credit_Score\": \"Standard\"}, {\"Num_of_Delayed_Payment\": 10, \"Delay_from_due_date\": 15, \"Credit_Score\": \"Good\"}, {\"Num_of_Delayed_Payment\": 13, \"Delay_from_due_date\": 21, \"Credit_Score\": \"Standard\"}, {\"Num_of_Delayed_Payment\": 14, \"Delay_from_due_date\": 7, \"Credit_Score\": \"Standard\"}, {\"Num_of_Delayed_Payment\": 15, \"Delay_from_due_date\": 25, \"Credit_Score\": \"Poor\"}, {\"Num_of_Delayed_Payment\": 12, \"Delay_from_due_date\": 24, \"Credit_Score\": \"Standard\"}, {\"Num_of_Delayed_Payment\": 4, \"Delay_from_due_date\": 14, \"Credit_Score\": \"Good\"}, {\"Num_of_Delayed_Payment\": 12, \"Delay_from_due_date\": 5, \"Credit_Score\": \"Good\"}, {\"Num_of_Delayed_Payment\": 0, \"Delay_from_due_date\": 15, \"Credit_Score\": \"Good\"}, {\"Num_of_Delayed_Payment\": 25, \"Delay_from_due_date\": 33, \"Credit_Score\": \"Poor\"}, {\"Num_of_Delayed_Payment\": 9, \"Delay_from_due_date\": 12, \"Credit_Score\": \"Standard\"}, {\"Num_of_Delayed_Payment\": 2, \"Delay_from_due_date\": 8, \"Credit_Score\": \"Good\"}, {\"Num_of_Delayed_Payment\": 19, \"Delay_from_due_date\": 45, \"Credit_Score\": \"Poor\"}, {\"Num_of_Delayed_Payment\": 20, \"Delay_from_due_date\": 36, \"Credit_Score\": \"Standard\"}, {\"Num_of_Delayed_Payment\": 9, \"Delay_from_due_date\": 7, \"Credit_Score\": \"Standard\"}, {\"Num_of_Delayed_Payment\": 0, \"Delay_from_due_date\": 10, \"Credit_Score\": \"Good\"}, {\"Num_of_Delayed_Payment\": 0, \"Delay_from_due_date\": 1, \"Credit_Score\": \"Standard\"}, {\"Num_of_Delayed_Payment\": 10, \"Delay_from_due_date\": 24, \"Credit_Score\": \"Standard\"}, {\"Num_of_Delayed_Payment\": 8, \"Delay_from_due_date\": 15, \"Credit_Score\": \"Standard\"}, {\"Num_of_Delayed_Payment\": 15, \"Delay_from_due_date\": 43, \"Credit_Score\": \"Poor\"}, {\"Num_of_Delayed_Payment\": 14, \"Delay_from_due_date\": 27, \"Credit_Score\": \"Poor\"}, {\"Num_of_Delayed_Payment\": 15, \"Delay_from_due_date\": 6, \"Credit_Score\": \"Good\"}, {\"Num_of_Delayed_Payment\": 19, \"Delay_from_due_date\": 16, \"Credit_Score\": \"Standard\"}, {\"Num_of_Delayed_Payment\": 16, \"Delay_from_due_date\": 15, \"Credit_Score\": \"Standard\"}, {\"Num_of_Delayed_Payment\": 21, \"Delay_from_due_date\": 16, \"Credit_Score\": \"Poor\"}, {\"Num_of_Delayed_Payment\": 8, \"Delay_from_due_date\": 6, \"Credit_Score\": \"Standard\"}, {\"Num_of_Delayed_Payment\": 27, \"Delay_from_due_date\": 22, \"Credit_Score\": \"Poor\"}, {\"Num_of_Delayed_Payment\": 0, \"Delay_from_due_date\": 6, \"Credit_Score\": \"Good\"}, {\"Num_of_Delayed_Payment\": 8, \"Delay_from_due_date\": 27, \"Credit_Score\": \"Poor\"}, {\"Num_of_Delayed_Payment\": 20, \"Delay_from_due_date\": 16, \"Credit_Score\": \"Poor\"}, {\"Num_of_Delayed_Payment\": 13, \"Delay_from_due_date\": 25, \"Credit_Score\": \"Standard\"}, {\"Num_of_Delayed_Payment\": 19, \"Delay_from_due_date\": 26, \"Credit_Score\": \"Standard\"}, {\"Num_of_Delayed_Payment\": 9, \"Delay_from_due_date\": 13, \"Credit_Score\": \"Standard\"}, {\"Num_of_Delayed_Payment\": 10, \"Delay_from_due_date\": 8, \"Credit_Score\": \"Standard\"}, {\"Num_of_Delayed_Payment\": 15, \"Delay_from_due_date\": 25, \"Credit_Score\": \"Poor\"}, {\"Num_of_Delayed_Payment\": 25, \"Delay_from_due_date\": 30, \"Credit_Score\": \"Poor\"}, {\"Num_of_Delayed_Payment\": 6, \"Delay_from_due_date\": 12, \"Credit_Score\": \"Good\"}, {\"Num_of_Delayed_Payment\": 22, \"Delay_from_due_date\": 20, \"Credit_Score\": \"Poor\"}, {\"Num_of_Delayed_Payment\": 17, \"Delay_from_due_date\": 50, \"Credit_Score\": \"Poor\"}, {\"Num_of_Delayed_Payment\": 11, \"Delay_from_due_date\": 25, \"Credit_Score\": \"Standard\"}, {\"Num_of_Delayed_Payment\": 12, \"Delay_from_due_date\": 13, \"Credit_Score\": \"Poor\"}, {\"Num_of_Delayed_Payment\": 3, \"Delay_from_due_date\": 28, \"Credit_Score\": \"Poor\"}, {\"Num_of_Delayed_Payment\": 7, \"Delay_from_due_date\": 11, \"Credit_Score\": \"Good\"}, {\"Num_of_Delayed_Payment\": 6, \"Delay_from_due_date\": 7, \"Credit_Score\": \"Standard\"}, {\"Num_of_Delayed_Payment\": 8, \"Delay_from_due_date\": 24, \"Credit_Score\": \"Standard\"}, {\"Num_of_Delayed_Payment\": 14, \"Delay_from_due_date\": 18, \"Credit_Score\": \"Standard\"}, {\"Num_of_Delayed_Payment\": 1, \"Delay_from_due_date\": 8, \"Credit_Score\": \"Standard\"}, {\"Num_of_Delayed_Payment\": 17, \"Delay_from_due_date\": 46, \"Credit_Score\": \"Standard\"}, {\"Num_of_Delayed_Payment\": 12, \"Delay_from_due_date\": 8, \"Credit_Score\": \"Standard\"}, {\"Num_of_Delayed_Payment\": 6, \"Delay_from_due_date\": 6, \"Credit_Score\": \"Good\"}, {\"Num_of_Delayed_Payment\": 1, \"Delay_from_due_date\": 18, \"Credit_Score\": \"Standard\"}, {\"Num_of_Delayed_Payment\": 16, \"Delay_from_due_date\": 51, \"Credit_Score\": \"Poor\"}, {\"Num_of_Delayed_Payment\": 10, \"Delay_from_due_date\": 19, \"Credit_Score\": \"Poor\"}, {\"Num_of_Delayed_Payment\": 16, \"Delay_from_due_date\": 9, \"Credit_Score\": \"Standard\"}, {\"Num_of_Delayed_Payment\": 19, \"Delay_from_due_date\": 31, \"Credit_Score\": \"Poor\"}, {\"Num_of_Delayed_Payment\": 9, \"Delay_from_due_date\": 9, \"Credit_Score\": \"Standard\"}, {\"Num_of_Delayed_Payment\": 13, \"Delay_from_due_date\": 27, \"Credit_Score\": \"Poor\"}, {\"Num_of_Delayed_Payment\": 15, \"Delay_from_due_date\": 20, \"Credit_Score\": \"Standard\"}, {\"Num_of_Delayed_Payment\": 3, \"Delay_from_due_date\": 12, \"Credit_Score\": \"Standard\"}, {\"Num_of_Delayed_Payment\": 18, \"Delay_from_due_date\": 41, \"Credit_Score\": \"Poor\"}, {\"Num_of_Delayed_Payment\": 7, \"Delay_from_due_date\": 9, \"Credit_Score\": \"Standard\"}, {\"Num_of_Delayed_Payment\": 13, \"Delay_from_due_date\": 11, \"Credit_Score\": \"Standard\"}, {\"Num_of_Delayed_Payment\": 12, \"Delay_from_due_date\": 28, \"Credit_Score\": \"Standard\"}, {\"Num_of_Delayed_Payment\": 17, \"Delay_from_due_date\": 45, \"Credit_Score\": \"Standard\"}, {\"Num_of_Delayed_Payment\": 5, \"Delay_from_due_date\": 14, \"Credit_Score\": \"Standard\"}, {\"Num_of_Delayed_Payment\": 10, \"Delay_from_due_date\": 16, \"Credit_Score\": \"Poor\"}, {\"Num_of_Delayed_Payment\": 16, \"Delay_from_due_date\": 22, \"Credit_Score\": \"Standard\"}, {\"Num_of_Delayed_Payment\": 12, \"Delay_from_due_date\": 32, \"Credit_Score\": \"Standard\"}, {\"Num_of_Delayed_Payment\": 19, \"Delay_from_due_date\": 21, \"Credit_Score\": \"Poor\"}, {\"Num_of_Delayed_Payment\": 1, \"Delay_from_due_date\": 27, \"Credit_Score\": \"Poor\"}, {\"Num_of_Delayed_Payment\": 12, \"Delay_from_due_date\": 21, \"Credit_Score\": \"Standard\"}, {\"Num_of_Delayed_Payment\": 20, \"Delay_from_due_date\": 20, \"Credit_Score\": \"Poor\"}, {\"Num_of_Delayed_Payment\": 8, \"Delay_from_due_date\": 7, \"Credit_Score\": \"Poor\"}, {\"Num_of_Delayed_Payment\": 15, \"Delay_from_due_date\": 27, \"Credit_Score\": \"Standard\"}, {\"Num_of_Delayed_Payment\": 17, \"Delay_from_due_date\": 19, \"Credit_Score\": \"Poor\"}, {\"Num_of_Delayed_Payment\": 11, \"Delay_from_due_date\": 20, \"Credit_Score\": \"Good\"}, {\"Num_of_Delayed_Payment\": 22, \"Delay_from_due_date\": 52, \"Credit_Score\": \"Standard\"}, {\"Num_of_Delayed_Payment\": 21, \"Delay_from_due_date\": 28, \"Credit_Score\": \"Standard\"}, {\"Num_of_Delayed_Payment\": 11, \"Delay_from_due_date\": 3, \"Credit_Score\": \"Good\"}, {\"Num_of_Delayed_Payment\": 18, \"Delay_from_due_date\": 47, \"Credit_Score\": \"Poor\"}, {\"Num_of_Delayed_Payment\": 12, \"Delay_from_due_date\": 29, \"Credit_Score\": \"Poor\"}, {\"Num_of_Delayed_Payment\": 20, \"Delay_from_due_date\": 8, \"Credit_Score\": \"Standard\"}, {\"Num_of_Delayed_Payment\": 28, \"Delay_from_due_date\": 47, \"Credit_Score\": \"Poor\"}, {\"Num_of_Delayed_Payment\": 19, \"Delay_from_due_date\": 18, \"Credit_Score\": \"Good\"}, {\"Num_of_Delayed_Payment\": 14, \"Delay_from_due_date\": 22, \"Credit_Score\": \"Standard\"}, {\"Num_of_Delayed_Payment\": 23, \"Delay_from_due_date\": 16, \"Credit_Score\": \"Standard\"}, {\"Num_of_Delayed_Payment\": 16, \"Delay_from_due_date\": 27, \"Credit_Score\": \"Standard\"}, {\"Num_of_Delayed_Payment\": 20, \"Delay_from_due_date\": 24, \"Credit_Score\": \"Standard\"}, {\"Num_of_Delayed_Payment\": 4, \"Delay_from_due_date\": 7, \"Credit_Score\": \"Good\"}, {\"Num_of_Delayed_Payment\": 13, \"Delay_from_due_date\": 23, \"Credit_Score\": \"Poor\"}, {\"Num_of_Delayed_Payment\": 18, \"Delay_from_due_date\": 49, \"Credit_Score\": \"Standard\"}, {\"Num_of_Delayed_Payment\": 10, \"Delay_from_due_date\": 13, \"Credit_Score\": \"Poor\"}, {\"Num_of_Delayed_Payment\": 8, \"Delay_from_due_date\": 19, \"Credit_Score\": \"Poor\"}, {\"Num_of_Delayed_Payment\": 19, \"Delay_from_due_date\": 18, \"Credit_Score\": \"Poor\"}, {\"Num_of_Delayed_Payment\": 18, \"Delay_from_due_date\": 17, \"Credit_Score\": \"Poor\"}, {\"Num_of_Delayed_Payment\": 15, \"Delay_from_due_date\": 40, \"Credit_Score\": \"Poor\"}, {\"Num_of_Delayed_Payment\": 10, \"Delay_from_due_date\": 12, \"Credit_Score\": \"Standard\"}, {\"Num_of_Delayed_Payment\": 13, \"Delay_from_due_date\": 27, \"Credit_Score\": \"Good\"}, {\"Num_of_Delayed_Payment\": 12, \"Delay_from_due_date\": 12, \"Credit_Score\": \"Standard\"}, {\"Num_of_Delayed_Payment\": 16, \"Delay_from_due_date\": 26, \"Credit_Score\": \"Poor\"}, {\"Num_of_Delayed_Payment\": 17, \"Delay_from_due_date\": 6, \"Credit_Score\": \"Standard\"}, {\"Num_of_Delayed_Payment\": 16, \"Delay_from_due_date\": 13, \"Credit_Score\": \"Standard\"}, {\"Num_of_Delayed_Payment\": 14, \"Delay_from_due_date\": 18, \"Credit_Score\": \"Standard\"}, {\"Num_of_Delayed_Payment\": 5, \"Delay_from_due_date\": 6, \"Credit_Score\": \"Standard\"}, {\"Num_of_Delayed_Payment\": 19, \"Delay_from_due_date\": 45, \"Credit_Score\": \"Poor\"}, {\"Num_of_Delayed_Payment\": 9, \"Delay_from_due_date\": 18, \"Credit_Score\": \"Standard\"}, {\"Num_of_Delayed_Payment\": 20, \"Delay_from_due_date\": 8, \"Credit_Score\": \"Standard\"}, {\"Num_of_Delayed_Payment\": 5, \"Delay_from_due_date\": 15, \"Credit_Score\": \"Good\"}, {\"Num_of_Delayed_Payment\": 18, \"Delay_from_due_date\": 44, \"Credit_Score\": \"Poor\"}, {\"Num_of_Delayed_Payment\": 8, \"Delay_from_due_date\": 5, \"Credit_Score\": \"Good\"}, {\"Num_of_Delayed_Payment\": 12, \"Delay_from_due_date\": 8, \"Credit_Score\": \"Poor\"}, {\"Num_of_Delayed_Payment\": 7, \"Delay_from_due_date\": 6, \"Credit_Score\": \"Poor\"}, {\"Num_of_Delayed_Payment\": 23, \"Delay_from_due_date\": 39, \"Credit_Score\": \"Poor\"}, {\"Num_of_Delayed_Payment\": 18, \"Delay_from_due_date\": 30, \"Credit_Score\": \"Standard\"}, {\"Num_of_Delayed_Payment\": 10, \"Delay_from_due_date\": 7, \"Credit_Score\": \"Standard\"}, {\"Num_of_Delayed_Payment\": 17, \"Delay_from_due_date\": 6, \"Credit_Score\": \"Standard\"}, {\"Num_of_Delayed_Payment\": 19, \"Delay_from_due_date\": 23, \"Credit_Score\": \"Standard\"}, {\"Num_of_Delayed_Payment\": 2, \"Delay_from_due_date\": 13, \"Credit_Score\": \"Poor\"}, {\"Num_of_Delayed_Payment\": 15, \"Delay_from_due_date\": 7, \"Credit_Score\": \"Standard\"}, {\"Num_of_Delayed_Payment\": 17, \"Delay_from_due_date\": 12, \"Credit_Score\": \"Standard\"}, {\"Num_of_Delayed_Payment\": 17, \"Delay_from_due_date\": 24, \"Credit_Score\": \"Standard\"}, {\"Num_of_Delayed_Payment\": 17, \"Delay_from_due_date\": 52, \"Credit_Score\": \"Poor\"}, {\"Num_of_Delayed_Payment\": 12, \"Delay_from_due_date\": 25, \"Credit_Score\": \"Standard\"}, {\"Num_of_Delayed_Payment\": 21, \"Delay_from_due_date\": 20, \"Credit_Score\": \"Poor\"}, {\"Num_of_Delayed_Payment\": 17, \"Delay_from_due_date\": 24, \"Credit_Score\": \"Standard\"}, {\"Num_of_Delayed_Payment\": 14, \"Delay_from_due_date\": 0, \"Credit_Score\": \"Poor\"}, {\"Num_of_Delayed_Payment\": 10, \"Delay_from_due_date\": 27, \"Credit_Score\": \"Standard\"}, {\"Num_of_Delayed_Payment\": 20, \"Delay_from_due_date\": 33, \"Credit_Score\": \"Poor\"}, {\"Num_of_Delayed_Payment\": 1, \"Delay_from_due_date\": 0, \"Credit_Score\": \"Good\"}, {\"Num_of_Delayed_Payment\": 13, \"Delay_from_due_date\": 28, \"Credit_Score\": \"Standard\"}, {\"Num_of_Delayed_Payment\": 8, \"Delay_from_due_date\": 20, \"Credit_Score\": \"Poor\"}, {\"Num_of_Delayed_Payment\": 15, \"Delay_from_due_date\": 28, \"Credit_Score\": \"Standard\"}, {\"Num_of_Delayed_Payment\": 7, \"Delay_from_due_date\": 8, \"Credit_Score\": \"Standard\"}, {\"Num_of_Delayed_Payment\": 12, \"Delay_from_due_date\": 16, \"Credit_Score\": \"Poor\"}, {\"Num_of_Delayed_Payment\": 15, \"Delay_from_due_date\": 17, \"Credit_Score\": \"Standard\"}, {\"Num_of_Delayed_Payment\": 19, \"Delay_from_due_date\": 12, \"Credit_Score\": \"Standard\"}, {\"Num_of_Delayed_Payment\": 13, \"Delay_from_due_date\": 7, \"Credit_Score\": \"Poor\"}, {\"Num_of_Delayed_Payment\": 10, \"Delay_from_due_date\": 10, \"Credit_Score\": \"Poor\"}, {\"Num_of_Delayed_Payment\": 9, \"Delay_from_due_date\": 11, \"Credit_Score\": \"Standard\"}, {\"Num_of_Delayed_Payment\": 13, \"Delay_from_due_date\": 12, \"Credit_Score\": \"Good\"}, {\"Num_of_Delayed_Payment\": 15, \"Delay_from_due_date\": 22, \"Credit_Score\": \"Standard\"}, {\"Num_of_Delayed_Payment\": 15, \"Delay_from_due_date\": 11, \"Credit_Score\": \"Standard\"}, {\"Num_of_Delayed_Payment\": 11, \"Delay_from_due_date\": 12, \"Credit_Score\": \"Standard\"}, {\"Num_of_Delayed_Payment\": 27, \"Delay_from_due_date\": 47, \"Credit_Score\": \"Poor\"}, {\"Num_of_Delayed_Payment\": 13, \"Delay_from_due_date\": 14, \"Credit_Score\": \"Standard\"}, {\"Num_of_Delayed_Payment\": 10, \"Delay_from_due_date\": 12, \"Credit_Score\": \"Standard\"}, {\"Num_of_Delayed_Payment\": 12, \"Delay_from_due_date\": 25, \"Credit_Score\": \"Standard\"}, {\"Num_of_Delayed_Payment\": 8, \"Delay_from_due_date\": 9, \"Credit_Score\": \"Standard\"}, {\"Num_of_Delayed_Payment\": 16, \"Delay_from_due_date\": 18, \"Credit_Score\": \"Standard\"}, {\"Num_of_Delayed_Payment\": 11, \"Delay_from_due_date\": 6, \"Credit_Score\": \"Standard\"}, {\"Num_of_Delayed_Payment\": 18, \"Delay_from_due_date\": 25, \"Credit_Score\": \"Good\"}, {\"Num_of_Delayed_Payment\": 13, \"Delay_from_due_date\": 23, \"Credit_Score\": \"Standard\"}, {\"Num_of_Delayed_Payment\": 3, \"Delay_from_due_date\": 0, \"Credit_Score\": \"Standard\"}, {\"Num_of_Delayed_Payment\": 8, \"Delay_from_due_date\": 1, \"Credit_Score\": \"Standard\"}, {\"Num_of_Delayed_Payment\": 21, \"Delay_from_due_date\": 8, \"Credit_Score\": \"Poor\"}, {\"Num_of_Delayed_Payment\": 14, \"Delay_from_due_date\": 24, \"Credit_Score\": \"Standard\"}, {\"Num_of_Delayed_Payment\": 12, \"Delay_from_due_date\": 23, \"Credit_Score\": \"Standard\"}, {\"Num_of_Delayed_Payment\": 15, \"Delay_from_due_date\": 27, \"Credit_Score\": \"Standard\"}, {\"Num_of_Delayed_Payment\": 10, \"Delay_from_due_date\": 10, \"Credit_Score\": \"Standard\"}, {\"Num_of_Delayed_Payment\": 18, \"Delay_from_due_date\": 9, \"Credit_Score\": \"Standard\"}, {\"Num_of_Delayed_Payment\": 14, \"Delay_from_due_date\": 19, \"Credit_Score\": \"Standard\"}, {\"Num_of_Delayed_Payment\": 12, \"Delay_from_due_date\": 30, \"Credit_Score\": \"Standard\"}, {\"Num_of_Delayed_Payment\": 10, \"Delay_from_due_date\": 13, \"Credit_Score\": \"Standard\"}, {\"Num_of_Delayed_Payment\": 23, \"Delay_from_due_date\": 24, \"Credit_Score\": \"Poor\"}, {\"Num_of_Delayed_Payment\": 15, \"Delay_from_due_date\": 20, \"Credit_Score\": \"Good\"}, {\"Num_of_Delayed_Payment\": 25, \"Delay_from_due_date\": 25, \"Credit_Score\": \"Poor\"}, {\"Num_of_Delayed_Payment\": 1, \"Delay_from_due_date\": 21, \"Credit_Score\": \"Poor\"}, {\"Num_of_Delayed_Payment\": 13, \"Delay_from_due_date\": 7, \"Credit_Score\": \"Standard\"}, {\"Num_of_Delayed_Payment\": 10, \"Delay_from_due_date\": 26, \"Credit_Score\": \"Standard\"}, {\"Num_of_Delayed_Payment\": 15, \"Delay_from_due_date\": 6, \"Credit_Score\": \"Poor\"}, {\"Num_of_Delayed_Payment\": 21, \"Delay_from_due_date\": 30, \"Credit_Score\": \"Good\"}, {\"Num_of_Delayed_Payment\": 7, \"Delay_from_due_date\": 21, \"Credit_Score\": \"Standard\"}, {\"Num_of_Delayed_Payment\": 15, \"Delay_from_due_date\": 48, \"Credit_Score\": \"Standard\"}, {\"Num_of_Delayed_Payment\": 16, \"Delay_from_due_date\": 33, \"Credit_Score\": \"Standard\"}, {\"Num_of_Delayed_Payment\": 5, \"Delay_from_due_date\": 0, \"Credit_Score\": \"Good\"}, {\"Num_of_Delayed_Payment\": 15, \"Delay_from_due_date\": 28, \"Credit_Score\": \"Standard\"}, {\"Num_of_Delayed_Payment\": 19, \"Delay_from_due_date\": 22, \"Credit_Score\": \"Standard\"}, {\"Num_of_Delayed_Payment\": 17, \"Delay_from_due_date\": 24, \"Credit_Score\": \"Standard\"}, {\"Num_of_Delayed_Payment\": 16, \"Delay_from_due_date\": 21, \"Credit_Score\": \"Standard\"}, {\"Num_of_Delayed_Payment\": 7, \"Delay_from_due_date\": 10, \"Credit_Score\": \"Standard\"}, {\"Num_of_Delayed_Payment\": 10, \"Delay_from_due_date\": 9, \"Credit_Score\": \"Good\"}, {\"Num_of_Delayed_Payment\": 6, \"Delay_from_due_date\": 14, \"Credit_Score\": \"Standard\"}, {\"Num_of_Delayed_Payment\": 17, \"Delay_from_due_date\": 28, \"Credit_Score\": \"Poor\"}, {\"Num_of_Delayed_Payment\": 12, \"Delay_from_due_date\": 20, \"Credit_Score\": \"Standard\"}, {\"Num_of_Delayed_Payment\": 10, \"Delay_from_due_date\": 13, \"Credit_Score\": \"Standard\"}, {\"Num_of_Delayed_Payment\": 25, \"Delay_from_due_date\": 46, \"Credit_Score\": \"Poor\"}, {\"Num_of_Delayed_Payment\": 16, \"Delay_from_due_date\": 19, \"Credit_Score\": \"Standard\"}, {\"Num_of_Delayed_Payment\": 20, \"Delay_from_due_date\": 21, \"Credit_Score\": \"Good\"}, {\"Num_of_Delayed_Payment\": 10, \"Delay_from_due_date\": 15, \"Credit_Score\": \"Standard\"}, {\"Num_of_Delayed_Payment\": 3, \"Delay_from_due_date\": 5, \"Credit_Score\": \"Poor\"}, {\"Num_of_Delayed_Payment\": 13, \"Delay_from_due_date\": 19, \"Credit_Score\": \"Standard\"}, {\"Num_of_Delayed_Payment\": 11, \"Delay_from_due_date\": 11, \"Credit_Score\": \"Standard\"}, {\"Num_of_Delayed_Payment\": 23, \"Delay_from_due_date\": 29, \"Credit_Score\": \"Standard\"}, {\"Num_of_Delayed_Payment\": 10, \"Delay_from_due_date\": 20, \"Credit_Score\": \"Standard\"}, {\"Num_of_Delayed_Payment\": 20, \"Delay_from_due_date\": 16, \"Credit_Score\": \"Poor\"}, {\"Num_of_Delayed_Payment\": 11, \"Delay_from_due_date\": -1, \"Credit_Score\": \"Good\"}, {\"Num_of_Delayed_Payment\": 12, \"Delay_from_due_date\": 9, \"Credit_Score\": \"Poor\"}, {\"Num_of_Delayed_Payment\": 9, \"Delay_from_due_date\": 7, \"Credit_Score\": \"Good\"}, {\"Num_of_Delayed_Payment\": 15, \"Delay_from_due_date\": 33, \"Credit_Score\": \"Good\"}, {\"Num_of_Delayed_Payment\": 20, \"Delay_from_due_date\": 9, \"Credit_Score\": \"Standard\"}, {\"Num_of_Delayed_Payment\": 22, \"Delay_from_due_date\": 26, \"Credit_Score\": \"Poor\"}, {\"Num_of_Delayed_Payment\": 11, \"Delay_from_due_date\": 5, \"Credit_Score\": \"Good\"}, {\"Num_of_Delayed_Payment\": 1, \"Delay_from_due_date\": 6, \"Credit_Score\": \"Good\"}, {\"Num_of_Delayed_Payment\": 5, \"Delay_from_due_date\": 0, \"Credit_Score\": \"Good\"}, {\"Num_of_Delayed_Payment\": 19, \"Delay_from_due_date\": 18, \"Credit_Score\": \"Poor\"}, {\"Num_of_Delayed_Payment\": 6, \"Delay_from_due_date\": 7, \"Credit_Score\": \"Standard\"}, {\"Num_of_Delayed_Payment\": 12, \"Delay_from_due_date\": 20, \"Credit_Score\": \"Good\"}, {\"Num_of_Delayed_Payment\": 7, \"Delay_from_due_date\": 13, \"Credit_Score\": \"Good\"}, {\"Num_of_Delayed_Payment\": 16, \"Delay_from_due_date\": 36, \"Credit_Score\": \"Poor\"}, {\"Num_of_Delayed_Payment\": 16, \"Delay_from_due_date\": 23, \"Credit_Score\": \"Standard\"}, {\"Num_of_Delayed_Payment\": 15, \"Delay_from_due_date\": 7, \"Credit_Score\": \"Poor\"}, {\"Num_of_Delayed_Payment\": 15, \"Delay_from_due_date\": 24, \"Credit_Score\": \"Poor\"}, {\"Num_of_Delayed_Payment\": 8, \"Delay_from_due_date\": 21, \"Credit_Score\": \"Good\"}, {\"Num_of_Delayed_Payment\": 13, \"Delay_from_due_date\": 17, \"Credit_Score\": \"Standard\"}, {\"Num_of_Delayed_Payment\": 4, \"Delay_from_due_date\": 8, \"Credit_Score\": \"Good\"}, {\"Num_of_Delayed_Payment\": 12, \"Delay_from_due_date\": 27, \"Credit_Score\": \"Poor\"}, {\"Num_of_Delayed_Payment\": 7, \"Delay_from_due_date\": 11, \"Credit_Score\": \"Standard\"}, {\"Num_of_Delayed_Payment\": 14, \"Delay_from_due_date\": 25, \"Credit_Score\": \"Standard\"}, {\"Num_of_Delayed_Payment\": 15, \"Delay_from_due_date\": 20, \"Credit_Score\": \"Standard\"}, {\"Num_of_Delayed_Payment\": 21, \"Delay_from_due_date\": 51, \"Credit_Score\": \"Poor\"}, {\"Num_of_Delayed_Payment\": 15, \"Delay_from_due_date\": 10, \"Credit_Score\": \"Good\"}, {\"Num_of_Delayed_Payment\": 13, \"Delay_from_due_date\": 18, \"Credit_Score\": \"Standard\"}, {\"Num_of_Delayed_Payment\": 9, \"Delay_from_due_date\": 30, \"Credit_Score\": \"Good\"}, {\"Num_of_Delayed_Payment\": 11, \"Delay_from_due_date\": 11, \"Credit_Score\": \"Poor\"}, {\"Num_of_Delayed_Payment\": 1, \"Delay_from_due_date\": 6, \"Credit_Score\": \"Standard\"}, {\"Num_of_Delayed_Payment\": 2, \"Delay_from_due_date\": 4, \"Credit_Score\": \"Poor\"}, {\"Num_of_Delayed_Payment\": 6, \"Delay_from_due_date\": 28, \"Credit_Score\": \"Poor\"}, {\"Num_of_Delayed_Payment\": 12, \"Delay_from_due_date\": 11, \"Credit_Score\": \"Good\"}, {\"Num_of_Delayed_Payment\": 12, \"Delay_from_due_date\": 21, \"Credit_Score\": \"Standard\"}, {\"Num_of_Delayed_Payment\": 14, \"Delay_from_due_date\": 25, \"Credit_Score\": \"Poor\"}, {\"Num_of_Delayed_Payment\": 15, \"Delay_from_due_date\": 16, \"Credit_Score\": \"Poor\"}, {\"Num_of_Delayed_Payment\": 10, \"Delay_from_due_date\": 17, \"Credit_Score\": \"Poor\"}, {\"Num_of_Delayed_Payment\": 21, \"Delay_from_due_date\": 23, \"Credit_Score\": \"Poor\"}, {\"Num_of_Delayed_Payment\": 18, \"Delay_from_due_date\": 29, \"Credit_Score\": \"Poor\"}, {\"Num_of_Delayed_Payment\": 10, \"Delay_from_due_date\": 4, \"Credit_Score\": \"Good\"}, {\"Num_of_Delayed_Payment\": 16, \"Delay_from_due_date\": 18, \"Credit_Score\": \"Standard\"}, {\"Num_of_Delayed_Payment\": 10, \"Delay_from_due_date\": 7, \"Credit_Score\": \"Good\"}, {\"Num_of_Delayed_Payment\": 17, \"Delay_from_due_date\": 18, \"Credit_Score\": \"Standard\"}, {\"Num_of_Delayed_Payment\": 12, \"Delay_from_due_date\": 10, \"Credit_Score\": \"Good\"}, {\"Num_of_Delayed_Payment\": 11, \"Delay_from_due_date\": 15, \"Credit_Score\": \"Standard\"}, {\"Num_of_Delayed_Payment\": 5, \"Delay_from_due_date\": 2, \"Credit_Score\": \"Good\"}, {\"Num_of_Delayed_Payment\": 9, \"Delay_from_due_date\": 28, \"Credit_Score\": \"Poor\"}, {\"Num_of_Delayed_Payment\": 16, \"Delay_from_due_date\": 36, \"Credit_Score\": \"Poor\"}, {\"Num_of_Delayed_Payment\": 19, \"Delay_from_due_date\": 5, \"Credit_Score\": \"Standard\"}, {\"Num_of_Delayed_Payment\": 6, \"Delay_from_due_date\": 15, \"Credit_Score\": \"Good\"}, {\"Num_of_Delayed_Payment\": 24, \"Delay_from_due_date\": 15, \"Credit_Score\": \"Poor\"}, {\"Num_of_Delayed_Payment\": 16, \"Delay_from_due_date\": 30, \"Credit_Score\": \"Standard\"}, {\"Num_of_Delayed_Payment\": 17, \"Delay_from_due_date\": 27, \"Credit_Score\": \"Standard\"}, {\"Num_of_Delayed_Payment\": 17, \"Delay_from_due_date\": 26, \"Credit_Score\": \"Poor\"}, {\"Num_of_Delayed_Payment\": 4, \"Delay_from_due_date\": 6, \"Credit_Score\": \"Good\"}, {\"Num_of_Delayed_Payment\": 18, \"Delay_from_due_date\": 29, \"Credit_Score\": \"Standard\"}, {\"Num_of_Delayed_Payment\": 12, \"Delay_from_due_date\": 9, \"Credit_Score\": \"Standard\"}, {\"Num_of_Delayed_Payment\": 1, \"Delay_from_due_date\": 1, \"Credit_Score\": \"Poor\"}, {\"Num_of_Delayed_Payment\": 4, \"Delay_from_due_date\": 3, \"Credit_Score\": \"Standard\"}, {\"Num_of_Delayed_Payment\": 3, \"Delay_from_due_date\": 4, \"Credit_Score\": \"Good\"}, {\"Num_of_Delayed_Payment\": 17, \"Delay_from_due_date\": 17, \"Credit_Score\": \"Standard\"}, {\"Num_of_Delayed_Payment\": 5, \"Delay_from_due_date\": 7, \"Credit_Score\": \"Poor\"}, {\"Num_of_Delayed_Payment\": 11, \"Delay_from_due_date\": 0, \"Credit_Score\": \"Good\"}, {\"Num_of_Delayed_Payment\": 9, \"Delay_from_due_date\": 15, \"Credit_Score\": \"Standard\"}, {\"Num_of_Delayed_Payment\": 7, \"Delay_from_due_date\": 7, \"Credit_Score\": \"Good\"}, {\"Num_of_Delayed_Payment\": 7, \"Delay_from_due_date\": 11, \"Credit_Score\": \"Standard\"}, {\"Num_of_Delayed_Payment\": 19, \"Delay_from_due_date\": 30, \"Credit_Score\": \"Standard\"}, {\"Num_of_Delayed_Payment\": 12, \"Delay_from_due_date\": 25, \"Credit_Score\": \"Standard\"}, {\"Num_of_Delayed_Payment\": 16, \"Delay_from_due_date\": 36, \"Credit_Score\": \"Poor\"}, {\"Num_of_Delayed_Payment\": 9, \"Delay_from_due_date\": 6, \"Credit_Score\": \"Standard\"}, {\"Num_of_Delayed_Payment\": 18, \"Delay_from_due_date\": 29, \"Credit_Score\": \"Standard\"}, {\"Num_of_Delayed_Payment\": 12, \"Delay_from_due_date\": 19, \"Credit_Score\": \"Poor\"}, {\"Num_of_Delayed_Payment\": 9, \"Delay_from_due_date\": 24, \"Credit_Score\": \"Good\"}, {\"Num_of_Delayed_Payment\": 14, \"Delay_from_due_date\": 26, \"Credit_Score\": \"Standard\"}, {\"Num_of_Delayed_Payment\": 12, \"Delay_from_due_date\": 30, \"Credit_Score\": \"Standard\"}, {\"Num_of_Delayed_Payment\": 22, \"Delay_from_due_date\": 23, \"Credit_Score\": \"Poor\"}, {\"Num_of_Delayed_Payment\": 22, \"Delay_from_due_date\": 35, \"Credit_Score\": \"Poor\"}, {\"Num_of_Delayed_Payment\": 10, \"Delay_from_due_date\": 3, \"Credit_Score\": \"Good\"}, {\"Num_of_Delayed_Payment\": 17, \"Delay_from_due_date\": 5, \"Credit_Score\": \"Standard\"}, {\"Num_of_Delayed_Payment\": 8, \"Delay_from_due_date\": 23, \"Credit_Score\": \"Standard\"}, {\"Num_of_Delayed_Payment\": 17, \"Delay_from_due_date\": 19, \"Credit_Score\": \"Standard\"}, {\"Num_of_Delayed_Payment\": 10, \"Delay_from_due_date\": 9, \"Credit_Score\": \"Standard\"}, {\"Num_of_Delayed_Payment\": 17, \"Delay_from_due_date\": 4, \"Credit_Score\": \"Poor\"}, {\"Num_of_Delayed_Payment\": 11, \"Delay_from_due_date\": 30, \"Credit_Score\": \"Standard\"}, {\"Num_of_Delayed_Payment\": 2, \"Delay_from_due_date\": 31, \"Credit_Score\": \"Poor\"}, {\"Num_of_Delayed_Payment\": 20, \"Delay_from_due_date\": 22, \"Credit_Score\": \"Poor\"}, {\"Num_of_Delayed_Payment\": 2, \"Delay_from_due_date\": 7, \"Credit_Score\": \"Standard\"}, {\"Num_of_Delayed_Payment\": 12, \"Delay_from_due_date\": 20, \"Credit_Score\": \"Good\"}, {\"Num_of_Delayed_Payment\": 8, \"Delay_from_due_date\": 18, \"Credit_Score\": \"Good\"}, {\"Num_of_Delayed_Payment\": 19, \"Delay_from_due_date\": 27, \"Credit_Score\": \"Standard\"}, {\"Num_of_Delayed_Payment\": 10, \"Delay_from_due_date\": 31, \"Credit_Score\": \"Standard\"}, {\"Num_of_Delayed_Payment\": 15, \"Delay_from_due_date\": 22, \"Credit_Score\": \"Standard\"}, {\"Num_of_Delayed_Payment\": 10, \"Delay_from_due_date\": 6, \"Credit_Score\": \"Standard\"}, {\"Num_of_Delayed_Payment\": 9, \"Delay_from_due_date\": 30, \"Credit_Score\": \"Standard\"}, {\"Num_of_Delayed_Payment\": 9, \"Delay_from_due_date\": 18, \"Credit_Score\": \"Standard\"}, {\"Num_of_Delayed_Payment\": 8, \"Delay_from_due_date\": 9, \"Credit_Score\": \"Good\"}, {\"Num_of_Delayed_Payment\": 11, \"Delay_from_due_date\": 8, \"Credit_Score\": \"Standard\"}, {\"Num_of_Delayed_Payment\": 11, \"Delay_from_due_date\": 5, \"Credit_Score\": \"Standard\"}, {\"Num_of_Delayed_Payment\": 21, \"Delay_from_due_date\": 34, \"Credit_Score\": \"Standard\"}, {\"Num_of_Delayed_Payment\": 15, \"Delay_from_due_date\": 32, \"Credit_Score\": \"Standard\"}, {\"Num_of_Delayed_Payment\": 21, \"Delay_from_due_date\": 27, \"Credit_Score\": \"Standard\"}, {\"Num_of_Delayed_Payment\": 10, \"Delay_from_due_date\": 18, \"Credit_Score\": \"Good\"}, {\"Num_of_Delayed_Payment\": 22, \"Delay_from_due_date\": 17, \"Credit_Score\": \"Standard\"}, {\"Num_of_Delayed_Payment\": 20, \"Delay_from_due_date\": 48, \"Credit_Score\": \"Standard\"}, {\"Num_of_Delayed_Payment\": 2, \"Delay_from_due_date\": 15, \"Credit_Score\": \"Good\"}, {\"Num_of_Delayed_Payment\": 1, \"Delay_from_due_date\": 14, \"Credit_Score\": \"Standard\"}, {\"Num_of_Delayed_Payment\": 24, \"Delay_from_due_date\": 51, \"Credit_Score\": \"Poor\"}, {\"Num_of_Delayed_Payment\": 3, \"Delay_from_due_date\": 10, \"Credit_Score\": \"Good\"}, {\"Num_of_Delayed_Payment\": 12, \"Delay_from_due_date\": 6, \"Credit_Score\": \"Standard\"}, {\"Num_of_Delayed_Payment\": 14, \"Delay_from_due_date\": 27, \"Credit_Score\": \"Standard\"}, {\"Num_of_Delayed_Payment\": 17, \"Delay_from_due_date\": 24, \"Credit_Score\": \"Poor\"}, {\"Num_of_Delayed_Payment\": 17, \"Delay_from_due_date\": 15, \"Credit_Score\": \"Good\"}, {\"Num_of_Delayed_Payment\": 16, \"Delay_from_due_date\": 25, \"Credit_Score\": \"Standard\"}, {\"Num_of_Delayed_Payment\": 22, \"Delay_from_due_date\": 25, \"Credit_Score\": \"Standard\"}, {\"Num_of_Delayed_Payment\": 19, \"Delay_from_due_date\": 29, \"Credit_Score\": \"Standard\"}, {\"Num_of_Delayed_Payment\": 21, \"Delay_from_due_date\": 42, \"Credit_Score\": \"Poor\"}, {\"Num_of_Delayed_Payment\": 12, \"Delay_from_due_date\": 8, \"Credit_Score\": \"Standard\"}, {\"Num_of_Delayed_Payment\": 9, \"Delay_from_due_date\": 25, \"Credit_Score\": \"Standard\"}, {\"Num_of_Delayed_Payment\": 19, \"Delay_from_due_date\": 11, \"Credit_Score\": \"Standard\"}, {\"Num_of_Delayed_Payment\": 11, \"Delay_from_due_date\": 6, \"Credit_Score\": \"Standard\"}, {\"Num_of_Delayed_Payment\": 3, \"Delay_from_due_date\": 26, \"Credit_Score\": \"Poor\"}, {\"Num_of_Delayed_Payment\": 9, \"Delay_from_due_date\": 34, \"Credit_Score\": \"Standard\"}, {\"Num_of_Delayed_Payment\": 7, \"Delay_from_due_date\": 20, \"Credit_Score\": \"Poor\"}, {\"Num_of_Delayed_Payment\": 24, \"Delay_from_due_date\": 22, \"Credit_Score\": \"Poor\"}, {\"Num_of_Delayed_Payment\": 17, \"Delay_from_due_date\": 11, \"Credit_Score\": \"Standard\"}, {\"Num_of_Delayed_Payment\": 14, \"Delay_from_due_date\": 50, \"Credit_Score\": \"Poor\"}, {\"Num_of_Delayed_Payment\": 14, \"Delay_from_due_date\": 21, \"Credit_Score\": \"Good\"}, {\"Num_of_Delayed_Payment\": 16, \"Delay_from_due_date\": 5, \"Credit_Score\": \"Standard\"}, {\"Num_of_Delayed_Payment\": 4, \"Delay_from_due_date\": -3, \"Credit_Score\": \"Standard\"}, {\"Num_of_Delayed_Payment\": 15, \"Delay_from_due_date\": 26, \"Credit_Score\": \"Standard\"}, {\"Num_of_Delayed_Payment\": 14, \"Delay_from_due_date\": 45, \"Credit_Score\": \"Poor\"}, {\"Num_of_Delayed_Payment\": 16, \"Delay_from_due_date\": 22, \"Credit_Score\": \"Standard\"}, {\"Num_of_Delayed_Payment\": 1, \"Delay_from_due_date\": 9, \"Credit_Score\": \"Standard\"}, {\"Num_of_Delayed_Payment\": 5, \"Delay_from_due_date\": 6, \"Credit_Score\": \"Standard\"}, {\"Num_of_Delayed_Payment\": 19, \"Delay_from_due_date\": 16, \"Credit_Score\": \"Standard\"}, {\"Num_of_Delayed_Payment\": 7, \"Delay_from_due_date\": 14, \"Credit_Score\": \"Standard\"}, {\"Num_of_Delayed_Payment\": 13, \"Delay_from_due_date\": 13, \"Credit_Score\": \"Standard\"}, {\"Num_of_Delayed_Payment\": 13, \"Delay_from_due_date\": 5, \"Credit_Score\": \"Standard\"}, {\"Num_of_Delayed_Payment\": 20, \"Delay_from_due_date\": 36, \"Credit_Score\": \"Standard\"}, {\"Num_of_Delayed_Payment\": 12, \"Delay_from_due_date\": -3, \"Credit_Score\": \"Good\"}, {\"Num_of_Delayed_Payment\": 12, \"Delay_from_due_date\": 28, \"Credit_Score\": \"Standard\"}, {\"Num_of_Delayed_Payment\": 12, \"Delay_from_due_date\": 9, \"Credit_Score\": \"Standard\"}, {\"Num_of_Delayed_Payment\": 18, \"Delay_from_due_date\": 44, \"Credit_Score\": \"Poor\"}, {\"Num_of_Delayed_Payment\": 12, \"Delay_from_due_date\": 22, \"Credit_Score\": \"Standard\"}, {\"Num_of_Delayed_Payment\": 20, \"Delay_from_due_date\": 21, \"Credit_Score\": \"Standard\"}, {\"Num_of_Delayed_Payment\": 19, \"Delay_from_due_date\": 22, \"Credit_Score\": \"Standard\"}, {\"Num_of_Delayed_Payment\": 16, \"Delay_from_due_date\": 42, \"Credit_Score\": \"Standard\"}, {\"Num_of_Delayed_Payment\": 11, \"Delay_from_due_date\": 29, \"Credit_Score\": \"Standard\"}, {\"Num_of_Delayed_Payment\": 16, \"Delay_from_due_date\": 25, \"Credit_Score\": \"Standard\"}, {\"Num_of_Delayed_Payment\": 16, \"Delay_from_due_date\": 10, \"Credit_Score\": \"Standard\"}, {\"Num_of_Delayed_Payment\": 11, \"Delay_from_due_date\": 22, \"Credit_Score\": \"Standard\"}, {\"Num_of_Delayed_Payment\": 14, \"Delay_from_due_date\": 10, \"Credit_Score\": \"Standard\"}, {\"Num_of_Delayed_Payment\": 18, \"Delay_from_due_date\": 22, \"Credit_Score\": \"Poor\"}, {\"Num_of_Delayed_Payment\": 17, \"Delay_from_due_date\": 12, \"Credit_Score\": \"Standard\"}, {\"Num_of_Delayed_Payment\": 11, \"Delay_from_due_date\": 14, \"Credit_Score\": \"Standard\"}, {\"Num_of_Delayed_Payment\": 17, \"Delay_from_due_date\": 12, \"Credit_Score\": \"Standard\"}, {\"Num_of_Delayed_Payment\": 8, \"Delay_from_due_date\": 29, \"Credit_Score\": \"Standard\"}, {\"Num_of_Delayed_Payment\": 10, \"Delay_from_due_date\": 26, \"Credit_Score\": \"Standard\"}, {\"Num_of_Delayed_Payment\": 8, \"Delay_from_due_date\": 14, \"Credit_Score\": \"Good\"}, {\"Num_of_Delayed_Payment\": 14, \"Delay_from_due_date\": 26, \"Credit_Score\": \"Good\"}, {\"Num_of_Delayed_Payment\": 8, \"Delay_from_due_date\": 7, \"Credit_Score\": \"Standard\"}, {\"Num_of_Delayed_Payment\": 17, \"Delay_from_due_date\": 49, \"Credit_Score\": \"Poor\"}, {\"Num_of_Delayed_Payment\": 25, \"Delay_from_due_date\": 51, \"Credit_Score\": \"Poor\"}, {\"Num_of_Delayed_Payment\": 7, \"Delay_from_due_date\": 4, \"Credit_Score\": \"Good\"}, {\"Num_of_Delayed_Payment\": 11, \"Delay_from_due_date\": 26, \"Credit_Score\": \"Standard\"}, {\"Num_of_Delayed_Payment\": 12, \"Delay_from_due_date\": 3, \"Credit_Score\": \"Good\"}, {\"Num_of_Delayed_Payment\": 22, \"Delay_from_due_date\": 19, \"Credit_Score\": \"Standard\"}, {\"Num_of_Delayed_Payment\": 17, \"Delay_from_due_date\": 11, \"Credit_Score\": \"Standard\"}, {\"Num_of_Delayed_Payment\": 2, \"Delay_from_due_date\": 4, \"Credit_Score\": \"Standard\"}, {\"Num_of_Delayed_Payment\": 5, \"Delay_from_due_date\": 8, \"Credit_Score\": \"Good\"}, {\"Num_of_Delayed_Payment\": 2, \"Delay_from_due_date\": 12, \"Credit_Score\": \"Good\"}, {\"Num_of_Delayed_Payment\": 4, \"Delay_from_due_date\": 10, \"Credit_Score\": \"Standard\"}, {\"Num_of_Delayed_Payment\": 12, \"Delay_from_due_date\": 6, \"Credit_Score\": \"Poor\"}, {\"Num_of_Delayed_Payment\": 10, \"Delay_from_due_date\": 9, \"Credit_Score\": \"Standard\"}, {\"Num_of_Delayed_Payment\": 15, \"Delay_from_due_date\": 10, \"Credit_Score\": \"Standard\"}, {\"Num_of_Delayed_Payment\": 7, \"Delay_from_due_date\": 25, \"Credit_Score\": \"Poor\"}, {\"Num_of_Delayed_Payment\": 15, \"Delay_from_due_date\": 28, \"Credit_Score\": \"Standard\"}, {\"Num_of_Delayed_Payment\": 3, \"Delay_from_due_date\": 3, \"Credit_Score\": \"Good\"}, {\"Num_of_Delayed_Payment\": 25, \"Delay_from_due_date\": 41, \"Credit_Score\": \"Standard\"}, {\"Num_of_Delayed_Payment\": 17, \"Delay_from_due_date\": 43, \"Credit_Score\": \"Poor\"}, {\"Num_of_Delayed_Payment\": 18, \"Delay_from_due_date\": 15, \"Credit_Score\": \"Good\"}, {\"Num_of_Delayed_Payment\": 18, \"Delay_from_due_date\": 14, \"Credit_Score\": \"Poor\"}, {\"Num_of_Delayed_Payment\": 20, \"Delay_from_due_date\": 6, \"Credit_Score\": \"Standard\"}, {\"Num_of_Delayed_Payment\": 18, \"Delay_from_due_date\": 33, \"Credit_Score\": \"Poor\"}, {\"Num_of_Delayed_Payment\": 18, \"Delay_from_due_date\": 15, \"Credit_Score\": \"Poor\"}, {\"Num_of_Delayed_Payment\": 12, \"Delay_from_due_date\": 4, \"Credit_Score\": \"Good\"}, {\"Num_of_Delayed_Payment\": 22, \"Delay_from_due_date\": 41, \"Credit_Score\": \"Good\"}, {\"Num_of_Delayed_Payment\": 21, \"Delay_from_due_date\": 50, \"Credit_Score\": \"Standard\"}, {\"Num_of_Delayed_Payment\": 18, \"Delay_from_due_date\": 19, \"Credit_Score\": \"Good\"}, {\"Num_of_Delayed_Payment\": 14, \"Delay_from_due_date\": 27, \"Credit_Score\": \"Standard\"}, {\"Num_of_Delayed_Payment\": 11, \"Delay_from_due_date\": 28, \"Credit_Score\": \"Standard\"}, {\"Num_of_Delayed_Payment\": 22, \"Delay_from_due_date\": 42, \"Credit_Score\": \"Poor\"}, {\"Num_of_Delayed_Payment\": 19, \"Delay_from_due_date\": 30, \"Credit_Score\": \"Standard\"}, {\"Num_of_Delayed_Payment\": 14, \"Delay_from_due_date\": 20, \"Credit_Score\": \"Poor\"}, {\"Num_of_Delayed_Payment\": 25, \"Delay_from_due_date\": 21, \"Credit_Score\": \"Standard\"}, {\"Num_of_Delayed_Payment\": 5, \"Delay_from_due_date\": 28, \"Credit_Score\": \"Good\"}, {\"Num_of_Delayed_Payment\": 9, \"Delay_from_due_date\": 35, \"Credit_Score\": \"Poor\"}, {\"Num_of_Delayed_Payment\": 19, \"Delay_from_due_date\": 5, \"Credit_Score\": \"Standard\"}, {\"Num_of_Delayed_Payment\": 6, \"Delay_from_due_date\": 12, \"Credit_Score\": \"Good\"}, {\"Num_of_Delayed_Payment\": 24, \"Delay_from_due_date\": 26, \"Credit_Score\": \"Poor\"}, {\"Num_of_Delayed_Payment\": 18, \"Delay_from_due_date\": 9, \"Credit_Score\": \"Standard\"}, {\"Num_of_Delayed_Payment\": 18, \"Delay_from_due_date\": 24, \"Credit_Score\": \"Standard\"}, {\"Num_of_Delayed_Payment\": 11, \"Delay_from_due_date\": 15, \"Credit_Score\": \"Standard\"}, {\"Num_of_Delayed_Payment\": 4, \"Delay_from_due_date\": 8, \"Credit_Score\": \"Good\"}, {\"Num_of_Delayed_Payment\": 0, \"Delay_from_due_date\": 6, \"Credit_Score\": \"Poor\"}, {\"Num_of_Delayed_Payment\": 19, \"Delay_from_due_date\": 19, \"Credit_Score\": \"Poor\"}, {\"Num_of_Delayed_Payment\": 11, \"Delay_from_due_date\": 24, \"Credit_Score\": \"Standard\"}, {\"Num_of_Delayed_Payment\": 20, \"Delay_from_due_date\": 30, \"Credit_Score\": \"Poor\"}, {\"Num_of_Delayed_Payment\": 15, \"Delay_from_due_date\": 19, \"Credit_Score\": \"Standard\"}, {\"Num_of_Delayed_Payment\": 10, \"Delay_from_due_date\": 7, \"Credit_Score\": \"Poor\"}, {\"Num_of_Delayed_Payment\": 9, \"Delay_from_due_date\": 6, \"Credit_Score\": \"Good\"}, {\"Num_of_Delayed_Payment\": 12, \"Delay_from_due_date\": 19, \"Credit_Score\": \"Poor\"}, {\"Num_of_Delayed_Payment\": 19, \"Delay_from_due_date\": 14, \"Credit_Score\": \"Standard\"}, {\"Num_of_Delayed_Payment\": 11, \"Delay_from_due_date\": 49, \"Credit_Score\": \"Standard\"}, {\"Num_of_Delayed_Payment\": 20, \"Delay_from_due_date\": 41, \"Credit_Score\": \"Poor\"}, {\"Num_of_Delayed_Payment\": 10, \"Delay_from_due_date\": 25, \"Credit_Score\": \"Poor\"}, {\"Num_of_Delayed_Payment\": 21, \"Delay_from_due_date\": 24, \"Credit_Score\": \"Poor\"}, {\"Num_of_Delayed_Payment\": 18, \"Delay_from_due_date\": 46, \"Credit_Score\": \"Poor\"}, {\"Num_of_Delayed_Payment\": 1, \"Delay_from_due_date\": 8, \"Credit_Score\": \"Standard\"}, {\"Num_of_Delayed_Payment\": 14, \"Delay_from_due_date\": 13, \"Credit_Score\": \"Standard\"}, {\"Num_of_Delayed_Payment\": 11, \"Delay_from_due_date\": 7, \"Credit_Score\": \"Standard\"}, {\"Num_of_Delayed_Payment\": 12, \"Delay_from_due_date\": 11, \"Credit_Score\": \"Poor\"}, {\"Num_of_Delayed_Payment\": 18, \"Delay_from_due_date\": 27, \"Credit_Score\": \"Poor\"}, {\"Num_of_Delayed_Payment\": 10, \"Delay_from_due_date\": 1, \"Credit_Score\": \"Good\"}, {\"Num_of_Delayed_Payment\": 16, \"Delay_from_due_date\": 38, \"Credit_Score\": \"Standard\"}, {\"Num_of_Delayed_Payment\": 12, \"Delay_from_due_date\": 13, \"Credit_Score\": \"Standard\"}, {\"Num_of_Delayed_Payment\": 16, \"Delay_from_due_date\": 21, \"Credit_Score\": \"Standard\"}, {\"Num_of_Delayed_Payment\": 16, \"Delay_from_due_date\": 11, \"Credit_Score\": \"Standard\"}, {\"Num_of_Delayed_Payment\": 20, \"Delay_from_due_date\": 18, \"Credit_Score\": \"Standard\"}, {\"Num_of_Delayed_Payment\": 17, \"Delay_from_due_date\": 12, \"Credit_Score\": \"Standard\"}, {\"Num_of_Delayed_Payment\": 17, \"Delay_from_due_date\": 11, \"Credit_Score\": \"Poor\"}, {\"Num_of_Delayed_Payment\": 6, \"Delay_from_due_date\": 15, \"Credit_Score\": \"Standard\"}, {\"Num_of_Delayed_Payment\": 12, \"Delay_from_due_date\": 4, \"Credit_Score\": \"Standard\"}, {\"Num_of_Delayed_Payment\": 3, \"Delay_from_due_date\": 30, \"Credit_Score\": \"Poor\"}, {\"Num_of_Delayed_Payment\": 19, \"Delay_from_due_date\": 40, \"Credit_Score\": \"Good\"}, {\"Num_of_Delayed_Payment\": 11, \"Delay_from_due_date\": 19, \"Credit_Score\": \"Poor\"}, {\"Num_of_Delayed_Payment\": 3, \"Delay_from_due_date\": -3, \"Credit_Score\": \"Poor\"}, {\"Num_of_Delayed_Payment\": 18, \"Delay_from_due_date\": 18, \"Credit_Score\": \"Poor\"}, {\"Num_of_Delayed_Payment\": 22, \"Delay_from_due_date\": 24, \"Credit_Score\": \"Standard\"}, {\"Num_of_Delayed_Payment\": 11, \"Delay_from_due_date\": 18, \"Credit_Score\": \"Standard\"}, {\"Num_of_Delayed_Payment\": 13, \"Delay_from_due_date\": 31, \"Credit_Score\": \"Poor\"}, {\"Num_of_Delayed_Payment\": 10, \"Delay_from_due_date\": 24, \"Credit_Score\": \"Good\"}, {\"Num_of_Delayed_Payment\": 19, \"Delay_from_due_date\": 23, \"Credit_Score\": \"Standard\"}, {\"Num_of_Delayed_Payment\": 12, \"Delay_from_due_date\": 2, \"Credit_Score\": \"Good\"}, {\"Num_of_Delayed_Payment\": 8, \"Delay_from_due_date\": 24, \"Credit_Score\": \"Standard\"}, {\"Num_of_Delayed_Payment\": 14, \"Delay_from_due_date\": 23, \"Credit_Score\": \"Standard\"}, {\"Num_of_Delayed_Payment\": 17, \"Delay_from_due_date\": 9, \"Credit_Score\": \"Good\"}, {\"Num_of_Delayed_Payment\": 9, \"Delay_from_due_date\": 23, \"Credit_Score\": \"Standard\"}, {\"Num_of_Delayed_Payment\": 11, \"Delay_from_due_date\": 14, \"Credit_Score\": \"Good\"}, {\"Num_of_Delayed_Payment\": 11, \"Delay_from_due_date\": 8, \"Credit_Score\": \"Standard\"}, {\"Num_of_Delayed_Payment\": 16, \"Delay_from_due_date\": 21, \"Credit_Score\": \"Standard\"}, {\"Num_of_Delayed_Payment\": 11, \"Delay_from_due_date\": 8, \"Credit_Score\": \"Standard\"}, {\"Num_of_Delayed_Payment\": 20, \"Delay_from_due_date\": 15, \"Credit_Score\": \"Poor\"}, {\"Num_of_Delayed_Payment\": 17, \"Delay_from_due_date\": 12, \"Credit_Score\": \"Standard\"}, {\"Num_of_Delayed_Payment\": 11, \"Delay_from_due_date\": 7, \"Credit_Score\": \"Standard\"}, {\"Num_of_Delayed_Payment\": 17, \"Delay_from_due_date\": 50, \"Credit_Score\": \"Poor\"}, {\"Num_of_Delayed_Payment\": 15, \"Delay_from_due_date\": 37, \"Credit_Score\": \"Standard\"}, {\"Num_of_Delayed_Payment\": 11, \"Delay_from_due_date\": 14, \"Credit_Score\": \"Poor\"}, {\"Num_of_Delayed_Payment\": 15, \"Delay_from_due_date\": 36, \"Credit_Score\": \"Poor\"}, {\"Num_of_Delayed_Payment\": 16, \"Delay_from_due_date\": 5, \"Credit_Score\": \"Poor\"}, {\"Num_of_Delayed_Payment\": 14, \"Delay_from_due_date\": 32, \"Credit_Score\": \"Standard\"}, {\"Num_of_Delayed_Payment\": 16, \"Delay_from_due_date\": 26, \"Credit_Score\": \"Standard\"}, {\"Num_of_Delayed_Payment\": 11, \"Delay_from_due_date\": 24, \"Credit_Score\": \"Poor\"}, {\"Num_of_Delayed_Payment\": 19, \"Delay_from_due_date\": 27, \"Credit_Score\": \"Standard\"}, {\"Num_of_Delayed_Payment\": 12, \"Delay_from_due_date\": 23, \"Credit_Score\": \"Standard\"}, {\"Num_of_Delayed_Payment\": 5, \"Delay_from_due_date\": 9, \"Credit_Score\": \"Standard\"}, {\"Num_of_Delayed_Payment\": 20, \"Delay_from_due_date\": 14, \"Credit_Score\": \"Standard\"}, {\"Num_of_Delayed_Payment\": 25, \"Delay_from_due_date\": 42, \"Credit_Score\": \"Poor\"}, {\"Num_of_Delayed_Payment\": 19, \"Delay_from_due_date\": 48, \"Credit_Score\": \"Poor\"}, {\"Num_of_Delayed_Payment\": 20, \"Delay_from_due_date\": 41, \"Credit_Score\": \"Poor\"}, {\"Num_of_Delayed_Payment\": 16, \"Delay_from_due_date\": 6, \"Credit_Score\": \"Standard\"}, {\"Num_of_Delayed_Payment\": 8, \"Delay_from_due_date\": 2, \"Credit_Score\": \"Standard\"}, {\"Num_of_Delayed_Payment\": 12, \"Delay_from_due_date\": 15, \"Credit_Score\": \"Good\"}, {\"Num_of_Delayed_Payment\": 20, \"Delay_from_due_date\": 37, \"Credit_Score\": \"Poor\"}, {\"Num_of_Delayed_Payment\": 1, \"Delay_from_due_date\": 0, \"Credit_Score\": \"Good\"}, {\"Num_of_Delayed_Payment\": 19, \"Delay_from_due_date\": 5, \"Credit_Score\": \"Poor\"}, {\"Num_of_Delayed_Payment\": 14, \"Delay_from_due_date\": 3, \"Credit_Score\": \"Good\"}, {\"Num_of_Delayed_Payment\": 16, \"Delay_from_due_date\": 38, \"Credit_Score\": \"Poor\"}, {\"Num_of_Delayed_Payment\": 12, \"Delay_from_due_date\": 5, \"Credit_Score\": \"Standard\"}, {\"Num_of_Delayed_Payment\": 13, \"Delay_from_due_date\": 22, \"Credit_Score\": \"Standard\"}, {\"Num_of_Delayed_Payment\": 10, \"Delay_from_due_date\": 20, \"Credit_Score\": \"Standard\"}, {\"Num_of_Delayed_Payment\": 19, \"Delay_from_due_date\": 27, \"Credit_Score\": \"Poor\"}, {\"Num_of_Delayed_Payment\": 20, \"Delay_from_due_date\": 40, \"Credit_Score\": \"Poor\"}, {\"Num_of_Delayed_Payment\": 9, \"Delay_from_due_date\": 27, \"Credit_Score\": \"Standard\"}, {\"Num_of_Delayed_Payment\": 14, \"Delay_from_due_date\": 25, \"Credit_Score\": \"Good\"}, {\"Num_of_Delayed_Payment\": 2, \"Delay_from_due_date\": 11, \"Credit_Score\": \"Poor\"}, {\"Num_of_Delayed_Payment\": 5, \"Delay_from_due_date\": 19, \"Credit_Score\": \"Standard\"}, {\"Num_of_Delayed_Payment\": 8, \"Delay_from_due_date\": 6, \"Credit_Score\": \"Poor\"}, {\"Num_of_Delayed_Payment\": 9, \"Delay_from_due_date\": 11, \"Credit_Score\": \"Good\"}, {\"Num_of_Delayed_Payment\": 15, \"Delay_from_due_date\": 10, \"Credit_Score\": \"Standard\"}, {\"Num_of_Delayed_Payment\": 10, \"Delay_from_due_date\": 8, \"Credit_Score\": \"Standard\"}, {\"Num_of_Delayed_Payment\": 13, \"Delay_from_due_date\": 16, \"Credit_Score\": \"Poor\"}, {\"Num_of_Delayed_Payment\": 20, \"Delay_from_due_date\": 10, \"Credit_Score\": \"Standard\"}, {\"Num_of_Delayed_Payment\": 12, \"Delay_from_due_date\": 33, \"Credit_Score\": \"Poor\"}, {\"Num_of_Delayed_Payment\": 7, \"Delay_from_due_date\": 7, \"Credit_Score\": \"Standard\"}, {\"Num_of_Delayed_Payment\": 17, \"Delay_from_due_date\": 12, \"Credit_Score\": \"Standard\"}, {\"Num_of_Delayed_Payment\": 13, \"Delay_from_due_date\": 9, \"Credit_Score\": \"Poor\"}, {\"Num_of_Delayed_Payment\": 18, \"Delay_from_due_date\": 17, \"Credit_Score\": \"Standard\"}, {\"Num_of_Delayed_Payment\": 15, \"Delay_from_due_date\": 16, \"Credit_Score\": \"Poor\"}, {\"Num_of_Delayed_Payment\": 23, \"Delay_from_due_date\": 23, \"Credit_Score\": \"Poor\"}, {\"Num_of_Delayed_Payment\": 10, \"Delay_from_due_date\": 29, \"Credit_Score\": \"Poor\"}, {\"Num_of_Delayed_Payment\": 8, \"Delay_from_due_date\": 22, \"Credit_Score\": \"Good\"}, {\"Num_of_Delayed_Payment\": 22, \"Delay_from_due_date\": 26, \"Credit_Score\": \"Poor\"}, {\"Num_of_Delayed_Payment\": 16, \"Delay_from_due_date\": 16, \"Credit_Score\": \"Standard\"}, {\"Num_of_Delayed_Payment\": 21, \"Delay_from_due_date\": 25, \"Credit_Score\": \"Poor\"}, {\"Num_of_Delayed_Payment\": 14, \"Delay_from_due_date\": 29, \"Credit_Score\": \"Standard\"}, {\"Num_of_Delayed_Payment\": 15, \"Delay_from_due_date\": 11, \"Credit_Score\": \"Standard\"}, {\"Num_of_Delayed_Payment\": 10, \"Delay_from_due_date\": 15, \"Credit_Score\": \"Poor\"}, {\"Num_of_Delayed_Payment\": 17, \"Delay_from_due_date\": 21, \"Credit_Score\": \"Standard\"}, {\"Num_of_Delayed_Payment\": 11, \"Delay_from_due_date\": 13, \"Credit_Score\": \"Standard\"}, {\"Num_of_Delayed_Payment\": 17, \"Delay_from_due_date\": 6, \"Credit_Score\": \"Standard\"}, {\"Num_of_Delayed_Payment\": 13, \"Delay_from_due_date\": 28, \"Credit_Score\": \"Standard\"}, {\"Num_of_Delayed_Payment\": 7, \"Delay_from_due_date\": 6, \"Credit_Score\": \"Standard\"}, {\"Num_of_Delayed_Payment\": 8, \"Delay_from_due_date\": 15, \"Credit_Score\": \"Standard\"}, {\"Num_of_Delayed_Payment\": 1, \"Delay_from_due_date\": 8, \"Credit_Score\": \"Good\"}, {\"Num_of_Delayed_Payment\": 13, \"Delay_from_due_date\": 23, \"Credit_Score\": \"Poor\"}, {\"Num_of_Delayed_Payment\": 5, \"Delay_from_due_date\": 5, \"Credit_Score\": \"Good\"}, {\"Num_of_Delayed_Payment\": 19, \"Delay_from_due_date\": 30, \"Credit_Score\": \"Poor\"}, {\"Num_of_Delayed_Payment\": 23, \"Delay_from_due_date\": 30, \"Credit_Score\": \"Standard\"}, {\"Num_of_Delayed_Payment\": 2, \"Delay_from_due_date\": 9, \"Credit_Score\": \"Standard\"}, {\"Num_of_Delayed_Payment\": 9, \"Delay_from_due_date\": 8, \"Credit_Score\": \"Good\"}, {\"Num_of_Delayed_Payment\": 9, \"Delay_from_due_date\": 5, \"Credit_Score\": \"Standard\"}, {\"Num_of_Delayed_Payment\": 14, \"Delay_from_due_date\": 29, \"Credit_Score\": \"Poor\"}, {\"Num_of_Delayed_Payment\": 19, \"Delay_from_due_date\": 11, \"Credit_Score\": \"Standard\"}, {\"Num_of_Delayed_Payment\": 11, \"Delay_from_due_date\": 12, \"Credit_Score\": \"Standard\"}, {\"Num_of_Delayed_Payment\": 8, \"Delay_from_due_date\": 5, \"Credit_Score\": \"Standard\"}, {\"Num_of_Delayed_Payment\": 2, \"Delay_from_due_date\": 14, \"Credit_Score\": \"Standard\"}, {\"Num_of_Delayed_Payment\": 13, \"Delay_from_due_date\": 20, \"Credit_Score\": \"Standard\"}, {\"Num_of_Delayed_Payment\": 19, \"Delay_from_due_date\": 13, \"Credit_Score\": \"Standard\"}, {\"Num_of_Delayed_Payment\": 19, \"Delay_from_due_date\": 23, \"Credit_Score\": \"Standard\"}, {\"Num_of_Delayed_Payment\": 8, \"Delay_from_due_date\": 42, \"Credit_Score\": \"Poor\"}, {\"Num_of_Delayed_Payment\": 23, \"Delay_from_due_date\": 22, \"Credit_Score\": \"Poor\"}, {\"Num_of_Delayed_Payment\": 1, \"Delay_from_due_date\": 21, \"Credit_Score\": \"Poor\"}, {\"Num_of_Delayed_Payment\": 0, \"Delay_from_due_date\": 5, \"Credit_Score\": \"Good\"}, {\"Num_of_Delayed_Payment\": 12, \"Delay_from_due_date\": 11, \"Credit_Score\": \"Standard\"}, {\"Num_of_Delayed_Payment\": 6, \"Delay_from_due_date\": 9, \"Credit_Score\": \"Good\"}, {\"Num_of_Delayed_Payment\": 9, \"Delay_from_due_date\": 25, \"Credit_Score\": \"Good\"}, {\"Num_of_Delayed_Payment\": 10, \"Delay_from_due_date\": 11, \"Credit_Score\": \"Good\"}, {\"Num_of_Delayed_Payment\": 9, \"Delay_from_due_date\": 15, \"Credit_Score\": \"Poor\"}, {\"Num_of_Delayed_Payment\": 12, \"Delay_from_due_date\": 6, \"Credit_Score\": \"Standard\"}, {\"Num_of_Delayed_Payment\": 9, \"Delay_from_due_date\": 11, \"Credit_Score\": \"Standard\"}, {\"Num_of_Delayed_Payment\": 1, \"Delay_from_due_date\": 15, \"Credit_Score\": \"Standard\"}, {\"Num_of_Delayed_Payment\": 18, \"Delay_from_due_date\": 27, \"Credit_Score\": \"Poor\"}, {\"Num_of_Delayed_Payment\": 23, \"Delay_from_due_date\": 24, \"Credit_Score\": \"Standard\"}, {\"Num_of_Delayed_Payment\": 21, \"Delay_from_due_date\": 31, \"Credit_Score\": \"Standard\"}, {\"Num_of_Delayed_Payment\": 10, \"Delay_from_due_date\": 14, \"Credit_Score\": \"Good\"}, {\"Num_of_Delayed_Payment\": 13, \"Delay_from_due_date\": 30, \"Credit_Score\": \"Standard\"}, {\"Num_of_Delayed_Payment\": 5, \"Delay_from_due_date\": 0, \"Credit_Score\": \"Good\"}, {\"Num_of_Delayed_Payment\": 3, \"Delay_from_due_date\": 4, \"Credit_Score\": \"Good\"}, {\"Num_of_Delayed_Payment\": 13, \"Delay_from_due_date\": 8, \"Credit_Score\": \"Standard\"}, {\"Num_of_Delayed_Payment\": 14, \"Delay_from_due_date\": 20, \"Credit_Score\": \"Standard\"}, {\"Num_of_Delayed_Payment\": 17, \"Delay_from_due_date\": 13, \"Credit_Score\": \"Standard\"}, {\"Num_of_Delayed_Payment\": 19, \"Delay_from_due_date\": 48, \"Credit_Score\": \"Poor\"}, {\"Num_of_Delayed_Payment\": 20, \"Delay_from_due_date\": 14, \"Credit_Score\": \"Poor\"}, {\"Num_of_Delayed_Payment\": 10, \"Delay_from_due_date\": 26, \"Credit_Score\": \"Standard\"}, {\"Num_of_Delayed_Payment\": 18, \"Delay_from_due_date\": 6, \"Credit_Score\": \"Standard\"}, {\"Num_of_Delayed_Payment\": 22, \"Delay_from_due_date\": 23, \"Credit_Score\": \"Standard\"}, {\"Num_of_Delayed_Payment\": 15, \"Delay_from_due_date\": 26, \"Credit_Score\": \"Standard\"}, {\"Num_of_Delayed_Payment\": 19, \"Delay_from_due_date\": 5, \"Credit_Score\": \"Standard\"}, {\"Num_of_Delayed_Payment\": 4, \"Delay_from_due_date\": 3, \"Credit_Score\": \"Standard\"}, {\"Num_of_Delayed_Payment\": 17, \"Delay_from_due_date\": 4, \"Credit_Score\": \"Standard\"}, {\"Num_of_Delayed_Payment\": 11, \"Delay_from_due_date\": 10, \"Credit_Score\": \"Standard\"}, {\"Num_of_Delayed_Payment\": 22, \"Delay_from_due_date\": 12, \"Credit_Score\": \"Standard\"}, {\"Num_of_Delayed_Payment\": 18, \"Delay_from_due_date\": 25, \"Credit_Score\": \"Good\"}, {\"Num_of_Delayed_Payment\": 12, \"Delay_from_due_date\": 27, \"Credit_Score\": \"Standard\"}, {\"Num_of_Delayed_Payment\": 12, \"Delay_from_due_date\": 31, \"Credit_Score\": \"Standard\"}, {\"Num_of_Delayed_Payment\": 9, \"Delay_from_due_date\": 17, \"Credit_Score\": \"Good\"}, {\"Num_of_Delayed_Payment\": 11, \"Delay_from_due_date\": 14, \"Credit_Score\": \"Poor\"}, {\"Num_of_Delayed_Payment\": 16, \"Delay_from_due_date\": 24, \"Credit_Score\": \"Standard\"}, {\"Num_of_Delayed_Payment\": 19, \"Delay_from_due_date\": 13, \"Credit_Score\": \"Standard\"}, {\"Num_of_Delayed_Payment\": 18, \"Delay_from_due_date\": 20, \"Credit_Score\": \"Standard\"}, {\"Num_of_Delayed_Payment\": 18, \"Delay_from_due_date\": 10, \"Credit_Score\": \"Standard\"}, {\"Num_of_Delayed_Payment\": 13, \"Delay_from_due_date\": 29, \"Credit_Score\": \"Standard\"}, {\"Num_of_Delayed_Payment\": 19, \"Delay_from_due_date\": 9, \"Credit_Score\": \"Standard\"}, {\"Num_of_Delayed_Payment\": 19, \"Delay_from_due_date\": 8, \"Credit_Score\": \"Standard\"}, {\"Num_of_Delayed_Payment\": 22, \"Delay_from_due_date\": 24, \"Credit_Score\": \"Poor\"}, {\"Num_of_Delayed_Payment\": 12, \"Delay_from_due_date\": 19, \"Credit_Score\": \"Good\"}, {\"Num_of_Delayed_Payment\": 19, \"Delay_from_due_date\": 28, \"Credit_Score\": \"Standard\"}, {\"Num_of_Delayed_Payment\": 23, \"Delay_from_due_date\": 21, \"Credit_Score\": \"Standard\"}, {\"Num_of_Delayed_Payment\": 19, \"Delay_from_due_date\": 8, \"Credit_Score\": \"Good\"}, {\"Num_of_Delayed_Payment\": 18, \"Delay_from_due_date\": 19, \"Credit_Score\": \"Good\"}, {\"Num_of_Delayed_Payment\": 5, \"Delay_from_due_date\": 3, \"Credit_Score\": \"Good\"}, {\"Num_of_Delayed_Payment\": 19, \"Delay_from_due_date\": 14, \"Credit_Score\": \"Standard\"}, {\"Num_of_Delayed_Payment\": 11, \"Delay_from_due_date\": 10, \"Credit_Score\": \"Poor\"}, {\"Num_of_Delayed_Payment\": 22, \"Delay_from_due_date\": 42, \"Credit_Score\": \"Poor\"}]}}, {\"mode\": \"vega-lite\"});\n",
       "</script>"
      ],
      "text/plain": [
       "alt.RepeatChart(...)"
      ]
     },
     "execution_count": 38,
     "metadata": {},
     "output_type": "execute_result"
    }
   ],
   "source": [
    "# initializing list of predictors\n",
    "predictors = [\"Delay_from_due_date\", \"Num_of_Delayed_Payment\"]\n",
    "\n",
    "# visualizing training data\n",
    "\n",
    "# removing outliers - just for the visualization\n",
    "def remove_outliers(column):\n",
    "    Q1 = column.quantile(0.25)\n",
    "    Q3 = column.quantile(0.75)\n",
    "    IQR = Q3 - Q1\n",
    "    return (column >= Q1 - 1.5 * IQR) & (column <= Q3 + 1.5 * IQR)\n",
    "\n",
    "# Apply outlier removal to each column\n",
    "for col in predictors:\n",
    "    train = train[remove_outliers(train[col])]\n",
    "\n",
    "train_pairplot = alt.Chart(train).mark_point(opacity=0.4).encode(\n",
    "    alt.X(alt.repeat(\"row\"), type=\"quantitative\"),\n",
    "    alt.Y(alt.repeat(\"column\"), type=\"quantitative\"),\n",
    "    color = alt.Color(\"Credit_Score\").title(\"Credit_Score\")\n",
    ").properties(\n",
    "    width=200,\n",
    "    height=200\n",
    ").repeat(\n",
    "    column=predictors,\n",
    "    row=predictors\n",
    ")\n",
    "\n",
    "train_pairplot"
   ]
  },
  {
   "cell_type": "markdown",
   "metadata": {},
   "source": [
    "Delay from due date vs"
   ]
  },
  {
   "cell_type": "markdown",
   "metadata": {},
   "source": [
    "### Methods\n",
    "\n",
    "We plan to conduct our data analysis using the K Nearest Neighbors Classification algrorithm. We'll choose the best value of k using cross-validation and then use the following predictors to predict whether someone's Credit Score is Good, Standard or Poor.\n",
    "\n",
    "Predictors:\n",
    "\n",
    "- number of delayed payments \n",
    "- delay from due date \n",
    "- Credit_Utilization_Ratio\n",
    "- credit history age\n",
    "\n",
    "\n",
    "**Describing our visualizations**\n",
    "We will plot histograms to visualize the distributions of our predictors. This will help us explore the relation between predicted credit score and the factors that may impact the credit score more than others like income, missed payments, credit utilization ratios.\n"
   ]
  },
  {
   "cell_type": "code",
   "execution_count": null,
   "metadata": {
    "tags": []
   },
   "outputs": [],
   "source": [
    "# training_labels = subset_train[\"Credit_Score\"]\n",
    "# training_labels"
   ]
  },
  {
   "cell_type": "code",
   "execution_count": null,
   "metadata": {
    "tags": []
   },
   "outputs": [
    {
     "data": {
      "text/html": [
       "<style>#sk-container-id-5 {color: black;background-color: white;}#sk-container-id-5 pre{padding: 0;}#sk-container-id-5 div.sk-toggleable {background-color: white;}#sk-container-id-5 label.sk-toggleable__label {cursor: pointer;display: block;width: 100%;margin-bottom: 0;padding: 0.3em;box-sizing: border-box;text-align: center;}#sk-container-id-5 label.sk-toggleable__label-arrow:before {content: \"▸\";float: left;margin-right: 0.25em;color: #696969;}#sk-container-id-5 label.sk-toggleable__label-arrow:hover:before {color: black;}#sk-container-id-5 div.sk-estimator:hover label.sk-toggleable__label-arrow:before {color: black;}#sk-container-id-5 div.sk-toggleable__content {max-height: 0;max-width: 0;overflow: hidden;text-align: left;background-color: #f0f8ff;}#sk-container-id-5 div.sk-toggleable__content pre {margin: 0.2em;color: black;border-radius: 0.25em;background-color: #f0f8ff;}#sk-container-id-5 input.sk-toggleable__control:checked~div.sk-toggleable__content {max-height: 200px;max-width: 100%;overflow: auto;}#sk-container-id-5 input.sk-toggleable__control:checked~label.sk-toggleable__label-arrow:before {content: \"▾\";}#sk-container-id-5 div.sk-estimator input.sk-toggleable__control:checked~label.sk-toggleable__label {background-color: #d4ebff;}#sk-container-id-5 div.sk-label input.sk-toggleable__control:checked~label.sk-toggleable__label {background-color: #d4ebff;}#sk-container-id-5 input.sk-hidden--visually {border: 0;clip: rect(1px 1px 1px 1px);clip: rect(1px, 1px, 1px, 1px);height: 1px;margin: -1px;overflow: hidden;padding: 0;position: absolute;width: 1px;}#sk-container-id-5 div.sk-estimator {font-family: monospace;background-color: #f0f8ff;border: 1px dotted black;border-radius: 0.25em;box-sizing: border-box;margin-bottom: 0.5em;}#sk-container-id-5 div.sk-estimator:hover {background-color: #d4ebff;}#sk-container-id-5 div.sk-parallel-item::after {content: \"\";width: 100%;border-bottom: 1px solid gray;flex-grow: 1;}#sk-container-id-5 div.sk-label:hover label.sk-toggleable__label {background-color: #d4ebff;}#sk-container-id-5 div.sk-serial::before {content: \"\";position: absolute;border-left: 1px solid gray;box-sizing: border-box;top: 0;bottom: 0;left: 50%;z-index: 0;}#sk-container-id-5 div.sk-serial {display: flex;flex-direction: column;align-items: center;background-color: white;padding-right: 0.2em;padding-left: 0.2em;position: relative;}#sk-container-id-5 div.sk-item {position: relative;z-index: 1;}#sk-container-id-5 div.sk-parallel {display: flex;align-items: stretch;justify-content: center;background-color: white;position: relative;}#sk-container-id-5 div.sk-item::before, #sk-container-id-5 div.sk-parallel-item::before {content: \"\";position: absolute;border-left: 1px solid gray;box-sizing: border-box;top: 0;bottom: 0;left: 50%;z-index: -1;}#sk-container-id-5 div.sk-parallel-item {display: flex;flex-direction: column;z-index: 1;position: relative;background-color: white;}#sk-container-id-5 div.sk-parallel-item:first-child::after {align-self: flex-end;width: 50%;}#sk-container-id-5 div.sk-parallel-item:last-child::after {align-self: flex-start;width: 50%;}#sk-container-id-5 div.sk-parallel-item:only-child::after {width: 0;}#sk-container-id-5 div.sk-dashed-wrapped {border: 1px dashed gray;margin: 0 0.4em 0.5em 0.4em;box-sizing: border-box;padding-bottom: 0.4em;background-color: white;}#sk-container-id-5 div.sk-label label {font-family: monospace;font-weight: bold;display: inline-block;line-height: 1.2em;}#sk-container-id-5 div.sk-label-container {text-align: center;}#sk-container-id-5 div.sk-container {/* jupyter's `normalize.less` sets `[hidden] { display: none; }` but bootstrap.min.css set `[hidden] { display: none !important; }` so we also need the `!important` here to be able to override the default hidden behavior on the sphinx rendered scikit-learn.org. See: https://github.com/scikit-learn/scikit-learn/issues/21755 */display: inline-block !important;position: relative;}#sk-container-id-5 div.sk-text-repr-fallback {display: none;}</style><div id=\"sk-container-id-5\" class=\"sk-top-container\"><div class=\"sk-text-repr-fallback\"><pre>KNeighborsClassifier(n_neighbors=57)</pre><b>In a Jupyter environment, please rerun this cell to show the HTML representation or trust the notebook. <br />On GitHub, the HTML representation is unable to render, please try loading this page with nbviewer.org.</b></div><div class=\"sk-container\" hidden><div class=\"sk-item\"><div class=\"sk-estimator sk-toggleable\"><input class=\"sk-toggleable__control sk-hidden--visually\" id=\"sk-estimator-id-22\" type=\"checkbox\" checked><label for=\"sk-estimator-id-22\" class=\"sk-toggleable__label sk-toggleable__label-arrow\">KNeighborsClassifier</label><div class=\"sk-toggleable__content\"><pre>KNeighborsClassifier(n_neighbors=57)</pre></div></div></div></div></div>"
      ],
      "text/plain": [
       "KNeighborsClassifier(n_neighbors=57)"
      ]
     },
     "execution_count": 39,
     "metadata": {},
     "output_type": "execute_result"
    }
   ],
   "source": [
    "knn = KNeighborsClassifier(n_neighbors=57)\n",
    "knn"
   ]
  },
  {
   "cell_type": "code",
   "execution_count": null,
   "metadata": {
    "tags": []
   },
   "outputs": [
    {
     "data": {
      "text/html": [
       "<style>#sk-container-id-6 {color: black;background-color: white;}#sk-container-id-6 pre{padding: 0;}#sk-container-id-6 div.sk-toggleable {background-color: white;}#sk-container-id-6 label.sk-toggleable__label {cursor: pointer;display: block;width: 100%;margin-bottom: 0;padding: 0.3em;box-sizing: border-box;text-align: center;}#sk-container-id-6 label.sk-toggleable__label-arrow:before {content: \"▸\";float: left;margin-right: 0.25em;color: #696969;}#sk-container-id-6 label.sk-toggleable__label-arrow:hover:before {color: black;}#sk-container-id-6 div.sk-estimator:hover label.sk-toggleable__label-arrow:before {color: black;}#sk-container-id-6 div.sk-toggleable__content {max-height: 0;max-width: 0;overflow: hidden;text-align: left;background-color: #f0f8ff;}#sk-container-id-6 div.sk-toggleable__content pre {margin: 0.2em;color: black;border-radius: 0.25em;background-color: #f0f8ff;}#sk-container-id-6 input.sk-toggleable__control:checked~div.sk-toggleable__content {max-height: 200px;max-width: 100%;overflow: auto;}#sk-container-id-6 input.sk-toggleable__control:checked~label.sk-toggleable__label-arrow:before {content: \"▾\";}#sk-container-id-6 div.sk-estimator input.sk-toggleable__control:checked~label.sk-toggleable__label {background-color: #d4ebff;}#sk-container-id-6 div.sk-label input.sk-toggleable__control:checked~label.sk-toggleable__label {background-color: #d4ebff;}#sk-container-id-6 input.sk-hidden--visually {border: 0;clip: rect(1px 1px 1px 1px);clip: rect(1px, 1px, 1px, 1px);height: 1px;margin: -1px;overflow: hidden;padding: 0;position: absolute;width: 1px;}#sk-container-id-6 div.sk-estimator {font-family: monospace;background-color: #f0f8ff;border: 1px dotted black;border-radius: 0.25em;box-sizing: border-box;margin-bottom: 0.5em;}#sk-container-id-6 div.sk-estimator:hover {background-color: #d4ebff;}#sk-container-id-6 div.sk-parallel-item::after {content: \"\";width: 100%;border-bottom: 1px solid gray;flex-grow: 1;}#sk-container-id-6 div.sk-label:hover label.sk-toggleable__label {background-color: #d4ebff;}#sk-container-id-6 div.sk-serial::before {content: \"\";position: absolute;border-left: 1px solid gray;box-sizing: border-box;top: 0;bottom: 0;left: 50%;z-index: 0;}#sk-container-id-6 div.sk-serial {display: flex;flex-direction: column;align-items: center;background-color: white;padding-right: 0.2em;padding-left: 0.2em;position: relative;}#sk-container-id-6 div.sk-item {position: relative;z-index: 1;}#sk-container-id-6 div.sk-parallel {display: flex;align-items: stretch;justify-content: center;background-color: white;position: relative;}#sk-container-id-6 div.sk-item::before, #sk-container-id-6 div.sk-parallel-item::before {content: \"\";position: absolute;border-left: 1px solid gray;box-sizing: border-box;top: 0;bottom: 0;left: 50%;z-index: -1;}#sk-container-id-6 div.sk-parallel-item {display: flex;flex-direction: column;z-index: 1;position: relative;background-color: white;}#sk-container-id-6 div.sk-parallel-item:first-child::after {align-self: flex-end;width: 50%;}#sk-container-id-6 div.sk-parallel-item:last-child::after {align-self: flex-start;width: 50%;}#sk-container-id-6 div.sk-parallel-item:only-child::after {width: 0;}#sk-container-id-6 div.sk-dashed-wrapped {border: 1px dashed gray;margin: 0 0.4em 0.5em 0.4em;box-sizing: border-box;padding-bottom: 0.4em;background-color: white;}#sk-container-id-6 div.sk-label label {font-family: monospace;font-weight: bold;display: inline-block;line-height: 1.2em;}#sk-container-id-6 div.sk-label-container {text-align: center;}#sk-container-id-6 div.sk-container {/* jupyter's `normalize.less` sets `[hidden] { display: none; }` but bootstrap.min.css set `[hidden] { display: none !important; }` so we also need the `!important` here to be able to override the default hidden behavior on the sphinx rendered scikit-learn.org. See: https://github.com/scikit-learn/scikit-learn/issues/21755 */display: inline-block !important;position: relative;}#sk-container-id-6 div.sk-text-repr-fallback {display: none;}</style><div id=\"sk-container-id-6\" class=\"sk-top-container\"><div class=\"sk-text-repr-fallback\"><pre>ColumnTransformer(remainder=&#x27;passthrough&#x27;,\n",
       "                  transformers=[(&#x27;standardscaler&#x27;, StandardScaler(),\n",
       "                                 [&#x27;Delay_from_due_date&#x27;,\n",
       "                                  &#x27;Num_of_Delayed_Payment&#x27;])],\n",
       "                  verbose_feature_names_out=False)</pre><b>In a Jupyter environment, please rerun this cell to show the HTML representation or trust the notebook. <br />On GitHub, the HTML representation is unable to render, please try loading this page with nbviewer.org.</b></div><div class=\"sk-container\" hidden><div class=\"sk-item sk-dashed-wrapped\"><div class=\"sk-label-container\"><div class=\"sk-label sk-toggleable\"><input class=\"sk-toggleable__control sk-hidden--visually\" id=\"sk-estimator-id-23\" type=\"checkbox\" ><label for=\"sk-estimator-id-23\" class=\"sk-toggleable__label sk-toggleable__label-arrow\">ColumnTransformer</label><div class=\"sk-toggleable__content\"><pre>ColumnTransformer(remainder=&#x27;passthrough&#x27;,\n",
       "                  transformers=[(&#x27;standardscaler&#x27;, StandardScaler(),\n",
       "                                 [&#x27;Delay_from_due_date&#x27;,\n",
       "                                  &#x27;Num_of_Delayed_Payment&#x27;])],\n",
       "                  verbose_feature_names_out=False)</pre></div></div></div><div class=\"sk-parallel\"><div class=\"sk-parallel-item\"><div class=\"sk-item\"><div class=\"sk-label-container\"><div class=\"sk-label sk-toggleable\"><input class=\"sk-toggleable__control sk-hidden--visually\" id=\"sk-estimator-id-24\" type=\"checkbox\" ><label for=\"sk-estimator-id-24\" class=\"sk-toggleable__label sk-toggleable__label-arrow\">standardscaler</label><div class=\"sk-toggleable__content\"><pre>[&#x27;Delay_from_due_date&#x27;, &#x27;Num_of_Delayed_Payment&#x27;]</pre></div></div></div><div class=\"sk-serial\"><div class=\"sk-item\"><div class=\"sk-estimator sk-toggleable\"><input class=\"sk-toggleable__control sk-hidden--visually\" id=\"sk-estimator-id-25\" type=\"checkbox\" ><label for=\"sk-estimator-id-25\" class=\"sk-toggleable__label sk-toggleable__label-arrow\">StandardScaler</label><div class=\"sk-toggleable__content\"><pre>StandardScaler()</pre></div></div></div></div></div></div><div class=\"sk-parallel-item\"><div class=\"sk-item\"><div class=\"sk-label-container\"><div class=\"sk-label sk-toggleable\"><input class=\"sk-toggleable__control sk-hidden--visually\" id=\"sk-estimator-id-26\" type=\"checkbox\" ><label for=\"sk-estimator-id-26\" class=\"sk-toggleable__label sk-toggleable__label-arrow\">remainder</label><div class=\"sk-toggleable__content\"><pre></pre></div></div></div><div class=\"sk-serial\"><div class=\"sk-item\"><div class=\"sk-estimator sk-toggleable\"><input class=\"sk-toggleable__control sk-hidden--visually\" id=\"sk-estimator-id-27\" type=\"checkbox\" ><label for=\"sk-estimator-id-27\" class=\"sk-toggleable__label sk-toggleable__label-arrow\">passthrough</label><div class=\"sk-toggleable__content\"><pre>passthrough</pre></div></div></div></div></div></div></div></div></div></div>"
      ],
      "text/plain": [
       "ColumnTransformer(remainder='passthrough',\n",
       "                  transformers=[('standardscaler', StandardScaler(),\n",
       "                                 ['Delay_from_due_date',\n",
       "                                  'Num_of_Delayed_Payment'])],\n",
       "                  verbose_feature_names_out=False)"
      ]
     },
     "execution_count": 40,
     "metadata": {},
     "output_type": "execute_result"
    }
   ],
   "source": [
    "preprocessor = make_column_transformer(\n",
    "    (StandardScaler(), predictors),\n",
    "    remainder='passthrough',\n",
    "    verbose_feature_names_out=False\n",
    ")\n",
    "preprocessor"
   ]
  },
  {
   "cell_type": "code",
   "execution_count": null,
   "metadata": {
    "tags": []
   },
   "outputs": [
    {
     "data": {
      "text/html": [
       "<style>#sk-container-id-7 {color: black;background-color: white;}#sk-container-id-7 pre{padding: 0;}#sk-container-id-7 div.sk-toggleable {background-color: white;}#sk-container-id-7 label.sk-toggleable__label {cursor: pointer;display: block;width: 100%;margin-bottom: 0;padding: 0.3em;box-sizing: border-box;text-align: center;}#sk-container-id-7 label.sk-toggleable__label-arrow:before {content: \"▸\";float: left;margin-right: 0.25em;color: #696969;}#sk-container-id-7 label.sk-toggleable__label-arrow:hover:before {color: black;}#sk-container-id-7 div.sk-estimator:hover label.sk-toggleable__label-arrow:before {color: black;}#sk-container-id-7 div.sk-toggleable__content {max-height: 0;max-width: 0;overflow: hidden;text-align: left;background-color: #f0f8ff;}#sk-container-id-7 div.sk-toggleable__content pre {margin: 0.2em;color: black;border-radius: 0.25em;background-color: #f0f8ff;}#sk-container-id-7 input.sk-toggleable__control:checked~div.sk-toggleable__content {max-height: 200px;max-width: 100%;overflow: auto;}#sk-container-id-7 input.sk-toggleable__control:checked~label.sk-toggleable__label-arrow:before {content: \"▾\";}#sk-container-id-7 div.sk-estimator input.sk-toggleable__control:checked~label.sk-toggleable__label {background-color: #d4ebff;}#sk-container-id-7 div.sk-label input.sk-toggleable__control:checked~label.sk-toggleable__label {background-color: #d4ebff;}#sk-container-id-7 input.sk-hidden--visually {border: 0;clip: rect(1px 1px 1px 1px);clip: rect(1px, 1px, 1px, 1px);height: 1px;margin: -1px;overflow: hidden;padding: 0;position: absolute;width: 1px;}#sk-container-id-7 div.sk-estimator {font-family: monospace;background-color: #f0f8ff;border: 1px dotted black;border-radius: 0.25em;box-sizing: border-box;margin-bottom: 0.5em;}#sk-container-id-7 div.sk-estimator:hover {background-color: #d4ebff;}#sk-container-id-7 div.sk-parallel-item::after {content: \"\";width: 100%;border-bottom: 1px solid gray;flex-grow: 1;}#sk-container-id-7 div.sk-label:hover label.sk-toggleable__label {background-color: #d4ebff;}#sk-container-id-7 div.sk-serial::before {content: \"\";position: absolute;border-left: 1px solid gray;box-sizing: border-box;top: 0;bottom: 0;left: 50%;z-index: 0;}#sk-container-id-7 div.sk-serial {display: flex;flex-direction: column;align-items: center;background-color: white;padding-right: 0.2em;padding-left: 0.2em;position: relative;}#sk-container-id-7 div.sk-item {position: relative;z-index: 1;}#sk-container-id-7 div.sk-parallel {display: flex;align-items: stretch;justify-content: center;background-color: white;position: relative;}#sk-container-id-7 div.sk-item::before, #sk-container-id-7 div.sk-parallel-item::before {content: \"\";position: absolute;border-left: 1px solid gray;box-sizing: border-box;top: 0;bottom: 0;left: 50%;z-index: -1;}#sk-container-id-7 div.sk-parallel-item {display: flex;flex-direction: column;z-index: 1;position: relative;background-color: white;}#sk-container-id-7 div.sk-parallel-item:first-child::after {align-self: flex-end;width: 50%;}#sk-container-id-7 div.sk-parallel-item:last-child::after {align-self: flex-start;width: 50%;}#sk-container-id-7 div.sk-parallel-item:only-child::after {width: 0;}#sk-container-id-7 div.sk-dashed-wrapped {border: 1px dashed gray;margin: 0 0.4em 0.5em 0.4em;box-sizing: border-box;padding-bottom: 0.4em;background-color: white;}#sk-container-id-7 div.sk-label label {font-family: monospace;font-weight: bold;display: inline-block;line-height: 1.2em;}#sk-container-id-7 div.sk-label-container {text-align: center;}#sk-container-id-7 div.sk-container {/* jupyter's `normalize.less` sets `[hidden] { display: none; }` but bootstrap.min.css set `[hidden] { display: none !important; }` so we also need the `!important` here to be able to override the default hidden behavior on the sphinx rendered scikit-learn.org. See: https://github.com/scikit-learn/scikit-learn/issues/21755 */display: inline-block !important;position: relative;}#sk-container-id-7 div.sk-text-repr-fallback {display: none;}</style><div id=\"sk-container-id-7\" class=\"sk-top-container\"><div class=\"sk-text-repr-fallback\"><pre>Pipeline(steps=[(&#x27;columntransformer&#x27;,\n",
       "                 ColumnTransformer(remainder=&#x27;passthrough&#x27;,\n",
       "                                   transformers=[(&#x27;standardscaler&#x27;,\n",
       "                                                  StandardScaler(),\n",
       "                                                  [&#x27;Delay_from_due_date&#x27;,\n",
       "                                                   &#x27;Num_of_Delayed_Payment&#x27;])],\n",
       "                                   verbose_feature_names_out=False)),\n",
       "                (&#x27;kneighborsclassifier&#x27;, KNeighborsClassifier(n_neighbors=57))])</pre><b>In a Jupyter environment, please rerun this cell to show the HTML representation or trust the notebook. <br />On GitHub, the HTML representation is unable to render, please try loading this page with nbviewer.org.</b></div><div class=\"sk-container\" hidden><div class=\"sk-item sk-dashed-wrapped\"><div class=\"sk-label-container\"><div class=\"sk-label sk-toggleable\"><input class=\"sk-toggleable__control sk-hidden--visually\" id=\"sk-estimator-id-28\" type=\"checkbox\" ><label for=\"sk-estimator-id-28\" class=\"sk-toggleable__label sk-toggleable__label-arrow\">Pipeline</label><div class=\"sk-toggleable__content\"><pre>Pipeline(steps=[(&#x27;columntransformer&#x27;,\n",
       "                 ColumnTransformer(remainder=&#x27;passthrough&#x27;,\n",
       "                                   transformers=[(&#x27;standardscaler&#x27;,\n",
       "                                                  StandardScaler(),\n",
       "                                                  [&#x27;Delay_from_due_date&#x27;,\n",
       "                                                   &#x27;Num_of_Delayed_Payment&#x27;])],\n",
       "                                   verbose_feature_names_out=False)),\n",
       "                (&#x27;kneighborsclassifier&#x27;, KNeighborsClassifier(n_neighbors=57))])</pre></div></div></div><div class=\"sk-serial\"><div class=\"sk-item sk-dashed-wrapped\"><div class=\"sk-label-container\"><div class=\"sk-label sk-toggleable\"><input class=\"sk-toggleable__control sk-hidden--visually\" id=\"sk-estimator-id-29\" type=\"checkbox\" ><label for=\"sk-estimator-id-29\" class=\"sk-toggleable__label sk-toggleable__label-arrow\">columntransformer: ColumnTransformer</label><div class=\"sk-toggleable__content\"><pre>ColumnTransformer(remainder=&#x27;passthrough&#x27;,\n",
       "                  transformers=[(&#x27;standardscaler&#x27;, StandardScaler(),\n",
       "                                 [&#x27;Delay_from_due_date&#x27;,\n",
       "                                  &#x27;Num_of_Delayed_Payment&#x27;])],\n",
       "                  verbose_feature_names_out=False)</pre></div></div></div><div class=\"sk-parallel\"><div class=\"sk-parallel-item\"><div class=\"sk-item\"><div class=\"sk-label-container\"><div class=\"sk-label sk-toggleable\"><input class=\"sk-toggleable__control sk-hidden--visually\" id=\"sk-estimator-id-30\" type=\"checkbox\" ><label for=\"sk-estimator-id-30\" class=\"sk-toggleable__label sk-toggleable__label-arrow\">standardscaler</label><div class=\"sk-toggleable__content\"><pre>[&#x27;Delay_from_due_date&#x27;, &#x27;Num_of_Delayed_Payment&#x27;]</pre></div></div></div><div class=\"sk-serial\"><div class=\"sk-item\"><div class=\"sk-estimator sk-toggleable\"><input class=\"sk-toggleable__control sk-hidden--visually\" id=\"sk-estimator-id-31\" type=\"checkbox\" ><label for=\"sk-estimator-id-31\" class=\"sk-toggleable__label sk-toggleable__label-arrow\">StandardScaler</label><div class=\"sk-toggleable__content\"><pre>StandardScaler()</pre></div></div></div></div></div></div><div class=\"sk-parallel-item\"><div class=\"sk-item\"><div class=\"sk-label-container\"><div class=\"sk-label sk-toggleable\"><input class=\"sk-toggleable__control sk-hidden--visually\" id=\"sk-estimator-id-32\" type=\"checkbox\" ><label for=\"sk-estimator-id-32\" class=\"sk-toggleable__label sk-toggleable__label-arrow\">remainder</label><div class=\"sk-toggleable__content\"><pre>[]</pre></div></div></div><div class=\"sk-serial\"><div class=\"sk-item\"><div class=\"sk-estimator sk-toggleable\"><input class=\"sk-toggleable__control sk-hidden--visually\" id=\"sk-estimator-id-33\" type=\"checkbox\" ><label for=\"sk-estimator-id-33\" class=\"sk-toggleable__label sk-toggleable__label-arrow\">passthrough</label><div class=\"sk-toggleable__content\"><pre>passthrough</pre></div></div></div></div></div></div></div></div><div class=\"sk-item\"><div class=\"sk-estimator sk-toggleable\"><input class=\"sk-toggleable__control sk-hidden--visually\" id=\"sk-estimator-id-34\" type=\"checkbox\" ><label for=\"sk-estimator-id-34\" class=\"sk-toggleable__label sk-toggleable__label-arrow\">KNeighborsClassifier</label><div class=\"sk-toggleable__content\"><pre>KNeighborsClassifier(n_neighbors=57)</pre></div></div></div></div></div></div></div>"
      ],
      "text/plain": [
       "Pipeline(steps=[('columntransformer',\n",
       "                 ColumnTransformer(remainder='passthrough',\n",
       "                                   transformers=[('standardscaler',\n",
       "                                                  StandardScaler(),\n",
       "                                                  ['Delay_from_due_date',\n",
       "                                                   'Num_of_Delayed_Payment'])],\n",
       "                                   verbose_feature_names_out=False)),\n",
       "                ('kneighborsclassifier', KNeighborsClassifier(n_neighbors=57))])"
      ]
     },
     "execution_count": 41,
     "metadata": {},
     "output_type": "execute_result"
    }
   ],
   "source": [
    "X = train.drop(columns='Credit_Score')\n",
    "y = train[\"Credit_Score\"]\n",
    "\n",
    "train_fit = make_pipeline(preprocessor, knn).fit(X, y)\n",
    "\n",
    "train_fit"
   ]
  },
  {
   "cell_type": "code",
   "execution_count": null,
   "metadata": {
    "tags": []
   },
   "outputs": [
    {
     "data": {
      "text/html": [
       "<div>\n",
       "<style scoped>\n",
       "    .dataframe tbody tr th:only-of-type {\n",
       "        vertical-align: middle;\n",
       "    }\n",
       "\n",
       "    .dataframe tbody tr th {\n",
       "        vertical-align: top;\n",
       "    }\n",
       "\n",
       "    .dataframe thead th {\n",
       "        text-align: right;\n",
       "    }\n",
       "</style>\n",
       "<table border=\"1\" class=\"dataframe\">\n",
       "  <thead>\n",
       "    <tr style=\"text-align: right;\">\n",
       "      <th></th>\n",
       "      <th>Num_of_Delayed_Payment</th>\n",
       "      <th>Delay_from_due_date</th>\n",
       "      <th>Credit_Score</th>\n",
       "      <th>predicted</th>\n",
       "    </tr>\n",
       "  </thead>\n",
       "  <tbody>\n",
       "    <tr>\n",
       "      <th>22730</th>\n",
       "      <td>19</td>\n",
       "      <td>17</td>\n",
       "      <td>Standard</td>\n",
       "      <td>Standard</td>\n",
       "    </tr>\n",
       "    <tr>\n",
       "      <th>73480</th>\n",
       "      <td>21</td>\n",
       "      <td>56</td>\n",
       "      <td>Standard</td>\n",
       "      <td>Poor</td>\n",
       "    </tr>\n",
       "    <tr>\n",
       "      <th>72345</th>\n",
       "      <td>3</td>\n",
       "      <td>7</td>\n",
       "      <td>Good</td>\n",
       "      <td>Good</td>\n",
       "    </tr>\n",
       "    <tr>\n",
       "      <th>14293</th>\n",
       "      <td>17</td>\n",
       "      <td>32</td>\n",
       "      <td>Poor</td>\n",
       "      <td>Standard</td>\n",
       "    </tr>\n",
       "    <tr>\n",
       "      <th>44</th>\n",
       "      <td>7</td>\n",
       "      <td>11</td>\n",
       "      <td>Good</td>\n",
       "      <td>Standard</td>\n",
       "    </tr>\n",
       "    <tr>\n",
       "      <th>...</th>\n",
       "      <td>...</td>\n",
       "      <td>...</td>\n",
       "      <td>...</td>\n",
       "      <td>...</td>\n",
       "    </tr>\n",
       "    <tr>\n",
       "      <th>97756</th>\n",
       "      <td>18</td>\n",
       "      <td>21</td>\n",
       "      <td>Standard</td>\n",
       "      <td>Standard</td>\n",
       "    </tr>\n",
       "    <tr>\n",
       "      <th>34642</th>\n",
       "      <td>5</td>\n",
       "      <td>7</td>\n",
       "      <td>Poor</td>\n",
       "      <td>Standard</td>\n",
       "    </tr>\n",
       "    <tr>\n",
       "      <th>1041</th>\n",
       "      <td>6</td>\n",
       "      <td>15</td>\n",
       "      <td>Standard</td>\n",
       "      <td>Standard</td>\n",
       "    </tr>\n",
       "    <tr>\n",
       "      <th>80943</th>\n",
       "      <td>8</td>\n",
       "      <td>3</td>\n",
       "      <td>Standard</td>\n",
       "      <td>Standard</td>\n",
       "    </tr>\n",
       "    <tr>\n",
       "      <th>33440</th>\n",
       "      <td>12</td>\n",
       "      <td>3</td>\n",
       "      <td>Good</td>\n",
       "      <td>Standard</td>\n",
       "    </tr>\n",
       "  </tbody>\n",
       "</table>\n",
       "<p>250 rows × 4 columns</p>\n",
       "</div>"
      ],
      "text/plain": [
       "       Num_of_Delayed_Payment  Delay_from_due_date Credit_Score predicted\n",
       "22730                      19                   17     Standard  Standard\n",
       "73480                      21                   56     Standard      Poor\n",
       "72345                       3                    7         Good      Good\n",
       "14293                      17                   32         Poor  Standard\n",
       "44                          7                   11         Good  Standard\n",
       "...                       ...                  ...          ...       ...\n",
       "97756                      18                   21     Standard  Standard\n",
       "34642                       5                    7         Poor  Standard\n",
       "1041                        6                   15     Standard  Standard\n",
       "80943                       8                    3     Standard  Standard\n",
       "33440                      12                    3         Good  Standard\n",
       "\n",
       "[250 rows x 4 columns]"
      ]
     },
     "execution_count": 42,
     "metadata": {},
     "output_type": "execute_result"
    }
   ],
   "source": [
    "test_predictions = test.assign(\n",
    "    predicted = train_fit.predict(test[predictors])\n",
    ")\n",
    "test_predictions"
   ]
  },
  {
   "cell_type": "code",
   "execution_count": null,
   "metadata": {
    "tags": []
   },
   "outputs": [
    {
     "data": {
      "text/plain": [
       "0.648"
      ]
     },
     "execution_count": 43,
     "metadata": {},
     "output_type": "execute_result"
    }
   ],
   "source": [
    "correct_preds = test_predictions[\n",
    "    test_predictions['Credit_Score'] == test_predictions['predicted']\n",
    "]\n",
    "\n",
    "correct_preds.shape[0] / test_predictions.shape[0]"
   ]
  },
  {
   "cell_type": "code",
   "execution_count": null,
   "metadata": {
    "tags": []
   },
   "outputs": [
    {
     "data": {
      "text/plain": [
       "0.648"
      ]
     },
     "execution_count": 44,
     "metadata": {},
     "output_type": "execute_result"
    }
   ],
   "source": [
    "X_test = test[predictors]\n",
    "y_test = test[\"Credit_Score\"]\n",
    "accuracy = train_fit.score(X_test,y_test)\n",
    "accuracy"
   ]
  },
  {
   "cell_type": "markdown",
   "metadata": {},
   "source": [
    "### Choosing the best K"
   ]
  },
  {
   "cell_type": "code",
   "execution_count": null,
   "metadata": {
    "tags": []
   },
   "outputs": [],
   "source": [
    "param_grid = {\n",
    "    \"kneighborsclassifier__n_neighbors\": range(1, 100, 5),\n",
    "}\n",
    "tune_pipe = make_pipeline(preprocessor, KNeighborsClassifier())"
   ]
  },
  {
   "cell_type": "code",
   "execution_count": null,
   "metadata": {
    "tags": []
   },
   "outputs": [
    {
     "data": {
      "text/html": [
       "<style>#sk-container-id-8 {color: black;background-color: white;}#sk-container-id-8 pre{padding: 0;}#sk-container-id-8 div.sk-toggleable {background-color: white;}#sk-container-id-8 label.sk-toggleable__label {cursor: pointer;display: block;width: 100%;margin-bottom: 0;padding: 0.3em;box-sizing: border-box;text-align: center;}#sk-container-id-8 label.sk-toggleable__label-arrow:before {content: \"▸\";float: left;margin-right: 0.25em;color: #696969;}#sk-container-id-8 label.sk-toggleable__label-arrow:hover:before {color: black;}#sk-container-id-8 div.sk-estimator:hover label.sk-toggleable__label-arrow:before {color: black;}#sk-container-id-8 div.sk-toggleable__content {max-height: 0;max-width: 0;overflow: hidden;text-align: left;background-color: #f0f8ff;}#sk-container-id-8 div.sk-toggleable__content pre {margin: 0.2em;color: black;border-radius: 0.25em;background-color: #f0f8ff;}#sk-container-id-8 input.sk-toggleable__control:checked~div.sk-toggleable__content {max-height: 200px;max-width: 100%;overflow: auto;}#sk-container-id-8 input.sk-toggleable__control:checked~label.sk-toggleable__label-arrow:before {content: \"▾\";}#sk-container-id-8 div.sk-estimator input.sk-toggleable__control:checked~label.sk-toggleable__label {background-color: #d4ebff;}#sk-container-id-8 div.sk-label input.sk-toggleable__control:checked~label.sk-toggleable__label {background-color: #d4ebff;}#sk-container-id-8 input.sk-hidden--visually {border: 0;clip: rect(1px 1px 1px 1px);clip: rect(1px, 1px, 1px, 1px);height: 1px;margin: -1px;overflow: hidden;padding: 0;position: absolute;width: 1px;}#sk-container-id-8 div.sk-estimator {font-family: monospace;background-color: #f0f8ff;border: 1px dotted black;border-radius: 0.25em;box-sizing: border-box;margin-bottom: 0.5em;}#sk-container-id-8 div.sk-estimator:hover {background-color: #d4ebff;}#sk-container-id-8 div.sk-parallel-item::after {content: \"\";width: 100%;border-bottom: 1px solid gray;flex-grow: 1;}#sk-container-id-8 div.sk-label:hover label.sk-toggleable__label {background-color: #d4ebff;}#sk-container-id-8 div.sk-serial::before {content: \"\";position: absolute;border-left: 1px solid gray;box-sizing: border-box;top: 0;bottom: 0;left: 50%;z-index: 0;}#sk-container-id-8 div.sk-serial {display: flex;flex-direction: column;align-items: center;background-color: white;padding-right: 0.2em;padding-left: 0.2em;position: relative;}#sk-container-id-8 div.sk-item {position: relative;z-index: 1;}#sk-container-id-8 div.sk-parallel {display: flex;align-items: stretch;justify-content: center;background-color: white;position: relative;}#sk-container-id-8 div.sk-item::before, #sk-container-id-8 div.sk-parallel-item::before {content: \"\";position: absolute;border-left: 1px solid gray;box-sizing: border-box;top: 0;bottom: 0;left: 50%;z-index: -1;}#sk-container-id-8 div.sk-parallel-item {display: flex;flex-direction: column;z-index: 1;position: relative;background-color: white;}#sk-container-id-8 div.sk-parallel-item:first-child::after {align-self: flex-end;width: 50%;}#sk-container-id-8 div.sk-parallel-item:last-child::after {align-self: flex-start;width: 50%;}#sk-container-id-8 div.sk-parallel-item:only-child::after {width: 0;}#sk-container-id-8 div.sk-dashed-wrapped {border: 1px dashed gray;margin: 0 0.4em 0.5em 0.4em;box-sizing: border-box;padding-bottom: 0.4em;background-color: white;}#sk-container-id-8 div.sk-label label {font-family: monospace;font-weight: bold;display: inline-block;line-height: 1.2em;}#sk-container-id-8 div.sk-label-container {text-align: center;}#sk-container-id-8 div.sk-container {/* jupyter's `normalize.less` sets `[hidden] { display: none; }` but bootstrap.min.css set `[hidden] { display: none !important; }` so we also need the `!important` here to be able to override the default hidden behavior on the sphinx rendered scikit-learn.org. See: https://github.com/scikit-learn/scikit-learn/issues/21755 */display: inline-block !important;position: relative;}#sk-container-id-8 div.sk-text-repr-fallback {display: none;}</style><div id=\"sk-container-id-8\" class=\"sk-top-container\"><div class=\"sk-text-repr-fallback\"><pre>GridSearchCV(cv=25,\n",
       "             estimator=Pipeline(steps=[(&#x27;columntransformer&#x27;,\n",
       "                                        ColumnTransformer(remainder=&#x27;passthrough&#x27;,\n",
       "                                                          transformers=[(&#x27;standardscaler&#x27;,\n",
       "                                                                         StandardScaler(),\n",
       "                                                                         [&#x27;Delay_from_due_date&#x27;,\n",
       "                                                                          &#x27;Num_of_Delayed_Payment&#x27;])],\n",
       "                                                          verbose_feature_names_out=False)),\n",
       "                                       (&#x27;kneighborsclassifier&#x27;,\n",
       "                                        KNeighborsClassifier())]),\n",
       "             param_grid={&#x27;kneighborsclassifier__n_neighbors&#x27;: range(1, 100, 5)})</pre><b>In a Jupyter environment, please rerun this cell to show the HTML representation or trust the notebook. <br />On GitHub, the HTML representation is unable to render, please try loading this page with nbviewer.org.</b></div><div class=\"sk-container\" hidden><div class=\"sk-item sk-dashed-wrapped\"><div class=\"sk-label-container\"><div class=\"sk-label sk-toggleable\"><input class=\"sk-toggleable__control sk-hidden--visually\" id=\"sk-estimator-id-35\" type=\"checkbox\" ><label for=\"sk-estimator-id-35\" class=\"sk-toggleable__label sk-toggleable__label-arrow\">GridSearchCV</label><div class=\"sk-toggleable__content\"><pre>GridSearchCV(cv=25,\n",
       "             estimator=Pipeline(steps=[(&#x27;columntransformer&#x27;,\n",
       "                                        ColumnTransformer(remainder=&#x27;passthrough&#x27;,\n",
       "                                                          transformers=[(&#x27;standardscaler&#x27;,\n",
       "                                                                         StandardScaler(),\n",
       "                                                                         [&#x27;Delay_from_due_date&#x27;,\n",
       "                                                                          &#x27;Num_of_Delayed_Payment&#x27;])],\n",
       "                                                          verbose_feature_names_out=False)),\n",
       "                                       (&#x27;kneighborsclassifier&#x27;,\n",
       "                                        KNeighborsClassifier())]),\n",
       "             param_grid={&#x27;kneighborsclassifier__n_neighbors&#x27;: range(1, 100, 5)})</pre></div></div></div><div class=\"sk-parallel\"><div class=\"sk-parallel-item\"><div class=\"sk-item\"><div class=\"sk-label-container\"><div class=\"sk-label sk-toggleable\"><input class=\"sk-toggleable__control sk-hidden--visually\" id=\"sk-estimator-id-36\" type=\"checkbox\" ><label for=\"sk-estimator-id-36\" class=\"sk-toggleable__label sk-toggleable__label-arrow\">estimator: Pipeline</label><div class=\"sk-toggleable__content\"><pre>Pipeline(steps=[(&#x27;columntransformer&#x27;,\n",
       "                 ColumnTransformer(remainder=&#x27;passthrough&#x27;,\n",
       "                                   transformers=[(&#x27;standardscaler&#x27;,\n",
       "                                                  StandardScaler(),\n",
       "                                                  [&#x27;Delay_from_due_date&#x27;,\n",
       "                                                   &#x27;Num_of_Delayed_Payment&#x27;])],\n",
       "                                   verbose_feature_names_out=False)),\n",
       "                (&#x27;kneighborsclassifier&#x27;, KNeighborsClassifier())])</pre></div></div></div><div class=\"sk-serial\"><div class=\"sk-item\"><div class=\"sk-serial\"><div class=\"sk-item sk-dashed-wrapped\"><div class=\"sk-label-container\"><div class=\"sk-label sk-toggleable\"><input class=\"sk-toggleable__control sk-hidden--visually\" id=\"sk-estimator-id-37\" type=\"checkbox\" ><label for=\"sk-estimator-id-37\" class=\"sk-toggleable__label sk-toggleable__label-arrow\">columntransformer: ColumnTransformer</label><div class=\"sk-toggleable__content\"><pre>ColumnTransformer(remainder=&#x27;passthrough&#x27;,\n",
       "                  transformers=[(&#x27;standardscaler&#x27;, StandardScaler(),\n",
       "                                 [&#x27;Delay_from_due_date&#x27;,\n",
       "                                  &#x27;Num_of_Delayed_Payment&#x27;])],\n",
       "                  verbose_feature_names_out=False)</pre></div></div></div><div class=\"sk-parallel\"><div class=\"sk-parallel-item\"><div class=\"sk-item\"><div class=\"sk-label-container\"><div class=\"sk-label sk-toggleable\"><input class=\"sk-toggleable__control sk-hidden--visually\" id=\"sk-estimator-id-38\" type=\"checkbox\" ><label for=\"sk-estimator-id-38\" class=\"sk-toggleable__label sk-toggleable__label-arrow\">standardscaler</label><div class=\"sk-toggleable__content\"><pre>[&#x27;Delay_from_due_date&#x27;, &#x27;Num_of_Delayed_Payment&#x27;]</pre></div></div></div><div class=\"sk-serial\"><div class=\"sk-item\"><div class=\"sk-estimator sk-toggleable\"><input class=\"sk-toggleable__control sk-hidden--visually\" id=\"sk-estimator-id-39\" type=\"checkbox\" ><label for=\"sk-estimator-id-39\" class=\"sk-toggleable__label sk-toggleable__label-arrow\">StandardScaler</label><div class=\"sk-toggleable__content\"><pre>StandardScaler()</pre></div></div></div></div></div></div><div class=\"sk-parallel-item\"><div class=\"sk-item\"><div class=\"sk-label-container\"><div class=\"sk-label sk-toggleable\"><input class=\"sk-toggleable__control sk-hidden--visually\" id=\"sk-estimator-id-40\" type=\"checkbox\" ><label for=\"sk-estimator-id-40\" class=\"sk-toggleable__label sk-toggleable__label-arrow\">remainder</label><div class=\"sk-toggleable__content\"><pre>[]</pre></div></div></div><div class=\"sk-serial\"><div class=\"sk-item\"><div class=\"sk-estimator sk-toggleable\"><input class=\"sk-toggleable__control sk-hidden--visually\" id=\"sk-estimator-id-41\" type=\"checkbox\" ><label for=\"sk-estimator-id-41\" class=\"sk-toggleable__label sk-toggleable__label-arrow\">passthrough</label><div class=\"sk-toggleable__content\"><pre>passthrough</pre></div></div></div></div></div></div></div></div><div class=\"sk-item\"><div class=\"sk-estimator sk-toggleable\"><input class=\"sk-toggleable__control sk-hidden--visually\" id=\"sk-estimator-id-42\" type=\"checkbox\" ><label for=\"sk-estimator-id-42\" class=\"sk-toggleable__label sk-toggleable__label-arrow\">KNeighborsClassifier</label><div class=\"sk-toggleable__content\"><pre>KNeighborsClassifier()</pre></div></div></div></div></div></div></div></div></div></div></div></div>"
      ],
      "text/plain": [
       "GridSearchCV(cv=25,\n",
       "             estimator=Pipeline(steps=[('columntransformer',\n",
       "                                        ColumnTransformer(remainder='passthrough',\n",
       "                                                          transformers=[('standardscaler',\n",
       "                                                                         StandardScaler(),\n",
       "                                                                         ['Delay_from_due_date',\n",
       "                                                                          'Num_of_Delayed_Payment'])],\n",
       "                                                          verbose_feature_names_out=False)),\n",
       "                                       ('kneighborsclassifier',\n",
       "                                        KNeighborsClassifier())]),\n",
       "             param_grid={'kneighborsclassifier__n_neighbors': range(1, 100, 5)})"
      ]
     },
     "execution_count": 46,
     "metadata": {},
     "output_type": "execute_result"
    }
   ],
   "source": [
    "knn_tune_grid = GridSearchCV(\n",
    "    estimator = tune_pipe, param_grid = param_grid, cv=25,\n",
    ")\n",
    "knn_tune_grid"
   ]
  },
  {
   "cell_type": "code",
   "execution_count": null,
   "metadata": {
    "tags": []
   },
   "outputs": [],
   "source": [
    "knn_model_grid = knn_tune_grid.fit(X, y)\n",
    "\n",
    "accuracies_grid = pd.DataFrame(knn_model_grid.cv_results_)\n",
    "#accuracies_grid"
   ]
  },
  {
   "cell_type": "code",
   "execution_count": null,
   "metadata": {
    "tags": []
   },
   "outputs": [
    {
     "data": {
      "text/html": [
       "\n",
       "<style>\n",
       "  #altair-viz-3b360e551c054d19a17dccf37a0025e2.vega-embed {\n",
       "    width: 100%;\n",
       "    display: flex;\n",
       "  }\n",
       "\n",
       "  #altair-viz-3b360e551c054d19a17dccf37a0025e2.vega-embed details,\n",
       "  #altair-viz-3b360e551c054d19a17dccf37a0025e2.vega-embed details summary {\n",
       "    position: relative;\n",
       "  }\n",
       "</style>\n",
       "<div id=\"altair-viz-3b360e551c054d19a17dccf37a0025e2\"></div>\n",
       "<script type=\"text/javascript\">\n",
       "  var VEGA_DEBUG = (typeof VEGA_DEBUG == \"undefined\") ? {} : VEGA_DEBUG;\n",
       "  (function(spec, embedOpt){\n",
       "    let outputDiv = document.currentScript.previousElementSibling;\n",
       "    if (outputDiv.id !== \"altair-viz-3b360e551c054d19a17dccf37a0025e2\") {\n",
       "      outputDiv = document.getElementById(\"altair-viz-3b360e551c054d19a17dccf37a0025e2\");\n",
       "    }\n",
       "    const paths = {\n",
       "      \"vega\": \"https://cdn.jsdelivr.net/npm/vega@5?noext\",\n",
       "      \"vega-lib\": \"https://cdn.jsdelivr.net/npm/vega-lib?noext\",\n",
       "      \"vega-lite\": \"https://cdn.jsdelivr.net/npm/vega-lite@5.16.3?noext\",\n",
       "      \"vega-embed\": \"https://cdn.jsdelivr.net/npm/vega-embed@6?noext\",\n",
       "    };\n",
       "\n",
       "    function maybeLoadScript(lib, version) {\n",
       "      var key = `${lib.replace(\"-\", \"\")}_version`;\n",
       "      return (VEGA_DEBUG[key] == version) ?\n",
       "        Promise.resolve(paths[lib]) :\n",
       "        new Promise(function(resolve, reject) {\n",
       "          var s = document.createElement('script');\n",
       "          document.getElementsByTagName(\"head\")[0].appendChild(s);\n",
       "          s.async = true;\n",
       "          s.onload = () => {\n",
       "            VEGA_DEBUG[key] = version;\n",
       "            return resolve(paths[lib]);\n",
       "          };\n",
       "          s.onerror = () => reject(`Error loading script: ${paths[lib]}`);\n",
       "          s.src = paths[lib];\n",
       "        });\n",
       "    }\n",
       "\n",
       "    function showError(err) {\n",
       "      outputDiv.innerHTML = `<div class=\"error\" style=\"color:red;\">${err}</div>`;\n",
       "      throw err;\n",
       "    }\n",
       "\n",
       "    function displayChart(vegaEmbed) {\n",
       "      vegaEmbed(outputDiv, spec, embedOpt)\n",
       "        .catch(err => showError(`Javascript Error: ${err.message}<br>This usually means there's a typo in your chart specification. See the javascript console for the full traceback.`));\n",
       "    }\n",
       "\n",
       "    if(typeof define === \"function\" && define.amd) {\n",
       "      requirejs.config({paths});\n",
       "      require([\"vega-embed\"], displayChart, err => showError(`Error loading script: ${err.message}`));\n",
       "    } else {\n",
       "      maybeLoadScript(\"vega\", \"5\")\n",
       "        .then(() => maybeLoadScript(\"vega-lite\", \"5.16.3\"))\n",
       "        .then(() => maybeLoadScript(\"vega-embed\", \"6\"))\n",
       "        .catch(showError)\n",
       "        .then(() => displayChart(vegaEmbed));\n",
       "    }\n",
       "  })({\"config\": {\"view\": {\"continuousWidth\": 300, \"continuousHeight\": 300}}, \"data\": {\"name\": \"data-1f2a46546c8b1b9c36f602077b6fe784\"}, \"mark\": {\"type\": \"line\", \"point\": true}, \"encoding\": {\"x\": {\"field\": \"param_kneighborsclassifier__n_neighbors\", \"scale\": {\"zero\": false}, \"title\": \"neighbors\", \"type\": \"quantitative\"}, \"y\": {\"field\": \"mean_test_score\", \"scale\": {\"zero\": false}, \"title\": \"Mean test score\", \"type\": \"quantitative\"}}, \"$schema\": \"https://vega.github.io/schema/vega-lite/v5.16.3.json\", \"datasets\": {\"data-1f2a46546c8b1b9c36f602077b6fe784\": [{\"mean_fit_time\": 0.005408229827880859, \"std_fit_time\": 0.0035957448775745028, \"mean_score_time\": 0.004723472595214844, \"std_score_time\": 0.003383845152785037, \"param_kneighborsclassifier__n_neighbors\": 1, \"params\": {\"kneighborsclassifier__n_neighbors\": 1}, \"split0_test_score\": 0.6428571428571429, \"split1_test_score\": 0.5357142857142857, \"split2_test_score\": 0.6428571428571429, \"split3_test_score\": 0.39285714285714285, \"split4_test_score\": 0.6071428571428571, \"split5_test_score\": 0.5714285714285714, \"split6_test_score\": 0.4642857142857143, \"split7_test_score\": 0.4642857142857143, \"split8_test_score\": 0.5, \"split9_test_score\": 0.5357142857142857, \"split10_test_score\": 0.5357142857142857, \"split11_test_score\": 0.5, \"split12_test_score\": 0.35714285714285715, \"split13_test_score\": 0.5, \"split14_test_score\": 0.5, \"split15_test_score\": 0.5714285714285714, \"split16_test_score\": 0.4642857142857143, \"split17_test_score\": 0.39285714285714285, \"split18_test_score\": 0.4642857142857143, \"split19_test_score\": 0.48148148148148145, \"split20_test_score\": 0.5555555555555556, \"split21_test_score\": 0.3333333333333333, \"split22_test_score\": 0.6666666666666666, \"split23_test_score\": 0.5185185185185185, \"split24_test_score\": 0.6296296296296297, \"mean_test_score\": 0.5131216931216931, \"std_test_score\": 0.08639979973371421, \"rank_test_score\": 20}, {\"mean_fit_time\": 0.0055894947052001955, \"std_fit_time\": 0.0025387280530035413, \"mean_score_time\": 0.00439340591430664, \"std_score_time\": 0.002615592673271936, \"param_kneighborsclassifier__n_neighbors\": 6, \"params\": {\"kneighborsclassifier__n_neighbors\": 6}, \"split0_test_score\": 0.6071428571428571, \"split1_test_score\": 0.5357142857142857, \"split2_test_score\": 0.6071428571428571, \"split3_test_score\": 0.5357142857142857, \"split4_test_score\": 0.5357142857142857, \"split5_test_score\": 0.5714285714285714, \"split6_test_score\": 0.39285714285714285, \"split7_test_score\": 0.5714285714285714, \"split8_test_score\": 0.6071428571428571, \"split9_test_score\": 0.6428571428571429, \"split10_test_score\": 0.6428571428571429, \"split11_test_score\": 0.6071428571428571, \"split12_test_score\": 0.4642857142857143, \"split13_test_score\": 0.7142857142857143, \"split14_test_score\": 0.5714285714285714, \"split15_test_score\": 0.5, \"split16_test_score\": 0.5357142857142857, \"split17_test_score\": 0.5714285714285714, \"split18_test_score\": 0.5357142857142857, \"split19_test_score\": 0.5555555555555556, \"split20_test_score\": 0.5925925925925926, \"split21_test_score\": 0.48148148148148145, \"split22_test_score\": 0.4444444444444444, \"split23_test_score\": 0.5925925925925926, \"split24_test_score\": 0.6296296296296297, \"mean_test_score\": 0.5618518518518518, \"std_test_score\": 0.0684160742608574, \"rank_test_score\": 19}, {\"mean_fit_time\": 0.006517858505249024, \"std_fit_time\": 0.0020364371334684666, \"mean_score_time\": 0.004587697982788086, \"std_score_time\": 0.002400533317514134, \"param_kneighborsclassifier__n_neighbors\": 11, \"params\": {\"kneighborsclassifier__n_neighbors\": 11}, \"split0_test_score\": 0.5, \"split1_test_score\": 0.7142857142857143, \"split2_test_score\": 0.6428571428571429, \"split3_test_score\": 0.5, \"split4_test_score\": 0.6428571428571429, \"split5_test_score\": 0.6428571428571429, \"split6_test_score\": 0.42857142857142855, \"split7_test_score\": 0.6428571428571429, \"split8_test_score\": 0.7142857142857143, \"split9_test_score\": 0.6428571428571429, \"split10_test_score\": 0.5714285714285714, \"split11_test_score\": 0.5714285714285714, \"split12_test_score\": 0.39285714285714285, \"split13_test_score\": 0.6071428571428571, \"split14_test_score\": 0.5714285714285714, \"split15_test_score\": 0.6428571428571429, \"split16_test_score\": 0.5, \"split17_test_score\": 0.5357142857142857, \"split18_test_score\": 0.42857142857142855, \"split19_test_score\": 0.48148148148148145, \"split20_test_score\": 0.7037037037037037, \"split21_test_score\": 0.5555555555555556, \"split22_test_score\": 0.5185185185185185, \"split23_test_score\": 0.5555555555555556, \"split24_test_score\": 0.6296296296296297, \"mean_test_score\": 0.5734920634920635, \"std_test_score\": 0.08812747078630959, \"rank_test_score\": 18}, {\"mean_fit_time\": 0.005873517990112305, \"std_fit_time\": 0.0022994384840981197, \"mean_score_time\": 0.004796276092529297, \"std_score_time\": 0.0026760964050714844, \"param_kneighborsclassifier__n_neighbors\": 16, \"params\": {\"kneighborsclassifier__n_neighbors\": 16}, \"split0_test_score\": 0.5714285714285714, \"split1_test_score\": 0.7857142857142857, \"split2_test_score\": 0.5714285714285714, \"split3_test_score\": 0.5357142857142857, \"split4_test_score\": 0.6428571428571429, \"split5_test_score\": 0.6785714285714286, \"split6_test_score\": 0.5714285714285714, \"split7_test_score\": 0.6071428571428571, \"split8_test_score\": 0.7142857142857143, \"split9_test_score\": 0.6071428571428571, \"split10_test_score\": 0.5357142857142857, \"split11_test_score\": 0.6071428571428571, \"split12_test_score\": 0.4642857142857143, \"split13_test_score\": 0.75, \"split14_test_score\": 0.5714285714285714, \"split15_test_score\": 0.7142857142857143, \"split16_test_score\": 0.5714285714285714, \"split17_test_score\": 0.6071428571428571, \"split18_test_score\": 0.4642857142857143, \"split19_test_score\": 0.48148148148148145, \"split20_test_score\": 0.6666666666666666, \"split21_test_score\": 0.6296296296296297, \"split22_test_score\": 0.5925925925925926, \"split23_test_score\": 0.5555555555555556, \"split24_test_score\": 0.6296296296296297, \"mean_test_score\": 0.6050793650793651, \"std_test_score\": 0.08053379346538132, \"rank_test_score\": 5}, {\"mean_fit_time\": 0.006179304122924805, \"std_fit_time\": 0.003368734687865998, \"mean_score_time\": 0.004723997116088867, \"std_score_time\": 0.003107390743905433, \"param_kneighborsclassifier__n_neighbors\": 21, \"params\": {\"kneighborsclassifier__n_neighbors\": 21}, \"split0_test_score\": 0.6071428571428571, \"split1_test_score\": 0.7142857142857143, \"split2_test_score\": 0.6071428571428571, \"split3_test_score\": 0.5714285714285714, \"split4_test_score\": 0.7142857142857143, \"split5_test_score\": 0.6428571428571429, \"split6_test_score\": 0.5714285714285714, \"split7_test_score\": 0.5714285714285714, \"split8_test_score\": 0.7142857142857143, \"split9_test_score\": 0.6428571428571429, \"split10_test_score\": 0.6428571428571429, \"split11_test_score\": 0.6428571428571429, \"split12_test_score\": 0.5, \"split13_test_score\": 0.6785714285714286, \"split14_test_score\": 0.6428571428571429, \"split15_test_score\": 0.7142857142857143, \"split16_test_score\": 0.5357142857142857, \"split17_test_score\": 0.6071428571428571, \"split18_test_score\": 0.5, \"split19_test_score\": 0.5185185185185185, \"split20_test_score\": 0.7037037037037037, \"split21_test_score\": 0.6296296296296297, \"split22_test_score\": 0.5185185185185185, \"split23_test_score\": 0.5925925925925926, \"split24_test_score\": 0.6666666666666666, \"mean_test_score\": 0.6180423280423281, \"std_test_score\": 0.06800257217365695, \"rank_test_score\": 1}, {\"mean_fit_time\": 0.004536294937133789, \"std_fit_time\": 0.0032548585364004386, \"mean_score_time\": 0.0037630081176757814, \"std_score_time\": 0.0031874240035862592, \"param_kneighborsclassifier__n_neighbors\": 26, \"params\": {\"kneighborsclassifier__n_neighbors\": 26}, \"split0_test_score\": 0.6071428571428571, \"split1_test_score\": 0.6428571428571429, \"split2_test_score\": 0.6071428571428571, \"split3_test_score\": 0.5714285714285714, \"split4_test_score\": 0.6785714285714286, \"split5_test_score\": 0.6428571428571429, \"split6_test_score\": 0.5, \"split7_test_score\": 0.5714285714285714, \"split8_test_score\": 0.6785714285714286, \"split9_test_score\": 0.6071428571428571, \"split10_test_score\": 0.6785714285714286, \"split11_test_score\": 0.6071428571428571, \"split12_test_score\": 0.4642857142857143, \"split13_test_score\": 0.6428571428571429, \"split14_test_score\": 0.6071428571428571, \"split15_test_score\": 0.7142857142857143, \"split16_test_score\": 0.5714285714285714, \"split17_test_score\": 0.5714285714285714, \"split18_test_score\": 0.4642857142857143, \"split19_test_score\": 0.5555555555555556, \"split20_test_score\": 0.6666666666666666, \"split21_test_score\": 0.6296296296296297, \"split22_test_score\": 0.5925925925925926, \"split23_test_score\": 0.5185185185185185, \"split24_test_score\": 0.6666666666666666, \"mean_test_score\": 0.6023280423280424, \"std_test_score\": 0.06503835762273749, \"rank_test_score\": 6}, {\"mean_fit_time\": 0.005584297180175782, \"std_fit_time\": 0.0029669960449909888, \"mean_score_time\": 0.0045414924621582035, \"std_score_time\": 0.0034194676551048604, \"param_kneighborsclassifier__n_neighbors\": 31, \"params\": {\"kneighborsclassifier__n_neighbors\": 31}, \"split0_test_score\": 0.6428571428571429, \"split1_test_score\": 0.7142857142857143, \"split2_test_score\": 0.6071428571428571, \"split3_test_score\": 0.5714285714285714, \"split4_test_score\": 0.7142857142857143, \"split5_test_score\": 0.6428571428571429, \"split6_test_score\": 0.5357142857142857, \"split7_test_score\": 0.5714285714285714, \"split8_test_score\": 0.6785714285714286, \"split9_test_score\": 0.5357142857142857, \"split10_test_score\": 0.6428571428571429, \"split11_test_score\": 0.6071428571428571, \"split12_test_score\": 0.4642857142857143, \"split13_test_score\": 0.6428571428571429, \"split14_test_score\": 0.6428571428571429, \"split15_test_score\": 0.75, \"split16_test_score\": 0.5357142857142857, \"split17_test_score\": 0.5714285714285714, \"split18_test_score\": 0.4642857142857143, \"split19_test_score\": 0.5925925925925926, \"split20_test_score\": 0.6666666666666666, \"split21_test_score\": 0.6666666666666666, \"split22_test_score\": 0.5555555555555556, \"split23_test_score\": 0.5555555555555556, \"split24_test_score\": 0.6666666666666666, \"mean_test_score\": 0.6095767195767196, \"std_test_score\": 0.07233568620755709, \"rank_test_score\": 3}, {\"mean_fit_time\": 0.00730010986328125, \"std_fit_time\": 0.0034378698429850234, \"mean_score_time\": 0.0050567245483398434, \"std_score_time\": 0.0036918426710332913, \"param_kneighborsclassifier__n_neighbors\": 36, \"params\": {\"kneighborsclassifier__n_neighbors\": 36}, \"split0_test_score\": 0.6428571428571429, \"split1_test_score\": 0.7142857142857143, \"split2_test_score\": 0.6071428571428571, \"split3_test_score\": 0.6071428571428571, \"split4_test_score\": 0.6785714285714286, \"split5_test_score\": 0.6071428571428571, \"split6_test_score\": 0.5, \"split7_test_score\": 0.6071428571428571, \"split8_test_score\": 0.7142857142857143, \"split9_test_score\": 0.5714285714285714, \"split10_test_score\": 0.6071428571428571, \"split11_test_score\": 0.6071428571428571, \"split12_test_score\": 0.4642857142857143, \"split13_test_score\": 0.5714285714285714, \"split14_test_score\": 0.5714285714285714, \"split15_test_score\": 0.6785714285714286, \"split16_test_score\": 0.5357142857142857, \"split17_test_score\": 0.5714285714285714, \"split18_test_score\": 0.4642857142857143, \"split19_test_score\": 0.5555555555555556, \"split20_test_score\": 0.7037037037037037, \"split21_test_score\": 0.6666666666666666, \"split22_test_score\": 0.5555555555555556, \"split23_test_score\": 0.5185185185185185, \"split24_test_score\": 0.6296296296296297, \"mean_test_score\": 0.5980423280423279, \"std_test_score\": 0.06969011219816783, \"rank_test_score\": 9}, {\"mean_fit_time\": 0.004941682815551757, \"std_fit_time\": 0.003742438516016792, \"mean_score_time\": 0.005551624298095703, \"std_score_time\": 0.003220770728326357, \"param_kneighborsclassifier__n_neighbors\": 41, \"params\": {\"kneighborsclassifier__n_neighbors\": 41}, \"split0_test_score\": 0.6428571428571429, \"split1_test_score\": 0.7142857142857143, \"split2_test_score\": 0.6071428571428571, \"split3_test_score\": 0.6428571428571429, \"split4_test_score\": 0.6785714285714286, \"split5_test_score\": 0.6785714285714286, \"split6_test_score\": 0.5, \"split7_test_score\": 0.6071428571428571, \"split8_test_score\": 0.6785714285714286, \"split9_test_score\": 0.5357142857142857, \"split10_test_score\": 0.6785714285714286, \"split11_test_score\": 0.6071428571428571, \"split12_test_score\": 0.4642857142857143, \"split13_test_score\": 0.5714285714285714, \"split14_test_score\": 0.6428571428571429, \"split15_test_score\": 0.75, \"split16_test_score\": 0.5357142857142857, \"split17_test_score\": 0.5714285714285714, \"split18_test_score\": 0.4642857142857143, \"split19_test_score\": 0.5925925925925926, \"split20_test_score\": 0.6666666666666666, \"split21_test_score\": 0.6666666666666666, \"split22_test_score\": 0.5555555555555556, \"split23_test_score\": 0.6296296296296297, \"split24_test_score\": 0.6296296296296297, \"mean_test_score\": 0.6124867724867725, \"std_test_score\": 0.07250654347448122, \"rank_test_score\": 2}, {\"mean_fit_time\": 0.005601167678833008, \"std_fit_time\": 0.0032838458927589177, \"mean_score_time\": 0.0035619640350341795, \"std_score_time\": 0.0032846835715467128, \"param_kneighborsclassifier__n_neighbors\": 46, \"params\": {\"kneighborsclassifier__n_neighbors\": 46}, \"split0_test_score\": 0.6428571428571429, \"split1_test_score\": 0.7142857142857143, \"split2_test_score\": 0.6071428571428571, \"split3_test_score\": 0.6071428571428571, \"split4_test_score\": 0.6071428571428571, \"split5_test_score\": 0.6785714285714286, \"split6_test_score\": 0.5, \"split7_test_score\": 0.6071428571428571, \"split8_test_score\": 0.6785714285714286, \"split9_test_score\": 0.5357142857142857, \"split10_test_score\": 0.6785714285714286, \"split11_test_score\": 0.6071428571428571, \"split12_test_score\": 0.4642857142857143, \"split13_test_score\": 0.5714285714285714, \"split14_test_score\": 0.6071428571428571, \"split15_test_score\": 0.7142857142857143, \"split16_test_score\": 0.5714285714285714, \"split17_test_score\": 0.6071428571428571, \"split18_test_score\": 0.5, \"split19_test_score\": 0.5925925925925926, \"split20_test_score\": 0.6666666666666666, \"split21_test_score\": 0.6666666666666666, \"split22_test_score\": 0.5555555555555556, \"split23_test_score\": 0.5925925925925926, \"split24_test_score\": 0.5925925925925926, \"mean_test_score\": 0.6066666666666666, \"std_test_score\": 0.06354151513349877, \"rank_test_score\": 4}, {\"mean_fit_time\": 0.006579427719116211, \"std_fit_time\": 0.002921921930831526, \"mean_score_time\": 0.003185291290283203, \"std_score_time\": 0.003168556335917542, \"param_kneighborsclassifier__n_neighbors\": 51, \"params\": {\"kneighborsclassifier__n_neighbors\": 51}, \"split0_test_score\": 0.6428571428571429, \"split1_test_score\": 0.6785714285714286, \"split2_test_score\": 0.6071428571428571, \"split3_test_score\": 0.6428571428571429, \"split4_test_score\": 0.5714285714285714, \"split5_test_score\": 0.6785714285714286, \"split6_test_score\": 0.5, \"split7_test_score\": 0.6071428571428571, \"split8_test_score\": 0.6785714285714286, \"split9_test_score\": 0.5357142857142857, \"split10_test_score\": 0.6428571428571429, \"split11_test_score\": 0.6071428571428571, \"split12_test_score\": 0.4642857142857143, \"split13_test_score\": 0.5714285714285714, \"split14_test_score\": 0.6071428571428571, \"split15_test_score\": 0.6785714285714286, \"split16_test_score\": 0.5357142857142857, \"split17_test_score\": 0.5357142857142857, \"split18_test_score\": 0.42857142857142855, \"split19_test_score\": 0.5925925925925926, \"split20_test_score\": 0.6666666666666666, \"split21_test_score\": 0.6666666666666666, \"split22_test_score\": 0.5185185185185185, \"split23_test_score\": 0.5925925925925926, \"split24_test_score\": 0.5925925925925926, \"mean_test_score\": 0.5937566137566137, \"std_test_score\": 0.06839974588589784, \"rank_test_score\": 16}, {\"mean_fit_time\": 0.0060492134094238285, \"std_fit_time\": 0.0034605269093227224, \"mean_score_time\": 0.00498046875, \"std_score_time\": 0.00281579615186511, \"param_kneighborsclassifier__n_neighbors\": 56, \"params\": {\"kneighborsclassifier__n_neighbors\": 56}, \"split0_test_score\": 0.6428571428571429, \"split1_test_score\": 0.6785714285714286, \"split2_test_score\": 0.6071428571428571, \"split3_test_score\": 0.6428571428571429, \"split4_test_score\": 0.5714285714285714, \"split5_test_score\": 0.6785714285714286, \"split6_test_score\": 0.5357142857142857, \"split7_test_score\": 0.6071428571428571, \"split8_test_score\": 0.6785714285714286, \"split9_test_score\": 0.5714285714285714, \"split10_test_score\": 0.6071428571428571, \"split11_test_score\": 0.6071428571428571, \"split12_test_score\": 0.4642857142857143, \"split13_test_score\": 0.5714285714285714, \"split14_test_score\": 0.5357142857142857, \"split15_test_score\": 0.6785714285714286, \"split16_test_score\": 0.5357142857142857, \"split17_test_score\": 0.5714285714285714, \"split18_test_score\": 0.4642857142857143, \"split19_test_score\": 0.5925925925925926, \"split20_test_score\": 0.7407407407407407, \"split21_test_score\": 0.6666666666666666, \"split22_test_score\": 0.5185185185185185, \"split23_test_score\": 0.5925925925925926, \"split24_test_score\": 0.5925925925925926, \"mean_test_score\": 0.5981481481481481, \"std_test_score\": 0.06694533176137384, \"rank_test_score\": 8}, {\"mean_fit_time\": 0.006776542663574219, \"std_fit_time\": 0.003448200789167036, \"mean_score_time\": 0.0037691402435302735, \"std_score_time\": 0.0030147067933084383, \"param_kneighborsclassifier__n_neighbors\": 61, \"params\": {\"kneighborsclassifier__n_neighbors\": 61}, \"split0_test_score\": 0.6428571428571429, \"split1_test_score\": 0.6785714285714286, \"split2_test_score\": 0.6071428571428571, \"split3_test_score\": 0.6071428571428571, \"split4_test_score\": 0.6428571428571429, \"split5_test_score\": 0.6785714285714286, \"split6_test_score\": 0.5357142857142857, \"split7_test_score\": 0.6071428571428571, \"split8_test_score\": 0.6785714285714286, \"split9_test_score\": 0.5357142857142857, \"split10_test_score\": 0.5714285714285714, \"split11_test_score\": 0.6071428571428571, \"split12_test_score\": 0.4642857142857143, \"split13_test_score\": 0.5714285714285714, \"split14_test_score\": 0.5714285714285714, \"split15_test_score\": 0.6785714285714286, \"split16_test_score\": 0.5357142857142857, \"split17_test_score\": 0.5714285714285714, \"split18_test_score\": 0.42857142857142855, \"split19_test_score\": 0.6296296296296297, \"split20_test_score\": 0.7407407407407407, \"split21_test_score\": 0.6296296296296297, \"split22_test_score\": 0.5555555555555556, \"split23_test_score\": 0.5555555555555556, \"split24_test_score\": 0.6296296296296297, \"mean_test_score\": 0.5982010582010582, \"std_test_score\": 0.06880471779777932, \"rank_test_score\": 7}, {\"mean_fit_time\": 0.0064166831970214845, \"std_fit_time\": 0.003031449307967723, \"mean_score_time\": 0.004405937194824219, \"std_score_time\": 0.0027551290859312715, \"param_kneighborsclassifier__n_neighbors\": 66, \"params\": {\"kneighborsclassifier__n_neighbors\": 66}, \"split0_test_score\": 0.6428571428571429, \"split1_test_score\": 0.6428571428571429, \"split2_test_score\": 0.6071428571428571, \"split3_test_score\": 0.6071428571428571, \"split4_test_score\": 0.6071428571428571, \"split5_test_score\": 0.6428571428571429, \"split6_test_score\": 0.5714285714285714, \"split7_test_score\": 0.6428571428571429, \"split8_test_score\": 0.6785714285714286, \"split9_test_score\": 0.5357142857142857, \"split10_test_score\": 0.5714285714285714, \"split11_test_score\": 0.6071428571428571, \"split12_test_score\": 0.4642857142857143, \"split13_test_score\": 0.5714285714285714, \"split14_test_score\": 0.5357142857142857, \"split15_test_score\": 0.7142857142857143, \"split16_test_score\": 0.5357142857142857, \"split17_test_score\": 0.5714285714285714, \"split18_test_score\": 0.4642857142857143, \"split19_test_score\": 0.6296296296296297, \"split20_test_score\": 0.7037037037037037, \"split21_test_score\": 0.6296296296296297, \"split22_test_score\": 0.5185185185185185, \"split23_test_score\": 0.5925925925925926, \"split24_test_score\": 0.6296296296296297, \"mean_test_score\": 0.5967195767195768, \"std_test_score\": 0.06295998392312208, \"rank_test_score\": 10}, {\"mean_fit_time\": 0.005287246704101562, \"std_fit_time\": 0.0037050222366894195, \"mean_score_time\": 0.005270166397094727, \"std_score_time\": 0.003351754747223025, \"param_kneighborsclassifier__n_neighbors\": 71, \"params\": {\"kneighborsclassifier__n_neighbors\": 71}, \"split0_test_score\": 0.6428571428571429, \"split1_test_score\": 0.6071428571428571, \"split2_test_score\": 0.6071428571428571, \"split3_test_score\": 0.6428571428571429, \"split4_test_score\": 0.6071428571428571, \"split5_test_score\": 0.6428571428571429, \"split6_test_score\": 0.5357142857142857, \"split7_test_score\": 0.6428571428571429, \"split8_test_score\": 0.6785714285714286, \"split9_test_score\": 0.5357142857142857, \"split10_test_score\": 0.5714285714285714, \"split11_test_score\": 0.6071428571428571, \"split12_test_score\": 0.4642857142857143, \"split13_test_score\": 0.5714285714285714, \"split14_test_score\": 0.5714285714285714, \"split15_test_score\": 0.7142857142857143, \"split16_test_score\": 0.5357142857142857, \"split17_test_score\": 0.5714285714285714, \"split18_test_score\": 0.4642857142857143, \"split19_test_score\": 0.6296296296296297, \"split20_test_score\": 0.7407407407407407, \"split21_test_score\": 0.6296296296296297, \"split22_test_score\": 0.5185185185185185, \"split23_test_score\": 0.5555555555555556, \"split24_test_score\": 0.6296296296296297, \"mean_test_score\": 0.5967195767195768, \"std_test_score\": 0.06635448026768277, \"rank_test_score\": 10}, {\"mean_fit_time\": 0.005430841445922851, \"std_fit_time\": 0.0032237326784169363, \"mean_score_time\": 0.004428319931030274, \"std_score_time\": 0.003143735713727952, \"param_kneighborsclassifier__n_neighbors\": 76, \"params\": {\"kneighborsclassifier__n_neighbors\": 76}, \"split0_test_score\": 0.6428571428571429, \"split1_test_score\": 0.6071428571428571, \"split2_test_score\": 0.6071428571428571, \"split3_test_score\": 0.6071428571428571, \"split4_test_score\": 0.6071428571428571, \"split5_test_score\": 0.6428571428571429, \"split6_test_score\": 0.5, \"split7_test_score\": 0.6428571428571429, \"split8_test_score\": 0.6785714285714286, \"split9_test_score\": 0.6071428571428571, \"split10_test_score\": 0.5714285714285714, \"split11_test_score\": 0.6071428571428571, \"split12_test_score\": 0.4642857142857143, \"split13_test_score\": 0.5714285714285714, \"split14_test_score\": 0.5357142857142857, \"split15_test_score\": 0.7142857142857143, \"split16_test_score\": 0.5357142857142857, \"split17_test_score\": 0.5714285714285714, \"split18_test_score\": 0.4642857142857143, \"split19_test_score\": 0.6296296296296297, \"split20_test_score\": 0.7407407407407407, \"split21_test_score\": 0.6296296296296297, \"split22_test_score\": 0.5185185185185185, \"split23_test_score\": 0.5555555555555556, \"split24_test_score\": 0.6296296296296297, \"mean_test_score\": 0.5952910052910053, \"std_test_score\": 0.06726185143562577, \"rank_test_score\": 13}, {\"mean_fit_time\": 0.006156282424926758, \"std_fit_time\": 0.0031836536520473088, \"mean_score_time\": 0.0035693359375, \"std_score_time\": 0.0028718679727001077, \"param_kneighborsclassifier__n_neighbors\": 81, \"params\": {\"kneighborsclassifier__n_neighbors\": 81}, \"split0_test_score\": 0.6428571428571429, \"split1_test_score\": 0.5714285714285714, \"split2_test_score\": 0.6071428571428571, \"split3_test_score\": 0.6071428571428571, \"split4_test_score\": 0.5714285714285714, \"split5_test_score\": 0.6428571428571429, \"split6_test_score\": 0.5, \"split7_test_score\": 0.6428571428571429, \"split8_test_score\": 0.6428571428571429, \"split9_test_score\": 0.5714285714285714, \"split10_test_score\": 0.6071428571428571, \"split11_test_score\": 0.6071428571428571, \"split12_test_score\": 0.4642857142857143, \"split13_test_score\": 0.5714285714285714, \"split14_test_score\": 0.5357142857142857, \"split15_test_score\": 0.6785714285714286, \"split16_test_score\": 0.5357142857142857, \"split17_test_score\": 0.6071428571428571, \"split18_test_score\": 0.4642857142857143, \"split19_test_score\": 0.6296296296296297, \"split20_test_score\": 0.7407407407407407, \"split21_test_score\": 0.6296296296296297, \"split22_test_score\": 0.5555555555555556, \"split23_test_score\": 0.5555555555555556, \"split24_test_score\": 0.6666666666666666, \"mean_test_score\": 0.5939682539682539, \"std_test_score\": 0.06362142905490117, \"rank_test_score\": 14}, {\"mean_fit_time\": 0.0052252197265625, \"std_fit_time\": 0.003276290202305629, \"mean_score_time\": 0.004155406951904297, \"std_score_time\": 0.003194614078129117, \"param_kneighborsclassifier__n_neighbors\": 86, \"params\": {\"kneighborsclassifier__n_neighbors\": 86}, \"split0_test_score\": 0.6428571428571429, \"split1_test_score\": 0.5714285714285714, \"split2_test_score\": 0.6071428571428571, \"split3_test_score\": 0.6428571428571429, \"split4_test_score\": 0.6071428571428571, \"split5_test_score\": 0.6428571428571429, \"split6_test_score\": 0.5, \"split7_test_score\": 0.6428571428571429, \"split8_test_score\": 0.6785714285714286, \"split9_test_score\": 0.5714285714285714, \"split10_test_score\": 0.5714285714285714, \"split11_test_score\": 0.6071428571428571, \"split12_test_score\": 0.4642857142857143, \"split13_test_score\": 0.5714285714285714, \"split14_test_score\": 0.5357142857142857, \"split15_test_score\": 0.6785714285714286, \"split16_test_score\": 0.5357142857142857, \"split17_test_score\": 0.6071428571428571, \"split18_test_score\": 0.4642857142857143, \"split19_test_score\": 0.6296296296296297, \"split20_test_score\": 0.7407407407407407, \"split21_test_score\": 0.6296296296296297, \"split22_test_score\": 0.5555555555555556, \"split23_test_score\": 0.5555555555555556, \"split24_test_score\": 0.6296296296296297, \"mean_test_score\": 0.5953439153439154, \"std_test_score\": 0.06453391240534032, \"rank_test_score\": 12}, {\"mean_fit_time\": 0.0066070556640625, \"std_fit_time\": 0.002687797575216624, \"mean_score_time\": 0.004564304351806641, \"std_score_time\": 0.00289764588926833, \"param_kneighborsclassifier__n_neighbors\": 91, \"params\": {\"kneighborsclassifier__n_neighbors\": 91}, \"split0_test_score\": 0.6428571428571429, \"split1_test_score\": 0.6428571428571429, \"split2_test_score\": 0.6071428571428571, \"split3_test_score\": 0.6785714285714286, \"split4_test_score\": 0.6071428571428571, \"split5_test_score\": 0.6428571428571429, \"split6_test_score\": 0.5357142857142857, \"split7_test_score\": 0.6071428571428571, \"split8_test_score\": 0.6785714285714286, \"split9_test_score\": 0.5714285714285714, \"split10_test_score\": 0.6071428571428571, \"split11_test_score\": 0.6071428571428571, \"split12_test_score\": 0.4642857142857143, \"split13_test_score\": 0.5, \"split14_test_score\": 0.5357142857142857, \"split15_test_score\": 0.6428571428571429, \"split16_test_score\": 0.5357142857142857, \"split17_test_score\": 0.5, \"split18_test_score\": 0.4642857142857143, \"split19_test_score\": 0.6296296296296297, \"split20_test_score\": 0.7407407407407407, \"split21_test_score\": 0.6296296296296297, \"split22_test_score\": 0.5555555555555556, \"split23_test_score\": 0.5925925925925926, \"split24_test_score\": 0.6296296296296297, \"mean_test_score\": 0.5939682539682539, \"std_test_score\": 0.06739802082610646, \"rank_test_score\": 14}, {\"mean_fit_time\": 0.0052881622314453125, \"std_fit_time\": 0.0034744395847959614, \"mean_score_time\": 0.00527618408203125, \"std_score_time\": 0.003203315025510222, \"param_kneighborsclassifier__n_neighbors\": 96, \"params\": {\"kneighborsclassifier__n_neighbors\": 96}, \"split0_test_score\": 0.6428571428571429, \"split1_test_score\": 0.6071428571428571, \"split2_test_score\": 0.6071428571428571, \"split3_test_score\": 0.6785714285714286, \"split4_test_score\": 0.5714285714285714, \"split5_test_score\": 0.6428571428571429, \"split6_test_score\": 0.5357142857142857, \"split7_test_score\": 0.6071428571428571, \"split8_test_score\": 0.6785714285714286, \"split9_test_score\": 0.5714285714285714, \"split10_test_score\": 0.5714285714285714, \"split11_test_score\": 0.6071428571428571, \"split12_test_score\": 0.4642857142857143, \"split13_test_score\": 0.5, \"split14_test_score\": 0.5714285714285714, \"split15_test_score\": 0.6428571428571429, \"split16_test_score\": 0.5357142857142857, \"split17_test_score\": 0.5, \"split18_test_score\": 0.4642857142857143, \"split19_test_score\": 0.6296296296296297, \"split20_test_score\": 0.7407407407407407, \"split21_test_score\": 0.6296296296296297, \"split22_test_score\": 0.5555555555555556, \"split23_test_score\": 0.5925925925925926, \"split24_test_score\": 0.6296296296296297, \"mean_test_score\": 0.5911111111111111, \"std_test_score\": 0.06600761837039426, \"rank_test_score\": 17}]}}, {\"mode\": \"vega-lite\"});\n",
       "</script>"
      ],
      "text/plain": [
       "alt.Chart(...)"
      ]
     },
     "execution_count": 48,
     "metadata": {},
     "output_type": "execute_result"
    }
   ],
   "source": [
    "accuracy_versus_k_grid = alt.Chart(accuracies_grid).mark_line(point=True).encode(\n",
    "    x=alt.X(\"param_kneighborsclassifier__n_neighbors\")\n",
    "        .title(\"neighbors\")\n",
    "        .scale(zero=False),\n",
    "    y=alt.Y(\"mean_test_score\")\n",
    "        .title(\"Mean test score\")\n",
    "        .scale(zero=False)\n",
    ")\n",
    "accuracy_versus_k_grid"
   ]
  },
  {
   "cell_type": "markdown",
   "metadata": {},
   "source": [
    "### Expected outcomes and significance\n",
    "- *What do you expect to find?* \n",
    "  \n",
    "  People with more loans to be categorized in a ‘lower’ category. People with a bigger income, older credit account  age (more credit history) and fewer delayed payments to be in  a better category. Having a mix of credit types - loans/credit cards/mortgages also results in a better score.\n",
    "  \n",
    "- *What impact could such findings have?*\n",
    "  - Helping banks predict whether it is a good idea to issue a new credit card to a new user\n",
    "  - Can influence an individual’s credit limit/interest rate.\n",
    "  - Studying the relation of individual factors with credit score category classification.\n",
    "  \n",
    "- *What future questions could this lead to?* \n",
    "  \n",
    "  How do we evaluate or categorize a new person who has just started working and does not have a long enough credit history. \n"
   ]
  },
  {
   "cell_type": "markdown",
   "metadata": {},
   "source": [
    "### Discussion\n"
   ]
  },
  {
   "cell_type": "markdown",
   "metadata": {},
   "source": [
    "We would a k value of 30 leads the highest accuracy in our model. With the corresponding accuracy being 58%. Since we don't have a small k-value, it is indicative that our model is less prone to overfitting. A very large k-value on the other hand would mean high bias, however, a k-value of 30 treads a fine line between the two. An optimal k-value of 30 also means that our model is fit for larger datasets and will have a smooth decision boundary as it will factor in more neighbours while making a prediction. "
   ]
  }
 ],
 "metadata": {
  "kernelspec": {
   "display_name": "Python 3 (ipykernel)",
   "language": "python",
   "name": "python3"
  },
  "language_info": {
   "codemirror_mode": {
    "name": "ipython",
    "version": 3
   },
   "file_extension": ".py",
   "mimetype": "text/x-python",
   "name": "python",
   "nbconvert_exporter": "python",
   "pygments_lexer": "ipython3",
   "version": "3.10.8"
  }
 },
 "nbformat": 4,
 "nbformat_minor": 4
}
