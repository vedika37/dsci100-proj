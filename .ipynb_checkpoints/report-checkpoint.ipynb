{
 "cells": [
  {
   "cell_type": "markdown",
   "metadata": {},
   "source": [
    "# Group 13 Project Proposal"
   ]
  },
  {
   "cell_type": "code",
   "execution_count": 1,
   "metadata": {
    "tags": []
   },
   "outputs": [
    {
     "name": "stdout",
     "output_type": "stream",
     "text": [
      "Requirement already satisfied: altair in /opt/conda/lib/python3.10/site-packages (5.2.0)\n",
      "Requirement already satisfied: numpy in /opt/conda/lib/python3.10/site-packages (from altair) (1.23.5)\n",
      "Requirement already satisfied: pandas>=0.25 in /opt/conda/lib/python3.10/site-packages (from altair) (1.5.3)\n",
      "Requirement already satisfied: toolz in /opt/conda/lib/python3.10/site-packages (from altair) (0.12.0)\n",
      "Requirement already satisfied: typing-extensions>=4.0.1 in /opt/conda/lib/python3.10/site-packages (from altair) (4.4.0)\n",
      "Requirement already satisfied: packaging in /opt/conda/lib/python3.10/site-packages (from altair) (23.0)\n",
      "Requirement already satisfied: jsonschema>=3.0 in /opt/conda/lib/python3.10/site-packages (from altair) (4.17.3)\n",
      "Requirement already satisfied: jinja2 in /opt/conda/lib/python3.10/site-packages (from altair) (3.1.2)\n",
      "Requirement already satisfied: pyrsistent!=0.17.0,!=0.17.1,!=0.17.2,>=0.14.0 in /opt/conda/lib/python3.10/site-packages (from jsonschema>=3.0->altair) (0.19.3)\n",
      "Requirement already satisfied: attrs>=17.4.0 in /opt/conda/lib/python3.10/site-packages (from jsonschema>=3.0->altair) (22.2.0)\n",
      "Requirement already satisfied: python-dateutil>=2.8.1 in /opt/conda/lib/python3.10/site-packages (from pandas>=0.25->altair) (2.8.2)\n",
      "Requirement already satisfied: pytz>=2020.1 in /opt/conda/lib/python3.10/site-packages (from pandas>=0.25->altair) (2022.7.1)\n",
      "Requirement already satisfied: MarkupSafe>=2.0 in /opt/conda/lib/python3.10/site-packages (from jinja2->altair) (2.1.2)\n",
      "Requirement already satisfied: six>=1.5 in /opt/conda/lib/python3.10/site-packages (from python-dateutil>=2.8.1->pandas>=0.25->altair) (1.16.0)\n",
      "Note: you may need to restart the kernel to use updated packages.\n"
     ]
    }
   ],
   "source": [
    "pip install -U altair"
   ]
  },
  {
   "cell_type": "markdown",
   "metadata": {},
   "source": [
    "\n",
    "**Title: Credit Score Classification**\n",
    "\n",
    "https://www.kaggle.com/datasets/parisrohan/credit-score-classification/data \n",
    "\n",
    "\n",
    "**Introduction:**\n",
    "A credit report is a summary of a person’s credit history and is created when you borrow money or apply for a credit card. A credit score is a 3 digit number calculated based on your credit report that summarizes how well you manage your credit and how risky it would be for someone to lend you money. The higher credit score the better your rating is.\n",
    "\n",
    "\n",
    "A credit score is calculated based on a few different factors such as:\n",
    "- a person's anual income\n",
    "- the number of credit cards they have\n",
    "- the number of loans they have\n",
    "- their credit card payment history\n",
    "- how old their credit is\n",
    "and more\n",
    "\n",
    "\n",
    "\n",
    "\n",
    "**The Question we aim to answer:** Can we classify someone’s credit score based on certain banking history and financial traits (shown above)?\n",
    "\n",
    "**Dataset description:** The dataset contains the bank and credit-related information of many individuals that have been amassed by a global finance company. It contains 27 columns of these information such as bank account history, loans, debt and EMI along with the number of credit cards a person has and their credit card payment history\n"
   ]
  },
  {
   "cell_type": "code",
   "execution_count": 2,
   "metadata": {
    "tags": []
   },
   "outputs": [],
   "source": [
    "import random\n",
    "import altair as alt\n",
    "import pandas as pd\n",
    "import numpy as np\n",
    "from sklearn import set_config\n",
    "from sklearn.compose import make_column_transformer\n",
    "from sklearn.metrics.pairwise import euclidean_distances\n",
    "from sklearn.neighbors import KNeighborsClassifier\n",
    "from sklearn.pipeline import make_pipeline\n",
    "from sklearn.preprocessing import OneHotEncoder, StandardScaler\n",
    "from sklearn.metrics import confusion_matrix\n",
    "from sklearn.model_selection import GridSearchCV, cross_validate\n",
    "\n",
    "np.random.seed(999) # setting the seed"
   ]
  },
  {
   "cell_type": "markdown",
   "metadata": {},
   "source": [
    "### Reading the data from a URL"
   ]
  },
  {
   "cell_type": "code",
   "execution_count": 3,
   "metadata": {
    "tags": []
   },
   "outputs": [],
   "source": [
    "url_credit = \"https://raw.githubusercontent.com/vedika37/dsci100-proj/main/train.csv\"\n",
    "credit = pd.read_csv(url_credit,sep = \",\", low_memory=False)"
   ]
  },
  {
   "cell_type": "markdown",
   "metadata": {},
   "source": [
    "### Cleaning Data "
   ]
  },
  {
   "cell_type": "code",
   "execution_count": 4,
   "metadata": {
    "tags": []
   },
   "outputs": [
    {
     "data": {
      "text/html": [
       "<div>\n",
       "<style scoped>\n",
       "    .dataframe tbody tr th:only-of-type {\n",
       "        vertical-align: middle;\n",
       "    }\n",
       "\n",
       "    .dataframe tbody tr th {\n",
       "        vertical-align: top;\n",
       "    }\n",
       "\n",
       "    .dataframe thead th {\n",
       "        text-align: right;\n",
       "    }\n",
       "</style>\n",
       "<table border=\"1\" class=\"dataframe\">\n",
       "  <thead>\n",
       "    <tr style=\"text-align: right;\">\n",
       "      <th></th>\n",
       "      <th>Delay_from_due_date</th>\n",
       "      <th>Num_of_Delayed_Payment</th>\n",
       "      <th>Credit_Utilization_Ratio</th>\n",
       "      <th>Credit_History_Age</th>\n",
       "      <th>Credit_Score</th>\n",
       "    </tr>\n",
       "  </thead>\n",
       "  <tbody>\n",
       "    <tr>\n",
       "      <th>0</th>\n",
       "      <td>3</td>\n",
       "      <td>7</td>\n",
       "      <td>26.822620</td>\n",
       "      <td>22 Years and 1 Months</td>\n",
       "      <td>Good</td>\n",
       "    </tr>\n",
       "    <tr>\n",
       "      <th>2</th>\n",
       "      <td>3</td>\n",
       "      <td>7</td>\n",
       "      <td>28.609352</td>\n",
       "      <td>22 Years and 3 Months</td>\n",
       "      <td>Good</td>\n",
       "    </tr>\n",
       "    <tr>\n",
       "      <th>3</th>\n",
       "      <td>5</td>\n",
       "      <td>4</td>\n",
       "      <td>31.377862</td>\n",
       "      <td>22 Years and 4 Months</td>\n",
       "      <td>Good</td>\n",
       "    </tr>\n",
       "    <tr>\n",
       "      <th>5</th>\n",
       "      <td>8</td>\n",
       "      <td>4</td>\n",
       "      <td>27.262259</td>\n",
       "      <td>22 Years and 6 Months</td>\n",
       "      <td>Good</td>\n",
       "    </tr>\n",
       "    <tr>\n",
       "      <th>6</th>\n",
       "      <td>3</td>\n",
       "      <td>8_</td>\n",
       "      <td>22.537593</td>\n",
       "      <td>22 Years and 7 Months</td>\n",
       "      <td>Good</td>\n",
       "    </tr>\n",
       "    <tr>\n",
       "      <th>...</th>\n",
       "      <td>...</td>\n",
       "      <td>...</td>\n",
       "      <td>...</td>\n",
       "      <td>...</td>\n",
       "      <td>...</td>\n",
       "    </tr>\n",
       "    <tr>\n",
       "      <th>99994</th>\n",
       "      <td>20</td>\n",
       "      <td>6</td>\n",
       "      <td>39.323569</td>\n",
       "      <td>31 Years and 5 Months</td>\n",
       "      <td>Poor</td>\n",
       "    </tr>\n",
       "    <tr>\n",
       "      <th>99995</th>\n",
       "      <td>23</td>\n",
       "      <td>7</td>\n",
       "      <td>34.663572</td>\n",
       "      <td>31 Years and 6 Months</td>\n",
       "      <td>Poor</td>\n",
       "    </tr>\n",
       "    <tr>\n",
       "      <th>99996</th>\n",
       "      <td>18</td>\n",
       "      <td>7</td>\n",
       "      <td>40.565631</td>\n",
       "      <td>31 Years and 7 Months</td>\n",
       "      <td>Poor</td>\n",
       "    </tr>\n",
       "    <tr>\n",
       "      <th>99997</th>\n",
       "      <td>27</td>\n",
       "      <td>6</td>\n",
       "      <td>41.255522</td>\n",
       "      <td>31 Years and 8 Months</td>\n",
       "      <td>Poor</td>\n",
       "    </tr>\n",
       "    <tr>\n",
       "      <th>99999</th>\n",
       "      <td>18</td>\n",
       "      <td>6</td>\n",
       "      <td>34.192463</td>\n",
       "      <td>31 Years and 10 Months</td>\n",
       "      <td>Poor</td>\n",
       "    </tr>\n",
       "  </tbody>\n",
       "</table>\n",
       "<p>84617 rows × 5 columns</p>\n",
       "</div>"
      ],
      "text/plain": [
       "       Delay_from_due_date Num_of_Delayed_Payment  Credit_Utilization_Ratio  \\\n",
       "0                        3                      7                 26.822620   \n",
       "2                        3                      7                 28.609352   \n",
       "3                        5                      4                 31.377862   \n",
       "5                        8                      4                 27.262259   \n",
       "6                        3                     8_                 22.537593   \n",
       "...                    ...                    ...                       ...   \n",
       "99994                   20                      6                 39.323569   \n",
       "99995                   23                      7                 34.663572   \n",
       "99996                   18                      7                 40.565631   \n",
       "99997                   27                      6                 41.255522   \n",
       "99999                   18                      6                 34.192463   \n",
       "\n",
       "           Credit_History_Age Credit_Score  \n",
       "0       22 Years and 1 Months         Good  \n",
       "2       22 Years and 3 Months         Good  \n",
       "3       22 Years and 4 Months         Good  \n",
       "5       22 Years and 6 Months         Good  \n",
       "6       22 Years and 7 Months         Good  \n",
       "...                       ...          ...  \n",
       "99994   31 Years and 5 Months         Poor  \n",
       "99995   31 Years and 6 Months         Poor  \n",
       "99996   31 Years and 7 Months         Poor  \n",
       "99997   31 Years and 8 Months         Poor  \n",
       "99999  31 Years and 10 Months         Poor  \n",
       "\n",
       "[84617 rows x 5 columns]"
      ]
     },
     "execution_count": 4,
     "metadata": {},
     "output_type": "execute_result"
    }
   ],
   "source": [
    "# dropping null values and columns not used in analysis\n",
    "\n",
    "# Predictors:\n",
    "\n",
    "# - number of delayed payments \n",
    "# - delay from due date \n",
    "# - Credit_Utilization_Ratio\n",
    "# - credit history age\n",
    "\n",
    "\n",
    "\n",
    "credit = credit[['Delay_from_due_date', 'Num_of_Delayed_Payment', 'Credit_Utilization_Ratio','Credit_History_Age','Credit_Score']]\n",
    "credit = credit.dropna()\n",
    "credit"
   ]
  },
  {
   "cell_type": "code",
   "execution_count": 5,
   "metadata": {
    "tags": []
   },
   "outputs": [
    {
     "data": {
      "text/plain": [
       "array(['Good', 'Standard', 'Poor'], dtype=object)"
      ]
     },
     "execution_count": 5,
     "metadata": {},
     "output_type": "execute_result"
    }
   ],
   "source": [
    "credit[\"Credit_Score\"].unique()"
   ]
  },
  {
   "cell_type": "code",
   "execution_count": 6,
   "metadata": {
    "tags": []
   },
   "outputs": [
    {
     "data": {
      "text/html": [
       "<div>\n",
       "<style scoped>\n",
       "    .dataframe tbody tr th:only-of-type {\n",
       "        vertical-align: middle;\n",
       "    }\n",
       "\n",
       "    .dataframe tbody tr th {\n",
       "        vertical-align: top;\n",
       "    }\n",
       "\n",
       "    .dataframe thead th {\n",
       "        text-align: right;\n",
       "    }\n",
       "</style>\n",
       "<table border=\"1\" class=\"dataframe\">\n",
       "  <thead>\n",
       "    <tr style=\"text-align: right;\">\n",
       "      <th></th>\n",
       "      <th>Delay_from_due_date</th>\n",
       "      <th>Num_of_Delayed_Payment</th>\n",
       "      <th>Credit_Utilization_Ratio</th>\n",
       "      <th>Credit_History_Age</th>\n",
       "      <th>Credit_Score</th>\n",
       "    </tr>\n",
       "  </thead>\n",
       "  <tbody>\n",
       "    <tr>\n",
       "      <th>0</th>\n",
       "      <td>3</td>\n",
       "      <td>7</td>\n",
       "      <td>26.822620</td>\n",
       "      <td>22 Years and 1 Months</td>\n",
       "      <td>Good</td>\n",
       "    </tr>\n",
       "    <tr>\n",
       "      <th>2</th>\n",
       "      <td>3</td>\n",
       "      <td>7</td>\n",
       "      <td>28.609352</td>\n",
       "      <td>22 Years and 3 Months</td>\n",
       "      <td>Good</td>\n",
       "    </tr>\n",
       "    <tr>\n",
       "      <th>3</th>\n",
       "      <td>5</td>\n",
       "      <td>4</td>\n",
       "      <td>31.377862</td>\n",
       "      <td>22 Years and 4 Months</td>\n",
       "      <td>Good</td>\n",
       "    </tr>\n",
       "    <tr>\n",
       "      <th>5</th>\n",
       "      <td>8</td>\n",
       "      <td>4</td>\n",
       "      <td>27.262259</td>\n",
       "      <td>22 Years and 6 Months</td>\n",
       "      <td>Good</td>\n",
       "    </tr>\n",
       "    <tr>\n",
       "      <th>8</th>\n",
       "      <td>3</td>\n",
       "      <td>4</td>\n",
       "      <td>24.464031</td>\n",
       "      <td>26 Years and 7 Months</td>\n",
       "      <td>Standard</td>\n",
       "    </tr>\n",
       "    <tr>\n",
       "      <th>...</th>\n",
       "      <td>...</td>\n",
       "      <td>...</td>\n",
       "      <td>...</td>\n",
       "      <td>...</td>\n",
       "      <td>...</td>\n",
       "    </tr>\n",
       "    <tr>\n",
       "      <th>99994</th>\n",
       "      <td>20</td>\n",
       "      <td>6</td>\n",
       "      <td>39.323569</td>\n",
       "      <td>31 Years and 5 Months</td>\n",
       "      <td>Poor</td>\n",
       "    </tr>\n",
       "    <tr>\n",
       "      <th>99995</th>\n",
       "      <td>23</td>\n",
       "      <td>7</td>\n",
       "      <td>34.663572</td>\n",
       "      <td>31 Years and 6 Months</td>\n",
       "      <td>Poor</td>\n",
       "    </tr>\n",
       "    <tr>\n",
       "      <th>99996</th>\n",
       "      <td>18</td>\n",
       "      <td>7</td>\n",
       "      <td>40.565631</td>\n",
       "      <td>31 Years and 7 Months</td>\n",
       "      <td>Poor</td>\n",
       "    </tr>\n",
       "    <tr>\n",
       "      <th>99997</th>\n",
       "      <td>27</td>\n",
       "      <td>6</td>\n",
       "      <td>41.255522</td>\n",
       "      <td>31 Years and 8 Months</td>\n",
       "      <td>Poor</td>\n",
       "    </tr>\n",
       "    <tr>\n",
       "      <th>99999</th>\n",
       "      <td>18</td>\n",
       "      <td>6</td>\n",
       "      <td>34.192463</td>\n",
       "      <td>31 Years and 10 Months</td>\n",
       "      <td>Poor</td>\n",
       "    </tr>\n",
       "  </tbody>\n",
       "</table>\n",
       "<p>81549 rows × 5 columns</p>\n",
       "</div>"
      ],
      "text/plain": [
       "       Delay_from_due_date Num_of_Delayed_Payment  Credit_Utilization_Ratio  \\\n",
       "0                        3                      7                 26.822620   \n",
       "2                        3                      7                 28.609352   \n",
       "3                        5                      4                 31.377862   \n",
       "5                        8                      4                 27.262259   \n",
       "8                        3                      4                 24.464031   \n",
       "...                    ...                    ...                       ...   \n",
       "99994                   20                      6                 39.323569   \n",
       "99995                   23                      7                 34.663572   \n",
       "99996                   18                      7                 40.565631   \n",
       "99997                   27                      6                 41.255522   \n",
       "99999                   18                      6                 34.192463   \n",
       "\n",
       "           Credit_History_Age Credit_Score  \n",
       "0       22 Years and 1 Months         Good  \n",
       "2       22 Years and 3 Months         Good  \n",
       "3       22 Years and 4 Months         Good  \n",
       "5       22 Years and 6 Months         Good  \n",
       "8       26 Years and 7 Months     Standard  \n",
       "...                       ...          ...  \n",
       "99994   31 Years and 5 Months         Poor  \n",
       "99995   31 Years and 6 Months         Poor  \n",
       "99996   31 Years and 7 Months         Poor  \n",
       "99997   31 Years and 8 Months         Poor  \n",
       "99999  31 Years and 10 Months         Poor  \n",
       "\n",
       "[81549 rows x 5 columns]"
      ]
     },
     "execution_count": 6,
     "metadata": {},
     "output_type": "execute_result"
    }
   ],
   "source": [
    "credit = credit[credit['Num_of_Delayed_Payment'].str.isdigit()]\n",
    "credit"
   ]
  },
  {
   "cell_type": "code",
   "execution_count": 7,
   "metadata": {
    "tags": []
   },
   "outputs": [
    {
     "data": {
      "text/html": [
       "<div>\n",
       "<style scoped>\n",
       "    .dataframe tbody tr th:only-of-type {\n",
       "        vertical-align: middle;\n",
       "    }\n",
       "\n",
       "    .dataframe tbody tr th {\n",
       "        vertical-align: top;\n",
       "    }\n",
       "\n",
       "    .dataframe thead th {\n",
       "        text-align: right;\n",
       "    }\n",
       "</style>\n",
       "<table border=\"1\" class=\"dataframe\">\n",
       "  <thead>\n",
       "    <tr style=\"text-align: right;\">\n",
       "      <th></th>\n",
       "      <th>Delay_from_due_date</th>\n",
       "      <th>Num_of_Delayed_Payment</th>\n",
       "      <th>Credit_Utilization_Ratio</th>\n",
       "      <th>Credit_History_Age</th>\n",
       "      <th>Credit_Score</th>\n",
       "    </tr>\n",
       "  </thead>\n",
       "  <tbody>\n",
       "    <tr>\n",
       "      <th>0</th>\n",
       "      <td>3</td>\n",
       "      <td>7</td>\n",
       "      <td>26.822620</td>\n",
       "      <td>22 Years and 1 Months</td>\n",
       "      <td>Good</td>\n",
       "    </tr>\n",
       "    <tr>\n",
       "      <th>2</th>\n",
       "      <td>3</td>\n",
       "      <td>7</td>\n",
       "      <td>28.609352</td>\n",
       "      <td>22 Years and 3 Months</td>\n",
       "      <td>Good</td>\n",
       "    </tr>\n",
       "    <tr>\n",
       "      <th>3</th>\n",
       "      <td>5</td>\n",
       "      <td>4</td>\n",
       "      <td>31.377862</td>\n",
       "      <td>22 Years and 4 Months</td>\n",
       "      <td>Good</td>\n",
       "    </tr>\n",
       "    <tr>\n",
       "      <th>5</th>\n",
       "      <td>8</td>\n",
       "      <td>4</td>\n",
       "      <td>27.262259</td>\n",
       "      <td>22 Years and 6 Months</td>\n",
       "      <td>Good</td>\n",
       "    </tr>\n",
       "    <tr>\n",
       "      <th>8</th>\n",
       "      <td>3</td>\n",
       "      <td>4</td>\n",
       "      <td>24.464031</td>\n",
       "      <td>26 Years and 7 Months</td>\n",
       "      <td>Standard</td>\n",
       "    </tr>\n",
       "    <tr>\n",
       "      <th>...</th>\n",
       "      <td>...</td>\n",
       "      <td>...</td>\n",
       "      <td>...</td>\n",
       "      <td>...</td>\n",
       "      <td>...</td>\n",
       "    </tr>\n",
       "    <tr>\n",
       "      <th>99994</th>\n",
       "      <td>20</td>\n",
       "      <td>6</td>\n",
       "      <td>39.323569</td>\n",
       "      <td>31 Years and 5 Months</td>\n",
       "      <td>Poor</td>\n",
       "    </tr>\n",
       "    <tr>\n",
       "      <th>99995</th>\n",
       "      <td>23</td>\n",
       "      <td>7</td>\n",
       "      <td>34.663572</td>\n",
       "      <td>31 Years and 6 Months</td>\n",
       "      <td>Poor</td>\n",
       "    </tr>\n",
       "    <tr>\n",
       "      <th>99996</th>\n",
       "      <td>18</td>\n",
       "      <td>7</td>\n",
       "      <td>40.565631</td>\n",
       "      <td>31 Years and 7 Months</td>\n",
       "      <td>Poor</td>\n",
       "    </tr>\n",
       "    <tr>\n",
       "      <th>99997</th>\n",
       "      <td>27</td>\n",
       "      <td>6</td>\n",
       "      <td>41.255522</td>\n",
       "      <td>31 Years and 8 Months</td>\n",
       "      <td>Poor</td>\n",
       "    </tr>\n",
       "    <tr>\n",
       "      <th>99999</th>\n",
       "      <td>18</td>\n",
       "      <td>6</td>\n",
       "      <td>34.192463</td>\n",
       "      <td>31 Years and 10 Months</td>\n",
       "      <td>Poor</td>\n",
       "    </tr>\n",
       "  </tbody>\n",
       "</table>\n",
       "<p>81549 rows × 5 columns</p>\n",
       "</div>"
      ],
      "text/plain": [
       "       Delay_from_due_date  Num_of_Delayed_Payment  Credit_Utilization_Ratio  \\\n",
       "0                        3                       7                 26.822620   \n",
       "2                        3                       7                 28.609352   \n",
       "3                        5                       4                 31.377862   \n",
       "5                        8                       4                 27.262259   \n",
       "8                        3                       4                 24.464031   \n",
       "...                    ...                     ...                       ...   \n",
       "99994                   20                       6                 39.323569   \n",
       "99995                   23                       7                 34.663572   \n",
       "99996                   18                       7                 40.565631   \n",
       "99997                   27                       6                 41.255522   \n",
       "99999                   18                       6                 34.192463   \n",
       "\n",
       "           Credit_History_Age Credit_Score  \n",
       "0       22 Years and 1 Months         Good  \n",
       "2       22 Years and 3 Months         Good  \n",
       "3       22 Years and 4 Months         Good  \n",
       "5       22 Years and 6 Months         Good  \n",
       "8       26 Years and 7 Months     Standard  \n",
       "...                       ...          ...  \n",
       "99994   31 Years and 5 Months         Poor  \n",
       "99995   31 Years and 6 Months         Poor  \n",
       "99996   31 Years and 7 Months         Poor  \n",
       "99997   31 Years and 8 Months         Poor  \n",
       "99999  31 Years and 10 Months         Poor  \n",
       "\n",
       "[81549 rows x 5 columns]"
      ]
     },
     "execution_count": 7,
     "metadata": {},
     "output_type": "execute_result"
    }
   ],
   "source": [
    "credit= credit.astype({'Num_of_Delayed_Payment': int})\n",
    "credit\n"
   ]
  },
  {
   "cell_type": "code",
   "execution_count": 8,
   "metadata": {
    "tags": []
   },
   "outputs": [
    {
     "data": {
      "text/html": [
       "<div>\n",
       "<style scoped>\n",
       "    .dataframe tbody tr th:only-of-type {\n",
       "        vertical-align: middle;\n",
       "    }\n",
       "\n",
       "    .dataframe tbody tr th {\n",
       "        vertical-align: top;\n",
       "    }\n",
       "\n",
       "    .dataframe thead th {\n",
       "        text-align: right;\n",
       "    }\n",
       "</style>\n",
       "<table border=\"1\" class=\"dataframe\">\n",
       "  <thead>\n",
       "    <tr style=\"text-align: right;\">\n",
       "      <th></th>\n",
       "      <th>Delay_from_due_date</th>\n",
       "      <th>Num_of_Delayed_Payment</th>\n",
       "      <th>Credit_Utilization_Ratio</th>\n",
       "      <th>Credit_History_Age</th>\n",
       "      <th>Credit_Score</th>\n",
       "    </tr>\n",
       "  </thead>\n",
       "  <tbody>\n",
       "    <tr>\n",
       "      <th>0</th>\n",
       "      <td>3</td>\n",
       "      <td>7</td>\n",
       "      <td>26.822620</td>\n",
       "      <td>22</td>\n",
       "      <td>Good</td>\n",
       "    </tr>\n",
       "    <tr>\n",
       "      <th>2</th>\n",
       "      <td>3</td>\n",
       "      <td>7</td>\n",
       "      <td>28.609352</td>\n",
       "      <td>22</td>\n",
       "      <td>Good</td>\n",
       "    </tr>\n",
       "    <tr>\n",
       "      <th>3</th>\n",
       "      <td>5</td>\n",
       "      <td>4</td>\n",
       "      <td>31.377862</td>\n",
       "      <td>22</td>\n",
       "      <td>Good</td>\n",
       "    </tr>\n",
       "    <tr>\n",
       "      <th>5</th>\n",
       "      <td>8</td>\n",
       "      <td>4</td>\n",
       "      <td>27.262259</td>\n",
       "      <td>22</td>\n",
       "      <td>Good</td>\n",
       "    </tr>\n",
       "    <tr>\n",
       "      <th>8</th>\n",
       "      <td>3</td>\n",
       "      <td>4</td>\n",
       "      <td>24.464031</td>\n",
       "      <td>26</td>\n",
       "      <td>Standard</td>\n",
       "    </tr>\n",
       "    <tr>\n",
       "      <th>...</th>\n",
       "      <td>...</td>\n",
       "      <td>...</td>\n",
       "      <td>...</td>\n",
       "      <td>...</td>\n",
       "      <td>...</td>\n",
       "    </tr>\n",
       "    <tr>\n",
       "      <th>99994</th>\n",
       "      <td>20</td>\n",
       "      <td>6</td>\n",
       "      <td>39.323569</td>\n",
       "      <td>31</td>\n",
       "      <td>Poor</td>\n",
       "    </tr>\n",
       "    <tr>\n",
       "      <th>99995</th>\n",
       "      <td>23</td>\n",
       "      <td>7</td>\n",
       "      <td>34.663572</td>\n",
       "      <td>31</td>\n",
       "      <td>Poor</td>\n",
       "    </tr>\n",
       "    <tr>\n",
       "      <th>99996</th>\n",
       "      <td>18</td>\n",
       "      <td>7</td>\n",
       "      <td>40.565631</td>\n",
       "      <td>31</td>\n",
       "      <td>Poor</td>\n",
       "    </tr>\n",
       "    <tr>\n",
       "      <th>99997</th>\n",
       "      <td>27</td>\n",
       "      <td>6</td>\n",
       "      <td>41.255522</td>\n",
       "      <td>31</td>\n",
       "      <td>Poor</td>\n",
       "    </tr>\n",
       "    <tr>\n",
       "      <th>99999</th>\n",
       "      <td>18</td>\n",
       "      <td>6</td>\n",
       "      <td>34.192463</td>\n",
       "      <td>31</td>\n",
       "      <td>Poor</td>\n",
       "    </tr>\n",
       "  </tbody>\n",
       "</table>\n",
       "<p>81549 rows × 5 columns</p>\n",
       "</div>"
      ],
      "text/plain": [
       "       Delay_from_due_date  Num_of_Delayed_Payment  Credit_Utilization_Ratio  \\\n",
       "0                        3                       7                 26.822620   \n",
       "2                        3                       7                 28.609352   \n",
       "3                        5                       4                 31.377862   \n",
       "5                        8                       4                 27.262259   \n",
       "8                        3                       4                 24.464031   \n",
       "...                    ...                     ...                       ...   \n",
       "99994                   20                       6                 39.323569   \n",
       "99995                   23                       7                 34.663572   \n",
       "99996                   18                       7                 40.565631   \n",
       "99997                   27                       6                 41.255522   \n",
       "99999                   18                       6                 34.192463   \n",
       "\n",
       "      Credit_History_Age Credit_Score  \n",
       "0                     22         Good  \n",
       "2                     22         Good  \n",
       "3                     22         Good  \n",
       "5                     22         Good  \n",
       "8                     26     Standard  \n",
       "...                  ...          ...  \n",
       "99994                 31         Poor  \n",
       "99995                 31         Poor  \n",
       "99996                 31         Poor  \n",
       "99997                 31         Poor  \n",
       "99999                 31         Poor  \n",
       "\n",
       "[81549 rows x 5 columns]"
      ]
     },
     "execution_count": 8,
     "metadata": {},
     "output_type": "execute_result"
    }
   ],
   "source": [
    "credit['Credit_History_Age'] = credit['Credit_History_Age'].str.split(\" \").str[0]\n",
    "credit"
   ]
  },
  {
   "cell_type": "code",
   "execution_count": 9,
   "metadata": {
    "tags": []
   },
   "outputs": [
    {
     "data": {
      "text/plain": [
       "Delay_from_due_date           int64\n",
       "Num_of_Delayed_Payment        int64\n",
       "Credit_Utilization_Ratio    float64\n",
       "Credit_History_Age            int64\n",
       "Credit_Score                 object\n",
       "dtype: object"
      ]
     },
     "execution_count": 9,
     "metadata": {},
     "output_type": "execute_result"
    }
   ],
   "source": [
    "credit = credit.astype({'Credit_History_Age': int})\n",
    "credit.dtypes"
   ]
  },
  {
   "cell_type": "markdown",
   "metadata": {},
   "source": [
    "### Summarizing Data"
   ]
  },
  {
   "cell_type": "code",
   "execution_count": 10,
   "metadata": {
    "tags": []
   },
   "outputs": [
    {
     "data": {
      "text/plain": [
       "Delay_from_due_date           int64\n",
       "Num_of_Delayed_Payment        int64\n",
       "Credit_Utilization_Ratio    float64\n",
       "Credit_History_Age            int64\n",
       "Credit_Score                 object\n",
       "dtype: object"
      ]
     },
     "execution_count": 10,
     "metadata": {},
     "output_type": "execute_result"
    }
   ],
   "source": [
    "# each column along with its datatype\n",
    "credit.dtypes"
   ]
  },
  {
   "cell_type": "code",
   "execution_count": 11,
   "metadata": {
    "tags": []
   },
   "outputs": [
    {
     "name": "stdout",
     "output_type": "stream",
     "text": [
      "<class 'pandas.core.frame.DataFrame'>\n",
      "Int64Index: 81549 entries, 0 to 99999\n",
      "Data columns (total 5 columns):\n",
      " #   Column                    Non-Null Count  Dtype  \n",
      "---  ------                    --------------  -----  \n",
      " 0   Delay_from_due_date       81549 non-null  int64  \n",
      " 1   Num_of_Delayed_Payment    81549 non-null  int64  \n",
      " 2   Credit_Utilization_Ratio  81549 non-null  float64\n",
      " 3   Credit_History_Age        81549 non-null  int64  \n",
      " 4   Credit_Score              81549 non-null  object \n",
      "dtypes: float64(1), int64(3), object(1)\n",
      "memory usage: 3.7+ MB\n"
     ]
    }
   ],
   "source": [
    "credit.info()"
   ]
  },
  {
   "cell_type": "code",
   "execution_count": 12,
   "metadata": {
    "tags": []
   },
   "outputs": [
    {
     "data": {
      "text/html": [
       "<div>\n",
       "<style scoped>\n",
       "    .dataframe tbody tr th:only-of-type {\n",
       "        vertical-align: middle;\n",
       "    }\n",
       "\n",
       "    .dataframe tbody tr th {\n",
       "        vertical-align: top;\n",
       "    }\n",
       "\n",
       "    .dataframe thead th {\n",
       "        text-align: right;\n",
       "    }\n",
       "</style>\n",
       "<table border=\"1\" class=\"dataframe\">\n",
       "  <thead>\n",
       "    <tr style=\"text-align: right;\">\n",
       "      <th></th>\n",
       "      <th>Delay_from_due_date</th>\n",
       "      <th>Num_of_Delayed_Payment</th>\n",
       "      <th>Credit_Utilization_Ratio</th>\n",
       "      <th>Credit_History_Age</th>\n",
       "    </tr>\n",
       "  </thead>\n",
       "  <tbody>\n",
       "    <tr>\n",
       "      <th>count</th>\n",
       "      <td>81549.000000</td>\n",
       "      <td>81549.000000</td>\n",
       "      <td>81549.000000</td>\n",
       "      <td>81549.000000</td>\n",
       "    </tr>\n",
       "    <tr>\n",
       "      <th>mean</th>\n",
       "      <td>21.180162</td>\n",
       "      <td>31.155796</td>\n",
       "      <td>32.297847</td>\n",
       "      <td>17.919815</td>\n",
       "    </tr>\n",
       "    <tr>\n",
       "      <th>std</th>\n",
       "      <td>14.883628</td>\n",
       "      <td>226.908684</td>\n",
       "      <td>5.115680</td>\n",
       "      <td>8.321895</td>\n",
       "    </tr>\n",
       "    <tr>\n",
       "      <th>min</th>\n",
       "      <td>-5.000000</td>\n",
       "      <td>0.000000</td>\n",
       "      <td>20.172942</td>\n",
       "      <td>0.000000</td>\n",
       "    </tr>\n",
       "    <tr>\n",
       "      <th>25%</th>\n",
       "      <td>10.000000</td>\n",
       "      <td>9.000000</td>\n",
       "      <td>28.072546</td>\n",
       "      <td>12.000000</td>\n",
       "    </tr>\n",
       "    <tr>\n",
       "      <th>50%</th>\n",
       "      <td>18.000000</td>\n",
       "      <td>14.000000</td>\n",
       "      <td>32.326517</td>\n",
       "      <td>18.000000</td>\n",
       "    </tr>\n",
       "    <tr>\n",
       "      <th>75%</th>\n",
       "      <td>28.000000</td>\n",
       "      <td>18.000000</td>\n",
       "      <td>36.505576</td>\n",
       "      <td>25.000000</td>\n",
       "    </tr>\n",
       "    <tr>\n",
       "      <th>max</th>\n",
       "      <td>67.000000</td>\n",
       "      <td>4397.000000</td>\n",
       "      <td>50.000000</td>\n",
       "      <td>33.000000</td>\n",
       "    </tr>\n",
       "  </tbody>\n",
       "</table>\n",
       "</div>"
      ],
      "text/plain": [
       "       Delay_from_due_date  Num_of_Delayed_Payment  Credit_Utilization_Ratio  \\\n",
       "count         81549.000000            81549.000000              81549.000000   \n",
       "mean             21.180162               31.155796                 32.297847   \n",
       "std              14.883628              226.908684                  5.115680   \n",
       "min              -5.000000                0.000000                 20.172942   \n",
       "25%              10.000000                9.000000                 28.072546   \n",
       "50%              18.000000               14.000000                 32.326517   \n",
       "75%              28.000000               18.000000                 36.505576   \n",
       "max              67.000000             4397.000000                 50.000000   \n",
       "\n",
       "       Credit_History_Age  \n",
       "count        81549.000000  \n",
       "mean            17.919815  \n",
       "std              8.321895  \n",
       "min              0.000000  \n",
       "25%             12.000000  \n",
       "50%             18.000000  \n",
       "75%             25.000000  \n",
       "max             33.000000  "
      ]
     },
     "execution_count": 12,
     "metadata": {},
     "output_type": "execute_result"
    }
   ],
   "source": [
    "# generating descriptive statistics for numeric and 'object' type columns\n",
    "credit.describe()"
   ]
  },
  {
   "cell_type": "markdown",
   "metadata": {},
   "source": [
    "### Taking a Random Sample\n",
    "Since our current dataset has 81549 values, it is too  large to perform "
   ]
  },
  {
   "cell_type": "code",
   "execution_count": 13,
   "metadata": {
    "tags": []
   },
   "outputs": [
    {
     "data": {
      "text/plain": [
       "Standard    0.532318\n",
       "Poor        0.292058\n",
       "Good        0.175624\n",
       "Name: Credit_Score, dtype: float64"
      ]
     },
     "execution_count": 13,
     "metadata": {},
     "output_type": "execute_result"
    }
   ],
   "source": [
    "credit['Credit_Score'].value_counts(normalize=True)"
   ]
  },
  {
   "cell_type": "code",
   "execution_count": 14,
   "metadata": {
    "tags": []
   },
   "outputs": [
    {
     "data": {
      "text/plain": [
       "Standard    0.533\n",
       "Poor        0.291\n",
       "Good        0.176\n",
       "Name: Credit_Score, dtype: float64"
      ]
     },
     "execution_count": 14,
     "metadata": {},
     "output_type": "execute_result"
    }
   ],
   "source": [
    "credit_sample = credit.sample(n = 1000)\n",
    "credit_sample['Credit_Score'].value_counts(normalize=True)"
   ]
  },
  {
   "cell_type": "markdown",
   "metadata": {},
   "source": [
    "TODO: acknowledge limitations with taking a sample and how representative it is of the data"
   ]
  },
  {
   "cell_type": "markdown",
   "metadata": {},
   "source": [
    "### Train - Test Split "
   ]
  },
  {
   "cell_type": "code",
   "execution_count": 15,
   "metadata": {
    "tags": []
   },
   "outputs": [
    {
     "name": "stdout",
     "output_type": "stream",
     "text": [
      "<class 'pandas.core.frame.DataFrame'>\n",
      "Int64Index: 750 entries, 99462 to 31719\n",
      "Data columns (total 5 columns):\n",
      " #   Column                    Non-Null Count  Dtype  \n",
      "---  ------                    --------------  -----  \n",
      " 0   Delay_from_due_date       750 non-null    int64  \n",
      " 1   Num_of_Delayed_Payment    750 non-null    int64  \n",
      " 2   Credit_Utilization_Ratio  750 non-null    float64\n",
      " 3   Credit_History_Age        750 non-null    int64  \n",
      " 4   Credit_Score              750 non-null    object \n",
      "dtypes: float64(1), int64(3), object(1)\n",
      "memory usage: 35.2+ KB\n",
      "None\n",
      "<class 'pandas.core.frame.DataFrame'>\n",
      "Int64Index: 250 entries, 91484 to 5919\n",
      "Data columns (total 5 columns):\n",
      " #   Column                    Non-Null Count  Dtype  \n",
      "---  ------                    --------------  -----  \n",
      " 0   Delay_from_due_date       250 non-null    int64  \n",
      " 1   Num_of_Delayed_Payment    250 non-null    int64  \n",
      " 2   Credit_Utilization_Ratio  250 non-null    float64\n",
      " 3   Credit_History_Age        250 non-null    int64  \n",
      " 4   Credit_Score              250 non-null    object \n",
      "dtypes: float64(1), int64(3), object(1)\n",
      "memory usage: 11.7+ KB\n",
      "None\n"
     ]
    }
   ],
   "source": [
    "from sklearn.model_selection import train_test_split\n",
    "\n",
    "train, test = train_test_split(\n",
    "    credit_sample, train_size=0.75, stratify=credit_sample[\"Credit_Score\"]\n",
    ")\n",
    "print(train.info())\n",
    "print(test.info())"
   ]
  },
  {
   "cell_type": "code",
   "execution_count": 16,
   "metadata": {
    "tags": []
   },
   "outputs": [
    {
     "name": "stdout",
     "output_type": "stream",
     "text": [
      "Value counts for training data\n",
      " Standard    0.533333\n",
      "Poor        0.290667\n",
      "Good        0.176000\n",
      "Name: Credit_Score, dtype: float64\n",
      "\n",
      "Value counts for testing data\n",
      " Standard    0.532\n",
      "Poor        0.292\n",
      "Good        0.176\n",
      "Name: Credit_Score, dtype: float64\n"
     ]
    }
   ],
   "source": [
    "print(\"Value counts for training data\\n\",train[\"Credit_Score\"].value_counts(normalize=True))\n",
    "print(\"\\nValue counts for testing data\\n\",test[\"Credit_Score\"].value_counts(normalize=True))"
   ]
  },
  {
   "cell_type": "markdown",
   "metadata": {},
   "source": [
    "### Visualizing Data - Distribution of Predictor Variables"
   ]
  },
  {
   "cell_type": "code",
   "execution_count": 17,
   "metadata": {
    "tags": []
   },
   "outputs": [
    {
     "data": {
      "text/html": [
       "\n",
       "<style>\n",
       "  #altair-viz-3701dcb57f6c4a518c100bed468c6458.vega-embed {\n",
       "    width: 100%;\n",
       "    display: flex;\n",
       "  }\n",
       "\n",
       "  #altair-viz-3701dcb57f6c4a518c100bed468c6458.vega-embed details,\n",
       "  #altair-viz-3701dcb57f6c4a518c100bed468c6458.vega-embed details summary {\n",
       "    position: relative;\n",
       "  }\n",
       "</style>\n",
       "<div id=\"altair-viz-3701dcb57f6c4a518c100bed468c6458\"></div>\n",
       "<script type=\"text/javascript\">\n",
       "  var VEGA_DEBUG = (typeof VEGA_DEBUG == \"undefined\") ? {} : VEGA_DEBUG;\n",
       "  (function(spec, embedOpt){\n",
       "    let outputDiv = document.currentScript.previousElementSibling;\n",
       "    if (outputDiv.id !== \"altair-viz-3701dcb57f6c4a518c100bed468c6458\") {\n",
       "      outputDiv = document.getElementById(\"altair-viz-3701dcb57f6c4a518c100bed468c6458\");\n",
       "    }\n",
       "    const paths = {\n",
       "      \"vega\": \"https://cdn.jsdelivr.net/npm/vega@5?noext\",\n",
       "      \"vega-lib\": \"https://cdn.jsdelivr.net/npm/vega-lib?noext\",\n",
       "      \"vega-lite\": \"https://cdn.jsdelivr.net/npm/vega-lite@5.16.3?noext\",\n",
       "      \"vega-embed\": \"https://cdn.jsdelivr.net/npm/vega-embed@6?noext\",\n",
       "    };\n",
       "\n",
       "    function maybeLoadScript(lib, version) {\n",
       "      var key = `${lib.replace(\"-\", \"\")}_version`;\n",
       "      return (VEGA_DEBUG[key] == version) ?\n",
       "        Promise.resolve(paths[lib]) :\n",
       "        new Promise(function(resolve, reject) {\n",
       "          var s = document.createElement('script');\n",
       "          document.getElementsByTagName(\"head\")[0].appendChild(s);\n",
       "          s.async = true;\n",
       "          s.onload = () => {\n",
       "            VEGA_DEBUG[key] = version;\n",
       "            return resolve(paths[lib]);\n",
       "          };\n",
       "          s.onerror = () => reject(`Error loading script: ${paths[lib]}`);\n",
       "          s.src = paths[lib];\n",
       "        });\n",
       "    }\n",
       "\n",
       "    function showError(err) {\n",
       "      outputDiv.innerHTML = `<div class=\"error\" style=\"color:red;\">${err}</div>`;\n",
       "      throw err;\n",
       "    }\n",
       "\n",
       "    function displayChart(vegaEmbed) {\n",
       "      vegaEmbed(outputDiv, spec, embedOpt)\n",
       "        .catch(err => showError(`Javascript Error: ${err.message}<br>This usually means there's a typo in your chart specification. See the javascript console for the full traceback.`));\n",
       "    }\n",
       "\n",
       "    if(typeof define === \"function\" && define.amd) {\n",
       "      requirejs.config({paths});\n",
       "      require([\"vega-embed\"], displayChart, err => showError(`Error loading script: ${err.message}`));\n",
       "    } else {\n",
       "      maybeLoadScript(\"vega\", \"5\")\n",
       "        .then(() => maybeLoadScript(\"vega-lite\", \"5.16.3\"))\n",
       "        .then(() => maybeLoadScript(\"vega-embed\", \"6\"))\n",
       "        .catch(showError)\n",
       "        .then(() => displayChart(vegaEmbed));\n",
       "    }\n",
       "  })({\"config\": {\"view\": {\"continuousWidth\": 300, \"continuousHeight\": 300}}, \"repeat\": {\"column\": [\"Delay_from_due_date\", \"Num_of_Delayed_Payment\", \"Credit_Utilization_Ratio\", \"Credit_History_Age\"], \"row\": [\"Delay_from_due_date\", \"Num_of_Delayed_Payment\", \"Credit_Utilization_Ratio\", \"Credit_History_Age\"]}, \"spec\": {\"data\": {\"name\": \"data-b8b26eb71b422897c940a4e73123a7bb\"}, \"mark\": {\"type\": \"point\", \"opacity\": 0.4}, \"encoding\": {\"color\": {\"field\": \"Credit_Score\", \"title\": \"Credit_Score\", \"type\": \"nominal\"}, \"x\": {\"field\": {\"repeat\": \"row\"}, \"type\": \"quantitative\"}, \"y\": {\"field\": {\"repeat\": \"column\"}, \"type\": \"quantitative\"}}, \"height\": 200, \"width\": 200}, \"$schema\": \"https://vega.github.io/schema/vega-lite/v5.16.3.json\", \"datasets\": {\"data-b8b26eb71b422897c940a4e73123a7bb\": [{\"Delay_from_due_date\": 8, \"Num_of_Delayed_Payment\": 5, \"Credit_Utilization_Ratio\": 41.96685799001682, \"Credit_History_Age\": 16, \"Credit_Score\": \"Good\"}, {\"Delay_from_due_date\": 27, \"Num_of_Delayed_Payment\": 7, \"Credit_Utilization_Ratio\": 37.97183138464738, \"Credit_History_Age\": 21, \"Credit_Score\": \"Standard\"}, {\"Delay_from_due_date\": 52, \"Num_of_Delayed_Payment\": 10, \"Credit_Utilization_Ratio\": 25.062701730138865, \"Credit_History_Age\": 7, \"Credit_Score\": \"Poor\"}, {\"Delay_from_due_date\": 27, \"Num_of_Delayed_Payment\": 12, \"Credit_Utilization_Ratio\": 32.7707557444233, \"Credit_History_Age\": 12, \"Credit_Score\": \"Standard\"}, {\"Delay_from_due_date\": 25, \"Num_of_Delayed_Payment\": 12, \"Credit_Utilization_Ratio\": 39.72863938981635, \"Credit_History_Age\": 15, \"Credit_Score\": \"Standard\"}, {\"Delay_from_due_date\": 27, \"Num_of_Delayed_Payment\": 13, \"Credit_Utilization_Ratio\": 26.92658949560381, \"Credit_History_Age\": 5, \"Credit_Score\": \"Standard\"}, {\"Delay_from_due_date\": 25, \"Num_of_Delayed_Payment\": 12, \"Credit_Utilization_Ratio\": 23.87865880157237, \"Credit_History_Age\": 20, \"Credit_Score\": \"Standard\"}, {\"Delay_from_due_date\": 5, \"Num_of_Delayed_Payment\": 0, \"Credit_Utilization_Ratio\": 35.036734777879154, \"Credit_History_Age\": 25, \"Credit_Score\": \"Good\"}, {\"Delay_from_due_date\": 25, \"Num_of_Delayed_Payment\": 14, \"Credit_Utilization_Ratio\": 31.793371261403472, \"Credit_History_Age\": 28, \"Credit_Score\": \"Standard\"}, {\"Delay_from_due_date\": 16, \"Num_of_Delayed_Payment\": 17, \"Credit_Utilization_Ratio\": 31.10079524791191, \"Credit_History_Age\": 14, \"Credit_Score\": \"Standard\"}, {\"Delay_from_due_date\": 7, \"Num_of_Delayed_Payment\": 8, \"Credit_Utilization_Ratio\": 41.40140210979357, \"Credit_History_Age\": 15, \"Credit_Score\": \"Standard\"}, {\"Delay_from_due_date\": 21, \"Num_of_Delayed_Payment\": 15, \"Credit_Utilization_Ratio\": 37.500815991599865, \"Credit_History_Age\": 10, \"Credit_Score\": \"Poor\"}, {\"Delay_from_due_date\": 37, \"Num_of_Delayed_Payment\": 24, \"Credit_Utilization_Ratio\": 40.77249056709017, \"Credit_History_Age\": 10, \"Credit_Score\": \"Standard\"}, {\"Delay_from_due_date\": 25, \"Num_of_Delayed_Payment\": 18, \"Credit_Utilization_Ratio\": 41.180819459512186, \"Credit_History_Age\": 11, \"Credit_Score\": \"Poor\"}, {\"Delay_from_due_date\": 13, \"Num_of_Delayed_Payment\": 14, \"Credit_Utilization_Ratio\": 28.00366801458476, \"Credit_History_Age\": 14, \"Credit_Score\": \"Poor\"}, {\"Delay_from_due_date\": 39, \"Num_of_Delayed_Payment\": 23, \"Credit_Utilization_Ratio\": 37.78094916024494, \"Credit_History_Age\": 5, \"Credit_Score\": \"Poor\"}, {\"Delay_from_due_date\": -3, \"Num_of_Delayed_Payment\": 9, \"Credit_Utilization_Ratio\": 26.30718351382833, \"Credit_History_Age\": 15, \"Credit_Score\": \"Standard\"}, {\"Delay_from_due_date\": 22, \"Num_of_Delayed_Payment\": 16, \"Credit_Utilization_Ratio\": 40.57273029907906, \"Credit_History_Age\": 17, \"Credit_Score\": \"Standard\"}, {\"Delay_from_due_date\": 13, \"Num_of_Delayed_Payment\": 20, \"Credit_Utilization_Ratio\": 37.67238953614733, \"Credit_History_Age\": 16, \"Credit_Score\": \"Standard\"}, {\"Delay_from_due_date\": 5, \"Num_of_Delayed_Payment\": 12, \"Credit_Utilization_Ratio\": 28.038744381920363, \"Credit_History_Age\": 21, \"Credit_Score\": \"Standard\"}, {\"Delay_from_due_date\": 20, \"Num_of_Delayed_Payment\": 15, \"Credit_Utilization_Ratio\": 23.854492229115, \"Credit_History_Age\": 9, \"Credit_Score\": \"Poor\"}, {\"Delay_from_due_date\": 7, \"Num_of_Delayed_Payment\": 21, \"Credit_Utilization_Ratio\": 38.407540229747866, \"Credit_History_Age\": 21, \"Credit_Score\": \"Standard\"}, {\"Delay_from_due_date\": 9, \"Num_of_Delayed_Payment\": 14, \"Credit_Utilization_Ratio\": 31.625404328275728, \"Credit_History_Age\": 7, \"Credit_Score\": \"Standard\"}, {\"Delay_from_due_date\": 30, \"Num_of_Delayed_Payment\": 18, \"Credit_Utilization_Ratio\": 31.13955105046977, \"Credit_History_Age\": 25, \"Credit_Score\": \"Standard\"}, {\"Delay_from_due_date\": 42, \"Num_of_Delayed_Payment\": 17, \"Credit_Utilization_Ratio\": 37.86260966291003, \"Credit_History_Age\": 2, \"Credit_Score\": \"Standard\"}, {\"Delay_from_due_date\": 29, \"Num_of_Delayed_Payment\": 9, \"Credit_Utilization_Ratio\": 24.18235545842477, \"Credit_History_Age\": 24, \"Credit_Score\": \"Good\"}, {\"Delay_from_due_date\": 14, \"Num_of_Delayed_Payment\": 4, \"Credit_Utilization_Ratio\": 40.199788540816776, \"Credit_History_Age\": 21, \"Credit_Score\": \"Standard\"}, {\"Delay_from_due_date\": 1, \"Num_of_Delayed_Payment\": 13, \"Credit_Utilization_Ratio\": 38.490331107512944, \"Credit_History_Age\": 21, \"Credit_Score\": \"Standard\"}, {\"Delay_from_due_date\": 14, \"Num_of_Delayed_Payment\": 6, \"Credit_Utilization_Ratio\": 28.16385967069937, \"Credit_History_Age\": 27, \"Credit_Score\": \"Good\"}, {\"Delay_from_due_date\": 29, \"Num_of_Delayed_Payment\": 19, \"Credit_Utilization_Ratio\": 23.138921984949192, \"Credit_History_Age\": 4, \"Credit_Score\": \"Standard\"}, {\"Delay_from_due_date\": 31, \"Num_of_Delayed_Payment\": 12, \"Credit_Utilization_Ratio\": 26.19400733557144, \"Credit_History_Age\": 5, \"Credit_Score\": \"Poor\"}, {\"Delay_from_due_date\": 9, \"Num_of_Delayed_Payment\": 1, \"Credit_Utilization_Ratio\": 34.89816771470666, \"Credit_History_Age\": 24, \"Credit_Score\": \"Good\"}, {\"Delay_from_due_date\": 56, \"Num_of_Delayed_Payment\": 17, \"Credit_Utilization_Ratio\": 30.38886919624646, \"Credit_History_Age\": 1, \"Credit_Score\": \"Standard\"}, {\"Delay_from_due_date\": 14, \"Num_of_Delayed_Payment\": 0, \"Credit_Utilization_Ratio\": 30.91140064170083, \"Credit_History_Age\": 18, \"Credit_Score\": \"Poor\"}, {\"Delay_from_due_date\": 17, \"Num_of_Delayed_Payment\": 13, \"Credit_Utilization_Ratio\": 34.898155987218736, \"Credit_History_Age\": 17, \"Credit_Score\": \"Standard\"}, {\"Delay_from_due_date\": 7, \"Num_of_Delayed_Payment\": 18, \"Credit_Utilization_Ratio\": 27.82468732593161, \"Credit_History_Age\": 15, \"Credit_Score\": \"Poor\"}, {\"Delay_from_due_date\": 25, \"Num_of_Delayed_Payment\": 19, \"Credit_Utilization_Ratio\": 31.1023322968318, \"Credit_History_Age\": 19, \"Credit_Score\": \"Standard\"}, {\"Delay_from_due_date\": 51, \"Num_of_Delayed_Payment\": 25, \"Credit_Utilization_Ratio\": 28.850970156194805, \"Credit_History_Age\": 7, \"Credit_Score\": \"Poor\"}, {\"Delay_from_due_date\": 33, \"Num_of_Delayed_Payment\": 12, \"Credit_Utilization_Ratio\": 26.977602533967733, \"Credit_History_Age\": 2, \"Credit_Score\": \"Standard\"}, {\"Delay_from_due_date\": 21, \"Num_of_Delayed_Payment\": 11, \"Credit_Utilization_Ratio\": 39.14156804683466, \"Credit_History_Age\": 10, \"Credit_Score\": \"Poor\"}, {\"Delay_from_due_date\": 10, \"Num_of_Delayed_Payment\": 21, \"Credit_Utilization_Ratio\": 28.535322322795032, \"Credit_History_Age\": 21, \"Credit_Score\": \"Standard\"}, {\"Delay_from_due_date\": 1, \"Num_of_Delayed_Payment\": 14, \"Credit_Utilization_Ratio\": 29.599900700734192, \"Credit_History_Age\": 16, \"Credit_Score\": \"Standard\"}, {\"Delay_from_due_date\": 7, \"Num_of_Delayed_Payment\": 10, \"Credit_Utilization_Ratio\": 24.83451190631281, \"Credit_History_Age\": 25, \"Credit_Score\": \"Good\"}, {\"Delay_from_due_date\": 9, \"Num_of_Delayed_Payment\": 9, \"Credit_Utilization_Ratio\": 31.84288265888206, \"Credit_History_Age\": 30, \"Credit_Score\": \"Standard\"}, {\"Delay_from_due_date\": 8, \"Num_of_Delayed_Payment\": 5, \"Credit_Utilization_Ratio\": 32.815760724615195, \"Credit_History_Age\": 31, \"Credit_Score\": \"Standard\"}, {\"Delay_from_due_date\": 7, \"Num_of_Delayed_Payment\": 13, \"Credit_Utilization_Ratio\": 32.02586731581984, \"Credit_History_Age\": 11, \"Credit_Score\": \"Standard\"}, {\"Delay_from_due_date\": 24, \"Num_of_Delayed_Payment\": 12, \"Credit_Utilization_Ratio\": 27.860492701553355, \"Credit_History_Age\": 11, \"Credit_Score\": \"Standard\"}, {\"Delay_from_due_date\": 21, \"Num_of_Delayed_Payment\": 10, \"Credit_Utilization_Ratio\": 34.58048431136086, \"Credit_History_Age\": 28, \"Credit_Score\": \"Standard\"}, {\"Delay_from_due_date\": 19, \"Num_of_Delayed_Payment\": 9, \"Credit_Utilization_Ratio\": 27.838868205196, \"Credit_History_Age\": 19, \"Credit_Score\": \"Standard\"}, {\"Delay_from_due_date\": 2, \"Num_of_Delayed_Payment\": 4, \"Credit_Utilization_Ratio\": 35.673508334197194, \"Credit_History_Age\": 19, \"Credit_Score\": \"Good\"}, {\"Delay_from_due_date\": 7, \"Num_of_Delayed_Payment\": 11, \"Credit_Utilization_Ratio\": 36.99430135208685, \"Credit_History_Age\": 30, \"Credit_Score\": \"Standard\"}, {\"Delay_from_due_date\": 27, \"Num_of_Delayed_Payment\": 19, \"Credit_Utilization_Ratio\": 27.25971091408873, \"Credit_History_Age\": 26, \"Credit_Score\": \"Standard\"}, {\"Delay_from_due_date\": 14, \"Num_of_Delayed_Payment\": 5, \"Credit_Utilization_Ratio\": 25.40622038873077, \"Credit_History_Age\": 24, \"Credit_Score\": \"Standard\"}, {\"Delay_from_due_date\": 17, \"Num_of_Delayed_Payment\": 14, \"Credit_Utilization_Ratio\": 35.63389378598965, \"Credit_History_Age\": 17, \"Credit_Score\": \"Standard\"}, {\"Delay_from_due_date\": 37, \"Num_of_Delayed_Payment\": 25, \"Credit_Utilization_Ratio\": 31.35561675295475, \"Credit_History_Age\": 13, \"Credit_Score\": \"Poor\"}, {\"Delay_from_due_date\": 51, \"Num_of_Delayed_Payment\": 16, \"Credit_Utilization_Ratio\": 23.776513512520594, \"Credit_History_Age\": 12, \"Credit_Score\": \"Poor\"}, {\"Delay_from_due_date\": 38, \"Num_of_Delayed_Payment\": 22, \"Credit_Utilization_Ratio\": 22.863111611732755, \"Credit_History_Age\": 19, \"Credit_Score\": \"Poor\"}, {\"Delay_from_due_date\": 48, \"Num_of_Delayed_Payment\": 15, \"Credit_Utilization_Ratio\": 38.60911039639064, \"Credit_History_Age\": 8, \"Credit_Score\": \"Poor\"}, {\"Delay_from_due_date\": 5, \"Num_of_Delayed_Payment\": 1, \"Credit_Utilization_Ratio\": 32.062360712496144, \"Credit_History_Age\": 27, \"Credit_Score\": \"Standard\"}, {\"Delay_from_due_date\": 17, \"Num_of_Delayed_Payment\": 16, \"Credit_Utilization_Ratio\": 31.951948394250227, \"Credit_History_Age\": 6, \"Credit_Score\": \"Standard\"}, {\"Delay_from_due_date\": 9, \"Num_of_Delayed_Payment\": 2, \"Credit_Utilization_Ratio\": 27.16821301459796, \"Credit_History_Age\": 33, \"Credit_Score\": \"Good\"}, {\"Delay_from_due_date\": 1, \"Num_of_Delayed_Payment\": 6, \"Credit_Utilization_Ratio\": 29.030095178788656, \"Credit_History_Age\": 20, \"Credit_Score\": \"Good\"}, {\"Delay_from_due_date\": 23, \"Num_of_Delayed_Payment\": 6, \"Credit_Utilization_Ratio\": 26.09923080431521, \"Credit_History_Age\": 32, \"Credit_Score\": \"Poor\"}, {\"Delay_from_due_date\": 37, \"Num_of_Delayed_Payment\": 21, \"Credit_Utilization_Ratio\": 40.8118788604623, \"Credit_History_Age\": 10, \"Credit_Score\": \"Poor\"}, {\"Delay_from_due_date\": 5, \"Num_of_Delayed_Payment\": 16, \"Credit_Utilization_Ratio\": 31.62400208403509, \"Credit_History_Age\": 8, \"Credit_Score\": \"Poor\"}, {\"Delay_from_due_date\": 40, \"Num_of_Delayed_Payment\": 21, \"Credit_Utilization_Ratio\": 31.41268685508513, \"Credit_History_Age\": 11, \"Credit_Score\": \"Standard\"}, {\"Delay_from_due_date\": 4, \"Num_of_Delayed_Payment\": 1, \"Credit_Utilization_Ratio\": 27.803785373153623, \"Credit_History_Age\": 29, \"Credit_Score\": \"Poor\"}, {\"Delay_from_due_date\": 24, \"Num_of_Delayed_Payment\": 20, \"Credit_Utilization_Ratio\": 23.034877912471547, \"Credit_History_Age\": 4, \"Credit_Score\": \"Poor\"}, {\"Delay_from_due_date\": 12, \"Num_of_Delayed_Payment\": 12, \"Credit_Utilization_Ratio\": 24.52497470060037, \"Credit_History_Age\": 29, \"Credit_Score\": \"Standard\"}, {\"Delay_from_due_date\": 27, \"Num_of_Delayed_Payment\": 16, \"Credit_Utilization_Ratio\": 29.86314671658863, \"Credit_History_Age\": 7, \"Credit_Score\": \"Standard\"}, {\"Delay_from_due_date\": 13, \"Num_of_Delayed_Payment\": 10, \"Credit_Utilization_Ratio\": 41.106966900021646, \"Credit_History_Age\": 6, \"Credit_Score\": \"Poor\"}, {\"Delay_from_due_date\": 9, \"Num_of_Delayed_Payment\": 10, \"Credit_Utilization_Ratio\": 38.34372924152653, \"Credit_History_Age\": 11, \"Credit_Score\": \"Standard\"}, {\"Delay_from_due_date\": 15, \"Num_of_Delayed_Payment\": 20, \"Credit_Utilization_Ratio\": 30.49259108483037, \"Credit_History_Age\": 8, \"Credit_Score\": \"Standard\"}, {\"Delay_from_due_date\": 5, \"Num_of_Delayed_Payment\": 12, \"Credit_Utilization_Ratio\": 36.547629799184975, \"Credit_History_Age\": 32, \"Credit_Score\": \"Poor\"}, {\"Delay_from_due_date\": 16, \"Num_of_Delayed_Payment\": 22, \"Credit_Utilization_Ratio\": 33.5436296839379, \"Credit_History_Age\": 7, \"Credit_Score\": \"Standard\"}, {\"Delay_from_due_date\": 18, \"Num_of_Delayed_Payment\": 17, \"Credit_Utilization_Ratio\": 23.78790756639034, \"Credit_History_Age\": 28, \"Credit_Score\": \"Good\"}, {\"Delay_from_due_date\": 20, \"Num_of_Delayed_Payment\": 8, \"Credit_Utilization_Ratio\": 38.52092213510464, \"Credit_History_Age\": 14, \"Credit_Score\": \"Standard\"}, {\"Delay_from_due_date\": 2, \"Num_of_Delayed_Payment\": 0, \"Credit_Utilization_Ratio\": 36.10297309120965, \"Credit_History_Age\": 29, \"Credit_Score\": \"Standard\"}, {\"Delay_from_due_date\": 8, \"Num_of_Delayed_Payment\": 2, \"Credit_Utilization_Ratio\": 38.91275810010242, \"Credit_History_Age\": 17, \"Credit_Score\": \"Good\"}, {\"Delay_from_due_date\": 5, \"Num_of_Delayed_Payment\": 18, \"Credit_Utilization_Ratio\": 26.52394171978218, \"Credit_History_Age\": 9, \"Credit_Score\": \"Standard\"}, {\"Delay_from_due_date\": 19, \"Num_of_Delayed_Payment\": 21, \"Credit_Utilization_Ratio\": 29.887097682314373, \"Credit_History_Age\": 15, \"Credit_Score\": \"Poor\"}, {\"Delay_from_due_date\": 24, \"Num_of_Delayed_Payment\": 13, \"Credit_Utilization_Ratio\": 26.03651169204318, \"Credit_History_Age\": 24, \"Credit_Score\": \"Good\"}, {\"Delay_from_due_date\": 19, \"Num_of_Delayed_Payment\": 11, \"Credit_Utilization_Ratio\": 27.374290857026786, \"Credit_History_Age\": 21, \"Credit_Score\": \"Standard\"}, {\"Delay_from_due_date\": 14, \"Num_of_Delayed_Payment\": 2, \"Credit_Utilization_Ratio\": 28.683441736853105, \"Credit_History_Age\": 22, \"Credit_Score\": \"Good\"}, {\"Delay_from_due_date\": 8, \"Num_of_Delayed_Payment\": 3, \"Credit_Utilization_Ratio\": 41.216384535858005, \"Credit_History_Age\": 15, \"Credit_Score\": \"Good\"}, {\"Delay_from_due_date\": 7, \"Num_of_Delayed_Payment\": 12, \"Credit_Utilization_Ratio\": 36.74224024649613, \"Credit_History_Age\": 29, \"Credit_Score\": \"Standard\"}, {\"Delay_from_due_date\": 26, \"Num_of_Delayed_Payment\": 23, \"Credit_Utilization_Ratio\": 26.42633427984825, \"Credit_History_Age\": 15, \"Credit_Score\": \"Standard\"}, {\"Delay_from_due_date\": 52, \"Num_of_Delayed_Payment\": 19, \"Credit_Utilization_Ratio\": 34.39105937796122, \"Credit_History_Age\": 17, \"Credit_Score\": \"Poor\"}, {\"Delay_from_due_date\": 21, \"Num_of_Delayed_Payment\": 17, \"Credit_Utilization_Ratio\": 40.98757316625736, \"Credit_History_Age\": 6, \"Credit_Score\": \"Poor\"}, {\"Delay_from_due_date\": 9, \"Num_of_Delayed_Payment\": 17, \"Credit_Utilization_Ratio\": 31.93375623046921, \"Credit_History_Age\": 26, \"Credit_Score\": \"Good\"}, {\"Delay_from_due_date\": 41, \"Num_of_Delayed_Payment\": 9, \"Credit_Utilization_Ratio\": 41.170318735668246, \"Credit_History_Age\": 10, \"Credit_Score\": \"Standard\"}, {\"Delay_from_due_date\": 23, \"Num_of_Delayed_Payment\": 9, \"Credit_Utilization_Ratio\": 34.501563015658654, \"Credit_History_Age\": 32, \"Credit_Score\": \"Standard\"}, {\"Delay_from_due_date\": 22, \"Num_of_Delayed_Payment\": 15, \"Credit_Utilization_Ratio\": 33.03504960216545, \"Credit_History_Age\": 22, \"Credit_Score\": \"Standard\"}, {\"Delay_from_due_date\": 22, \"Num_of_Delayed_Payment\": 8, \"Credit_Utilization_Ratio\": 26.134594491161923, \"Credit_History_Age\": 31, \"Credit_Score\": \"Standard\"}, {\"Delay_from_due_date\": 4, \"Num_of_Delayed_Payment\": 6, \"Credit_Utilization_Ratio\": 38.009809744030434, \"Credit_History_Age\": 29, \"Credit_Score\": \"Standard\"}, {\"Delay_from_due_date\": 8, \"Num_of_Delayed_Payment\": 8, \"Credit_Utilization_Ratio\": 31.48960546679252, \"Credit_History_Age\": 32, \"Credit_Score\": \"Standard\"}, {\"Delay_from_due_date\": 27, \"Num_of_Delayed_Payment\": 18, \"Credit_Utilization_Ratio\": 38.2134355573416, \"Credit_History_Age\": 17, \"Credit_Score\": \"Standard\"}, {\"Delay_from_due_date\": 3, \"Num_of_Delayed_Payment\": 6, \"Credit_Utilization_Ratio\": 32.4871456959018, \"Credit_History_Age\": 18, \"Credit_Score\": \"Good\"}, {\"Delay_from_due_date\": 10, \"Num_of_Delayed_Payment\": 3, \"Credit_Utilization_Ratio\": 26.82303046327465, \"Credit_History_Age\": 18, \"Credit_Score\": \"Good\"}, {\"Delay_from_due_date\": 25, \"Num_of_Delayed_Payment\": 9, \"Credit_Utilization_Ratio\": 32.092220364031924, \"Credit_History_Age\": 28, \"Credit_Score\": \"Standard\"}, {\"Delay_from_due_date\": 26, \"Num_of_Delayed_Payment\": 19, \"Credit_Utilization_Ratio\": 34.26612946215439, \"Credit_History_Age\": 19, \"Credit_Score\": \"Standard\"}, {\"Delay_from_due_date\": 40, \"Num_of_Delayed_Payment\": 18, \"Credit_Utilization_Ratio\": 34.685395561987704, \"Credit_History_Age\": 10, \"Credit_Score\": \"Poor\"}, {\"Delay_from_due_date\": 24, \"Num_of_Delayed_Payment\": 10, \"Credit_Utilization_Ratio\": 33.379467740223234, \"Credit_History_Age\": 21, \"Credit_Score\": \"Standard\"}, {\"Delay_from_due_date\": 30, \"Num_of_Delayed_Payment\": 22, \"Credit_Utilization_Ratio\": 32.1775875857766, \"Credit_History_Age\": 9, \"Credit_Score\": \"Poor\"}, {\"Delay_from_due_date\": 3, \"Num_of_Delayed_Payment\": 4, \"Credit_Utilization_Ratio\": 27.48986236071772, \"Credit_History_Age\": 26, \"Credit_Score\": \"Standard\"}, {\"Delay_from_due_date\": 14, \"Num_of_Delayed_Payment\": 16, \"Credit_Utilization_Ratio\": 24.86632157488477, \"Credit_History_Age\": 31, \"Credit_Score\": \"Standard\"}, {\"Delay_from_due_date\": 20, \"Num_of_Delayed_Payment\": 11, \"Credit_Utilization_Ratio\": 35.363696445787525, \"Credit_History_Age\": 15, \"Credit_Score\": \"Standard\"}, {\"Delay_from_due_date\": 9, \"Num_of_Delayed_Payment\": 20, \"Credit_Utilization_Ratio\": 35.74263038871872, \"Credit_History_Age\": 22, \"Credit_Score\": \"Standard\"}, {\"Delay_from_due_date\": 20, \"Num_of_Delayed_Payment\": 21, \"Credit_Utilization_Ratio\": 33.45275731036177, \"Credit_History_Age\": 7, \"Credit_Score\": \"Standard\"}, {\"Delay_from_due_date\": 5, \"Num_of_Delayed_Payment\": 11, \"Credit_Utilization_Ratio\": 23.19750105579667, \"Credit_History_Age\": 10, \"Credit_Score\": \"Standard\"}, {\"Delay_from_due_date\": 14, \"Num_of_Delayed_Payment\": 10, \"Credit_Utilization_Ratio\": 38.75328981083084, \"Credit_History_Age\": 27, \"Credit_Score\": \"Poor\"}, {\"Delay_from_due_date\": 20, \"Num_of_Delayed_Payment\": 17, \"Credit_Utilization_Ratio\": 43.84881211684924, \"Credit_History_Age\": 28, \"Credit_Score\": \"Poor\"}, {\"Delay_from_due_date\": 13, \"Num_of_Delayed_Payment\": 19, \"Credit_Utilization_Ratio\": 36.72639646476674, \"Credit_History_Age\": 26, \"Credit_Score\": \"Standard\"}, {\"Delay_from_due_date\": 17, \"Num_of_Delayed_Payment\": 7, \"Credit_Utilization_Ratio\": 33.963352961130376, \"Credit_History_Age\": 29, \"Credit_Score\": \"Good\"}, {\"Delay_from_due_date\": 11, \"Num_of_Delayed_Payment\": 0, \"Credit_Utilization_Ratio\": 35.39625222764986, \"Credit_History_Age\": 29, \"Credit_Score\": \"Poor\"}, {\"Delay_from_due_date\": 45, \"Num_of_Delayed_Payment\": 19, \"Credit_Utilization_Ratio\": 26.02097944262993, \"Credit_History_Age\": 5, \"Credit_Score\": \"Poor\"}, {\"Delay_from_due_date\": 6, \"Num_of_Delayed_Payment\": 13, \"Credit_Utilization_Ratio\": 32.16285625646705, \"Credit_History_Age\": 29, \"Credit_Score\": \"Standard\"}, {\"Delay_from_due_date\": 17, \"Num_of_Delayed_Payment\": 9, \"Credit_Utilization_Ratio\": 27.502572021101862, \"Credit_History_Age\": 22, \"Credit_Score\": \"Standard\"}, {\"Delay_from_due_date\": 14, \"Num_of_Delayed_Payment\": 3, \"Credit_Utilization_Ratio\": 43.590260800449975, \"Credit_History_Age\": 28, \"Credit_Score\": \"Good\"}, {\"Delay_from_due_date\": 12, \"Num_of_Delayed_Payment\": 9, \"Credit_Utilization_Ratio\": 27.60773987059088, \"Credit_History_Age\": 5, \"Credit_Score\": \"Standard\"}, {\"Delay_from_due_date\": 28, \"Num_of_Delayed_Payment\": 15, \"Credit_Utilization_Ratio\": 30.02304005653549, \"Credit_History_Age\": 8, \"Credit_Score\": \"Standard\"}, {\"Delay_from_due_date\": 5, \"Num_of_Delayed_Payment\": 19, \"Credit_Utilization_Ratio\": 26.872899450281512, \"Credit_History_Age\": 33, \"Credit_Score\": \"Good\"}, {\"Delay_from_due_date\": 11, \"Num_of_Delayed_Payment\": 12, \"Credit_Utilization_Ratio\": 22.714243998283983, \"Credit_History_Age\": 23, \"Credit_Score\": \"Standard\"}, {\"Delay_from_due_date\": 41, \"Num_of_Delayed_Payment\": 8, \"Credit_Utilization_Ratio\": 39.6184909361294, \"Credit_History_Age\": 12, \"Credit_Score\": \"Poor\"}, {\"Delay_from_due_date\": 35, \"Num_of_Delayed_Payment\": 17, \"Credit_Utilization_Ratio\": 21.935766827817226, \"Credit_History_Age\": 10, \"Credit_Score\": \"Poor\"}, {\"Delay_from_due_date\": 38, \"Num_of_Delayed_Payment\": 22, \"Credit_Utilization_Ratio\": 28.44346547733041, \"Credit_History_Age\": 9, \"Credit_Score\": \"Standard\"}, {\"Delay_from_due_date\": 12, \"Num_of_Delayed_Payment\": 18, \"Credit_Utilization_Ratio\": 23.088385535446417, \"Credit_History_Age\": 19, \"Credit_Score\": \"Standard\"}, {\"Delay_from_due_date\": 15, \"Num_of_Delayed_Payment\": 2, \"Credit_Utilization_Ratio\": 28.644583170679933, \"Credit_History_Age\": 27, \"Credit_Score\": \"Good\"}, {\"Delay_from_due_date\": 10, \"Num_of_Delayed_Payment\": 11, \"Credit_Utilization_Ratio\": 27.87212192929717, \"Credit_History_Age\": 17, \"Credit_Score\": \"Standard\"}, {\"Delay_from_due_date\": 14, \"Num_of_Delayed_Payment\": 11, \"Credit_Utilization_Ratio\": 32.93728987141872, \"Credit_History_Age\": 23, \"Credit_Score\": \"Standard\"}, {\"Delay_from_due_date\": 11, \"Num_of_Delayed_Payment\": 2, \"Credit_Utilization_Ratio\": 34.754581102336985, \"Credit_History_Age\": 27, \"Credit_Score\": \"Good\"}, {\"Delay_from_due_date\": 5, \"Num_of_Delayed_Payment\": 11, \"Credit_Utilization_Ratio\": 29.65605901605108, \"Credit_History_Age\": 25, \"Credit_Score\": \"Standard\"}, {\"Delay_from_due_date\": 0, \"Num_of_Delayed_Payment\": 9, \"Credit_Utilization_Ratio\": 25.828617586647702, \"Credit_History_Age\": 18, \"Credit_Score\": \"Good\"}, {\"Delay_from_due_date\": 35, \"Num_of_Delayed_Payment\": 27, \"Credit_Utilization_Ratio\": 37.514501438452456, \"Credit_History_Age\": 6, \"Credit_Score\": \"Poor\"}, {\"Delay_from_due_date\": 9, \"Num_of_Delayed_Payment\": 13, \"Credit_Utilization_Ratio\": 30.26457353195867, \"Credit_History_Age\": 22, \"Credit_Score\": \"Standard\"}, {\"Delay_from_due_date\": 42, \"Num_of_Delayed_Payment\": 20, \"Credit_Utilization_Ratio\": 31.44888163806252, \"Credit_History_Age\": 1, \"Credit_Score\": \"Standard\"}, {\"Delay_from_due_date\": 47, \"Num_of_Delayed_Payment\": 19, \"Credit_Utilization_Ratio\": 39.03086466304013, \"Credit_History_Age\": 15, \"Credit_Score\": \"Poor\"}, {\"Delay_from_due_date\": 26, \"Num_of_Delayed_Payment\": 15, \"Credit_Utilization_Ratio\": 33.79459142797995, \"Credit_History_Age\": 20, \"Credit_Score\": \"Standard\"}, {\"Delay_from_due_date\": 24, \"Num_of_Delayed_Payment\": 8, \"Credit_Utilization_Ratio\": 25.96965325543169, \"Credit_History_Age\": 6, \"Credit_Score\": \"Standard\"}, {\"Delay_from_due_date\": 14, \"Num_of_Delayed_Payment\": 7, \"Credit_Utilization_Ratio\": 29.001955157395905, \"Credit_History_Age\": 24, \"Credit_Score\": \"Standard\"}, {\"Delay_from_due_date\": 15, \"Num_of_Delayed_Payment\": 12, \"Credit_Utilization_Ratio\": 26.16806839953302, \"Credit_History_Age\": 20, \"Credit_Score\": \"Good\"}, {\"Delay_from_due_date\": -1, \"Num_of_Delayed_Payment\": 5, \"Credit_Utilization_Ratio\": 38.66939558481111, \"Credit_History_Age\": 18, \"Credit_Score\": \"Good\"}, {\"Delay_from_due_date\": 27, \"Num_of_Delayed_Payment\": 17, \"Credit_Utilization_Ratio\": 24.832070315367627, \"Credit_History_Age\": 16, \"Credit_Score\": \"Standard\"}, {\"Delay_from_due_date\": 15, \"Num_of_Delayed_Payment\": 11, \"Credit_Utilization_Ratio\": 25.120471352007485, \"Credit_History_Age\": 28, \"Credit_Score\": \"Poor\"}, {\"Delay_from_due_date\": 6, \"Num_of_Delayed_Payment\": 5, \"Credit_Utilization_Ratio\": 32.939154840955055, \"Credit_History_Age\": 32, \"Credit_Score\": \"Standard\"}, {\"Delay_from_due_date\": 13, \"Num_of_Delayed_Payment\": 11, \"Credit_Utilization_Ratio\": 37.16733431349168, \"Credit_History_Age\": 15, \"Credit_Score\": \"Standard\"}, {\"Delay_from_due_date\": 26, \"Num_of_Delayed_Payment\": 17, \"Credit_Utilization_Ratio\": 35.267555357534704, \"Credit_History_Age\": 13, \"Credit_Score\": \"Standard\"}, {\"Delay_from_due_date\": 56, \"Num_of_Delayed_Payment\": 20, \"Credit_Utilization_Ratio\": 38.368438492694565, \"Credit_History_Age\": 5, \"Credit_Score\": \"Poor\"}, {\"Delay_from_due_date\": 9, \"Num_of_Delayed_Payment\": 14, \"Credit_Utilization_Ratio\": 34.373557617510144, \"Credit_History_Age\": 6, \"Credit_Score\": \"Standard\"}, {\"Delay_from_due_date\": 14, \"Num_of_Delayed_Payment\": 12, \"Credit_Utilization_Ratio\": 36.30485600395853, \"Credit_History_Age\": 29, \"Credit_Score\": \"Standard\"}, {\"Delay_from_due_date\": 15, \"Num_of_Delayed_Payment\": 11, \"Credit_Utilization_Ratio\": 30.32532526384624, \"Credit_History_Age\": 8, \"Credit_Score\": \"Poor\"}, {\"Delay_from_due_date\": 26, \"Num_of_Delayed_Payment\": 9, \"Credit_Utilization_Ratio\": 41.30396782166745, \"Credit_History_Age\": 19, \"Credit_Score\": \"Poor\"}, {\"Delay_from_due_date\": 10, \"Num_of_Delayed_Payment\": 10, \"Credit_Utilization_Ratio\": 31.34141209822134, \"Credit_History_Age\": 6, \"Credit_Score\": \"Standard\"}, {\"Delay_from_due_date\": 1, \"Num_of_Delayed_Payment\": 16, \"Credit_Utilization_Ratio\": 37.32569565169828, \"Credit_History_Age\": 18, \"Credit_Score\": \"Standard\"}, {\"Delay_from_due_date\": 9, \"Num_of_Delayed_Payment\": 19, \"Credit_Utilization_Ratio\": 34.52829304990348, \"Credit_History_Age\": 15, \"Credit_Score\": \"Standard\"}, {\"Delay_from_due_date\": 8, \"Num_of_Delayed_Payment\": 10, \"Credit_Utilization_Ratio\": 25.7400683561868, \"Credit_History_Age\": 23, \"Credit_Score\": \"Standard\"}, {\"Delay_from_due_date\": 15, \"Num_of_Delayed_Payment\": 12, \"Credit_Utilization_Ratio\": 28.353985666641396, \"Credit_History_Age\": 9, \"Credit_Score\": \"Poor\"}, {\"Delay_from_due_date\": 43, \"Num_of_Delayed_Payment\": 24, \"Credit_Utilization_Ratio\": 24.971784366393376, \"Credit_History_Age\": 9, \"Credit_Score\": \"Standard\"}, {\"Delay_from_due_date\": 7, \"Num_of_Delayed_Payment\": 8, \"Credit_Utilization_Ratio\": 36.92019073857647, \"Credit_History_Age\": 16, \"Credit_Score\": \"Poor\"}, {\"Delay_from_due_date\": 4, \"Num_of_Delayed_Payment\": 15, \"Credit_Utilization_Ratio\": 35.208546971246044, \"Credit_History_Age\": 29, \"Credit_Score\": \"Standard\"}, {\"Delay_from_due_date\": 16, \"Num_of_Delayed_Payment\": 13, \"Credit_Utilization_Ratio\": 28.870248714367516, \"Credit_History_Age\": 29, \"Credit_Score\": \"Standard\"}, {\"Delay_from_due_date\": 10, \"Num_of_Delayed_Payment\": 19, \"Credit_Utilization_Ratio\": 28.2352853909903, \"Credit_History_Age\": 12, \"Credit_Score\": \"Standard\"}, {\"Delay_from_due_date\": 25, \"Num_of_Delayed_Payment\": 9, \"Credit_Utilization_Ratio\": 33.0331481425445, \"Credit_History_Age\": 14, \"Credit_Score\": \"Poor\"}, {\"Delay_from_due_date\": 29, \"Num_of_Delayed_Payment\": 12, \"Credit_Utilization_Ratio\": 32.53260785346829, \"Credit_History_Age\": 18, \"Credit_Score\": \"Standard\"}, {\"Delay_from_due_date\": 19, \"Num_of_Delayed_Payment\": 8, \"Credit_Utilization_Ratio\": 25.837668741709443, \"Credit_History_Age\": 29, \"Credit_Score\": \"Standard\"}, {\"Delay_from_due_date\": 24, \"Num_of_Delayed_Payment\": 17, \"Credit_Utilization_Ratio\": 33.24413528313012, \"Credit_History_Age\": 17, \"Credit_Score\": \"Standard\"}, {\"Delay_from_due_date\": 4, \"Num_of_Delayed_Payment\": 8, \"Credit_Utilization_Ratio\": 27.60999660008077, \"Credit_History_Age\": 17, \"Credit_Score\": \"Poor\"}, {\"Delay_from_due_date\": 16, \"Num_of_Delayed_Payment\": 10, \"Credit_Utilization_Ratio\": 33.98726152097563, \"Credit_History_Age\": 27, \"Credit_Score\": \"Poor\"}, {\"Delay_from_due_date\": 48, \"Num_of_Delayed_Payment\": 20, \"Credit_Utilization_Ratio\": 36.96699760583879, \"Credit_History_Age\": 5, \"Credit_Score\": \"Standard\"}, {\"Delay_from_due_date\": 55, \"Num_of_Delayed_Payment\": 23, \"Credit_Utilization_Ratio\": 28.738590624766186, \"Credit_History_Age\": 8, \"Credit_Score\": \"Standard\"}, {\"Delay_from_due_date\": 32, \"Num_of_Delayed_Payment\": 15, \"Credit_Utilization_Ratio\": 32.59519668892696, \"Credit_History_Age\": 27, \"Credit_Score\": \"Good\"}, {\"Delay_from_due_date\": 3, \"Num_of_Delayed_Payment\": 5, \"Credit_Utilization_Ratio\": 23.94556273741708, \"Credit_History_Age\": 29, \"Credit_Score\": \"Good\"}, {\"Delay_from_due_date\": 13, \"Num_of_Delayed_Payment\": 1, \"Credit_Utilization_Ratio\": 35.68453770541348, \"Credit_History_Age\": 31, \"Credit_Score\": \"Poor\"}, {\"Delay_from_due_date\": 21, \"Num_of_Delayed_Payment\": 22, \"Credit_Utilization_Ratio\": 25.68361425642032, \"Credit_History_Age\": 13, \"Credit_Score\": \"Poor\"}, {\"Delay_from_due_date\": 33, \"Num_of_Delayed_Payment\": 13, \"Credit_Utilization_Ratio\": 30.80966728561297, \"Credit_History_Age\": 19, \"Credit_Score\": \"Poor\"}, {\"Delay_from_due_date\": 38, \"Num_of_Delayed_Payment\": 24, \"Credit_Utilization_Ratio\": 33.51361502733748, \"Credit_History_Age\": 9, \"Credit_Score\": \"Standard\"}, {\"Delay_from_due_date\": 30, \"Num_of_Delayed_Payment\": 9, \"Credit_Utilization_Ratio\": 28.46298818019674, \"Credit_History_Age\": 17, \"Credit_Score\": \"Poor\"}, {\"Delay_from_due_date\": 27, \"Num_of_Delayed_Payment\": 16, \"Credit_Utilization_Ratio\": 29.92031862941593, \"Credit_History_Age\": 9, \"Credit_Score\": \"Standard\"}, {\"Delay_from_due_date\": 52, \"Num_of_Delayed_Payment\": 16, \"Credit_Utilization_Ratio\": 33.90230750520059, \"Credit_History_Age\": 11, \"Credit_Score\": \"Standard\"}, {\"Delay_from_due_date\": 13, \"Num_of_Delayed_Payment\": 2, \"Credit_Utilization_Ratio\": 29.98091572175905, \"Credit_History_Age\": 33, \"Credit_Score\": \"Good\"}, {\"Delay_from_due_date\": 25, \"Num_of_Delayed_Payment\": 16, \"Credit_Utilization_Ratio\": 24.00421794834059, \"Credit_History_Age\": 13, \"Credit_Score\": \"Standard\"}, {\"Delay_from_due_date\": 11, \"Num_of_Delayed_Payment\": 11, \"Credit_Utilization_Ratio\": 40.137849313620976, \"Credit_History_Age\": 20, \"Credit_Score\": \"Standard\"}, {\"Delay_from_due_date\": 49, \"Num_of_Delayed_Payment\": 13, \"Credit_Utilization_Ratio\": 35.085094202672785, \"Credit_History_Age\": 9, \"Credit_Score\": \"Poor\"}, {\"Delay_from_due_date\": 18, \"Num_of_Delayed_Payment\": 18, \"Credit_Utilization_Ratio\": 34.05239586868866, \"Credit_History_Age\": 19, \"Credit_Score\": \"Poor\"}, {\"Delay_from_due_date\": 13, \"Num_of_Delayed_Payment\": 10, \"Credit_Utilization_Ratio\": 26.385239410636483, \"Credit_History_Age\": 23, \"Credit_Score\": \"Good\"}, {\"Delay_from_due_date\": 7, \"Num_of_Delayed_Payment\": 8, \"Credit_Utilization_Ratio\": 26.42653553600631, \"Credit_History_Age\": 17, \"Credit_Score\": \"Standard\"}, {\"Delay_from_due_date\": 53, \"Num_of_Delayed_Payment\": 25, \"Credit_Utilization_Ratio\": 25.1002708769198, \"Credit_History_Age\": 12, \"Credit_Score\": \"Standard\"}, {\"Delay_from_due_date\": 12, \"Num_of_Delayed_Payment\": 16, \"Credit_Utilization_Ratio\": 26.4358423332268, \"Credit_History_Age\": 18, \"Credit_Score\": \"Standard\"}, {\"Delay_from_due_date\": 30, \"Num_of_Delayed_Payment\": 23, \"Credit_Utilization_Ratio\": 30.82244498204273, \"Credit_History_Age\": 9, \"Credit_Score\": \"Poor\"}, {\"Delay_from_due_date\": 4, \"Num_of_Delayed_Payment\": 0, \"Credit_Utilization_Ratio\": 35.222624169441325, \"Credit_History_Age\": 28, \"Credit_Score\": \"Good\"}, {\"Delay_from_due_date\": 13, \"Num_of_Delayed_Payment\": 19, \"Credit_Utilization_Ratio\": 42.44061788387468, \"Credit_History_Age\": 25, \"Credit_Score\": \"Standard\"}, {\"Delay_from_due_date\": 42, \"Num_of_Delayed_Payment\": 9, \"Credit_Utilization_Ratio\": 35.40575200361214, \"Credit_History_Age\": 17, \"Credit_Score\": \"Poor\"}, {\"Delay_from_due_date\": 23, \"Num_of_Delayed_Payment\": 21, \"Credit_Utilization_Ratio\": 35.0173049440445, \"Credit_History_Age\": 11, \"Credit_Score\": \"Standard\"}, {\"Delay_from_due_date\": 43, \"Num_of_Delayed_Payment\": 15, \"Credit_Utilization_Ratio\": 36.468663125012455, \"Credit_History_Age\": 15, \"Credit_Score\": \"Poor\"}, {\"Delay_from_due_date\": 43, \"Num_of_Delayed_Payment\": 21, \"Credit_Utilization_Ratio\": 24.384054327824288, \"Credit_History_Age\": 11, \"Credit_Score\": \"Poor\"}, {\"Delay_from_due_date\": 0, \"Num_of_Delayed_Payment\": 10, \"Credit_Utilization_Ratio\": 24.81787934772346, \"Credit_History_Age\": 18, \"Credit_Score\": \"Good\"}, {\"Delay_from_due_date\": 24, \"Num_of_Delayed_Payment\": 22, \"Credit_Utilization_Ratio\": 31.20428353262998, \"Credit_History_Age\": 9, \"Credit_Score\": \"Standard\"}, {\"Delay_from_due_date\": 16, \"Num_of_Delayed_Payment\": 20, \"Credit_Utilization_Ratio\": 31.72657975797512, \"Credit_History_Age\": 10, \"Credit_Score\": \"Standard\"}, {\"Delay_from_due_date\": 18, \"Num_of_Delayed_Payment\": 16, \"Credit_Utilization_Ratio\": 35.543500018269455, \"Credit_History_Age\": 6, \"Credit_Score\": \"Standard\"}, {\"Delay_from_due_date\": 44, \"Num_of_Delayed_Payment\": 19, \"Credit_Utilization_Ratio\": 25.193561654223966, \"Credit_History_Age\": 8, \"Credit_Score\": \"Poor\"}, {\"Delay_from_due_date\": 23, \"Num_of_Delayed_Payment\": 19, \"Credit_Utilization_Ratio\": 34.54707370457192, \"Credit_History_Age\": 26, \"Credit_Score\": \"Standard\"}, {\"Delay_from_due_date\": 18, \"Num_of_Delayed_Payment\": 10, \"Credit_Utilization_Ratio\": 33.12637371365161, \"Credit_History_Age\": 20, \"Credit_Score\": \"Standard\"}, {\"Delay_from_due_date\": 23, \"Num_of_Delayed_Payment\": 18, \"Credit_Utilization_Ratio\": 35.461753811925696, \"Credit_History_Age\": 30, \"Credit_Score\": \"Standard\"}, {\"Delay_from_due_date\": 4, \"Num_of_Delayed_Payment\": 2, \"Credit_Utilization_Ratio\": 32.89848800073361, \"Credit_History_Age\": 30, \"Credit_Score\": \"Good\"}, {\"Delay_from_due_date\": 1, \"Num_of_Delayed_Payment\": 10, \"Credit_Utilization_Ratio\": 32.25470034100481, \"Credit_History_Age\": 22, \"Credit_Score\": \"Standard\"}, {\"Delay_from_due_date\": 21, \"Num_of_Delayed_Payment\": 14, \"Credit_Utilization_Ratio\": 38.07667300171639, \"Credit_History_Age\": 14, \"Credit_Score\": \"Standard\"}, {\"Delay_from_due_date\": 27, \"Num_of_Delayed_Payment\": 5, \"Credit_Utilization_Ratio\": 24.81403246426904, \"Credit_History_Age\": 24, \"Credit_Score\": \"Standard\"}, {\"Delay_from_due_date\": 9, \"Num_of_Delayed_Payment\": 17, \"Credit_Utilization_Ratio\": 28.19855153938641, \"Credit_History_Age\": 23, \"Credit_Score\": \"Standard\"}, {\"Delay_from_due_date\": 23, \"Num_of_Delayed_Payment\": 16, \"Credit_Utilization_Ratio\": 26.10901184480357, \"Credit_History_Age\": 32, \"Credit_Score\": \"Poor\"}, {\"Delay_from_due_date\": 12, \"Num_of_Delayed_Payment\": 19, \"Credit_Utilization_Ratio\": 29.43406930743896, \"Credit_History_Age\": 32, \"Credit_Score\": \"Standard\"}, {\"Delay_from_due_date\": 49, \"Num_of_Delayed_Payment\": 20, \"Credit_Utilization_Ratio\": 37.35330129754525, \"Credit_History_Age\": 13, \"Credit_Score\": \"Poor\"}, {\"Delay_from_due_date\": 18, \"Num_of_Delayed_Payment\": 1, \"Credit_Utilization_Ratio\": 29.10840063751305, \"Credit_History_Age\": 24, \"Credit_Score\": \"Good\"}, {\"Delay_from_due_date\": 23, \"Num_of_Delayed_Payment\": 15, \"Credit_Utilization_Ratio\": 27.148104529362968, \"Credit_History_Age\": 10, \"Credit_Score\": \"Good\"}, {\"Delay_from_due_date\": 25, \"Num_of_Delayed_Payment\": 13, \"Credit_Utilization_Ratio\": 23.704902682951584, \"Credit_History_Age\": 29, \"Credit_Score\": \"Standard\"}, {\"Delay_from_due_date\": 12, \"Num_of_Delayed_Payment\": 16, \"Credit_Utilization_Ratio\": 22.370380085028447, \"Credit_History_Age\": 28, \"Credit_Score\": \"Standard\"}, {\"Delay_from_due_date\": 12, \"Num_of_Delayed_Payment\": 9, \"Credit_Utilization_Ratio\": 34.092227979950124, \"Credit_History_Age\": 25, \"Credit_Score\": \"Standard\"}, {\"Delay_from_due_date\": 9, \"Num_of_Delayed_Payment\": 1, \"Credit_Utilization_Ratio\": 26.24767701472493, \"Credit_History_Age\": 27, \"Credit_Score\": \"Standard\"}, {\"Delay_from_due_date\": 21, \"Num_of_Delayed_Payment\": 14, \"Credit_Utilization_Ratio\": 32.111824944215066, \"Credit_History_Age\": 26, \"Credit_Score\": \"Standard\"}, {\"Delay_from_due_date\": 26, \"Num_of_Delayed_Payment\": 14, \"Credit_Utilization_Ratio\": 34.195928598493424, \"Credit_History_Age\": 19, \"Credit_Score\": \"Standard\"}, {\"Delay_from_due_date\": 38, \"Num_of_Delayed_Payment\": 17, \"Credit_Utilization_Ratio\": 32.31402135009707, \"Credit_History_Age\": 3, \"Credit_Score\": \"Poor\"}, {\"Delay_from_due_date\": 27, \"Num_of_Delayed_Payment\": 23, \"Credit_Utilization_Ratio\": 32.38111701039556, \"Credit_History_Age\": 9, \"Credit_Score\": \"Poor\"}, {\"Delay_from_due_date\": 0, \"Num_of_Delayed_Payment\": 12, \"Credit_Utilization_Ratio\": 25.186958945638303, \"Credit_History_Age\": 31, \"Credit_Score\": \"Good\"}, {\"Delay_from_due_date\": 28, \"Num_of_Delayed_Payment\": 6, \"Credit_Utilization_Ratio\": 32.548578207949376, \"Credit_History_Age\": 31, \"Credit_Score\": \"Good\"}, {\"Delay_from_due_date\": 5, \"Num_of_Delayed_Payment\": 5, \"Credit_Utilization_Ratio\": 41.48212246593712, \"Credit_History_Age\": 17, \"Credit_Score\": \"Standard\"}, {\"Delay_from_due_date\": 20, \"Num_of_Delayed_Payment\": 0, \"Credit_Utilization_Ratio\": 28.20909112328405, \"Credit_History_Age\": 31, \"Credit_Score\": \"Poor\"}, {\"Delay_from_due_date\": 10, \"Num_of_Delayed_Payment\": 10, \"Credit_Utilization_Ratio\": 33.25142407276111, \"Credit_History_Age\": 18, \"Credit_Score\": \"Good\"}, {\"Delay_from_due_date\": 6, \"Num_of_Delayed_Payment\": 19, \"Credit_Utilization_Ratio\": 34.58947983365214, \"Credit_History_Age\": 19, \"Credit_Score\": \"Standard\"}, {\"Delay_from_due_date\": 6, \"Num_of_Delayed_Payment\": 14, \"Credit_Utilization_Ratio\": 23.46415554704784, \"Credit_History_Age\": 32, \"Credit_Score\": \"Standard\"}, {\"Delay_from_due_date\": 14, \"Num_of_Delayed_Payment\": 3, \"Credit_Utilization_Ratio\": 25.310413343592085, \"Credit_History_Age\": 16, \"Credit_Score\": \"Poor\"}, {\"Delay_from_due_date\": 16, \"Num_of_Delayed_Payment\": 15, \"Credit_Utilization_Ratio\": 26.220628060322703, \"Credit_History_Age\": 31, \"Credit_Score\": \"Standard\"}, {\"Delay_from_due_date\": 9, \"Num_of_Delayed_Payment\": 14, \"Credit_Utilization_Ratio\": 33.10401703977096, \"Credit_History_Age\": 22, \"Credit_Score\": \"Good\"}, {\"Delay_from_due_date\": 49, \"Num_of_Delayed_Payment\": 16, \"Credit_Utilization_Ratio\": 25.42767947871691, \"Credit_History_Age\": 7, \"Credit_Score\": \"Poor\"}, {\"Delay_from_due_date\": 47, \"Num_of_Delayed_Payment\": 17, \"Credit_Utilization_Ratio\": 37.20042243593948, \"Credit_History_Age\": 13, \"Credit_Score\": \"Poor\"}, {\"Delay_from_due_date\": 28, \"Num_of_Delayed_Payment\": 11, \"Credit_Utilization_Ratio\": 38.60896706061985, \"Credit_History_Age\": 17, \"Credit_Score\": \"Poor\"}, {\"Delay_from_due_date\": 14, \"Num_of_Delayed_Payment\": 17, \"Credit_Utilization_Ratio\": 29.417944991418096, \"Credit_History_Age\": 26, \"Credit_Score\": \"Standard\"}, {\"Delay_from_due_date\": 5, \"Num_of_Delayed_Payment\": 5, \"Credit_Utilization_Ratio\": 33.114031153495354, \"Credit_History_Age\": 26, \"Credit_Score\": \"Good\"}, {\"Delay_from_due_date\": 30, \"Num_of_Delayed_Payment\": 18, \"Credit_Utilization_Ratio\": 32.38374365604541, \"Credit_History_Age\": 5, \"Credit_Score\": \"Poor\"}, {\"Delay_from_due_date\": 13, \"Num_of_Delayed_Payment\": 14, \"Credit_Utilization_Ratio\": 39.31410943872386, \"Credit_History_Age\": 15, \"Credit_Score\": \"Standard\"}, {\"Delay_from_due_date\": 5, \"Num_of_Delayed_Payment\": 19, \"Credit_Utilization_Ratio\": 34.69149709206022, \"Credit_History_Age\": 20, \"Credit_Score\": \"Standard\"}, {\"Delay_from_due_date\": 23, \"Num_of_Delayed_Payment\": 8, \"Credit_Utilization_Ratio\": 31.2767224485042, \"Credit_History_Age\": 26, \"Credit_Score\": \"Good\"}, {\"Delay_from_due_date\": 6, \"Num_of_Delayed_Payment\": 8, \"Credit_Utilization_Ratio\": 36.22149803271286, \"Credit_History_Age\": 27, \"Credit_Score\": \"Standard\"}, {\"Delay_from_due_date\": 12, \"Num_of_Delayed_Payment\": 6, \"Credit_Utilization_Ratio\": 34.600714557418215, \"Credit_History_Age\": 30, \"Credit_Score\": \"Poor\"}, {\"Delay_from_due_date\": 24, \"Num_of_Delayed_Payment\": 19, \"Credit_Utilization_Ratio\": 30.8344696322202, \"Credit_History_Age\": 18, \"Credit_Score\": \"Standard\"}, {\"Delay_from_due_date\": 1, \"Num_of_Delayed_Payment\": 5, \"Credit_Utilization_Ratio\": 34.396361017005994, \"Credit_History_Age\": 25, \"Credit_Score\": \"Standard\"}, {\"Delay_from_due_date\": 9, \"Num_of_Delayed_Payment\": 11, \"Credit_Utilization_Ratio\": 28.2888627363542, \"Credit_History_Age\": 26, \"Credit_Score\": \"Standard\"}, {\"Delay_from_due_date\": 14, \"Num_of_Delayed_Payment\": 11, \"Credit_Utilization_Ratio\": 36.12670042529796, \"Credit_History_Age\": 15, \"Credit_Score\": \"Good\"}, {\"Delay_from_due_date\": 10, \"Num_of_Delayed_Payment\": 1, \"Credit_Utilization_Ratio\": 38.41083859672204, \"Credit_History_Age\": 17, \"Credit_Score\": \"Good\"}, {\"Delay_from_due_date\": 10, \"Num_of_Delayed_Payment\": 17, \"Credit_Utilization_Ratio\": 39.5897172955551, \"Credit_History_Age\": 22, \"Credit_Score\": \"Poor\"}, {\"Delay_from_due_date\": 21, \"Num_of_Delayed_Payment\": 19, \"Credit_Utilization_Ratio\": 38.44310330670221, \"Credit_History_Age\": 16, \"Credit_Score\": \"Standard\"}, {\"Delay_from_due_date\": 9, \"Num_of_Delayed_Payment\": 15, \"Credit_Utilization_Ratio\": 35.592384063192114, \"Credit_History_Age\": 15, \"Credit_Score\": \"Standard\"}, {\"Delay_from_due_date\": 4, \"Num_of_Delayed_Payment\": 10, \"Credit_Utilization_Ratio\": 43.30235114347255, \"Credit_History_Age\": 26, \"Credit_Score\": \"Good\"}, {\"Delay_from_due_date\": 48, \"Num_of_Delayed_Payment\": 13, \"Credit_Utilization_Ratio\": 26.462964069646503, \"Credit_History_Age\": 8, \"Credit_Score\": \"Poor\"}, {\"Delay_from_due_date\": 19, \"Num_of_Delayed_Payment\": 12, \"Credit_Utilization_Ratio\": 24.72563743417037, \"Credit_History_Age\": 20, \"Credit_Score\": \"Standard\"}, {\"Delay_from_due_date\": 36, \"Num_of_Delayed_Payment\": 22, \"Credit_Utilization_Ratio\": 23.26524070501133, \"Credit_History_Age\": 17, \"Credit_Score\": \"Poor\"}, {\"Delay_from_due_date\": 18, \"Num_of_Delayed_Payment\": 17, \"Credit_Utilization_Ratio\": 29.769547482318902, \"Credit_History_Age\": 8, \"Credit_Score\": \"Standard\"}, {\"Delay_from_due_date\": 18, \"Num_of_Delayed_Payment\": 5, \"Credit_Utilization_Ratio\": 40.49260561482944, \"Credit_History_Age\": 29, \"Credit_Score\": \"Good\"}, {\"Delay_from_due_date\": 14, \"Num_of_Delayed_Payment\": 14, \"Credit_Utilization_Ratio\": 37.93310064600718, \"Credit_History_Age\": 29, \"Credit_Score\": \"Standard\"}, {\"Delay_from_due_date\": 28, \"Num_of_Delayed_Payment\": 18, \"Credit_Utilization_Ratio\": 24.549109881715825, \"Credit_History_Age\": 4, \"Credit_Score\": \"Standard\"}, {\"Delay_from_due_date\": 17, \"Num_of_Delayed_Payment\": 22, \"Credit_Utilization_Ratio\": 35.16813833455672, \"Credit_History_Age\": 27, \"Credit_Score\": \"Standard\"}, {\"Delay_from_due_date\": 9, \"Num_of_Delayed_Payment\": 16, \"Credit_Utilization_Ratio\": 35.32660678943952, \"Credit_History_Age\": 22, \"Credit_Score\": \"Standard\"}, {\"Delay_from_due_date\": 12, \"Num_of_Delayed_Payment\": 20, \"Credit_Utilization_Ratio\": 38.15287833419384, \"Credit_History_Age\": 7, \"Credit_Score\": \"Standard\"}, {\"Delay_from_due_date\": 21, \"Num_of_Delayed_Payment\": 9, \"Credit_Utilization_Ratio\": 27.26506795022256, \"Credit_History_Age\": 12, \"Credit_Score\": \"Poor\"}, {\"Delay_from_due_date\": -3, \"Num_of_Delayed_Payment\": 5, \"Credit_Utilization_Ratio\": 34.08683199255802, \"Credit_History_Age\": 32, \"Credit_Score\": \"Good\"}, {\"Delay_from_due_date\": 24, \"Num_of_Delayed_Payment\": 11, \"Credit_Utilization_Ratio\": 37.36823812480158, \"Credit_History_Age\": 20, \"Credit_Score\": \"Standard\"}, {\"Delay_from_due_date\": 18, \"Num_of_Delayed_Payment\": 9, \"Credit_Utilization_Ratio\": 32.18448412479073, \"Credit_History_Age\": 22, \"Credit_Score\": \"Standard\"}, {\"Delay_from_due_date\": 27, \"Num_of_Delayed_Payment\": 17, \"Credit_Utilization_Ratio\": 24.189912585426768, \"Credit_History_Age\": 16, \"Credit_Score\": \"Standard\"}, {\"Delay_from_due_date\": 8, \"Num_of_Delayed_Payment\": 18, \"Credit_Utilization_Ratio\": 36.55599884653103, \"Credit_History_Age\": 6, \"Credit_Score\": \"Standard\"}, {\"Delay_from_due_date\": 27, \"Num_of_Delayed_Payment\": 6, \"Credit_Utilization_Ratio\": 38.59453138115799, \"Credit_History_Age\": 19, \"Credit_Score\": \"Standard\"}, {\"Delay_from_due_date\": 9, \"Num_of_Delayed_Payment\": 16, \"Credit_Utilization_Ratio\": 39.87430809038953, \"Credit_History_Age\": 19, \"Credit_Score\": \"Standard\"}, {\"Delay_from_due_date\": 49, \"Num_of_Delayed_Payment\": 15, \"Credit_Utilization_Ratio\": 34.476216968082646, \"Credit_History_Age\": 9, \"Credit_Score\": \"Poor\"}, {\"Delay_from_due_date\": 5, \"Num_of_Delayed_Payment\": 12, \"Credit_Utilization_Ratio\": 34.24697085948821, \"Credit_History_Age\": 16, \"Credit_Score\": \"Standard\"}, {\"Delay_from_due_date\": 8, \"Num_of_Delayed_Payment\": 20, \"Credit_Utilization_Ratio\": 31.31721656726437, \"Credit_History_Age\": 17, \"Credit_Score\": \"Good\"}, {\"Delay_from_due_date\": 4, \"Num_of_Delayed_Payment\": 13, \"Credit_Utilization_Ratio\": 36.093769112888594, \"Credit_History_Age\": 9, \"Credit_Score\": \"Standard\"}, {\"Delay_from_due_date\": 25, \"Num_of_Delayed_Payment\": 17, \"Credit_Utilization_Ratio\": 35.4092307158847, \"Credit_History_Age\": 1, \"Credit_Score\": \"Standard\"}, {\"Delay_from_due_date\": 19, \"Num_of_Delayed_Payment\": 8, \"Credit_Utilization_Ratio\": 26.27569331226049, \"Credit_History_Age\": 23, \"Credit_Score\": \"Standard\"}, {\"Delay_from_due_date\": 14, \"Num_of_Delayed_Payment\": 5, \"Credit_Utilization_Ratio\": 29.16546242875053, \"Credit_History_Age\": 22, \"Credit_Score\": \"Standard\"}, {\"Delay_from_due_date\": 13, \"Num_of_Delayed_Payment\": 6, \"Credit_Utilization_Ratio\": 37.20421041647501, \"Credit_History_Age\": 21, \"Credit_Score\": \"Standard\"}, {\"Delay_from_due_date\": 54, \"Num_of_Delayed_Payment\": 8, \"Credit_Utilization_Ratio\": 26.042383725735164, \"Credit_History_Age\": 6, \"Credit_Score\": \"Poor\"}, {\"Delay_from_due_date\": 24, \"Num_of_Delayed_Payment\": 16, \"Credit_Utilization_Ratio\": 36.07156814837974, \"Credit_History_Age\": 13, \"Credit_Score\": \"Poor\"}, {\"Delay_from_due_date\": 21, \"Num_of_Delayed_Payment\": 23, \"Credit_Utilization_Ratio\": 36.80943186712685, \"Credit_History_Age\": 9, \"Credit_Score\": \"Poor\"}, {\"Delay_from_due_date\": 11, \"Num_of_Delayed_Payment\": 12, \"Credit_Utilization_Ratio\": 33.191590923540765, \"Credit_History_Age\": 28, \"Credit_Score\": \"Good\"}, {\"Delay_from_due_date\": 7, \"Num_of_Delayed_Payment\": 2, \"Credit_Utilization_Ratio\": 30.382471298760024, \"Credit_History_Age\": 25, \"Credit_Score\": \"Standard\"}, {\"Delay_from_due_date\": 19, \"Num_of_Delayed_Payment\": 12, \"Credit_Utilization_Ratio\": 36.737391294669685, \"Credit_History_Age\": 20, \"Credit_Score\": \"Poor\"}, {\"Delay_from_due_date\": 15, \"Num_of_Delayed_Payment\": 11, \"Credit_Utilization_Ratio\": 29.057390299431265, \"Credit_History_Age\": 29, \"Credit_Score\": \"Good\"}, {\"Delay_from_due_date\": 20, \"Num_of_Delayed_Payment\": 12, \"Credit_Utilization_Ratio\": 29.39189413912705, \"Credit_History_Age\": 14, \"Credit_Score\": \"Standard\"}, {\"Delay_from_due_date\": 31, \"Num_of_Delayed_Payment\": 10, \"Credit_Utilization_Ratio\": 25.85623158783412, \"Credit_History_Age\": 18, \"Credit_Score\": \"Poor\"}, {\"Delay_from_due_date\": 31, \"Num_of_Delayed_Payment\": 21, \"Credit_Utilization_Ratio\": 30.46478053277143, \"Credit_History_Age\": 11, \"Credit_Score\": \"Standard\"}, {\"Delay_from_due_date\": 14, \"Num_of_Delayed_Payment\": 17, \"Credit_Utilization_Ratio\": 28.835761738022253, \"Credit_History_Age\": 12, \"Credit_Score\": \"Good\"}, {\"Delay_from_due_date\": 35, \"Num_of_Delayed_Payment\": 15, \"Credit_Utilization_Ratio\": 34.53137521953147, \"Credit_History_Age\": 3, \"Credit_Score\": \"Standard\"}, {\"Delay_from_due_date\": 5, \"Num_of_Delayed_Payment\": 14, \"Credit_Utilization_Ratio\": 36.03140683553588, \"Credit_History_Age\": 20, \"Credit_Score\": \"Standard\"}, {\"Delay_from_due_date\": 39, \"Num_of_Delayed_Payment\": 20, \"Credit_Utilization_Ratio\": 28.91335931746884, \"Credit_History_Age\": 12, \"Credit_Score\": \"Poor\"}, {\"Delay_from_due_date\": 40, \"Num_of_Delayed_Payment\": 13, \"Credit_Utilization_Ratio\": 30.178255314477628, \"Credit_History_Age\": 18, \"Credit_Score\": \"Standard\"}, {\"Delay_from_due_date\": 7, \"Num_of_Delayed_Payment\": 11, \"Credit_Utilization_Ratio\": 35.152015796501296, \"Credit_History_Age\": 28, \"Credit_Score\": \"Standard\"}, {\"Delay_from_due_date\": 4, \"Num_of_Delayed_Payment\": 7, \"Credit_Utilization_Ratio\": 37.275665929986985, \"Credit_History_Age\": 19, \"Credit_Score\": \"Good\"}, {\"Delay_from_due_date\": 33, \"Num_of_Delayed_Payment\": 25, \"Credit_Utilization_Ratio\": 27.375395450953512, \"Credit_History_Age\": 11, \"Credit_Score\": \"Standard\"}, {\"Delay_from_due_date\": 49, \"Num_of_Delayed_Payment\": 25, \"Credit_Utilization_Ratio\": 39.190721582123984, \"Credit_History_Age\": 11, \"Credit_Score\": \"Poor\"}, {\"Delay_from_due_date\": 11, \"Num_of_Delayed_Payment\": 1, \"Credit_Utilization_Ratio\": 30.37060637308288, \"Credit_History_Age\": 33, \"Credit_Score\": \"Standard\"}, {\"Delay_from_due_date\": 12, \"Num_of_Delayed_Payment\": 8, \"Credit_Utilization_Ratio\": 33.23233710840685, \"Credit_History_Age\": 24, \"Credit_Score\": \"Standard\"}, {\"Delay_from_due_date\": 6, \"Num_of_Delayed_Payment\": 17, \"Credit_Utilization_Ratio\": 36.19795940192436, \"Credit_History_Age\": 20, \"Credit_Score\": \"Standard\"}, {\"Delay_from_due_date\": 17, \"Num_of_Delayed_Payment\": 16, \"Credit_Utilization_Ratio\": 39.27231784184416, \"Credit_History_Age\": 31, \"Credit_Score\": \"Standard\"}, {\"Delay_from_due_date\": 25, \"Num_of_Delayed_Payment\": 18, \"Credit_Utilization_Ratio\": 27.676462965062047, \"Credit_History_Age\": 11, \"Credit_Score\": \"Poor\"}, {\"Delay_from_due_date\": 26, \"Num_of_Delayed_Payment\": 14, \"Credit_Utilization_Ratio\": 37.23182730602485, \"Credit_History_Age\": 20, \"Credit_Score\": \"Standard\"}, {\"Delay_from_due_date\": 18, \"Num_of_Delayed_Payment\": 9, \"Credit_Utilization_Ratio\": 31.309695568446607, \"Credit_History_Age\": 23, \"Credit_Score\": \"Poor\"}, {\"Delay_from_due_date\": 27, \"Num_of_Delayed_Payment\": 19, \"Credit_Utilization_Ratio\": 29.038306643763622, \"Credit_History_Age\": 8, \"Credit_Score\": \"Standard\"}, {\"Delay_from_due_date\": 40, \"Num_of_Delayed_Payment\": 21, \"Credit_Utilization_Ratio\": 32.71969459178752, \"Credit_History_Age\": 11, \"Credit_Score\": \"Standard\"}, {\"Delay_from_due_date\": 27, \"Num_of_Delayed_Payment\": 18, \"Credit_Utilization_Ratio\": 28.081656138539227, \"Credit_History_Age\": 7, \"Credit_Score\": \"Poor\"}, {\"Delay_from_due_date\": 14, \"Num_of_Delayed_Payment\": 11, \"Credit_Utilization_Ratio\": 23.401009297484197, \"Credit_History_Age\": 15, \"Credit_Score\": \"Standard\"}, {\"Delay_from_due_date\": 9, \"Num_of_Delayed_Payment\": 10, \"Credit_Utilization_Ratio\": 34.469783496046965, \"Credit_History_Age\": 13, \"Credit_Score\": \"Standard\"}, {\"Delay_from_due_date\": 7, \"Num_of_Delayed_Payment\": 8, \"Credit_Utilization_Ratio\": 39.42002721041288, \"Credit_History_Age\": 9, \"Credit_Score\": \"Poor\"}, {\"Delay_from_due_date\": 25, \"Num_of_Delayed_Payment\": 12, \"Credit_Utilization_Ratio\": 37.27626451096353, \"Credit_History_Age\": 26, \"Credit_Score\": \"Standard\"}, {\"Delay_from_due_date\": 21, \"Num_of_Delayed_Payment\": 10, \"Credit_Utilization_Ratio\": 25.20886143579777, \"Credit_History_Age\": 30, \"Credit_Score\": \"Standard\"}, {\"Delay_from_due_date\": 2, \"Num_of_Delayed_Payment\": 16, \"Credit_Utilization_Ratio\": 32.77612731818066, \"Credit_History_Age\": 28, \"Credit_Score\": \"Standard\"}, {\"Delay_from_due_date\": 3, \"Num_of_Delayed_Payment\": 7, \"Credit_Utilization_Ratio\": 25.14243202516391, \"Credit_History_Age\": 29, \"Credit_Score\": \"Good\"}, {\"Delay_from_due_date\": 12, \"Num_of_Delayed_Payment\": 10, \"Credit_Utilization_Ratio\": 31.16339032000809, \"Credit_History_Age\": 29, \"Credit_Score\": \"Standard\"}, {\"Delay_from_due_date\": 28, \"Num_of_Delayed_Payment\": 21, \"Credit_Utilization_Ratio\": 27.376462961453853, \"Credit_History_Age\": 6, \"Credit_Score\": \"Standard\"}, {\"Delay_from_due_date\": 9, \"Num_of_Delayed_Payment\": 7, \"Credit_Utilization_Ratio\": 36.50342792068177, \"Credit_History_Age\": 19, \"Credit_Score\": \"Standard\"}, {\"Delay_from_due_date\": 25, \"Num_of_Delayed_Payment\": 16, \"Credit_Utilization_Ratio\": 26.790657491845284, \"Credit_History_Age\": 6, \"Credit_Score\": \"Standard\"}, {\"Delay_from_due_date\": 18, \"Num_of_Delayed_Payment\": 4, \"Credit_Utilization_Ratio\": 41.60048998345663, \"Credit_History_Age\": 15, \"Credit_Score\": \"Poor\"}, {\"Delay_from_due_date\": 6, \"Num_of_Delayed_Payment\": 8, \"Credit_Utilization_Ratio\": 33.865325481638, \"Credit_History_Age\": 26, \"Credit_Score\": \"Standard\"}, {\"Delay_from_due_date\": 4, \"Num_of_Delayed_Payment\": 12, \"Credit_Utilization_Ratio\": 35.511792958358114, \"Credit_History_Age\": 22, \"Credit_Score\": \"Good\"}, {\"Delay_from_due_date\": 2, \"Num_of_Delayed_Payment\": 8, \"Credit_Utilization_Ratio\": 39.01155018780878, \"Credit_History_Age\": 23, \"Credit_Score\": \"Good\"}, {\"Delay_from_due_date\": 15, \"Num_of_Delayed_Payment\": 14, \"Credit_Utilization_Ratio\": 31.317336082900272, \"Credit_History_Age\": 18, \"Credit_Score\": \"Poor\"}, {\"Delay_from_due_date\": 30, \"Num_of_Delayed_Payment\": 17, \"Credit_Utilization_Ratio\": 38.96211403697069, \"Credit_History_Age\": 16, \"Credit_Score\": \"Good\"}, {\"Delay_from_due_date\": 13, \"Num_of_Delayed_Payment\": 11, \"Credit_Utilization_Ratio\": 40.03190810183308, \"Credit_History_Age\": 31, \"Credit_Score\": \"Good\"}, {\"Delay_from_due_date\": 5, \"Num_of_Delayed_Payment\": 14, \"Credit_Utilization_Ratio\": 43.51670674086686, \"Credit_History_Age\": 31, \"Credit_Score\": \"Good\"}, {\"Delay_from_due_date\": 24, \"Num_of_Delayed_Payment\": 22, \"Credit_Utilization_Ratio\": 40.03618247562064, \"Credit_History_Age\": 1, \"Credit_Score\": \"Standard\"}, {\"Delay_from_due_date\": 44, \"Num_of_Delayed_Payment\": 21, \"Credit_Utilization_Ratio\": 36.356022012954135, \"Credit_History_Age\": 13, \"Credit_Score\": \"Poor\"}, {\"Delay_from_due_date\": 15, \"Num_of_Delayed_Payment\": 6, \"Credit_Utilization_Ratio\": 38.41963347541724, \"Credit_History_Age\": 31, \"Credit_Score\": \"Good\"}, {\"Delay_from_due_date\": 13, \"Num_of_Delayed_Payment\": 10, \"Credit_Utilization_Ratio\": 30.122496867646863, \"Credit_History_Age\": 21, \"Credit_Score\": \"Good\"}, {\"Delay_from_due_date\": 40, \"Num_of_Delayed_Payment\": 16, \"Credit_Utilization_Ratio\": 39.63027153156664, \"Credit_History_Age\": 2, \"Credit_Score\": \"Standard\"}, {\"Delay_from_due_date\": 11, \"Num_of_Delayed_Payment\": 15, \"Credit_Utilization_Ratio\": 26.90065425888389, \"Credit_History_Age\": 19, \"Credit_Score\": \"Standard\"}, {\"Delay_from_due_date\": 15, \"Num_of_Delayed_Payment\": 21, \"Credit_Utilization_Ratio\": 32.733658816297954, \"Credit_History_Age\": 12, \"Credit_Score\": \"Standard\"}, {\"Delay_from_due_date\": 21, \"Num_of_Delayed_Payment\": 11, \"Credit_Utilization_Ratio\": 36.097213215440775, \"Credit_History_Age\": 15, \"Credit_Score\": \"Standard\"}, {\"Delay_from_due_date\": 20, \"Num_of_Delayed_Payment\": 17, \"Credit_Utilization_Ratio\": 31.970194084125595, \"Credit_History_Age\": 18, \"Credit_Score\": \"Poor\"}, {\"Delay_from_due_date\": 20, \"Num_of_Delayed_Payment\": 20, \"Credit_Utilization_Ratio\": 38.213993589167735, \"Credit_History_Age\": 26, \"Credit_Score\": \"Good\"}, {\"Delay_from_due_date\": 46, \"Num_of_Delayed_Payment\": 10, \"Credit_Utilization_Ratio\": 36.56847671567243, \"Credit_History_Age\": 9, \"Credit_Score\": \"Poor\"}, {\"Delay_from_due_date\": 20, \"Num_of_Delayed_Payment\": 24, \"Credit_Utilization_Ratio\": 26.108650455803517, \"Credit_History_Age\": 13, \"Credit_Score\": \"Poor\"}, {\"Delay_from_due_date\": 40, \"Num_of_Delayed_Payment\": 19, \"Credit_Utilization_Ratio\": 35.05105773634025, \"Credit_History_Age\": 7, \"Credit_Score\": \"Good\"}, {\"Delay_from_due_date\": 23, \"Num_of_Delayed_Payment\": 23, \"Credit_Utilization_Ratio\": 25.29892701962649, \"Credit_History_Age\": 2, \"Credit_Score\": \"Poor\"}, {\"Delay_from_due_date\": 19, \"Num_of_Delayed_Payment\": 18, \"Credit_Utilization_Ratio\": 30.789203063796123, \"Credit_History_Age\": 15, \"Credit_Score\": \"Standard\"}, {\"Delay_from_due_date\": 17, \"Num_of_Delayed_Payment\": 19, \"Credit_Utilization_Ratio\": 32.45629359540593, \"Credit_History_Age\": 30, \"Credit_Score\": \"Standard\"}, {\"Delay_from_due_date\": 7, \"Num_of_Delayed_Payment\": 12, \"Credit_Utilization_Ratio\": 37.32886240076336, \"Credit_History_Age\": 21, \"Credit_Score\": \"Poor\"}, {\"Delay_from_due_date\": 17, \"Num_of_Delayed_Payment\": 9, \"Credit_Utilization_Ratio\": 30.17056753561956, \"Credit_History_Age\": 27, \"Credit_Score\": \"Good\"}, {\"Delay_from_due_date\": 7, \"Num_of_Delayed_Payment\": 4, \"Credit_Utilization_Ratio\": 36.51844943768623, \"Credit_History_Age\": 16, \"Credit_Score\": \"Good\"}, {\"Delay_from_due_date\": 34, \"Num_of_Delayed_Payment\": 9, \"Credit_Utilization_Ratio\": 23.52337231546024, \"Credit_History_Age\": 7, \"Credit_Score\": \"Standard\"}, {\"Delay_from_due_date\": 47, \"Num_of_Delayed_Payment\": 18, \"Credit_Utilization_Ratio\": 25.03479189019805, \"Credit_History_Age\": 11, \"Credit_Score\": \"Poor\"}, {\"Delay_from_due_date\": 31, \"Num_of_Delayed_Payment\": 20, \"Credit_Utilization_Ratio\": 31.80033656158177, \"Credit_History_Age\": 7, \"Credit_Score\": \"Poor\"}, {\"Delay_from_due_date\": 22, \"Num_of_Delayed_Payment\": 24, \"Credit_Utilization_Ratio\": 37.10688270448812, \"Credit_History_Age\": 8, \"Credit_Score\": \"Poor\"}, {\"Delay_from_due_date\": 8, \"Num_of_Delayed_Payment\": 16, \"Credit_Utilization_Ratio\": 37.02720410231839, \"Credit_History_Age\": 19, \"Credit_Score\": \"Standard\"}, {\"Delay_from_due_date\": 6, \"Num_of_Delayed_Payment\": 16, \"Credit_Utilization_Ratio\": 39.28781401891458, \"Credit_History_Age\": 17, \"Credit_Score\": \"Standard\"}, {\"Delay_from_due_date\": 15, \"Num_of_Delayed_Payment\": 19, \"Credit_Utilization_Ratio\": 30.793905743678984, \"Credit_History_Age\": 18, \"Credit_Score\": \"Standard\"}, {\"Delay_from_due_date\": 13, \"Num_of_Delayed_Payment\": 15, \"Credit_Utilization_Ratio\": 42.26490308138317, \"Credit_History_Age\": 29, \"Credit_Score\": \"Standard\"}, {\"Delay_from_due_date\": 17, \"Num_of_Delayed_Payment\": 12, \"Credit_Utilization_Ratio\": 32.879108576515215, \"Credit_History_Age\": 22, \"Credit_Score\": \"Standard\"}, {\"Delay_from_due_date\": 21, \"Num_of_Delayed_Payment\": 19, \"Credit_Utilization_Ratio\": 30.130989653429346, \"Credit_History_Age\": 26, \"Credit_Score\": \"Standard\"}, {\"Delay_from_due_date\": 28, \"Num_of_Delayed_Payment\": 20, \"Credit_Utilization_Ratio\": 30.61845048693291, \"Credit_History_Age\": 13, \"Credit_Score\": \"Standard\"}, {\"Delay_from_due_date\": 37, \"Num_of_Delayed_Payment\": 24, \"Credit_Utilization_Ratio\": 38.05960371559017, \"Credit_History_Age\": 14, \"Credit_Score\": \"Poor\"}, {\"Delay_from_due_date\": 34, \"Num_of_Delayed_Payment\": 17, \"Credit_Utilization_Ratio\": 34.507721798910424, \"Credit_History_Age\": 18, \"Credit_Score\": \"Standard\"}, {\"Delay_from_due_date\": 12, \"Num_of_Delayed_Payment\": 18, \"Credit_Utilization_Ratio\": 29.38163440049091, \"Credit_History_Age\": 13, \"Credit_Score\": \"Standard\"}, {\"Delay_from_due_date\": 24, \"Num_of_Delayed_Payment\": 15, \"Credit_Utilization_Ratio\": 27.862048299498756, \"Credit_History_Age\": 26, \"Credit_Score\": \"Poor\"}, {\"Delay_from_due_date\": 21, \"Num_of_Delayed_Payment\": 18, \"Credit_Utilization_Ratio\": 25.16073860782536, \"Credit_History_Age\": 18, \"Credit_Score\": \"Standard\"}, {\"Delay_from_due_date\": 1, \"Num_of_Delayed_Payment\": 1, \"Credit_Utilization_Ratio\": 30.79989628216851, \"Credit_History_Age\": 18, \"Credit_Score\": \"Standard\"}, {\"Delay_from_due_date\": 44, \"Num_of_Delayed_Payment\": 17, \"Credit_Utilization_Ratio\": 34.22276382542298, \"Credit_History_Age\": 1, \"Credit_Score\": \"Poor\"}, {\"Delay_from_due_date\": 17, \"Num_of_Delayed_Payment\": 21, \"Credit_Utilization_Ratio\": 35.18881393623885, \"Credit_History_Age\": 21, \"Credit_Score\": \"Standard\"}, {\"Delay_from_due_date\": 11, \"Num_of_Delayed_Payment\": 19, \"Credit_Utilization_Ratio\": 37.75097899487416, \"Credit_History_Age\": 27, \"Credit_Score\": \"Good\"}, {\"Delay_from_due_date\": 11, \"Num_of_Delayed_Payment\": 12, \"Credit_Utilization_Ratio\": 43.15477657971629, \"Credit_History_Age\": 32, \"Credit_Score\": \"Standard\"}, {\"Delay_from_due_date\": 13, \"Num_of_Delayed_Payment\": 9, \"Credit_Utilization_Ratio\": 43.10536267742258, \"Credit_History_Age\": 25, \"Credit_Score\": \"Good\"}, {\"Delay_from_due_date\": 25, \"Num_of_Delayed_Payment\": 20, \"Credit_Utilization_Ratio\": 39.67697873409597, \"Credit_History_Age\": 14, \"Credit_Score\": \"Standard\"}, {\"Delay_from_due_date\": 18, \"Num_of_Delayed_Payment\": 16, \"Credit_Utilization_Ratio\": 30.760151805699905, \"Credit_History_Age\": 18, \"Credit_Score\": \"Standard\"}, {\"Delay_from_due_date\": 16, \"Num_of_Delayed_Payment\": 13, \"Credit_Utilization_Ratio\": 29.17738213088351, \"Credit_History_Age\": 15, \"Credit_Score\": \"Standard\"}, {\"Delay_from_due_date\": 12, \"Num_of_Delayed_Payment\": 15, \"Credit_Utilization_Ratio\": 34.041901706431034, \"Credit_History_Age\": 26, \"Credit_Score\": \"Standard\"}, {\"Delay_from_due_date\": 21, \"Num_of_Delayed_Payment\": 14, \"Credit_Utilization_Ratio\": 39.105287502430045, \"Credit_History_Age\": 22, \"Credit_Score\": \"Standard\"}, {\"Delay_from_due_date\": 9, \"Num_of_Delayed_Payment\": 2, \"Credit_Utilization_Ratio\": 38.792011557827465, \"Credit_History_Age\": 21, \"Credit_Score\": \"Standard\"}, {\"Delay_from_due_date\": 29, \"Num_of_Delayed_Payment\": 13, \"Credit_Utilization_Ratio\": 30.196474207913155, \"Credit_History_Age\": 8, \"Credit_Score\": \"Standard\"}, {\"Delay_from_due_date\": 40, \"Num_of_Delayed_Payment\": 24, \"Credit_Utilization_Ratio\": 33.994203286067325, \"Credit_History_Age\": 14, \"Credit_Score\": \"Poor\"}, {\"Delay_from_due_date\": 22, \"Num_of_Delayed_Payment\": 24, \"Credit_Utilization_Ratio\": 22.68377441204975, \"Credit_History_Age\": 3, \"Credit_Score\": \"Poor\"}, {\"Delay_from_due_date\": 17, \"Num_of_Delayed_Payment\": 14, \"Credit_Utilization_Ratio\": 39.67947222673399, \"Credit_History_Age\": 6, \"Credit_Score\": \"Standard\"}, {\"Delay_from_due_date\": 24, \"Num_of_Delayed_Payment\": 22, \"Credit_Utilization_Ratio\": 29.34775466722416, \"Credit_History_Age\": 12, \"Credit_Score\": \"Standard\"}, {\"Delay_from_due_date\": 30, \"Num_of_Delayed_Payment\": 17, \"Credit_Utilization_Ratio\": 35.98012452167707, \"Credit_History_Age\": 2, \"Credit_Score\": \"Poor\"}, {\"Delay_from_due_date\": 10, \"Num_of_Delayed_Payment\": 10, \"Credit_Utilization_Ratio\": 28.038102435703784, \"Credit_History_Age\": 33, \"Credit_Score\": \"Standard\"}, {\"Delay_from_due_date\": 43, \"Num_of_Delayed_Payment\": 17, \"Credit_Utilization_Ratio\": 39.518098296325896, \"Credit_History_Age\": 11, \"Credit_Score\": \"Standard\"}, {\"Delay_from_due_date\": 10, \"Num_of_Delayed_Payment\": 17, \"Credit_Utilization_Ratio\": 32.62577443701307, \"Credit_History_Age\": 21, \"Credit_Score\": \"Standard\"}, {\"Delay_from_due_date\": 11, \"Num_of_Delayed_Payment\": 8, \"Credit_Utilization_Ratio\": 30.01751497909784, \"Credit_History_Age\": 19, \"Credit_Score\": \"Poor\"}, {\"Delay_from_due_date\": 14, \"Num_of_Delayed_Payment\": 10, \"Credit_Utilization_Ratio\": 39.3563803944451, \"Credit_History_Age\": 17, \"Credit_Score\": \"Standard\"}, {\"Delay_from_due_date\": 31, \"Num_of_Delayed_Payment\": 17, \"Credit_Utilization_Ratio\": 26.25042107586721, \"Credit_History_Age\": 24, \"Credit_Score\": \"Standard\"}, {\"Delay_from_due_date\": 51, \"Num_of_Delayed_Payment\": 19, \"Credit_Utilization_Ratio\": 22.93693565610076, \"Credit_History_Age\": 14, \"Credit_Score\": \"Poor\"}, {\"Delay_from_due_date\": 6, \"Num_of_Delayed_Payment\": 5, \"Credit_Utilization_Ratio\": 27.47782283055571, \"Credit_History_Age\": 16, \"Credit_Score\": \"Good\"}, {\"Delay_from_due_date\": 15, \"Num_of_Delayed_Payment\": 11, \"Credit_Utilization_Ratio\": 37.77208332927792, \"Credit_History_Age\": 28, \"Credit_Score\": \"Poor\"}, {\"Delay_from_due_date\": 14, \"Num_of_Delayed_Payment\": 13, \"Credit_Utilization_Ratio\": 36.74245706449842, \"Credit_History_Age\": 9, \"Credit_Score\": \"Standard\"}, {\"Delay_from_due_date\": 26, \"Num_of_Delayed_Payment\": 10, \"Credit_Utilization_Ratio\": 34.33317263197259, \"Credit_History_Age\": 24, \"Credit_Score\": \"Poor\"}, {\"Delay_from_due_date\": 7, \"Num_of_Delayed_Payment\": 20, \"Credit_Utilization_Ratio\": 38.71599649733734, \"Credit_History_Age\": 24, \"Credit_Score\": \"Standard\"}, {\"Delay_from_due_date\": 23, \"Num_of_Delayed_Payment\": 8, \"Credit_Utilization_Ratio\": 31.82517570000887, \"Credit_History_Age\": 24, \"Credit_Score\": \"Standard\"}, {\"Delay_from_due_date\": 24, \"Num_of_Delayed_Payment\": 18, \"Credit_Utilization_Ratio\": 33.518864454855816, \"Credit_History_Age\": 18, \"Credit_Score\": \"Good\"}, {\"Delay_from_due_date\": 4, \"Num_of_Delayed_Payment\": 18, \"Credit_Utilization_Ratio\": 23.63390993736337, \"Credit_History_Age\": 31, \"Credit_Score\": \"Standard\"}, {\"Delay_from_due_date\": 23, \"Num_of_Delayed_Payment\": 18, \"Credit_Utilization_Ratio\": 38.5554248419975, \"Credit_History_Age\": 30, \"Credit_Score\": \"Standard\"}, {\"Delay_from_due_date\": 13, \"Num_of_Delayed_Payment\": 14, \"Credit_Utilization_Ratio\": 37.29305563348372, \"Credit_History_Age\": 33, \"Credit_Score\": \"Standard\"}, {\"Delay_from_due_date\": 54, \"Num_of_Delayed_Payment\": 16, \"Credit_Utilization_Ratio\": 27.934236594233184, \"Credit_History_Age\": 13, \"Credit_Score\": \"Standard\"}, {\"Delay_from_due_date\": 30, \"Num_of_Delayed_Payment\": 17, \"Credit_Utilization_Ratio\": 29.71101681975316, \"Credit_History_Age\": 23, \"Credit_Score\": \"Standard\"}, {\"Delay_from_due_date\": 17, \"Num_of_Delayed_Payment\": 8, \"Credit_Utilization_Ratio\": 27.02697823305625, \"Credit_History_Age\": 20, \"Credit_Score\": \"Standard\"}, {\"Delay_from_due_date\": 30, \"Num_of_Delayed_Payment\": 15, \"Credit_Utilization_Ratio\": 31.318835326711536, \"Credit_History_Age\": 25, \"Credit_Score\": \"Standard\"}, {\"Delay_from_due_date\": 38, \"Num_of_Delayed_Payment\": 17, \"Credit_Utilization_Ratio\": 25.39905613764985, \"Credit_History_Age\": 15, \"Credit_Score\": \"Standard\"}, {\"Delay_from_due_date\": 42, \"Num_of_Delayed_Payment\": 22, \"Credit_Utilization_Ratio\": 25.72880098033484, \"Credit_History_Age\": 15, \"Credit_Score\": \"Poor\"}, {\"Delay_from_due_date\": 17, \"Num_of_Delayed_Payment\": 9, \"Credit_Utilization_Ratio\": 36.746862373349536, \"Credit_History_Age\": 20, \"Credit_Score\": \"Standard\"}, {\"Delay_from_due_date\": 2, \"Num_of_Delayed_Payment\": 10, \"Credit_Utilization_Ratio\": 28.88802774322505, \"Credit_History_Age\": 28, \"Credit_Score\": \"Good\"}, {\"Delay_from_due_date\": 14, \"Num_of_Delayed_Payment\": 6, \"Credit_Utilization_Ratio\": 36.30981858252734, \"Credit_History_Age\": 17, \"Credit_Score\": \"Standard\"}, {\"Delay_from_due_date\": 15, \"Num_of_Delayed_Payment\": 9, \"Credit_Utilization_Ratio\": 36.58908846270624, \"Credit_History_Age\": 16, \"Credit_Score\": \"Good\"}, {\"Delay_from_due_date\": 13, \"Num_of_Delayed_Payment\": 19, \"Credit_Utilization_Ratio\": 40.66869723976375, \"Credit_History_Age\": 14, \"Credit_Score\": \"Standard\"}, {\"Delay_from_due_date\": 14, \"Num_of_Delayed_Payment\": 11, \"Credit_Utilization_Ratio\": 28.601321982365512, \"Credit_History_Age\": 20, \"Credit_Score\": \"Poor\"}, {\"Delay_from_due_date\": 24, \"Num_of_Delayed_Payment\": 16, \"Credit_Utilization_Ratio\": 26.79454977778521, \"Credit_History_Age\": 10, \"Credit_Score\": \"Poor\"}, {\"Delay_from_due_date\": 7, \"Num_of_Delayed_Payment\": 5, \"Credit_Utilization_Ratio\": 35.4528283197156, \"Credit_History_Age\": 30, \"Credit_Score\": \"Standard\"}, {\"Delay_from_due_date\": 20, \"Num_of_Delayed_Payment\": 18, \"Credit_Utilization_Ratio\": 35.986066102945045, \"Credit_History_Age\": 26, \"Credit_Score\": \"Standard\"}, {\"Delay_from_due_date\": 42, \"Num_of_Delayed_Payment\": 19, \"Credit_Utilization_Ratio\": 33.7477746711895, \"Credit_History_Age\": 9, \"Credit_Score\": \"Poor\"}, {\"Delay_from_due_date\": 0, \"Num_of_Delayed_Payment\": 3, \"Credit_Utilization_Ratio\": 25.28936037416305, \"Credit_History_Age\": 32, \"Credit_Score\": \"Standard\"}, {\"Delay_from_due_date\": 7, \"Num_of_Delayed_Payment\": 11, \"Credit_Utilization_Ratio\": 39.06789967119556, \"Credit_History_Age\": 16, \"Credit_Score\": \"Poor\"}, {\"Delay_from_due_date\": 0, \"Num_of_Delayed_Payment\": 9, \"Credit_Utilization_Ratio\": 33.08288773522678, \"Credit_History_Age\": 17, \"Credit_Score\": \"Good\"}, {\"Delay_from_due_date\": 1, \"Num_of_Delayed_Payment\": 5, \"Credit_Utilization_Ratio\": 40.68214878239343, \"Credit_History_Age\": 28, \"Credit_Score\": \"Good\"}, {\"Delay_from_due_date\": 40, \"Num_of_Delayed_Payment\": 24, \"Credit_Utilization_Ratio\": 26.598434176063424, \"Credit_History_Age\": 19, \"Credit_Score\": \"Poor\"}, {\"Delay_from_due_date\": 24, \"Num_of_Delayed_Payment\": 24, \"Credit_Utilization_Ratio\": 29.73415522703216, \"Credit_History_Age\": 17, \"Credit_Score\": \"Poor\"}, {\"Delay_from_due_date\": 26, \"Num_of_Delayed_Payment\": 19, \"Credit_Utilization_Ratio\": 31.510873530457825, \"Credit_History_Age\": 1, \"Credit_Score\": \"Standard\"}, {\"Delay_from_due_date\": 19, \"Num_of_Delayed_Payment\": 15, \"Credit_Utilization_Ratio\": 25.52375781098153, \"Credit_History_Age\": 5, \"Credit_Score\": \"Standard\"}, {\"Delay_from_due_date\": 16, \"Num_of_Delayed_Payment\": 15, \"Credit_Utilization_Ratio\": 33.788066194132405, \"Credit_History_Age\": 23, \"Credit_Score\": \"Standard\"}, {\"Delay_from_due_date\": 24, \"Num_of_Delayed_Payment\": 23, \"Credit_Utilization_Ratio\": 37.246283675207216, \"Credit_History_Age\": 2, \"Credit_Score\": \"Standard\"}, {\"Delay_from_due_date\": 3, \"Num_of_Delayed_Payment\": 4, \"Credit_Utilization_Ratio\": 27.05057588934674, \"Credit_History_Age\": 32, \"Credit_Score\": \"Good\"}, {\"Delay_from_due_date\": 46, \"Num_of_Delayed_Payment\": 14, \"Credit_Utilization_Ratio\": 26.047247882266294, \"Credit_History_Age\": 8, \"Credit_Score\": \"Poor\"}, {\"Delay_from_due_date\": 30, \"Num_of_Delayed_Payment\": 25, \"Credit_Utilization_Ratio\": 31.89946796153577, \"Credit_History_Age\": 16, \"Credit_Score\": \"Poor\"}, {\"Delay_from_due_date\": 55, \"Num_of_Delayed_Payment\": 19, \"Credit_Utilization_Ratio\": 31.11196598521252, \"Credit_History_Age\": 3, \"Credit_Score\": \"Standard\"}, {\"Delay_from_due_date\": 23, \"Num_of_Delayed_Payment\": 9, \"Credit_Utilization_Ratio\": 27.57647762267587, \"Credit_History_Age\": 9, \"Credit_Score\": \"Standard\"}, {\"Delay_from_due_date\": 20, \"Num_of_Delayed_Payment\": 6, \"Credit_Utilization_Ratio\": 32.209592345079656, \"Credit_History_Age\": 16, \"Credit_Score\": \"Poor\"}, {\"Delay_from_due_date\": 17, \"Num_of_Delayed_Payment\": 15, \"Credit_Utilization_Ratio\": 42.134127784846136, \"Credit_History_Age\": 11, \"Credit_Score\": \"Poor\"}, {\"Delay_from_due_date\": 22, \"Num_of_Delayed_Payment\": 21, \"Credit_Utilization_Ratio\": 32.06114054301227, \"Credit_History_Age\": 6, \"Credit_Score\": \"Poor\"}, {\"Delay_from_due_date\": 3, \"Num_of_Delayed_Payment\": 14, \"Credit_Utilization_Ratio\": 40.31849816672249, \"Credit_History_Age\": 20, \"Credit_Score\": \"Standard\"}, {\"Delay_from_due_date\": 11, \"Num_of_Delayed_Payment\": 7, \"Credit_Utilization_Ratio\": 34.12946221933095, \"Credit_History_Age\": 27, \"Credit_Score\": \"Standard\"}, {\"Delay_from_due_date\": 24, \"Num_of_Delayed_Payment\": 19, \"Credit_Utilization_Ratio\": 30.98786044205584, \"Credit_History_Age\": 28, \"Credit_Score\": \"Standard\"}, {\"Delay_from_due_date\": 7, \"Num_of_Delayed_Payment\": 16, \"Credit_Utilization_Ratio\": 31.625560840461628, \"Credit_History_Age\": 8, \"Credit_Score\": \"Standard\"}, {\"Delay_from_due_date\": 14, \"Num_of_Delayed_Payment\": 12, \"Credit_Utilization_Ratio\": 27.892472914290124, \"Credit_History_Age\": 25, \"Credit_Score\": \"Good\"}, {\"Delay_from_due_date\": 45, \"Num_of_Delayed_Payment\": 20, \"Credit_Utilization_Ratio\": 36.78062791253329, \"Credit_History_Age\": 14, \"Credit_Score\": \"Standard\"}, {\"Delay_from_due_date\": 21, \"Num_of_Delayed_Payment\": 6, \"Credit_Utilization_Ratio\": 38.52092492665611, \"Credit_History_Age\": 17, \"Credit_Score\": \"Standard\"}, {\"Delay_from_due_date\": 29, \"Num_of_Delayed_Payment\": 19, \"Credit_Utilization_Ratio\": 28.40830528415988, \"Credit_History_Age\": 11, \"Credit_Score\": \"Poor\"}, {\"Delay_from_due_date\": 28, \"Num_of_Delayed_Payment\": 17, \"Credit_Utilization_Ratio\": 37.07504447983272, \"Credit_History_Age\": 16, \"Credit_Score\": \"Poor\"}, {\"Delay_from_due_date\": 19, \"Num_of_Delayed_Payment\": 12, \"Credit_Utilization_Ratio\": 24.55080381925239, \"Credit_History_Age\": 9, \"Credit_Score\": \"Standard\"}, {\"Delay_from_due_date\": 2, \"Num_of_Delayed_Payment\": 4, \"Credit_Utilization_Ratio\": 36.17551052966221, \"Credit_History_Age\": 23, \"Credit_Score\": \"Standard\"}, {\"Delay_from_due_date\": 30, \"Num_of_Delayed_Payment\": 18, \"Credit_Utilization_Ratio\": 41.10977696497496, \"Credit_History_Age\": 24, \"Credit_Score\": \"Poor\"}, {\"Delay_from_due_date\": 7, \"Num_of_Delayed_Payment\": 0, \"Credit_Utilization_Ratio\": 30.341483381860648, \"Credit_History_Age\": 21, \"Credit_Score\": \"Good\"}, {\"Delay_from_due_date\": 52, \"Num_of_Delayed_Payment\": 22, \"Credit_Utilization_Ratio\": 34.25443633183961, \"Credit_History_Age\": 10, \"Credit_Score\": \"Standard\"}, {\"Delay_from_due_date\": 3, \"Num_of_Delayed_Payment\": 14, \"Credit_Utilization_Ratio\": 41.01514845992979, \"Credit_History_Age\": 29, \"Credit_Score\": \"Good\"}, {\"Delay_from_due_date\": 27, \"Num_of_Delayed_Payment\": 13, \"Credit_Utilization_Ratio\": 24.717192709820253, \"Credit_History_Age\": 25, \"Credit_Score\": \"Poor\"}, {\"Delay_from_due_date\": 8, \"Num_of_Delayed_Payment\": 18, \"Credit_Utilization_Ratio\": 36.75070871049603, \"Credit_History_Age\": 24, \"Credit_Score\": \"Good\"}, {\"Delay_from_due_date\": 7, \"Num_of_Delayed_Payment\": 0, \"Credit_Utilization_Ratio\": 38.57850099372224, \"Credit_History_Age\": 16, \"Credit_Score\": \"Standard\"}, {\"Delay_from_due_date\": 27, \"Num_of_Delayed_Payment\": 7, \"Credit_Utilization_Ratio\": 26.01558081219003, \"Credit_History_Age\": 7, \"Credit_Score\": \"Standard\"}, {\"Delay_from_due_date\": 10, \"Num_of_Delayed_Payment\": 14, \"Credit_Utilization_Ratio\": 40.27776603492636, \"Credit_History_Age\": 30, \"Credit_Score\": \"Standard\"}, {\"Delay_from_due_date\": 47, \"Num_of_Delayed_Payment\": 18, \"Credit_Utilization_Ratio\": 35.66825808942946, \"Credit_History_Age\": 11, \"Credit_Score\": \"Poor\"}, {\"Delay_from_due_date\": 38, \"Num_of_Delayed_Payment\": 17, \"Credit_Utilization_Ratio\": 32.11670656205927, \"Credit_History_Age\": 8, \"Credit_Score\": \"Standard\"}, {\"Delay_from_due_date\": 20, \"Num_of_Delayed_Payment\": 17, \"Credit_Utilization_Ratio\": 27.407027036093613, \"Credit_History_Age\": 15, \"Credit_Score\": \"Standard\"}, {\"Delay_from_due_date\": 16, \"Num_of_Delayed_Payment\": 12, \"Credit_Utilization_Ratio\": 37.7948258422785, \"Credit_History_Age\": 6, \"Credit_Score\": \"Standard\"}, {\"Delay_from_due_date\": 13, \"Num_of_Delayed_Payment\": 8, \"Credit_Utilization_Ratio\": 36.12744792467165, \"Credit_History_Age\": 19, \"Credit_Score\": \"Good\"}, {\"Delay_from_due_date\": 52, \"Num_of_Delayed_Payment\": 19, \"Credit_Utilization_Ratio\": 23.34811308414009, \"Credit_History_Age\": 11, \"Credit_Score\": \"Poor\"}, {\"Delay_from_due_date\": 1, \"Num_of_Delayed_Payment\": 2, \"Credit_Utilization_Ratio\": 43.87970511536872, \"Credit_History_Age\": 27, \"Credit_Score\": \"Good\"}, {\"Delay_from_due_date\": 12, \"Num_of_Delayed_Payment\": 1, \"Credit_Utilization_Ratio\": 38.09044678763153, \"Credit_History_Age\": 25, \"Credit_Score\": \"Good\"}, {\"Delay_from_due_date\": 3, \"Num_of_Delayed_Payment\": 6, \"Credit_Utilization_Ratio\": 29.64395686629971, \"Credit_History_Age\": 16, \"Credit_Score\": \"Good\"}, {\"Delay_from_due_date\": 7, \"Num_of_Delayed_Payment\": 0, \"Credit_Utilization_Ratio\": 33.67408033032805, \"Credit_History_Age\": 29, \"Credit_Score\": \"Standard\"}, {\"Delay_from_due_date\": 27, \"Num_of_Delayed_Payment\": 16, \"Credit_Utilization_Ratio\": 35.595568586875366, \"Credit_History_Age\": 18, \"Credit_Score\": \"Good\"}, {\"Delay_from_due_date\": 5, \"Num_of_Delayed_Payment\": 5, \"Credit_Utilization_Ratio\": 37.73026748261672, \"Credit_History_Age\": 18, \"Credit_Score\": \"Good\"}, {\"Delay_from_due_date\": 22, \"Num_of_Delayed_Payment\": 9, \"Credit_Utilization_Ratio\": 33.3768093063776, \"Credit_History_Age\": 28, \"Credit_Score\": \"Standard\"}, {\"Delay_from_due_date\": 28, \"Num_of_Delayed_Payment\": 20, \"Credit_Utilization_Ratio\": 37.58461872473604, \"Credit_History_Age\": 20, \"Credit_Score\": \"Standard\"}, {\"Delay_from_due_date\": 12, \"Num_of_Delayed_Payment\": 2, \"Credit_Utilization_Ratio\": 28.67598688669631, \"Credit_History_Age\": 31, \"Credit_Score\": \"Good\"}, {\"Delay_from_due_date\": 13, \"Num_of_Delayed_Payment\": 10, \"Credit_Utilization_Ratio\": 31.48437952564052, \"Credit_History_Age\": 22, \"Credit_Score\": \"Standard\"}, {\"Delay_from_due_date\": 9, \"Num_of_Delayed_Payment\": 16, \"Credit_Utilization_Ratio\": 26.11820789387953, \"Credit_History_Age\": 17, \"Credit_Score\": \"Standard\"}, {\"Delay_from_due_date\": 7, \"Num_of_Delayed_Payment\": 9, \"Credit_Utilization_Ratio\": 24.814745926949072, \"Credit_History_Age\": 17, \"Credit_Score\": \"Standard\"}, {\"Delay_from_due_date\": 23, \"Num_of_Delayed_Payment\": 17, \"Credit_Utilization_Ratio\": 22.32079195558132, \"Credit_History_Age\": 10, \"Credit_Score\": \"Standard\"}, {\"Delay_from_due_date\": 7, \"Num_of_Delayed_Payment\": 17, \"Credit_Utilization_Ratio\": 23.430474275937986, \"Credit_History_Age\": 19, \"Credit_Score\": \"Standard\"}, {\"Delay_from_due_date\": 31, \"Num_of_Delayed_Payment\": 24, \"Credit_Utilization_Ratio\": 30.32984292582509, \"Credit_History_Age\": 6, \"Credit_Score\": \"Standard\"}, {\"Delay_from_due_date\": 20, \"Num_of_Delayed_Payment\": 9, \"Credit_Utilization_Ratio\": 38.12698812764528, \"Credit_History_Age\": 11, \"Credit_Score\": \"Standard\"}, {\"Delay_from_due_date\": 52, \"Num_of_Delayed_Payment\": 24, \"Credit_Utilization_Ratio\": 25.046604790151445, \"Credit_History_Age\": 5, \"Credit_Score\": \"Poor\"}, {\"Delay_from_due_date\": 10, \"Num_of_Delayed_Payment\": 9, \"Credit_Utilization_Ratio\": 38.71086518091885, \"Credit_History_Age\": 26, \"Credit_Score\": \"Poor\"}, {\"Delay_from_due_date\": 20, \"Num_of_Delayed_Payment\": 17, \"Credit_Utilization_Ratio\": 34.73475696757543, \"Credit_History_Age\": 8, \"Credit_Score\": \"Poor\"}, {\"Delay_from_due_date\": 24, \"Num_of_Delayed_Payment\": 16, \"Credit_Utilization_Ratio\": 36.473984617376814, \"Credit_History_Age\": 29, \"Credit_Score\": \"Standard\"}, {\"Delay_from_due_date\": 4, \"Num_of_Delayed_Payment\": 22, \"Credit_Utilization_Ratio\": 27.775077358195205, \"Credit_History_Age\": 31, \"Credit_Score\": \"Standard\"}, {\"Delay_from_due_date\": 7, \"Num_of_Delayed_Payment\": 15, \"Credit_Utilization_Ratio\": 25.120506439646483, \"Credit_History_Age\": 19, \"Credit_Score\": \"Good\"}, {\"Delay_from_due_date\": 10, \"Num_of_Delayed_Payment\": 14, \"Credit_Utilization_Ratio\": 30.29485373385087, \"Credit_History_Age\": 25, \"Credit_Score\": \"Standard\"}, {\"Delay_from_due_date\": 41, \"Num_of_Delayed_Payment\": 20, \"Credit_Utilization_Ratio\": 34.825869536224005, \"Credit_History_Age\": 0, \"Credit_Score\": \"Standard\"}, {\"Delay_from_due_date\": 0, \"Num_of_Delayed_Payment\": 12, \"Credit_Utilization_Ratio\": 30.645918612681605, \"Credit_History_Age\": 22, \"Credit_Score\": \"Good\"}, {\"Delay_from_due_date\": 51, \"Num_of_Delayed_Payment\": 20, \"Credit_Utilization_Ratio\": 27.22042654331312, \"Credit_History_Age\": 9, \"Credit_Score\": \"Poor\"}, {\"Delay_from_due_date\": 2, \"Num_of_Delayed_Payment\": 1, \"Credit_Utilization_Ratio\": 31.17048816494489, \"Credit_History_Age\": 17, \"Credit_Score\": \"Poor\"}, {\"Delay_from_due_date\": 56, \"Num_of_Delayed_Payment\": 22, \"Credit_Utilization_Ratio\": 26.13222426889072, \"Credit_History_Age\": 5, \"Credit_Score\": \"Standard\"}, {\"Delay_from_due_date\": 8, \"Num_of_Delayed_Payment\": 8, \"Credit_Utilization_Ratio\": 31.926969963417875, \"Credit_History_Age\": 15, \"Credit_Score\": \"Standard\"}, {\"Delay_from_due_date\": 9, \"Num_of_Delayed_Payment\": 7, \"Credit_Utilization_Ratio\": 29.35638422107712, \"Credit_History_Age\": 25, \"Credit_Score\": \"Good\"}, {\"Delay_from_due_date\": 22, \"Num_of_Delayed_Payment\": 16, \"Credit_Utilization_Ratio\": 26.919041970149788, \"Credit_History_Age\": 16, \"Credit_Score\": \"Good\"}, {\"Delay_from_due_date\": 6, \"Num_of_Delayed_Payment\": 20, \"Credit_Utilization_Ratio\": 35.23583020221421, \"Credit_History_Age\": 10, \"Credit_Score\": \"Standard\"}, {\"Delay_from_due_date\": 36, \"Num_of_Delayed_Payment\": 14, \"Credit_Utilization_Ratio\": 31.540249912773948, \"Credit_History_Age\": 1, \"Credit_Score\": \"Poor\"}, {\"Delay_from_due_date\": 45, \"Num_of_Delayed_Payment\": 22, \"Credit_Utilization_Ratio\": 37.33186426143081, \"Credit_History_Age\": 10, \"Credit_Score\": \"Poor\"}, {\"Delay_from_due_date\": 51, \"Num_of_Delayed_Payment\": 23, \"Credit_Utilization_Ratio\": 34.20447675894481, \"Credit_History_Age\": 12, \"Credit_Score\": \"Standard\"}, {\"Delay_from_due_date\": 12, \"Num_of_Delayed_Payment\": 15, \"Credit_Utilization_Ratio\": 30.596868632051237, \"Credit_History_Age\": 20, \"Credit_Score\": \"Good\"}, {\"Delay_from_due_date\": 6, \"Num_of_Delayed_Payment\": 20, \"Credit_Utilization_Ratio\": 24.25860029846185, \"Credit_History_Age\": 29, \"Credit_Score\": \"Standard\"}, {\"Delay_from_due_date\": 6, \"Num_of_Delayed_Payment\": 13, \"Credit_Utilization_Ratio\": 26.587742359316568, \"Credit_History_Age\": 26, \"Credit_Score\": \"Good\"}, {\"Delay_from_due_date\": 38, \"Num_of_Delayed_Payment\": 20, \"Credit_Utilization_Ratio\": 30.425571926586237, \"Credit_History_Age\": 5, \"Credit_Score\": \"Standard\"}, {\"Delay_from_due_date\": 26, \"Num_of_Delayed_Payment\": 20, \"Credit_Utilization_Ratio\": 23.147952960012283, \"Credit_History_Age\": 5, \"Credit_Score\": \"Poor\"}, {\"Delay_from_due_date\": 14, \"Num_of_Delayed_Payment\": 8, \"Credit_Utilization_Ratio\": 29.654257664221404, \"Credit_History_Age\": 30, \"Credit_Score\": \"Good\"}, {\"Delay_from_due_date\": 20, \"Num_of_Delayed_Payment\": 24, \"Credit_Utilization_Ratio\": 29.318839990568208, \"Credit_History_Age\": 1, \"Credit_Score\": \"Standard\"}, {\"Delay_from_due_date\": 9, \"Num_of_Delayed_Payment\": 15, \"Credit_Utilization_Ratio\": 33.007244945996426, \"Credit_History_Age\": 31, \"Credit_Score\": \"Standard\"}, {\"Delay_from_due_date\": 28, \"Num_of_Delayed_Payment\": 21, \"Credit_Utilization_Ratio\": 38.11465193934604, \"Credit_History_Age\": 20, \"Credit_Score\": \"Standard\"}, {\"Delay_from_due_date\": 11, \"Num_of_Delayed_Payment\": 9, \"Credit_Utilization_Ratio\": 36.03390888440385, \"Credit_History_Age\": 23, \"Credit_Score\": \"Standard\"}, {\"Delay_from_due_date\": 1, \"Num_of_Delayed_Payment\": 15, \"Credit_Utilization_Ratio\": 30.098411425574803, \"Credit_History_Age\": 33, \"Credit_Score\": \"Standard\"}, {\"Delay_from_due_date\": 19, \"Num_of_Delayed_Payment\": 9, \"Credit_Utilization_Ratio\": 24.025774683672758, \"Credit_History_Age\": 9, \"Credit_Score\": \"Standard\"}, {\"Delay_from_due_date\": 40, \"Num_of_Delayed_Payment\": 17, \"Credit_Utilization_Ratio\": 27.46186019399523, \"Credit_History_Age\": 11, \"Credit_Score\": \"Poor\"}, {\"Delay_from_due_date\": 29, \"Num_of_Delayed_Payment\": 6, \"Credit_Utilization_Ratio\": 33.20199082140468, \"Credit_History_Age\": 16, \"Credit_Score\": \"Poor\"}, {\"Delay_from_due_date\": 25, \"Num_of_Delayed_Payment\": 18, \"Credit_Utilization_Ratio\": 39.79837211886918, \"Credit_History_Age\": 19, \"Credit_Score\": \"Poor\"}, {\"Delay_from_due_date\": 6, \"Num_of_Delayed_Payment\": 10, \"Credit_Utilization_Ratio\": 33.77328720291976, \"Credit_History_Age\": 12, \"Credit_Score\": \"Standard\"}, {\"Delay_from_due_date\": 11, \"Num_of_Delayed_Payment\": 11, \"Credit_Utilization_Ratio\": 31.13805911017819, \"Credit_History_Age\": 28, \"Credit_Score\": \"Standard\"}, {\"Delay_from_due_date\": 30, \"Num_of_Delayed_Payment\": 20, \"Credit_Utilization_Ratio\": 37.56113618253082, \"Credit_History_Age\": 24, \"Credit_Score\": \"Standard\"}, {\"Delay_from_due_date\": 24, \"Num_of_Delayed_Payment\": 7, \"Credit_Utilization_Ratio\": 32.75875750609257, \"Credit_History_Age\": 12, \"Credit_Score\": \"Standard\"}, {\"Delay_from_due_date\": 3, \"Num_of_Delayed_Payment\": 12, \"Credit_Utilization_Ratio\": 27.733067073812222, \"Credit_History_Age\": 27, \"Credit_Score\": \"Good\"}, {\"Delay_from_due_date\": 11, \"Num_of_Delayed_Payment\": 12, \"Credit_Utilization_Ratio\": 25.80621428174344, \"Credit_History_Age\": 14, \"Credit_Score\": \"Standard\"}, {\"Delay_from_due_date\": 10, \"Num_of_Delayed_Payment\": 20, \"Credit_Utilization_Ratio\": 30.014893443268026, \"Credit_History_Age\": 9, \"Credit_Score\": \"Poor\"}, {\"Delay_from_due_date\": 13, \"Num_of_Delayed_Payment\": 4, \"Credit_Utilization_Ratio\": 37.82485696453983, \"Credit_History_Age\": 23, \"Credit_Score\": \"Standard\"}, {\"Delay_from_due_date\": 54, \"Num_of_Delayed_Payment\": 19, \"Credit_Utilization_Ratio\": 25.249602723096107, \"Credit_History_Age\": 7, \"Credit_Score\": \"Poor\"}, {\"Delay_from_due_date\": 22, \"Num_of_Delayed_Payment\": 12, \"Credit_Utilization_Ratio\": 35.05728822525877, \"Credit_History_Age\": 29, \"Credit_Score\": \"Standard\"}, {\"Delay_from_due_date\": 19, \"Num_of_Delayed_Payment\": 10, \"Credit_Utilization_Ratio\": 35.24952300511068, \"Credit_History_Age\": 33, \"Credit_Score\": \"Standard\"}, {\"Delay_from_due_date\": 26, \"Num_of_Delayed_Payment\": 19, \"Credit_Utilization_Ratio\": 31.49450784291016, \"Credit_History_Age\": 13, \"Credit_Score\": \"Standard\"}, {\"Delay_from_due_date\": 56, \"Num_of_Delayed_Payment\": 21, \"Credit_Utilization_Ratio\": 25.32954826713337, \"Credit_History_Age\": 12, \"Credit_Score\": \"Poor\"}, {\"Delay_from_due_date\": 6, \"Num_of_Delayed_Payment\": 7, \"Credit_Utilization_Ratio\": 40.00199145024381, \"Credit_History_Age\": 19, \"Credit_Score\": \"Good\"}, {\"Delay_from_due_date\": 13, \"Num_of_Delayed_Payment\": 14, \"Credit_Utilization_Ratio\": 28.341964580533343, \"Credit_History_Age\": 15, \"Credit_Score\": \"Standard\"}, {\"Delay_from_due_date\": 13, \"Num_of_Delayed_Payment\": 20, \"Credit_Utilization_Ratio\": 34.632697973862456, \"Credit_History_Age\": 22, \"Credit_Score\": \"Standard\"}, {\"Delay_from_due_date\": 22, \"Num_of_Delayed_Payment\": 17, \"Credit_Utilization_Ratio\": 38.53602260870122, \"Credit_History_Age\": 21, \"Credit_Score\": \"Standard\"}, {\"Delay_from_due_date\": 6, \"Num_of_Delayed_Payment\": 1, \"Credit_Utilization_Ratio\": 40.972697290495866, \"Credit_History_Age\": 16, \"Credit_Score\": \"Standard\"}, {\"Delay_from_due_date\": 21, \"Num_of_Delayed_Payment\": 18, \"Credit_Utilization_Ratio\": 24.597961704205808, \"Credit_History_Age\": 11, \"Credit_Score\": \"Poor\"}, {\"Delay_from_due_date\": 17, \"Num_of_Delayed_Payment\": 27, \"Credit_Utilization_Ratio\": 29.17280886964425, \"Credit_History_Age\": 7, \"Credit_Score\": \"Poor\"}, {\"Delay_from_due_date\": 4, \"Num_of_Delayed_Payment\": 4, \"Credit_Utilization_Ratio\": 27.84697870096157, \"Credit_History_Age\": 21, \"Credit_Score\": \"Standard\"}, {\"Delay_from_due_date\": 0, \"Num_of_Delayed_Payment\": 10, \"Credit_Utilization_Ratio\": 27.12853677220737, \"Credit_History_Age\": 17, \"Credit_Score\": \"Good\"}, {\"Delay_from_due_date\": 14, \"Num_of_Delayed_Payment\": 5, \"Credit_Utilization_Ratio\": 26.953998767204407, \"Credit_History_Age\": 19, \"Credit_Score\": \"Good\"}, {\"Delay_from_due_date\": 9, \"Num_of_Delayed_Payment\": 4, \"Credit_Utilization_Ratio\": 32.16224187026108, \"Credit_History_Age\": 25, \"Credit_Score\": \"Good\"}, {\"Delay_from_due_date\": 26, \"Num_of_Delayed_Payment\": 16, \"Credit_Utilization_Ratio\": 35.79381602553754, \"Credit_History_Age\": 7, \"Credit_Score\": \"Poor\"}, {\"Delay_from_due_date\": 15, \"Num_of_Delayed_Payment\": 3, \"Credit_Utilization_Ratio\": 30.99547997829086, \"Credit_History_Age\": 21, \"Credit_Score\": \"Good\"}, {\"Delay_from_due_date\": 7, \"Num_of_Delayed_Payment\": 7, \"Credit_Utilization_Ratio\": 23.881134631723302, \"Credit_History_Age\": 25, \"Credit_Score\": \"Standard\"}, {\"Delay_from_due_date\": 27, \"Num_of_Delayed_Payment\": 16, \"Credit_Utilization_Ratio\": 30.72452457794448, \"Credit_History_Age\": 19, \"Credit_Score\": \"Standard\"}, {\"Delay_from_due_date\": 9, \"Num_of_Delayed_Payment\": 15, \"Credit_Utilization_Ratio\": 32.00601900126114, \"Credit_History_Age\": 8, \"Credit_Score\": \"Standard\"}, {\"Delay_from_due_date\": 4, \"Num_of_Delayed_Payment\": 3, \"Credit_Utilization_Ratio\": 38.93374146478912, \"Credit_History_Age\": 19, \"Credit_Score\": \"Standard\"}, {\"Delay_from_due_date\": 28, \"Num_of_Delayed_Payment\": 12, \"Credit_Utilization_Ratio\": 30.454160900082, \"Credit_History_Age\": 24, \"Credit_Score\": \"Standard\"}, {\"Delay_from_due_date\": 5, \"Num_of_Delayed_Payment\": 19, \"Credit_Utilization_Ratio\": 28.40072055072773, \"Credit_History_Age\": 9, \"Credit_Score\": \"Poor\"}, {\"Delay_from_due_date\": 20, \"Num_of_Delayed_Payment\": 18, \"Credit_Utilization_Ratio\": 26.12035292777938, \"Credit_History_Age\": 7, \"Credit_Score\": \"Poor\"}, {\"Delay_from_due_date\": 24, \"Num_of_Delayed_Payment\": 12, \"Credit_Utilization_Ratio\": 31.628753052543026, \"Credit_History_Age\": 26, \"Credit_Score\": \"Standard\"}, {\"Delay_from_due_date\": 18, \"Num_of_Delayed_Payment\": 16, \"Credit_Utilization_Ratio\": 31.10344856408696, \"Credit_History_Age\": 21, \"Credit_Score\": \"Standard\"}, {\"Delay_from_due_date\": 20, \"Num_of_Delayed_Payment\": 19, \"Credit_Utilization_Ratio\": 26.96376319289731, \"Credit_History_Age\": 15, \"Credit_Score\": \"Poor\"}, {\"Delay_from_due_date\": 39, \"Num_of_Delayed_Payment\": 21, \"Credit_Utilization_Ratio\": 25.027666188262323, \"Credit_History_Age\": 1, \"Credit_Score\": \"Poor\"}, {\"Delay_from_due_date\": 31, \"Num_of_Delayed_Payment\": 21, \"Credit_Utilization_Ratio\": 22.4471952407472, \"Credit_History_Age\": 13, \"Credit_Score\": \"Poor\"}, {\"Delay_from_due_date\": 47, \"Num_of_Delayed_Payment\": 17, \"Credit_Utilization_Ratio\": 27.619564411055244, \"Credit_History_Age\": 5, \"Credit_Score\": \"Standard\"}, {\"Delay_from_due_date\": 0, \"Num_of_Delayed_Payment\": 8, \"Credit_Utilization_Ratio\": 31.03247088158535, \"Credit_History_Age\": 30, \"Credit_Score\": \"Good\"}, {\"Delay_from_due_date\": 13, \"Num_of_Delayed_Payment\": 2, \"Credit_Utilization_Ratio\": 34.24874011201729, \"Credit_History_Age\": 28, \"Credit_Score\": \"Good\"}, {\"Delay_from_due_date\": 14, \"Num_of_Delayed_Payment\": 9, \"Credit_Utilization_Ratio\": 38.19024667006974, \"Credit_History_Age\": 29, \"Credit_Score\": \"Standard\"}, {\"Delay_from_due_date\": 7, \"Num_of_Delayed_Payment\": 12, \"Credit_Utilization_Ratio\": 35.010763666750805, \"Credit_History_Age\": 21, \"Credit_Score\": \"Good\"}, {\"Delay_from_due_date\": 28, \"Num_of_Delayed_Payment\": 20, \"Credit_Utilization_Ratio\": 26.033698668815184, \"Credit_History_Age\": 17, \"Credit_Score\": \"Standard\"}, {\"Delay_from_due_date\": 21, \"Num_of_Delayed_Payment\": 14, \"Credit_Utilization_Ratio\": 25.568422636624646, \"Credit_History_Age\": 10, \"Credit_Score\": \"Poor\"}, {\"Delay_from_due_date\": 17, \"Num_of_Delayed_Payment\": 10, \"Credit_Utilization_Ratio\": 34.850521941771554, \"Credit_History_Age\": 19, \"Credit_Score\": \"Standard\"}, {\"Delay_from_due_date\": 55, \"Num_of_Delayed_Payment\": 25, \"Credit_Utilization_Ratio\": 28.788688301069165, \"Credit_History_Age\": 12, \"Credit_Score\": \"Poor\"}, {\"Delay_from_due_date\": 13, \"Num_of_Delayed_Payment\": 3, \"Credit_Utilization_Ratio\": 40.246380036697005, \"Credit_History_Age\": 16, \"Credit_Score\": \"Good\"}, {\"Delay_from_due_date\": 2, \"Num_of_Delayed_Payment\": 9, \"Credit_Utilization_Ratio\": 31.643162572863517, \"Credit_History_Age\": 16, \"Credit_Score\": \"Standard\"}, {\"Delay_from_due_date\": 10, \"Num_of_Delayed_Payment\": 2, \"Credit_Utilization_Ratio\": 33.49812582751278, \"Credit_History_Age\": 30, \"Credit_Score\": \"Good\"}, {\"Delay_from_due_date\": 5, \"Num_of_Delayed_Payment\": 9, \"Credit_Utilization_Ratio\": 40.2761567429163, \"Credit_History_Age\": 7, \"Credit_Score\": \"Poor\"}, {\"Delay_from_due_date\": 17, \"Num_of_Delayed_Payment\": 16, \"Credit_Utilization_Ratio\": 34.09716923146144, \"Credit_History_Age\": 18, \"Credit_Score\": \"Standard\"}, {\"Delay_from_due_date\": 11, \"Num_of_Delayed_Payment\": 13, \"Credit_Utilization_Ratio\": 33.32914660463606, \"Credit_History_Age\": 22, \"Credit_Score\": \"Standard\"}, {\"Delay_from_due_date\": 17, \"Num_of_Delayed_Payment\": 21, \"Credit_Utilization_Ratio\": 31.808691112231536, \"Credit_History_Age\": 12, \"Credit_Score\": \"Standard\"}, {\"Delay_from_due_date\": 17, \"Num_of_Delayed_Payment\": 17, \"Credit_Utilization_Ratio\": 37.29295343538935, \"Credit_History_Age\": 11, \"Credit_Score\": \"Poor\"}, {\"Delay_from_due_date\": 25, \"Num_of_Delayed_Payment\": 8, \"Credit_Utilization_Ratio\": 26.845689722835825, \"Credit_History_Age\": 24, \"Credit_Score\": \"Standard\"}, {\"Delay_from_due_date\": 3, \"Num_of_Delayed_Payment\": 2, \"Credit_Utilization_Ratio\": 37.88889664762039, \"Credit_History_Age\": 30, \"Credit_Score\": \"Good\"}, {\"Delay_from_due_date\": 52, \"Num_of_Delayed_Payment\": 22, \"Credit_Utilization_Ratio\": 30.98406200699012, \"Credit_History_Age\": 5, \"Credit_Score\": \"Standard\"}, {\"Delay_from_due_date\": 14, \"Num_of_Delayed_Payment\": 2, \"Credit_Utilization_Ratio\": 37.336271898426325, \"Credit_History_Age\": 15, \"Credit_Score\": \"Good\"}, {\"Delay_from_due_date\": 27, \"Num_of_Delayed_Payment\": 18, \"Credit_Utilization_Ratio\": 24.14748102167444, \"Credit_History_Age\": 11, \"Credit_Score\": \"Standard\"}, {\"Delay_from_due_date\": 19, \"Num_of_Delayed_Payment\": 23, \"Credit_Utilization_Ratio\": 29.346127669925245, \"Credit_History_Age\": 1, \"Credit_Score\": \"Poor\"}, {\"Delay_from_due_date\": 10, \"Num_of_Delayed_Payment\": 17, \"Credit_Utilization_Ratio\": 34.826541222202714, \"Credit_History_Age\": 11, \"Credit_Score\": \"Standard\"}, {\"Delay_from_due_date\": 26, \"Num_of_Delayed_Payment\": 9, \"Credit_Utilization_Ratio\": 26.793285697130194, \"Credit_History_Age\": 18, \"Credit_Score\": \"Standard\"}, {\"Delay_from_due_date\": 30, \"Num_of_Delayed_Payment\": 18, \"Credit_Utilization_Ratio\": 27.238547785562616, \"Credit_History_Age\": 19, \"Credit_Score\": \"Good\"}, {\"Delay_from_due_date\": 49, \"Num_of_Delayed_Payment\": 17, \"Credit_Utilization_Ratio\": 33.301944981077106, \"Credit_History_Age\": 1, \"Credit_Score\": \"Standard\"}, {\"Delay_from_due_date\": 23, \"Num_of_Delayed_Payment\": 15, \"Credit_Utilization_Ratio\": 33.144760569773986, \"Credit_History_Age\": 19, \"Credit_Score\": \"Standard\"}, {\"Delay_from_due_date\": 8, \"Num_of_Delayed_Payment\": 2, \"Credit_Utilization_Ratio\": 31.45826758614278, \"Credit_History_Age\": 18, \"Credit_Score\": \"Standard\"}, {\"Delay_from_due_date\": 3, \"Num_of_Delayed_Payment\": 5, \"Credit_Utilization_Ratio\": 32.44307898502282, \"Credit_History_Age\": 31, \"Credit_Score\": \"Poor\"}, {\"Delay_from_due_date\": 27, \"Num_of_Delayed_Payment\": 19, \"Credit_Utilization_Ratio\": 40.39124735894862, \"Credit_History_Age\": 9, \"Credit_Score\": \"Standard\"}, {\"Delay_from_due_date\": 27, \"Num_of_Delayed_Payment\": 20, \"Credit_Utilization_Ratio\": 40.57337606253847, \"Credit_History_Age\": 13, \"Credit_Score\": \"Poor\"}, {\"Delay_from_due_date\": 7, \"Num_of_Delayed_Payment\": 19, \"Credit_Utilization_Ratio\": 25.41523464053656, \"Credit_History_Age\": 8, \"Credit_Score\": \"Poor\"}, {\"Delay_from_due_date\": 14, \"Num_of_Delayed_Payment\": 11, \"Credit_Utilization_Ratio\": 38.33771229126208, \"Credit_History_Age\": 20, \"Credit_Score\": \"Standard\"}, {\"Delay_from_due_date\": 24, \"Num_of_Delayed_Payment\": 14, \"Credit_Utilization_Ratio\": 37.4536064082801, \"Credit_History_Age\": 20, \"Credit_Score\": \"Standard\"}, {\"Delay_from_due_date\": 19, \"Num_of_Delayed_Payment\": 25, \"Credit_Utilization_Ratio\": 38.23776812996518, \"Credit_History_Age\": 7, \"Credit_Score\": \"Poor\"}, {\"Delay_from_due_date\": -3, \"Num_of_Delayed_Payment\": 12, \"Credit_Utilization_Ratio\": 39.38992627469591, \"Credit_History_Age\": 20, \"Credit_Score\": \"Poor\"}, {\"Delay_from_due_date\": 5, \"Num_of_Delayed_Payment\": 19, \"Credit_Utilization_Ratio\": 29.35165832019197, \"Credit_History_Age\": 27, \"Credit_Score\": \"Good\"}, {\"Delay_from_due_date\": 11, \"Num_of_Delayed_Payment\": 12, \"Credit_Utilization_Ratio\": 29.277623215671053, \"Credit_History_Age\": 27, \"Credit_Score\": \"Standard\"}, {\"Delay_from_due_date\": 3, \"Num_of_Delayed_Payment\": 1, \"Credit_Utilization_Ratio\": 27.598211522018648, \"Credit_History_Age\": 23, \"Credit_Score\": \"Good\"}, {\"Delay_from_due_date\": 8, \"Num_of_Delayed_Payment\": 7, \"Credit_Utilization_Ratio\": 32.26656303324298, \"Credit_History_Age\": 32, \"Credit_Score\": \"Standard\"}, {\"Delay_from_due_date\": 13, \"Num_of_Delayed_Payment\": 19, \"Credit_Utilization_Ratio\": 34.80424459609624, \"Credit_History_Age\": 12, \"Credit_Score\": \"Standard\"}, {\"Delay_from_due_date\": 17, \"Num_of_Delayed_Payment\": 13, \"Credit_Utilization_Ratio\": 34.183006664632885, \"Credit_History_Age\": 10, \"Credit_Score\": \"Poor\"}, {\"Delay_from_due_date\": 54, \"Num_of_Delayed_Payment\": 15, \"Credit_Utilization_Ratio\": 28.11620738794263, \"Credit_History_Age\": 11, \"Credit_Score\": \"Poor\"}, {\"Delay_from_due_date\": 12, \"Num_of_Delayed_Payment\": 5, \"Credit_Utilization_Ratio\": 33.275089010878986, \"Credit_History_Age\": 20, \"Credit_Score\": \"Poor\"}, {\"Delay_from_due_date\": 8, \"Num_of_Delayed_Payment\": 12, \"Credit_Utilization_Ratio\": 29.18906383036289, \"Credit_History_Age\": 32, \"Credit_Score\": \"Poor\"}, {\"Delay_from_due_date\": 7, \"Num_of_Delayed_Payment\": 7, \"Credit_Utilization_Ratio\": 39.79660856025957, \"Credit_History_Age\": 33, \"Credit_Score\": \"Good\"}, {\"Delay_from_due_date\": 11, \"Num_of_Delayed_Payment\": 4, \"Credit_Utilization_Ratio\": 38.71016047931676, \"Credit_History_Age\": 29, \"Credit_Score\": \"Standard\"}, {\"Delay_from_due_date\": 53, \"Num_of_Delayed_Payment\": 22, \"Credit_Utilization_Ratio\": 31.60598771384724, \"Credit_History_Age\": 18, \"Credit_Score\": \"Poor\"}, {\"Delay_from_due_date\": 30, \"Num_of_Delayed_Payment\": 8, \"Credit_Utilization_Ratio\": 36.49417604488001, \"Credit_History_Age\": 16, \"Credit_Score\": \"Standard\"}, {\"Delay_from_due_date\": 4, \"Num_of_Delayed_Payment\": 0, \"Credit_Utilization_Ratio\": 34.67019437922772, \"Credit_History_Age\": 25, \"Credit_Score\": \"Standard\"}, {\"Delay_from_due_date\": 2, \"Num_of_Delayed_Payment\": 8, \"Credit_Utilization_Ratio\": 43.41145603648128, \"Credit_History_Age\": 28, \"Credit_Score\": \"Good\"}, {\"Delay_from_due_date\": 29, \"Num_of_Delayed_Payment\": 7, \"Credit_Utilization_Ratio\": 26.72249709897272, \"Credit_History_Age\": 10, \"Credit_Score\": \"Poor\"}, {\"Delay_from_due_date\": 17, \"Num_of_Delayed_Payment\": 7, \"Credit_Utilization_Ratio\": 43.11274352393241, \"Credit_History_Age\": 17, \"Credit_Score\": \"Poor\"}, {\"Delay_from_due_date\": 28, \"Num_of_Delayed_Payment\": 17, \"Credit_Utilization_Ratio\": 38.67678664642688, \"Credit_History_Age\": 21, \"Credit_Score\": \"Standard\"}, {\"Delay_from_due_date\": 41, \"Num_of_Delayed_Payment\": 23, \"Credit_Utilization_Ratio\": 29.95473294535329, \"Credit_History_Age\": 12, \"Credit_Score\": \"Poor\"}, {\"Delay_from_due_date\": 15, \"Num_of_Delayed_Payment\": 3, \"Credit_Utilization_Ratio\": 29.73539709090268, \"Credit_History_Age\": 24, \"Credit_Score\": \"Good\"}, {\"Delay_from_due_date\": 5, \"Num_of_Delayed_Payment\": 8, \"Credit_Utilization_Ratio\": 34.098962685188816, \"Credit_History_Age\": 26, \"Credit_Score\": \"Standard\"}, {\"Delay_from_due_date\": 9, \"Num_of_Delayed_Payment\": 14, \"Credit_Utilization_Ratio\": 31.0637583208663, \"Credit_History_Age\": 22, \"Credit_Score\": \"Standard\"}, {\"Delay_from_due_date\": 22, \"Num_of_Delayed_Payment\": 16, \"Credit_Utilization_Ratio\": 28.36240541382569, \"Credit_History_Age\": 32, \"Credit_Score\": \"Standard\"}, {\"Delay_from_due_date\": 6, \"Num_of_Delayed_Payment\": 12, \"Credit_Utilization_Ratio\": 27.339515724511905, \"Credit_History_Age\": 29, \"Credit_Score\": \"Good\"}, {\"Delay_from_due_date\": 29, \"Num_of_Delayed_Payment\": 14, \"Credit_Utilization_Ratio\": 25.68144181060776, \"Credit_History_Age\": 6, \"Credit_Score\": \"Standard\"}, {\"Delay_from_due_date\": 11, \"Num_of_Delayed_Payment\": 20, \"Credit_Utilization_Ratio\": 24.42680103142992, \"Credit_History_Age\": 12, \"Credit_Score\": \"Standard\"}, {\"Delay_from_due_date\": 22, \"Num_of_Delayed_Payment\": 12, \"Credit_Utilization_Ratio\": 38.28653576595653, \"Credit_History_Age\": 19, \"Credit_Score\": \"Standard\"}, {\"Delay_from_due_date\": 18, \"Num_of_Delayed_Payment\": 15, \"Credit_Utilization_Ratio\": 33.34088068343909, \"Credit_History_Age\": 24, \"Credit_Score\": \"Good\"}, {\"Delay_from_due_date\": 19, \"Num_of_Delayed_Payment\": 18, \"Credit_Utilization_Ratio\": 23.561297714361764, \"Credit_History_Age\": 10, \"Credit_Score\": \"Standard\"}, {\"Delay_from_due_date\": 0, \"Num_of_Delayed_Payment\": 13, \"Credit_Utilization_Ratio\": 27.983558550702, \"Credit_History_Age\": 31, \"Credit_Score\": \"Poor\"}, {\"Delay_from_due_date\": 17, \"Num_of_Delayed_Payment\": 5, \"Credit_Utilization_Ratio\": 38.903307820364354, \"Credit_History_Age\": 18, \"Credit_Score\": \"Good\"}, {\"Delay_from_due_date\": 23, \"Num_of_Delayed_Payment\": 6, \"Credit_Utilization_Ratio\": 32.70608024875514, \"Credit_History_Age\": 29, \"Credit_Score\": \"Good\"}, {\"Delay_from_due_date\": 53, \"Num_of_Delayed_Payment\": 15, \"Credit_Utilization_Ratio\": 31.586569671682422, \"Credit_History_Age\": 9, \"Credit_Score\": \"Poor\"}, {\"Delay_from_due_date\": 3, \"Num_of_Delayed_Payment\": 9, \"Credit_Utilization_Ratio\": 38.08123580324364, \"Credit_History_Age\": 16, \"Credit_Score\": \"Good\"}, {\"Delay_from_due_date\": 3, \"Num_of_Delayed_Payment\": 12, \"Credit_Utilization_Ratio\": 23.876224405102388, \"Credit_History_Age\": 20, \"Credit_Score\": \"Good\"}, {\"Delay_from_due_date\": 27, \"Num_of_Delayed_Payment\": 20, \"Credit_Utilization_Ratio\": 30.73950978662966, \"Credit_History_Age\": 17, \"Credit_Score\": \"Good\"}, {\"Delay_from_due_date\": 17, \"Num_of_Delayed_Payment\": 14, \"Credit_Utilization_Ratio\": 32.767781894183635, \"Credit_History_Age\": 28, \"Credit_Score\": \"Standard\"}, {\"Delay_from_due_date\": 18, \"Num_of_Delayed_Payment\": 18, \"Credit_Utilization_Ratio\": 30.960270846312326, \"Credit_History_Age\": 18, \"Credit_Score\": \"Standard\"}, {\"Delay_from_due_date\": 43, \"Num_of_Delayed_Payment\": 25, \"Credit_Utilization_Ratio\": 30.352368983166087, \"Credit_History_Age\": 2, \"Credit_Score\": \"Standard\"}, {\"Delay_from_due_date\": 10, \"Num_of_Delayed_Payment\": 8, \"Credit_Utilization_Ratio\": 29.685691823907487, \"Credit_History_Age\": 18, \"Credit_Score\": \"Standard\"}, {\"Delay_from_due_date\": 9, \"Num_of_Delayed_Payment\": 9, \"Credit_Utilization_Ratio\": 32.79782883801449, \"Credit_History_Age\": 33, \"Credit_Score\": \"Good\"}, {\"Delay_from_due_date\": 29, \"Num_of_Delayed_Payment\": 4, \"Credit_Utilization_Ratio\": 28.159895573745388, \"Credit_History_Age\": 23, \"Credit_Score\": \"Poor\"}, {\"Delay_from_due_date\": 10, \"Num_of_Delayed_Payment\": 13, \"Credit_Utilization_Ratio\": 37.64507161252588, \"Credit_History_Age\": 5, \"Credit_Score\": \"Standard\"}, {\"Delay_from_due_date\": 11, \"Num_of_Delayed_Payment\": 14, \"Credit_Utilization_Ratio\": 33.8312597255634, \"Credit_History_Age\": 17, \"Credit_Score\": \"Good\"}, {\"Delay_from_due_date\": 22, \"Num_of_Delayed_Payment\": 10, \"Credit_Utilization_Ratio\": 28.38836670614103, \"Credit_History_Age\": 31, \"Credit_Score\": \"Poor\"}, {\"Delay_from_due_date\": 29, \"Num_of_Delayed_Payment\": 11, \"Credit_Utilization_Ratio\": 33.542642911789564, \"Credit_History_Age\": 8, \"Credit_Score\": \"Standard\"}, {\"Delay_from_due_date\": 8, \"Num_of_Delayed_Payment\": 12, \"Credit_Utilization_Ratio\": 24.15470687850736, \"Credit_History_Age\": 17, \"Credit_Score\": \"Standard\"}, {\"Delay_from_due_date\": 13, \"Num_of_Delayed_Payment\": 11, \"Credit_Utilization_Ratio\": 29.995589950428144, \"Credit_History_Age\": 20, \"Credit_Score\": \"Standard\"}, {\"Delay_from_due_date\": 25, \"Num_of_Delayed_Payment\": 7, \"Credit_Utilization_Ratio\": 33.226600391393944, \"Credit_History_Age\": 27, \"Credit_Score\": \"Standard\"}, {\"Delay_from_due_date\": 27, \"Num_of_Delayed_Payment\": 22, \"Credit_Utilization_Ratio\": 38.98972416709314, \"Credit_History_Age\": 9, \"Credit_Score\": \"Standard\"}, {\"Delay_from_due_date\": 13, \"Num_of_Delayed_Payment\": 23, \"Credit_Utilization_Ratio\": 29.509104169419015, \"Credit_History_Age\": 29, \"Credit_Score\": \"Good\"}, {\"Delay_from_due_date\": 52, \"Num_of_Delayed_Payment\": 23, \"Credit_Utilization_Ratio\": 32.821676498907784, \"Credit_History_Age\": 10, \"Credit_Score\": \"Poor\"}, {\"Delay_from_due_date\": 23, \"Num_of_Delayed_Payment\": 17, \"Credit_Utilization_Ratio\": 30.62120413544768, \"Credit_History_Age\": 20, \"Credit_Score\": \"Good\"}, {\"Delay_from_due_date\": 16, \"Num_of_Delayed_Payment\": 16, \"Credit_Utilization_Ratio\": 34.440453162529806, \"Credit_History_Age\": 22, \"Credit_Score\": \"Standard\"}, {\"Delay_from_due_date\": 31, \"Num_of_Delayed_Payment\": 22, \"Credit_Utilization_Ratio\": 35.91940492740646, \"Credit_History_Age\": 19, \"Credit_Score\": \"Standard\"}, {\"Delay_from_due_date\": 32, \"Num_of_Delayed_Payment\": 19, \"Credit_Utilization_Ratio\": 25.33046410124687, \"Credit_History_Age\": 18, \"Credit_Score\": \"Poor\"}, {\"Delay_from_due_date\": 5, \"Num_of_Delayed_Payment\": 2, \"Credit_Utilization_Ratio\": 40.01191167509303, \"Credit_History_Age\": 21, \"Credit_Score\": \"Poor\"}, {\"Delay_from_due_date\": 10, \"Num_of_Delayed_Payment\": 4, \"Credit_Utilization_Ratio\": 36.33232419673851, \"Credit_History_Age\": 20, \"Credit_Score\": \"Standard\"}, {\"Delay_from_due_date\": 9, \"Num_of_Delayed_Payment\": 17, \"Credit_Utilization_Ratio\": 30.98005410702368, \"Credit_History_Age\": 16, \"Credit_Score\": \"Standard\"}, {\"Delay_from_due_date\": 2, \"Num_of_Delayed_Payment\": 9, \"Credit_Utilization_Ratio\": 31.45043896428755, \"Credit_History_Age\": 16, \"Credit_Score\": \"Standard\"}, {\"Delay_from_due_date\": 27, \"Num_of_Delayed_Payment\": 22, \"Credit_Utilization_Ratio\": 32.206326508116305, \"Credit_History_Age\": 8, \"Credit_Score\": \"Poor\"}, {\"Delay_from_due_date\": 56, \"Num_of_Delayed_Payment\": 24, \"Credit_Utilization_Ratio\": 31.77162208010581, \"Credit_History_Age\": 15, \"Credit_Score\": \"Poor\"}, {\"Delay_from_due_date\": 16, \"Num_of_Delayed_Payment\": 12, \"Credit_Utilization_Ratio\": 29.3964648858068, \"Credit_History_Age\": 25, \"Credit_Score\": \"Poor\"}, {\"Delay_from_due_date\": 35, \"Num_of_Delayed_Payment\": 20, \"Credit_Utilization_Ratio\": 34.051821611297434, \"Credit_History_Age\": 8, \"Credit_Score\": \"Standard\"}, {\"Delay_from_due_date\": 6, \"Num_of_Delayed_Payment\": 9, \"Credit_Utilization_Ratio\": 38.299263140848, \"Credit_History_Age\": 25, \"Credit_Score\": \"Good\"}, {\"Delay_from_due_date\": 9, \"Num_of_Delayed_Payment\": 18, \"Credit_Utilization_Ratio\": 37.73565060324883, \"Credit_History_Age\": 20, \"Credit_Score\": \"Standard\"}, {\"Delay_from_due_date\": 17, \"Num_of_Delayed_Payment\": 12, \"Credit_Utilization_Ratio\": 32.58800686750652, \"Credit_History_Age\": 27, \"Credit_Score\": \"Standard\"}, {\"Delay_from_due_date\": 4, \"Num_of_Delayed_Payment\": 1, \"Credit_Utilization_Ratio\": 28.542592720527548, \"Credit_History_Age\": 33, \"Credit_Score\": \"Good\"}, {\"Delay_from_due_date\": 2, \"Num_of_Delayed_Payment\": 4, \"Credit_Utilization_Ratio\": 31.603369838999487, \"Credit_History_Age\": 17, \"Credit_Score\": \"Standard\"}, {\"Delay_from_due_date\": 8, \"Num_of_Delayed_Payment\": 2, \"Credit_Utilization_Ratio\": 27.25723264336539, \"Credit_History_Age\": 31, \"Credit_Score\": \"Poor\"}, {\"Delay_from_due_date\": 36, \"Num_of_Delayed_Payment\": 25, \"Credit_Utilization_Ratio\": 26.49603579059757, \"Credit_History_Age\": 4, \"Credit_Score\": \"Poor\"}, {\"Delay_from_due_date\": 24, \"Num_of_Delayed_Payment\": 16, \"Credit_Utilization_Ratio\": 31.55380067141137, \"Credit_History_Age\": 14, \"Credit_Score\": \"Poor\"}, {\"Delay_from_due_date\": 25, \"Num_of_Delayed_Payment\": 11, \"Credit_Utilization_Ratio\": 38.113508983999466, \"Credit_History_Age\": 26, \"Credit_Score\": \"Standard\"}, {\"Delay_from_due_date\": 8, \"Num_of_Delayed_Payment\": 5, \"Credit_Utilization_Ratio\": 38.90974684062166, \"Credit_History_Age\": 30, \"Credit_Score\": \"Good\"}, {\"Delay_from_due_date\": 21, \"Num_of_Delayed_Payment\": 18, \"Credit_Utilization_Ratio\": 33.70137161010085, \"Credit_History_Age\": 16, \"Credit_Score\": \"Poor\"}, {\"Delay_from_due_date\": 32, \"Num_of_Delayed_Payment\": 17, \"Credit_Utilization_Ratio\": 32.182006333223995, \"Credit_History_Age\": 12, \"Credit_Score\": \"Poor\"}, {\"Delay_from_due_date\": 51, \"Num_of_Delayed_Payment\": 19, \"Credit_Utilization_Ratio\": 37.43340754794319, \"Credit_History_Age\": 13, \"Credit_Score\": \"Poor\"}, {\"Delay_from_due_date\": 34, \"Num_of_Delayed_Payment\": 9, \"Credit_Utilization_Ratio\": 22.935145199680672, \"Credit_History_Age\": 6, \"Credit_Score\": \"Poor\"}, {\"Delay_from_due_date\": 25, \"Num_of_Delayed_Payment\": 14, \"Credit_Utilization_Ratio\": 32.994204474042576, \"Credit_History_Age\": 18, \"Credit_Score\": \"Standard\"}, {\"Delay_from_due_date\": 32, \"Num_of_Delayed_Payment\": 18, \"Credit_Utilization_Ratio\": 34.42377089018647, \"Credit_History_Age\": 7, \"Credit_Score\": \"Poor\"}, {\"Delay_from_due_date\": 21, \"Num_of_Delayed_Payment\": 20, \"Credit_Utilization_Ratio\": 23.97560601396817, \"Credit_History_Age\": 28, \"Credit_Score\": \"Poor\"}, {\"Delay_from_due_date\": 8, \"Num_of_Delayed_Payment\": 2, \"Credit_Utilization_Ratio\": 40.90388419930242, \"Credit_History_Age\": 31, \"Credit_Score\": \"Good\"}, {\"Delay_from_due_date\": 42, \"Num_of_Delayed_Payment\": 25, \"Credit_Utilization_Ratio\": 21.91753263272952, \"Credit_History_Age\": 14, \"Credit_Score\": \"Poor\"}, {\"Delay_from_due_date\": 18, \"Num_of_Delayed_Payment\": 8, \"Credit_Utilization_Ratio\": 25.916545850165967, \"Credit_History_Age\": 20, \"Credit_Score\": \"Standard\"}, {\"Delay_from_due_date\": 8, \"Num_of_Delayed_Payment\": 12, \"Credit_Utilization_Ratio\": 26.915281958596744, \"Credit_History_Age\": 29, \"Credit_Score\": \"Good\"}, {\"Delay_from_due_date\": 32, \"Num_of_Delayed_Payment\": 24, \"Credit_Utilization_Ratio\": 31.484840141248387, \"Credit_History_Age\": 6, \"Credit_Score\": \"Poor\"}, {\"Delay_from_due_date\": 11, \"Num_of_Delayed_Payment\": 11, \"Credit_Utilization_Ratio\": 29.61205663167473, \"Credit_History_Age\": 16, \"Credit_Score\": \"Standard\"}, {\"Delay_from_due_date\": 50, \"Num_of_Delayed_Payment\": 25, \"Credit_Utilization_Ratio\": 39.107219023157, \"Credit_History_Age\": 4, \"Credit_Score\": \"Standard\"}, {\"Delay_from_due_date\": 38, \"Num_of_Delayed_Payment\": 15, \"Credit_Utilization_Ratio\": 26.25244352872121, \"Credit_History_Age\": 5, \"Credit_Score\": \"Poor\"}, {\"Delay_from_due_date\": 44, \"Num_of_Delayed_Payment\": 23, \"Credit_Utilization_Ratio\": 29.8463388336992, \"Credit_History_Age\": 3, \"Credit_Score\": \"Poor\"}, {\"Delay_from_due_date\": 1, \"Num_of_Delayed_Payment\": 8, \"Credit_Utilization_Ratio\": 30.881576045306783, \"Credit_History_Age\": 19, \"Credit_Score\": \"Standard\"}, {\"Delay_from_due_date\": 9, \"Num_of_Delayed_Payment\": 1, \"Credit_Utilization_Ratio\": 27.27061938601105, \"Credit_History_Age\": 19, \"Credit_Score\": \"Standard\"}, {\"Delay_from_due_date\": 3, \"Num_of_Delayed_Payment\": 2, \"Credit_Utilization_Ratio\": 27.29781633655559, \"Credit_History_Age\": 23, \"Credit_Score\": \"Good\"}, {\"Delay_from_due_date\": 8, \"Num_of_Delayed_Payment\": 19, \"Credit_Utilization_Ratio\": 36.192371439785205, \"Credit_History_Age\": 5, \"Credit_Score\": \"Poor\"}, {\"Delay_from_due_date\": 6, \"Num_of_Delayed_Payment\": 13, \"Credit_Utilization_Ratio\": 23.41253757909219, \"Credit_History_Age\": 30, \"Credit_Score\": \"Standard\"}, {\"Delay_from_due_date\": 18, \"Num_of_Delayed_Payment\": 16, \"Credit_Utilization_Ratio\": 25.69837462290162, \"Credit_History_Age\": 15, \"Credit_Score\": \"Standard\"}, {\"Delay_from_due_date\": 26, \"Num_of_Delayed_Payment\": 23, \"Credit_Utilization_Ratio\": 37.78722077725161, \"Credit_History_Age\": 18, \"Credit_Score\": \"Poor\"}, {\"Delay_from_due_date\": 14, \"Num_of_Delayed_Payment\": 8, \"Credit_Utilization_Ratio\": 33.44936345938488, \"Credit_History_Age\": 26, \"Credit_Score\": \"Standard\"}, {\"Delay_from_due_date\": 33, \"Num_of_Delayed_Payment\": 18, \"Credit_Utilization_Ratio\": 35.94995944745477, \"Credit_History_Age\": 3, \"Credit_Score\": \"Standard\"}, {\"Delay_from_due_date\": 13, \"Num_of_Delayed_Payment\": 11, \"Credit_Utilization_Ratio\": 37.60099117119038, \"Credit_History_Age\": 23, \"Credit_Score\": \"Standard\"}, {\"Delay_from_due_date\": 0, \"Num_of_Delayed_Payment\": 7, \"Credit_Utilization_Ratio\": 40.46340512507142, \"Credit_History_Age\": 19, \"Credit_Score\": \"Good\"}, {\"Delay_from_due_date\": 27, \"Num_of_Delayed_Payment\": 19, \"Credit_Utilization_Ratio\": 33.302706041244825, \"Credit_History_Age\": 16, \"Credit_Score\": \"Standard\"}, {\"Delay_from_due_date\": 37, \"Num_of_Delayed_Payment\": 25, \"Credit_Utilization_Ratio\": 28.10592697765069, \"Credit_History_Age\": 16, \"Credit_Score\": \"Poor\"}, {\"Delay_from_due_date\": 26, \"Num_of_Delayed_Payment\": 17, \"Credit_Utilization_Ratio\": 26.40043479935783, \"Credit_History_Age\": 29, \"Credit_Score\": \"Standard\"}, {\"Delay_from_due_date\": 17, \"Num_of_Delayed_Payment\": 22, \"Credit_Utilization_Ratio\": 29.02482925561349, \"Credit_History_Age\": 14, \"Credit_Score\": \"Poor\"}, {\"Delay_from_due_date\": 16, \"Num_of_Delayed_Payment\": 19, \"Credit_Utilization_Ratio\": 27.14200622014624, \"Credit_History_Age\": 13, \"Credit_Score\": \"Standard\"}, {\"Delay_from_due_date\": 15, \"Num_of_Delayed_Payment\": 5, \"Credit_Utilization_Ratio\": 33.947935869738075, \"Credit_History_Age\": 27, \"Credit_Score\": \"Standard\"}, {\"Delay_from_due_date\": 7, \"Num_of_Delayed_Payment\": 0, \"Credit_Utilization_Ratio\": 34.04622071062113, \"Credit_History_Age\": 25, \"Credit_Score\": \"Standard\"}, {\"Delay_from_due_date\": 15, \"Num_of_Delayed_Payment\": 16, \"Credit_Utilization_Ratio\": 28.2617007277662, \"Credit_History_Age\": 15, \"Credit_Score\": \"Poor\"}, {\"Delay_from_due_date\": 35, \"Num_of_Delayed_Payment\": 15, \"Credit_Utilization_Ratio\": 23.8815110215261, \"Credit_History_Age\": 11, \"Credit_Score\": \"Poor\"}, {\"Delay_from_due_date\": 5, \"Num_of_Delayed_Payment\": 1, \"Credit_Utilization_Ratio\": 30.209778349668863, \"Credit_History_Age\": 21, \"Credit_Score\": \"Standard\"}, {\"Delay_from_due_date\": 4, \"Num_of_Delayed_Payment\": 18, \"Credit_Utilization_Ratio\": 28.18884909455675, \"Credit_History_Age\": 12, \"Credit_Score\": \"Standard\"}, {\"Delay_from_due_date\": 18, \"Num_of_Delayed_Payment\": 10, \"Credit_Utilization_Ratio\": 38.230113634575545, \"Credit_History_Age\": 27, \"Credit_Score\": \"Standard\"}, {\"Delay_from_due_date\": 17, \"Num_of_Delayed_Payment\": 16, \"Credit_Utilization_Ratio\": 26.43998211020093, \"Credit_History_Age\": 30, \"Credit_Score\": \"Standard\"}, {\"Delay_from_due_date\": 20, \"Num_of_Delayed_Payment\": 14, \"Credit_Utilization_Ratio\": 26.94441759260313, \"Credit_History_Age\": 27, \"Credit_Score\": \"Standard\"}, {\"Delay_from_due_date\": 41, \"Num_of_Delayed_Payment\": 20, \"Credit_Utilization_Ratio\": 33.86573741474167, \"Credit_History_Age\": 11, \"Credit_Score\": \"Poor\"}, {\"Delay_from_due_date\": 8, \"Num_of_Delayed_Payment\": 19, \"Credit_Utilization_Ratio\": 35.35822656121559, \"Credit_History_Age\": 19, \"Credit_Score\": \"Poor\"}, {\"Delay_from_due_date\": 22, \"Num_of_Delayed_Payment\": 13, \"Credit_Utilization_Ratio\": 25.26405306207004, \"Credit_History_Age\": 13, \"Credit_Score\": \"Standard\"}, {\"Delay_from_due_date\": 51, \"Num_of_Delayed_Payment\": 11, \"Credit_Utilization_Ratio\": 35.28060618472328, \"Credit_History_Age\": 13, \"Credit_Score\": \"Standard\"}, {\"Delay_from_due_date\": 3, \"Num_of_Delayed_Payment\": 4, \"Credit_Utilization_Ratio\": 25.457318852447383, \"Credit_History_Age\": 27, \"Credit_Score\": \"Standard\"}, {\"Delay_from_due_date\": 10, \"Num_of_Delayed_Payment\": 4, \"Credit_Utilization_Ratio\": 35.63218584908385, \"Credit_History_Age\": 21, \"Credit_Score\": \"Good\"}, {\"Delay_from_due_date\": 13, \"Num_of_Delayed_Payment\": 19, \"Credit_Utilization_Ratio\": 31.813219893492715, \"Credit_History_Age\": 8, \"Credit_Score\": \"Standard\"}, {\"Delay_from_due_date\": 16, \"Num_of_Delayed_Payment\": 18, \"Credit_Utilization_Ratio\": 36.657278379818834, \"Credit_History_Age\": 25, \"Credit_Score\": \"Standard\"}, {\"Delay_from_due_date\": 19, \"Num_of_Delayed_Payment\": 13, \"Credit_Utilization_Ratio\": 35.861406423739524, \"Credit_History_Age\": 12, \"Credit_Score\": \"Standard\"}, {\"Delay_from_due_date\": 2, \"Num_of_Delayed_Payment\": 3, \"Credit_Utilization_Ratio\": 31.901386877224983, \"Credit_History_Age\": 27, \"Credit_Score\": \"Good\"}, {\"Delay_from_due_date\": 50, \"Num_of_Delayed_Payment\": 20, \"Credit_Utilization_Ratio\": 31.06592832140643, \"Credit_History_Age\": 12, \"Credit_Score\": \"Poor\"}, {\"Delay_from_due_date\": 11, \"Num_of_Delayed_Payment\": 13, \"Credit_Utilization_Ratio\": 25.38352819985145, \"Credit_History_Age\": 31, \"Credit_Score\": \"Good\"}, {\"Delay_from_due_date\": 3, \"Num_of_Delayed_Payment\": 0, \"Credit_Utilization_Ratio\": 28.592460773947906, \"Credit_History_Age\": 23, \"Credit_Score\": \"Standard\"}, {\"Delay_from_due_date\": 6, \"Num_of_Delayed_Payment\": 17, \"Credit_Utilization_Ratio\": 37.07767610279335, \"Credit_History_Age\": 19, \"Credit_Score\": \"Standard\"}, {\"Delay_from_due_date\": 8, \"Num_of_Delayed_Payment\": 8, \"Credit_Utilization_Ratio\": 28.772650118490034, \"Credit_History_Age\": 10, \"Credit_Score\": \"Standard\"}, {\"Delay_from_due_date\": 52, \"Num_of_Delayed_Payment\": 24, \"Credit_Utilization_Ratio\": 30.13377556353373, \"Credit_History_Age\": 2, \"Credit_Score\": \"Poor\"}, {\"Delay_from_due_date\": 46, \"Num_of_Delayed_Payment\": 18, \"Credit_Utilization_Ratio\": 36.20522778014952, \"Credit_History_Age\": 2, \"Credit_Score\": \"Poor\"}, {\"Delay_from_due_date\": 55, \"Num_of_Delayed_Payment\": 22, \"Credit_Utilization_Ratio\": 40.08142127067744, \"Credit_History_Age\": 19, \"Credit_Score\": \"Standard\"}, {\"Delay_from_due_date\": 7, \"Num_of_Delayed_Payment\": 10, \"Credit_Utilization_Ratio\": 42.623340124526464, \"Credit_History_Age\": 25, \"Credit_Score\": \"Poor\"}, {\"Delay_from_due_date\": 20, \"Num_of_Delayed_Payment\": 14, \"Credit_Utilization_Ratio\": 36.85541856801903, \"Credit_History_Age\": 31, \"Credit_Score\": \"Poor\"}, {\"Delay_from_due_date\": 46, \"Num_of_Delayed_Payment\": 18, \"Credit_Utilization_Ratio\": 32.820293585525, \"Credit_History_Age\": 15, \"Credit_Score\": \"Poor\"}, {\"Delay_from_due_date\": 3, \"Num_of_Delayed_Payment\": 9, \"Credit_Utilization_Ratio\": 30.54825264660522, \"Credit_History_Age\": 16, \"Credit_Score\": \"Poor\"}, {\"Delay_from_due_date\": 15, \"Num_of_Delayed_Payment\": 10, \"Credit_Utilization_Ratio\": 44.95801491064328, \"Credit_History_Age\": 25, \"Credit_Score\": \"Good\"}]}}, {\"mode\": \"vega-lite\"});\n",
       "</script>"
      ],
      "text/plain": [
       "alt.RepeatChart(...)"
      ]
     },
     "execution_count": 17,
     "metadata": {},
     "output_type": "execute_result"
    }
   ],
   "source": [
    "# initializing list of predictors\n",
    "predictors = [\"Delay_from_due_date\", \"Num_of_Delayed_Payment\", \"Credit_Utilization_Ratio\", \"Credit_History_Age\"]\n",
    "\n",
    "# visualizing training data\n",
    "\n",
    "# removing outliers - just for the visualization\n",
    "def remove_outliers(column):\n",
    "    Q1 = column.quantile(0.25)\n",
    "    Q3 = column.quantile(0.75)\n",
    "    IQR = Q3 - Q1\n",
    "    return (column >= Q1 - 1.5 * IQR) & (column <= Q3 + 1.5 * IQR)\n",
    "\n",
    "# Apply outlier removal to each column\n",
    "for col in predictors:\n",
    "    train = train[remove_outliers(train[col])]\n",
    "\n",
    "train_pairplot = alt.Chart(train).mark_point(opacity=0.4).encode(\n",
    "    alt.X(alt.repeat(\"row\"), type=\"quantitative\"),\n",
    "    alt.Y(alt.repeat(\"column\"), type=\"quantitative\"),\n",
    "    color = alt.Color(\"Credit_Score\").title(\"Credit_Score\")\n",
    ").properties(\n",
    "    width=200,\n",
    "    height=200\n",
    ").repeat(\n",
    "    column=predictors,\n",
    "    row=predictors\n",
    ")\n",
    "train_pairplot"
   ]
  },
  {
   "cell_type": "markdown",
   "metadata": {},
   "source": [
    "### Methods\n",
    "\n",
    "We plan to conduct our data analysis using the K Nearest Neighbors Classification algrorithm. We'll choose the best value of k using cross-validation and then use the following predictors to predict whether someone's Credit Score is Good, Standard or Poor.\n",
    "\n",
    "Predictors:\n",
    "\n",
    "- number of delayed payments \n",
    "- delay from due date \n",
    "- Credit_Utilization_Ratio\n",
    "- credit history age\n",
    "\n",
    "\n",
    "**Describing our visualizations**\n",
    "We will plot histograms to visualize the distributions of our predictors. This will help us explore the relation between predicted credit score and the factors that may impact the credit score more than others like income, missed payments, credit utilization ratios.\n"
   ]
  },
  {
   "cell_type": "code",
   "execution_count": 18,
   "metadata": {
    "tags": []
   },
   "outputs": [],
   "source": [
    "# training_labels = subset_train[\"Credit_Score\"]\n",
    "# training_labels"
   ]
  },
  {
   "cell_type": "code",
   "execution_count": 19,
   "metadata": {
    "tags": []
   },
   "outputs": [
    {
     "data": {
      "text/html": [
       "<style>#sk-container-id-1 {color: black;background-color: white;}#sk-container-id-1 pre{padding: 0;}#sk-container-id-1 div.sk-toggleable {background-color: white;}#sk-container-id-1 label.sk-toggleable__label {cursor: pointer;display: block;width: 100%;margin-bottom: 0;padding: 0.3em;box-sizing: border-box;text-align: center;}#sk-container-id-1 label.sk-toggleable__label-arrow:before {content: \"▸\";float: left;margin-right: 0.25em;color: #696969;}#sk-container-id-1 label.sk-toggleable__label-arrow:hover:before {color: black;}#sk-container-id-1 div.sk-estimator:hover label.sk-toggleable__label-arrow:before {color: black;}#sk-container-id-1 div.sk-toggleable__content {max-height: 0;max-width: 0;overflow: hidden;text-align: left;background-color: #f0f8ff;}#sk-container-id-1 div.sk-toggleable__content pre {margin: 0.2em;color: black;border-radius: 0.25em;background-color: #f0f8ff;}#sk-container-id-1 input.sk-toggleable__control:checked~div.sk-toggleable__content {max-height: 200px;max-width: 100%;overflow: auto;}#sk-container-id-1 input.sk-toggleable__control:checked~label.sk-toggleable__label-arrow:before {content: \"▾\";}#sk-container-id-1 div.sk-estimator input.sk-toggleable__control:checked~label.sk-toggleable__label {background-color: #d4ebff;}#sk-container-id-1 div.sk-label input.sk-toggleable__control:checked~label.sk-toggleable__label {background-color: #d4ebff;}#sk-container-id-1 input.sk-hidden--visually {border: 0;clip: rect(1px 1px 1px 1px);clip: rect(1px, 1px, 1px, 1px);height: 1px;margin: -1px;overflow: hidden;padding: 0;position: absolute;width: 1px;}#sk-container-id-1 div.sk-estimator {font-family: monospace;background-color: #f0f8ff;border: 1px dotted black;border-radius: 0.25em;box-sizing: border-box;margin-bottom: 0.5em;}#sk-container-id-1 div.sk-estimator:hover {background-color: #d4ebff;}#sk-container-id-1 div.sk-parallel-item::after {content: \"\";width: 100%;border-bottom: 1px solid gray;flex-grow: 1;}#sk-container-id-1 div.sk-label:hover label.sk-toggleable__label {background-color: #d4ebff;}#sk-container-id-1 div.sk-serial::before {content: \"\";position: absolute;border-left: 1px solid gray;box-sizing: border-box;top: 0;bottom: 0;left: 50%;z-index: 0;}#sk-container-id-1 div.sk-serial {display: flex;flex-direction: column;align-items: center;background-color: white;padding-right: 0.2em;padding-left: 0.2em;position: relative;}#sk-container-id-1 div.sk-item {position: relative;z-index: 1;}#sk-container-id-1 div.sk-parallel {display: flex;align-items: stretch;justify-content: center;background-color: white;position: relative;}#sk-container-id-1 div.sk-item::before, #sk-container-id-1 div.sk-parallel-item::before {content: \"\";position: absolute;border-left: 1px solid gray;box-sizing: border-box;top: 0;bottom: 0;left: 50%;z-index: -1;}#sk-container-id-1 div.sk-parallel-item {display: flex;flex-direction: column;z-index: 1;position: relative;background-color: white;}#sk-container-id-1 div.sk-parallel-item:first-child::after {align-self: flex-end;width: 50%;}#sk-container-id-1 div.sk-parallel-item:last-child::after {align-self: flex-start;width: 50%;}#sk-container-id-1 div.sk-parallel-item:only-child::after {width: 0;}#sk-container-id-1 div.sk-dashed-wrapped {border: 1px dashed gray;margin: 0 0.4em 0.5em 0.4em;box-sizing: border-box;padding-bottom: 0.4em;background-color: white;}#sk-container-id-1 div.sk-label label {font-family: monospace;font-weight: bold;display: inline-block;line-height: 1.2em;}#sk-container-id-1 div.sk-label-container {text-align: center;}#sk-container-id-1 div.sk-container {/* jupyter's `normalize.less` sets `[hidden] { display: none; }` but bootstrap.min.css set `[hidden] { display: none !important; }` so we also need the `!important` here to be able to override the default hidden behavior on the sphinx rendered scikit-learn.org. See: https://github.com/scikit-learn/scikit-learn/issues/21755 */display: inline-block !important;position: relative;}#sk-container-id-1 div.sk-text-repr-fallback {display: none;}</style><div id=\"sk-container-id-1\" class=\"sk-top-container\"><div class=\"sk-text-repr-fallback\"><pre>KNeighborsClassifier(n_neighbors=31)</pre><b>In a Jupyter environment, please rerun this cell to show the HTML representation or trust the notebook. <br />On GitHub, the HTML representation is unable to render, please try loading this page with nbviewer.org.</b></div><div class=\"sk-container\" hidden><div class=\"sk-item\"><div class=\"sk-estimator sk-toggleable\"><input class=\"sk-toggleable__control sk-hidden--visually\" id=\"sk-estimator-id-1\" type=\"checkbox\" checked><label for=\"sk-estimator-id-1\" class=\"sk-toggleable__label sk-toggleable__label-arrow\">KNeighborsClassifier</label><div class=\"sk-toggleable__content\"><pre>KNeighborsClassifier(n_neighbors=31)</pre></div></div></div></div></div>"
      ],
      "text/plain": [
       "KNeighborsClassifier(n_neighbors=31)"
      ]
     },
     "execution_count": 19,
     "metadata": {},
     "output_type": "execute_result"
    }
   ],
   "source": [
    "knn = KNeighborsClassifier(n_neighbors=31)\n",
    "knn"
   ]
  },
  {
   "cell_type": "code",
   "execution_count": 20,
   "metadata": {
    "tags": []
   },
   "outputs": [
    {
     "data": {
      "text/html": [
       "<style>#sk-container-id-2 {color: black;background-color: white;}#sk-container-id-2 pre{padding: 0;}#sk-container-id-2 div.sk-toggleable {background-color: white;}#sk-container-id-2 label.sk-toggleable__label {cursor: pointer;display: block;width: 100%;margin-bottom: 0;padding: 0.3em;box-sizing: border-box;text-align: center;}#sk-container-id-2 label.sk-toggleable__label-arrow:before {content: \"▸\";float: left;margin-right: 0.25em;color: #696969;}#sk-container-id-2 label.sk-toggleable__label-arrow:hover:before {color: black;}#sk-container-id-2 div.sk-estimator:hover label.sk-toggleable__label-arrow:before {color: black;}#sk-container-id-2 div.sk-toggleable__content {max-height: 0;max-width: 0;overflow: hidden;text-align: left;background-color: #f0f8ff;}#sk-container-id-2 div.sk-toggleable__content pre {margin: 0.2em;color: black;border-radius: 0.25em;background-color: #f0f8ff;}#sk-container-id-2 input.sk-toggleable__control:checked~div.sk-toggleable__content {max-height: 200px;max-width: 100%;overflow: auto;}#sk-container-id-2 input.sk-toggleable__control:checked~label.sk-toggleable__label-arrow:before {content: \"▾\";}#sk-container-id-2 div.sk-estimator input.sk-toggleable__control:checked~label.sk-toggleable__label {background-color: #d4ebff;}#sk-container-id-2 div.sk-label input.sk-toggleable__control:checked~label.sk-toggleable__label {background-color: #d4ebff;}#sk-container-id-2 input.sk-hidden--visually {border: 0;clip: rect(1px 1px 1px 1px);clip: rect(1px, 1px, 1px, 1px);height: 1px;margin: -1px;overflow: hidden;padding: 0;position: absolute;width: 1px;}#sk-container-id-2 div.sk-estimator {font-family: monospace;background-color: #f0f8ff;border: 1px dotted black;border-radius: 0.25em;box-sizing: border-box;margin-bottom: 0.5em;}#sk-container-id-2 div.sk-estimator:hover {background-color: #d4ebff;}#sk-container-id-2 div.sk-parallel-item::after {content: \"\";width: 100%;border-bottom: 1px solid gray;flex-grow: 1;}#sk-container-id-2 div.sk-label:hover label.sk-toggleable__label {background-color: #d4ebff;}#sk-container-id-2 div.sk-serial::before {content: \"\";position: absolute;border-left: 1px solid gray;box-sizing: border-box;top: 0;bottom: 0;left: 50%;z-index: 0;}#sk-container-id-2 div.sk-serial {display: flex;flex-direction: column;align-items: center;background-color: white;padding-right: 0.2em;padding-left: 0.2em;position: relative;}#sk-container-id-2 div.sk-item {position: relative;z-index: 1;}#sk-container-id-2 div.sk-parallel {display: flex;align-items: stretch;justify-content: center;background-color: white;position: relative;}#sk-container-id-2 div.sk-item::before, #sk-container-id-2 div.sk-parallel-item::before {content: \"\";position: absolute;border-left: 1px solid gray;box-sizing: border-box;top: 0;bottom: 0;left: 50%;z-index: -1;}#sk-container-id-2 div.sk-parallel-item {display: flex;flex-direction: column;z-index: 1;position: relative;background-color: white;}#sk-container-id-2 div.sk-parallel-item:first-child::after {align-self: flex-end;width: 50%;}#sk-container-id-2 div.sk-parallel-item:last-child::after {align-self: flex-start;width: 50%;}#sk-container-id-2 div.sk-parallel-item:only-child::after {width: 0;}#sk-container-id-2 div.sk-dashed-wrapped {border: 1px dashed gray;margin: 0 0.4em 0.5em 0.4em;box-sizing: border-box;padding-bottom: 0.4em;background-color: white;}#sk-container-id-2 div.sk-label label {font-family: monospace;font-weight: bold;display: inline-block;line-height: 1.2em;}#sk-container-id-2 div.sk-label-container {text-align: center;}#sk-container-id-2 div.sk-container {/* jupyter's `normalize.less` sets `[hidden] { display: none; }` but bootstrap.min.css set `[hidden] { display: none !important; }` so we also need the `!important` here to be able to override the default hidden behavior on the sphinx rendered scikit-learn.org. See: https://github.com/scikit-learn/scikit-learn/issues/21755 */display: inline-block !important;position: relative;}#sk-container-id-2 div.sk-text-repr-fallback {display: none;}</style><div id=\"sk-container-id-2\" class=\"sk-top-container\"><div class=\"sk-text-repr-fallback\"><pre>ColumnTransformer(remainder=&#x27;passthrough&#x27;,\n",
       "                  transformers=[(&#x27;standardscaler&#x27;, StandardScaler(),\n",
       "                                 [&#x27;Delay_from_due_date&#x27;,\n",
       "                                  &#x27;Num_of_Delayed_Payment&#x27;,\n",
       "                                  &#x27;Credit_Utilization_Ratio&#x27;,\n",
       "                                  &#x27;Credit_History_Age&#x27;])],\n",
       "                  verbose_feature_names_out=False)</pre><b>In a Jupyter environment, please rerun this cell to show the HTML representation or trust the notebook. <br />On GitHub, the HTML representation is unable to render, please try loading this page with nbviewer.org.</b></div><div class=\"sk-container\" hidden><div class=\"sk-item sk-dashed-wrapped\"><div class=\"sk-label-container\"><div class=\"sk-label sk-toggleable\"><input class=\"sk-toggleable__control sk-hidden--visually\" id=\"sk-estimator-id-2\" type=\"checkbox\" ><label for=\"sk-estimator-id-2\" class=\"sk-toggleable__label sk-toggleable__label-arrow\">ColumnTransformer</label><div class=\"sk-toggleable__content\"><pre>ColumnTransformer(remainder=&#x27;passthrough&#x27;,\n",
       "                  transformers=[(&#x27;standardscaler&#x27;, StandardScaler(),\n",
       "                                 [&#x27;Delay_from_due_date&#x27;,\n",
       "                                  &#x27;Num_of_Delayed_Payment&#x27;,\n",
       "                                  &#x27;Credit_Utilization_Ratio&#x27;,\n",
       "                                  &#x27;Credit_History_Age&#x27;])],\n",
       "                  verbose_feature_names_out=False)</pre></div></div></div><div class=\"sk-parallel\"><div class=\"sk-parallel-item\"><div class=\"sk-item\"><div class=\"sk-label-container\"><div class=\"sk-label sk-toggleable\"><input class=\"sk-toggleable__control sk-hidden--visually\" id=\"sk-estimator-id-3\" type=\"checkbox\" ><label for=\"sk-estimator-id-3\" class=\"sk-toggleable__label sk-toggleable__label-arrow\">standardscaler</label><div class=\"sk-toggleable__content\"><pre>[&#x27;Delay_from_due_date&#x27;, &#x27;Num_of_Delayed_Payment&#x27;, &#x27;Credit_Utilization_Ratio&#x27;, &#x27;Credit_History_Age&#x27;]</pre></div></div></div><div class=\"sk-serial\"><div class=\"sk-item\"><div class=\"sk-estimator sk-toggleable\"><input class=\"sk-toggleable__control sk-hidden--visually\" id=\"sk-estimator-id-4\" type=\"checkbox\" ><label for=\"sk-estimator-id-4\" class=\"sk-toggleable__label sk-toggleable__label-arrow\">StandardScaler</label><div class=\"sk-toggleable__content\"><pre>StandardScaler()</pre></div></div></div></div></div></div><div class=\"sk-parallel-item\"><div class=\"sk-item\"><div class=\"sk-label-container\"><div class=\"sk-label sk-toggleable\"><input class=\"sk-toggleable__control sk-hidden--visually\" id=\"sk-estimator-id-5\" type=\"checkbox\" ><label for=\"sk-estimator-id-5\" class=\"sk-toggleable__label sk-toggleable__label-arrow\">remainder</label><div class=\"sk-toggleable__content\"><pre></pre></div></div></div><div class=\"sk-serial\"><div class=\"sk-item\"><div class=\"sk-estimator sk-toggleable\"><input class=\"sk-toggleable__control sk-hidden--visually\" id=\"sk-estimator-id-6\" type=\"checkbox\" ><label for=\"sk-estimator-id-6\" class=\"sk-toggleable__label sk-toggleable__label-arrow\">passthrough</label><div class=\"sk-toggleable__content\"><pre>passthrough</pre></div></div></div></div></div></div></div></div></div></div>"
      ],
      "text/plain": [
       "ColumnTransformer(remainder='passthrough',\n",
       "                  transformers=[('standardscaler', StandardScaler(),\n",
       "                                 ['Delay_from_due_date',\n",
       "                                  'Num_of_Delayed_Payment',\n",
       "                                  'Credit_Utilization_Ratio',\n",
       "                                  'Credit_History_Age'])],\n",
       "                  verbose_feature_names_out=False)"
      ]
     },
     "execution_count": 20,
     "metadata": {},
     "output_type": "execute_result"
    }
   ],
   "source": [
    "preprocessor = make_column_transformer(\n",
    "    (StandardScaler(), predictors),\n",
    "    remainder='passthrough',\n",
    "    verbose_feature_names_out=False\n",
    ")\n",
    "preprocessor"
   ]
  },
  {
   "cell_type": "code",
   "execution_count": 21,
   "metadata": {
    "tags": []
   },
   "outputs": [
    {
     "data": {
      "text/html": [
       "<style>#sk-container-id-3 {color: black;background-color: white;}#sk-container-id-3 pre{padding: 0;}#sk-container-id-3 div.sk-toggleable {background-color: white;}#sk-container-id-3 label.sk-toggleable__label {cursor: pointer;display: block;width: 100%;margin-bottom: 0;padding: 0.3em;box-sizing: border-box;text-align: center;}#sk-container-id-3 label.sk-toggleable__label-arrow:before {content: \"▸\";float: left;margin-right: 0.25em;color: #696969;}#sk-container-id-3 label.sk-toggleable__label-arrow:hover:before {color: black;}#sk-container-id-3 div.sk-estimator:hover label.sk-toggleable__label-arrow:before {color: black;}#sk-container-id-3 div.sk-toggleable__content {max-height: 0;max-width: 0;overflow: hidden;text-align: left;background-color: #f0f8ff;}#sk-container-id-3 div.sk-toggleable__content pre {margin: 0.2em;color: black;border-radius: 0.25em;background-color: #f0f8ff;}#sk-container-id-3 input.sk-toggleable__control:checked~div.sk-toggleable__content {max-height: 200px;max-width: 100%;overflow: auto;}#sk-container-id-3 input.sk-toggleable__control:checked~label.sk-toggleable__label-arrow:before {content: \"▾\";}#sk-container-id-3 div.sk-estimator input.sk-toggleable__control:checked~label.sk-toggleable__label {background-color: #d4ebff;}#sk-container-id-3 div.sk-label input.sk-toggleable__control:checked~label.sk-toggleable__label {background-color: #d4ebff;}#sk-container-id-3 input.sk-hidden--visually {border: 0;clip: rect(1px 1px 1px 1px);clip: rect(1px, 1px, 1px, 1px);height: 1px;margin: -1px;overflow: hidden;padding: 0;position: absolute;width: 1px;}#sk-container-id-3 div.sk-estimator {font-family: monospace;background-color: #f0f8ff;border: 1px dotted black;border-radius: 0.25em;box-sizing: border-box;margin-bottom: 0.5em;}#sk-container-id-3 div.sk-estimator:hover {background-color: #d4ebff;}#sk-container-id-3 div.sk-parallel-item::after {content: \"\";width: 100%;border-bottom: 1px solid gray;flex-grow: 1;}#sk-container-id-3 div.sk-label:hover label.sk-toggleable__label {background-color: #d4ebff;}#sk-container-id-3 div.sk-serial::before {content: \"\";position: absolute;border-left: 1px solid gray;box-sizing: border-box;top: 0;bottom: 0;left: 50%;z-index: 0;}#sk-container-id-3 div.sk-serial {display: flex;flex-direction: column;align-items: center;background-color: white;padding-right: 0.2em;padding-left: 0.2em;position: relative;}#sk-container-id-3 div.sk-item {position: relative;z-index: 1;}#sk-container-id-3 div.sk-parallel {display: flex;align-items: stretch;justify-content: center;background-color: white;position: relative;}#sk-container-id-3 div.sk-item::before, #sk-container-id-3 div.sk-parallel-item::before {content: \"\";position: absolute;border-left: 1px solid gray;box-sizing: border-box;top: 0;bottom: 0;left: 50%;z-index: -1;}#sk-container-id-3 div.sk-parallel-item {display: flex;flex-direction: column;z-index: 1;position: relative;background-color: white;}#sk-container-id-3 div.sk-parallel-item:first-child::after {align-self: flex-end;width: 50%;}#sk-container-id-3 div.sk-parallel-item:last-child::after {align-self: flex-start;width: 50%;}#sk-container-id-3 div.sk-parallel-item:only-child::after {width: 0;}#sk-container-id-3 div.sk-dashed-wrapped {border: 1px dashed gray;margin: 0 0.4em 0.5em 0.4em;box-sizing: border-box;padding-bottom: 0.4em;background-color: white;}#sk-container-id-3 div.sk-label label {font-family: monospace;font-weight: bold;display: inline-block;line-height: 1.2em;}#sk-container-id-3 div.sk-label-container {text-align: center;}#sk-container-id-3 div.sk-container {/* jupyter's `normalize.less` sets `[hidden] { display: none; }` but bootstrap.min.css set `[hidden] { display: none !important; }` so we also need the `!important` here to be able to override the default hidden behavior on the sphinx rendered scikit-learn.org. See: https://github.com/scikit-learn/scikit-learn/issues/21755 */display: inline-block !important;position: relative;}#sk-container-id-3 div.sk-text-repr-fallback {display: none;}</style><div id=\"sk-container-id-3\" class=\"sk-top-container\"><div class=\"sk-text-repr-fallback\"><pre>Pipeline(steps=[(&#x27;columntransformer&#x27;,\n",
       "                 ColumnTransformer(remainder=&#x27;passthrough&#x27;,\n",
       "                                   transformers=[(&#x27;standardscaler&#x27;,\n",
       "                                                  StandardScaler(),\n",
       "                                                  [&#x27;Delay_from_due_date&#x27;,\n",
       "                                                   &#x27;Num_of_Delayed_Payment&#x27;,\n",
       "                                                   &#x27;Credit_Utilization_Ratio&#x27;,\n",
       "                                                   &#x27;Credit_History_Age&#x27;])],\n",
       "                                   verbose_feature_names_out=False)),\n",
       "                (&#x27;kneighborsclassifier&#x27;, KNeighborsClassifier(n_neighbors=31))])</pre><b>In a Jupyter environment, please rerun this cell to show the HTML representation or trust the notebook. <br />On GitHub, the HTML representation is unable to render, please try loading this page with nbviewer.org.</b></div><div class=\"sk-container\" hidden><div class=\"sk-item sk-dashed-wrapped\"><div class=\"sk-label-container\"><div class=\"sk-label sk-toggleable\"><input class=\"sk-toggleable__control sk-hidden--visually\" id=\"sk-estimator-id-7\" type=\"checkbox\" ><label for=\"sk-estimator-id-7\" class=\"sk-toggleable__label sk-toggleable__label-arrow\">Pipeline</label><div class=\"sk-toggleable__content\"><pre>Pipeline(steps=[(&#x27;columntransformer&#x27;,\n",
       "                 ColumnTransformer(remainder=&#x27;passthrough&#x27;,\n",
       "                                   transformers=[(&#x27;standardscaler&#x27;,\n",
       "                                                  StandardScaler(),\n",
       "                                                  [&#x27;Delay_from_due_date&#x27;,\n",
       "                                                   &#x27;Num_of_Delayed_Payment&#x27;,\n",
       "                                                   &#x27;Credit_Utilization_Ratio&#x27;,\n",
       "                                                   &#x27;Credit_History_Age&#x27;])],\n",
       "                                   verbose_feature_names_out=False)),\n",
       "                (&#x27;kneighborsclassifier&#x27;, KNeighborsClassifier(n_neighbors=31))])</pre></div></div></div><div class=\"sk-serial\"><div class=\"sk-item sk-dashed-wrapped\"><div class=\"sk-label-container\"><div class=\"sk-label sk-toggleable\"><input class=\"sk-toggleable__control sk-hidden--visually\" id=\"sk-estimator-id-8\" type=\"checkbox\" ><label for=\"sk-estimator-id-8\" class=\"sk-toggleable__label sk-toggleable__label-arrow\">columntransformer: ColumnTransformer</label><div class=\"sk-toggleable__content\"><pre>ColumnTransformer(remainder=&#x27;passthrough&#x27;,\n",
       "                  transformers=[(&#x27;standardscaler&#x27;, StandardScaler(),\n",
       "                                 [&#x27;Delay_from_due_date&#x27;,\n",
       "                                  &#x27;Num_of_Delayed_Payment&#x27;,\n",
       "                                  &#x27;Credit_Utilization_Ratio&#x27;,\n",
       "                                  &#x27;Credit_History_Age&#x27;])],\n",
       "                  verbose_feature_names_out=False)</pre></div></div></div><div class=\"sk-parallel\"><div class=\"sk-parallel-item\"><div class=\"sk-item\"><div class=\"sk-label-container\"><div class=\"sk-label sk-toggleable\"><input class=\"sk-toggleable__control sk-hidden--visually\" id=\"sk-estimator-id-9\" type=\"checkbox\" ><label for=\"sk-estimator-id-9\" class=\"sk-toggleable__label sk-toggleable__label-arrow\">standardscaler</label><div class=\"sk-toggleable__content\"><pre>[&#x27;Delay_from_due_date&#x27;, &#x27;Num_of_Delayed_Payment&#x27;, &#x27;Credit_Utilization_Ratio&#x27;, &#x27;Credit_History_Age&#x27;]</pre></div></div></div><div class=\"sk-serial\"><div class=\"sk-item\"><div class=\"sk-estimator sk-toggleable\"><input class=\"sk-toggleable__control sk-hidden--visually\" id=\"sk-estimator-id-10\" type=\"checkbox\" ><label for=\"sk-estimator-id-10\" class=\"sk-toggleable__label sk-toggleable__label-arrow\">StandardScaler</label><div class=\"sk-toggleable__content\"><pre>StandardScaler()</pre></div></div></div></div></div></div><div class=\"sk-parallel-item\"><div class=\"sk-item\"><div class=\"sk-label-container\"><div class=\"sk-label sk-toggleable\"><input class=\"sk-toggleable__control sk-hidden--visually\" id=\"sk-estimator-id-11\" type=\"checkbox\" ><label for=\"sk-estimator-id-11\" class=\"sk-toggleable__label sk-toggleable__label-arrow\">remainder</label><div class=\"sk-toggleable__content\"><pre>[]</pre></div></div></div><div class=\"sk-serial\"><div class=\"sk-item\"><div class=\"sk-estimator sk-toggleable\"><input class=\"sk-toggleable__control sk-hidden--visually\" id=\"sk-estimator-id-12\" type=\"checkbox\" ><label for=\"sk-estimator-id-12\" class=\"sk-toggleable__label sk-toggleable__label-arrow\">passthrough</label><div class=\"sk-toggleable__content\"><pre>passthrough</pre></div></div></div></div></div></div></div></div><div class=\"sk-item\"><div class=\"sk-estimator sk-toggleable\"><input class=\"sk-toggleable__control sk-hidden--visually\" id=\"sk-estimator-id-13\" type=\"checkbox\" ><label for=\"sk-estimator-id-13\" class=\"sk-toggleable__label sk-toggleable__label-arrow\">KNeighborsClassifier</label><div class=\"sk-toggleable__content\"><pre>KNeighborsClassifier(n_neighbors=31)</pre></div></div></div></div></div></div></div>"
      ],
      "text/plain": [
       "Pipeline(steps=[('columntransformer',\n",
       "                 ColumnTransformer(remainder='passthrough',\n",
       "                                   transformers=[('standardscaler',\n",
       "                                                  StandardScaler(),\n",
       "                                                  ['Delay_from_due_date',\n",
       "                                                   'Num_of_Delayed_Payment',\n",
       "                                                   'Credit_Utilization_Ratio',\n",
       "                                                   'Credit_History_Age'])],\n",
       "                                   verbose_feature_names_out=False)),\n",
       "                ('kneighborsclassifier', KNeighborsClassifier(n_neighbors=31))])"
      ]
     },
     "execution_count": 21,
     "metadata": {},
     "output_type": "execute_result"
    }
   ],
   "source": [
    "X = train.drop(columns='Credit_Score')\n",
    "y = train[\"Credit_Score\"]\n",
    "\n",
    "train_fit = make_pipeline(preprocessor, knn).fit(X, y)\n",
    "\n",
    "train_fit"
   ]
  },
  {
   "cell_type": "code",
   "execution_count": 22,
   "metadata": {
    "tags": []
   },
   "outputs": [
    {
     "data": {
      "text/html": [
       "<div>\n",
       "<style scoped>\n",
       "    .dataframe tbody tr th:only-of-type {\n",
       "        vertical-align: middle;\n",
       "    }\n",
       "\n",
       "    .dataframe tbody tr th {\n",
       "        vertical-align: top;\n",
       "    }\n",
       "\n",
       "    .dataframe thead th {\n",
       "        text-align: right;\n",
       "    }\n",
       "</style>\n",
       "<table border=\"1\" class=\"dataframe\">\n",
       "  <thead>\n",
       "    <tr style=\"text-align: right;\">\n",
       "      <th></th>\n",
       "      <th>Delay_from_due_date</th>\n",
       "      <th>Num_of_Delayed_Payment</th>\n",
       "      <th>Credit_Utilization_Ratio</th>\n",
       "      <th>Credit_History_Age</th>\n",
       "      <th>Credit_Score</th>\n",
       "      <th>predicted</th>\n",
       "    </tr>\n",
       "  </thead>\n",
       "  <tbody>\n",
       "    <tr>\n",
       "      <th>91484</th>\n",
       "      <td>21</td>\n",
       "      <td>17</td>\n",
       "      <td>36.210134</td>\n",
       "      <td>6</td>\n",
       "      <td>Standard</td>\n",
       "      <td>Standard</td>\n",
       "    </tr>\n",
       "    <tr>\n",
       "      <th>87231</th>\n",
       "      <td>13</td>\n",
       "      <td>19</td>\n",
       "      <td>36.703555</td>\n",
       "      <td>13</td>\n",
       "      <td>Standard</td>\n",
       "      <td>Standard</td>\n",
       "    </tr>\n",
       "    <tr>\n",
       "      <th>91922</th>\n",
       "      <td>61</td>\n",
       "      <td>17</td>\n",
       "      <td>39.152540</td>\n",
       "      <td>7</td>\n",
       "      <td>Poor</td>\n",
       "      <td>Poor</td>\n",
       "    </tr>\n",
       "    <tr>\n",
       "      <th>44767</th>\n",
       "      <td>23</td>\n",
       "      <td>10</td>\n",
       "      <td>30.145530</td>\n",
       "      <td>16</td>\n",
       "      <td>Poor</td>\n",
       "      <td>Standard</td>\n",
       "    </tr>\n",
       "    <tr>\n",
       "      <th>21697</th>\n",
       "      <td>7</td>\n",
       "      <td>4</td>\n",
       "      <td>44.056016</td>\n",
       "      <td>19</td>\n",
       "      <td>Standard</td>\n",
       "      <td>Good</td>\n",
       "    </tr>\n",
       "    <tr>\n",
       "      <th>...</th>\n",
       "      <td>...</td>\n",
       "      <td>...</td>\n",
       "      <td>...</td>\n",
       "      <td>...</td>\n",
       "      <td>...</td>\n",
       "      <td>...</td>\n",
       "    </tr>\n",
       "    <tr>\n",
       "      <th>11428</th>\n",
       "      <td>9</td>\n",
       "      <td>8</td>\n",
       "      <td>32.144874</td>\n",
       "      <td>23</td>\n",
       "      <td>Good</td>\n",
       "      <td>Standard</td>\n",
       "    </tr>\n",
       "    <tr>\n",
       "      <th>28906</th>\n",
       "      <td>25</td>\n",
       "      <td>15</td>\n",
       "      <td>33.964940</td>\n",
       "      <td>14</td>\n",
       "      <td>Poor</td>\n",
       "      <td>Standard</td>\n",
       "    </tr>\n",
       "    <tr>\n",
       "      <th>19559</th>\n",
       "      <td>61</td>\n",
       "      <td>18</td>\n",
       "      <td>40.115347</td>\n",
       "      <td>7</td>\n",
       "      <td>Standard</td>\n",
       "      <td>Poor</td>\n",
       "    </tr>\n",
       "    <tr>\n",
       "      <th>6772</th>\n",
       "      <td>29</td>\n",
       "      <td>16</td>\n",
       "      <td>35.515784</td>\n",
       "      <td>21</td>\n",
       "      <td>Standard</td>\n",
       "      <td>Standard</td>\n",
       "    </tr>\n",
       "    <tr>\n",
       "      <th>5919</th>\n",
       "      <td>50</td>\n",
       "      <td>25</td>\n",
       "      <td>33.472463</td>\n",
       "      <td>15</td>\n",
       "      <td>Standard</td>\n",
       "      <td>Poor</td>\n",
       "    </tr>\n",
       "  </tbody>\n",
       "</table>\n",
       "<p>250 rows × 6 columns</p>\n",
       "</div>"
      ],
      "text/plain": [
       "       Delay_from_due_date  Num_of_Delayed_Payment  Credit_Utilization_Ratio  \\\n",
       "91484                   21                      17                 36.210134   \n",
       "87231                   13                      19                 36.703555   \n",
       "91922                   61                      17                 39.152540   \n",
       "44767                   23                      10                 30.145530   \n",
       "21697                    7                       4                 44.056016   \n",
       "...                    ...                     ...                       ...   \n",
       "11428                    9                       8                 32.144874   \n",
       "28906                   25                      15                 33.964940   \n",
       "19559                   61                      18                 40.115347   \n",
       "6772                    29                      16                 35.515784   \n",
       "5919                    50                      25                 33.472463   \n",
       "\n",
       "       Credit_History_Age Credit_Score predicted  \n",
       "91484                   6     Standard  Standard  \n",
       "87231                  13     Standard  Standard  \n",
       "91922                   7         Poor      Poor  \n",
       "44767                  16         Poor  Standard  \n",
       "21697                  19     Standard      Good  \n",
       "...                   ...          ...       ...  \n",
       "11428                  23         Good  Standard  \n",
       "28906                  14         Poor  Standard  \n",
       "19559                   7     Standard      Poor  \n",
       "6772                   21     Standard  Standard  \n",
       "5919                   15     Standard      Poor  \n",
       "\n",
       "[250 rows x 6 columns]"
      ]
     },
     "execution_count": 22,
     "metadata": {},
     "output_type": "execute_result"
    }
   ],
   "source": [
    "test_predictions = test.assign(\n",
    "    predicted = train_fit.predict(test[predictors])\n",
    ")\n",
    "test_predictions"
   ]
  },
  {
   "cell_type": "code",
   "execution_count": 23,
   "metadata": {
    "tags": []
   },
   "outputs": [
    {
     "data": {
      "text/plain": [
       "0.556"
      ]
     },
     "execution_count": 23,
     "metadata": {},
     "output_type": "execute_result"
    }
   ],
   "source": [
    "correct_preds = test_predictions[\n",
    "    test_predictions['Credit_Score'] == test_predictions['predicted']\n",
    "]\n",
    "\n",
    "correct_preds.shape[0] / test_predictions.shape[0]"
   ]
  },
  {
   "cell_type": "code",
   "execution_count": 24,
   "metadata": {
    "tags": []
   },
   "outputs": [
    {
     "data": {
      "text/plain": [
       "0.556"
      ]
     },
     "execution_count": 24,
     "metadata": {},
     "output_type": "execute_result"
    }
   ],
   "source": [
    "X_test = test[predictors]\n",
    "y_test = test[\"Credit_Score\"]\n",
    "accuracy = train_fit.score(X_test,y_test)\n",
    "accuracy"
   ]
  },
  {
   "cell_type": "markdown",
   "metadata": {},
   "source": [
    "### Choosing the best K"
   ]
  },
  {
   "cell_type": "code",
   "execution_count": 25,
   "metadata": {
    "tags": []
   },
   "outputs": [],
   "source": [
    "param_grid = {\n",
    "    \"kneighborsclassifier__n_neighbors\": range(1, 100, 5),\n",
    "}\n",
    "tune_pipe = make_pipeline(preprocessor, KNeighborsClassifier())"
   ]
  },
  {
   "cell_type": "code",
   "execution_count": 26,
   "metadata": {
    "tags": []
   },
   "outputs": [
    {
     "data": {
      "text/html": [
       "<style>#sk-container-id-4 {color: black;background-color: white;}#sk-container-id-4 pre{padding: 0;}#sk-container-id-4 div.sk-toggleable {background-color: white;}#sk-container-id-4 label.sk-toggleable__label {cursor: pointer;display: block;width: 100%;margin-bottom: 0;padding: 0.3em;box-sizing: border-box;text-align: center;}#sk-container-id-4 label.sk-toggleable__label-arrow:before {content: \"▸\";float: left;margin-right: 0.25em;color: #696969;}#sk-container-id-4 label.sk-toggleable__label-arrow:hover:before {color: black;}#sk-container-id-4 div.sk-estimator:hover label.sk-toggleable__label-arrow:before {color: black;}#sk-container-id-4 div.sk-toggleable__content {max-height: 0;max-width: 0;overflow: hidden;text-align: left;background-color: #f0f8ff;}#sk-container-id-4 div.sk-toggleable__content pre {margin: 0.2em;color: black;border-radius: 0.25em;background-color: #f0f8ff;}#sk-container-id-4 input.sk-toggleable__control:checked~div.sk-toggleable__content {max-height: 200px;max-width: 100%;overflow: auto;}#sk-container-id-4 input.sk-toggleable__control:checked~label.sk-toggleable__label-arrow:before {content: \"▾\";}#sk-container-id-4 div.sk-estimator input.sk-toggleable__control:checked~label.sk-toggleable__label {background-color: #d4ebff;}#sk-container-id-4 div.sk-label input.sk-toggleable__control:checked~label.sk-toggleable__label {background-color: #d4ebff;}#sk-container-id-4 input.sk-hidden--visually {border: 0;clip: rect(1px 1px 1px 1px);clip: rect(1px, 1px, 1px, 1px);height: 1px;margin: -1px;overflow: hidden;padding: 0;position: absolute;width: 1px;}#sk-container-id-4 div.sk-estimator {font-family: monospace;background-color: #f0f8ff;border: 1px dotted black;border-radius: 0.25em;box-sizing: border-box;margin-bottom: 0.5em;}#sk-container-id-4 div.sk-estimator:hover {background-color: #d4ebff;}#sk-container-id-4 div.sk-parallel-item::after {content: \"\";width: 100%;border-bottom: 1px solid gray;flex-grow: 1;}#sk-container-id-4 div.sk-label:hover label.sk-toggleable__label {background-color: #d4ebff;}#sk-container-id-4 div.sk-serial::before {content: \"\";position: absolute;border-left: 1px solid gray;box-sizing: border-box;top: 0;bottom: 0;left: 50%;z-index: 0;}#sk-container-id-4 div.sk-serial {display: flex;flex-direction: column;align-items: center;background-color: white;padding-right: 0.2em;padding-left: 0.2em;position: relative;}#sk-container-id-4 div.sk-item {position: relative;z-index: 1;}#sk-container-id-4 div.sk-parallel {display: flex;align-items: stretch;justify-content: center;background-color: white;position: relative;}#sk-container-id-4 div.sk-item::before, #sk-container-id-4 div.sk-parallel-item::before {content: \"\";position: absolute;border-left: 1px solid gray;box-sizing: border-box;top: 0;bottom: 0;left: 50%;z-index: -1;}#sk-container-id-4 div.sk-parallel-item {display: flex;flex-direction: column;z-index: 1;position: relative;background-color: white;}#sk-container-id-4 div.sk-parallel-item:first-child::after {align-self: flex-end;width: 50%;}#sk-container-id-4 div.sk-parallel-item:last-child::after {align-self: flex-start;width: 50%;}#sk-container-id-4 div.sk-parallel-item:only-child::after {width: 0;}#sk-container-id-4 div.sk-dashed-wrapped {border: 1px dashed gray;margin: 0 0.4em 0.5em 0.4em;box-sizing: border-box;padding-bottom: 0.4em;background-color: white;}#sk-container-id-4 div.sk-label label {font-family: monospace;font-weight: bold;display: inline-block;line-height: 1.2em;}#sk-container-id-4 div.sk-label-container {text-align: center;}#sk-container-id-4 div.sk-container {/* jupyter's `normalize.less` sets `[hidden] { display: none; }` but bootstrap.min.css set `[hidden] { display: none !important; }` so we also need the `!important` here to be able to override the default hidden behavior on the sphinx rendered scikit-learn.org. See: https://github.com/scikit-learn/scikit-learn/issues/21755 */display: inline-block !important;position: relative;}#sk-container-id-4 div.sk-text-repr-fallback {display: none;}</style><div id=\"sk-container-id-4\" class=\"sk-top-container\"><div class=\"sk-text-repr-fallback\"><pre>GridSearchCV(cv=25,\n",
       "             estimator=Pipeline(steps=[(&#x27;columntransformer&#x27;,\n",
       "                                        ColumnTransformer(remainder=&#x27;passthrough&#x27;,\n",
       "                                                          transformers=[(&#x27;standardscaler&#x27;,\n",
       "                                                                         StandardScaler(),\n",
       "                                                                         [&#x27;Delay_from_due_date&#x27;,\n",
       "                                                                          &#x27;Num_of_Delayed_Payment&#x27;,\n",
       "                                                                          &#x27;Credit_Utilization_Ratio&#x27;,\n",
       "                                                                          &#x27;Credit_History_Age&#x27;])],\n",
       "                                                          verbose_feature_names_out=False)),\n",
       "                                       (&#x27;kneighborsclassifier&#x27;,\n",
       "                                        KNeighborsClassifier())]),\n",
       "             param_grid={&#x27;kneighborsclassifier__n_neighbors&#x27;: range(1, 100, 5)})</pre><b>In a Jupyter environment, please rerun this cell to show the HTML representation or trust the notebook. <br />On GitHub, the HTML representation is unable to render, please try loading this page with nbviewer.org.</b></div><div class=\"sk-container\" hidden><div class=\"sk-item sk-dashed-wrapped\"><div class=\"sk-label-container\"><div class=\"sk-label sk-toggleable\"><input class=\"sk-toggleable__control sk-hidden--visually\" id=\"sk-estimator-id-14\" type=\"checkbox\" ><label for=\"sk-estimator-id-14\" class=\"sk-toggleable__label sk-toggleable__label-arrow\">GridSearchCV</label><div class=\"sk-toggleable__content\"><pre>GridSearchCV(cv=25,\n",
       "             estimator=Pipeline(steps=[(&#x27;columntransformer&#x27;,\n",
       "                                        ColumnTransformer(remainder=&#x27;passthrough&#x27;,\n",
       "                                                          transformers=[(&#x27;standardscaler&#x27;,\n",
       "                                                                         StandardScaler(),\n",
       "                                                                         [&#x27;Delay_from_due_date&#x27;,\n",
       "                                                                          &#x27;Num_of_Delayed_Payment&#x27;,\n",
       "                                                                          &#x27;Credit_Utilization_Ratio&#x27;,\n",
       "                                                                          &#x27;Credit_History_Age&#x27;])],\n",
       "                                                          verbose_feature_names_out=False)),\n",
       "                                       (&#x27;kneighborsclassifier&#x27;,\n",
       "                                        KNeighborsClassifier())]),\n",
       "             param_grid={&#x27;kneighborsclassifier__n_neighbors&#x27;: range(1, 100, 5)})</pre></div></div></div><div class=\"sk-parallel\"><div class=\"sk-parallel-item\"><div class=\"sk-item\"><div class=\"sk-label-container\"><div class=\"sk-label sk-toggleable\"><input class=\"sk-toggleable__control sk-hidden--visually\" id=\"sk-estimator-id-15\" type=\"checkbox\" ><label for=\"sk-estimator-id-15\" class=\"sk-toggleable__label sk-toggleable__label-arrow\">estimator: Pipeline</label><div class=\"sk-toggleable__content\"><pre>Pipeline(steps=[(&#x27;columntransformer&#x27;,\n",
       "                 ColumnTransformer(remainder=&#x27;passthrough&#x27;,\n",
       "                                   transformers=[(&#x27;standardscaler&#x27;,\n",
       "                                                  StandardScaler(),\n",
       "                                                  [&#x27;Delay_from_due_date&#x27;,\n",
       "                                                   &#x27;Num_of_Delayed_Payment&#x27;,\n",
       "                                                   &#x27;Credit_Utilization_Ratio&#x27;,\n",
       "                                                   &#x27;Credit_History_Age&#x27;])],\n",
       "                                   verbose_feature_names_out=False)),\n",
       "                (&#x27;kneighborsclassifier&#x27;, KNeighborsClassifier())])</pre></div></div></div><div class=\"sk-serial\"><div class=\"sk-item\"><div class=\"sk-serial\"><div class=\"sk-item sk-dashed-wrapped\"><div class=\"sk-label-container\"><div class=\"sk-label sk-toggleable\"><input class=\"sk-toggleable__control sk-hidden--visually\" id=\"sk-estimator-id-16\" type=\"checkbox\" ><label for=\"sk-estimator-id-16\" class=\"sk-toggleable__label sk-toggleable__label-arrow\">columntransformer: ColumnTransformer</label><div class=\"sk-toggleable__content\"><pre>ColumnTransformer(remainder=&#x27;passthrough&#x27;,\n",
       "                  transformers=[(&#x27;standardscaler&#x27;, StandardScaler(),\n",
       "                                 [&#x27;Delay_from_due_date&#x27;,\n",
       "                                  &#x27;Num_of_Delayed_Payment&#x27;,\n",
       "                                  &#x27;Credit_Utilization_Ratio&#x27;,\n",
       "                                  &#x27;Credit_History_Age&#x27;])],\n",
       "                  verbose_feature_names_out=False)</pre></div></div></div><div class=\"sk-parallel\"><div class=\"sk-parallel-item\"><div class=\"sk-item\"><div class=\"sk-label-container\"><div class=\"sk-label sk-toggleable\"><input class=\"sk-toggleable__control sk-hidden--visually\" id=\"sk-estimator-id-17\" type=\"checkbox\" ><label for=\"sk-estimator-id-17\" class=\"sk-toggleable__label sk-toggleable__label-arrow\">standardscaler</label><div class=\"sk-toggleable__content\"><pre>[&#x27;Delay_from_due_date&#x27;, &#x27;Num_of_Delayed_Payment&#x27;, &#x27;Credit_Utilization_Ratio&#x27;, &#x27;Credit_History_Age&#x27;]</pre></div></div></div><div class=\"sk-serial\"><div class=\"sk-item\"><div class=\"sk-estimator sk-toggleable\"><input class=\"sk-toggleable__control sk-hidden--visually\" id=\"sk-estimator-id-18\" type=\"checkbox\" ><label for=\"sk-estimator-id-18\" class=\"sk-toggleable__label sk-toggleable__label-arrow\">StandardScaler</label><div class=\"sk-toggleable__content\"><pre>StandardScaler()</pre></div></div></div></div></div></div><div class=\"sk-parallel-item\"><div class=\"sk-item\"><div class=\"sk-label-container\"><div class=\"sk-label sk-toggleable\"><input class=\"sk-toggleable__control sk-hidden--visually\" id=\"sk-estimator-id-19\" type=\"checkbox\" ><label for=\"sk-estimator-id-19\" class=\"sk-toggleable__label sk-toggleable__label-arrow\">remainder</label><div class=\"sk-toggleable__content\"><pre>[]</pre></div></div></div><div class=\"sk-serial\"><div class=\"sk-item\"><div class=\"sk-estimator sk-toggleable\"><input class=\"sk-toggleable__control sk-hidden--visually\" id=\"sk-estimator-id-20\" type=\"checkbox\" ><label for=\"sk-estimator-id-20\" class=\"sk-toggleable__label sk-toggleable__label-arrow\">passthrough</label><div class=\"sk-toggleable__content\"><pre>passthrough</pre></div></div></div></div></div></div></div></div><div class=\"sk-item\"><div class=\"sk-estimator sk-toggleable\"><input class=\"sk-toggleable__control sk-hidden--visually\" id=\"sk-estimator-id-21\" type=\"checkbox\" ><label for=\"sk-estimator-id-21\" class=\"sk-toggleable__label sk-toggleable__label-arrow\">KNeighborsClassifier</label><div class=\"sk-toggleable__content\"><pre>KNeighborsClassifier()</pre></div></div></div></div></div></div></div></div></div></div></div></div>"
      ],
      "text/plain": [
       "GridSearchCV(cv=25,\n",
       "             estimator=Pipeline(steps=[('columntransformer',\n",
       "                                        ColumnTransformer(remainder='passthrough',\n",
       "                                                          transformers=[('standardscaler',\n",
       "                                                                         StandardScaler(),\n",
       "                                                                         ['Delay_from_due_date',\n",
       "                                                                          'Num_of_Delayed_Payment',\n",
       "                                                                          'Credit_Utilization_Ratio',\n",
       "                                                                          'Credit_History_Age'])],\n",
       "                                                          verbose_feature_names_out=False)),\n",
       "                                       ('kneighborsclassifier',\n",
       "                                        KNeighborsClassifier())]),\n",
       "             param_grid={'kneighborsclassifier__n_neighbors': range(1, 100, 5)})"
      ]
     },
     "execution_count": 26,
     "metadata": {},
     "output_type": "execute_result"
    }
   ],
   "source": [
    "knn_tune_grid = GridSearchCV(\n",
    "    estimator = tune_pipe, param_grid = param_grid, cv=25,\n",
    ")\n",
    "knn_tune_grid"
   ]
  },
  {
   "cell_type": "code",
   "execution_count": 27,
   "metadata": {
    "tags": []
   },
   "outputs": [],
   "source": [
    "knn_model_grid = knn_tune_grid.fit(X, y)\n",
    "\n",
    "accuracies_grid = pd.DataFrame(knn_model_grid.cv_results_)\n",
    "#accuracies_grid"
   ]
  },
  {
   "cell_type": "code",
   "execution_count": 28,
   "metadata": {
    "tags": []
   },
   "outputs": [
    {
     "data": {
      "text/html": [
       "\n",
       "<style>\n",
       "  #altair-viz-6ddd4f556c6a44cc80aa53fef0700901.vega-embed {\n",
       "    width: 100%;\n",
       "    display: flex;\n",
       "  }\n",
       "\n",
       "  #altair-viz-6ddd4f556c6a44cc80aa53fef0700901.vega-embed details,\n",
       "  #altair-viz-6ddd4f556c6a44cc80aa53fef0700901.vega-embed details summary {\n",
       "    position: relative;\n",
       "  }\n",
       "</style>\n",
       "<div id=\"altair-viz-6ddd4f556c6a44cc80aa53fef0700901\"></div>\n",
       "<script type=\"text/javascript\">\n",
       "  var VEGA_DEBUG = (typeof VEGA_DEBUG == \"undefined\") ? {} : VEGA_DEBUG;\n",
       "  (function(spec, embedOpt){\n",
       "    let outputDiv = document.currentScript.previousElementSibling;\n",
       "    if (outputDiv.id !== \"altair-viz-6ddd4f556c6a44cc80aa53fef0700901\") {\n",
       "      outputDiv = document.getElementById(\"altair-viz-6ddd4f556c6a44cc80aa53fef0700901\");\n",
       "    }\n",
       "    const paths = {\n",
       "      \"vega\": \"https://cdn.jsdelivr.net/npm/vega@5?noext\",\n",
       "      \"vega-lib\": \"https://cdn.jsdelivr.net/npm/vega-lib?noext\",\n",
       "      \"vega-lite\": \"https://cdn.jsdelivr.net/npm/vega-lite@5.16.3?noext\",\n",
       "      \"vega-embed\": \"https://cdn.jsdelivr.net/npm/vega-embed@6?noext\",\n",
       "    };\n",
       "\n",
       "    function maybeLoadScript(lib, version) {\n",
       "      var key = `${lib.replace(\"-\", \"\")}_version`;\n",
       "      return (VEGA_DEBUG[key] == version) ?\n",
       "        Promise.resolve(paths[lib]) :\n",
       "        new Promise(function(resolve, reject) {\n",
       "          var s = document.createElement('script');\n",
       "          document.getElementsByTagName(\"head\")[0].appendChild(s);\n",
       "          s.async = true;\n",
       "          s.onload = () => {\n",
       "            VEGA_DEBUG[key] = version;\n",
       "            return resolve(paths[lib]);\n",
       "          };\n",
       "          s.onerror = () => reject(`Error loading script: ${paths[lib]}`);\n",
       "          s.src = paths[lib];\n",
       "        });\n",
       "    }\n",
       "\n",
       "    function showError(err) {\n",
       "      outputDiv.innerHTML = `<div class=\"error\" style=\"color:red;\">${err}</div>`;\n",
       "      throw err;\n",
       "    }\n",
       "\n",
       "    function displayChart(vegaEmbed) {\n",
       "      vegaEmbed(outputDiv, spec, embedOpt)\n",
       "        .catch(err => showError(`Javascript Error: ${err.message}<br>This usually means there's a typo in your chart specification. See the javascript console for the full traceback.`));\n",
       "    }\n",
       "\n",
       "    if(typeof define === \"function\" && define.amd) {\n",
       "      requirejs.config({paths});\n",
       "      require([\"vega-embed\"], displayChart, err => showError(`Error loading script: ${err.message}`));\n",
       "    } else {\n",
       "      maybeLoadScript(\"vega\", \"5\")\n",
       "        .then(() => maybeLoadScript(\"vega-lite\", \"5.16.3\"))\n",
       "        .then(() => maybeLoadScript(\"vega-embed\", \"6\"))\n",
       "        .catch(showError)\n",
       "        .then(() => displayChart(vegaEmbed));\n",
       "    }\n",
       "  })({\"config\": {\"view\": {\"continuousWidth\": 300, \"continuousHeight\": 300}}, \"data\": {\"name\": \"data-54b0bf3d2da48a936c0f36c823b1ece5\"}, \"mark\": {\"type\": \"line\", \"point\": true}, \"encoding\": {\"x\": {\"field\": \"param_kneighborsclassifier__n_neighbors\", \"scale\": {\"zero\": false}, \"title\": \"neighbors\", \"type\": \"quantitative\"}, \"y\": {\"field\": \"mean_test_score\", \"scale\": {\"zero\": false}, \"title\": \"Mean test score\", \"type\": \"quantitative\"}}, \"$schema\": \"https://vega.github.io/schema/vega-lite/v5.16.3.json\", \"datasets\": {\"data-54b0bf3d2da48a936c0f36c823b1ece5\": [{\"mean_fit_time\": 0.0111130428314209, \"std_fit_time\": 0.015200548116672468, \"mean_score_time\": 0.005622968673706054, \"std_score_time\": 0.00039736965348768043, \"param_kneighborsclassifier__n_neighbors\": 1, \"params\": {\"kneighborsclassifier__n_neighbors\": 1}, \"split0_test_score\": 0.5172413793103449, \"split1_test_score\": 0.4827586206896552, \"split2_test_score\": 0.6551724137931034, \"split3_test_score\": 0.5862068965517241, \"split4_test_score\": 0.5862068965517241, \"split5_test_score\": 0.5172413793103449, \"split6_test_score\": 0.5172413793103449, \"split7_test_score\": 0.4827586206896552, \"split8_test_score\": 0.5517241379310345, \"split9_test_score\": 0.5862068965517241, \"split10_test_score\": 0.5172413793103449, \"split11_test_score\": 0.6896551724137931, \"split12_test_score\": 0.6896551724137931, \"split13_test_score\": 0.4482758620689655, \"split14_test_score\": 0.5517241379310345, \"split15_test_score\": 0.4827586206896552, \"split16_test_score\": 0.6206896551724138, \"split17_test_score\": 0.6551724137931034, \"split18_test_score\": 0.5714285714285714, \"split19_test_score\": 0.4642857142857143, \"split20_test_score\": 0.4642857142857143, \"split21_test_score\": 0.42857142857142855, \"split22_test_score\": 0.42857142857142855, \"split23_test_score\": 0.42857142857142855, \"split24_test_score\": 0.35714285714285715, \"mean_test_score\": 0.5312315270935961, \"std_test_score\": 0.08626590520891919, \"rank_test_score\": 20}, {\"mean_fit_time\": 0.007478580474853515, \"std_fit_time\": 0.0006398536808641259, \"mean_score_time\": 0.005804204940795898, \"std_score_time\": 0.0005555760550929339, \"param_kneighborsclassifier__n_neighbors\": 6, \"params\": {\"kneighborsclassifier__n_neighbors\": 6}, \"split0_test_score\": 0.6206896551724138, \"split1_test_score\": 0.6551724137931034, \"split2_test_score\": 0.5862068965517241, \"split3_test_score\": 0.5517241379310345, \"split4_test_score\": 0.6551724137931034, \"split5_test_score\": 0.5172413793103449, \"split6_test_score\": 0.4827586206896552, \"split7_test_score\": 0.5172413793103449, \"split8_test_score\": 0.6206896551724138, \"split9_test_score\": 0.6206896551724138, \"split10_test_score\": 0.4482758620689655, \"split11_test_score\": 0.5517241379310345, \"split12_test_score\": 0.7241379310344828, \"split13_test_score\": 0.4827586206896552, \"split14_test_score\": 0.5862068965517241, \"split15_test_score\": 0.5862068965517241, \"split16_test_score\": 0.5517241379310345, \"split17_test_score\": 0.5172413793103449, \"split18_test_score\": 0.6785714285714286, \"split19_test_score\": 0.5357142857142857, \"split20_test_score\": 0.6428571428571429, \"split21_test_score\": 0.5357142857142857, \"split22_test_score\": 0.5, \"split23_test_score\": 0.4642857142857143, \"split24_test_score\": 0.39285714285714285, \"mean_test_score\": 0.5610344827586207, \"std_test_score\": 0.0777296195865618, \"rank_test_score\": 19}, {\"mean_fit_time\": 0.00855463981628418, \"std_fit_time\": 0.0008630714054970164, \"mean_score_time\": 0.006676340103149414, \"std_score_time\": 0.0006703280642106898, \"param_kneighborsclassifier__n_neighbors\": 11, \"params\": {\"kneighborsclassifier__n_neighbors\": 11}, \"split0_test_score\": 0.5517241379310345, \"split1_test_score\": 0.7586206896551724, \"split2_test_score\": 0.5517241379310345, \"split3_test_score\": 0.5517241379310345, \"split4_test_score\": 0.6896551724137931, \"split5_test_score\": 0.5517241379310345, \"split6_test_score\": 0.41379310344827586, \"split7_test_score\": 0.7586206896551724, \"split8_test_score\": 0.5862068965517241, \"split9_test_score\": 0.7241379310344828, \"split10_test_score\": 0.4827586206896552, \"split11_test_score\": 0.6206896551724138, \"split12_test_score\": 0.7586206896551724, \"split13_test_score\": 0.5517241379310345, \"split14_test_score\": 0.5172413793103449, \"split15_test_score\": 0.5862068965517241, \"split16_test_score\": 0.4827586206896552, \"split17_test_score\": 0.6896551724137931, \"split18_test_score\": 0.6071428571428571, \"split19_test_score\": 0.6071428571428571, \"split20_test_score\": 0.6071428571428571, \"split21_test_score\": 0.5357142857142857, \"split22_test_score\": 0.5714285714285714, \"split23_test_score\": 0.42857142857142855, \"split24_test_score\": 0.5357142857142857, \"mean_test_score\": 0.5888177339901478, \"std_test_score\": 0.09464432422719767, \"rank_test_score\": 9}, {\"mean_fit_time\": 0.009040746688842773, \"std_fit_time\": 0.0002623211259847678, \"mean_score_time\": 0.00708735466003418, \"std_score_time\": 0.00012453020504383456, \"param_kneighborsclassifier__n_neighbors\": 16, \"params\": {\"kneighborsclassifier__n_neighbors\": 16}, \"split0_test_score\": 0.6551724137931034, \"split1_test_score\": 0.6206896551724138, \"split2_test_score\": 0.6206896551724138, \"split3_test_score\": 0.5862068965517241, \"split4_test_score\": 0.6551724137931034, \"split5_test_score\": 0.5172413793103449, \"split6_test_score\": 0.5172413793103449, \"split7_test_score\": 0.6896551724137931, \"split8_test_score\": 0.5517241379310345, \"split9_test_score\": 0.6551724137931034, \"split10_test_score\": 0.4827586206896552, \"split11_test_score\": 0.6896551724137931, \"split12_test_score\": 0.6551724137931034, \"split13_test_score\": 0.5517241379310345, \"split14_test_score\": 0.5172413793103449, \"split15_test_score\": 0.5517241379310345, \"split16_test_score\": 0.5517241379310345, \"split17_test_score\": 0.6206896551724138, \"split18_test_score\": 0.5714285714285714, \"split19_test_score\": 0.5714285714285714, \"split20_test_score\": 0.6785714285714286, \"split21_test_score\": 0.5, \"split22_test_score\": 0.5714285714285714, \"split23_test_score\": 0.4642857142857143, \"split24_test_score\": 0.5714285714285714, \"mean_test_score\": 0.5847290640394089, \"std_test_score\": 0.06492098771078936, \"rank_test_score\": 16}, {\"mean_fit_time\": 0.01372797966003418, \"std_fit_time\": 0.014177406121143593, \"mean_score_time\": 0.006592597961425781, \"std_score_time\": 0.0006013931748365709, \"param_kneighborsclassifier__n_neighbors\": 21, \"params\": {\"kneighborsclassifier__n_neighbors\": 21}, \"split0_test_score\": 0.6896551724137931, \"split1_test_score\": 0.6206896551724138, \"split2_test_score\": 0.6551724137931034, \"split3_test_score\": 0.6206896551724138, \"split4_test_score\": 0.7241379310344828, \"split5_test_score\": 0.5517241379310345, \"split6_test_score\": 0.4827586206896552, \"split7_test_score\": 0.6896551724137931, \"split8_test_score\": 0.5517241379310345, \"split9_test_score\": 0.6206896551724138, \"split10_test_score\": 0.3793103448275862, \"split11_test_score\": 0.5172413793103449, \"split12_test_score\": 0.6551724137931034, \"split13_test_score\": 0.5517241379310345, \"split14_test_score\": 0.5862068965517241, \"split15_test_score\": 0.5862068965517241, \"split16_test_score\": 0.5517241379310345, \"split17_test_score\": 0.5517241379310345, \"split18_test_score\": 0.6428571428571429, \"split19_test_score\": 0.5714285714285714, \"split20_test_score\": 0.6071428571428571, \"split21_test_score\": 0.5357142857142857, \"split22_test_score\": 0.5357142857142857, \"split23_test_score\": 0.5714285714285714, \"split24_test_score\": 0.6428571428571429, \"mean_test_score\": 0.5877339901477832, \"std_test_score\": 0.07212525874891812, \"rank_test_score\": 12}, {\"mean_fit_time\": 0.011086063385009766, \"std_fit_time\": 0.009204258502286556, \"mean_score_time\": 0.010011043548583985, \"std_score_time\": 0.009876508387081054, \"param_kneighborsclassifier__n_neighbors\": 26, \"params\": {\"kneighborsclassifier__n_neighbors\": 26}, \"split0_test_score\": 0.5517241379310345, \"split1_test_score\": 0.5862068965517241, \"split2_test_score\": 0.6206896551724138, \"split3_test_score\": 0.6206896551724138, \"split4_test_score\": 0.7241379310344828, \"split5_test_score\": 0.5862068965517241, \"split6_test_score\": 0.4827586206896552, \"split7_test_score\": 0.7586206896551724, \"split8_test_score\": 0.6206896551724138, \"split9_test_score\": 0.6206896551724138, \"split10_test_score\": 0.5172413793103449, \"split11_test_score\": 0.5862068965517241, \"split12_test_score\": 0.6896551724137931, \"split13_test_score\": 0.5517241379310345, \"split14_test_score\": 0.5172413793103449, \"split15_test_score\": 0.6206896551724138, \"split16_test_score\": 0.5172413793103449, \"split17_test_score\": 0.5517241379310345, \"split18_test_score\": 0.5714285714285714, \"split19_test_score\": 0.6071428571428571, \"split20_test_score\": 0.6071428571428571, \"split21_test_score\": 0.5357142857142857, \"split22_test_score\": 0.5357142857142857, \"split23_test_score\": 0.5714285714285714, \"split24_test_score\": 0.5714285714285714, \"mean_test_score\": 0.5889655172413792, \"std_test_score\": 0.06336446136219825, \"rank_test_score\": 6}, {\"mean_fit_time\": 0.0097314453125, \"std_fit_time\": 0.0030258172232576195, \"mean_score_time\": 0.007238149642944336, \"std_score_time\": 0.0008122979870138576, \"param_kneighborsclassifier__n_neighbors\": 31, \"params\": {\"kneighborsclassifier__n_neighbors\": 31}, \"split0_test_score\": 0.5862068965517241, \"split1_test_score\": 0.6551724137931034, \"split2_test_score\": 0.6206896551724138, \"split3_test_score\": 0.5862068965517241, \"split4_test_score\": 0.7241379310344828, \"split5_test_score\": 0.6206896551724138, \"split6_test_score\": 0.5172413793103449, \"split7_test_score\": 0.6896551724137931, \"split8_test_score\": 0.6896551724137931, \"split9_test_score\": 0.6206896551724138, \"split10_test_score\": 0.4482758620689655, \"split11_test_score\": 0.6206896551724138, \"split12_test_score\": 0.6551724137931034, \"split13_test_score\": 0.5517241379310345, \"split14_test_score\": 0.5517241379310345, \"split15_test_score\": 0.5862068965517241, \"split16_test_score\": 0.5517241379310345, \"split17_test_score\": 0.5172413793103449, \"split18_test_score\": 0.6071428571428571, \"split19_test_score\": 0.6428571428571429, \"split20_test_score\": 0.6428571428571429, \"split21_test_score\": 0.5714285714285714, \"split22_test_score\": 0.5, \"split23_test_score\": 0.6785714285714286, \"split24_test_score\": 0.5, \"mean_test_score\": 0.5974384236453202, \"std_test_score\": 0.06756254163515242, \"rank_test_score\": 1}, {\"mean_fit_time\": 0.007846393585205079, \"std_fit_time\": 0.0009459108948944163, \"mean_score_time\": 0.006384868621826172, \"std_score_time\": 0.000799447195944553, \"param_kneighborsclassifier__n_neighbors\": 36, \"params\": {\"kneighborsclassifier__n_neighbors\": 36}, \"split0_test_score\": 0.5517241379310345, \"split1_test_score\": 0.6206896551724138, \"split2_test_score\": 0.5862068965517241, \"split3_test_score\": 0.5517241379310345, \"split4_test_score\": 0.6896551724137931, \"split5_test_score\": 0.5517241379310345, \"split6_test_score\": 0.5517241379310345, \"split7_test_score\": 0.6896551724137931, \"split8_test_score\": 0.6551724137931034, \"split9_test_score\": 0.6206896551724138, \"split10_test_score\": 0.4482758620689655, \"split11_test_score\": 0.5862068965517241, \"split12_test_score\": 0.6896551724137931, \"split13_test_score\": 0.6206896551724138, \"split14_test_score\": 0.5862068965517241, \"split15_test_score\": 0.5862068965517241, \"split16_test_score\": 0.5517241379310345, \"split17_test_score\": 0.5862068965517241, \"split18_test_score\": 0.5714285714285714, \"split19_test_score\": 0.6071428571428571, \"split20_test_score\": 0.6071428571428571, \"split21_test_score\": 0.5714285714285714, \"split22_test_score\": 0.4642857142857143, \"split23_test_score\": 0.75, \"split24_test_score\": 0.5357142857142857, \"mean_test_score\": 0.5932512315270936, \"std_test_score\": 0.06624610321646071, \"rank_test_score\": 3}, {\"mean_fit_time\": 0.007985448837280274, \"std_fit_time\": 0.001131318739292854, \"mean_score_time\": 0.006290874481201172, \"std_score_time\": 0.0008367299912780552, \"param_kneighborsclassifier__n_neighbors\": 41, \"params\": {\"kneighborsclassifier__n_neighbors\": 41}, \"split0_test_score\": 0.5862068965517241, \"split1_test_score\": 0.6206896551724138, \"split2_test_score\": 0.5862068965517241, \"split3_test_score\": 0.5862068965517241, \"split4_test_score\": 0.6896551724137931, \"split5_test_score\": 0.5517241379310345, \"split6_test_score\": 0.5517241379310345, \"split7_test_score\": 0.6551724137931034, \"split8_test_score\": 0.6551724137931034, \"split9_test_score\": 0.6206896551724138, \"split10_test_score\": 0.4827586206896552, \"split11_test_score\": 0.5862068965517241, \"split12_test_score\": 0.6896551724137931, \"split13_test_score\": 0.6206896551724138, \"split14_test_score\": 0.5862068965517241, \"split15_test_score\": 0.5862068965517241, \"split16_test_score\": 0.5517241379310345, \"split17_test_score\": 0.5172413793103449, \"split18_test_score\": 0.5, \"split19_test_score\": 0.6071428571428571, \"split20_test_score\": 0.6071428571428571, \"split21_test_score\": 0.5714285714285714, \"split22_test_score\": 0.5, \"split23_test_score\": 0.7142857142857143, \"split24_test_score\": 0.5, \"mean_test_score\": 0.5889655172413792, \"std_test_score\": 0.06102837948627081, \"rank_test_score\": 6}, {\"mean_fit_time\": 0.007722768783569336, \"std_fit_time\": 0.0007506360968912148, \"mean_score_time\": 0.006150693893432617, \"std_score_time\": 0.0006431912155365902, \"param_kneighborsclassifier__n_neighbors\": 46, \"params\": {\"kneighborsclassifier__n_neighbors\": 46}, \"split0_test_score\": 0.5862068965517241, \"split1_test_score\": 0.6551724137931034, \"split2_test_score\": 0.5517241379310345, \"split3_test_score\": 0.5862068965517241, \"split4_test_score\": 0.6896551724137931, \"split5_test_score\": 0.5517241379310345, \"split6_test_score\": 0.5172413793103449, \"split7_test_score\": 0.6896551724137931, \"split8_test_score\": 0.6206896551724138, \"split9_test_score\": 0.6206896551724138, \"split10_test_score\": 0.4482758620689655, \"split11_test_score\": 0.5862068965517241, \"split12_test_score\": 0.7241379310344828, \"split13_test_score\": 0.6206896551724138, \"split14_test_score\": 0.5862068965517241, \"split15_test_score\": 0.5862068965517241, \"split16_test_score\": 0.5172413793103449, \"split17_test_score\": 0.5517241379310345, \"split18_test_score\": 0.5, \"split19_test_score\": 0.6071428571428571, \"split20_test_score\": 0.6071428571428571, \"split21_test_score\": 0.5714285714285714, \"split22_test_score\": 0.5357142857142857, \"split23_test_score\": 0.7142857142857143, \"split24_test_score\": 0.5, \"mean_test_score\": 0.5890147783251232, \"std_test_score\": 0.06799146763341461, \"rank_test_score\": 5}, {\"mean_fit_time\": 0.007695627212524414, \"std_fit_time\": 0.0008486993899485066, \"mean_score_time\": 0.006438255310058594, \"std_score_time\": 0.0008673884277413241, \"param_kneighborsclassifier__n_neighbors\": 51, \"params\": {\"kneighborsclassifier__n_neighbors\": 51}, \"split0_test_score\": 0.5862068965517241, \"split1_test_score\": 0.5862068965517241, \"split2_test_score\": 0.5517241379310345, \"split3_test_score\": 0.5517241379310345, \"split4_test_score\": 0.6896551724137931, \"split5_test_score\": 0.5862068965517241, \"split6_test_score\": 0.5517241379310345, \"split7_test_score\": 0.6551724137931034, \"split8_test_score\": 0.6551724137931034, \"split9_test_score\": 0.6551724137931034, \"split10_test_score\": 0.4827586206896552, \"split11_test_score\": 0.5862068965517241, \"split12_test_score\": 0.7241379310344828, \"split13_test_score\": 0.6206896551724138, \"split14_test_score\": 0.5862068965517241, \"split15_test_score\": 0.6206896551724138, \"split16_test_score\": 0.5172413793103449, \"split17_test_score\": 0.5172413793103449, \"split18_test_score\": 0.5, \"split19_test_score\": 0.6071428571428571, \"split20_test_score\": 0.5714285714285714, \"split21_test_score\": 0.5714285714285714, \"split22_test_score\": 0.5357142857142857, \"split23_test_score\": 0.7142857142857143, \"split24_test_score\": 0.5, \"mean_test_score\": 0.5889655172413792, \"std_test_score\": 0.06470127842353006, \"rank_test_score\": 6}, {\"mean_fit_time\": 0.007379951477050781, \"std_fit_time\": 0.00048391033931076947, \"mean_score_time\": 0.006268901824951172, \"std_score_time\": 0.0006817245003119262, \"param_kneighborsclassifier__n_neighbors\": 56, \"params\": {\"kneighborsclassifier__n_neighbors\": 56}, \"split0_test_score\": 0.5862068965517241, \"split1_test_score\": 0.5517241379310345, \"split2_test_score\": 0.5517241379310345, \"split3_test_score\": 0.6206896551724138, \"split4_test_score\": 0.6896551724137931, \"split5_test_score\": 0.5862068965517241, \"split6_test_score\": 0.5172413793103449, \"split7_test_score\": 0.6551724137931034, \"split8_test_score\": 0.6206896551724138, \"split9_test_score\": 0.6551724137931034, \"split10_test_score\": 0.4827586206896552, \"split11_test_score\": 0.5862068965517241, \"split12_test_score\": 0.7241379310344828, \"split13_test_score\": 0.6206896551724138, \"split14_test_score\": 0.5862068965517241, \"split15_test_score\": 0.6206896551724138, \"split16_test_score\": 0.5172413793103449, \"split17_test_score\": 0.5172413793103449, \"split18_test_score\": 0.5714285714285714, \"split19_test_score\": 0.6071428571428571, \"split20_test_score\": 0.5714285714285714, \"split21_test_score\": 0.5714285714285714, \"split22_test_score\": 0.5714285714285714, \"split23_test_score\": 0.75, \"split24_test_score\": 0.5, \"mean_test_score\": 0.5933004926108374, \"std_test_score\": 0.06500996251937738, \"rank_test_score\": 2}, {\"mean_fit_time\": 0.008052883148193359, \"std_fit_time\": 0.0024711505846101403, \"mean_score_time\": 0.006401309967041016, \"std_score_time\": 0.0007276105351841813, \"param_kneighborsclassifier__n_neighbors\": 61, \"params\": {\"kneighborsclassifier__n_neighbors\": 61}, \"split0_test_score\": 0.5862068965517241, \"split1_test_score\": 0.5517241379310345, \"split2_test_score\": 0.5517241379310345, \"split3_test_score\": 0.5862068965517241, \"split4_test_score\": 0.6551724137931034, \"split5_test_score\": 0.5862068965517241, \"split6_test_score\": 0.4827586206896552, \"split7_test_score\": 0.6551724137931034, \"split8_test_score\": 0.6206896551724138, \"split9_test_score\": 0.6206896551724138, \"split10_test_score\": 0.4827586206896552, \"split11_test_score\": 0.5862068965517241, \"split12_test_score\": 0.7241379310344828, \"split13_test_score\": 0.6206896551724138, \"split14_test_score\": 0.5862068965517241, \"split15_test_score\": 0.6206896551724138, \"split16_test_score\": 0.4827586206896552, \"split17_test_score\": 0.5517241379310345, \"split18_test_score\": 0.5357142857142857, \"split19_test_score\": 0.6071428571428571, \"split20_test_score\": 0.5357142857142857, \"split21_test_score\": 0.5714285714285714, \"split22_test_score\": 0.6071428571428571, \"split23_test_score\": 0.6785714285714286, \"split24_test_score\": 0.5, \"mean_test_score\": 0.5834975369458129, \"std_test_score\": 0.06031214556832776, \"rank_test_score\": 17}, {\"mean_fit_time\": 0.010445480346679687, \"std_fit_time\": 0.010653012508663413, \"mean_score_time\": 0.013979177474975586, \"std_score_time\": 0.017149392881230664, \"param_kneighborsclassifier__n_neighbors\": 66, \"params\": {\"kneighborsclassifier__n_neighbors\": 66}, \"split0_test_score\": 0.5862068965517241, \"split1_test_score\": 0.5517241379310345, \"split2_test_score\": 0.5517241379310345, \"split3_test_score\": 0.5862068965517241, \"split4_test_score\": 0.6551724137931034, \"split5_test_score\": 0.5517241379310345, \"split6_test_score\": 0.5517241379310345, \"split7_test_score\": 0.6896551724137931, \"split8_test_score\": 0.6206896551724138, \"split9_test_score\": 0.6206896551724138, \"split10_test_score\": 0.5172413793103449, \"split11_test_score\": 0.5862068965517241, \"split12_test_score\": 0.6896551724137931, \"split13_test_score\": 0.6206896551724138, \"split14_test_score\": 0.5862068965517241, \"split15_test_score\": 0.5862068965517241, \"split16_test_score\": 0.4827586206896552, \"split17_test_score\": 0.4827586206896552, \"split18_test_score\": 0.6071428571428571, \"split19_test_score\": 0.6071428571428571, \"split20_test_score\": 0.5357142857142857, \"split21_test_score\": 0.5714285714285714, \"split22_test_score\": 0.6071428571428571, \"split23_test_score\": 0.6785714285714286, \"split24_test_score\": 0.5, \"mean_test_score\": 0.5849753694581281, \"std_test_score\": 0.05679783729710816, \"rank_test_score\": 15}, {\"mean_fit_time\": 0.007948246002197266, \"std_fit_time\": 0.0010358237407149813, \"mean_score_time\": 0.007812938690185546, \"std_score_time\": 0.0038454446403917153, \"param_kneighborsclassifier__n_neighbors\": 71, \"params\": {\"kneighborsclassifier__n_neighbors\": 71}, \"split0_test_score\": 0.5517241379310345, \"split1_test_score\": 0.5862068965517241, \"split2_test_score\": 0.5517241379310345, \"split3_test_score\": 0.5862068965517241, \"split4_test_score\": 0.6551724137931034, \"split5_test_score\": 0.5517241379310345, \"split6_test_score\": 0.5172413793103449, \"split7_test_score\": 0.6206896551724138, \"split8_test_score\": 0.6206896551724138, \"split9_test_score\": 0.6206896551724138, \"split10_test_score\": 0.5172413793103449, \"split11_test_score\": 0.5862068965517241, \"split12_test_score\": 0.7241379310344828, \"split13_test_score\": 0.6551724137931034, \"split14_test_score\": 0.5862068965517241, \"split15_test_score\": 0.6206896551724138, \"split16_test_score\": 0.4827586206896552, \"split17_test_score\": 0.4827586206896552, \"split18_test_score\": 0.5714285714285714, \"split19_test_score\": 0.6071428571428571, \"split20_test_score\": 0.5714285714285714, \"split21_test_score\": 0.5357142857142857, \"split22_test_score\": 0.5714285714285714, \"split23_test_score\": 0.75, \"split24_test_score\": 0.5357142857142857, \"mean_test_score\": 0.5864039408866996, \"std_test_score\": 0.06349682993640794, \"rank_test_score\": 13}, {\"mean_fit_time\": 0.008599987030029297, \"std_fit_time\": 0.0007992565664857414, \"mean_score_time\": 0.0073688125610351565, \"std_score_time\": 0.0008915427840379523, \"param_kneighborsclassifier__n_neighbors\": 76, \"params\": {\"kneighborsclassifier__n_neighbors\": 76}, \"split0_test_score\": 0.5517241379310345, \"split1_test_score\": 0.5862068965517241, \"split2_test_score\": 0.5862068965517241, \"split3_test_score\": 0.5172413793103449, \"split4_test_score\": 0.6551724137931034, \"split5_test_score\": 0.5517241379310345, \"split6_test_score\": 0.5172413793103449, \"split7_test_score\": 0.6206896551724138, \"split8_test_score\": 0.6206896551724138, \"split9_test_score\": 0.6206896551724138, \"split10_test_score\": 0.5172413793103449, \"split11_test_score\": 0.5862068965517241, \"split12_test_score\": 0.7241379310344828, \"split13_test_score\": 0.6206896551724138, \"split14_test_score\": 0.5862068965517241, \"split15_test_score\": 0.6551724137931034, \"split16_test_score\": 0.4827586206896552, \"split17_test_score\": 0.4827586206896552, \"split18_test_score\": 0.5714285714285714, \"split19_test_score\": 0.6428571428571429, \"split20_test_score\": 0.6071428571428571, \"split21_test_score\": 0.5357142857142857, \"split22_test_score\": 0.6071428571428571, \"split23_test_score\": 0.7142857142857143, \"split24_test_score\": 0.5357142857142857, \"mean_test_score\": 0.5878817733990149, \"std_test_score\": 0.06231564087976016, \"rank_test_score\": 11}, {\"mean_fit_time\": 0.00918807029724121, \"std_fit_time\": 0.0003462315431854019, \"mean_score_time\": 0.008041162490844727, \"std_score_time\": 0.001047183352074845, \"param_kneighborsclassifier__n_neighbors\": 81, \"params\": {\"kneighborsclassifier__n_neighbors\": 81}, \"split0_test_score\": 0.5517241379310345, \"split1_test_score\": 0.5862068965517241, \"split2_test_score\": 0.5517241379310345, \"split3_test_score\": 0.5517241379310345, \"split4_test_score\": 0.6551724137931034, \"split5_test_score\": 0.5172413793103449, \"split6_test_score\": 0.5172413793103449, \"split7_test_score\": 0.6206896551724138, \"split8_test_score\": 0.6551724137931034, \"split9_test_score\": 0.6206896551724138, \"split10_test_score\": 0.5172413793103449, \"split11_test_score\": 0.5862068965517241, \"split12_test_score\": 0.7241379310344828, \"split13_test_score\": 0.5862068965517241, \"split14_test_score\": 0.5862068965517241, \"split15_test_score\": 0.6206896551724138, \"split16_test_score\": 0.4827586206896552, \"split17_test_score\": 0.4827586206896552, \"split18_test_score\": 0.5714285714285714, \"split19_test_score\": 0.6071428571428571, \"split20_test_score\": 0.5714285714285714, \"split21_test_score\": 0.5357142857142857, \"split22_test_score\": 0.6428571428571429, \"split23_test_score\": 0.75, \"split24_test_score\": 0.5357142857142857, \"mean_test_score\": 0.5851231527093597, \"std_test_score\": 0.06552124140535712, \"rank_test_score\": 14}, {\"mean_fit_time\": 0.009114913940429688, \"std_fit_time\": 0.0022572243240898296, \"mean_score_time\": 0.007074918746948242, \"std_score_time\": 0.0007491553518769084, \"param_kneighborsclassifier__n_neighbors\": 86, \"params\": {\"kneighborsclassifier__n_neighbors\": 86}, \"split0_test_score\": 0.6206896551724138, \"split1_test_score\": 0.5862068965517241, \"split2_test_score\": 0.5517241379310345, \"split3_test_score\": 0.5517241379310345, \"split4_test_score\": 0.6551724137931034, \"split5_test_score\": 0.5517241379310345, \"split6_test_score\": 0.5172413793103449, \"split7_test_score\": 0.6206896551724138, \"split8_test_score\": 0.6551724137931034, \"split9_test_score\": 0.6206896551724138, \"split10_test_score\": 0.4827586206896552, \"split11_test_score\": 0.5517241379310345, \"split12_test_score\": 0.7241379310344828, \"split13_test_score\": 0.5517241379310345, \"split14_test_score\": 0.5862068965517241, \"split15_test_score\": 0.6206896551724138, \"split16_test_score\": 0.4827586206896552, \"split17_test_score\": 0.4827586206896552, \"split18_test_score\": 0.5714285714285714, \"split19_test_score\": 0.6428571428571429, \"split20_test_score\": 0.5714285714285714, \"split21_test_score\": 0.5357142857142857, \"split22_test_score\": 0.6428571428571429, \"split23_test_score\": 0.75, \"split24_test_score\": 0.5714285714285714, \"mean_test_score\": 0.5879802955665024, \"std_test_score\": 0.0670738814955449, \"rank_test_score\": 10}, {\"mean_fit_time\": 0.00917367935180664, \"std_fit_time\": 0.0034193008637703457, \"mean_score_time\": 0.007280893325805664, \"std_score_time\": 0.0007440657882800545, \"param_kneighborsclassifier__n_neighbors\": 91, \"params\": {\"kneighborsclassifier__n_neighbors\": 91}, \"split0_test_score\": 0.5862068965517241, \"split1_test_score\": 0.5862068965517241, \"split2_test_score\": 0.5517241379310345, \"split3_test_score\": 0.5517241379310345, \"split4_test_score\": 0.6896551724137931, \"split5_test_score\": 0.5517241379310345, \"split6_test_score\": 0.5172413793103449, \"split7_test_score\": 0.6896551724137931, \"split8_test_score\": 0.6551724137931034, \"split9_test_score\": 0.6551724137931034, \"split10_test_score\": 0.4827586206896552, \"split11_test_score\": 0.5517241379310345, \"split12_test_score\": 0.7241379310344828, \"split13_test_score\": 0.5862068965517241, \"split14_test_score\": 0.5862068965517241, \"split15_test_score\": 0.5862068965517241, \"split16_test_score\": 0.5517241379310345, \"split17_test_score\": 0.4482758620689655, \"split18_test_score\": 0.5714285714285714, \"split19_test_score\": 0.6428571428571429, \"split20_test_score\": 0.5714285714285714, \"split21_test_score\": 0.5357142857142857, \"split22_test_score\": 0.6071428571428571, \"split23_test_score\": 0.7142857142857143, \"split24_test_score\": 0.5714285714285714, \"mean_test_score\": 0.59064039408867, \"std_test_score\": 0.06727069499352262, \"rank_test_score\": 4}, {\"mean_fit_time\": 0.007706766128540039, \"std_fit_time\": 0.0013866542000384751, \"mean_score_time\": 0.006605978012084961, \"std_score_time\": 0.0009103626795084883, \"param_kneighborsclassifier__n_neighbors\": 96, \"params\": {\"kneighborsclassifier__n_neighbors\": 96}, \"split0_test_score\": 0.6206896551724138, \"split1_test_score\": 0.5862068965517241, \"split2_test_score\": 0.5517241379310345, \"split3_test_score\": 0.5517241379310345, \"split4_test_score\": 0.5862068965517241, \"split5_test_score\": 0.5172413793103449, \"split6_test_score\": 0.4827586206896552, \"split7_test_score\": 0.6206896551724138, \"split8_test_score\": 0.6896551724137931, \"split9_test_score\": 0.6206896551724138, \"split10_test_score\": 0.5172413793103449, \"split11_test_score\": 0.5517241379310345, \"split12_test_score\": 0.7241379310344828, \"split13_test_score\": 0.6206896551724138, \"split14_test_score\": 0.5862068965517241, \"split15_test_score\": 0.5517241379310345, \"split16_test_score\": 0.5172413793103449, \"split17_test_score\": 0.4482758620689655, \"split18_test_score\": 0.5714285714285714, \"split19_test_score\": 0.5714285714285714, \"split20_test_score\": 0.5714285714285714, \"split21_test_score\": 0.5357142857142857, \"split22_test_score\": 0.6428571428571429, \"split23_test_score\": 0.6428571428571429, \"split24_test_score\": 0.5714285714285714, \"mean_test_score\": 0.5780788177339901, \"std_test_score\": 0.06047287109132575, \"rank_test_score\": 18}]}}, {\"mode\": \"vega-lite\"});\n",
       "</script>"
      ],
      "text/plain": [
       "alt.Chart(...)"
      ]
     },
     "execution_count": 28,
     "metadata": {},
     "output_type": "execute_result"
    }
   ],
   "source": [
    "accuracy_versus_k_grid = alt.Chart(accuracies_grid).mark_line(point=True).encode(\n",
    "    x=alt.X(\"param_kneighborsclassifier__n_neighbors\")\n",
    "        .title(\"neighbors\")\n",
    "        .scale(zero=False),\n",
    "    y=alt.Y(\"mean_test_score\")\n",
    "        .title(\"Mean test score\")\n",
    "        .scale(zero=False)\n",
    ")\n",
    "accuracy_versus_k_grid"
   ]
  },
  {
   "cell_type": "markdown",
   "metadata": {},
   "source": [
    "### Expected outcomes and significance\n",
    "- *What do you expect to find?* \n",
    "  \n",
    "  People with more loans to be categorized in a ‘lower’ category. People with a bigger income, older credit account  age (more credit history) and fewer delayed payments to be in  a better category. Having a mix of credit types - loans/credit cards/mortgages also results in a better score.\n",
    "  \n",
    "- *What impact could such findings have?*\n",
    "  - Helping banks predict whether it is a good idea to issue a new credit card to a new user\n",
    "  - Can influence an individual’s credit limit/interest rate.\n",
    "  - Studying the relation of individual factors with credit score category classification.\n",
    "  \n",
    "- *What future questions could this lead to?* \n",
    "  \n",
    "  How do we evaluate or categorize a new person who has just started working and does not have a long enough credit history.\n"
   ]
  }
 ],
 "metadata": {
  "kernelspec": {
   "display_name": "Python 3 (ipykernel)",
   "language": "python",
   "name": "python3"
  },
  "language_info": {
   "codemirror_mode": {
    "name": "ipython",
    "version": 3
   },
   "file_extension": ".py",
   "mimetype": "text/x-python",
   "name": "python",
   "nbconvert_exporter": "python",
   "pygments_lexer": "ipython3",
   "version": "3.10.8"
  }
 },
 "nbformat": 4,
 "nbformat_minor": 4
}
