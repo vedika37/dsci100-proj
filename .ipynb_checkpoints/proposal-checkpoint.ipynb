{
 "cells": [
  {
   "cell_type": "markdown",
   "metadata": {},
   "source": [
    "# Group 13 Project Proposal"
   ]
  },
  {
   "cell_type": "code",
   "execution_count": 1,
   "metadata": {
    "tags": []
   },
   "outputs": [
    {
     "name": "stdout",
     "output_type": "stream",
     "text": [
      "Requirement already satisfied: altair in /opt/conda/lib/python3.10/site-packages (5.2.0)\n",
      "Requirement already satisfied: toolz in /opt/conda/lib/python3.10/site-packages (from altair) (0.12.0)\n",
      "Requirement already satisfied: jsonschema>=3.0 in /opt/conda/lib/python3.10/site-packages (from altair) (4.17.3)\n",
      "Requirement already satisfied: typing-extensions>=4.0.1 in /opt/conda/lib/python3.10/site-packages (from altair) (4.4.0)\n",
      "Requirement already satisfied: jinja2 in /opt/conda/lib/python3.10/site-packages (from altair) (3.1.2)\n",
      "Requirement already satisfied: numpy in /opt/conda/lib/python3.10/site-packages (from altair) (1.23.5)\n",
      "Requirement already satisfied: pandas>=0.25 in /opt/conda/lib/python3.10/site-packages (from altair) (1.5.3)\n",
      "Requirement already satisfied: packaging in /opt/conda/lib/python3.10/site-packages (from altair) (23.0)\n",
      "Requirement already satisfied: pyrsistent!=0.17.0,!=0.17.1,!=0.17.2,>=0.14.0 in /opt/conda/lib/python3.10/site-packages (from jsonschema>=3.0->altair) (0.19.3)\n",
      "Requirement already satisfied: attrs>=17.4.0 in /opt/conda/lib/python3.10/site-packages (from jsonschema>=3.0->altair) (22.2.0)\n",
      "Requirement already satisfied: python-dateutil>=2.8.1 in /opt/conda/lib/python3.10/site-packages (from pandas>=0.25->altair) (2.8.2)\n",
      "Requirement already satisfied: pytz>=2020.1 in /opt/conda/lib/python3.10/site-packages (from pandas>=0.25->altair) (2022.7.1)\n",
      "Requirement already satisfied: MarkupSafe>=2.0 in /opt/conda/lib/python3.10/site-packages (from jinja2->altair) (2.1.2)\n",
      "Requirement already satisfied: six>=1.5 in /opt/conda/lib/python3.10/site-packages (from python-dateutil>=2.8.1->pandas>=0.25->altair) (1.16.0)\n",
      "Note: you may need to restart the kernel to use updated packages.\n"
     ]
    }
   ],
   "source": [
    "pip install -U altair"
   ]
  },
  {
   "cell_type": "markdown",
   "metadata": {},
   "source": [
    "\n",
    "**Title: Credit Score Classification**\n",
    "\n",
    "https://www.kaggle.com/datasets/parisrohan/credit-score-classification/data \n",
    "\n",
    "\n",
    "**Introduction:**\n",
    "A credit report is a summary of a person’s credit history and is created when you borrow money or apply for a credit card. A credit score is a 3 digit number calculated based on your credit report that summarizes how well you manage your credit and how risky it would be for someone to lend you money. The higher credit score the better your rating is.\n",
    "\n",
    "\n",
    "A credit score is calculated based on a few different factors such as:\n",
    "- a person's anual income\n",
    "- the number of credit cards they have\n",
    "- the number of loans they have\n",
    "- their credit card payment history\n",
    "- how old their credit is\n",
    "and more\n",
    "\n",
    "\n",
    "\n",
    "\n",
    "**The Question we aim to answer:** Can we classify someone’s credit score based on certain banking history and financial traits (shown above)?\n",
    "\n",
    "**Dataset description:** The dataset contains the bank and credit-related information of many individuals that have been amassed by a global finance company. It contains 27 columns of these information such as bank account history, loans, debt and EMI along with the number of credit cards a person has and their credit card payment history\n"
   ]
  },
  {
   "cell_type": "code",
   "execution_count": 2,
   "metadata": {
    "tags": []
   },
   "outputs": [],
   "source": [
    "import random\n",
    "import altair as alt\n",
    "import pandas as pd\n",
    "import numpy as np\n",
    "from sklearn import set_config\n",
    "from sklearn.compose import make_column_transformer\n",
    "from sklearn.metrics.pairwise import euclidean_distances\n",
    "from sklearn.neighbors import KNeighborsClassifier\n",
    "from sklearn.pipeline import make_pipeline\n",
    "from sklearn.preprocessing import OneHotEncoder, StandardScaler\n",
    "from sklearn.metrics import confusion_matrix\n",
    "from sklearn.model_selection import GridSearchCV, cross_validate\n",
    "\n",
    "np.random.seed(1) # setting the seed"
   ]
  },
  {
   "cell_type": "markdown",
   "metadata": {},
   "source": [
    "### Reading the data from a URL"
   ]
  },
  {
   "cell_type": "code",
   "execution_count": 3,
   "metadata": {
    "tags": []
   },
   "outputs": [],
   "source": [
    "url_credit = \"https://raw.githubusercontent.com/vedika37/dsci100-proj/main/train.csv\"\n",
    "credit = pd.read_csv(url_credit,sep = \",\", low_memory=False)"
   ]
  },
  {
   "cell_type": "markdown",
   "metadata": {},
   "source": [
    "### Cleaning Data "
   ]
  },
  {
   "cell_type": "code",
   "execution_count": 4,
   "metadata": {
    "tags": []
   },
   "outputs": [
    {
     "data": {
      "text/html": [
       "<div>\n",
       "<style scoped>\n",
       "    .dataframe tbody tr th:only-of-type {\n",
       "        vertical-align: middle;\n",
       "    }\n",
       "\n",
       "    .dataframe tbody tr th {\n",
       "        vertical-align: top;\n",
       "    }\n",
       "\n",
       "    .dataframe thead th {\n",
       "        text-align: right;\n",
       "    }\n",
       "</style>\n",
       "<table border=\"1\" class=\"dataframe\">\n",
       "  <thead>\n",
       "    <tr style=\"text-align: right;\">\n",
       "      <th></th>\n",
       "      <th>Delay_from_due_date</th>\n",
       "      <th>Num_of_Delayed_Payment</th>\n",
       "      <th>Credit_Utilization_Ratio</th>\n",
       "      <th>Credit_History_Age</th>\n",
       "      <th>Credit_Score</th>\n",
       "    </tr>\n",
       "  </thead>\n",
       "  <tbody>\n",
       "    <tr>\n",
       "      <th>0</th>\n",
       "      <td>3</td>\n",
       "      <td>7</td>\n",
       "      <td>26.822620</td>\n",
       "      <td>22 Years and 1 Months</td>\n",
       "      <td>Good</td>\n",
       "    </tr>\n",
       "    <tr>\n",
       "      <th>2</th>\n",
       "      <td>3</td>\n",
       "      <td>7</td>\n",
       "      <td>28.609352</td>\n",
       "      <td>22 Years and 3 Months</td>\n",
       "      <td>Good</td>\n",
       "    </tr>\n",
       "    <tr>\n",
       "      <th>3</th>\n",
       "      <td>5</td>\n",
       "      <td>4</td>\n",
       "      <td>31.377862</td>\n",
       "      <td>22 Years and 4 Months</td>\n",
       "      <td>Good</td>\n",
       "    </tr>\n",
       "    <tr>\n",
       "      <th>5</th>\n",
       "      <td>8</td>\n",
       "      <td>4</td>\n",
       "      <td>27.262259</td>\n",
       "      <td>22 Years and 6 Months</td>\n",
       "      <td>Good</td>\n",
       "    </tr>\n",
       "    <tr>\n",
       "      <th>6</th>\n",
       "      <td>3</td>\n",
       "      <td>8_</td>\n",
       "      <td>22.537593</td>\n",
       "      <td>22 Years and 7 Months</td>\n",
       "      <td>Good</td>\n",
       "    </tr>\n",
       "    <tr>\n",
       "      <th>...</th>\n",
       "      <td>...</td>\n",
       "      <td>...</td>\n",
       "      <td>...</td>\n",
       "      <td>...</td>\n",
       "      <td>...</td>\n",
       "    </tr>\n",
       "    <tr>\n",
       "      <th>99994</th>\n",
       "      <td>20</td>\n",
       "      <td>6</td>\n",
       "      <td>39.323569</td>\n",
       "      <td>31 Years and 5 Months</td>\n",
       "      <td>Poor</td>\n",
       "    </tr>\n",
       "    <tr>\n",
       "      <th>99995</th>\n",
       "      <td>23</td>\n",
       "      <td>7</td>\n",
       "      <td>34.663572</td>\n",
       "      <td>31 Years and 6 Months</td>\n",
       "      <td>Poor</td>\n",
       "    </tr>\n",
       "    <tr>\n",
       "      <th>99996</th>\n",
       "      <td>18</td>\n",
       "      <td>7</td>\n",
       "      <td>40.565631</td>\n",
       "      <td>31 Years and 7 Months</td>\n",
       "      <td>Poor</td>\n",
       "    </tr>\n",
       "    <tr>\n",
       "      <th>99997</th>\n",
       "      <td>27</td>\n",
       "      <td>6</td>\n",
       "      <td>41.255522</td>\n",
       "      <td>31 Years and 8 Months</td>\n",
       "      <td>Poor</td>\n",
       "    </tr>\n",
       "    <tr>\n",
       "      <th>99999</th>\n",
       "      <td>18</td>\n",
       "      <td>6</td>\n",
       "      <td>34.192463</td>\n",
       "      <td>31 Years and 10 Months</td>\n",
       "      <td>Poor</td>\n",
       "    </tr>\n",
       "  </tbody>\n",
       "</table>\n",
       "<p>84617 rows × 5 columns</p>\n",
       "</div>"
      ],
      "text/plain": [
       "       Delay_from_due_date Num_of_Delayed_Payment  Credit_Utilization_Ratio  \\\n",
       "0                        3                      7                 26.822620   \n",
       "2                        3                      7                 28.609352   \n",
       "3                        5                      4                 31.377862   \n",
       "5                        8                      4                 27.262259   \n",
       "6                        3                     8_                 22.537593   \n",
       "...                    ...                    ...                       ...   \n",
       "99994                   20                      6                 39.323569   \n",
       "99995                   23                      7                 34.663572   \n",
       "99996                   18                      7                 40.565631   \n",
       "99997                   27                      6                 41.255522   \n",
       "99999                   18                      6                 34.192463   \n",
       "\n",
       "           Credit_History_Age Credit_Score  \n",
       "0       22 Years and 1 Months         Good  \n",
       "2       22 Years and 3 Months         Good  \n",
       "3       22 Years and 4 Months         Good  \n",
       "5       22 Years and 6 Months         Good  \n",
       "6       22 Years and 7 Months         Good  \n",
       "...                       ...          ...  \n",
       "99994   31 Years and 5 Months         Poor  \n",
       "99995   31 Years and 6 Months         Poor  \n",
       "99996   31 Years and 7 Months         Poor  \n",
       "99997   31 Years and 8 Months         Poor  \n",
       "99999  31 Years and 10 Months         Poor  \n",
       "\n",
       "[84617 rows x 5 columns]"
      ]
     },
     "execution_count": 4,
     "metadata": {},
     "output_type": "execute_result"
    }
   ],
   "source": [
    "# dropping null values and columns not used in analysis\n",
    "\n",
    "# Predictors:\n",
    "\n",
    "# - number of delayed payments \n",
    "# - delay from due date \n",
    "# - Credit_Utilization_Ratio\n",
    "# - credit history age\n",
    "\n",
    "\n",
    "\n",
    "credit = credit[['Delay_from_due_date', 'Num_of_Delayed_Payment', 'Credit_Utilization_Ratio','Credit_History_Age','Credit_Score']]\n",
    "credit = credit.dropna()\n",
    "credit"
   ]
  },
  {
   "cell_type": "code",
   "execution_count": 5,
   "metadata": {
    "tags": []
   },
   "outputs": [
    {
     "data": {
      "text/plain": [
       "array(['Good', 'Standard', 'Poor'], dtype=object)"
      ]
     },
     "execution_count": 5,
     "metadata": {},
     "output_type": "execute_result"
    }
   ],
   "source": [
    "credit[\"Credit_Score\"].unique()"
   ]
  },
  {
   "cell_type": "code",
   "execution_count": 6,
   "metadata": {
    "tags": []
   },
   "outputs": [
    {
     "data": {
      "text/html": [
       "<div>\n",
       "<style scoped>\n",
       "    .dataframe tbody tr th:only-of-type {\n",
       "        vertical-align: middle;\n",
       "    }\n",
       "\n",
       "    .dataframe tbody tr th {\n",
       "        vertical-align: top;\n",
       "    }\n",
       "\n",
       "    .dataframe thead th {\n",
       "        text-align: right;\n",
       "    }\n",
       "</style>\n",
       "<table border=\"1\" class=\"dataframe\">\n",
       "  <thead>\n",
       "    <tr style=\"text-align: right;\">\n",
       "      <th></th>\n",
       "      <th>Delay_from_due_date</th>\n",
       "      <th>Num_of_Delayed_Payment</th>\n",
       "      <th>Credit_Utilization_Ratio</th>\n",
       "      <th>Credit_History_Age</th>\n",
       "      <th>Credit_Score</th>\n",
       "    </tr>\n",
       "  </thead>\n",
       "  <tbody>\n",
       "    <tr>\n",
       "      <th>0</th>\n",
       "      <td>3</td>\n",
       "      <td>7</td>\n",
       "      <td>26.822620</td>\n",
       "      <td>22 Years and 1 Months</td>\n",
       "      <td>Good</td>\n",
       "    </tr>\n",
       "    <tr>\n",
       "      <th>2</th>\n",
       "      <td>3</td>\n",
       "      <td>7</td>\n",
       "      <td>28.609352</td>\n",
       "      <td>22 Years and 3 Months</td>\n",
       "      <td>Good</td>\n",
       "    </tr>\n",
       "    <tr>\n",
       "      <th>3</th>\n",
       "      <td>5</td>\n",
       "      <td>4</td>\n",
       "      <td>31.377862</td>\n",
       "      <td>22 Years and 4 Months</td>\n",
       "      <td>Good</td>\n",
       "    </tr>\n",
       "    <tr>\n",
       "      <th>5</th>\n",
       "      <td>8</td>\n",
       "      <td>4</td>\n",
       "      <td>27.262259</td>\n",
       "      <td>22 Years and 6 Months</td>\n",
       "      <td>Good</td>\n",
       "    </tr>\n",
       "    <tr>\n",
       "      <th>8</th>\n",
       "      <td>3</td>\n",
       "      <td>4</td>\n",
       "      <td>24.464031</td>\n",
       "      <td>26 Years and 7 Months</td>\n",
       "      <td>Standard</td>\n",
       "    </tr>\n",
       "    <tr>\n",
       "      <th>...</th>\n",
       "      <td>...</td>\n",
       "      <td>...</td>\n",
       "      <td>...</td>\n",
       "      <td>...</td>\n",
       "      <td>...</td>\n",
       "    </tr>\n",
       "    <tr>\n",
       "      <th>99994</th>\n",
       "      <td>20</td>\n",
       "      <td>6</td>\n",
       "      <td>39.323569</td>\n",
       "      <td>31 Years and 5 Months</td>\n",
       "      <td>Poor</td>\n",
       "    </tr>\n",
       "    <tr>\n",
       "      <th>99995</th>\n",
       "      <td>23</td>\n",
       "      <td>7</td>\n",
       "      <td>34.663572</td>\n",
       "      <td>31 Years and 6 Months</td>\n",
       "      <td>Poor</td>\n",
       "    </tr>\n",
       "    <tr>\n",
       "      <th>99996</th>\n",
       "      <td>18</td>\n",
       "      <td>7</td>\n",
       "      <td>40.565631</td>\n",
       "      <td>31 Years and 7 Months</td>\n",
       "      <td>Poor</td>\n",
       "    </tr>\n",
       "    <tr>\n",
       "      <th>99997</th>\n",
       "      <td>27</td>\n",
       "      <td>6</td>\n",
       "      <td>41.255522</td>\n",
       "      <td>31 Years and 8 Months</td>\n",
       "      <td>Poor</td>\n",
       "    </tr>\n",
       "    <tr>\n",
       "      <th>99999</th>\n",
       "      <td>18</td>\n",
       "      <td>6</td>\n",
       "      <td>34.192463</td>\n",
       "      <td>31 Years and 10 Months</td>\n",
       "      <td>Poor</td>\n",
       "    </tr>\n",
       "  </tbody>\n",
       "</table>\n",
       "<p>81549 rows × 5 columns</p>\n",
       "</div>"
      ],
      "text/plain": [
       "       Delay_from_due_date Num_of_Delayed_Payment  Credit_Utilization_Ratio  \\\n",
       "0                        3                      7                 26.822620   \n",
       "2                        3                      7                 28.609352   \n",
       "3                        5                      4                 31.377862   \n",
       "5                        8                      4                 27.262259   \n",
       "8                        3                      4                 24.464031   \n",
       "...                    ...                    ...                       ...   \n",
       "99994                   20                      6                 39.323569   \n",
       "99995                   23                      7                 34.663572   \n",
       "99996                   18                      7                 40.565631   \n",
       "99997                   27                      6                 41.255522   \n",
       "99999                   18                      6                 34.192463   \n",
       "\n",
       "           Credit_History_Age Credit_Score  \n",
       "0       22 Years and 1 Months         Good  \n",
       "2       22 Years and 3 Months         Good  \n",
       "3       22 Years and 4 Months         Good  \n",
       "5       22 Years and 6 Months         Good  \n",
       "8       26 Years and 7 Months     Standard  \n",
       "...                       ...          ...  \n",
       "99994   31 Years and 5 Months         Poor  \n",
       "99995   31 Years and 6 Months         Poor  \n",
       "99996   31 Years and 7 Months         Poor  \n",
       "99997   31 Years and 8 Months         Poor  \n",
       "99999  31 Years and 10 Months         Poor  \n",
       "\n",
       "[81549 rows x 5 columns]"
      ]
     },
     "execution_count": 6,
     "metadata": {},
     "output_type": "execute_result"
    }
   ],
   "source": [
    "credit = credit[credit['Num_of_Delayed_Payment'].str.isdigit()]\n",
    "credit"
   ]
  },
  {
   "cell_type": "code",
   "execution_count": 7,
   "metadata": {
    "tags": []
   },
   "outputs": [
    {
     "data": {
      "text/html": [
       "<div>\n",
       "<style scoped>\n",
       "    .dataframe tbody tr th:only-of-type {\n",
       "        vertical-align: middle;\n",
       "    }\n",
       "\n",
       "    .dataframe tbody tr th {\n",
       "        vertical-align: top;\n",
       "    }\n",
       "\n",
       "    .dataframe thead th {\n",
       "        text-align: right;\n",
       "    }\n",
       "</style>\n",
       "<table border=\"1\" class=\"dataframe\">\n",
       "  <thead>\n",
       "    <tr style=\"text-align: right;\">\n",
       "      <th></th>\n",
       "      <th>Delay_from_due_date</th>\n",
       "      <th>Num_of_Delayed_Payment</th>\n",
       "      <th>Credit_Utilization_Ratio</th>\n",
       "      <th>Credit_History_Age</th>\n",
       "      <th>Credit_Score</th>\n",
       "    </tr>\n",
       "  </thead>\n",
       "  <tbody>\n",
       "    <tr>\n",
       "      <th>0</th>\n",
       "      <td>3</td>\n",
       "      <td>7</td>\n",
       "      <td>26.822620</td>\n",
       "      <td>22 Years and 1 Months</td>\n",
       "      <td>Good</td>\n",
       "    </tr>\n",
       "    <tr>\n",
       "      <th>2</th>\n",
       "      <td>3</td>\n",
       "      <td>7</td>\n",
       "      <td>28.609352</td>\n",
       "      <td>22 Years and 3 Months</td>\n",
       "      <td>Good</td>\n",
       "    </tr>\n",
       "    <tr>\n",
       "      <th>3</th>\n",
       "      <td>5</td>\n",
       "      <td>4</td>\n",
       "      <td>31.377862</td>\n",
       "      <td>22 Years and 4 Months</td>\n",
       "      <td>Good</td>\n",
       "    </tr>\n",
       "    <tr>\n",
       "      <th>5</th>\n",
       "      <td>8</td>\n",
       "      <td>4</td>\n",
       "      <td>27.262259</td>\n",
       "      <td>22 Years and 6 Months</td>\n",
       "      <td>Good</td>\n",
       "    </tr>\n",
       "    <tr>\n",
       "      <th>8</th>\n",
       "      <td>3</td>\n",
       "      <td>4</td>\n",
       "      <td>24.464031</td>\n",
       "      <td>26 Years and 7 Months</td>\n",
       "      <td>Standard</td>\n",
       "    </tr>\n",
       "    <tr>\n",
       "      <th>...</th>\n",
       "      <td>...</td>\n",
       "      <td>...</td>\n",
       "      <td>...</td>\n",
       "      <td>...</td>\n",
       "      <td>...</td>\n",
       "    </tr>\n",
       "    <tr>\n",
       "      <th>99994</th>\n",
       "      <td>20</td>\n",
       "      <td>6</td>\n",
       "      <td>39.323569</td>\n",
       "      <td>31 Years and 5 Months</td>\n",
       "      <td>Poor</td>\n",
       "    </tr>\n",
       "    <tr>\n",
       "      <th>99995</th>\n",
       "      <td>23</td>\n",
       "      <td>7</td>\n",
       "      <td>34.663572</td>\n",
       "      <td>31 Years and 6 Months</td>\n",
       "      <td>Poor</td>\n",
       "    </tr>\n",
       "    <tr>\n",
       "      <th>99996</th>\n",
       "      <td>18</td>\n",
       "      <td>7</td>\n",
       "      <td>40.565631</td>\n",
       "      <td>31 Years and 7 Months</td>\n",
       "      <td>Poor</td>\n",
       "    </tr>\n",
       "    <tr>\n",
       "      <th>99997</th>\n",
       "      <td>27</td>\n",
       "      <td>6</td>\n",
       "      <td>41.255522</td>\n",
       "      <td>31 Years and 8 Months</td>\n",
       "      <td>Poor</td>\n",
       "    </tr>\n",
       "    <tr>\n",
       "      <th>99999</th>\n",
       "      <td>18</td>\n",
       "      <td>6</td>\n",
       "      <td>34.192463</td>\n",
       "      <td>31 Years and 10 Months</td>\n",
       "      <td>Poor</td>\n",
       "    </tr>\n",
       "  </tbody>\n",
       "</table>\n",
       "<p>81549 rows × 5 columns</p>\n",
       "</div>"
      ],
      "text/plain": [
       "       Delay_from_due_date  Num_of_Delayed_Payment  Credit_Utilization_Ratio  \\\n",
       "0                        3                       7                 26.822620   \n",
       "2                        3                       7                 28.609352   \n",
       "3                        5                       4                 31.377862   \n",
       "5                        8                       4                 27.262259   \n",
       "8                        3                       4                 24.464031   \n",
       "...                    ...                     ...                       ...   \n",
       "99994                   20                       6                 39.323569   \n",
       "99995                   23                       7                 34.663572   \n",
       "99996                   18                       7                 40.565631   \n",
       "99997                   27                       6                 41.255522   \n",
       "99999                   18                       6                 34.192463   \n",
       "\n",
       "           Credit_History_Age Credit_Score  \n",
       "0       22 Years and 1 Months         Good  \n",
       "2       22 Years and 3 Months         Good  \n",
       "3       22 Years and 4 Months         Good  \n",
       "5       22 Years and 6 Months         Good  \n",
       "8       26 Years and 7 Months     Standard  \n",
       "...                       ...          ...  \n",
       "99994   31 Years and 5 Months         Poor  \n",
       "99995   31 Years and 6 Months         Poor  \n",
       "99996   31 Years and 7 Months         Poor  \n",
       "99997   31 Years and 8 Months         Poor  \n",
       "99999  31 Years and 10 Months         Poor  \n",
       "\n",
       "[81549 rows x 5 columns]"
      ]
     },
     "execution_count": 7,
     "metadata": {},
     "output_type": "execute_result"
    }
   ],
   "source": [
    "credit= credit.astype({'Num_of_Delayed_Payment': int})\n",
    "credit\n"
   ]
  },
  {
   "cell_type": "code",
   "execution_count": 8,
   "metadata": {
    "tags": []
   },
   "outputs": [
    {
     "data": {
      "text/html": [
       "<div>\n",
       "<style scoped>\n",
       "    .dataframe tbody tr th:only-of-type {\n",
       "        vertical-align: middle;\n",
       "    }\n",
       "\n",
       "    .dataframe tbody tr th {\n",
       "        vertical-align: top;\n",
       "    }\n",
       "\n",
       "    .dataframe thead th {\n",
       "        text-align: right;\n",
       "    }\n",
       "</style>\n",
       "<table border=\"1\" class=\"dataframe\">\n",
       "  <thead>\n",
       "    <tr style=\"text-align: right;\">\n",
       "      <th></th>\n",
       "      <th>Delay_from_due_date</th>\n",
       "      <th>Num_of_Delayed_Payment</th>\n",
       "      <th>Credit_Utilization_Ratio</th>\n",
       "      <th>Credit_History_Age</th>\n",
       "      <th>Credit_Score</th>\n",
       "    </tr>\n",
       "  </thead>\n",
       "  <tbody>\n",
       "    <tr>\n",
       "      <th>0</th>\n",
       "      <td>3</td>\n",
       "      <td>7</td>\n",
       "      <td>26.822620</td>\n",
       "      <td>22</td>\n",
       "      <td>Good</td>\n",
       "    </tr>\n",
       "    <tr>\n",
       "      <th>2</th>\n",
       "      <td>3</td>\n",
       "      <td>7</td>\n",
       "      <td>28.609352</td>\n",
       "      <td>22</td>\n",
       "      <td>Good</td>\n",
       "    </tr>\n",
       "    <tr>\n",
       "      <th>3</th>\n",
       "      <td>5</td>\n",
       "      <td>4</td>\n",
       "      <td>31.377862</td>\n",
       "      <td>22</td>\n",
       "      <td>Good</td>\n",
       "    </tr>\n",
       "    <tr>\n",
       "      <th>5</th>\n",
       "      <td>8</td>\n",
       "      <td>4</td>\n",
       "      <td>27.262259</td>\n",
       "      <td>22</td>\n",
       "      <td>Good</td>\n",
       "    </tr>\n",
       "    <tr>\n",
       "      <th>8</th>\n",
       "      <td>3</td>\n",
       "      <td>4</td>\n",
       "      <td>24.464031</td>\n",
       "      <td>26</td>\n",
       "      <td>Standard</td>\n",
       "    </tr>\n",
       "    <tr>\n",
       "      <th>...</th>\n",
       "      <td>...</td>\n",
       "      <td>...</td>\n",
       "      <td>...</td>\n",
       "      <td>...</td>\n",
       "      <td>...</td>\n",
       "    </tr>\n",
       "    <tr>\n",
       "      <th>99994</th>\n",
       "      <td>20</td>\n",
       "      <td>6</td>\n",
       "      <td>39.323569</td>\n",
       "      <td>31</td>\n",
       "      <td>Poor</td>\n",
       "    </tr>\n",
       "    <tr>\n",
       "      <th>99995</th>\n",
       "      <td>23</td>\n",
       "      <td>7</td>\n",
       "      <td>34.663572</td>\n",
       "      <td>31</td>\n",
       "      <td>Poor</td>\n",
       "    </tr>\n",
       "    <tr>\n",
       "      <th>99996</th>\n",
       "      <td>18</td>\n",
       "      <td>7</td>\n",
       "      <td>40.565631</td>\n",
       "      <td>31</td>\n",
       "      <td>Poor</td>\n",
       "    </tr>\n",
       "    <tr>\n",
       "      <th>99997</th>\n",
       "      <td>27</td>\n",
       "      <td>6</td>\n",
       "      <td>41.255522</td>\n",
       "      <td>31</td>\n",
       "      <td>Poor</td>\n",
       "    </tr>\n",
       "    <tr>\n",
       "      <th>99999</th>\n",
       "      <td>18</td>\n",
       "      <td>6</td>\n",
       "      <td>34.192463</td>\n",
       "      <td>31</td>\n",
       "      <td>Poor</td>\n",
       "    </tr>\n",
       "  </tbody>\n",
       "</table>\n",
       "<p>81549 rows × 5 columns</p>\n",
       "</div>"
      ],
      "text/plain": [
       "       Delay_from_due_date  Num_of_Delayed_Payment  Credit_Utilization_Ratio  \\\n",
       "0                        3                       7                 26.822620   \n",
       "2                        3                       7                 28.609352   \n",
       "3                        5                       4                 31.377862   \n",
       "5                        8                       4                 27.262259   \n",
       "8                        3                       4                 24.464031   \n",
       "...                    ...                     ...                       ...   \n",
       "99994                   20                       6                 39.323569   \n",
       "99995                   23                       7                 34.663572   \n",
       "99996                   18                       7                 40.565631   \n",
       "99997                   27                       6                 41.255522   \n",
       "99999                   18                       6                 34.192463   \n",
       "\n",
       "      Credit_History_Age Credit_Score  \n",
       "0                     22         Good  \n",
       "2                     22         Good  \n",
       "3                     22         Good  \n",
       "5                     22         Good  \n",
       "8                     26     Standard  \n",
       "...                  ...          ...  \n",
       "99994                 31         Poor  \n",
       "99995                 31         Poor  \n",
       "99996                 31         Poor  \n",
       "99997                 31         Poor  \n",
       "99999                 31         Poor  \n",
       "\n",
       "[81549 rows x 5 columns]"
      ]
     },
     "execution_count": 8,
     "metadata": {},
     "output_type": "execute_result"
    }
   ],
   "source": [
    "credit['Credit_History_Age'] = credit['Credit_History_Age'].str.split(\" \").str[0]\n",
    "credit"
   ]
  },
  {
   "cell_type": "code",
   "execution_count": 9,
   "metadata": {
    "tags": []
   },
   "outputs": [
    {
     "data": {
      "text/plain": [
       "Delay_from_due_date           int64\n",
       "Num_of_Delayed_Payment        int64\n",
       "Credit_Utilization_Ratio    float64\n",
       "Credit_History_Age            int64\n",
       "Credit_Score                 object\n",
       "dtype: object"
      ]
     },
     "execution_count": 9,
     "metadata": {},
     "output_type": "execute_result"
    }
   ],
   "source": [
    "credit = credit.astype({'Credit_History_Age': int})\n",
    "credit.dtypes"
   ]
  },
  {
   "cell_type": "markdown",
   "metadata": {},
   "source": [
    "### Summarizing Data"
   ]
  },
  {
   "cell_type": "code",
   "execution_count": 10,
   "metadata": {
    "tags": []
   },
   "outputs": [
    {
     "data": {
      "text/plain": [
       "Delay_from_due_date           int64\n",
       "Num_of_Delayed_Payment        int64\n",
       "Credit_Utilization_Ratio    float64\n",
       "Credit_History_Age            int64\n",
       "Credit_Score                 object\n",
       "dtype: object"
      ]
     },
     "execution_count": 10,
     "metadata": {},
     "output_type": "execute_result"
    }
   ],
   "source": [
    "# each column along with its datatype\n",
    "credit.dtypes"
   ]
  },
  {
   "cell_type": "code",
   "execution_count": 11,
   "metadata": {
    "tags": []
   },
   "outputs": [
    {
     "name": "stdout",
     "output_type": "stream",
     "text": [
      "<class 'pandas.core.frame.DataFrame'>\n",
      "Int64Index: 81549 entries, 0 to 99999\n",
      "Data columns (total 5 columns):\n",
      " #   Column                    Non-Null Count  Dtype  \n",
      "---  ------                    --------------  -----  \n",
      " 0   Delay_from_due_date       81549 non-null  int64  \n",
      " 1   Num_of_Delayed_Payment    81549 non-null  int64  \n",
      " 2   Credit_Utilization_Ratio  81549 non-null  float64\n",
      " 3   Credit_History_Age        81549 non-null  int64  \n",
      " 4   Credit_Score              81549 non-null  object \n",
      "dtypes: float64(1), int64(3), object(1)\n",
      "memory usage: 3.7+ MB\n"
     ]
    }
   ],
   "source": [
    "credit.info()"
   ]
  },
  {
   "cell_type": "code",
   "execution_count": 12,
   "metadata": {
    "tags": []
   },
   "outputs": [
    {
     "data": {
      "text/html": [
       "<div>\n",
       "<style scoped>\n",
       "    .dataframe tbody tr th:only-of-type {\n",
       "        vertical-align: middle;\n",
       "    }\n",
       "\n",
       "    .dataframe tbody tr th {\n",
       "        vertical-align: top;\n",
       "    }\n",
       "\n",
       "    .dataframe thead th {\n",
       "        text-align: right;\n",
       "    }\n",
       "</style>\n",
       "<table border=\"1\" class=\"dataframe\">\n",
       "  <thead>\n",
       "    <tr style=\"text-align: right;\">\n",
       "      <th></th>\n",
       "      <th>Delay_from_due_date</th>\n",
       "      <th>Num_of_Delayed_Payment</th>\n",
       "      <th>Credit_Utilization_Ratio</th>\n",
       "      <th>Credit_History_Age</th>\n",
       "    </tr>\n",
       "  </thead>\n",
       "  <tbody>\n",
       "    <tr>\n",
       "      <th>count</th>\n",
       "      <td>81549.000000</td>\n",
       "      <td>81549.000000</td>\n",
       "      <td>81549.000000</td>\n",
       "      <td>81549.000000</td>\n",
       "    </tr>\n",
       "    <tr>\n",
       "      <th>mean</th>\n",
       "      <td>21.180162</td>\n",
       "      <td>31.155796</td>\n",
       "      <td>32.297847</td>\n",
       "      <td>17.919815</td>\n",
       "    </tr>\n",
       "    <tr>\n",
       "      <th>std</th>\n",
       "      <td>14.883628</td>\n",
       "      <td>226.908684</td>\n",
       "      <td>5.115680</td>\n",
       "      <td>8.321895</td>\n",
       "    </tr>\n",
       "    <tr>\n",
       "      <th>min</th>\n",
       "      <td>-5.000000</td>\n",
       "      <td>0.000000</td>\n",
       "      <td>20.172942</td>\n",
       "      <td>0.000000</td>\n",
       "    </tr>\n",
       "    <tr>\n",
       "      <th>25%</th>\n",
       "      <td>10.000000</td>\n",
       "      <td>9.000000</td>\n",
       "      <td>28.072546</td>\n",
       "      <td>12.000000</td>\n",
       "    </tr>\n",
       "    <tr>\n",
       "      <th>50%</th>\n",
       "      <td>18.000000</td>\n",
       "      <td>14.000000</td>\n",
       "      <td>32.326517</td>\n",
       "      <td>18.000000</td>\n",
       "    </tr>\n",
       "    <tr>\n",
       "      <th>75%</th>\n",
       "      <td>28.000000</td>\n",
       "      <td>18.000000</td>\n",
       "      <td>36.505576</td>\n",
       "      <td>25.000000</td>\n",
       "    </tr>\n",
       "    <tr>\n",
       "      <th>max</th>\n",
       "      <td>67.000000</td>\n",
       "      <td>4397.000000</td>\n",
       "      <td>50.000000</td>\n",
       "      <td>33.000000</td>\n",
       "    </tr>\n",
       "  </tbody>\n",
       "</table>\n",
       "</div>"
      ],
      "text/plain": [
       "       Delay_from_due_date  Num_of_Delayed_Payment  Credit_Utilization_Ratio  \\\n",
       "count         81549.000000            81549.000000              81549.000000   \n",
       "mean             21.180162               31.155796                 32.297847   \n",
       "std              14.883628              226.908684                  5.115680   \n",
       "min              -5.000000                0.000000                 20.172942   \n",
       "25%              10.000000                9.000000                 28.072546   \n",
       "50%              18.000000               14.000000                 32.326517   \n",
       "75%              28.000000               18.000000                 36.505576   \n",
       "max              67.000000             4397.000000                 50.000000   \n",
       "\n",
       "       Credit_History_Age  \n",
       "count        81549.000000  \n",
       "mean            17.919815  \n",
       "std              8.321895  \n",
       "min              0.000000  \n",
       "25%             12.000000  \n",
       "50%             18.000000  \n",
       "75%             25.000000  \n",
       "max             33.000000  "
      ]
     },
     "execution_count": 12,
     "metadata": {},
     "output_type": "execute_result"
    }
   ],
   "source": [
    "# generating descriptive statistics for numeric and 'object' type columns\n",
    "credit.describe()"
   ]
  },
  {
   "cell_type": "markdown",
   "metadata": {},
   "source": [
    "### Taking a Random Sample\n",
    "Since our current dataset has 81549 values, it is too  large to perform "
   ]
  },
  {
   "cell_type": "code",
   "execution_count": 13,
   "metadata": {
    "tags": []
   },
   "outputs": [
    {
     "data": {
      "text/plain": [
       "Standard    0.532318\n",
       "Poor        0.292058\n",
       "Good        0.175624\n",
       "Name: Credit_Score, dtype: float64"
      ]
     },
     "execution_count": 13,
     "metadata": {},
     "output_type": "execute_result"
    }
   ],
   "source": [
    "credit['Credit_Score'].value_counts(normalize=True)"
   ]
  },
  {
   "cell_type": "code",
   "execution_count": 14,
   "metadata": {
    "tags": []
   },
   "outputs": [
    {
     "data": {
      "text/plain": [
       "Standard    0.526\n",
       "Poor        0.293\n",
       "Good        0.181\n",
       "Name: Credit_Score, dtype: float64"
      ]
     },
     "execution_count": 14,
     "metadata": {},
     "output_type": "execute_result"
    }
   ],
   "source": [
    "credit_sample = credit.sample(n = 1000)\n",
    "credit_sample['Credit_Score'].value_counts(normalize=True)"
   ]
  },
  {
   "cell_type": "markdown",
   "metadata": {},
   "source": [
    "TODO: acknowledge limitations with taking a sample and how representative it is of the data"
   ]
  },
  {
   "cell_type": "markdown",
   "metadata": {},
   "source": [
    "### Train - Test Split "
   ]
  },
  {
   "cell_type": "code",
   "execution_count": 15,
   "metadata": {
    "tags": []
   },
   "outputs": [
    {
     "name": "stdout",
     "output_type": "stream",
     "text": [
      "<class 'pandas.core.frame.DataFrame'>\n",
      "Int64Index: 750 entries, 6130 to 49660\n",
      "Data columns (total 5 columns):\n",
      " #   Column                    Non-Null Count  Dtype  \n",
      "---  ------                    --------------  -----  \n",
      " 0   Delay_from_due_date       750 non-null    int64  \n",
      " 1   Num_of_Delayed_Payment    750 non-null    int64  \n",
      " 2   Credit_Utilization_Ratio  750 non-null    float64\n",
      " 3   Credit_History_Age        750 non-null    int64  \n",
      " 4   Credit_Score              750 non-null    object \n",
      "dtypes: float64(1), int64(3), object(1)\n",
      "memory usage: 35.2+ KB\n",
      "None\n",
      "<class 'pandas.core.frame.DataFrame'>\n",
      "Int64Index: 250 entries, 20161 to 37916\n",
      "Data columns (total 5 columns):\n",
      " #   Column                    Non-Null Count  Dtype  \n",
      "---  ------                    --------------  -----  \n",
      " 0   Delay_from_due_date       250 non-null    int64  \n",
      " 1   Num_of_Delayed_Payment    250 non-null    int64  \n",
      " 2   Credit_Utilization_Ratio  250 non-null    float64\n",
      " 3   Credit_History_Age        250 non-null    int64  \n",
      " 4   Credit_Score              250 non-null    object \n",
      "dtypes: float64(1), int64(3), object(1)\n",
      "memory usage: 11.7+ KB\n",
      "None\n"
     ]
    }
   ],
   "source": [
    "from sklearn.model_selection import train_test_split\n",
    "\n",
    "train, test = train_test_split(\n",
    "    credit_sample, train_size=0.75, stratify=credit_sample[\"Credit_Score\"]\n",
    ")\n",
    "print(train.info())\n",
    "print(test.info())"
   ]
  },
  {
   "cell_type": "code",
   "execution_count": 16,
   "metadata": {
    "tags": []
   },
   "outputs": [
    {
     "name": "stdout",
     "output_type": "stream",
     "text": [
      "Value counts for training data\n",
      " Standard    0.525333\n",
      "Poor        0.293333\n",
      "Good        0.181333\n",
      "Name: Credit_Score, dtype: float64\n",
      "\n",
      "Value counts for testing data\n",
      " Standard    0.528\n",
      "Poor        0.292\n",
      "Good        0.180\n",
      "Name: Credit_Score, dtype: float64\n"
     ]
    }
   ],
   "source": [
    "print(\"Value counts for training data\\n\",train[\"Credit_Score\"].value_counts(normalize=True))\n",
    "print(\"\\nValue counts for testing data\\n\",test[\"Credit_Score\"].value_counts(normalize=True))"
   ]
  },
  {
   "cell_type": "markdown",
   "metadata": {},
   "source": [
    "### Visualizing Data - Distribution of Predictor Variables"
   ]
  },
  {
   "cell_type": "code",
   "execution_count": 17,
   "metadata": {
    "tags": []
   },
   "outputs": [
    {
     "data": {
      "text/html": [
       "\n",
       "<style>\n",
       "  #altair-viz-bdc446b804694e8099415f35dcfcbf3a.vega-embed {\n",
       "    width: 100%;\n",
       "    display: flex;\n",
       "  }\n",
       "\n",
       "  #altair-viz-bdc446b804694e8099415f35dcfcbf3a.vega-embed details,\n",
       "  #altair-viz-bdc446b804694e8099415f35dcfcbf3a.vega-embed details summary {\n",
       "    position: relative;\n",
       "  }\n",
       "</style>\n",
       "<div id=\"altair-viz-bdc446b804694e8099415f35dcfcbf3a\"></div>\n",
       "<script type=\"text/javascript\">\n",
       "  var VEGA_DEBUG = (typeof VEGA_DEBUG == \"undefined\") ? {} : VEGA_DEBUG;\n",
       "  (function(spec, embedOpt){\n",
       "    let outputDiv = document.currentScript.previousElementSibling;\n",
       "    if (outputDiv.id !== \"altair-viz-bdc446b804694e8099415f35dcfcbf3a\") {\n",
       "      outputDiv = document.getElementById(\"altair-viz-bdc446b804694e8099415f35dcfcbf3a\");\n",
       "    }\n",
       "    const paths = {\n",
       "      \"vega\": \"https://cdn.jsdelivr.net/npm/vega@5?noext\",\n",
       "      \"vega-lib\": \"https://cdn.jsdelivr.net/npm/vega-lib?noext\",\n",
       "      \"vega-lite\": \"https://cdn.jsdelivr.net/npm/vega-lite@5.16.3?noext\",\n",
       "      \"vega-embed\": \"https://cdn.jsdelivr.net/npm/vega-embed@6?noext\",\n",
       "    };\n",
       "\n",
       "    function maybeLoadScript(lib, version) {\n",
       "      var key = `${lib.replace(\"-\", \"\")}_version`;\n",
       "      return (VEGA_DEBUG[key] == version) ?\n",
       "        Promise.resolve(paths[lib]) :\n",
       "        new Promise(function(resolve, reject) {\n",
       "          var s = document.createElement('script');\n",
       "          document.getElementsByTagName(\"head\")[0].appendChild(s);\n",
       "          s.async = true;\n",
       "          s.onload = () => {\n",
       "            VEGA_DEBUG[key] = version;\n",
       "            return resolve(paths[lib]);\n",
       "          };\n",
       "          s.onerror = () => reject(`Error loading script: ${paths[lib]}`);\n",
       "          s.src = paths[lib];\n",
       "        });\n",
       "    }\n",
       "\n",
       "    function showError(err) {\n",
       "      outputDiv.innerHTML = `<div class=\"error\" style=\"color:red;\">${err}</div>`;\n",
       "      throw err;\n",
       "    }\n",
       "\n",
       "    function displayChart(vegaEmbed) {\n",
       "      vegaEmbed(outputDiv, spec, embedOpt)\n",
       "        .catch(err => showError(`Javascript Error: ${err.message}<br>This usually means there's a typo in your chart specification. See the javascript console for the full traceback.`));\n",
       "    }\n",
       "\n",
       "    if(typeof define === \"function\" && define.amd) {\n",
       "      requirejs.config({paths});\n",
       "      require([\"vega-embed\"], displayChart, err => showError(`Error loading script: ${err.message}`));\n",
       "    } else {\n",
       "      maybeLoadScript(\"vega\", \"5\")\n",
       "        .then(() => maybeLoadScript(\"vega-lite\", \"5.16.3\"))\n",
       "        .then(() => maybeLoadScript(\"vega-embed\", \"6\"))\n",
       "        .catch(showError)\n",
       "        .then(() => displayChart(vegaEmbed));\n",
       "    }\n",
       "  })({\"config\": {\"view\": {\"continuousWidth\": 300, \"continuousHeight\": 300}}, \"repeat\": {\"column\": [\"Delay_from_due_date\", \"Num_of_Delayed_Payment\", \"Credit_Utilization_Ratio\", \"Credit_History_Age\"], \"row\": [\"Delay_from_due_date\", \"Num_of_Delayed_Payment\", \"Credit_Utilization_Ratio\", \"Credit_History_Age\"]}, \"spec\": {\"data\": {\"name\": \"data-ec121fa4a2c077ce511e0449b7b1233f\"}, \"mark\": {\"type\": \"point\", \"opacity\": 0.4}, \"encoding\": {\"color\": {\"field\": \"Credit_Score\", \"title\": \"Credit_Score\", \"type\": \"nominal\"}, \"x\": {\"field\": {\"repeat\": \"row\"}, \"type\": \"quantitative\"}, \"y\": {\"field\": {\"repeat\": \"column\"}, \"type\": \"quantitative\"}}, \"height\": 200, \"width\": 200}, \"$schema\": \"https://vega.github.io/schema/vega-lite/v5.16.3.json\", \"datasets\": {\"data-ec121fa4a2c077ce511e0449b7b1233f\": [{\"Delay_from_due_date\": 18, \"Num_of_Delayed_Payment\": 5, \"Credit_Utilization_Ratio\": 35.57397509048776, \"Credit_History_Age\": 32, \"Credit_Score\": \"Poor\"}, {\"Delay_from_due_date\": 13, \"Num_of_Delayed_Payment\": 12, \"Credit_Utilization_Ratio\": 23.53146064400678, \"Credit_History_Age\": 19, \"Credit_Score\": \"Standard\"}, {\"Delay_from_due_date\": 10, \"Num_of_Delayed_Payment\": 6, \"Credit_Utilization_Ratio\": 29.25887297620469, \"Credit_History_Age\": 31, \"Credit_Score\": \"Good\"}, {\"Delay_from_due_date\": 19, \"Num_of_Delayed_Payment\": 25, \"Credit_Utilization_Ratio\": 29.04045421560307, \"Credit_History_Age\": 17, \"Credit_Score\": \"Poor\"}, {\"Delay_from_due_date\": 0, \"Num_of_Delayed_Payment\": 10, \"Credit_Utilization_Ratio\": 38.46173286396756, \"Credit_History_Age\": 28, \"Credit_Score\": \"Good\"}, {\"Delay_from_due_date\": 12, \"Num_of_Delayed_Payment\": 4, \"Credit_Utilization_Ratio\": 33.11488299689522, \"Credit_History_Age\": 17, \"Credit_Score\": \"Good\"}, {\"Delay_from_due_date\": 23, \"Num_of_Delayed_Payment\": 9, \"Credit_Utilization_Ratio\": 36.20288698579468, \"Credit_History_Age\": 24, \"Credit_Score\": \"Poor\"}, {\"Delay_from_due_date\": 45, \"Num_of_Delayed_Payment\": 22, \"Credit_Utilization_Ratio\": 34.472633677051235, \"Credit_History_Age\": 7, \"Credit_Score\": \"Poor\"}, {\"Delay_from_due_date\": 16, \"Num_of_Delayed_Payment\": 9, \"Credit_Utilization_Ratio\": 36.01785110080042, \"Credit_History_Age\": 16, \"Credit_Score\": \"Standard\"}, {\"Delay_from_due_date\": 14, \"Num_of_Delayed_Payment\": 1, \"Credit_Utilization_Ratio\": 26.8854601557062, \"Credit_History_Age\": 24, \"Credit_Score\": \"Standard\"}, {\"Delay_from_due_date\": 12, \"Num_of_Delayed_Payment\": 11, \"Credit_Utilization_Ratio\": 26.810236022455165, \"Credit_History_Age\": 24, \"Credit_Score\": \"Standard\"}, {\"Delay_from_due_date\": 21, \"Num_of_Delayed_Payment\": 15, \"Credit_Utilization_Ratio\": 28.47905471375553, \"Credit_History_Age\": 17, \"Credit_Score\": \"Standard\"}, {\"Delay_from_due_date\": 23, \"Num_of_Delayed_Payment\": 14, \"Credit_Utilization_Ratio\": 31.623899454588013, \"Credit_History_Age\": 19, \"Credit_Score\": \"Good\"}, {\"Delay_from_due_date\": 22, \"Num_of_Delayed_Payment\": 13, \"Credit_Utilization_Ratio\": 35.47048568786331, \"Credit_History_Age\": 32, \"Credit_Score\": \"Standard\"}, {\"Delay_from_due_date\": 34, \"Num_of_Delayed_Payment\": 15, \"Credit_Utilization_Ratio\": 28.593621469010888, \"Credit_History_Age\": 23, \"Credit_Score\": \"Standard\"}, {\"Delay_from_due_date\": 24, \"Num_of_Delayed_Payment\": 16, \"Credit_Utilization_Ratio\": 37.43315035695633, \"Credit_History_Age\": 13, \"Credit_Score\": \"Standard\"}, {\"Delay_from_due_date\": 8, \"Num_of_Delayed_Payment\": 5, \"Credit_Utilization_Ratio\": 26.34330231505578, \"Credit_History_Age\": 32, \"Credit_Score\": \"Good\"}, {\"Delay_from_due_date\": 4, \"Num_of_Delayed_Payment\": 9, \"Credit_Utilization_Ratio\": 32.911527019719856, \"Credit_History_Age\": 12, \"Credit_Score\": \"Poor\"}, {\"Delay_from_due_date\": 14, \"Num_of_Delayed_Payment\": 19, \"Credit_Utilization_Ratio\": 36.24043219370096, \"Credit_History_Age\": 31, \"Credit_Score\": \"Standard\"}, {\"Delay_from_due_date\": 15, \"Num_of_Delayed_Payment\": 7, \"Credit_Utilization_Ratio\": 38.345201287459226, \"Credit_History_Age\": 16, \"Credit_Score\": \"Standard\"}, {\"Delay_from_due_date\": 23, \"Num_of_Delayed_Payment\": 18, \"Credit_Utilization_Ratio\": 37.991309153855255, \"Credit_History_Age\": 8, \"Credit_Score\": \"Poor\"}, {\"Delay_from_due_date\": 20, \"Num_of_Delayed_Payment\": 17, \"Credit_Utilization_Ratio\": 32.73084080567052, \"Credit_History_Age\": 26, \"Credit_Score\": \"Standard\"}, {\"Delay_from_due_date\": 50, \"Num_of_Delayed_Payment\": 15, \"Credit_Utilization_Ratio\": 24.301307445826943, \"Credit_History_Age\": 12, \"Credit_Score\": \"Poor\"}, {\"Delay_from_due_date\": 17, \"Num_of_Delayed_Payment\": 9, \"Credit_Utilization_Ratio\": 34.419051511190524, \"Credit_History_Age\": 33, \"Credit_Score\": \"Standard\"}, {\"Delay_from_due_date\": 19, \"Num_of_Delayed_Payment\": 15, \"Credit_Utilization_Ratio\": 35.29035470339824, \"Credit_History_Age\": 19, \"Credit_Score\": \"Standard\"}, {\"Delay_from_due_date\": 5, \"Num_of_Delayed_Payment\": 9, \"Credit_Utilization_Ratio\": 30.34597730169969, \"Credit_History_Age\": 29, \"Credit_Score\": \"Poor\"}, {\"Delay_from_due_date\": 27, \"Num_of_Delayed_Payment\": 12, \"Credit_Utilization_Ratio\": 36.453108809004014, \"Credit_History_Age\": 17, \"Credit_Score\": \"Poor\"}, {\"Delay_from_due_date\": 29, \"Num_of_Delayed_Payment\": 15, \"Credit_Utilization_Ratio\": 36.43558446108791, \"Credit_History_Age\": 29, \"Credit_Score\": \"Poor\"}, {\"Delay_from_due_date\": 11, \"Num_of_Delayed_Payment\": 5, \"Credit_Utilization_Ratio\": 24.250868566572628, \"Credit_History_Age\": 19, \"Credit_Score\": \"Good\"}, {\"Delay_from_due_date\": 9, \"Num_of_Delayed_Payment\": 12, \"Credit_Utilization_Ratio\": 35.381101089242584, \"Credit_History_Age\": 26, \"Credit_Score\": \"Standard\"}, {\"Delay_from_due_date\": 8, \"Num_of_Delayed_Payment\": 4, \"Credit_Utilization_Ratio\": 27.050487833645786, \"Credit_History_Age\": 29, \"Credit_Score\": \"Standard\"}, {\"Delay_from_due_date\": 0, \"Num_of_Delayed_Payment\": 3, \"Credit_Utilization_Ratio\": 23.481558986831622, \"Credit_History_Age\": 17, \"Credit_Score\": \"Standard\"}, {\"Delay_from_due_date\": 11, \"Num_of_Delayed_Payment\": 19, \"Credit_Utilization_Ratio\": 29.958496350097384, \"Credit_History_Age\": 17, \"Credit_Score\": \"Poor\"}, {\"Delay_from_due_date\": 12, \"Num_of_Delayed_Payment\": 8, \"Credit_Utilization_Ratio\": 37.936070849807685, \"Credit_History_Age\": 10, \"Credit_Score\": \"Standard\"}, {\"Delay_from_due_date\": 6, \"Num_of_Delayed_Payment\": 17, \"Credit_Utilization_Ratio\": 37.819170253766615, \"Credit_History_Age\": 10, \"Credit_Score\": \"Standard\"}, {\"Delay_from_due_date\": 45, \"Num_of_Delayed_Payment\": 21, \"Credit_Utilization_Ratio\": 24.56324453723823, \"Credit_History_Age\": 12, \"Credit_Score\": \"Poor\"}, {\"Delay_from_due_date\": 19, \"Num_of_Delayed_Payment\": 10, \"Credit_Utilization_Ratio\": 32.41338717942846, \"Credit_History_Age\": 22, \"Credit_Score\": \"Standard\"}, {\"Delay_from_due_date\": 11, \"Num_of_Delayed_Payment\": 19, \"Credit_Utilization_Ratio\": 25.214859819551886, \"Credit_History_Age\": 8, \"Credit_Score\": \"Standard\"}, {\"Delay_from_due_date\": 3, \"Num_of_Delayed_Payment\": 11, \"Credit_Utilization_Ratio\": 27.146030679394485, \"Credit_History_Age\": 30, \"Credit_Score\": \"Standard\"}, {\"Delay_from_due_date\": 16, \"Num_of_Delayed_Payment\": 19, \"Credit_Utilization_Ratio\": 30.358852286675354, \"Credit_History_Age\": 20, \"Credit_Score\": \"Standard\"}, {\"Delay_from_due_date\": 20, \"Num_of_Delayed_Payment\": 12, \"Credit_Utilization_Ratio\": 26.68769435841709, \"Credit_History_Age\": 7, \"Credit_Score\": \"Poor\"}, {\"Delay_from_due_date\": 19, \"Num_of_Delayed_Payment\": 8, \"Credit_Utilization_Ratio\": 30.921695904852896, \"Credit_History_Age\": 25, \"Credit_Score\": \"Standard\"}, {\"Delay_from_due_date\": 21, \"Num_of_Delayed_Payment\": 9, \"Credit_Utilization_Ratio\": 25.48981269360386, \"Credit_History_Age\": 28, \"Credit_Score\": \"Standard\"}, {\"Delay_from_due_date\": 15, \"Num_of_Delayed_Payment\": 9, \"Credit_Utilization_Ratio\": 38.82680537110996, \"Credit_History_Age\": 22, \"Credit_Score\": \"Standard\"}, {\"Delay_from_due_date\": 6, \"Num_of_Delayed_Payment\": 10, \"Credit_Utilization_Ratio\": 38.12265552179019, \"Credit_History_Age\": 14, \"Credit_Score\": \"Standard\"}, {\"Delay_from_due_date\": 11, \"Num_of_Delayed_Payment\": 12, \"Credit_Utilization_Ratio\": 28.94089258854545, \"Credit_History_Age\": 6, \"Credit_Score\": \"Standard\"}, {\"Delay_from_due_date\": 7, \"Num_of_Delayed_Payment\": 19, \"Credit_Utilization_Ratio\": 36.98678829063272, \"Credit_History_Age\": 10, \"Credit_Score\": \"Standard\"}, {\"Delay_from_due_date\": 16, \"Num_of_Delayed_Payment\": 19, \"Credit_Utilization_Ratio\": 29.072387168827373, \"Credit_History_Age\": 9, \"Credit_Score\": \"Poor\"}, {\"Delay_from_due_date\": 17, \"Num_of_Delayed_Payment\": 9, \"Credit_Utilization_Ratio\": 30.725652901544976, \"Credit_History_Age\": 6, \"Credit_Score\": \"Standard\"}, {\"Delay_from_due_date\": 9, \"Num_of_Delayed_Payment\": 9, \"Credit_Utilization_Ratio\": 36.63973892017708, \"Credit_History_Age\": 20, \"Credit_Score\": \"Standard\"}, {\"Delay_from_due_date\": 29, \"Num_of_Delayed_Payment\": 12, \"Credit_Utilization_Ratio\": 27.75672737350952, \"Credit_History_Age\": 18, \"Credit_Score\": \"Standard\"}, {\"Delay_from_due_date\": 14, \"Num_of_Delayed_Payment\": 14, \"Credit_Utilization_Ratio\": 25.51498621812739, \"Credit_History_Age\": 17, \"Credit_Score\": \"Good\"}, {\"Delay_from_due_date\": 27, \"Num_of_Delayed_Payment\": 20, \"Credit_Utilization_Ratio\": 30.88351068363905, \"Credit_History_Age\": 25, \"Credit_Score\": \"Standard\"}, {\"Delay_from_due_date\": 18, \"Num_of_Delayed_Payment\": 19, \"Credit_Utilization_Ratio\": 31.872428989162533, \"Credit_History_Age\": 24, \"Credit_Score\": \"Good\"}, {\"Delay_from_due_date\": 19, \"Num_of_Delayed_Payment\": 9, \"Credit_Utilization_Ratio\": 31.071104368162988, \"Credit_History_Age\": 7, \"Credit_Score\": \"Poor\"}, {\"Delay_from_due_date\": 8, \"Num_of_Delayed_Payment\": 20, \"Credit_Utilization_Ratio\": 29.19600957539944, \"Credit_History_Age\": 17, \"Credit_Score\": \"Standard\"}, {\"Delay_from_due_date\": 16, \"Num_of_Delayed_Payment\": 6, \"Credit_Utilization_Ratio\": 24.1027946811733, \"Credit_History_Age\": 25, \"Credit_Score\": \"Good\"}, {\"Delay_from_due_date\": 19, \"Num_of_Delayed_Payment\": 10, \"Credit_Utilization_Ratio\": 31.044719630705917, \"Credit_History_Age\": 22, \"Credit_Score\": \"Standard\"}, {\"Delay_from_due_date\": 7, \"Num_of_Delayed_Payment\": 8, \"Credit_Utilization_Ratio\": 32.006314512034066, \"Credit_History_Age\": 26, \"Credit_Score\": \"Good\"}, {\"Delay_from_due_date\": 9, \"Num_of_Delayed_Payment\": 6, \"Credit_Utilization_Ratio\": 40.26007937557293, \"Credit_History_Age\": 25, \"Credit_Score\": \"Standard\"}, {\"Delay_from_due_date\": 47, \"Num_of_Delayed_Payment\": 22, \"Credit_Utilization_Ratio\": 23.67299878651316, \"Credit_History_Age\": 13, \"Credit_Score\": \"Poor\"}, {\"Delay_from_due_date\": 42, \"Num_of_Delayed_Payment\": 15, \"Credit_Utilization_Ratio\": 26.64101402368844, \"Credit_History_Age\": 0, \"Credit_Score\": \"Poor\"}, {\"Delay_from_due_date\": 42, \"Num_of_Delayed_Payment\": 18, \"Credit_Utilization_Ratio\": 38.5026002856276, \"Credit_History_Age\": 13, \"Credit_Score\": \"Poor\"}, {\"Delay_from_due_date\": 28, \"Num_of_Delayed_Payment\": 10, \"Credit_Utilization_Ratio\": 30.958041043458987, \"Credit_History_Age\": 15, \"Credit_Score\": \"Standard\"}, {\"Delay_from_due_date\": 9, \"Num_of_Delayed_Payment\": 19, \"Credit_Utilization_Ratio\": 34.985869642149986, \"Credit_History_Age\": 21, \"Credit_Score\": \"Standard\"}, {\"Delay_from_due_date\": 2, \"Num_of_Delayed_Payment\": 11, \"Credit_Utilization_Ratio\": 33.122081941362055, \"Credit_History_Age\": 16, \"Credit_Score\": \"Good\"}, {\"Delay_from_due_date\": 41, \"Num_of_Delayed_Payment\": 17, \"Credit_Utilization_Ratio\": 24.602602759957943, \"Credit_History_Age\": 19, \"Credit_Score\": \"Poor\"}, {\"Delay_from_due_date\": 14, \"Num_of_Delayed_Payment\": 21, \"Credit_Utilization_Ratio\": 31.279168348871533, \"Credit_History_Age\": 16, \"Credit_Score\": \"Standard\"}, {\"Delay_from_due_date\": 9, \"Num_of_Delayed_Payment\": 17, \"Credit_Utilization_Ratio\": 27.767571105128287, \"Credit_History_Age\": 20, \"Credit_Score\": \"Standard\"}, {\"Delay_from_due_date\": 25, \"Num_of_Delayed_Payment\": 12, \"Credit_Utilization_Ratio\": 36.85162287961565, \"Credit_History_Age\": 5, \"Credit_Score\": \"Poor\"}, {\"Delay_from_due_date\": 25, \"Num_of_Delayed_Payment\": 11, \"Credit_Utilization_Ratio\": 39.411467907828026, \"Credit_History_Age\": 23, \"Credit_Score\": \"Standard\"}, {\"Delay_from_due_date\": 4, \"Num_of_Delayed_Payment\": 0, \"Credit_Utilization_Ratio\": 29.91289541934304, \"Credit_History_Age\": 17, \"Credit_Score\": \"Standard\"}, {\"Delay_from_due_date\": 19, \"Num_of_Delayed_Payment\": 19, \"Credit_Utilization_Ratio\": 29.03505478125687, \"Credit_History_Age\": 13, \"Credit_Score\": \"Poor\"}, {\"Delay_from_due_date\": 3, \"Num_of_Delayed_Payment\": 8, \"Credit_Utilization_Ratio\": 29.77676102832069, \"Credit_History_Age\": 31, \"Credit_Score\": \"Good\"}, {\"Delay_from_due_date\": 11, \"Num_of_Delayed_Payment\": 13, \"Credit_Utilization_Ratio\": 33.79970501834326, \"Credit_History_Age\": 15, \"Credit_Score\": \"Standard\"}, {\"Delay_from_due_date\": 22, \"Num_of_Delayed_Payment\": 25, \"Credit_Utilization_Ratio\": 25.879474793459224, \"Credit_History_Age\": 20, \"Credit_Score\": \"Standard\"}, {\"Delay_from_due_date\": 27, \"Num_of_Delayed_Payment\": 15, \"Credit_Utilization_Ratio\": 37.4795267665561, \"Credit_History_Age\": 19, \"Credit_Score\": \"Standard\"}, {\"Delay_from_due_date\": 10, \"Num_of_Delayed_Payment\": 18, \"Credit_Utilization_Ratio\": 33.91262126008992, \"Credit_History_Age\": 18, \"Credit_Score\": \"Standard\"}, {\"Delay_from_due_date\": 12, \"Num_of_Delayed_Payment\": 17, \"Credit_Utilization_Ratio\": 36.052320225364106, \"Credit_History_Age\": 25, \"Credit_Score\": \"Standard\"}, {\"Delay_from_due_date\": 35, \"Num_of_Delayed_Payment\": 23, \"Credit_Utilization_Ratio\": 28.20129213683127, \"Credit_History_Age\": 8, \"Credit_Score\": \"Standard\"}, {\"Delay_from_due_date\": 10, \"Num_of_Delayed_Payment\": 2, \"Credit_Utilization_Ratio\": 28.111963433869487, \"Credit_History_Age\": 18, \"Credit_Score\": \"Good\"}, {\"Delay_from_due_date\": 6, \"Num_of_Delayed_Payment\": 5, \"Credit_Utilization_Ratio\": 28.50275751577, \"Credit_History_Age\": 25, \"Credit_Score\": \"Good\"}, {\"Delay_from_due_date\": 3, \"Num_of_Delayed_Payment\": 7, \"Credit_Utilization_Ratio\": 42.6451011248695, \"Credit_History_Age\": 27, \"Credit_Score\": \"Standard\"}, {\"Delay_from_due_date\": 30, \"Num_of_Delayed_Payment\": 24, \"Credit_Utilization_Ratio\": 28.253482338512487, \"Credit_History_Age\": 6, \"Credit_Score\": \"Poor\"}, {\"Delay_from_due_date\": 22, \"Num_of_Delayed_Payment\": 14, \"Credit_Utilization_Ratio\": 31.05439321558287, \"Credit_History_Age\": 14, \"Credit_Score\": \"Standard\"}, {\"Delay_from_due_date\": 20, \"Num_of_Delayed_Payment\": 12, \"Credit_Utilization_Ratio\": 30.58597494058668, \"Credit_History_Age\": 22, \"Credit_Score\": \"Standard\"}, {\"Delay_from_due_date\": 12, \"Num_of_Delayed_Payment\": 12, \"Credit_Utilization_Ratio\": 28.59339086707459, \"Credit_History_Age\": 25, \"Credit_Score\": \"Good\"}, {\"Delay_from_due_date\": 32, \"Num_of_Delayed_Payment\": 16, \"Credit_Utilization_Ratio\": 35.16557225797075, \"Credit_History_Age\": 8, \"Credit_Score\": \"Standard\"}, {\"Delay_from_due_date\": 50, \"Num_of_Delayed_Payment\": 16, \"Credit_Utilization_Ratio\": 30.59755440847509, \"Credit_History_Age\": 9, \"Credit_Score\": \"Standard\"}, {\"Delay_from_due_date\": 19, \"Num_of_Delayed_Payment\": 10, \"Credit_Utilization_Ratio\": 32.109479975245144, \"Credit_History_Age\": 16, \"Credit_Score\": \"Standard\"}, {\"Delay_from_due_date\": 26, \"Num_of_Delayed_Payment\": 12, \"Credit_Utilization_Ratio\": 30.17483978986516, \"Credit_History_Age\": 17, \"Credit_Score\": \"Standard\"}, {\"Delay_from_due_date\": 43, \"Num_of_Delayed_Payment\": 15, \"Credit_Utilization_Ratio\": 40.30159364394989, \"Credit_History_Age\": 17, \"Credit_Score\": \"Poor\"}, {\"Delay_from_due_date\": 10, \"Num_of_Delayed_Payment\": 9, \"Credit_Utilization_Ratio\": 39.43695954611562, \"Credit_History_Age\": 15, \"Credit_Score\": \"Standard\"}, {\"Delay_from_due_date\": 14, \"Num_of_Delayed_Payment\": 13, \"Credit_Utilization_Ratio\": 32.76172365964396, \"Credit_History_Age\": 21, \"Credit_Score\": \"Good\"}, {\"Delay_from_due_date\": 6, \"Num_of_Delayed_Payment\": 9, \"Credit_Utilization_Ratio\": 33.02043630017647, \"Credit_History_Age\": 17, \"Credit_Score\": \"Standard\"}, {\"Delay_from_due_date\": 25, \"Num_of_Delayed_Payment\": 10, \"Credit_Utilization_Ratio\": 34.12427899844827, \"Credit_History_Age\": 22, \"Credit_Score\": \"Standard\"}, {\"Delay_from_due_date\": 32, \"Num_of_Delayed_Payment\": 13, \"Credit_Utilization_Ratio\": 33.684137532558104, \"Credit_History_Age\": 17, \"Credit_Score\": \"Poor\"}, {\"Delay_from_due_date\": 19, \"Num_of_Delayed_Payment\": 22, \"Credit_Utilization_Ratio\": 37.14303745914586, \"Credit_History_Age\": 16, \"Credit_Score\": \"Standard\"}, {\"Delay_from_due_date\": 27, \"Num_of_Delayed_Payment\": 20, \"Credit_Utilization_Ratio\": 27.83126741675665, \"Credit_History_Age\": 12, \"Credit_Score\": \"Poor\"}, {\"Delay_from_due_date\": 16, \"Num_of_Delayed_Payment\": 10, \"Credit_Utilization_Ratio\": 27.106980479648005, \"Credit_History_Age\": 23, \"Credit_Score\": \"Standard\"}, {\"Delay_from_due_date\": 0, \"Num_of_Delayed_Payment\": 2, \"Credit_Utilization_Ratio\": 29.072642093306705, \"Credit_History_Age\": 18, \"Credit_Score\": \"Standard\"}, {\"Delay_from_due_date\": 26, \"Num_of_Delayed_Payment\": 18, \"Credit_Utilization_Ratio\": 35.91285551676899, \"Credit_History_Age\": 29, \"Credit_Score\": \"Standard\"}, {\"Delay_from_due_date\": 22, \"Num_of_Delayed_Payment\": 9, \"Credit_Utilization_Ratio\": 30.871263765419634, \"Credit_History_Age\": 15, \"Credit_Score\": \"Standard\"}, {\"Delay_from_due_date\": 8, \"Num_of_Delayed_Payment\": 11, \"Credit_Utilization_Ratio\": 44.99151529880021, \"Credit_History_Age\": 20, \"Credit_Score\": \"Good\"}, {\"Delay_from_due_date\": 5, \"Num_of_Delayed_Payment\": 3, \"Credit_Utilization_Ratio\": 34.72620552646504, \"Credit_History_Age\": 21, \"Credit_Score\": \"Good\"}, {\"Delay_from_due_date\": 9, \"Num_of_Delayed_Payment\": 7, \"Credit_Utilization_Ratio\": 33.02023806894665, \"Credit_History_Age\": 23, \"Credit_Score\": \"Poor\"}, {\"Delay_from_due_date\": 13, \"Num_of_Delayed_Payment\": 6, \"Credit_Utilization_Ratio\": 31.35922304489168, \"Credit_History_Age\": 31, \"Credit_Score\": \"Standard\"}, {\"Delay_from_due_date\": 11, \"Num_of_Delayed_Payment\": 16, \"Credit_Utilization_Ratio\": 31.615564698907463, \"Credit_History_Age\": 24, \"Credit_Score\": \"Standard\"}, {\"Delay_from_due_date\": 20, \"Num_of_Delayed_Payment\": 15, \"Credit_Utilization_Ratio\": 40.18842138375076, \"Credit_History_Age\": 26, \"Credit_Score\": \"Standard\"}, {\"Delay_from_due_date\": 51, \"Num_of_Delayed_Payment\": 19, \"Credit_Utilization_Ratio\": 26.04387148641148, \"Credit_History_Age\": 17, \"Credit_Score\": \"Poor\"}, {\"Delay_from_due_date\": 27, \"Num_of_Delayed_Payment\": 19, \"Credit_Utilization_Ratio\": 30.0278814006612, \"Credit_History_Age\": 9, \"Credit_Score\": \"Standard\"}, {\"Delay_from_due_date\": 12, \"Num_of_Delayed_Payment\": 19, \"Credit_Utilization_Ratio\": 39.90870144684784, \"Credit_History_Age\": 9, \"Credit_Score\": \"Standard\"}, {\"Delay_from_due_date\": 6, \"Num_of_Delayed_Payment\": 11, \"Credit_Utilization_Ratio\": 25.390232145913483, \"Credit_History_Age\": 28, \"Credit_Score\": \"Good\"}, {\"Delay_from_due_date\": 28, \"Num_of_Delayed_Payment\": 22, \"Credit_Utilization_Ratio\": 31.162879538694497, \"Credit_History_Age\": 15, \"Credit_Score\": \"Standard\"}, {\"Delay_from_due_date\": 5, \"Num_of_Delayed_Payment\": 1, \"Credit_Utilization_Ratio\": 30.35435290715716, \"Credit_History_Age\": 27, \"Credit_Score\": \"Good\"}, {\"Delay_from_due_date\": 7, \"Num_of_Delayed_Payment\": 3, \"Credit_Utilization_Ratio\": 24.58215914599286, \"Credit_History_Age\": 23, \"Credit_Score\": \"Good\"}, {\"Delay_from_due_date\": 24, \"Num_of_Delayed_Payment\": 16, \"Credit_Utilization_Ratio\": 35.132587297160185, \"Credit_History_Age\": 24, \"Credit_Score\": \"Standard\"}, {\"Delay_from_due_date\": 12, \"Num_of_Delayed_Payment\": 14, \"Credit_Utilization_Ratio\": 39.42848483509092, \"Credit_History_Age\": 27, \"Credit_Score\": \"Poor\"}, {\"Delay_from_due_date\": 19, \"Num_of_Delayed_Payment\": 13, \"Credit_Utilization_Ratio\": 34.436713621991785, \"Credit_History_Age\": 16, \"Credit_Score\": \"Good\"}, {\"Delay_from_due_date\": 31, \"Num_of_Delayed_Payment\": 16, \"Credit_Utilization_Ratio\": 24.520890742747387, \"Credit_History_Age\": 21, \"Credit_Score\": \"Standard\"}, {\"Delay_from_due_date\": 9, \"Num_of_Delayed_Payment\": 17, \"Credit_Utilization_Ratio\": 31.242039113372563, \"Credit_History_Age\": 17, \"Credit_Score\": \"Poor\"}, {\"Delay_from_due_date\": 23, \"Num_of_Delayed_Payment\": 21, \"Credit_Utilization_Ratio\": 32.120060077952644, \"Credit_History_Age\": 10, \"Credit_Score\": \"Poor\"}, {\"Delay_from_due_date\": 12, \"Num_of_Delayed_Payment\": 7, \"Credit_Utilization_Ratio\": 22.54913884892837, \"Credit_History_Age\": 19, \"Credit_Score\": \"Good\"}, {\"Delay_from_due_date\": 11, \"Num_of_Delayed_Payment\": 8, \"Credit_Utilization_Ratio\": 35.74906717024765, \"Credit_History_Age\": 30, \"Credit_Score\": \"Standard\"}, {\"Delay_from_due_date\": 5, \"Num_of_Delayed_Payment\": 14, \"Credit_Utilization_Ratio\": 40.42755236938743, \"Credit_History_Age\": 20, \"Credit_Score\": \"Standard\"}, {\"Delay_from_due_date\": 27, \"Num_of_Delayed_Payment\": 20, \"Credit_Utilization_Ratio\": 29.951667096982717, \"Credit_History_Age\": 6, \"Credit_Score\": \"Standard\"}, {\"Delay_from_due_date\": 23, \"Num_of_Delayed_Payment\": 17, \"Credit_Utilization_Ratio\": 37.54697611609132, \"Credit_History_Age\": 19, \"Credit_Score\": \"Standard\"}, {\"Delay_from_due_date\": 8, \"Num_of_Delayed_Payment\": 10, \"Credit_Utilization_Ratio\": 27.196336201510924, \"Credit_History_Age\": 16, \"Credit_Score\": \"Good\"}, {\"Delay_from_due_date\": 22, \"Num_of_Delayed_Payment\": 7, \"Credit_Utilization_Ratio\": 39.31675851619868, \"Credit_History_Age\": 19, \"Credit_Score\": \"Standard\"}, {\"Delay_from_due_date\": 1, \"Num_of_Delayed_Payment\": 1, \"Credit_Utilization_Ratio\": 23.614816921570373, \"Credit_History_Age\": 26, \"Credit_Score\": \"Good\"}, {\"Delay_from_due_date\": 48, \"Num_of_Delayed_Payment\": 22, \"Credit_Utilization_Ratio\": 26.862637170835985, \"Credit_History_Age\": 7, \"Credit_Score\": \"Standard\"}, {\"Delay_from_due_date\": 20, \"Num_of_Delayed_Payment\": 13, \"Credit_Utilization_Ratio\": 35.939430350583265, \"Credit_History_Age\": 19, \"Credit_Score\": \"Poor\"}, {\"Delay_from_due_date\": 23, \"Num_of_Delayed_Payment\": 7, \"Credit_Utilization_Ratio\": 28.58733368416987, \"Credit_History_Age\": 17, \"Credit_Score\": \"Poor\"}, {\"Delay_from_due_date\": 30, \"Num_of_Delayed_Payment\": 15, \"Credit_Utilization_Ratio\": 24.79094227384148, \"Credit_History_Age\": 14, \"Credit_Score\": \"Standard\"}, {\"Delay_from_due_date\": 29, \"Num_of_Delayed_Payment\": 18, \"Credit_Utilization_Ratio\": 34.96335536665032, \"Credit_History_Age\": 17, \"Credit_Score\": \"Poor\"}, {\"Delay_from_due_date\": 16, \"Num_of_Delayed_Payment\": 5, \"Credit_Utilization_Ratio\": 39.05147101479953, \"Credit_History_Age\": 22, \"Credit_Score\": \"Poor\"}, {\"Delay_from_due_date\": 19, \"Num_of_Delayed_Payment\": 20, \"Credit_Utilization_Ratio\": 28.968983987715184, \"Credit_History_Age\": 33, \"Credit_Score\": \"Good\"}, {\"Delay_from_due_date\": 30, \"Num_of_Delayed_Payment\": 2, \"Credit_Utilization_Ratio\": 26.379910987730288, \"Credit_History_Age\": 20, \"Credit_Score\": \"Poor\"}, {\"Delay_from_due_date\": 26, \"Num_of_Delayed_Payment\": 11, \"Credit_Utilization_Ratio\": 39.75365606983162, \"Credit_History_Age\": 11, \"Credit_Score\": \"Standard\"}, {\"Delay_from_due_date\": 32, \"Num_of_Delayed_Payment\": 24, \"Credit_Utilization_Ratio\": 32.15231028405832, \"Credit_History_Age\": 3, \"Credit_Score\": \"Poor\"}, {\"Delay_from_due_date\": 15, \"Num_of_Delayed_Payment\": 8, \"Credit_Utilization_Ratio\": 28.26504193227973, \"Credit_History_Age\": 16, \"Credit_Score\": \"Good\"}, {\"Delay_from_due_date\": 49, \"Num_of_Delayed_Payment\": 13, \"Credit_Utilization_Ratio\": 35.085094202672785, \"Credit_History_Age\": 9, \"Credit_Score\": \"Poor\"}, {\"Delay_from_due_date\": 42, \"Num_of_Delayed_Payment\": 23, \"Credit_Utilization_Ratio\": 25.09841293350874, \"Credit_History_Age\": 14, \"Credit_Score\": \"Standard\"}, {\"Delay_from_due_date\": 14, \"Num_of_Delayed_Payment\": 16, \"Credit_Utilization_Ratio\": 24.86632157488477, \"Credit_History_Age\": 31, \"Credit_Score\": \"Standard\"}, {\"Delay_from_due_date\": 12, \"Num_of_Delayed_Payment\": 11, \"Credit_Utilization_Ratio\": 26.105314972653197, \"Credit_History_Age\": 27, \"Credit_Score\": \"Good\"}, {\"Delay_from_due_date\": 21, \"Num_of_Delayed_Payment\": 10, \"Credit_Utilization_Ratio\": 25.24436951249905, \"Credit_History_Age\": 10, \"Credit_Score\": \"Poor\"}, {\"Delay_from_due_date\": 12, \"Num_of_Delayed_Payment\": 19, \"Credit_Utilization_Ratio\": 26.385033781861573, \"Credit_History_Age\": 29, \"Credit_Score\": \"Standard\"}, {\"Delay_from_due_date\": 7, \"Num_of_Delayed_Payment\": 2, \"Credit_Utilization_Ratio\": 27.77070129538136, \"Credit_History_Age\": 31, \"Credit_Score\": \"Good\"}, {\"Delay_from_due_date\": 18, \"Num_of_Delayed_Payment\": 9, \"Credit_Utilization_Ratio\": 33.74385809565983, \"Credit_History_Age\": 11, \"Credit_Score\": \"Standard\"}, {\"Delay_from_due_date\": 13, \"Num_of_Delayed_Payment\": 19, \"Credit_Utilization_Ratio\": 27.222464562738462, \"Credit_History_Age\": 26, \"Credit_Score\": \"Standard\"}, {\"Delay_from_due_date\": 7, \"Num_of_Delayed_Payment\": 4, \"Credit_Utilization_Ratio\": 44.05601601378245, \"Credit_History_Age\": 19, \"Credit_Score\": \"Standard\"}, {\"Delay_from_due_date\": 51, \"Num_of_Delayed_Payment\": 20, \"Credit_Utilization_Ratio\": 33.18181092565458, \"Credit_History_Age\": 10, \"Credit_Score\": \"Poor\"}, {\"Delay_from_due_date\": 21, \"Num_of_Delayed_Payment\": 21, \"Credit_Utilization_Ratio\": 33.14184049193401, \"Credit_History_Age\": 19, \"Credit_Score\": \"Poor\"}, {\"Delay_from_due_date\": 19, \"Num_of_Delayed_Payment\": 18, \"Credit_Utilization_Ratio\": 39.27713275152115, \"Credit_History_Age\": 15, \"Credit_Score\": \"Standard\"}, {\"Delay_from_due_date\": 8, \"Num_of_Delayed_Payment\": 1, \"Credit_Utilization_Ratio\": 30.137048644567734, \"Credit_History_Age\": 19, \"Credit_Score\": \"Standard\"}, {\"Delay_from_due_date\": 36, \"Num_of_Delayed_Payment\": 17, \"Credit_Utilization_Ratio\": 37.90257105333535, \"Credit_History_Age\": 11, \"Credit_Score\": \"Poor\"}, {\"Delay_from_due_date\": 20, \"Num_of_Delayed_Payment\": 13, \"Credit_Utilization_Ratio\": 35.876837887542216, \"Credit_History_Age\": 26, \"Credit_Score\": \"Standard\"}, {\"Delay_from_due_date\": 24, \"Num_of_Delayed_Payment\": 15, \"Credit_Utilization_Ratio\": 34.19482685080845, \"Credit_History_Age\": 12, \"Credit_Score\": \"Standard\"}, {\"Delay_from_due_date\": 23, \"Num_of_Delayed_Payment\": 17, \"Credit_Utilization_Ratio\": 33.24950942332436, \"Credit_History_Age\": 9, \"Credit_Score\": \"Standard\"}, {\"Delay_from_due_date\": 9, \"Num_of_Delayed_Payment\": 4, \"Credit_Utilization_Ratio\": 29.556751014577664, \"Credit_History_Age\": 20, \"Credit_Score\": \"Good\"}, {\"Delay_from_due_date\": 11, \"Num_of_Delayed_Payment\": 17, \"Credit_Utilization_Ratio\": 25.57893487579955, \"Credit_History_Age\": 7, \"Credit_Score\": \"Standard\"}, {\"Delay_from_due_date\": 21, \"Num_of_Delayed_Payment\": 15, \"Credit_Utilization_Ratio\": 38.8059349888691, \"Credit_History_Age\": 32, \"Credit_Score\": \"Standard\"}, {\"Delay_from_due_date\": 13, \"Num_of_Delayed_Payment\": 9, \"Credit_Utilization_Ratio\": 37.25640883041408, \"Credit_History_Age\": 19, \"Credit_Score\": \"Good\"}, {\"Delay_from_due_date\": 18, \"Num_of_Delayed_Payment\": 13, \"Credit_Utilization_Ratio\": 27.09703971812851, \"Credit_History_Age\": 8, \"Credit_Score\": \"Poor\"}, {\"Delay_from_due_date\": 3, \"Num_of_Delayed_Payment\": 4, \"Credit_Utilization_Ratio\": 37.87338415191984, \"Credit_History_Age\": 28, \"Credit_Score\": \"Good\"}, {\"Delay_from_due_date\": 25, \"Num_of_Delayed_Payment\": 19, \"Credit_Utilization_Ratio\": 25.34605884879886, \"Credit_History_Age\": 1, \"Credit_Score\": \"Poor\"}, {\"Delay_from_due_date\": 13, \"Num_of_Delayed_Payment\": 7, \"Credit_Utilization_Ratio\": 28.38031727598728, \"Credit_History_Age\": 29, \"Credit_Score\": \"Good\"}, {\"Delay_from_due_date\": 15, \"Num_of_Delayed_Payment\": 10, \"Credit_Utilization_Ratio\": 40.245464249972365, \"Credit_History_Age\": 33, \"Credit_Score\": \"Standard\"}, {\"Delay_from_due_date\": 4, \"Num_of_Delayed_Payment\": 13, \"Credit_Utilization_Ratio\": 25.35218616519792, \"Credit_History_Age\": 17, \"Credit_Score\": \"Standard\"}, {\"Delay_from_due_date\": 20, \"Num_of_Delayed_Payment\": 8, \"Credit_Utilization_Ratio\": 31.61724936505493, \"Credit_History_Age\": 26, \"Credit_Score\": \"Standard\"}, {\"Delay_from_due_date\": 21, \"Num_of_Delayed_Payment\": 16, \"Credit_Utilization_Ratio\": 26.095498521370093, \"Credit_History_Age\": 9, \"Credit_Score\": \"Standard\"}, {\"Delay_from_due_date\": -2, \"Num_of_Delayed_Payment\": 5, \"Credit_Utilization_Ratio\": 33.577113958724105, \"Credit_History_Age\": 27, \"Credit_Score\": \"Good\"}, {\"Delay_from_due_date\": 7, \"Num_of_Delayed_Payment\": 1, \"Credit_Utilization_Ratio\": 28.775178224154345, \"Credit_History_Age\": 24, \"Credit_Score\": \"Standard\"}, {\"Delay_from_due_date\": 28, \"Num_of_Delayed_Payment\": 14, \"Credit_Utilization_Ratio\": 35.31975550314473, \"Credit_History_Age\": 23, \"Credit_Score\": \"Standard\"}, {\"Delay_from_due_date\": 20, \"Num_of_Delayed_Payment\": 24, \"Credit_Utilization_Ratio\": 32.75811028118333, \"Credit_History_Age\": 9, \"Credit_Score\": \"Standard\"}, {\"Delay_from_due_date\": 32, \"Num_of_Delayed_Payment\": 12, \"Credit_Utilization_Ratio\": 33.416042323944644, \"Credit_History_Age\": 12, \"Credit_Score\": \"Poor\"}, {\"Delay_from_due_date\": 29, \"Num_of_Delayed_Payment\": 16, \"Credit_Utilization_Ratio\": 27.141605866474595, \"Credit_History_Age\": 30, \"Credit_Score\": \"Good\"}, {\"Delay_from_due_date\": 2, \"Num_of_Delayed_Payment\": 1, \"Credit_Utilization_Ratio\": 29.13386103387765, \"Credit_History_Age\": 18, \"Credit_Score\": \"Good\"}, {\"Delay_from_due_date\": 41, \"Num_of_Delayed_Payment\": 20, \"Credit_Utilization_Ratio\": 25.574819175500565, \"Credit_History_Age\": 12, \"Credit_Score\": \"Standard\"}, {\"Delay_from_due_date\": 13, \"Num_of_Delayed_Payment\": 18, \"Credit_Utilization_Ratio\": 38.20428013189356, \"Credit_History_Age\": 11, \"Credit_Score\": \"Standard\"}, {\"Delay_from_due_date\": 12, \"Num_of_Delayed_Payment\": 2, \"Credit_Utilization_Ratio\": 42.1729405037381, \"Credit_History_Age\": 18, \"Credit_Score\": \"Standard\"}, {\"Delay_from_due_date\": 53, \"Num_of_Delayed_Payment\": 23, \"Credit_Utilization_Ratio\": 34.16762724786053, \"Credit_History_Age\": 11, \"Credit_Score\": \"Poor\"}, {\"Delay_from_due_date\": 22, \"Num_of_Delayed_Payment\": 19, \"Credit_Utilization_Ratio\": 25.94963043226016, \"Credit_History_Age\": 23, \"Credit_Score\": \"Standard\"}, {\"Delay_from_due_date\": 26, \"Num_of_Delayed_Payment\": 20, \"Credit_Utilization_Ratio\": 33.829881730786035, \"Credit_History_Age\": 9, \"Credit_Score\": \"Standard\"}, {\"Delay_from_due_date\": 15, \"Num_of_Delayed_Payment\": 5, \"Credit_Utilization_Ratio\": 33.91986931878806, \"Credit_History_Age\": 27, \"Credit_Score\": \"Good\"}, {\"Delay_from_due_date\": 50, \"Num_of_Delayed_Payment\": 21, \"Credit_Utilization_Ratio\": 36.52325965966033, \"Credit_History_Age\": 8, \"Credit_Score\": \"Standard\"}, {\"Delay_from_due_date\": 5, \"Num_of_Delayed_Payment\": 12, \"Credit_Utilization_Ratio\": 36.81902529431756, \"Credit_History_Age\": 31, \"Credit_Score\": \"Good\"}, {\"Delay_from_due_date\": 23, \"Num_of_Delayed_Payment\": 21, \"Credit_Utilization_Ratio\": 25.348679217569213, \"Credit_History_Age\": 13, \"Credit_Score\": \"Standard\"}, {\"Delay_from_due_date\": 15, \"Num_of_Delayed_Payment\": 6, \"Credit_Utilization_Ratio\": 34.09644969706056, \"Credit_History_Age\": 16, \"Credit_Score\": \"Good\"}, {\"Delay_from_due_date\": 24, \"Num_of_Delayed_Payment\": 8, \"Credit_Utilization_Ratio\": 29.71695836285429, \"Credit_History_Age\": 32, \"Credit_Score\": \"Standard\"}, {\"Delay_from_due_date\": 12, \"Num_of_Delayed_Payment\": 9, \"Credit_Utilization_Ratio\": 32.7220290162262, \"Credit_History_Age\": 31, \"Credit_Score\": \"Good\"}, {\"Delay_from_due_date\": 12, \"Num_of_Delayed_Payment\": 16, \"Credit_Utilization_Ratio\": 29.938530759802298, \"Credit_History_Age\": 19, \"Credit_Score\": \"Standard\"}, {\"Delay_from_due_date\": 11, \"Num_of_Delayed_Payment\": 5, \"Credit_Utilization_Ratio\": 27.87581600978036, \"Credit_History_Age\": 16, \"Credit_Score\": \"Good\"}, {\"Delay_from_due_date\": 16, \"Num_of_Delayed_Payment\": 15, \"Credit_Utilization_Ratio\": 27.62950356044105, \"Credit_History_Age\": 19, \"Credit_Score\": \"Standard\"}, {\"Delay_from_due_date\": 14, \"Num_of_Delayed_Payment\": 5, \"Credit_Utilization_Ratio\": 32.724246328638955, \"Credit_History_Age\": 28, \"Credit_Score\": \"Good\"}, {\"Delay_from_due_date\": 9, \"Num_of_Delayed_Payment\": 9, \"Credit_Utilization_Ratio\": 34.8011734871951, \"Credit_History_Age\": 15, \"Credit_Score\": \"Poor\"}, {\"Delay_from_due_date\": 23, \"Num_of_Delayed_Payment\": 19, \"Credit_Utilization_Ratio\": 31.23783127448937, \"Credit_History_Age\": 22, \"Credit_Score\": \"Poor\"}, {\"Delay_from_due_date\": 6, \"Num_of_Delayed_Payment\": 14, \"Credit_Utilization_Ratio\": 33.16685599143081, \"Credit_History_Age\": 15, \"Credit_Score\": \"Standard\"}, {\"Delay_from_due_date\": 5, \"Num_of_Delayed_Payment\": 12, \"Credit_Utilization_Ratio\": 27.843401298149683, \"Credit_History_Age\": 25, \"Credit_Score\": \"Standard\"}, {\"Delay_from_due_date\": 5, \"Num_of_Delayed_Payment\": 3, \"Credit_Utilization_Ratio\": 36.606560920374505, \"Credit_History_Age\": 22, \"Credit_Score\": \"Standard\"}, {\"Delay_from_due_date\": 46, \"Num_of_Delayed_Payment\": 26, \"Credit_Utilization_Ratio\": 26.891982790496677, \"Credit_History_Age\": 6, \"Credit_Score\": \"Poor\"}, {\"Delay_from_due_date\": 11, \"Num_of_Delayed_Payment\": 7, \"Credit_Utilization_Ratio\": 27.85720456579389, \"Credit_History_Age\": 21, \"Credit_Score\": \"Good\"}, {\"Delay_from_due_date\": 15, \"Num_of_Delayed_Payment\": 22, \"Credit_Utilization_Ratio\": 37.16725387120237, \"Credit_History_Age\": 1, \"Credit_Score\": \"Standard\"}, {\"Delay_from_due_date\": 29, \"Num_of_Delayed_Payment\": 17, \"Credit_Utilization_Ratio\": 36.50999304291684, \"Credit_History_Age\": 19, \"Credit_Score\": \"Poor\"}, {\"Delay_from_due_date\": -1, \"Num_of_Delayed_Payment\": 8, \"Credit_Utilization_Ratio\": 25.36297146529219, \"Credit_History_Age\": 25, \"Credit_Score\": \"Standard\"}, {\"Delay_from_due_date\": 19, \"Num_of_Delayed_Payment\": 24, \"Credit_Utilization_Ratio\": 24.572947922427225, \"Credit_History_Age\": 12, \"Credit_Score\": \"Poor\"}, {\"Delay_from_due_date\": 45, \"Num_of_Delayed_Payment\": 16, \"Credit_Utilization_Ratio\": 37.635759970139866, \"Credit_History_Age\": 6, \"Credit_Score\": \"Poor\"}, {\"Delay_from_due_date\": 3, \"Num_of_Delayed_Payment\": 2, \"Credit_Utilization_Ratio\": 30.07682361930613, \"Credit_History_Age\": 25, \"Credit_Score\": \"Standard\"}, {\"Delay_from_due_date\": 37, \"Num_of_Delayed_Payment\": 16, \"Credit_Utilization_Ratio\": 37.80522736306677, \"Credit_History_Age\": 18, \"Credit_Score\": \"Standard\"}, {\"Delay_from_due_date\": 31, \"Num_of_Delayed_Payment\": 16, \"Credit_Utilization_Ratio\": 30.621986281428608, \"Credit_History_Age\": 8, \"Credit_Score\": \"Standard\"}, {\"Delay_from_due_date\": 15, \"Num_of_Delayed_Payment\": 14, \"Credit_Utilization_Ratio\": 28.72807017949165, \"Credit_History_Age\": 23, \"Credit_Score\": \"Good\"}, {\"Delay_from_due_date\": 7, \"Num_of_Delayed_Payment\": 7, \"Credit_Utilization_Ratio\": 26.03780273276097, \"Credit_History_Age\": 16, \"Credit_Score\": \"Standard\"}, {\"Delay_from_due_date\": 41, \"Num_of_Delayed_Payment\": 18, \"Credit_Utilization_Ratio\": 35.923154876876424, \"Credit_History_Age\": 7, \"Credit_Score\": \"Poor\"}, {\"Delay_from_due_date\": 2, \"Num_of_Delayed_Payment\": 12, \"Credit_Utilization_Ratio\": 31.44452970497959, \"Credit_History_Age\": 21, \"Credit_Score\": \"Good\"}, {\"Delay_from_due_date\": 7, \"Num_of_Delayed_Payment\": 9, \"Credit_Utilization_Ratio\": 27.01587543290148, \"Credit_History_Age\": 19, \"Credit_Score\": \"Good\"}, {\"Delay_from_due_date\": 12, \"Num_of_Delayed_Payment\": 9, \"Credit_Utilization_Ratio\": 28.466693740150504, \"Credit_History_Age\": 30, \"Credit_Score\": \"Standard\"}, {\"Delay_from_due_date\": 27, \"Num_of_Delayed_Payment\": 10, \"Credit_Utilization_Ratio\": 25.75161153311649, \"Credit_History_Age\": 24, \"Credit_Score\": \"Standard\"}, {\"Delay_from_due_date\": 23, \"Num_of_Delayed_Payment\": 13, \"Credit_Utilization_Ratio\": 36.58284536619279, \"Credit_History_Age\": 30, \"Credit_Score\": \"Good\"}, {\"Delay_from_due_date\": 17, \"Num_of_Delayed_Payment\": 21, \"Credit_Utilization_Ratio\": 33.484006176144405, \"Credit_History_Age\": 1, \"Credit_Score\": \"Poor\"}, {\"Delay_from_due_date\": 10, \"Num_of_Delayed_Payment\": 4, \"Credit_Utilization_Ratio\": 34.284492658464664, \"Credit_History_Age\": 16, \"Credit_Score\": \"Good\"}, {\"Delay_from_due_date\": 20, \"Num_of_Delayed_Payment\": 9, \"Credit_Utilization_Ratio\": 29.2292358332486, \"Credit_History_Age\": 31, \"Credit_Score\": \"Standard\"}, {\"Delay_from_due_date\": 17, \"Num_of_Delayed_Payment\": 10, \"Credit_Utilization_Ratio\": 26.65086235438496, \"Credit_History_Age\": 7, \"Credit_Score\": \"Standard\"}, {\"Delay_from_due_date\": 12, \"Num_of_Delayed_Payment\": 16, \"Credit_Utilization_Ratio\": 30.366136067164263, \"Credit_History_Age\": 14, \"Credit_Score\": \"Standard\"}, {\"Delay_from_due_date\": 5, \"Num_of_Delayed_Payment\": 4, \"Credit_Utilization_Ratio\": 36.8074863773983, \"Credit_History_Age\": 19, \"Credit_Score\": \"Standard\"}, {\"Delay_from_due_date\": 21, \"Num_of_Delayed_Payment\": 17, \"Credit_Utilization_Ratio\": 32.76512068257692, \"Credit_History_Age\": 29, \"Credit_Score\": \"Standard\"}, {\"Delay_from_due_date\": 41, \"Num_of_Delayed_Payment\": 20, \"Credit_Utilization_Ratio\": 36.291381636496894, \"Credit_History_Age\": 12, \"Credit_Score\": \"Poor\"}, {\"Delay_from_due_date\": 3, \"Num_of_Delayed_Payment\": 1, \"Credit_Utilization_Ratio\": 41.17026488969388, \"Credit_History_Age\": 17, \"Credit_Score\": \"Standard\"}, {\"Delay_from_due_date\": 5, \"Num_of_Delayed_Payment\": 8, \"Credit_Utilization_Ratio\": 33.77016166967731, \"Credit_History_Age\": 32, \"Credit_Score\": \"Good\"}, {\"Delay_from_due_date\": 22, \"Num_of_Delayed_Payment\": 18, \"Credit_Utilization_Ratio\": 27.2035276594087, \"Credit_History_Age\": 14, \"Credit_Score\": \"Poor\"}, {\"Delay_from_due_date\": 2, \"Num_of_Delayed_Payment\": 3, \"Credit_Utilization_Ratio\": 31.25506442323768, \"Credit_History_Age\": 21, \"Credit_Score\": \"Standard\"}, {\"Delay_from_due_date\": 17, \"Num_of_Delayed_Payment\": 23, \"Credit_Utilization_Ratio\": 29.97271386385881, \"Credit_History_Age\": 12, \"Credit_Score\": \"Poor\"}, {\"Delay_from_due_date\": 4, \"Num_of_Delayed_Payment\": 12, \"Credit_Utilization_Ratio\": 44.98781849858295, \"Credit_History_Age\": 22, \"Credit_Score\": \"Good\"}, {\"Delay_from_due_date\": 18, \"Num_of_Delayed_Payment\": 13, \"Credit_Utilization_Ratio\": 34.53776924644064, \"Credit_History_Age\": 20, \"Credit_Score\": \"Standard\"}, {\"Delay_from_due_date\": 10, \"Num_of_Delayed_Payment\": 10, \"Credit_Utilization_Ratio\": 30.31609802199293, \"Credit_History_Age\": 17, \"Credit_Score\": \"Standard\"}, {\"Delay_from_due_date\": 14, \"Num_of_Delayed_Payment\": 16, \"Credit_Utilization_Ratio\": 24.775080086169105, \"Credit_History_Age\": 15, \"Credit_Score\": \"Poor\"}, {\"Delay_from_due_date\": 22, \"Num_of_Delayed_Payment\": 14, \"Credit_Utilization_Ratio\": 35.568531638121364, \"Credit_History_Age\": 6, \"Credit_Score\": \"Standard\"}, {\"Delay_from_due_date\": 15, \"Num_of_Delayed_Payment\": 15, \"Credit_Utilization_Ratio\": 26.697088063192105, \"Credit_History_Age\": 29, \"Credit_Score\": \"Good\"}, {\"Delay_from_due_date\": 14, \"Num_of_Delayed_Payment\": 8, \"Credit_Utilization_Ratio\": 35.91923360021791, \"Credit_History_Age\": 23, \"Credit_Score\": \"Good\"}, {\"Delay_from_due_date\": 5, \"Num_of_Delayed_Payment\": 11, \"Credit_Utilization_Ratio\": 37.319900282827135, \"Credit_History_Age\": 22, \"Credit_Score\": \"Standard\"}, {\"Delay_from_due_date\": 14, \"Num_of_Delayed_Payment\": 12, \"Credit_Utilization_Ratio\": 34.45335970033482, \"Credit_History_Age\": 19, \"Credit_Score\": \"Standard\"}, {\"Delay_from_due_date\": 13, \"Num_of_Delayed_Payment\": 16, \"Credit_Utilization_Ratio\": 26.21709834083856, \"Credit_History_Age\": 27, \"Credit_Score\": \"Standard\"}, {\"Delay_from_due_date\": 6, \"Num_of_Delayed_Payment\": 4, \"Credit_Utilization_Ratio\": 27.28360410340916, \"Credit_History_Age\": 23, \"Credit_Score\": \"Standard\"}, {\"Delay_from_due_date\": 17, \"Num_of_Delayed_Payment\": 8, \"Credit_Utilization_Ratio\": 36.90447856604021, \"Credit_History_Age\": 16, \"Credit_Score\": \"Standard\"}, {\"Delay_from_due_date\": 48, \"Num_of_Delayed_Payment\": 28, \"Credit_Utilization_Ratio\": 26.523336538213773, \"Credit_History_Age\": 8, \"Credit_Score\": \"Poor\"}, {\"Delay_from_due_date\": 2, \"Num_of_Delayed_Payment\": 2, \"Credit_Utilization_Ratio\": 25.106384209964894, \"Credit_History_Age\": 24, \"Credit_Score\": \"Standard\"}, {\"Delay_from_due_date\": 9, \"Num_of_Delayed_Payment\": 9, \"Credit_Utilization_Ratio\": 26.18202661406797, \"Credit_History_Age\": 10, \"Credit_Score\": \"Standard\"}, {\"Delay_from_due_date\": 23, \"Num_of_Delayed_Payment\": 3, \"Credit_Utilization_Ratio\": 35.85968942192756, \"Credit_History_Age\": 21, \"Credit_Score\": \"Poor\"}, {\"Delay_from_due_date\": 6, \"Num_of_Delayed_Payment\": 5, \"Credit_Utilization_Ratio\": 33.94071242885169, \"Credit_History_Age\": 28, \"Credit_Score\": \"Standard\"}, {\"Delay_from_due_date\": 10, \"Num_of_Delayed_Payment\": 17, \"Credit_Utilization_Ratio\": 28.318017044456944, \"Credit_History_Age\": 29, \"Credit_Score\": \"Standard\"}, {\"Delay_from_due_date\": 15, \"Num_of_Delayed_Payment\": 10, \"Credit_Utilization_Ratio\": 35.029872092520485, \"Credit_History_Age\": 23, \"Credit_Score\": \"Good\"}, {\"Delay_from_due_date\": 6, \"Num_of_Delayed_Payment\": 1, \"Credit_Utilization_Ratio\": 28.44149318825077, \"Credit_History_Age\": 15, \"Credit_Score\": \"Standard\"}, {\"Delay_from_due_date\": 38, \"Num_of_Delayed_Payment\": 11, \"Credit_Utilization_Ratio\": 30.65046564196324, \"Credit_History_Age\": 8, \"Credit_Score\": \"Poor\"}, {\"Delay_from_due_date\": 46, \"Num_of_Delayed_Payment\": 23, \"Credit_Utilization_Ratio\": 26.01200676057341, \"Credit_History_Age\": 1, \"Credit_Score\": \"Standard\"}, {\"Delay_from_due_date\": 25, \"Num_of_Delayed_Payment\": 9, \"Credit_Utilization_Ratio\": 37.96085820431392, \"Credit_History_Age\": 11, \"Credit_Score\": \"Good\"}, {\"Delay_from_due_date\": 3, \"Num_of_Delayed_Payment\": 2, \"Credit_Utilization_Ratio\": 33.9303259955678, \"Credit_History_Age\": 31, \"Credit_Score\": \"Good\"}, {\"Delay_from_due_date\": 24, \"Num_of_Delayed_Payment\": 22, \"Credit_Utilization_Ratio\": 22.31521140886409, \"Credit_History_Age\": 0, \"Credit_Score\": \"Poor\"}, {\"Delay_from_due_date\": 24, \"Num_of_Delayed_Payment\": 17, \"Credit_Utilization_Ratio\": 41.31569663165871, \"Credit_History_Age\": 26, \"Credit_Score\": \"Standard\"}, {\"Delay_from_due_date\": 47, \"Num_of_Delayed_Payment\": 18, \"Credit_Utilization_Ratio\": 25.38680960117228, \"Credit_History_Age\": 12, \"Credit_Score\": \"Poor\"}, {\"Delay_from_due_date\": 15, \"Num_of_Delayed_Payment\": 23, \"Credit_Utilization_Ratio\": 40.127413494769776, \"Credit_History_Age\": 15, \"Credit_Score\": \"Standard\"}, {\"Delay_from_due_date\": 22, \"Num_of_Delayed_Payment\": 13, \"Credit_Utilization_Ratio\": 28.979979078216413, \"Credit_History_Age\": 29, \"Credit_Score\": \"Standard\"}, {\"Delay_from_due_date\": 14, \"Num_of_Delayed_Payment\": 11, \"Credit_Utilization_Ratio\": 23.401009297484197, \"Credit_History_Age\": 15, \"Credit_Score\": \"Standard\"}, {\"Delay_from_due_date\": 47, \"Num_of_Delayed_Payment\": 25, \"Credit_Utilization_Ratio\": 33.40161465165678, \"Credit_History_Age\": 19, \"Credit_Score\": \"Poor\"}, {\"Delay_from_due_date\": 5, \"Num_of_Delayed_Payment\": 16, \"Credit_Utilization_Ratio\": 35.071993001478376, \"Credit_History_Age\": 16, \"Credit_Score\": \"Standard\"}, {\"Delay_from_due_date\": 27, \"Num_of_Delayed_Payment\": 10, \"Credit_Utilization_Ratio\": 32.17521486822127, \"Credit_History_Age\": 9, \"Credit_Score\": \"Poor\"}, {\"Delay_from_due_date\": 0, \"Num_of_Delayed_Payment\": 0, \"Credit_Utilization_Ratio\": 39.17133476415343, \"Credit_History_Age\": 21, \"Credit_Score\": \"Good\"}, {\"Delay_from_due_date\": 25, \"Num_of_Delayed_Payment\": 22, \"Credit_Utilization_Ratio\": 29.70101366476485, \"Credit_History_Age\": 13, \"Credit_Score\": \"Poor\"}, {\"Delay_from_due_date\": 13, \"Num_of_Delayed_Payment\": 7, \"Credit_Utilization_Ratio\": 23.563451842159616, \"Credit_History_Age\": 22, \"Credit_Score\": \"Good\"}, {\"Delay_from_due_date\": 19, \"Num_of_Delayed_Payment\": 15, \"Credit_Utilization_Ratio\": 30.221018616919288, \"Credit_History_Age\": 20, \"Credit_Score\": \"Standard\"}, {\"Delay_from_due_date\": 4, \"Num_of_Delayed_Payment\": 16, \"Credit_Utilization_Ratio\": 40.80402669001464, \"Credit_History_Age\": 15, \"Credit_Score\": \"Standard\"}, {\"Delay_from_due_date\": 29, \"Num_of_Delayed_Payment\": 11, \"Credit_Utilization_Ratio\": 33.66563697689587, \"Credit_History_Age\": 16, \"Credit_Score\": \"Standard\"}, {\"Delay_from_due_date\": 16, \"Num_of_Delayed_Payment\": 15, \"Credit_Utilization_Ratio\": 26.288548254186807, \"Credit_History_Age\": 32, \"Credit_Score\": \"Standard\"}, {\"Delay_from_due_date\": 24, \"Num_of_Delayed_Payment\": 13, \"Credit_Utilization_Ratio\": 30.195464658110986, \"Credit_History_Age\": 18, \"Credit_Score\": \"Poor\"}, {\"Delay_from_due_date\": 10, \"Num_of_Delayed_Payment\": 6, \"Credit_Utilization_Ratio\": 35.385295906707285, \"Credit_History_Age\": 20, \"Credit_Score\": \"Good\"}, {\"Delay_from_due_date\": 11, \"Num_of_Delayed_Payment\": 20, \"Credit_Utilization_Ratio\": 31.302506797460182, \"Credit_History_Age\": 17, \"Credit_Score\": \"Poor\"}, {\"Delay_from_due_date\": 32, \"Num_of_Delayed_Payment\": 8, \"Credit_Utilization_Ratio\": 33.415221439003574, \"Credit_History_Age\": 21, \"Credit_Score\": \"Standard\"}, {\"Delay_from_due_date\": 29, \"Num_of_Delayed_Payment\": 6, \"Credit_Utilization_Ratio\": 26.323767866483912, \"Credit_History_Age\": 16, \"Credit_Score\": \"Poor\"}, {\"Delay_from_due_date\": 12, \"Num_of_Delayed_Payment\": 13, \"Credit_Utilization_Ratio\": 32.60935114749722, \"Credit_History_Age\": 19, \"Credit_Score\": \"Good\"}, {\"Delay_from_due_date\": 9, \"Num_of_Delayed_Payment\": 5, \"Credit_Utilization_Ratio\": 37.00637735500288, \"Credit_History_Age\": 17, \"Credit_Score\": \"Poor\"}, {\"Delay_from_due_date\": 30, \"Num_of_Delayed_Payment\": 24, \"Credit_Utilization_Ratio\": 31.70630056719801, \"Credit_History_Age\": 9, \"Credit_Score\": \"Standard\"}, {\"Delay_from_due_date\": 22, \"Num_of_Delayed_Payment\": 20, \"Credit_Utilization_Ratio\": 28.361090106683942, \"Credit_History_Age\": 6, \"Credit_Score\": \"Standard\"}, {\"Delay_from_due_date\": 51, \"Num_of_Delayed_Payment\": 25, \"Credit_Utilization_Ratio\": 33.999753398232755, \"Credit_History_Age\": 18, \"Credit_Score\": \"Poor\"}, {\"Delay_from_due_date\": 18, \"Num_of_Delayed_Payment\": 15, \"Credit_Utilization_Ratio\": 25.92983717261045, \"Credit_History_Age\": 28, \"Credit_Score\": \"Standard\"}, {\"Delay_from_due_date\": 33, \"Num_of_Delayed_Payment\": 16, \"Credit_Utilization_Ratio\": 33.050172430043766, \"Credit_History_Age\": 5, \"Credit_Score\": \"Poor\"}, {\"Delay_from_due_date\": 13, \"Num_of_Delayed_Payment\": 5, \"Credit_Utilization_Ratio\": 23.91346439167588, \"Credit_History_Age\": 28, \"Credit_Score\": \"Good\"}, {\"Delay_from_due_date\": 13, \"Num_of_Delayed_Payment\": 13, \"Credit_Utilization_Ratio\": 30.085531284627017, \"Credit_History_Age\": 8, \"Credit_Score\": \"Standard\"}, {\"Delay_from_due_date\": 5, \"Num_of_Delayed_Payment\": 2, \"Credit_Utilization_Ratio\": 28.18548233420792, \"Credit_History_Age\": 26, \"Credit_Score\": \"Poor\"}, {\"Delay_from_due_date\": 8, \"Num_of_Delayed_Payment\": 14, \"Credit_Utilization_Ratio\": 34.37800806711948, \"Credit_History_Age\": 28, \"Credit_Score\": \"Good\"}, {\"Delay_from_due_date\": 29, \"Num_of_Delayed_Payment\": 8, \"Credit_Utilization_Ratio\": 24.07743693522463, \"Credit_History_Age\": 26, \"Credit_Score\": \"Standard\"}, {\"Delay_from_due_date\": 16, \"Num_of_Delayed_Payment\": 13, \"Credit_Utilization_Ratio\": 27.948200810359587, \"Credit_History_Age\": 32, \"Credit_Score\": \"Standard\"}, {\"Delay_from_due_date\": 16, \"Num_of_Delayed_Payment\": 8, \"Credit_Utilization_Ratio\": 38.69823336228551, \"Credit_History_Age\": 10, \"Credit_Score\": \"Standard\"}, {\"Delay_from_due_date\": 3, \"Num_of_Delayed_Payment\": 13, \"Credit_Utilization_Ratio\": 30.257976891555614, \"Credit_History_Age\": 16, \"Credit_Score\": \"Good\"}, {\"Delay_from_due_date\": 30, \"Num_of_Delayed_Payment\": 15, \"Credit_Utilization_Ratio\": 34.769034494649574, \"Credit_History_Age\": 9, \"Credit_Score\": \"Standard\"}, {\"Delay_from_due_date\": 18, \"Num_of_Delayed_Payment\": 7, \"Credit_Utilization_Ratio\": 30.501782940881814, \"Credit_History_Age\": 17, \"Credit_Score\": \"Standard\"}, {\"Delay_from_due_date\": 25, \"Num_of_Delayed_Payment\": 22, \"Credit_Utilization_Ratio\": 22.891886221673204, \"Credit_History_Age\": 8, \"Credit_Score\": \"Standard\"}, {\"Delay_from_due_date\": 11, \"Num_of_Delayed_Payment\": 13, \"Credit_Utilization_Ratio\": 25.913005301873827, \"Credit_History_Age\": 12, \"Credit_Score\": \"Poor\"}, {\"Delay_from_due_date\": 6, \"Num_of_Delayed_Payment\": 5, \"Credit_Utilization_Ratio\": 24.19439586963, \"Credit_History_Age\": 21, \"Credit_Score\": \"Standard\"}, {\"Delay_from_due_date\": 15, \"Num_of_Delayed_Payment\": 21, \"Credit_Utilization_Ratio\": 31.811085915959914, \"Credit_History_Age\": 18, \"Credit_Score\": \"Good\"}, {\"Delay_from_due_date\": 17, \"Num_of_Delayed_Payment\": 20, \"Credit_Utilization_Ratio\": 36.437043528467, \"Credit_History_Age\": 6, \"Credit_Score\": \"Poor\"}, {\"Delay_from_due_date\": 14, \"Num_of_Delayed_Payment\": 20, \"Credit_Utilization_Ratio\": 23.75998796644237, \"Credit_History_Age\": 5, \"Credit_Score\": \"Poor\"}, {\"Delay_from_due_date\": 5, \"Num_of_Delayed_Payment\": 5, \"Credit_Utilization_Ratio\": 36.518254351655095, \"Credit_History_Age\": 26, \"Credit_Score\": \"Standard\"}, {\"Delay_from_due_date\": 40, \"Num_of_Delayed_Payment\": 22, \"Credit_Utilization_Ratio\": 25.48611505142735, \"Credit_History_Age\": 2, \"Credit_Score\": \"Standard\"}, {\"Delay_from_due_date\": 5, \"Num_of_Delayed_Payment\": 7, \"Credit_Utilization_Ratio\": 34.444065553167675, \"Credit_History_Age\": 18, \"Credit_Score\": \"Good\"}, {\"Delay_from_due_date\": 25, \"Num_of_Delayed_Payment\": 18, \"Credit_Utilization_Ratio\": 24.20949803629505, \"Credit_History_Age\": 11, \"Credit_Score\": \"Poor\"}, {\"Delay_from_due_date\": 20, \"Num_of_Delayed_Payment\": 16, \"Credit_Utilization_Ratio\": 36.94062492995321, \"Credit_History_Age\": 2, \"Credit_Score\": \"Standard\"}, {\"Delay_from_due_date\": 35, \"Num_of_Delayed_Payment\": 20, \"Credit_Utilization_Ratio\": 34.051821611297434, \"Credit_History_Age\": 8, \"Credit_Score\": \"Standard\"}, {\"Delay_from_due_date\": 13, \"Num_of_Delayed_Payment\": 19, \"Credit_Utilization_Ratio\": 32.45118266638209, \"Credit_History_Age\": 15, \"Credit_Score\": \"Good\"}, {\"Delay_from_due_date\": 6, \"Num_of_Delayed_Payment\": 12, \"Credit_Utilization_Ratio\": 33.212131947986734, \"Credit_History_Age\": 21, \"Credit_Score\": \"Poor\"}, {\"Delay_from_due_date\": 26, \"Num_of_Delayed_Payment\": 10, \"Credit_Utilization_Ratio\": 28.84549161812172, \"Credit_History_Age\": 20, \"Credit_Score\": \"Standard\"}, {\"Delay_from_due_date\": 10, \"Num_of_Delayed_Payment\": 14, \"Credit_Utilization_Ratio\": 36.74672908995339, \"Credit_History_Age\": 26, \"Credit_Score\": \"Standard\"}, {\"Delay_from_due_date\": 14, \"Num_of_Delayed_Payment\": 15, \"Credit_Utilization_Ratio\": 39.08720760919638, \"Credit_History_Age\": 18, \"Credit_Score\": \"Standard\"}, {\"Delay_from_due_date\": 49, \"Num_of_Delayed_Payment\": 17, \"Credit_Utilization_Ratio\": 37.081252147422965, \"Credit_History_Age\": 13, \"Credit_Score\": \"Poor\"}, {\"Delay_from_due_date\": 15, \"Num_of_Delayed_Payment\": 17, \"Credit_Utilization_Ratio\": 37.05598370385229, \"Credit_History_Age\": 26, \"Credit_Score\": \"Standard\"}, {\"Delay_from_due_date\": 2, \"Num_of_Delayed_Payment\": 12, \"Credit_Utilization_Ratio\": 38.46042212220244, \"Credit_History_Age\": 30, \"Credit_Score\": \"Good\"}, {\"Delay_from_due_date\": 20, \"Num_of_Delayed_Payment\": 17, \"Credit_Utilization_Ratio\": 39.94512431458045, \"Credit_History_Age\": 30, \"Credit_Score\": \"Standard\"}, {\"Delay_from_due_date\": 10, \"Num_of_Delayed_Payment\": 17, \"Credit_Utilization_Ratio\": 30.59327542754196, \"Credit_History_Age\": 5, \"Credit_Score\": \"Standard\"}, {\"Delay_from_due_date\": 31, \"Num_of_Delayed_Payment\": 9, \"Credit_Utilization_Ratio\": 33.466703901318745, \"Credit_History_Age\": 17, \"Credit_Score\": \"Standard\"}, {\"Delay_from_due_date\": 50, \"Num_of_Delayed_Payment\": 20, \"Credit_Utilization_Ratio\": 28.2644695882125, \"Credit_History_Age\": 15, \"Credit_Score\": \"Poor\"}, {\"Delay_from_due_date\": 9, \"Num_of_Delayed_Payment\": 9, \"Credit_Utilization_Ratio\": 24.834035737690467, \"Credit_History_Age\": 15, \"Credit_Score\": \"Poor\"}, {\"Delay_from_due_date\": 30, \"Num_of_Delayed_Payment\": 16, \"Credit_Utilization_Ratio\": 34.943014723457146, \"Credit_History_Age\": 14, \"Credit_Score\": \"Standard\"}, {\"Delay_from_due_date\": 11, \"Num_of_Delayed_Payment\": 10, \"Credit_Utilization_Ratio\": 32.85057616740958, \"Credit_History_Age\": 20, \"Credit_Score\": \"Standard\"}, {\"Delay_from_due_date\": 28, \"Num_of_Delayed_Payment\": 11, \"Credit_Utilization_Ratio\": 37.4566360798284, \"Credit_History_Age\": 21, \"Credit_Score\": \"Standard\"}, {\"Delay_from_due_date\": 15, \"Num_of_Delayed_Payment\": 4, \"Credit_Utilization_Ratio\": 41.8299543453051, \"Credit_History_Age\": 19, \"Credit_Score\": \"Standard\"}, {\"Delay_from_due_date\": 20, \"Num_of_Delayed_Payment\": 10, \"Credit_Utilization_Ratio\": 35.794644351294664, \"Credit_History_Age\": 15, \"Credit_Score\": \"Standard\"}, {\"Delay_from_due_date\": 5, \"Num_of_Delayed_Payment\": 7, \"Credit_Utilization_Ratio\": 30.437775012088707, \"Credit_History_Age\": 25, \"Credit_Score\": \"Standard\"}, {\"Delay_from_due_date\": 8, \"Num_of_Delayed_Payment\": 17, \"Credit_Utilization_Ratio\": 27.596968859941025, \"Credit_History_Age\": 17, \"Credit_Score\": \"Poor\"}, {\"Delay_from_due_date\": 12, \"Num_of_Delayed_Payment\": 2, \"Credit_Utilization_Ratio\": 38.08989751861362, \"Credit_History_Age\": 33, \"Credit_Score\": \"Poor\"}, {\"Delay_from_due_date\": 9, \"Num_of_Delayed_Payment\": 6, \"Credit_Utilization_Ratio\": 36.90780588362764, \"Credit_History_Age\": 30, \"Credit_Score\": \"Good\"}, {\"Delay_from_due_date\": 15, \"Num_of_Delayed_Payment\": 11, \"Credit_Utilization_Ratio\": 37.978689836889465, \"Credit_History_Age\": 7, \"Credit_Score\": \"Standard\"}, {\"Delay_from_due_date\": 10, \"Num_of_Delayed_Payment\": 7, \"Credit_Utilization_Ratio\": 35.200386372177675, \"Credit_History_Age\": 18, \"Credit_Score\": \"Good\"}, {\"Delay_from_due_date\": 18, \"Num_of_Delayed_Payment\": 20, \"Credit_Utilization_Ratio\": 28.371481867951, \"Credit_History_Age\": 17, \"Credit_Score\": \"Standard\"}, {\"Delay_from_due_date\": 29, \"Num_of_Delayed_Payment\": 15, \"Credit_Utilization_Ratio\": 36.01205144191165, \"Credit_History_Age\": 27, \"Credit_Score\": \"Standard\"}, {\"Delay_from_due_date\": 29, \"Num_of_Delayed_Payment\": 17, \"Credit_Utilization_Ratio\": 37.14212859034291, \"Credit_History_Age\": 19, \"Credit_Score\": \"Standard\"}, {\"Delay_from_due_date\": 7, \"Num_of_Delayed_Payment\": 12, \"Credit_Utilization_Ratio\": 29.079379377614583, \"Credit_History_Age\": 13, \"Credit_Score\": \"Standard\"}, {\"Delay_from_due_date\": 44, \"Num_of_Delayed_Payment\": 21, \"Credit_Utilization_Ratio\": 40.45078070817755, \"Credit_History_Age\": 7, \"Credit_Score\": \"Standard\"}, {\"Delay_from_due_date\": 26, \"Num_of_Delayed_Payment\": 8, \"Credit_Utilization_Ratio\": 37.07286720451392, \"Credit_History_Age\": 20, \"Credit_Score\": \"Standard\"}, {\"Delay_from_due_date\": 13, \"Num_of_Delayed_Payment\": 4, \"Credit_Utilization_Ratio\": 31.08250020409861, \"Credit_History_Age\": 19, \"Credit_Score\": \"Good\"}, {\"Delay_from_due_date\": 22, \"Num_of_Delayed_Payment\": 12, \"Credit_Utilization_Ratio\": 27.96602142674137, \"Credit_History_Age\": 21, \"Credit_Score\": \"Standard\"}, {\"Delay_from_due_date\": 4, \"Num_of_Delayed_Payment\": 3, \"Credit_Utilization_Ratio\": 23.633636906024982, \"Credit_History_Age\": 15, \"Credit_Score\": \"Good\"}, {\"Delay_from_due_date\": 17, \"Num_of_Delayed_Payment\": 9, \"Credit_Utilization_Ratio\": 27.736688075991356, \"Credit_History_Age\": 25, \"Credit_Score\": \"Poor\"}, {\"Delay_from_due_date\": 20, \"Num_of_Delayed_Payment\": 4, \"Credit_Utilization_Ratio\": 37.67173577168317, \"Credit_History_Age\": 15, \"Credit_Score\": \"Poor\"}, {\"Delay_from_due_date\": 37, \"Num_of_Delayed_Payment\": 25, \"Credit_Utilization_Ratio\": 31.35561675295475, \"Credit_History_Age\": 13, \"Credit_Score\": \"Poor\"}, {\"Delay_from_due_date\": 24, \"Num_of_Delayed_Payment\": 8, \"Credit_Utilization_Ratio\": 35.42653635965197, \"Credit_History_Age\": 14, \"Credit_Score\": \"Standard\"}, {\"Delay_from_due_date\": 28, \"Num_of_Delayed_Payment\": 13, \"Credit_Utilization_Ratio\": 22.586998667167236, \"Credit_History_Age\": 25, \"Credit_Score\": \"Standard\"}, {\"Delay_from_due_date\": 38, \"Num_of_Delayed_Payment\": 20, \"Credit_Utilization_Ratio\": 28.22421285040137, \"Credit_History_Age\": 6, \"Credit_Score\": \"Poor\"}, {\"Delay_from_due_date\": 13, \"Num_of_Delayed_Payment\": 20, \"Credit_Utilization_Ratio\": 33.8947316805228, \"Credit_History_Age\": 18, \"Credit_Score\": \"Poor\"}, {\"Delay_from_due_date\": 23, \"Num_of_Delayed_Payment\": 9, \"Credit_Utilization_Ratio\": 36.987290181122304, \"Credit_History_Age\": 9, \"Credit_Score\": \"Poor\"}, {\"Delay_from_due_date\": 28, \"Num_of_Delayed_Payment\": 18, \"Credit_Utilization_Ratio\": 25.380413811648246, \"Credit_History_Age\": 32, \"Credit_Score\": \"Standard\"}, {\"Delay_from_due_date\": 12, \"Num_of_Delayed_Payment\": 20, \"Credit_Utilization_Ratio\": 37.38439085882467, \"Credit_History_Age\": 15, \"Credit_Score\": \"Standard\"}, {\"Delay_from_due_date\": 13, \"Num_of_Delayed_Payment\": 7, \"Credit_Utilization_Ratio\": 38.59852379343744, \"Credit_History_Age\": 10, \"Credit_Score\": \"Standard\"}, {\"Delay_from_due_date\": 20, \"Num_of_Delayed_Payment\": 13, \"Credit_Utilization_Ratio\": 37.1196580580168, \"Credit_History_Age\": 17, \"Credit_Score\": \"Good\"}, {\"Delay_from_due_date\": 11, \"Num_of_Delayed_Payment\": 12, \"Credit_Utilization_Ratio\": 27.627297626901964, \"Credit_History_Age\": 23, \"Credit_Score\": \"Good\"}, {\"Delay_from_due_date\": 22, \"Num_of_Delayed_Payment\": 23, \"Credit_Utilization_Ratio\": 24.655814308519364, \"Credit_History_Age\": 11, \"Credit_Score\": \"Standard\"}, {\"Delay_from_due_date\": 32, \"Num_of_Delayed_Payment\": 20, \"Credit_Utilization_Ratio\": 32.662977069280444, \"Credit_History_Age\": 3, \"Credit_Score\": \"Standard\"}, {\"Delay_from_due_date\": 31, \"Num_of_Delayed_Payment\": 17, \"Credit_Utilization_Ratio\": 25.483480026208337, \"Credit_History_Age\": 11, \"Credit_Score\": \"Poor\"}, {\"Delay_from_due_date\": 16, \"Num_of_Delayed_Payment\": 15, \"Credit_Utilization_Ratio\": 31.310630792688805, \"Credit_History_Age\": 17, \"Credit_Score\": \"Standard\"}, {\"Delay_from_due_date\": 7, \"Num_of_Delayed_Payment\": 1, \"Credit_Utilization_Ratio\": 38.60254294807244, \"Credit_History_Age\": 21, \"Credit_Score\": \"Standard\"}, {\"Delay_from_due_date\": 33, \"Num_of_Delayed_Payment\": 13, \"Credit_Utilization_Ratio\": 32.223028359517514, \"Credit_History_Age\": 17, \"Credit_Score\": \"Standard\"}, {\"Delay_from_due_date\": 19, \"Num_of_Delayed_Payment\": 11, \"Credit_Utilization_Ratio\": 33.63099575933696, \"Credit_History_Age\": 8, \"Credit_Score\": \"Standard\"}, {\"Delay_from_due_date\": 15, \"Num_of_Delayed_Payment\": 7, \"Credit_Utilization_Ratio\": 33.84551089168304, \"Credit_History_Age\": 17, \"Credit_Score\": \"Good\"}, {\"Delay_from_due_date\": 16, \"Num_of_Delayed_Payment\": 19, \"Credit_Utilization_Ratio\": 36.638249264221024, \"Credit_History_Age\": 7, \"Credit_Score\": \"Poor\"}, {\"Delay_from_due_date\": 28, \"Num_of_Delayed_Payment\": 18, \"Credit_Utilization_Ratio\": 30.26089880804901, \"Credit_History_Age\": 15, \"Credit_Score\": \"Poor\"}, {\"Delay_from_due_date\": 10, \"Num_of_Delayed_Payment\": 4, \"Credit_Utilization_Ratio\": 25.79297107921377, \"Credit_History_Age\": 29, \"Credit_Score\": \"Standard\"}, {\"Delay_from_due_date\": 33, \"Num_of_Delayed_Payment\": 15, \"Credit_Utilization_Ratio\": 39.94631732951883, \"Credit_History_Age\": 10, \"Credit_Score\": \"Poor\"}, {\"Delay_from_due_date\": 6, \"Num_of_Delayed_Payment\": 4, \"Credit_Utilization_Ratio\": 24.85627075118389, \"Credit_History_Age\": 23, \"Credit_Score\": \"Good\"}, {\"Delay_from_due_date\": 17, \"Num_of_Delayed_Payment\": 9, \"Credit_Utilization_Ratio\": 33.28087350484066, \"Credit_History_Age\": 12, \"Credit_Score\": \"Poor\"}, {\"Delay_from_due_date\": 14, \"Num_of_Delayed_Payment\": 6, \"Credit_Utilization_Ratio\": 38.310418892858586, \"Credit_History_Age\": 17, \"Credit_Score\": \"Good\"}, {\"Delay_from_due_date\": 16, \"Num_of_Delayed_Payment\": 9, \"Credit_Utilization_Ratio\": 41.14691627515202, \"Credit_History_Age\": 16, \"Credit_Score\": \"Standard\"}, {\"Delay_from_due_date\": 18, \"Num_of_Delayed_Payment\": 14, \"Credit_Utilization_Ratio\": 37.26877014964148, \"Credit_History_Age\": 32, \"Credit_Score\": \"Standard\"}, {\"Delay_from_due_date\": 49, \"Num_of_Delayed_Payment\": 10, \"Credit_Utilization_Ratio\": 37.26907027309812, \"Credit_History_Age\": 6, \"Credit_Score\": \"Standard\"}, {\"Delay_from_due_date\": 17, \"Num_of_Delayed_Payment\": 14, \"Credit_Utilization_Ratio\": 23.36968822920173, \"Credit_History_Age\": 12, \"Credit_Score\": \"Poor\"}, {\"Delay_from_due_date\": 27, \"Num_of_Delayed_Payment\": 18, \"Credit_Utilization_Ratio\": 27.543976358717327, \"Credit_History_Age\": 19, \"Credit_Score\": \"Standard\"}, {\"Delay_from_due_date\": 13, \"Num_of_Delayed_Payment\": 8, \"Credit_Utilization_Ratio\": 29.129991150605186, \"Credit_History_Age\": 20, \"Credit_Score\": \"Poor\"}, {\"Delay_from_due_date\": 9, \"Num_of_Delayed_Payment\": 8, \"Credit_Utilization_Ratio\": 44.69630957186141, \"Credit_History_Age\": 23, \"Credit_Score\": \"Standard\"}, {\"Delay_from_due_date\": 24, \"Num_of_Delayed_Payment\": 12, \"Credit_Utilization_Ratio\": 31.72176552170905, \"Credit_History_Age\": 26, \"Credit_Score\": \"Poor\"}, {\"Delay_from_due_date\": 5, \"Num_of_Delayed_Payment\": 9, \"Credit_Utilization_Ratio\": 38.67676467709339, \"Credit_History_Age\": 20, \"Credit_Score\": \"Standard\"}, {\"Delay_from_due_date\": 1, \"Num_of_Delayed_Payment\": 15, \"Credit_Utilization_Ratio\": 27.707866381634087, \"Credit_History_Age\": 24, \"Credit_Score\": \"Good\"}, {\"Delay_from_due_date\": 5, \"Num_of_Delayed_Payment\": 15, \"Credit_Utilization_Ratio\": 35.08871580275493, \"Credit_History_Age\": 30, \"Credit_Score\": \"Standard\"}, {\"Delay_from_due_date\": 11, \"Num_of_Delayed_Payment\": 2, \"Credit_Utilization_Ratio\": 34.14977553207698, \"Credit_History_Age\": 23, \"Credit_Score\": \"Poor\"}, {\"Delay_from_due_date\": 17, \"Num_of_Delayed_Payment\": 9, \"Credit_Utilization_Ratio\": 26.80689441075245, \"Credit_History_Age\": 20, \"Credit_Score\": \"Standard\"}, {\"Delay_from_due_date\": 27, \"Num_of_Delayed_Payment\": 18, \"Credit_Utilization_Ratio\": 36.65635691454936, \"Credit_History_Age\": 4, \"Credit_Score\": \"Standard\"}, {\"Delay_from_due_date\": 6, \"Num_of_Delayed_Payment\": 10, \"Credit_Utilization_Ratio\": 33.47609058088523, \"Credit_History_Age\": 10, \"Credit_Score\": \"Poor\"}, {\"Delay_from_due_date\": 34, \"Num_of_Delayed_Payment\": 14, \"Credit_Utilization_Ratio\": 28.553543764529024, \"Credit_History_Age\": 6, \"Credit_Score\": \"Poor\"}, {\"Delay_from_due_date\": 29, \"Num_of_Delayed_Payment\": 19, \"Credit_Utilization_Ratio\": 34.362143162230375, \"Credit_History_Age\": 4, \"Credit_Score\": \"Standard\"}, {\"Delay_from_due_date\": 15, \"Num_of_Delayed_Payment\": 17, \"Credit_Utilization_Ratio\": 25.65466074392097, \"Credit_History_Age\": 7, \"Credit_Score\": \"Standard\"}, {\"Delay_from_due_date\": 8, \"Num_of_Delayed_Payment\": 5, \"Credit_Utilization_Ratio\": 24.04698496581852, \"Credit_History_Age\": 22, \"Credit_Score\": \"Poor\"}, {\"Delay_from_due_date\": 12, \"Num_of_Delayed_Payment\": 9, \"Credit_Utilization_Ratio\": 31.17589186988164, \"Credit_History_Age\": 22, \"Credit_Score\": \"Standard\"}, {\"Delay_from_due_date\": 6, \"Num_of_Delayed_Payment\": 14, \"Credit_Utilization_Ratio\": 43.929375108557615, \"Credit_History_Age\": 29, \"Credit_Score\": \"Poor\"}, {\"Delay_from_due_date\": 13, \"Num_of_Delayed_Payment\": 10, \"Credit_Utilization_Ratio\": 32.67438067653426, \"Credit_History_Age\": 29, \"Credit_Score\": \"Good\"}, {\"Delay_from_due_date\": 36, \"Num_of_Delayed_Payment\": 21, \"Credit_Utilization_Ratio\": 32.01626277270973, \"Credit_History_Age\": 13, \"Credit_Score\": \"Standard\"}, {\"Delay_from_due_date\": 7, \"Num_of_Delayed_Payment\": 11, \"Credit_Utilization_Ratio\": 39.06789967119556, \"Credit_History_Age\": 16, \"Credit_Score\": \"Poor\"}, {\"Delay_from_due_date\": 5, \"Num_of_Delayed_Payment\": 15, \"Credit_Utilization_Ratio\": 23.047753717151537, \"Credit_History_Age\": 19, \"Credit_Score\": \"Standard\"}, {\"Delay_from_due_date\": 26, \"Num_of_Delayed_Payment\": 17, \"Credit_Utilization_Ratio\": 23.354058052850643, \"Credit_History_Age\": 18, \"Credit_Score\": \"Poor\"}, {\"Delay_from_due_date\": 14, \"Num_of_Delayed_Payment\": 19, \"Credit_Utilization_Ratio\": 33.9044056860389, \"Credit_History_Age\": 15, \"Credit_Score\": \"Standard\"}, {\"Delay_from_due_date\": 5, \"Num_of_Delayed_Payment\": 18, \"Credit_Utilization_Ratio\": 34.560672461731336, \"Credit_History_Age\": 6, \"Credit_Score\": \"Standard\"}, {\"Delay_from_due_date\": 29, \"Num_of_Delayed_Payment\": 15, \"Credit_Utilization_Ratio\": 37.082989332201976, \"Credit_History_Age\": 19, \"Credit_Score\": \"Standard\"}, {\"Delay_from_due_date\": 12, \"Num_of_Delayed_Payment\": 6, \"Credit_Utilization_Ratio\": 23.362310509212573, \"Credit_History_Age\": 30, \"Credit_Score\": \"Standard\"}, {\"Delay_from_due_date\": 10, \"Num_of_Delayed_Payment\": 19, \"Credit_Utilization_Ratio\": 33.57068479160641, \"Credit_History_Age\": 9, \"Credit_Score\": \"Poor\"}, {\"Delay_from_due_date\": 25, \"Num_of_Delayed_Payment\": 11, \"Credit_Utilization_Ratio\": 32.567281589787115, \"Credit_History_Age\": 10, \"Credit_Score\": \"Standard\"}, {\"Delay_from_due_date\": 4, \"Num_of_Delayed_Payment\": 18, \"Credit_Utilization_Ratio\": 28.18884909455675, \"Credit_History_Age\": 12, \"Credit_Score\": \"Standard\"}, {\"Delay_from_due_date\": 27, \"Num_of_Delayed_Payment\": 21, \"Credit_Utilization_Ratio\": 25.119171326797183, \"Credit_History_Age\": 32, \"Credit_Score\": \"Standard\"}, {\"Delay_from_due_date\": 10, \"Num_of_Delayed_Payment\": 10, \"Credit_Utilization_Ratio\": 32.55515298771845, \"Credit_History_Age\": 18, \"Credit_Score\": \"Standard\"}, {\"Delay_from_due_date\": 14, \"Num_of_Delayed_Payment\": 8, \"Credit_Utilization_Ratio\": 29.479042154445143, \"Credit_History_Age\": 18, \"Credit_Score\": \"Good\"}, {\"Delay_from_due_date\": 18, \"Num_of_Delayed_Payment\": 15, \"Credit_Utilization_Ratio\": 28.94753191924678, \"Credit_History_Age\": 6, \"Credit_Score\": \"Poor\"}, {\"Delay_from_due_date\": 8, \"Num_of_Delayed_Payment\": 4, \"Credit_Utilization_Ratio\": 38.79818496031441, \"Credit_History_Age\": 25, \"Credit_Score\": \"Standard\"}, {\"Delay_from_due_date\": 21, \"Num_of_Delayed_Payment\": 19, \"Credit_Utilization_Ratio\": 23.405139338447647, \"Credit_History_Age\": 8, \"Credit_Score\": \"Poor\"}, {\"Delay_from_due_date\": 33, \"Num_of_Delayed_Payment\": 15, \"Credit_Utilization_Ratio\": 27.506614013064237, \"Credit_History_Age\": 2, \"Credit_Score\": \"Standard\"}, {\"Delay_from_due_date\": 19, \"Num_of_Delayed_Payment\": 12, \"Credit_Utilization_Ratio\": 39.05994939861903, \"Credit_History_Age\": 28, \"Credit_Score\": \"Standard\"}, {\"Delay_from_due_date\": 38, \"Num_of_Delayed_Payment\": 23, \"Credit_Utilization_Ratio\": 35.010186499401165, \"Credit_History_Age\": 19, \"Credit_Score\": \"Poor\"}, {\"Delay_from_due_date\": 13, \"Num_of_Delayed_Payment\": 22, \"Credit_Utilization_Ratio\": 30.70328214466683, \"Credit_History_Age\": 15, \"Credit_Score\": \"Standard\"}, {\"Delay_from_due_date\": 11, \"Num_of_Delayed_Payment\": 1, \"Credit_Utilization_Ratio\": 29.82234559685, \"Credit_History_Age\": 18, \"Credit_Score\": \"Standard\"}, {\"Delay_from_due_date\": 12, \"Num_of_Delayed_Payment\": 1, \"Credit_Utilization_Ratio\": 26.665764773695035, \"Credit_History_Age\": 32, \"Credit_Score\": \"Standard\"}, {\"Delay_from_due_date\": 23, \"Num_of_Delayed_Payment\": 12, \"Credit_Utilization_Ratio\": 23.426801850812087, \"Credit_History_Age\": 16, \"Credit_Score\": \"Standard\"}, {\"Delay_from_due_date\": 15, \"Num_of_Delayed_Payment\": 13, \"Credit_Utilization_Ratio\": 38.419201131315496, \"Credit_History_Age\": 15, \"Credit_Score\": \"Standard\"}, {\"Delay_from_due_date\": 14, \"Num_of_Delayed_Payment\": 7, \"Credit_Utilization_Ratio\": 29.31879810293577, \"Credit_History_Age\": 28, \"Credit_Score\": \"Standard\"}, {\"Delay_from_due_date\": 9, \"Num_of_Delayed_Payment\": 20, \"Credit_Utilization_Ratio\": 28.90651056582479, \"Credit_History_Age\": 28, \"Credit_Score\": \"Standard\"}, {\"Delay_from_due_date\": 12, \"Num_of_Delayed_Payment\": 20, \"Credit_Utilization_Ratio\": 37.480013207694284, \"Credit_History_Age\": 13, \"Credit_Score\": \"Good\"}, {\"Delay_from_due_date\": 26, \"Num_of_Delayed_Payment\": 25, \"Credit_Utilization_Ratio\": 31.314890447199375, \"Credit_History_Age\": 1, \"Credit_Score\": \"Standard\"}, {\"Delay_from_due_date\": 16, \"Num_of_Delayed_Payment\": 10, \"Credit_Utilization_Ratio\": 30.996523285041533, \"Credit_History_Age\": 8, \"Credit_Score\": \"Poor\"}, {\"Delay_from_due_date\": 27, \"Num_of_Delayed_Payment\": 15, \"Credit_Utilization_Ratio\": 34.986087129821065, \"Credit_History_Age\": 28, \"Credit_Score\": \"Standard\"}, {\"Delay_from_due_date\": 7, \"Num_of_Delayed_Payment\": 13, \"Credit_Utilization_Ratio\": 28.76304400363854, \"Credit_History_Age\": 9, \"Credit_Score\": \"Standard\"}, {\"Delay_from_due_date\": 15, \"Num_of_Delayed_Payment\": 4, \"Credit_Utilization_Ratio\": 33.75216526749785, \"Credit_History_Age\": 26, \"Credit_Score\": \"Standard\"}, {\"Delay_from_due_date\": 11, \"Num_of_Delayed_Payment\": 3, \"Credit_Utilization_Ratio\": 29.731702240030977, \"Credit_History_Age\": 16, \"Credit_Score\": \"Standard\"}, {\"Delay_from_due_date\": 8, \"Num_of_Delayed_Payment\": 9, \"Credit_Utilization_Ratio\": 33.97360052577756, \"Credit_History_Age\": 15, \"Credit_Score\": \"Good\"}, {\"Delay_from_due_date\": 26, \"Num_of_Delayed_Payment\": 15, \"Credit_Utilization_Ratio\": 40.04744207277418, \"Credit_History_Age\": 18, \"Credit_Score\": \"Good\"}, {\"Delay_from_due_date\": 27, \"Num_of_Delayed_Payment\": 10, \"Credit_Utilization_Ratio\": 38.50951130709819, \"Credit_History_Age\": 27, \"Credit_Score\": \"Standard\"}, {\"Delay_from_due_date\": 23, \"Num_of_Delayed_Payment\": 15, \"Credit_Utilization_Ratio\": 29.55930438536148, \"Credit_History_Age\": 18, \"Credit_Score\": \"Poor\"}, {\"Delay_from_due_date\": 10, \"Num_of_Delayed_Payment\": 9, \"Credit_Utilization_Ratio\": 26.76324191945664, \"Credit_History_Age\": 22, \"Credit_Score\": \"Standard\"}, {\"Delay_from_due_date\": 27, \"Num_of_Delayed_Payment\": 9, \"Credit_Utilization_Ratio\": 32.688768479769124, \"Credit_History_Age\": 20, \"Credit_Score\": \"Good\"}, {\"Delay_from_due_date\": 4, \"Num_of_Delayed_Payment\": 8, \"Credit_Utilization_Ratio\": 39.072407915023305, \"Credit_History_Age\": 29, \"Credit_Score\": \"Standard\"}, {\"Delay_from_due_date\": 48, \"Num_of_Delayed_Payment\": 16, \"Credit_Utilization_Ratio\": 25.925206956159755, \"Credit_History_Age\": 1, \"Credit_Score\": \"Poor\"}, {\"Delay_from_due_date\": 32, \"Num_of_Delayed_Payment\": 11, \"Credit_Utilization_Ratio\": 25.667557512257, \"Credit_History_Age\": 23, \"Credit_Score\": \"Standard\"}, {\"Delay_from_due_date\": 26, \"Num_of_Delayed_Payment\": 15, \"Credit_Utilization_Ratio\": 39.056038516869776, \"Credit_History_Age\": 16, \"Credit_Score\": \"Poor\"}, {\"Delay_from_due_date\": 26, \"Num_of_Delayed_Payment\": 20, \"Credit_Utilization_Ratio\": 36.05845964061482, \"Credit_History_Age\": 20, \"Credit_Score\": \"Standard\"}, {\"Delay_from_due_date\": 7, \"Num_of_Delayed_Payment\": 8, \"Credit_Utilization_Ratio\": 36.79748414829493, \"Credit_History_Age\": 16, \"Credit_Score\": \"Poor\"}, {\"Delay_from_due_date\": 22, \"Num_of_Delayed_Payment\": 1, \"Credit_Utilization_Ratio\": 34.027895871006386, \"Credit_History_Age\": 21, \"Credit_Score\": \"Poor\"}, {\"Delay_from_due_date\": 19, \"Num_of_Delayed_Payment\": 12, \"Credit_Utilization_Ratio\": 31.020435471447858, \"Credit_History_Age\": 31, \"Credit_Score\": \"Good\"}, {\"Delay_from_due_date\": 24, \"Num_of_Delayed_Payment\": 10, \"Credit_Utilization_Ratio\": 40.39668905190733, \"Credit_History_Age\": 31, \"Credit_Score\": \"Poor\"}, {\"Delay_from_due_date\": 15, \"Num_of_Delayed_Payment\": 8, \"Credit_Utilization_Ratio\": 37.93886965552761, \"Credit_History_Age\": 30, \"Credit_Score\": \"Standard\"}, {\"Delay_from_due_date\": 26, \"Num_of_Delayed_Payment\": 5, \"Credit_Utilization_Ratio\": 29.869414204590505, \"Credit_History_Age\": 24, \"Credit_Score\": \"Standard\"}, {\"Delay_from_due_date\": 12, \"Num_of_Delayed_Payment\": 5, \"Credit_Utilization_Ratio\": 31.79429738895612, \"Credit_History_Age\": 28, \"Credit_Score\": \"Good\"}, {\"Delay_from_due_date\": 5, \"Num_of_Delayed_Payment\": 6, \"Credit_Utilization_Ratio\": 25.289526844210982, \"Credit_History_Age\": 23, \"Credit_Score\": \"Standard\"}, {\"Delay_from_due_date\": 7, \"Num_of_Delayed_Payment\": 1, \"Credit_Utilization_Ratio\": 28.80034369794017, \"Credit_History_Age\": 15, \"Credit_Score\": \"Poor\"}, {\"Delay_from_due_date\": 47, \"Num_of_Delayed_Payment\": 21, \"Credit_Utilization_Ratio\": 25.660541822870933, \"Credit_History_Age\": 6, \"Credit_Score\": \"Poor\"}, {\"Delay_from_due_date\": 15, \"Num_of_Delayed_Payment\": 8, \"Credit_Utilization_Ratio\": 32.409053428862784, \"Credit_History_Age\": 22, \"Credit_Score\": \"Standard\"}, {\"Delay_from_due_date\": 39, \"Num_of_Delayed_Payment\": 16, \"Credit_Utilization_Ratio\": 26.41426333236556, \"Credit_History_Age\": 14, \"Credit_Score\": \"Standard\"}, {\"Delay_from_due_date\": 24, \"Num_of_Delayed_Payment\": 18, \"Credit_Utilization_Ratio\": 21.74488350172792, \"Credit_History_Age\": 4, \"Credit_Score\": \"Poor\"}, {\"Delay_from_due_date\": 29, \"Num_of_Delayed_Payment\": 19, \"Credit_Utilization_Ratio\": 24.65896811848893, \"Credit_History_Age\": 13, \"Credit_Score\": \"Standard\"}, {\"Delay_from_due_date\": 51, \"Num_of_Delayed_Payment\": 11, \"Credit_Utilization_Ratio\": 36.773309826222615, \"Credit_History_Age\": 18, \"Credit_Score\": \"Poor\"}, {\"Delay_from_due_date\": 11, \"Num_of_Delayed_Payment\": 7, \"Credit_Utilization_Ratio\": 37.75151507003719, \"Credit_History_Age\": 18, \"Credit_Score\": \"Standard\"}, {\"Delay_from_due_date\": 30, \"Num_of_Delayed_Payment\": 17, \"Credit_Utilization_Ratio\": 29.24793341447165, \"Credit_History_Age\": 17, \"Credit_Score\": \"Standard\"}, {\"Delay_from_due_date\": 4, \"Num_of_Delayed_Payment\": 12, \"Credit_Utilization_Ratio\": 25.47388031569369, \"Credit_History_Age\": 24, \"Credit_Score\": \"Good\"}, {\"Delay_from_due_date\": 3, \"Num_of_Delayed_Payment\": 11, \"Credit_Utilization_Ratio\": 32.520841879106605, \"Credit_History_Age\": 23, \"Credit_Score\": \"Standard\"}, {\"Delay_from_due_date\": 5, \"Num_of_Delayed_Payment\": 16, \"Credit_Utilization_Ratio\": 28.931861931479176, \"Credit_History_Age\": 7, \"Credit_Score\": \"Good\"}, {\"Delay_from_due_date\": 23, \"Num_of_Delayed_Payment\": 16, \"Credit_Utilization_Ratio\": 26.222281223959524, \"Credit_History_Age\": 7, \"Credit_Score\": \"Standard\"}, {\"Delay_from_due_date\": 6, \"Num_of_Delayed_Payment\": 8, \"Credit_Utilization_Ratio\": 37.54391716650115, \"Credit_History_Age\": 25, \"Credit_Score\": \"Standard\"}, {\"Delay_from_due_date\": 18, \"Num_of_Delayed_Payment\": 18, \"Credit_Utilization_Ratio\": 25.569373087977446, \"Credit_History_Age\": 27, \"Credit_Score\": \"Standard\"}, {\"Delay_from_due_date\": 51, \"Num_of_Delayed_Payment\": 21, \"Credit_Utilization_Ratio\": 40.70516635548575, \"Credit_History_Age\": 10, \"Credit_Score\": \"Poor\"}, {\"Delay_from_due_date\": 28, \"Num_of_Delayed_Payment\": 17, \"Credit_Utilization_Ratio\": 38.53837805214743, \"Credit_History_Age\": 29, \"Credit_Score\": \"Poor\"}, {\"Delay_from_due_date\": 16, \"Num_of_Delayed_Payment\": 14, \"Credit_Utilization_Ratio\": 26.891045738201303, \"Credit_History_Age\": 29, \"Credit_Score\": \"Standard\"}, {\"Delay_from_due_date\": 11, \"Num_of_Delayed_Payment\": 18, \"Credit_Utilization_Ratio\": 26.669723881717104, \"Credit_History_Age\": 16, \"Credit_Score\": \"Good\"}, {\"Delay_from_due_date\": 24, \"Num_of_Delayed_Payment\": 25, \"Credit_Utilization_Ratio\": 31.394726371321944, \"Credit_History_Age\": 13, \"Credit_Score\": \"Standard\"}, {\"Delay_from_due_date\": 5, \"Num_of_Delayed_Payment\": 10, \"Credit_Utilization_Ratio\": 38.1017008772605, \"Credit_History_Age\": 18, \"Credit_Score\": \"Good\"}, {\"Delay_from_due_date\": 29, \"Num_of_Delayed_Payment\": 12, \"Credit_Utilization_Ratio\": 35.43732065055346, \"Credit_History_Age\": 28, \"Credit_Score\": \"Good\"}, {\"Delay_from_due_date\": 6, \"Num_of_Delayed_Payment\": 14, \"Credit_Utilization_Ratio\": 27.1396599047849, \"Credit_History_Age\": 11, \"Credit_Score\": \"Standard\"}, {\"Delay_from_due_date\": 24, \"Num_of_Delayed_Payment\": 14, \"Credit_Utilization_Ratio\": 29.00948477705543, \"Credit_History_Age\": 32, \"Credit_Score\": \"Good\"}, {\"Delay_from_due_date\": 21, \"Num_of_Delayed_Payment\": 14, \"Credit_Utilization_Ratio\": 22.84947685914315, \"Credit_History_Age\": 17, \"Credit_Score\": \"Standard\"}, {\"Delay_from_due_date\": -2, \"Num_of_Delayed_Payment\": 8, \"Credit_Utilization_Ratio\": 28.07591442842645, \"Credit_History_Age\": 30, \"Credit_Score\": \"Good\"}, {\"Delay_from_due_date\": 3, \"Num_of_Delayed_Payment\": 9, \"Credit_Utilization_Ratio\": 38.91496371405442, \"Credit_History_Age\": 18, \"Credit_Score\": \"Poor\"}, {\"Delay_from_due_date\": -4, \"Num_of_Delayed_Payment\": 9, \"Credit_Utilization_Ratio\": 36.24857222880238, \"Credit_History_Age\": 20, \"Credit_Score\": \"Poor\"}, {\"Delay_from_due_date\": 18, \"Num_of_Delayed_Payment\": 17, \"Credit_Utilization_Ratio\": 34.68634869112084, \"Credit_History_Age\": 15, \"Credit_Score\": \"Standard\"}, {\"Delay_from_due_date\": 14, \"Num_of_Delayed_Payment\": 10, \"Credit_Utilization_Ratio\": 34.15619779348541, \"Credit_History_Age\": 18, \"Credit_Score\": \"Good\"}, {\"Delay_from_due_date\": 37, \"Num_of_Delayed_Payment\": 14, \"Credit_Utilization_Ratio\": 34.76435115177541, \"Credit_History_Age\": 9, \"Credit_Score\": \"Standard\"}, {\"Delay_from_due_date\": 33, \"Num_of_Delayed_Payment\": 8, \"Credit_Utilization_Ratio\": 27.391043354367643, \"Credit_History_Age\": 27, \"Credit_Score\": \"Standard\"}, {\"Delay_from_due_date\": 27, \"Num_of_Delayed_Payment\": 12, \"Credit_Utilization_Ratio\": 38.2222740017141, \"Credit_History_Age\": 18, \"Credit_Score\": \"Standard\"}, {\"Delay_from_due_date\": 8, \"Num_of_Delayed_Payment\": 7, \"Credit_Utilization_Ratio\": 42.76986440325711, \"Credit_History_Age\": 32, \"Credit_Score\": \"Good\"}, {\"Delay_from_due_date\": 40, \"Num_of_Delayed_Payment\": 16, \"Credit_Utilization_Ratio\": 38.77032361795143, \"Credit_History_Age\": 6, \"Credit_Score\": \"Poor\"}, {\"Delay_from_due_date\": 53, \"Num_of_Delayed_Payment\": 19, \"Credit_Utilization_Ratio\": 22.67071762532228, \"Credit_History_Age\": 7, \"Credit_Score\": \"Poor\"}, {\"Delay_from_due_date\": 14, \"Num_of_Delayed_Payment\": 7, \"Credit_Utilization_Ratio\": 38.8429153780037, \"Credit_History_Age\": 26, \"Credit_Score\": \"Good\"}, {\"Delay_from_due_date\": 7, \"Num_of_Delayed_Payment\": 1, \"Credit_Utilization_Ratio\": 33.06747344291296, \"Credit_History_Age\": 31, \"Credit_Score\": \"Poor\"}, {\"Delay_from_due_date\": 23, \"Num_of_Delayed_Payment\": 10, \"Credit_Utilization_Ratio\": 38.90646965549959, \"Credit_History_Age\": 22, \"Credit_Score\": \"Standard\"}, {\"Delay_from_due_date\": 24, \"Num_of_Delayed_Payment\": 10, \"Credit_Utilization_Ratio\": 22.99651565446869, \"Credit_History_Age\": 30, \"Credit_Score\": \"Standard\"}, {\"Delay_from_due_date\": 28, \"Num_of_Delayed_Payment\": 11, \"Credit_Utilization_Ratio\": 40.543900280686046, \"Credit_History_Age\": 29, \"Credit_Score\": \"Standard\"}, {\"Delay_from_due_date\": 6, \"Num_of_Delayed_Payment\": 14, \"Credit_Utilization_Ratio\": 28.7492591205648, \"Credit_History_Age\": 16, \"Credit_Score\": \"Standard\"}, {\"Delay_from_due_date\": 12, \"Num_of_Delayed_Payment\": 4, \"Credit_Utilization_Ratio\": 28.886543319367384, \"Credit_History_Age\": 16, \"Credit_Score\": \"Good\"}, {\"Delay_from_due_date\": 14, \"Num_of_Delayed_Payment\": 8, \"Credit_Utilization_Ratio\": 35.04540627773264, \"Credit_History_Age\": 31, \"Credit_Score\": \"Good\"}, {\"Delay_from_due_date\": 16, \"Num_of_Delayed_Payment\": 14, \"Credit_Utilization_Ratio\": 37.46636620249188, \"Credit_History_Age\": 28, \"Credit_Score\": \"Standard\"}, {\"Delay_from_due_date\": 3, \"Num_of_Delayed_Payment\": 0, \"Credit_Utilization_Ratio\": 33.863502703270534, \"Credit_History_Age\": 17, \"Credit_Score\": \"Good\"}, {\"Delay_from_due_date\": 25, \"Num_of_Delayed_Payment\": 14, \"Credit_Utilization_Ratio\": 38.40728694934313, \"Credit_History_Age\": 26, \"Credit_Score\": \"Standard\"}, {\"Delay_from_due_date\": 11, \"Num_of_Delayed_Payment\": 12, \"Credit_Utilization_Ratio\": 34.60775179264148, \"Credit_History_Age\": 32, \"Credit_Score\": \"Standard\"}, {\"Delay_from_due_date\": 5, \"Num_of_Delayed_Payment\": 15, \"Credit_Utilization_Ratio\": 36.08104036279918, \"Credit_History_Age\": 18, \"Credit_Score\": \"Standard\"}, {\"Delay_from_due_date\": 17, \"Num_of_Delayed_Payment\": 13, \"Credit_Utilization_Ratio\": 37.894024376345385, \"Credit_History_Age\": 7, \"Credit_Score\": \"Poor\"}, {\"Delay_from_due_date\": 13, \"Num_of_Delayed_Payment\": 19, \"Credit_Utilization_Ratio\": 35.46837953276163, \"Credit_History_Age\": 33, \"Credit_Score\": \"Good\"}, {\"Delay_from_due_date\": 18, \"Num_of_Delayed_Payment\": 9, \"Credit_Utilization_Ratio\": 26.346121938969787, \"Credit_History_Age\": 30, \"Credit_Score\": \"Good\"}, {\"Delay_from_due_date\": 8, \"Num_of_Delayed_Payment\": 7, \"Credit_Utilization_Ratio\": 33.110870392103244, \"Credit_History_Age\": 29, \"Credit_Score\": \"Good\"}, {\"Delay_from_due_date\": 35, \"Num_of_Delayed_Payment\": 23, \"Credit_Utilization_Ratio\": 33.43226917517668, \"Credit_History_Age\": 6, \"Credit_Score\": \"Standard\"}, {\"Delay_from_due_date\": 13, \"Num_of_Delayed_Payment\": 13, \"Credit_Utilization_Ratio\": 33.70148793464839, \"Credit_History_Age\": 22, \"Credit_Score\": \"Poor\"}, {\"Delay_from_due_date\": 11, \"Num_of_Delayed_Payment\": 18, \"Credit_Utilization_Ratio\": 29.04832966981894, \"Credit_History_Age\": 30, \"Credit_Score\": \"Standard\"}, {\"Delay_from_due_date\": 25, \"Num_of_Delayed_Payment\": 12, \"Credit_Utilization_Ratio\": 36.0442581494864, \"Credit_History_Age\": 9, \"Credit_Score\": \"Poor\"}, {\"Delay_from_due_date\": 41, \"Num_of_Delayed_Payment\": 15, \"Credit_Utilization_Ratio\": 32.51765851546466, \"Credit_History_Age\": 16, \"Credit_Score\": \"Poor\"}, {\"Delay_from_due_date\": 19, \"Num_of_Delayed_Payment\": 14, \"Credit_Utilization_Ratio\": 24.200602004425875, \"Credit_History_Age\": 6, \"Credit_Score\": \"Standard\"}, {\"Delay_from_due_date\": 16, \"Num_of_Delayed_Payment\": 20, \"Credit_Utilization_Ratio\": 23.369178540358487, \"Credit_History_Age\": 32, \"Credit_Score\": \"Poor\"}, {\"Delay_from_due_date\": 13, \"Num_of_Delayed_Payment\": 13, \"Credit_Utilization_Ratio\": 37.98904525437329, \"Credit_History_Age\": 10, \"Credit_Score\": \"Standard\"}, {\"Delay_from_due_date\": 18, \"Num_of_Delayed_Payment\": 12, \"Credit_Utilization_Ratio\": 31.44270188763371, \"Credit_History_Age\": 28, \"Credit_Score\": \"Standard\"}, {\"Delay_from_due_date\": 21, \"Num_of_Delayed_Payment\": 24, \"Credit_Utilization_Ratio\": 28.196088733612807, \"Credit_History_Age\": 0, \"Credit_Score\": \"Standard\"}, {\"Delay_from_due_date\": 16, \"Num_of_Delayed_Payment\": 11, \"Credit_Utilization_Ratio\": 28.13328946450271, \"Credit_History_Age\": 11, \"Credit_Score\": \"Standard\"}, {\"Delay_from_due_date\": 2, \"Num_of_Delayed_Payment\": 12, \"Credit_Utilization_Ratio\": 38.38009096412293, \"Credit_History_Age\": 31, \"Credit_Score\": \"Good\"}, {\"Delay_from_due_date\": 20, \"Num_of_Delayed_Payment\": 11, \"Credit_Utilization_Ratio\": 24.37071824511948, \"Credit_History_Age\": 26, \"Credit_Score\": \"Poor\"}, {\"Delay_from_due_date\": 7, \"Num_of_Delayed_Payment\": 13, \"Credit_Utilization_Ratio\": 37.948323515588754, \"Credit_History_Age\": 21, \"Credit_Score\": \"Good\"}, {\"Delay_from_due_date\": 38, \"Num_of_Delayed_Payment\": 23, \"Credit_Utilization_Ratio\": 28.68031160959621, \"Credit_History_Age\": 19, \"Credit_Score\": \"Standard\"}, {\"Delay_from_due_date\": 5, \"Num_of_Delayed_Payment\": 9, \"Credit_Utilization_Ratio\": 35.5509922550925, \"Credit_History_Age\": 6, \"Credit_Score\": \"Standard\"}, {\"Delay_from_due_date\": 10, \"Num_of_Delayed_Payment\": 11, \"Credit_Utilization_Ratio\": 26.52667631954636, \"Credit_History_Age\": 28, \"Credit_Score\": \"Standard\"}, {\"Delay_from_due_date\": 14, \"Num_of_Delayed_Payment\": 20, \"Credit_Utilization_Ratio\": 39.542688274731816, \"Credit_History_Age\": 32, \"Credit_Score\": \"Standard\"}, {\"Delay_from_due_date\": 41, \"Num_of_Delayed_Payment\": 22, \"Credit_Utilization_Ratio\": 31.59044567492907, \"Credit_History_Age\": 10, \"Credit_Score\": \"Standard\"}, {\"Delay_from_due_date\": 13, \"Num_of_Delayed_Payment\": 10, \"Credit_Utilization_Ratio\": 36.30821159394613, \"Credit_History_Age\": 6, \"Credit_Score\": \"Poor\"}, {\"Delay_from_due_date\": 36, \"Num_of_Delayed_Payment\": 15, \"Credit_Utilization_Ratio\": 28.582170658513164, \"Credit_History_Age\": 6, \"Credit_Score\": \"Poor\"}, {\"Delay_from_due_date\": 53, \"Num_of_Delayed_Payment\": 15, \"Credit_Utilization_Ratio\": 27.77484506933656, \"Credit_History_Age\": 9, \"Credit_Score\": \"Poor\"}, {\"Delay_from_due_date\": 22, \"Num_of_Delayed_Payment\": 20, \"Credit_Utilization_Ratio\": 24.54693893311708, \"Credit_History_Age\": 30, \"Credit_Score\": \"Standard\"}, {\"Delay_from_due_date\": 40, \"Num_of_Delayed_Payment\": 21, \"Credit_Utilization_Ratio\": 31.41268685508513, \"Credit_History_Age\": 11, \"Credit_Score\": \"Standard\"}, {\"Delay_from_due_date\": 25, \"Num_of_Delayed_Payment\": 13, \"Credit_Utilization_Ratio\": 41.06218818911754, \"Credit_History_Age\": 18, \"Credit_Score\": \"Standard\"}, {\"Delay_from_due_date\": 8, \"Num_of_Delayed_Payment\": 16, \"Credit_Utilization_Ratio\": 25.20285922009104, \"Credit_History_Age\": 11, \"Credit_Score\": \"Standard\"}, {\"Delay_from_due_date\": 10, \"Num_of_Delayed_Payment\": 1, \"Credit_Utilization_Ratio\": 31.340142338290185, \"Credit_History_Age\": 31, \"Credit_Score\": \"Standard\"}, {\"Delay_from_due_date\": 9, \"Num_of_Delayed_Payment\": 8, \"Credit_Utilization_Ratio\": 32.3100949209439, \"Credit_History_Age\": 16, \"Credit_Score\": \"Good\"}, {\"Delay_from_due_date\": 8, \"Num_of_Delayed_Payment\": 16, \"Credit_Utilization_Ratio\": 35.178047819851045, \"Credit_History_Age\": 13, \"Credit_Score\": \"Standard\"}, {\"Delay_from_due_date\": 30, \"Num_of_Delayed_Payment\": 20, \"Credit_Utilization_Ratio\": 35.699108705868895, \"Credit_History_Age\": 24, \"Credit_Score\": \"Standard\"}, {\"Delay_from_due_date\": 11, \"Num_of_Delayed_Payment\": 17, \"Credit_Utilization_Ratio\": 35.31604974402123, \"Credit_History_Age\": 19, \"Credit_Score\": \"Standard\"}, {\"Delay_from_due_date\": 30, \"Num_of_Delayed_Payment\": 9, \"Credit_Utilization_Ratio\": 29.27337870960341, \"Credit_History_Age\": 25, \"Credit_Score\": \"Standard\"}, {\"Delay_from_due_date\": 30, \"Num_of_Delayed_Payment\": 19, \"Credit_Utilization_Ratio\": 27.05063233072913, \"Credit_History_Age\": 2, \"Credit_Score\": \"Poor\"}, {\"Delay_from_due_date\": 19, \"Num_of_Delayed_Payment\": 13, \"Credit_Utilization_Ratio\": 34.14724609832981, \"Credit_History_Age\": 17, \"Credit_Score\": \"Standard\"}, {\"Delay_from_due_date\": 2, \"Num_of_Delayed_Payment\": 2, \"Credit_Utilization_Ratio\": 36.17022672716735, \"Credit_History_Age\": 16, \"Credit_Score\": \"Standard\"}, {\"Delay_from_due_date\": 27, \"Num_of_Delayed_Payment\": 13, \"Credit_Utilization_Ratio\": 31.67848006268217, \"Credit_History_Age\": 16, \"Credit_Score\": \"Good\"}, {\"Delay_from_due_date\": 25, \"Num_of_Delayed_Payment\": 20, \"Credit_Utilization_Ratio\": 38.604754166571695, \"Credit_History_Age\": 27, \"Credit_Score\": \"Standard\"}, {\"Delay_from_due_date\": 19, \"Num_of_Delayed_Payment\": 19, \"Credit_Utilization_Ratio\": 23.98851964757257, \"Credit_History_Age\": 10, \"Credit_Score\": \"Standard\"}, {\"Delay_from_due_date\": 14, \"Num_of_Delayed_Payment\": 16, \"Credit_Utilization_Ratio\": 36.66679652925097, \"Credit_History_Age\": 16, \"Credit_Score\": \"Standard\"}, {\"Delay_from_due_date\": 17, \"Num_of_Delayed_Payment\": 18, \"Credit_Utilization_Ratio\": 29.384257973056013, \"Credit_History_Age\": 18, \"Credit_Score\": \"Standard\"}, {\"Delay_from_due_date\": 12, \"Num_of_Delayed_Payment\": 14, \"Credit_Utilization_Ratio\": 29.064368898144497, \"Credit_History_Age\": 23, \"Credit_Score\": \"Standard\"}, {\"Delay_from_due_date\": 14, \"Num_of_Delayed_Payment\": 16, \"Credit_Utilization_Ratio\": 27.436406326616435, \"Credit_History_Age\": 27, \"Credit_Score\": \"Poor\"}, {\"Delay_from_due_date\": 4, \"Num_of_Delayed_Payment\": 13, \"Credit_Utilization_Ratio\": 27.977586557415627, \"Credit_History_Age\": 29, \"Credit_Score\": \"Standard\"}, {\"Delay_from_due_date\": 34, \"Num_of_Delayed_Payment\": 16, \"Credit_Utilization_Ratio\": 31.69798065355676, \"Credit_History_Age\": 19, \"Credit_Score\": \"Standard\"}, {\"Delay_from_due_date\": 14, \"Num_of_Delayed_Payment\": 11, \"Credit_Utilization_Ratio\": 30.40662032185308, \"Credit_History_Age\": 17, \"Credit_Score\": \"Good\"}, {\"Delay_from_due_date\": 0, \"Num_of_Delayed_Payment\": 4, \"Credit_Utilization_Ratio\": 31.86391479645152, \"Credit_History_Age\": 31, \"Credit_Score\": \"Good\"}, {\"Delay_from_due_date\": 4, \"Num_of_Delayed_Payment\": 6, \"Credit_Utilization_Ratio\": 25.570380518562907, \"Credit_History_Age\": 26, \"Credit_Score\": \"Good\"}, {\"Delay_from_due_date\": 17, \"Num_of_Delayed_Payment\": 20, \"Credit_Utilization_Ratio\": 37.13484698273496, \"Credit_History_Age\": 24, \"Credit_Score\": \"Standard\"}, {\"Delay_from_due_date\": 27, \"Num_of_Delayed_Payment\": 20, \"Credit_Utilization_Ratio\": 34.86780676340621, \"Credit_History_Age\": 1, \"Credit_Score\": \"Poor\"}, {\"Delay_from_due_date\": 24, \"Num_of_Delayed_Payment\": 17, \"Credit_Utilization_Ratio\": 36.98090665894471, \"Credit_History_Age\": 25, \"Credit_Score\": \"Standard\"}, {\"Delay_from_due_date\": 15, \"Num_of_Delayed_Payment\": 18, \"Credit_Utilization_Ratio\": 33.746420575477345, \"Credit_History_Age\": 18, \"Credit_Score\": \"Standard\"}, {\"Delay_from_due_date\": 27, \"Num_of_Delayed_Payment\": 21, \"Credit_Utilization_Ratio\": 25.74337505249221, \"Credit_History_Age\": 13, \"Credit_Score\": \"Poor\"}, {\"Delay_from_due_date\": 42, \"Num_of_Delayed_Payment\": 19, \"Credit_Utilization_Ratio\": 32.663877605549395, \"Credit_History_Age\": 18, \"Credit_Score\": \"Poor\"}, {\"Delay_from_due_date\": 7, \"Num_of_Delayed_Payment\": 11, \"Credit_Utilization_Ratio\": 28.575210109371163, \"Credit_History_Age\": 30, \"Credit_Score\": \"Good\"}, {\"Delay_from_due_date\": 20, \"Num_of_Delayed_Payment\": 15, \"Credit_Utilization_Ratio\": 37.67402377320543, \"Credit_History_Age\": 12, \"Credit_Score\": \"Standard\"}, {\"Delay_from_due_date\": 19, \"Num_of_Delayed_Payment\": 3, \"Credit_Utilization_Ratio\": 44.724946553132526, \"Credit_History_Age\": 27, \"Credit_Score\": \"Poor\"}, {\"Delay_from_due_date\": 45, \"Num_of_Delayed_Payment\": 16, \"Credit_Utilization_Ratio\": 24.599772272405872, \"Credit_History_Age\": 15, \"Credit_Score\": \"Standard\"}, {\"Delay_from_due_date\": 16, \"Num_of_Delayed_Payment\": 13, \"Credit_Utilization_Ratio\": 23.355433498101355, \"Credit_History_Age\": 23, \"Credit_Score\": \"Good\"}, {\"Delay_from_due_date\": 10, \"Num_of_Delayed_Payment\": 15, \"Credit_Utilization_Ratio\": 34.19245061115325, \"Credit_History_Age\": 16, \"Credit_Score\": \"Standard\"}, {\"Delay_from_due_date\": 18, \"Num_of_Delayed_Payment\": 25, \"Credit_Utilization_Ratio\": 32.30110228005818, \"Credit_History_Age\": 2, \"Credit_Score\": \"Poor\"}, {\"Delay_from_due_date\": 40, \"Num_of_Delayed_Payment\": 16, \"Credit_Utilization_Ratio\": 29.48334256700873, \"Credit_History_Age\": 19, \"Credit_Score\": \"Poor\"}, {\"Delay_from_due_date\": 18, \"Num_of_Delayed_Payment\": 14, \"Credit_Utilization_Ratio\": 40.45307066707023, \"Credit_History_Age\": 9, \"Credit_Score\": \"Poor\"}, {\"Delay_from_due_date\": 8, \"Num_of_Delayed_Payment\": 22, \"Credit_Utilization_Ratio\": 25.79643071511667, \"Credit_History_Age\": 16, \"Credit_Score\": \"Standard\"}, {\"Delay_from_due_date\": 14, \"Num_of_Delayed_Payment\": 11, \"Credit_Utilization_Ratio\": 26.255276560046912, \"Credit_History_Age\": 21, \"Credit_Score\": \"Good\"}, {\"Delay_from_due_date\": 21, \"Num_of_Delayed_Payment\": 20, \"Credit_Utilization_Ratio\": 32.689970272396074, \"Credit_History_Age\": 13, \"Credit_Score\": \"Standard\"}, {\"Delay_from_due_date\": 3, \"Num_of_Delayed_Payment\": 0, \"Credit_Utilization_Ratio\": 22.228752489857023, \"Credit_History_Age\": 27, \"Credit_Score\": \"Good\"}, {\"Delay_from_due_date\": 44, \"Num_of_Delayed_Payment\": 25, \"Credit_Utilization_Ratio\": 23.34023658190849, \"Credit_History_Age\": 9, \"Credit_Score\": \"Standard\"}, {\"Delay_from_due_date\": 13, \"Num_of_Delayed_Payment\": 7, \"Credit_Utilization_Ratio\": 31.35540072214929, \"Credit_History_Age\": 19, \"Credit_Score\": \"Good\"}, {\"Delay_from_due_date\": 5, \"Num_of_Delayed_Payment\": 8, \"Credit_Utilization_Ratio\": 35.87264909194422, \"Credit_History_Age\": 18, \"Credit_Score\": \"Poor\"}, {\"Delay_from_due_date\": 46, \"Num_of_Delayed_Payment\": 20, \"Credit_Utilization_Ratio\": 37.90723133687271, \"Credit_History_Age\": 6, \"Credit_Score\": \"Standard\"}, {\"Delay_from_due_date\": 48, \"Num_of_Delayed_Payment\": 15, \"Credit_Utilization_Ratio\": 38.2107597905264, \"Credit_History_Age\": 15, \"Credit_Score\": \"Poor\"}, {\"Delay_from_due_date\": 6, \"Num_of_Delayed_Payment\": 17, \"Credit_Utilization_Ratio\": 30.949100519878684, \"Credit_History_Age\": 31, \"Credit_Score\": \"Standard\"}, {\"Delay_from_due_date\": 8, \"Num_of_Delayed_Payment\": 14, \"Credit_Utilization_Ratio\": 38.39069917777184, \"Credit_History_Age\": 33, \"Credit_Score\": \"Standard\"}, {\"Delay_from_due_date\": 14, \"Num_of_Delayed_Payment\": 11, \"Credit_Utilization_Ratio\": 31.148341085972994, \"Credit_History_Age\": 5, \"Credit_Score\": \"Standard\"}, {\"Delay_from_due_date\": 29, \"Num_of_Delayed_Payment\": 10, \"Credit_Utilization_Ratio\": 37.166593758253775, \"Credit_History_Age\": 18, \"Credit_Score\": \"Poor\"}, {\"Delay_from_due_date\": 24, \"Num_of_Delayed_Payment\": 12, \"Credit_Utilization_Ratio\": 34.62314384609375, \"Credit_History_Age\": 33, \"Credit_Score\": \"Standard\"}, {\"Delay_from_due_date\": 11, \"Num_of_Delayed_Payment\": 0, \"Credit_Utilization_Ratio\": 35.12159710143377, \"Credit_History_Age\": 21, \"Credit_Score\": \"Good\"}, {\"Delay_from_due_date\": 15, \"Num_of_Delayed_Payment\": 20, \"Credit_Utilization_Ratio\": 30.805431762880264, \"Credit_History_Age\": 16, \"Credit_Score\": \"Standard\"}, {\"Delay_from_due_date\": 16, \"Num_of_Delayed_Payment\": 8, \"Credit_Utilization_Ratio\": 34.3576502428514, \"Credit_History_Age\": 29, \"Credit_Score\": \"Poor\"}, {\"Delay_from_due_date\": 15, \"Num_of_Delayed_Payment\": 12, \"Credit_Utilization_Ratio\": 27.0516907093646, \"Credit_History_Age\": 28, \"Credit_Score\": \"Good\"}, {\"Delay_from_due_date\": 17, \"Num_of_Delayed_Payment\": 13, \"Credit_Utilization_Ratio\": 38.97645878323915, \"Credit_History_Age\": 18, \"Credit_Score\": \"Standard\"}, {\"Delay_from_due_date\": 20, \"Num_of_Delayed_Payment\": 23, \"Credit_Utilization_Ratio\": 28.441005957117305, \"Credit_History_Age\": 6, \"Credit_Score\": \"Poor\"}, {\"Delay_from_due_date\": 52, \"Num_of_Delayed_Payment\": 24, \"Credit_Utilization_Ratio\": 30.689204958153763, \"Credit_History_Age\": 4, \"Credit_Score\": \"Poor\"}, {\"Delay_from_due_date\": 12, \"Num_of_Delayed_Payment\": 8, \"Credit_Utilization_Ratio\": 22.623312591232143, \"Credit_History_Age\": 18, \"Credit_Score\": \"Standard\"}, {\"Delay_from_due_date\": 21, \"Num_of_Delayed_Payment\": 20, \"Credit_Utilization_Ratio\": 39.68633124533972, \"Credit_History_Age\": 9, \"Credit_Score\": \"Standard\"}, {\"Delay_from_due_date\": 40, \"Num_of_Delayed_Payment\": 21, \"Credit_Utilization_Ratio\": 30.30548834479072, \"Credit_History_Age\": 12, \"Credit_Score\": \"Poor\"}, {\"Delay_from_due_date\": 20, \"Num_of_Delayed_Payment\": 10, \"Credit_Utilization_Ratio\": 28.34561310375175, \"Credit_History_Age\": 14, \"Credit_Score\": \"Poor\"}, {\"Delay_from_due_date\": 12, \"Num_of_Delayed_Payment\": 14, \"Credit_Utilization_Ratio\": 26.1419156383138, \"Credit_History_Age\": 14, \"Credit_Score\": \"Standard\"}, {\"Delay_from_due_date\": 28, \"Num_of_Delayed_Payment\": 11, \"Credit_Utilization_Ratio\": 26.665886645073197, \"Credit_History_Age\": 15, \"Credit_Score\": \"Standard\"}, {\"Delay_from_due_date\": 17, \"Num_of_Delayed_Payment\": 13, \"Credit_Utilization_Ratio\": 39.13004595650396, \"Credit_History_Age\": 31, \"Credit_Score\": \"Standard\"}, {\"Delay_from_due_date\": 24, \"Num_of_Delayed_Payment\": 8, \"Credit_Utilization_Ratio\": 36.07865204300621, \"Credit_History_Age\": 27, \"Credit_Score\": \"Poor\"}, {\"Delay_from_due_date\": 26, \"Num_of_Delayed_Payment\": 8, \"Credit_Utilization_Ratio\": 29.61105901396165, \"Credit_History_Age\": 31, \"Credit_Score\": \"Standard\"}, {\"Delay_from_due_date\": 6, \"Num_of_Delayed_Payment\": 10, \"Credit_Utilization_Ratio\": 32.463765157803955, \"Credit_History_Age\": 26, \"Credit_Score\": \"Standard\"}, {\"Delay_from_due_date\": 47, \"Num_of_Delayed_Payment\": 12, \"Credit_Utilization_Ratio\": 39.39049313763485, \"Credit_History_Age\": 5, \"Credit_Score\": \"Poor\"}, {\"Delay_from_due_date\": 11, \"Num_of_Delayed_Payment\": 12, \"Credit_Utilization_Ratio\": 29.36507309949868, \"Credit_History_Age\": 6, \"Credit_Score\": \"Poor\"}, {\"Delay_from_due_date\": 6, \"Num_of_Delayed_Payment\": 16, \"Credit_Utilization_Ratio\": 35.35739293997192, \"Credit_History_Age\": 22, \"Credit_Score\": \"Good\"}, {\"Delay_from_due_date\": 11, \"Num_of_Delayed_Payment\": 21, \"Credit_Utilization_Ratio\": 39.97897234403923, \"Credit_History_Age\": 23, \"Credit_Score\": \"Standard\"}, {\"Delay_from_due_date\": 11, \"Num_of_Delayed_Payment\": 20, \"Credit_Utilization_Ratio\": 30.16610176043579, \"Credit_History_Age\": 32, \"Credit_Score\": \"Good\"}, {\"Delay_from_due_date\": 19, \"Num_of_Delayed_Payment\": 17, \"Credit_Utilization_Ratio\": 32.136133650753735, \"Credit_History_Age\": 6, \"Credit_Score\": \"Poor\"}, {\"Delay_from_due_date\": 45, \"Num_of_Delayed_Payment\": 17, \"Credit_Utilization_Ratio\": 27.398254715259903, \"Credit_History_Age\": 12, \"Credit_Score\": \"Poor\"}, {\"Delay_from_due_date\": 9, \"Num_of_Delayed_Payment\": 17, \"Credit_Utilization_Ratio\": 33.765574475233656, \"Credit_History_Age\": 17, \"Credit_Score\": \"Standard\"}, {\"Delay_from_due_date\": 11, \"Num_of_Delayed_Payment\": 13, \"Credit_Utilization_Ratio\": 32.90434112085433, \"Credit_History_Age\": 6, \"Credit_Score\": \"Poor\"}, {\"Delay_from_due_date\": 24, \"Num_of_Delayed_Payment\": 14, \"Credit_Utilization_Ratio\": 39.13399855985747, \"Credit_History_Age\": 22, \"Credit_Score\": \"Good\"}, {\"Delay_from_due_date\": 18, \"Num_of_Delayed_Payment\": 19, \"Credit_Utilization_Ratio\": 29.50409936318718, \"Credit_History_Age\": 26, \"Credit_Score\": \"Standard\"}, {\"Delay_from_due_date\": 10, \"Num_of_Delayed_Payment\": 8, \"Credit_Utilization_Ratio\": 31.547794306705946, \"Credit_History_Age\": 33, \"Credit_Score\": \"Standard\"}, {\"Delay_from_due_date\": 13, \"Num_of_Delayed_Payment\": 9, \"Credit_Utilization_Ratio\": 31.87081402512755, \"Credit_History_Age\": 20, \"Credit_Score\": \"Standard\"}, {\"Delay_from_due_date\": 27, \"Num_of_Delayed_Payment\": 20, \"Credit_Utilization_Ratio\": 36.32967566702812, \"Credit_History_Age\": 0, \"Credit_Score\": \"Standard\"}, {\"Delay_from_due_date\": 27, \"Num_of_Delayed_Payment\": 9, \"Credit_Utilization_Ratio\": 34.54591538123088, \"Credit_History_Age\": 25, \"Credit_Score\": \"Poor\"}, {\"Delay_from_due_date\": 25, \"Num_of_Delayed_Payment\": 15, \"Credit_Utilization_Ratio\": 33.774891492240386, \"Credit_History_Age\": 15, \"Credit_Score\": \"Poor\"}, {\"Delay_from_due_date\": 15, \"Num_of_Delayed_Payment\": 1, \"Credit_Utilization_Ratio\": 33.974095426754964, \"Credit_History_Age\": 32, \"Credit_Score\": \"Good\"}, {\"Delay_from_due_date\": 17, \"Num_of_Delayed_Payment\": 16, \"Credit_Utilization_Ratio\": 34.71545531065743, \"Credit_History_Age\": 27, \"Credit_Score\": \"Standard\"}, {\"Delay_from_due_date\": 26, \"Num_of_Delayed_Payment\": 13, \"Credit_Utilization_Ratio\": 32.706767911774286, \"Credit_History_Age\": 20, \"Credit_Score\": \"Standard\"}, {\"Delay_from_due_date\": 5, \"Num_of_Delayed_Payment\": 12, \"Credit_Utilization_Ratio\": 28.970458013805622, \"Credit_History_Age\": 7, \"Credit_Score\": \"Standard\"}, {\"Delay_from_due_date\": 22, \"Num_of_Delayed_Payment\": 17, \"Credit_Utilization_Ratio\": 31.63931041960329, \"Credit_History_Age\": 7, \"Credit_Score\": \"Standard\"}, {\"Delay_from_due_date\": 13, \"Num_of_Delayed_Payment\": 16, \"Credit_Utilization_Ratio\": 28.901024815301376, \"Credit_History_Age\": 29, \"Credit_Score\": \"Standard\"}, {\"Delay_from_due_date\": 25, \"Num_of_Delayed_Payment\": 22, \"Credit_Utilization_Ratio\": 34.80059585758178, \"Credit_History_Age\": 19, \"Credit_Score\": \"Standard\"}, {\"Delay_from_due_date\": 9, \"Num_of_Delayed_Payment\": 12, \"Credit_Utilization_Ratio\": 26.70564159534057, \"Credit_History_Age\": 28, \"Credit_Score\": \"Good\"}, {\"Delay_from_due_date\": 37, \"Num_of_Delayed_Payment\": 22, \"Credit_Utilization_Ratio\": 35.90876072857183, \"Credit_History_Age\": 18, \"Credit_Score\": \"Poor\"}, {\"Delay_from_due_date\": 13, \"Num_of_Delayed_Payment\": 9, \"Credit_Utilization_Ratio\": 29.79404213317727, \"Credit_History_Age\": 13, \"Credit_Score\": \"Standard\"}, {\"Delay_from_due_date\": 32, \"Num_of_Delayed_Payment\": 20, \"Credit_Utilization_Ratio\": 32.4150714167934, \"Credit_History_Age\": 8, \"Credit_Score\": \"Standard\"}, {\"Delay_from_due_date\": 9, \"Num_of_Delayed_Payment\": 9, \"Credit_Utilization_Ratio\": 28.189738645796176, \"Credit_History_Age\": 19, \"Credit_Score\": \"Standard\"}, {\"Delay_from_due_date\": 26, \"Num_of_Delayed_Payment\": 9, \"Credit_Utilization_Ratio\": 41.30396782166745, \"Credit_History_Age\": 19, \"Credit_Score\": \"Poor\"}, {\"Delay_from_due_date\": 23, \"Num_of_Delayed_Payment\": 10, \"Credit_Utilization_Ratio\": 35.52625040350078, \"Credit_History_Age\": 28, \"Credit_Score\": \"Standard\"}, {\"Delay_from_due_date\": 29, \"Num_of_Delayed_Payment\": 15, \"Credit_Utilization_Ratio\": 35.767532276828064, \"Credit_History_Age\": 22, \"Credit_Score\": \"Standard\"}, {\"Delay_from_due_date\": 16, \"Num_of_Delayed_Payment\": 13, \"Credit_Utilization_Ratio\": 25.697752297947357, \"Credit_History_Age\": 32, \"Credit_Score\": \"Standard\"}, {\"Delay_from_due_date\": 14, \"Num_of_Delayed_Payment\": 12, \"Credit_Utilization_Ratio\": 33.50130048521012, \"Credit_History_Age\": 8, \"Credit_Score\": \"Standard\"}, {\"Delay_from_due_date\": 13, \"Num_of_Delayed_Payment\": 17, \"Credit_Utilization_Ratio\": 23.31887970780229, \"Credit_History_Age\": 14, \"Credit_Score\": \"Poor\"}, {\"Delay_from_due_date\": 29, \"Num_of_Delayed_Payment\": 20, \"Credit_Utilization_Ratio\": 33.359726496271, \"Credit_History_Age\": 4, \"Credit_Score\": \"Standard\"}, {\"Delay_from_due_date\": 2, \"Num_of_Delayed_Payment\": 10, \"Credit_Utilization_Ratio\": 27.172774786968244, \"Credit_History_Age\": 28, \"Credit_Score\": \"Standard\"}, {\"Delay_from_due_date\": 20, \"Num_of_Delayed_Payment\": 17, \"Credit_Utilization_Ratio\": 35.717867518828285, \"Credit_History_Age\": 19, \"Credit_Score\": \"Standard\"}, {\"Delay_from_due_date\": 36, \"Num_of_Delayed_Payment\": 18, \"Credit_Utilization_Ratio\": 32.92259726326055, \"Credit_History_Age\": 13, \"Credit_Score\": \"Standard\"}, {\"Delay_from_due_date\": 19, \"Num_of_Delayed_Payment\": 22, \"Credit_Utilization_Ratio\": 36.781037044272594, \"Credit_History_Age\": 6, \"Credit_Score\": \"Standard\"}, {\"Delay_from_due_date\": 22, \"Num_of_Delayed_Payment\": 8, \"Credit_Utilization_Ratio\": 39.93833280329265, \"Credit_History_Age\": 26, \"Credit_Score\": \"Standard\"}, {\"Delay_from_due_date\": 9, \"Num_of_Delayed_Payment\": 18, \"Credit_Utilization_Ratio\": 23.400831530491228, \"Credit_History_Age\": 25, \"Credit_Score\": \"Good\"}, {\"Delay_from_due_date\": 19, \"Num_of_Delayed_Payment\": 9, \"Credit_Utilization_Ratio\": 35.408265270045355, \"Credit_History_Age\": 32, \"Credit_Score\": \"Poor\"}, {\"Delay_from_due_date\": 11, \"Num_of_Delayed_Payment\": 7, \"Credit_Utilization_Ratio\": 24.22004731345531, \"Credit_History_Age\": 15, \"Credit_Score\": \"Good\"}, {\"Delay_from_due_date\": 13, \"Num_of_Delayed_Payment\": 15, \"Credit_Utilization_Ratio\": 29.93925504571291, \"Credit_History_Age\": 25, \"Credit_Score\": \"Standard\"}, {\"Delay_from_due_date\": 49, \"Num_of_Delayed_Payment\": 23, \"Credit_Utilization_Ratio\": 24.780461191538443, \"Credit_History_Age\": 3, \"Credit_Score\": \"Standard\"}, {\"Delay_from_due_date\": 28, \"Num_of_Delayed_Payment\": 16, \"Credit_Utilization_Ratio\": 38.57608145647362, \"Credit_History_Age\": 5, \"Credit_Score\": \"Poor\"}, {\"Delay_from_due_date\": 8, \"Num_of_Delayed_Payment\": 10, \"Credit_Utilization_Ratio\": 37.284318849150345, \"Credit_History_Age\": 19, \"Credit_Score\": \"Good\"}, {\"Delay_from_due_date\": 25, \"Num_of_Delayed_Payment\": 11, \"Credit_Utilization_Ratio\": 32.47377275901753, \"Credit_History_Age\": 16, \"Credit_Score\": \"Poor\"}, {\"Delay_from_due_date\": 31, \"Num_of_Delayed_Payment\": 15, \"Credit_Utilization_Ratio\": 35.79615914302933, \"Credit_History_Age\": 6, \"Credit_Score\": \"Poor\"}, {\"Delay_from_due_date\": 29, \"Num_of_Delayed_Payment\": 6, \"Credit_Utilization_Ratio\": 26.449479240598656, \"Credit_History_Age\": 21, \"Credit_Score\": \"Poor\"}, {\"Delay_from_due_date\": 29, \"Num_of_Delayed_Payment\": 9, \"Credit_Utilization_Ratio\": 35.750404007197965, \"Credit_History_Age\": 16, \"Credit_Score\": \"Poor\"}, {\"Delay_from_due_date\": 23, \"Num_of_Delayed_Payment\": 15, \"Credit_Utilization_Ratio\": 32.95828654135056, \"Credit_History_Age\": 12, \"Credit_Score\": \"Standard\"}, {\"Delay_from_due_date\": 21, \"Num_of_Delayed_Payment\": 16, \"Credit_Utilization_Ratio\": 27.82255846299489, \"Credit_History_Age\": 28, \"Credit_Score\": \"Standard\"}, {\"Delay_from_due_date\": 40, \"Num_of_Delayed_Payment\": 17, \"Credit_Utilization_Ratio\": 29.45589106989594, \"Credit_History_Age\": 15, \"Credit_Score\": \"Poor\"}, {\"Delay_from_due_date\": 26, \"Num_of_Delayed_Payment\": 14, \"Credit_Utilization_Ratio\": 25.893801482685586, \"Credit_History_Age\": 12, \"Credit_Score\": \"Standard\"}, {\"Delay_from_due_date\": 30, \"Num_of_Delayed_Payment\": 21, \"Credit_Utilization_Ratio\": 36.68120076895339, \"Credit_History_Age\": 10, \"Credit_Score\": \"Standard\"}, {\"Delay_from_due_date\": 10, \"Num_of_Delayed_Payment\": 4, \"Credit_Utilization_Ratio\": 36.065519635819314, \"Credit_History_Age\": 30, \"Credit_Score\": \"Standard\"}, {\"Delay_from_due_date\": 15, \"Num_of_Delayed_Payment\": 12, \"Credit_Utilization_Ratio\": 25.19100831975774, \"Credit_History_Age\": 16, \"Credit_Score\": \"Good\"}, {\"Delay_from_due_date\": 28, \"Num_of_Delayed_Payment\": 13, \"Credit_Utilization_Ratio\": 42.01430850602127, \"Credit_History_Age\": 8, \"Credit_Score\": \"Standard\"}, {\"Delay_from_due_date\": 48, \"Num_of_Delayed_Payment\": 18, \"Credit_Utilization_Ratio\": 33.63198337051457, \"Credit_History_Age\": 20, \"Credit_Score\": \"Poor\"}, {\"Delay_from_due_date\": 12, \"Num_of_Delayed_Payment\": 16, \"Credit_Utilization_Ratio\": 27.42431405310511, \"Credit_History_Age\": 33, \"Credit_Score\": \"Good\"}, {\"Delay_from_due_date\": 23, \"Num_of_Delayed_Payment\": 14, \"Credit_Utilization_Ratio\": 33.96409431796656, \"Credit_History_Age\": 15, \"Credit_Score\": \"Poor\"}, {\"Delay_from_due_date\": 6, \"Num_of_Delayed_Payment\": 12, \"Credit_Utilization_Ratio\": 31.69422099871673, \"Credit_History_Age\": 29, \"Credit_Score\": \"Standard\"}, {\"Delay_from_due_date\": 49, \"Num_of_Delayed_Payment\": 18, \"Credit_Utilization_Ratio\": 27.05049148763416, \"Credit_History_Age\": 6, \"Credit_Score\": \"Standard\"}, {\"Delay_from_due_date\": 41, \"Num_of_Delayed_Payment\": 15, \"Credit_Utilization_Ratio\": 29.67914608534756, \"Credit_History_Age\": 11, \"Credit_Score\": \"Poor\"}, {\"Delay_from_due_date\": 27, \"Num_of_Delayed_Payment\": 17, \"Credit_Utilization_Ratio\": 25.604629420779343, \"Credit_History_Age\": 12, \"Credit_Score\": \"Standard\"}, {\"Delay_from_due_date\": 11, \"Num_of_Delayed_Payment\": 15, \"Credit_Utilization_Ratio\": 35.35082554215341, \"Credit_History_Age\": 16, \"Credit_Score\": \"Poor\"}, {\"Delay_from_due_date\": 22, \"Num_of_Delayed_Payment\": 13, \"Credit_Utilization_Ratio\": 36.00380893625324, \"Credit_History_Age\": 20, \"Credit_Score\": \"Standard\"}, {\"Delay_from_due_date\": 8, \"Num_of_Delayed_Payment\": 14, \"Credit_Utilization_Ratio\": 23.488221172062225, \"Credit_History_Age\": 25, \"Credit_Score\": \"Poor\"}, {\"Delay_from_due_date\": 27, \"Num_of_Delayed_Payment\": 9, \"Credit_Utilization_Ratio\": 33.17420802487002, \"Credit_History_Age\": 19, \"Credit_Score\": \"Standard\"}, {\"Delay_from_due_date\": 34, \"Num_of_Delayed_Payment\": 19, \"Credit_Utilization_Ratio\": 34.67435086898018, \"Credit_History_Age\": 9, \"Credit_Score\": \"Poor\"}, {\"Delay_from_due_date\": 31, \"Num_of_Delayed_Payment\": 23, \"Credit_Utilization_Ratio\": 25.835536225251108, \"Credit_History_Age\": 5, \"Credit_Score\": \"Standard\"}, {\"Delay_from_due_date\": 47, \"Num_of_Delayed_Payment\": 19, \"Credit_Utilization_Ratio\": 25.729017226178737, \"Credit_History_Age\": 11, \"Credit_Score\": \"Poor\"}, {\"Delay_from_due_date\": 15, \"Num_of_Delayed_Payment\": 20, \"Credit_Utilization_Ratio\": 37.71825549316622, \"Credit_History_Age\": 5, \"Credit_Score\": \"Standard\"}, {\"Delay_from_due_date\": 46, \"Num_of_Delayed_Payment\": 18, \"Credit_Utilization_Ratio\": 36.79043119275183, \"Credit_History_Age\": 10, \"Credit_Score\": \"Standard\"}, {\"Delay_from_due_date\": 13, \"Num_of_Delayed_Payment\": 19, \"Credit_Utilization_Ratio\": 34.05410289275992, \"Credit_History_Age\": 9, \"Credit_Score\": \"Poor\"}, {\"Delay_from_due_date\": 5, \"Num_of_Delayed_Payment\": 8, \"Credit_Utilization_Ratio\": 28.71002712964939, \"Credit_History_Age\": 24, \"Credit_Score\": \"Good\"}, {\"Delay_from_due_date\": 11, \"Num_of_Delayed_Payment\": 2, \"Credit_Utilization_Ratio\": 22.868733710409817, \"Credit_History_Age\": 28, \"Credit_Score\": \"Good\"}, {\"Delay_from_due_date\": 34, \"Num_of_Delayed_Payment\": 19, \"Credit_Utilization_Ratio\": 37.40885444948808, \"Credit_History_Age\": 13, \"Credit_Score\": \"Poor\"}, {\"Delay_from_due_date\": 11, \"Num_of_Delayed_Payment\": 10, \"Credit_Utilization_Ratio\": 23.34385351772437, \"Credit_History_Age\": 30, \"Credit_Score\": \"Standard\"}, {\"Delay_from_due_date\": 28, \"Num_of_Delayed_Payment\": 17, \"Credit_Utilization_Ratio\": 29.49949730111247, \"Credit_History_Age\": 14, \"Credit_Score\": \"Poor\"}, {\"Delay_from_due_date\": 19, \"Num_of_Delayed_Payment\": 16, \"Credit_Utilization_Ratio\": 24.83634309421148, \"Credit_History_Age\": 28, \"Credit_Score\": \"Standard\"}, {\"Delay_from_due_date\": 38, \"Num_of_Delayed_Payment\": 17, \"Credit_Utilization_Ratio\": 32.34885552387146, \"Credit_History_Age\": 11, \"Credit_Score\": \"Poor\"}, {\"Delay_from_due_date\": 10, \"Num_of_Delayed_Payment\": 11, \"Credit_Utilization_Ratio\": 33.79839618516874, \"Credit_History_Age\": 15, \"Credit_Score\": \"Good\"}, {\"Delay_from_due_date\": 24, \"Num_of_Delayed_Payment\": 23, \"Credit_Utilization_Ratio\": 33.36377405793187, \"Credit_History_Age\": 6, \"Credit_Score\": \"Standard\"}, {\"Delay_from_due_date\": 28, \"Num_of_Delayed_Payment\": 12, \"Credit_Utilization_Ratio\": 38.29637558487708, \"Credit_History_Age\": 12, \"Credit_Score\": \"Standard\"}, {\"Delay_from_due_date\": 7, \"Num_of_Delayed_Payment\": 0, \"Credit_Utilization_Ratio\": 30.70468599295188, \"Credit_History_Age\": 31, \"Credit_Score\": \"Good\"}, {\"Delay_from_due_date\": 18, \"Num_of_Delayed_Payment\": 6, \"Credit_Utilization_Ratio\": 35.22894686267936, \"Credit_History_Age\": 20, \"Credit_Score\": \"Standard\"}, {\"Delay_from_due_date\": 20, \"Num_of_Delayed_Payment\": 15, \"Credit_Utilization_Ratio\": 39.86734985777297, \"Credit_History_Age\": 18, \"Credit_Score\": \"Poor\"}, {\"Delay_from_due_date\": 22, \"Num_of_Delayed_Payment\": 17, \"Credit_Utilization_Ratio\": 31.719897504341496, \"Credit_History_Age\": 10, \"Credit_Score\": \"Poor\"}, {\"Delay_from_due_date\": 1, \"Num_of_Delayed_Payment\": 8, \"Credit_Utilization_Ratio\": 25.559194207928, \"Credit_History_Age\": 25, \"Credit_Score\": \"Standard\"}, {\"Delay_from_due_date\": 37, \"Num_of_Delayed_Payment\": 11, \"Credit_Utilization_Ratio\": 27.79442627998177, \"Credit_History_Age\": 15, \"Credit_Score\": \"Poor\"}, {\"Delay_from_due_date\": 18, \"Num_of_Delayed_Payment\": 10, \"Credit_Utilization_Ratio\": 30.96941026092871, \"Credit_History_Age\": 20, \"Credit_Score\": \"Standard\"}, {\"Delay_from_due_date\": 42, \"Num_of_Delayed_Payment\": 9, \"Credit_Utilization_Ratio\": 29.197853635451487, \"Credit_History_Age\": 15, \"Credit_Score\": \"Poor\"}, {\"Delay_from_due_date\": 15, \"Num_of_Delayed_Payment\": 14, \"Credit_Utilization_Ratio\": 31.255767389502694, \"Credit_History_Age\": 11, \"Credit_Score\": \"Standard\"}, {\"Delay_from_due_date\": 28, \"Num_of_Delayed_Payment\": 13, \"Credit_Utilization_Ratio\": 32.902216327188, \"Credit_History_Age\": 6, \"Credit_Score\": \"Standard\"}, {\"Delay_from_due_date\": 32, \"Num_of_Delayed_Payment\": 21, \"Credit_Utilization_Ratio\": 31.715961565700844, \"Credit_History_Age\": 7, \"Credit_Score\": \"Standard\"}, {\"Delay_from_due_date\": -2, \"Num_of_Delayed_Payment\": 0, \"Credit_Utilization_Ratio\": 32.841503745126005, \"Credit_History_Age\": 15, \"Credit_Score\": \"Good\"}, {\"Delay_from_due_date\": 13, \"Num_of_Delayed_Payment\": 7, \"Credit_Utilization_Ratio\": 29.10245162554227, \"Credit_History_Age\": 20, \"Credit_Score\": \"Standard\"}, {\"Delay_from_due_date\": 10, \"Num_of_Delayed_Payment\": 10, \"Credit_Utilization_Ratio\": 30.3880137700375, \"Credit_History_Age\": 31, \"Credit_Score\": \"Good\"}, {\"Delay_from_due_date\": 51, \"Num_of_Delayed_Payment\": 16, \"Credit_Utilization_Ratio\": 39.02867500890349, \"Credit_History_Age\": 10, \"Credit_Score\": \"Poor\"}, {\"Delay_from_due_date\": -3, \"Num_of_Delayed_Payment\": 11, \"Credit_Utilization_Ratio\": 26.47811893332884, \"Credit_History_Age\": 22, \"Credit_Score\": \"Good\"}, {\"Delay_from_due_date\": 53, \"Num_of_Delayed_Payment\": 16, \"Credit_Utilization_Ratio\": 30.77367750115521, \"Credit_History_Age\": 10, \"Credit_Score\": \"Standard\"}, {\"Delay_from_due_date\": 23, \"Num_of_Delayed_Payment\": 20, \"Credit_Utilization_Ratio\": 38.75129724526587, \"Credit_History_Age\": 2, \"Credit_Score\": \"Poor\"}, {\"Delay_from_due_date\": 6, \"Num_of_Delayed_Payment\": 9, \"Credit_Utilization_Ratio\": 27.89475508561388, \"Credit_History_Age\": 16, \"Credit_Score\": \"Standard\"}, {\"Delay_from_due_date\": 37, \"Num_of_Delayed_Payment\": 21, \"Credit_Utilization_Ratio\": 34.82677530105968, \"Credit_History_Age\": 1, \"Credit_Score\": \"Standard\"}, {\"Delay_from_due_date\": 20, \"Num_of_Delayed_Payment\": 18, \"Credit_Utilization_Ratio\": 33.569272547637866, \"Credit_History_Age\": 10, \"Credit_Score\": \"Standard\"}, {\"Delay_from_due_date\": 15, \"Num_of_Delayed_Payment\": 21, \"Credit_Utilization_Ratio\": 24.323402812330663, \"Credit_History_Age\": 8, \"Credit_Score\": \"Poor\"}, {\"Delay_from_due_date\": 9, \"Num_of_Delayed_Payment\": 6, \"Credit_Utilization_Ratio\": 28.17337704897145, \"Credit_History_Age\": 23, \"Credit_Score\": \"Good\"}, {\"Delay_from_due_date\": 24, \"Num_of_Delayed_Payment\": 12, \"Credit_Utilization_Ratio\": 33.77755778406176, \"Credit_History_Age\": 20, \"Credit_Score\": \"Standard\"}, {\"Delay_from_due_date\": 39, \"Num_of_Delayed_Payment\": 15, \"Credit_Utilization_Ratio\": 24.7655984992657, \"Credit_History_Age\": 11, \"Credit_Score\": \"Standard\"}, {\"Delay_from_due_date\": 4, \"Num_of_Delayed_Payment\": 11, \"Credit_Utilization_Ratio\": 40.93636944902572, \"Credit_History_Age\": 18, \"Credit_Score\": \"Good\"}, {\"Delay_from_due_date\": 0, \"Num_of_Delayed_Payment\": 6, \"Credit_Utilization_Ratio\": 37.92028796505676, \"Credit_History_Age\": 22, \"Credit_Score\": \"Good\"}, {\"Delay_from_due_date\": 24, \"Num_of_Delayed_Payment\": 15, \"Credit_Utilization_Ratio\": 27.862048299498756, \"Credit_History_Age\": 26, \"Credit_Score\": \"Poor\"}, {\"Delay_from_due_date\": 10, \"Num_of_Delayed_Payment\": 17, \"Credit_Utilization_Ratio\": 35.449194388179194, \"Credit_History_Age\": 12, \"Credit_Score\": \"Poor\"}, {\"Delay_from_due_date\": 6, \"Num_of_Delayed_Payment\": 12, \"Credit_Utilization_Ratio\": 30.581232844615467, \"Credit_History_Age\": 32, \"Credit_Score\": \"Poor\"}, {\"Delay_from_due_date\": 52, \"Num_of_Delayed_Payment\": 21, \"Credit_Utilization_Ratio\": 23.75759532191507, \"Credit_History_Age\": 6, \"Credit_Score\": \"Poor\"}, {\"Delay_from_due_date\": 29, \"Num_of_Delayed_Payment\": 11, \"Credit_Utilization_Ratio\": 24.933887675162765, \"Credit_History_Age\": 28, \"Credit_Score\": \"Poor\"}, {\"Delay_from_due_date\": 4, \"Num_of_Delayed_Payment\": 12, \"Credit_Utilization_Ratio\": 29.314056410703834, \"Credit_History_Age\": 33, \"Credit_Score\": \"Good\"}, {\"Delay_from_due_date\": 26, \"Num_of_Delayed_Payment\": 21, \"Credit_Utilization_Ratio\": 39.08643017125978, \"Credit_History_Age\": 13, \"Credit_Score\": \"Standard\"}]}}, {\"mode\": \"vega-lite\"});\n",
       "</script>"
      ],
      "text/plain": [
       "alt.RepeatChart(...)"
      ]
     },
     "execution_count": 17,
     "metadata": {},
     "output_type": "execute_result"
    }
   ],
   "source": [
    "# initializing list of predictors\n",
    "predictors = [\"Delay_from_due_date\", \"Num_of_Delayed_Payment\", \"Credit_Utilization_Ratio\", \"Credit_History_Age\"]\n",
    "\n",
    "# visualizing training data\n",
    "\n",
    "# removing outliers - just for the visualization\n",
    "def remove_outliers(column):\n",
    "    Q1 = column.quantile(0.25)\n",
    "    Q3 = column.quantile(0.75)\n",
    "    IQR = Q3 - Q1\n",
    "    return (column >= Q1 - 1.5 * IQR) & (column <= Q3 + 1.5 * IQR)\n",
    "\n",
    "# Apply outlier removal to each column\n",
    "for col in predictors:\n",
    "    train = train[remove_outliers(train[col])]\n",
    "\n",
    "train_pairplot = alt.Chart(train).mark_point(opacity=0.4).encode(\n",
    "    alt.X(alt.repeat(\"row\"), type=\"quantitative\"),\n",
    "    alt.Y(alt.repeat(\"column\"), type=\"quantitative\"),\n",
    "    color = alt.Color(\"Credit_Score\").title(\"Credit_Score\")\n",
    ").properties(\n",
    "    width=200,\n",
    "    height=200\n",
    ").repeat(\n",
    "    column=predictors,\n",
    "    row=predictors\n",
    ")\n",
    "train_pairplot"
   ]
  },
  {
   "cell_type": "markdown",
   "metadata": {},
   "source": [
    "### Methods\n",
    "\n",
    "We plan to conduct our data analysis using the K Nearest Neighbors Classification algrorithm. We'll choose the best value of k using cross-validation and then use the following predictors to predict whether someone's Credit Score is Good, Standard or Poor.\n",
    "\n",
    "Predictors:\n",
    "\n",
    "- number of delayed payments \n",
    "- delay from due date \n",
    "- Credit_Utilization_Ratio\n",
    "- credit history age\n",
    "\n",
    "\n",
    "**Describing our visualizations**\n",
    "We will plot histograms to visualize the distributions of our predictors. This will help us explore the relation between predicted credit score and the factors that may impact the credit score more than others like income, missed payments, credit utilization ratios.\n"
   ]
  },
  {
   "cell_type": "code",
   "execution_count": 18,
   "metadata": {
    "tags": []
   },
   "outputs": [],
   "source": [
    "# training_labels = subset_train[\"Credit_Score\"]\n",
    "# training_labels"
   ]
  },
  {
   "cell_type": "code",
   "execution_count": 19,
   "metadata": {
    "tags": []
   },
   "outputs": [
    {
     "data": {
      "text/html": [
       "<style>#sk-container-id-1 {color: black;background-color: white;}#sk-container-id-1 pre{padding: 0;}#sk-container-id-1 div.sk-toggleable {background-color: white;}#sk-container-id-1 label.sk-toggleable__label {cursor: pointer;display: block;width: 100%;margin-bottom: 0;padding: 0.3em;box-sizing: border-box;text-align: center;}#sk-container-id-1 label.sk-toggleable__label-arrow:before {content: \"▸\";float: left;margin-right: 0.25em;color: #696969;}#sk-container-id-1 label.sk-toggleable__label-arrow:hover:before {color: black;}#sk-container-id-1 div.sk-estimator:hover label.sk-toggleable__label-arrow:before {color: black;}#sk-container-id-1 div.sk-toggleable__content {max-height: 0;max-width: 0;overflow: hidden;text-align: left;background-color: #f0f8ff;}#sk-container-id-1 div.sk-toggleable__content pre {margin: 0.2em;color: black;border-radius: 0.25em;background-color: #f0f8ff;}#sk-container-id-1 input.sk-toggleable__control:checked~div.sk-toggleable__content {max-height: 200px;max-width: 100%;overflow: auto;}#sk-container-id-1 input.sk-toggleable__control:checked~label.sk-toggleable__label-arrow:before {content: \"▾\";}#sk-container-id-1 div.sk-estimator input.sk-toggleable__control:checked~label.sk-toggleable__label {background-color: #d4ebff;}#sk-container-id-1 div.sk-label input.sk-toggleable__control:checked~label.sk-toggleable__label {background-color: #d4ebff;}#sk-container-id-1 input.sk-hidden--visually {border: 0;clip: rect(1px 1px 1px 1px);clip: rect(1px, 1px, 1px, 1px);height: 1px;margin: -1px;overflow: hidden;padding: 0;position: absolute;width: 1px;}#sk-container-id-1 div.sk-estimator {font-family: monospace;background-color: #f0f8ff;border: 1px dotted black;border-radius: 0.25em;box-sizing: border-box;margin-bottom: 0.5em;}#sk-container-id-1 div.sk-estimator:hover {background-color: #d4ebff;}#sk-container-id-1 div.sk-parallel-item::after {content: \"\";width: 100%;border-bottom: 1px solid gray;flex-grow: 1;}#sk-container-id-1 div.sk-label:hover label.sk-toggleable__label {background-color: #d4ebff;}#sk-container-id-1 div.sk-serial::before {content: \"\";position: absolute;border-left: 1px solid gray;box-sizing: border-box;top: 0;bottom: 0;left: 50%;z-index: 0;}#sk-container-id-1 div.sk-serial {display: flex;flex-direction: column;align-items: center;background-color: white;padding-right: 0.2em;padding-left: 0.2em;position: relative;}#sk-container-id-1 div.sk-item {position: relative;z-index: 1;}#sk-container-id-1 div.sk-parallel {display: flex;align-items: stretch;justify-content: center;background-color: white;position: relative;}#sk-container-id-1 div.sk-item::before, #sk-container-id-1 div.sk-parallel-item::before {content: \"\";position: absolute;border-left: 1px solid gray;box-sizing: border-box;top: 0;bottom: 0;left: 50%;z-index: -1;}#sk-container-id-1 div.sk-parallel-item {display: flex;flex-direction: column;z-index: 1;position: relative;background-color: white;}#sk-container-id-1 div.sk-parallel-item:first-child::after {align-self: flex-end;width: 50%;}#sk-container-id-1 div.sk-parallel-item:last-child::after {align-self: flex-start;width: 50%;}#sk-container-id-1 div.sk-parallel-item:only-child::after {width: 0;}#sk-container-id-1 div.sk-dashed-wrapped {border: 1px dashed gray;margin: 0 0.4em 0.5em 0.4em;box-sizing: border-box;padding-bottom: 0.4em;background-color: white;}#sk-container-id-1 div.sk-label label {font-family: monospace;font-weight: bold;display: inline-block;line-height: 1.2em;}#sk-container-id-1 div.sk-label-container {text-align: center;}#sk-container-id-1 div.sk-container {/* jupyter's `normalize.less` sets `[hidden] { display: none; }` but bootstrap.min.css set `[hidden] { display: none !important; }` so we also need the `!important` here to be able to override the default hidden behavior on the sphinx rendered scikit-learn.org. See: https://github.com/scikit-learn/scikit-learn/issues/21755 */display: inline-block !important;position: relative;}#sk-container-id-1 div.sk-text-repr-fallback {display: none;}</style><div id=\"sk-container-id-1\" class=\"sk-top-container\"><div class=\"sk-text-repr-fallback\"><pre>KNeighborsClassifier(n_neighbors=8)</pre><b>In a Jupyter environment, please rerun this cell to show the HTML representation or trust the notebook. <br />On GitHub, the HTML representation is unable to render, please try loading this page with nbviewer.org.</b></div><div class=\"sk-container\" hidden><div class=\"sk-item\"><div class=\"sk-estimator sk-toggleable\"><input class=\"sk-toggleable__control sk-hidden--visually\" id=\"sk-estimator-id-1\" type=\"checkbox\" checked><label for=\"sk-estimator-id-1\" class=\"sk-toggleable__label sk-toggleable__label-arrow\">KNeighborsClassifier</label><div class=\"sk-toggleable__content\"><pre>KNeighborsClassifier(n_neighbors=8)</pre></div></div></div></div></div>"
      ],
      "text/plain": [
       "KNeighborsClassifier(n_neighbors=8)"
      ]
     },
     "execution_count": 19,
     "metadata": {},
     "output_type": "execute_result"
    }
   ],
   "source": [
    "knn = KNeighborsClassifier(n_neighbors=8)\n",
    "knn"
   ]
  },
  {
   "cell_type": "code",
   "execution_count": 20,
   "metadata": {
    "tags": []
   },
   "outputs": [
    {
     "data": {
      "text/html": [
       "<style>#sk-container-id-2 {color: black;background-color: white;}#sk-container-id-2 pre{padding: 0;}#sk-container-id-2 div.sk-toggleable {background-color: white;}#sk-container-id-2 label.sk-toggleable__label {cursor: pointer;display: block;width: 100%;margin-bottom: 0;padding: 0.3em;box-sizing: border-box;text-align: center;}#sk-container-id-2 label.sk-toggleable__label-arrow:before {content: \"▸\";float: left;margin-right: 0.25em;color: #696969;}#sk-container-id-2 label.sk-toggleable__label-arrow:hover:before {color: black;}#sk-container-id-2 div.sk-estimator:hover label.sk-toggleable__label-arrow:before {color: black;}#sk-container-id-2 div.sk-toggleable__content {max-height: 0;max-width: 0;overflow: hidden;text-align: left;background-color: #f0f8ff;}#sk-container-id-2 div.sk-toggleable__content pre {margin: 0.2em;color: black;border-radius: 0.25em;background-color: #f0f8ff;}#sk-container-id-2 input.sk-toggleable__control:checked~div.sk-toggleable__content {max-height: 200px;max-width: 100%;overflow: auto;}#sk-container-id-2 input.sk-toggleable__control:checked~label.sk-toggleable__label-arrow:before {content: \"▾\";}#sk-container-id-2 div.sk-estimator input.sk-toggleable__control:checked~label.sk-toggleable__label {background-color: #d4ebff;}#sk-container-id-2 div.sk-label input.sk-toggleable__control:checked~label.sk-toggleable__label {background-color: #d4ebff;}#sk-container-id-2 input.sk-hidden--visually {border: 0;clip: rect(1px 1px 1px 1px);clip: rect(1px, 1px, 1px, 1px);height: 1px;margin: -1px;overflow: hidden;padding: 0;position: absolute;width: 1px;}#sk-container-id-2 div.sk-estimator {font-family: monospace;background-color: #f0f8ff;border: 1px dotted black;border-radius: 0.25em;box-sizing: border-box;margin-bottom: 0.5em;}#sk-container-id-2 div.sk-estimator:hover {background-color: #d4ebff;}#sk-container-id-2 div.sk-parallel-item::after {content: \"\";width: 100%;border-bottom: 1px solid gray;flex-grow: 1;}#sk-container-id-2 div.sk-label:hover label.sk-toggleable__label {background-color: #d4ebff;}#sk-container-id-2 div.sk-serial::before {content: \"\";position: absolute;border-left: 1px solid gray;box-sizing: border-box;top: 0;bottom: 0;left: 50%;z-index: 0;}#sk-container-id-2 div.sk-serial {display: flex;flex-direction: column;align-items: center;background-color: white;padding-right: 0.2em;padding-left: 0.2em;position: relative;}#sk-container-id-2 div.sk-item {position: relative;z-index: 1;}#sk-container-id-2 div.sk-parallel {display: flex;align-items: stretch;justify-content: center;background-color: white;position: relative;}#sk-container-id-2 div.sk-item::before, #sk-container-id-2 div.sk-parallel-item::before {content: \"\";position: absolute;border-left: 1px solid gray;box-sizing: border-box;top: 0;bottom: 0;left: 50%;z-index: -1;}#sk-container-id-2 div.sk-parallel-item {display: flex;flex-direction: column;z-index: 1;position: relative;background-color: white;}#sk-container-id-2 div.sk-parallel-item:first-child::after {align-self: flex-end;width: 50%;}#sk-container-id-2 div.sk-parallel-item:last-child::after {align-self: flex-start;width: 50%;}#sk-container-id-2 div.sk-parallel-item:only-child::after {width: 0;}#sk-container-id-2 div.sk-dashed-wrapped {border: 1px dashed gray;margin: 0 0.4em 0.5em 0.4em;box-sizing: border-box;padding-bottom: 0.4em;background-color: white;}#sk-container-id-2 div.sk-label label {font-family: monospace;font-weight: bold;display: inline-block;line-height: 1.2em;}#sk-container-id-2 div.sk-label-container {text-align: center;}#sk-container-id-2 div.sk-container {/* jupyter's `normalize.less` sets `[hidden] { display: none; }` but bootstrap.min.css set `[hidden] { display: none !important; }` so we also need the `!important` here to be able to override the default hidden behavior on the sphinx rendered scikit-learn.org. See: https://github.com/scikit-learn/scikit-learn/issues/21755 */display: inline-block !important;position: relative;}#sk-container-id-2 div.sk-text-repr-fallback {display: none;}</style><div id=\"sk-container-id-2\" class=\"sk-top-container\"><div class=\"sk-text-repr-fallback\"><pre>ColumnTransformer(remainder=&#x27;passthrough&#x27;,\n",
       "                  transformers=[(&#x27;standardscaler&#x27;, StandardScaler(),\n",
       "                                 [&#x27;Delay_from_due_date&#x27;,\n",
       "                                  &#x27;Num_of_Delayed_Payment&#x27;,\n",
       "                                  &#x27;Credit_Utilization_Ratio&#x27;,\n",
       "                                  &#x27;Credit_History_Age&#x27;])],\n",
       "                  verbose_feature_names_out=False)</pre><b>In a Jupyter environment, please rerun this cell to show the HTML representation or trust the notebook. <br />On GitHub, the HTML representation is unable to render, please try loading this page with nbviewer.org.</b></div><div class=\"sk-container\" hidden><div class=\"sk-item sk-dashed-wrapped\"><div class=\"sk-label-container\"><div class=\"sk-label sk-toggleable\"><input class=\"sk-toggleable__control sk-hidden--visually\" id=\"sk-estimator-id-2\" type=\"checkbox\" ><label for=\"sk-estimator-id-2\" class=\"sk-toggleable__label sk-toggleable__label-arrow\">ColumnTransformer</label><div class=\"sk-toggleable__content\"><pre>ColumnTransformer(remainder=&#x27;passthrough&#x27;,\n",
       "                  transformers=[(&#x27;standardscaler&#x27;, StandardScaler(),\n",
       "                                 [&#x27;Delay_from_due_date&#x27;,\n",
       "                                  &#x27;Num_of_Delayed_Payment&#x27;,\n",
       "                                  &#x27;Credit_Utilization_Ratio&#x27;,\n",
       "                                  &#x27;Credit_History_Age&#x27;])],\n",
       "                  verbose_feature_names_out=False)</pre></div></div></div><div class=\"sk-parallel\"><div class=\"sk-parallel-item\"><div class=\"sk-item\"><div class=\"sk-label-container\"><div class=\"sk-label sk-toggleable\"><input class=\"sk-toggleable__control sk-hidden--visually\" id=\"sk-estimator-id-3\" type=\"checkbox\" ><label for=\"sk-estimator-id-3\" class=\"sk-toggleable__label sk-toggleable__label-arrow\">standardscaler</label><div class=\"sk-toggleable__content\"><pre>[&#x27;Delay_from_due_date&#x27;, &#x27;Num_of_Delayed_Payment&#x27;, &#x27;Credit_Utilization_Ratio&#x27;, &#x27;Credit_History_Age&#x27;]</pre></div></div></div><div class=\"sk-serial\"><div class=\"sk-item\"><div class=\"sk-estimator sk-toggleable\"><input class=\"sk-toggleable__control sk-hidden--visually\" id=\"sk-estimator-id-4\" type=\"checkbox\" ><label for=\"sk-estimator-id-4\" class=\"sk-toggleable__label sk-toggleable__label-arrow\">StandardScaler</label><div class=\"sk-toggleable__content\"><pre>StandardScaler()</pre></div></div></div></div></div></div><div class=\"sk-parallel-item\"><div class=\"sk-item\"><div class=\"sk-label-container\"><div class=\"sk-label sk-toggleable\"><input class=\"sk-toggleable__control sk-hidden--visually\" id=\"sk-estimator-id-5\" type=\"checkbox\" ><label for=\"sk-estimator-id-5\" class=\"sk-toggleable__label sk-toggleable__label-arrow\">remainder</label><div class=\"sk-toggleable__content\"><pre></pre></div></div></div><div class=\"sk-serial\"><div class=\"sk-item\"><div class=\"sk-estimator sk-toggleable\"><input class=\"sk-toggleable__control sk-hidden--visually\" id=\"sk-estimator-id-6\" type=\"checkbox\" ><label for=\"sk-estimator-id-6\" class=\"sk-toggleable__label sk-toggleable__label-arrow\">passthrough</label><div class=\"sk-toggleable__content\"><pre>passthrough</pre></div></div></div></div></div></div></div></div></div></div>"
      ],
      "text/plain": [
       "ColumnTransformer(remainder='passthrough',\n",
       "                  transformers=[('standardscaler', StandardScaler(),\n",
       "                                 ['Delay_from_due_date',\n",
       "                                  'Num_of_Delayed_Payment',\n",
       "                                  'Credit_Utilization_Ratio',\n",
       "                                  'Credit_History_Age'])],\n",
       "                  verbose_feature_names_out=False)"
      ]
     },
     "execution_count": 20,
     "metadata": {},
     "output_type": "execute_result"
    }
   ],
   "source": [
    "preprocessor = make_column_transformer(\n",
    "    (StandardScaler(), predictors),\n",
    "    remainder='passthrough',\n",
    "    verbose_feature_names_out=False\n",
    ")\n",
    "preprocessor"
   ]
  },
  {
   "cell_type": "code",
   "execution_count": 21,
   "metadata": {
    "tags": []
   },
   "outputs": [
    {
     "data": {
      "text/html": [
       "<style>#sk-container-id-3 {color: black;background-color: white;}#sk-container-id-3 pre{padding: 0;}#sk-container-id-3 div.sk-toggleable {background-color: white;}#sk-container-id-3 label.sk-toggleable__label {cursor: pointer;display: block;width: 100%;margin-bottom: 0;padding: 0.3em;box-sizing: border-box;text-align: center;}#sk-container-id-3 label.sk-toggleable__label-arrow:before {content: \"▸\";float: left;margin-right: 0.25em;color: #696969;}#sk-container-id-3 label.sk-toggleable__label-arrow:hover:before {color: black;}#sk-container-id-3 div.sk-estimator:hover label.sk-toggleable__label-arrow:before {color: black;}#sk-container-id-3 div.sk-toggleable__content {max-height: 0;max-width: 0;overflow: hidden;text-align: left;background-color: #f0f8ff;}#sk-container-id-3 div.sk-toggleable__content pre {margin: 0.2em;color: black;border-radius: 0.25em;background-color: #f0f8ff;}#sk-container-id-3 input.sk-toggleable__control:checked~div.sk-toggleable__content {max-height: 200px;max-width: 100%;overflow: auto;}#sk-container-id-3 input.sk-toggleable__control:checked~label.sk-toggleable__label-arrow:before {content: \"▾\";}#sk-container-id-3 div.sk-estimator input.sk-toggleable__control:checked~label.sk-toggleable__label {background-color: #d4ebff;}#sk-container-id-3 div.sk-label input.sk-toggleable__control:checked~label.sk-toggleable__label {background-color: #d4ebff;}#sk-container-id-3 input.sk-hidden--visually {border: 0;clip: rect(1px 1px 1px 1px);clip: rect(1px, 1px, 1px, 1px);height: 1px;margin: -1px;overflow: hidden;padding: 0;position: absolute;width: 1px;}#sk-container-id-3 div.sk-estimator {font-family: monospace;background-color: #f0f8ff;border: 1px dotted black;border-radius: 0.25em;box-sizing: border-box;margin-bottom: 0.5em;}#sk-container-id-3 div.sk-estimator:hover {background-color: #d4ebff;}#sk-container-id-3 div.sk-parallel-item::after {content: \"\";width: 100%;border-bottom: 1px solid gray;flex-grow: 1;}#sk-container-id-3 div.sk-label:hover label.sk-toggleable__label {background-color: #d4ebff;}#sk-container-id-3 div.sk-serial::before {content: \"\";position: absolute;border-left: 1px solid gray;box-sizing: border-box;top: 0;bottom: 0;left: 50%;z-index: 0;}#sk-container-id-3 div.sk-serial {display: flex;flex-direction: column;align-items: center;background-color: white;padding-right: 0.2em;padding-left: 0.2em;position: relative;}#sk-container-id-3 div.sk-item {position: relative;z-index: 1;}#sk-container-id-3 div.sk-parallel {display: flex;align-items: stretch;justify-content: center;background-color: white;position: relative;}#sk-container-id-3 div.sk-item::before, #sk-container-id-3 div.sk-parallel-item::before {content: \"\";position: absolute;border-left: 1px solid gray;box-sizing: border-box;top: 0;bottom: 0;left: 50%;z-index: -1;}#sk-container-id-3 div.sk-parallel-item {display: flex;flex-direction: column;z-index: 1;position: relative;background-color: white;}#sk-container-id-3 div.sk-parallel-item:first-child::after {align-self: flex-end;width: 50%;}#sk-container-id-3 div.sk-parallel-item:last-child::after {align-self: flex-start;width: 50%;}#sk-container-id-3 div.sk-parallel-item:only-child::after {width: 0;}#sk-container-id-3 div.sk-dashed-wrapped {border: 1px dashed gray;margin: 0 0.4em 0.5em 0.4em;box-sizing: border-box;padding-bottom: 0.4em;background-color: white;}#sk-container-id-3 div.sk-label label {font-family: monospace;font-weight: bold;display: inline-block;line-height: 1.2em;}#sk-container-id-3 div.sk-label-container {text-align: center;}#sk-container-id-3 div.sk-container {/* jupyter's `normalize.less` sets `[hidden] { display: none; }` but bootstrap.min.css set `[hidden] { display: none !important; }` so we also need the `!important` here to be able to override the default hidden behavior on the sphinx rendered scikit-learn.org. See: https://github.com/scikit-learn/scikit-learn/issues/21755 */display: inline-block !important;position: relative;}#sk-container-id-3 div.sk-text-repr-fallback {display: none;}</style><div id=\"sk-container-id-3\" class=\"sk-top-container\"><div class=\"sk-text-repr-fallback\"><pre>Pipeline(steps=[(&#x27;columntransformer&#x27;,\n",
       "                 ColumnTransformer(remainder=&#x27;passthrough&#x27;,\n",
       "                                   transformers=[(&#x27;standardscaler&#x27;,\n",
       "                                                  StandardScaler(),\n",
       "                                                  [&#x27;Delay_from_due_date&#x27;,\n",
       "                                                   &#x27;Num_of_Delayed_Payment&#x27;,\n",
       "                                                   &#x27;Credit_Utilization_Ratio&#x27;,\n",
       "                                                   &#x27;Credit_History_Age&#x27;])],\n",
       "                                   verbose_feature_names_out=False)),\n",
       "                (&#x27;kneighborsclassifier&#x27;, KNeighborsClassifier(n_neighbors=8))])</pre><b>In a Jupyter environment, please rerun this cell to show the HTML representation or trust the notebook. <br />On GitHub, the HTML representation is unable to render, please try loading this page with nbviewer.org.</b></div><div class=\"sk-container\" hidden><div class=\"sk-item sk-dashed-wrapped\"><div class=\"sk-label-container\"><div class=\"sk-label sk-toggleable\"><input class=\"sk-toggleable__control sk-hidden--visually\" id=\"sk-estimator-id-7\" type=\"checkbox\" ><label for=\"sk-estimator-id-7\" class=\"sk-toggleable__label sk-toggleable__label-arrow\">Pipeline</label><div class=\"sk-toggleable__content\"><pre>Pipeline(steps=[(&#x27;columntransformer&#x27;,\n",
       "                 ColumnTransformer(remainder=&#x27;passthrough&#x27;,\n",
       "                                   transformers=[(&#x27;standardscaler&#x27;,\n",
       "                                                  StandardScaler(),\n",
       "                                                  [&#x27;Delay_from_due_date&#x27;,\n",
       "                                                   &#x27;Num_of_Delayed_Payment&#x27;,\n",
       "                                                   &#x27;Credit_Utilization_Ratio&#x27;,\n",
       "                                                   &#x27;Credit_History_Age&#x27;])],\n",
       "                                   verbose_feature_names_out=False)),\n",
       "                (&#x27;kneighborsclassifier&#x27;, KNeighborsClassifier(n_neighbors=8))])</pre></div></div></div><div class=\"sk-serial\"><div class=\"sk-item sk-dashed-wrapped\"><div class=\"sk-label-container\"><div class=\"sk-label sk-toggleable\"><input class=\"sk-toggleable__control sk-hidden--visually\" id=\"sk-estimator-id-8\" type=\"checkbox\" ><label for=\"sk-estimator-id-8\" class=\"sk-toggleable__label sk-toggleable__label-arrow\">columntransformer: ColumnTransformer</label><div class=\"sk-toggleable__content\"><pre>ColumnTransformer(remainder=&#x27;passthrough&#x27;,\n",
       "                  transformers=[(&#x27;standardscaler&#x27;, StandardScaler(),\n",
       "                                 [&#x27;Delay_from_due_date&#x27;,\n",
       "                                  &#x27;Num_of_Delayed_Payment&#x27;,\n",
       "                                  &#x27;Credit_Utilization_Ratio&#x27;,\n",
       "                                  &#x27;Credit_History_Age&#x27;])],\n",
       "                  verbose_feature_names_out=False)</pre></div></div></div><div class=\"sk-parallel\"><div class=\"sk-parallel-item\"><div class=\"sk-item\"><div class=\"sk-label-container\"><div class=\"sk-label sk-toggleable\"><input class=\"sk-toggleable__control sk-hidden--visually\" id=\"sk-estimator-id-9\" type=\"checkbox\" ><label for=\"sk-estimator-id-9\" class=\"sk-toggleable__label sk-toggleable__label-arrow\">standardscaler</label><div class=\"sk-toggleable__content\"><pre>[&#x27;Delay_from_due_date&#x27;, &#x27;Num_of_Delayed_Payment&#x27;, &#x27;Credit_Utilization_Ratio&#x27;, &#x27;Credit_History_Age&#x27;]</pre></div></div></div><div class=\"sk-serial\"><div class=\"sk-item\"><div class=\"sk-estimator sk-toggleable\"><input class=\"sk-toggleable__control sk-hidden--visually\" id=\"sk-estimator-id-10\" type=\"checkbox\" ><label for=\"sk-estimator-id-10\" class=\"sk-toggleable__label sk-toggleable__label-arrow\">StandardScaler</label><div class=\"sk-toggleable__content\"><pre>StandardScaler()</pre></div></div></div></div></div></div><div class=\"sk-parallel-item\"><div class=\"sk-item\"><div class=\"sk-label-container\"><div class=\"sk-label sk-toggleable\"><input class=\"sk-toggleable__control sk-hidden--visually\" id=\"sk-estimator-id-11\" type=\"checkbox\" ><label for=\"sk-estimator-id-11\" class=\"sk-toggleable__label sk-toggleable__label-arrow\">remainder</label><div class=\"sk-toggleable__content\"><pre>[]</pre></div></div></div><div class=\"sk-serial\"><div class=\"sk-item\"><div class=\"sk-estimator sk-toggleable\"><input class=\"sk-toggleable__control sk-hidden--visually\" id=\"sk-estimator-id-12\" type=\"checkbox\" ><label for=\"sk-estimator-id-12\" class=\"sk-toggleable__label sk-toggleable__label-arrow\">passthrough</label><div class=\"sk-toggleable__content\"><pre>passthrough</pre></div></div></div></div></div></div></div></div><div class=\"sk-item\"><div class=\"sk-estimator sk-toggleable\"><input class=\"sk-toggleable__control sk-hidden--visually\" id=\"sk-estimator-id-13\" type=\"checkbox\" ><label for=\"sk-estimator-id-13\" class=\"sk-toggleable__label sk-toggleable__label-arrow\">KNeighborsClassifier</label><div class=\"sk-toggleable__content\"><pre>KNeighborsClassifier(n_neighbors=8)</pre></div></div></div></div></div></div></div>"
      ],
      "text/plain": [
       "Pipeline(steps=[('columntransformer',\n",
       "                 ColumnTransformer(remainder='passthrough',\n",
       "                                   transformers=[('standardscaler',\n",
       "                                                  StandardScaler(),\n",
       "                                                  ['Delay_from_due_date',\n",
       "                                                   'Num_of_Delayed_Payment',\n",
       "                                                   'Credit_Utilization_Ratio',\n",
       "                                                   'Credit_History_Age'])],\n",
       "                                   verbose_feature_names_out=False)),\n",
       "                ('kneighborsclassifier', KNeighborsClassifier(n_neighbors=8))])"
      ]
     },
     "execution_count": 21,
     "metadata": {},
     "output_type": "execute_result"
    }
   ],
   "source": [
    "X = train.drop(columns='Credit_Score')\n",
    "y = train[\"Credit_Score\"]\n",
    "\n",
    "train_fit = make_pipeline(preprocessor, knn).fit(X, y)\n",
    "\n",
    "train_fit"
   ]
  },
  {
   "cell_type": "code",
   "execution_count": 22,
   "metadata": {
    "tags": []
   },
   "outputs": [
    {
     "data": {
      "text/html": [
       "<div>\n",
       "<style scoped>\n",
       "    .dataframe tbody tr th:only-of-type {\n",
       "        vertical-align: middle;\n",
       "    }\n",
       "\n",
       "    .dataframe tbody tr th {\n",
       "        vertical-align: top;\n",
       "    }\n",
       "\n",
       "    .dataframe thead th {\n",
       "        text-align: right;\n",
       "    }\n",
       "</style>\n",
       "<table border=\"1\" class=\"dataframe\">\n",
       "  <thead>\n",
       "    <tr style=\"text-align: right;\">\n",
       "      <th></th>\n",
       "      <th>Delay_from_due_date</th>\n",
       "      <th>Num_of_Delayed_Payment</th>\n",
       "      <th>Credit_Utilization_Ratio</th>\n",
       "      <th>Credit_History_Age</th>\n",
       "      <th>Credit_Score</th>\n",
       "      <th>predicted</th>\n",
       "    </tr>\n",
       "  </thead>\n",
       "  <tbody>\n",
       "    <tr>\n",
       "      <th>20161</th>\n",
       "      <td>51</td>\n",
       "      <td>19</td>\n",
       "      <td>25.411206</td>\n",
       "      <td>9</td>\n",
       "      <td>Poor</td>\n",
       "      <td>Poor</td>\n",
       "    </tr>\n",
       "    <tr>\n",
       "      <th>11038</th>\n",
       "      <td>30</td>\n",
       "      <td>5</td>\n",
       "      <td>23.293286</td>\n",
       "      <td>28</td>\n",
       "      <td>Poor</td>\n",
       "      <td>Standard</td>\n",
       "    </tr>\n",
       "    <tr>\n",
       "      <th>28598</th>\n",
       "      <td>24</td>\n",
       "      <td>21</td>\n",
       "      <td>24.691626</td>\n",
       "      <td>28</td>\n",
       "      <td>Standard</td>\n",
       "      <td>Standard</td>\n",
       "    </tr>\n",
       "    <tr>\n",
       "      <th>49780</th>\n",
       "      <td>10</td>\n",
       "      <td>14</td>\n",
       "      <td>32.039273</td>\n",
       "      <td>22</td>\n",
       "      <td>Standard</td>\n",
       "      <td>Standard</td>\n",
       "    </tr>\n",
       "    <tr>\n",
       "      <th>81976</th>\n",
       "      <td>22</td>\n",
       "      <td>12</td>\n",
       "      <td>26.033306</td>\n",
       "      <td>11</td>\n",
       "      <td>Standard</td>\n",
       "      <td>Poor</td>\n",
       "    </tr>\n",
       "    <tr>\n",
       "      <th>...</th>\n",
       "      <td>...</td>\n",
       "      <td>...</td>\n",
       "      <td>...</td>\n",
       "      <td>...</td>\n",
       "      <td>...</td>\n",
       "      <td>...</td>\n",
       "    </tr>\n",
       "    <tr>\n",
       "      <th>74628</th>\n",
       "      <td>32</td>\n",
       "      <td>8</td>\n",
       "      <td>29.719211</td>\n",
       "      <td>8</td>\n",
       "      <td>Standard</td>\n",
       "      <td>Poor</td>\n",
       "    </tr>\n",
       "    <tr>\n",
       "      <th>12444</th>\n",
       "      <td>22</td>\n",
       "      <td>15</td>\n",
       "      <td>39.535362</td>\n",
       "      <td>28</td>\n",
       "      <td>Poor</td>\n",
       "      <td>Standard</td>\n",
       "    </tr>\n",
       "    <tr>\n",
       "      <th>711</th>\n",
       "      <td>11</td>\n",
       "      <td>15</td>\n",
       "      <td>40.014586</td>\n",
       "      <td>29</td>\n",
       "      <td>Standard</td>\n",
       "      <td>Standard</td>\n",
       "    </tr>\n",
       "    <tr>\n",
       "      <th>8310</th>\n",
       "      <td>-2</td>\n",
       "      <td>12</td>\n",
       "      <td>22.302836</td>\n",
       "      <td>23</td>\n",
       "      <td>Poor</td>\n",
       "      <td>Standard</td>\n",
       "    </tr>\n",
       "    <tr>\n",
       "      <th>37916</th>\n",
       "      <td>25</td>\n",
       "      <td>16</td>\n",
       "      <td>33.826802</td>\n",
       "      <td>31</td>\n",
       "      <td>Standard</td>\n",
       "      <td>Standard</td>\n",
       "    </tr>\n",
       "  </tbody>\n",
       "</table>\n",
       "<p>250 rows × 6 columns</p>\n",
       "</div>"
      ],
      "text/plain": [
       "       Delay_from_due_date  Num_of_Delayed_Payment  Credit_Utilization_Ratio  \\\n",
       "20161                   51                      19                 25.411206   \n",
       "11038                   30                       5                 23.293286   \n",
       "28598                   24                      21                 24.691626   \n",
       "49780                   10                      14                 32.039273   \n",
       "81976                   22                      12                 26.033306   \n",
       "...                    ...                     ...                       ...   \n",
       "74628                   32                       8                 29.719211   \n",
       "12444                   22                      15                 39.535362   \n",
       "711                     11                      15                 40.014586   \n",
       "8310                    -2                      12                 22.302836   \n",
       "37916                   25                      16                 33.826802   \n",
       "\n",
       "       Credit_History_Age Credit_Score predicted  \n",
       "20161                   9         Poor      Poor  \n",
       "11038                  28         Poor  Standard  \n",
       "28598                  28     Standard  Standard  \n",
       "49780                  22     Standard  Standard  \n",
       "81976                  11     Standard      Poor  \n",
       "...                   ...          ...       ...  \n",
       "74628                   8     Standard      Poor  \n",
       "12444                  28         Poor  Standard  \n",
       "711                    29     Standard  Standard  \n",
       "8310                   23         Poor  Standard  \n",
       "37916                  31     Standard  Standard  \n",
       "\n",
       "[250 rows x 6 columns]"
      ]
     },
     "execution_count": 22,
     "metadata": {},
     "output_type": "execute_result"
    }
   ],
   "source": [
    "test_predictions = test.assign(\n",
    "    predicted = train_fit.predict(test[predictors])\n",
    ")\n",
    "test_predictions"
   ]
  },
  {
   "cell_type": "code",
   "execution_count": 23,
   "metadata": {
    "tags": []
   },
   "outputs": [
    {
     "data": {
      "text/plain": [
       "0.544"
      ]
     },
     "execution_count": 23,
     "metadata": {},
     "output_type": "execute_result"
    }
   ],
   "source": [
    "correct_preds = test_predictions[\n",
    "    test_predictions['Credit_Score'] == test_predictions['predicted']\n",
    "]\n",
    "\n",
    "correct_preds.shape[0] / test_predictions.shape[0]"
   ]
  },
  {
   "cell_type": "code",
   "execution_count": 26,
   "metadata": {
    "tags": []
   },
   "outputs": [
    {
     "data": {
      "text/plain": [
       "0.544"
      ]
     },
     "execution_count": 26,
     "metadata": {},
     "output_type": "execute_result"
    }
   ],
   "source": [
    "X_test = test[predictors]\n",
    "y_test = test[\"Credit_Score\"]\n",
    "accuracy = train_fit.score(X_test,y_test)\n",
    "accuracy"
   ]
  },
  {
   "cell_type": "markdown",
   "metadata": {},
   "source": [
    "### Choosing the best K"
   ]
  },
  {
   "cell_type": "code",
   "execution_count": null,
   "metadata": {},
   "outputs": [],
   "source": []
  },
  {
   "cell_type": "markdown",
   "metadata": {},
   "source": [
    "### Expected outcomes and significance\n",
    "- *What do you expect to find?* \n",
    "  \n",
    "  People with more loans to be categorized in a ‘lower’ category. People with a bigger income, older credit account  age (more credit history) and fewer delayed payments to be in  a better category. Having a mix of credit types - loans/credit cards/mortgages also results in a better score.\n",
    "  \n",
    "- *What impact could such findings have?*\n",
    "  - Helping banks predict whether it is a good idea to issue a new credit card to a new user\n",
    "  - Can influence an individual’s credit limit/interest rate.\n",
    "  - Studying the relation of individual factors with credit score category classification.\n",
    "  \n",
    "- *What future questions could this lead to?* \n",
    "  \n",
    "  How do we evaluate or categorize a new person who has just started working and does not have a long enough credit history.\n"
   ]
  },
  {
   "cell_type": "code",
   "execution_count": null,
   "metadata": {},
   "outputs": [],
   "source": []
  }
 ],
 "metadata": {
  "kernelspec": {
   "display_name": "Python 3 (ipykernel)",
   "language": "python",
   "name": "python3"
  },
  "language_info": {
   "codemirror_mode": {
    "name": "ipython",
    "version": 3
   },
   "file_extension": ".py",
   "mimetype": "text/x-python",
   "name": "python",
   "nbconvert_exporter": "python",
   "pygments_lexer": "ipython3",
   "version": "3.10.8"
  }
 },
 "nbformat": 4,
 "nbformat_minor": 4
}
