{
 "cells": [
  {
   "cell_type": "markdown",
   "metadata": {},
   "source": [
    "# Group 13 Project Report\n",
    "\n",
    "# Credit Score Classification"
   ]
  },
  {
   "cell_type": "code",
   "execution_count": 1,
   "metadata": {
    "tags": []
   },
   "outputs": [
    {
     "name": "stdout",
     "output_type": "stream",
     "text": [
      "Requirement already satisfied: altair in /opt/conda/lib/python3.10/site-packages (5.2.0)\n",
      "Requirement already satisfied: pandas>=0.25 in /opt/conda/lib/python3.10/site-packages (from altair) (1.5.3)\n",
      "Requirement already satisfied: jsonschema>=3.0 in /opt/conda/lib/python3.10/site-packages (from altair) (4.17.3)\n",
      "Requirement already satisfied: typing-extensions>=4.0.1 in /opt/conda/lib/python3.10/site-packages (from altair) (4.4.0)\n",
      "Requirement already satisfied: packaging in /opt/conda/lib/python3.10/site-packages (from altair) (23.0)\n",
      "Requirement already satisfied: jinja2 in /opt/conda/lib/python3.10/site-packages (from altair) (3.1.2)\n",
      "Requirement already satisfied: toolz in /opt/conda/lib/python3.10/site-packages (from altair) (0.12.0)\n",
      "Requirement already satisfied: numpy in /opt/conda/lib/python3.10/site-packages (from altair) (1.23.5)\n",
      "Requirement already satisfied: pyrsistent!=0.17.0,!=0.17.1,!=0.17.2,>=0.14.0 in /opt/conda/lib/python3.10/site-packages (from jsonschema>=3.0->altair) (0.19.3)\n",
      "Requirement already satisfied: attrs>=17.4.0 in /opt/conda/lib/python3.10/site-packages (from jsonschema>=3.0->altair) (22.2.0)\n",
      "Requirement already satisfied: python-dateutil>=2.8.1 in /opt/conda/lib/python3.10/site-packages (from pandas>=0.25->altair) (2.8.2)\n",
      "Requirement already satisfied: pytz>=2020.1 in /opt/conda/lib/python3.10/site-packages (from pandas>=0.25->altair) (2022.7.1)\n",
      "Requirement already satisfied: MarkupSafe>=2.0 in /opt/conda/lib/python3.10/site-packages (from jinja2->altair) (2.1.2)\n",
      "Requirement already satisfied: six>=1.5 in /opt/conda/lib/python3.10/site-packages (from python-dateutil>=2.8.1->pandas>=0.25->altair) (1.16.0)\n",
      "Note: you may need to restart the kernel to use updated packages.\n"
     ]
    }
   ],
   "source": [
    "pip install -U altair"
   ]
  },
  {
   "cell_type": "markdown",
   "metadata": {},
   "source": [
    "**Introduction:**\n",
    "A credit report is a summary of a person’s credit history and is created when you borrow money or apply for a credit card. A credit score is a 3 digit number calculated based on your credit report that summarizes how well you manage your credit and how risky it would be for someone to lend you money. The higher credit score the better your rating is.\n",
    "\n",
    "\n",
    "A credit score is calculated based on a few different factors such as:\n",
    "- a person's anual income\n",
    "- the number of credit cards they have\n",
    "- the number of loans they have\n",
    "- their credit card payment history\n",
    "- how old their credit is\n",
    "\n",
    "and more\n",
    "\n",
    "\n",
    "\n",
    "**The Question we aim to answer:** Can we classify someone’s credit score based on banking history and financial traits like the number of delayed payments and the amount of delay in paying their credit card bill? \n",
    "\n",
    "**Dataset description:** The dataset contains the bank and credit-related information of many individuals that have been amassed by a global finance company. It contains 27 columns of these information such as bank account history, loans, debt and EMI along with the number of credit cards a person has and their credit card payment history\n",
    "\n",
    "**Dataset source:** https://www.kaggle.com/datasets/parisrohan/credit-score-classification/data \n",
    " \n"
   ]
  },
  {
   "cell_type": "code",
   "execution_count": 2,
   "metadata": {
    "tags": []
   },
   "outputs": [],
   "source": [
    "import random\n",
    "import altair as alt\n",
    "import pandas as pd\n",
    "import numpy as np\n",
    "from sklearn import set_config\n",
    "from sklearn.compose import make_column_transformer\n",
    "from sklearn.metrics.pairwise import euclidean_distances\n",
    "from sklearn.neighbors import KNeighborsClassifier\n",
    "from sklearn.pipeline import make_pipeline\n",
    "from sklearn.preprocessing import OneHotEncoder, StandardScaler\n",
    "from sklearn.metrics import confusion_matrix\n",
    "from sklearn.model_selection import GridSearchCV, cross_validate\n",
    "\n",
    "np.random.seed(999) # setting the seed"
   ]
  },
  {
   "cell_type": "markdown",
   "metadata": {},
   "source": [
    "### Reading the data from a URL"
   ]
  },
  {
   "cell_type": "markdown",
   "metadata": {},
   "source": [
    "We uploaded the dataset to GitHub so we could read it directly from a URL\n",
    "\n",
    "The public dataset we chose already had a split between the training data and test data, however, we wanted to experiment with different values of a train/test split and decided to only use the training dataset and perform the train/test split ourselves for our classification model."
   ]
  },
  {
   "cell_type": "code",
   "execution_count": 3,
   "metadata": {
    "tags": []
   },
   "outputs": [
    {
     "name": "stdout",
     "output_type": "stream",
     "text": [
      "<class 'pandas.core.frame.DataFrame'>\n",
      "RangeIndex: 100000 entries, 0 to 99999\n",
      "Data columns (total 28 columns):\n",
      " #   Column                    Non-Null Count   Dtype  \n",
      "---  ------                    --------------   -----  \n",
      " 0   ID                        100000 non-null  object \n",
      " 1   Customer_ID               100000 non-null  object \n",
      " 2   Month                     100000 non-null  object \n",
      " 3   Name                      90015 non-null   object \n",
      " 4   Age                       100000 non-null  object \n",
      " 5   SSN                       100000 non-null  object \n",
      " 6   Occupation                100000 non-null  object \n",
      " 7   Annual_Income             100000 non-null  object \n",
      " 8   Monthly_Inhand_Salary     84998 non-null   float64\n",
      " 9   Num_Bank_Accounts         100000 non-null  int64  \n",
      " 10  Num_Credit_Card           100000 non-null  int64  \n",
      " 11  Interest_Rate             100000 non-null  int64  \n",
      " 12  Num_of_Loan               100000 non-null  object \n",
      " 13  Type_of_Loan              88592 non-null   object \n",
      " 14  Delay_from_due_date       100000 non-null  int64  \n",
      " 15  Num_of_Delayed_Payment    92998 non-null   object \n",
      " 16  Changed_Credit_Limit      100000 non-null  object \n",
      " 17  Num_Credit_Inquiries      98035 non-null   float64\n",
      " 18  Credit_Mix                100000 non-null  object \n",
      " 19  Outstanding_Debt          100000 non-null  object \n",
      " 20  Credit_Utilization_Ratio  100000 non-null  float64\n",
      " 21  Credit_History_Age        90970 non-null   object \n",
      " 22  Payment_of_Min_Amount     100000 non-null  object \n",
      " 23  Total_EMI_per_month       100000 non-null  float64\n",
      " 24  Amount_invested_monthly   95521 non-null   object \n",
      " 25  Payment_Behaviour         100000 non-null  object \n",
      " 26  Monthly_Balance           98800 non-null   object \n",
      " 27  Credit_Score              100000 non-null  object \n",
      "dtypes: float64(4), int64(4), object(20)\n",
      "memory usage: 21.4+ MB\n"
     ]
    }
   ],
   "source": [
    "url_credit = \"https://raw.githubusercontent.com/vedika37/dsci100-proj/main/train.csv\"\n",
    "credit = pd.read_csv(url_credit,sep = \",\", low_memory=False)\n",
    "credit.info()"
   ]
  },
  {
   "cell_type": "markdown",
   "metadata": {},
   "source": [
    "As we can see from the output of credit.info() the number of non-null observations are not the same across all variables, so to be able to analyze patterns in our data, we will first have to do some data cleaning. "
   ]
  },
  {
   "cell_type": "markdown",
   "metadata": {},
   "source": [
    "### Cleaning Data "
   ]
  },
  {
   "cell_type": "code",
   "execution_count": 4,
   "metadata": {
    "tags": []
   },
   "outputs": [
    {
     "data": {
      "text/html": [
       "<div>\n",
       "<style scoped>\n",
       "    .dataframe tbody tr th:only-of-type {\n",
       "        vertical-align: middle;\n",
       "    }\n",
       "\n",
       "    .dataframe tbody tr th {\n",
       "        vertical-align: top;\n",
       "    }\n",
       "\n",
       "    .dataframe thead th {\n",
       "        text-align: right;\n",
       "    }\n",
       "</style>\n",
       "<table border=\"1\" class=\"dataframe\">\n",
       "  <thead>\n",
       "    <tr style=\"text-align: right;\">\n",
       "      <th></th>\n",
       "      <th>Num_of_Delayed_Payment</th>\n",
       "      <th>Delay_from_due_date</th>\n",
       "      <th>Credit_Score</th>\n",
       "    </tr>\n",
       "  </thead>\n",
       "  <tbody>\n",
       "    <tr>\n",
       "      <th>0</th>\n",
       "      <td>7</td>\n",
       "      <td>3</td>\n",
       "      <td>Good</td>\n",
       "    </tr>\n",
       "    <tr>\n",
       "      <th>2</th>\n",
       "      <td>7</td>\n",
       "      <td>3</td>\n",
       "      <td>Good</td>\n",
       "    </tr>\n",
       "    <tr>\n",
       "      <th>3</th>\n",
       "      <td>4</td>\n",
       "      <td>5</td>\n",
       "      <td>Good</td>\n",
       "    </tr>\n",
       "    <tr>\n",
       "      <th>5</th>\n",
       "      <td>4</td>\n",
       "      <td>8</td>\n",
       "      <td>Good</td>\n",
       "    </tr>\n",
       "    <tr>\n",
       "      <th>6</th>\n",
       "      <td>8_</td>\n",
       "      <td>3</td>\n",
       "      <td>Good</td>\n",
       "    </tr>\n",
       "  </tbody>\n",
       "</table>\n",
       "</div>"
      ],
      "text/plain": [
       "  Num_of_Delayed_Payment  Delay_from_due_date Credit_Score\n",
       "0                      7                    3         Good\n",
       "2                      7                    3         Good\n",
       "3                      4                    5         Good\n",
       "5                      4                    8         Good\n",
       "6                     8_                    3         Good"
      ]
     },
     "execution_count": 4,
     "metadata": {},
     "output_type": "execute_result"
    }
   ],
   "source": [
    "# dropping null values and columns not used in analysis\n",
    "\n",
    "# Predictors:\n",
    "\n",
    "# - number of delayed payments \n",
    "# - delay from due date \n",
    "\n",
    "credit = credit[['Num_of_Delayed_Payment', 'Delay_from_due_date', 'Credit_Score']]\n",
    "credit = credit.dropna()\n",
    "credit.head()"
   ]
  },
  {
   "cell_type": "code",
   "execution_count": 5,
   "metadata": {
    "tags": []
   },
   "outputs": [
    {
     "data": {
      "text/plain": [
       "array(['Good', 'Standard', 'Poor'], dtype=object)"
      ]
     },
     "execution_count": 5,
     "metadata": {},
     "output_type": "execute_result"
    }
   ],
   "source": [
    "credit[\"Credit_Score\"].unique()"
   ]
  },
  {
   "cell_type": "markdown",
   "metadata": {},
   "source": [
    "We see here that our output variable i.e the credit score takes three unique values -> Good, Standard and Poor."
   ]
  },
  {
   "cell_type": "code",
   "execution_count": 6,
   "metadata": {
    "tags": []
   },
   "outputs": [
    {
     "data": {
      "text/html": [
       "<div>\n",
       "<style scoped>\n",
       "    .dataframe tbody tr th:only-of-type {\n",
       "        vertical-align: middle;\n",
       "    }\n",
       "\n",
       "    .dataframe tbody tr th {\n",
       "        vertical-align: top;\n",
       "    }\n",
       "\n",
       "    .dataframe thead th {\n",
       "        text-align: right;\n",
       "    }\n",
       "</style>\n",
       "<table border=\"1\" class=\"dataframe\">\n",
       "  <thead>\n",
       "    <tr style=\"text-align: right;\">\n",
       "      <th></th>\n",
       "      <th>Num_of_Delayed_Payment</th>\n",
       "      <th>Delay_from_due_date</th>\n",
       "      <th>Credit_Score</th>\n",
       "    </tr>\n",
       "  </thead>\n",
       "  <tbody>\n",
       "    <tr>\n",
       "      <th>0</th>\n",
       "      <td>7</td>\n",
       "      <td>3</td>\n",
       "      <td>Good</td>\n",
       "    </tr>\n",
       "    <tr>\n",
       "      <th>2</th>\n",
       "      <td>7</td>\n",
       "      <td>3</td>\n",
       "      <td>Good</td>\n",
       "    </tr>\n",
       "    <tr>\n",
       "      <th>3</th>\n",
       "      <td>4</td>\n",
       "      <td>5</td>\n",
       "      <td>Good</td>\n",
       "    </tr>\n",
       "    <tr>\n",
       "      <th>5</th>\n",
       "      <td>4</td>\n",
       "      <td>8</td>\n",
       "      <td>Good</td>\n",
       "    </tr>\n",
       "    <tr>\n",
       "      <th>7</th>\n",
       "      <td>6</td>\n",
       "      <td>3</td>\n",
       "      <td>Standard</td>\n",
       "    </tr>\n",
       "  </tbody>\n",
       "</table>\n",
       "</div>"
      ],
      "text/plain": [
       "  Num_of_Delayed_Payment  Delay_from_due_date Credit_Score\n",
       "0                      7                    3         Good\n",
       "2                      7                    3         Good\n",
       "3                      4                    5         Good\n",
       "5                      4                    8         Good\n",
       "7                      6                    3     Standard"
      ]
     },
     "execution_count": 6,
     "metadata": {},
     "output_type": "execute_result"
    }
   ],
   "source": [
    "# cleaning Num_of_Delayed_Payment and keeping it to integer values to use in our analysis\n",
    "credit = credit[credit['Num_of_Delayed_Payment'].str.isdigit()]\n",
    "credit.head()"
   ]
  },
  {
   "cell_type": "code",
   "execution_count": 7,
   "metadata": {
    "tags": []
   },
   "outputs": [],
   "source": [
    "credit= credit.astype({'Num_of_Delayed_Payment': int})\n"
   ]
  },
  {
   "cell_type": "markdown",
   "metadata": {},
   "source": [
    "### Summarizing Data"
   ]
  },
  {
   "cell_type": "code",
   "execution_count": 8,
   "metadata": {
    "tags": []
   },
   "outputs": [
    {
     "data": {
      "text/plain": [
       "Num_of_Delayed_Payment     int64\n",
       "Delay_from_due_date        int64\n",
       "Credit_Score              object\n",
       "dtype: object"
      ]
     },
     "execution_count": 8,
     "metadata": {},
     "output_type": "execute_result"
    }
   ],
   "source": [
    "# each column along with its datatype\n",
    "credit.dtypes"
   ]
  },
  {
   "cell_type": "code",
   "execution_count": 9,
   "metadata": {
    "tags": []
   },
   "outputs": [
    {
     "name": "stdout",
     "output_type": "stream",
     "text": [
      "<class 'pandas.core.frame.DataFrame'>\n",
      "Int64Index: 89632 entries, 0 to 99999\n",
      "Data columns (total 3 columns):\n",
      " #   Column                  Non-Null Count  Dtype \n",
      "---  ------                  --------------  ----- \n",
      " 0   Num_of_Delayed_Payment  89632 non-null  int64 \n",
      " 1   Delay_from_due_date     89632 non-null  int64 \n",
      " 2   Credit_Score            89632 non-null  object\n",
      "dtypes: int64(2), object(1)\n",
      "memory usage: 2.7+ MB\n"
     ]
    }
   ],
   "source": [
    "credit.info()"
   ]
  },
  {
   "cell_type": "code",
   "execution_count": 10,
   "metadata": {
    "tags": []
   },
   "outputs": [
    {
     "data": {
      "text/html": [
       "<div>\n",
       "<style scoped>\n",
       "    .dataframe tbody tr th:only-of-type {\n",
       "        vertical-align: middle;\n",
       "    }\n",
       "\n",
       "    .dataframe tbody tr th {\n",
       "        vertical-align: top;\n",
       "    }\n",
       "\n",
       "    .dataframe thead th {\n",
       "        text-align: right;\n",
       "    }\n",
       "</style>\n",
       "<table border=\"1\" class=\"dataframe\">\n",
       "  <thead>\n",
       "    <tr style=\"text-align: right;\">\n",
       "      <th></th>\n",
       "      <th>Num_of_Delayed_Payment</th>\n",
       "      <th>Delay_from_due_date</th>\n",
       "    </tr>\n",
       "  </thead>\n",
       "  <tbody>\n",
       "    <tr>\n",
       "      <th>count</th>\n",
       "      <td>89632.000000</td>\n",
       "      <td>89632.000000</td>\n",
       "    </tr>\n",
       "    <tr>\n",
       "      <th>mean</th>\n",
       "      <td>31.259863</td>\n",
       "      <td>21.175328</td>\n",
       "    </tr>\n",
       "    <tr>\n",
       "      <th>std</th>\n",
       "      <td>227.725486</td>\n",
       "      <td>14.864670</td>\n",
       "    </tr>\n",
       "    <tr>\n",
       "      <th>min</th>\n",
       "      <td>0.000000</td>\n",
       "      <td>-5.000000</td>\n",
       "    </tr>\n",
       "    <tr>\n",
       "      <th>25%</th>\n",
       "      <td>9.000000</td>\n",
       "      <td>10.000000</td>\n",
       "    </tr>\n",
       "    <tr>\n",
       "      <th>50%</th>\n",
       "      <td>14.000000</td>\n",
       "      <td>18.000000</td>\n",
       "    </tr>\n",
       "    <tr>\n",
       "      <th>75%</th>\n",
       "      <td>18.000000</td>\n",
       "      <td>28.000000</td>\n",
       "    </tr>\n",
       "    <tr>\n",
       "      <th>max</th>\n",
       "      <td>4397.000000</td>\n",
       "      <td>67.000000</td>\n",
       "    </tr>\n",
       "  </tbody>\n",
       "</table>\n",
       "</div>"
      ],
      "text/plain": [
       "       Num_of_Delayed_Payment  Delay_from_due_date\n",
       "count            89632.000000         89632.000000\n",
       "mean                31.259863            21.175328\n",
       "std                227.725486            14.864670\n",
       "min                  0.000000            -5.000000\n",
       "25%                  9.000000            10.000000\n",
       "50%                 14.000000            18.000000\n",
       "75%                 18.000000            28.000000\n",
       "max               4397.000000            67.000000"
      ]
     },
     "execution_count": 10,
     "metadata": {},
     "output_type": "execute_result"
    }
   ],
   "source": [
    "# generating descriptive statistics for numeric and 'object' type columns\n",
    "credit.describe()"
   ]
  },
  {
   "cell_type": "markdown",
   "metadata": {},
   "source": [
    "### Taking a Random Sample"
   ]
  },
  {
   "cell_type": "code",
   "execution_count": 11,
   "metadata": {
    "tags": []
   },
   "outputs": [
    {
     "data": {
      "text/plain": [
       "Standard    0.532366\n",
       "Poor        0.291693\n",
       "Good        0.175942\n",
       "Name: Credit_Score, dtype: float64"
      ]
     },
     "execution_count": 11,
     "metadata": {},
     "output_type": "execute_result"
    }
   ],
   "source": [
    "credit['Credit_Score'].value_counts(normalize=True)"
   ]
  },
  {
   "cell_type": "code",
   "execution_count": 12,
   "metadata": {
    "tags": []
   },
   "outputs": [
    {
     "data": {
      "text/plain": [
       "Standard    0.545\n",
       "Poor        0.280\n",
       "Good        0.175\n",
       "Name: Credit_Score, dtype: float64"
      ]
     },
     "execution_count": 12,
     "metadata": {},
     "output_type": "execute_result"
    }
   ],
   "source": [
    "credit_sample = credit.sample(n = 1000)\n",
    "credit_sample['Credit_Score'].value_counts(normalize=True)"
   ]
  },
  {
   "cell_type": "markdown",
   "metadata": {},
   "source": [
    "#### Impact Of Taking Subset of Data\n",
    "\n",
    "We have limited our sample size to 1,000 observations, despite the original dataset containing over 80,000 entries. Training our model on the full dataset might yield more representative results, but this approach demands significant computational resources and time. To mitigate this, we've ensured that the proportions of output categories in our sample closely mirror those in the original dataset, thus minimizing the risk of bias in our results. However, it's notable that the 'standard' category constitutes approximately 53.3% of our sample outputs. This could suggest a sampling bias, a factor often beyond the control of data scientists and a potential limitation of our study. To further address this, we could consider selecting a dataset where all outputs are equally represented. However, this approach may not accurately reflect the actual population demographics, presenting a trade-off between balanced representation and real-world application."
   ]
  },
  {
   "cell_type": "markdown",
   "metadata": {},
   "source": [
    "### Train - Test Split "
   ]
  },
  {
   "cell_type": "code",
   "execution_count": 13,
   "metadata": {
    "tags": []
   },
   "outputs": [
    {
     "name": "stdout",
     "output_type": "stream",
     "text": [
      "<class 'pandas.core.frame.DataFrame'>\n",
      "Int64Index: 750 entries, 25469 to 14556\n",
      "Data columns (total 3 columns):\n",
      " #   Column                  Non-Null Count  Dtype \n",
      "---  ------                  --------------  ----- \n",
      " 0   Num_of_Delayed_Payment  750 non-null    int64 \n",
      " 1   Delay_from_due_date     750 non-null    int64 \n",
      " 2   Credit_Score            750 non-null    object\n",
      "dtypes: int64(2), object(1)\n",
      "memory usage: 23.4+ KB\n",
      "None\n",
      "<class 'pandas.core.frame.DataFrame'>\n",
      "Int64Index: 250 entries, 28983 to 95411\n",
      "Data columns (total 3 columns):\n",
      " #   Column                  Non-Null Count  Dtype \n",
      "---  ------                  --------------  ----- \n",
      " 0   Num_of_Delayed_Payment  250 non-null    int64 \n",
      " 1   Delay_from_due_date     250 non-null    int64 \n",
      " 2   Credit_Score            250 non-null    object\n",
      "dtypes: int64(2), object(1)\n",
      "memory usage: 7.8+ KB\n",
      "None\n"
     ]
    }
   ],
   "source": [
    "from sklearn.model_selection import train_test_split\n",
    "\n",
    "train, test = train_test_split(\n",
    "    credit_sample, train_size=0.75, stratify=credit_sample[\"Credit_Score\"]\n",
    ")\n",
    "print(train.info())\n",
    "print(test.info())"
   ]
  },
  {
   "cell_type": "code",
   "execution_count": 14,
   "metadata": {
    "tags": []
   },
   "outputs": [
    {
     "name": "stdout",
     "output_type": "stream",
     "text": [
      "Value counts for training data\n",
      " Standard    0.545333\n",
      "Poor        0.280000\n",
      "Good        0.174667\n",
      "Name: Credit_Score, dtype: float64\n",
      "\n",
      "Value counts for testing data\n",
      " Standard    0.544\n",
      "Poor        0.280\n",
      "Good        0.176\n",
      "Name: Credit_Score, dtype: float64\n"
     ]
    }
   ],
   "source": [
    "print(\"Value counts for training data\\n\",train[\"Credit_Score\"].value_counts(normalize=True))\n",
    "print(\"\\nValue counts for testing data\\n\",test[\"Credit_Score\"].value_counts(normalize=True))"
   ]
  },
  {
   "cell_type": "markdown",
   "metadata": {},
   "source": [
    "### Visualizing Data - Distribution of Predictor Variables"
   ]
  },
  {
   "cell_type": "code",
   "execution_count": 15,
   "metadata": {
    "tags": []
   },
   "outputs": [
    {
     "data": {
      "text/html": [
       "\n",
       "<style>\n",
       "  #altair-viz-27dc0fb64e164e6a95c78bd4df632dae.vega-embed {\n",
       "    width: 100%;\n",
       "    display: flex;\n",
       "  }\n",
       "\n",
       "  #altair-viz-27dc0fb64e164e6a95c78bd4df632dae.vega-embed details,\n",
       "  #altair-viz-27dc0fb64e164e6a95c78bd4df632dae.vega-embed details summary {\n",
       "    position: relative;\n",
       "  }\n",
       "</style>\n",
       "<div id=\"altair-viz-27dc0fb64e164e6a95c78bd4df632dae\"></div>\n",
       "<script type=\"text/javascript\">\n",
       "  var VEGA_DEBUG = (typeof VEGA_DEBUG == \"undefined\") ? {} : VEGA_DEBUG;\n",
       "  (function(spec, embedOpt){\n",
       "    let outputDiv = document.currentScript.previousElementSibling;\n",
       "    if (outputDiv.id !== \"altair-viz-27dc0fb64e164e6a95c78bd4df632dae\") {\n",
       "      outputDiv = document.getElementById(\"altair-viz-27dc0fb64e164e6a95c78bd4df632dae\");\n",
       "    }\n",
       "    const paths = {\n",
       "      \"vega\": \"https://cdn.jsdelivr.net/npm/vega@5?noext\",\n",
       "      \"vega-lib\": \"https://cdn.jsdelivr.net/npm/vega-lib?noext\",\n",
       "      \"vega-lite\": \"https://cdn.jsdelivr.net/npm/vega-lite@5.16.3?noext\",\n",
       "      \"vega-embed\": \"https://cdn.jsdelivr.net/npm/vega-embed@6?noext\",\n",
       "    };\n",
       "\n",
       "    function maybeLoadScript(lib, version) {\n",
       "      var key = `${lib.replace(\"-\", \"\")}_version`;\n",
       "      return (VEGA_DEBUG[key] == version) ?\n",
       "        Promise.resolve(paths[lib]) :\n",
       "        new Promise(function(resolve, reject) {\n",
       "          var s = document.createElement('script');\n",
       "          document.getElementsByTagName(\"head\")[0].appendChild(s);\n",
       "          s.async = true;\n",
       "          s.onload = () => {\n",
       "            VEGA_DEBUG[key] = version;\n",
       "            return resolve(paths[lib]);\n",
       "          };\n",
       "          s.onerror = () => reject(`Error loading script: ${paths[lib]}`);\n",
       "          s.src = paths[lib];\n",
       "        });\n",
       "    }\n",
       "\n",
       "    function showError(err) {\n",
       "      outputDiv.innerHTML = `<div class=\"error\" style=\"color:red;\">${err}</div>`;\n",
       "      throw err;\n",
       "    }\n",
       "\n",
       "    function displayChart(vegaEmbed) {\n",
       "      vegaEmbed(outputDiv, spec, embedOpt)\n",
       "        .catch(err => showError(`Javascript Error: ${err.message}<br>This usually means there's a typo in your chart specification. See the javascript console for the full traceback.`));\n",
       "    }\n",
       "\n",
       "    if(typeof define === \"function\" && define.amd) {\n",
       "      requirejs.config({paths});\n",
       "      require([\"vega-embed\"], displayChart, err => showError(`Error loading script: ${err.message}`));\n",
       "    } else {\n",
       "      maybeLoadScript(\"vega\", \"5\")\n",
       "        .then(() => maybeLoadScript(\"vega-lite\", \"5.16.3\"))\n",
       "        .then(() => maybeLoadScript(\"vega-embed\", \"6\"))\n",
       "        .catch(showError)\n",
       "        .then(() => displayChart(vegaEmbed));\n",
       "    }\n",
       "  })({\"config\": {\"view\": {\"continuousWidth\": 300, \"continuousHeight\": 300}}, \"repeat\": {\"column\": [\"Delay_from_due_date\", \"Num_of_Delayed_Payment\"], \"row\": [\"Delay_from_due_date\", \"Num_of_Delayed_Payment\"]}, \"spec\": {\"data\": {\"name\": \"data-cc68837cc2932101a496a9328c60b185\"}, \"mark\": {\"type\": \"point\", \"opacity\": 0.4}, \"encoding\": {\"color\": {\"field\": \"Credit_Score\", \"title\": \"Credit_Score\", \"type\": \"nominal\"}, \"x\": {\"field\": {\"repeat\": \"row\"}, \"type\": \"quantitative\"}, \"y\": {\"field\": {\"repeat\": \"column\"}, \"type\": \"quantitative\"}}, \"height\": 200, \"width\": 200}, \"$schema\": \"https://vega.github.io/schema/vega-lite/v5.16.3.json\", \"datasets\": {\"data-cc68837cc2932101a496a9328c60b185\": [{\"Num_of_Delayed_Payment\": 17, \"Delay_from_due_date\": 23, \"Credit_Score\": \"Standard\"}, {\"Num_of_Delayed_Payment\": 16, \"Delay_from_due_date\": 48, \"Credit_Score\": \"Poor\"}, {\"Num_of_Delayed_Payment\": 19, \"Delay_from_due_date\": 15, \"Credit_Score\": \"Poor\"}, {\"Num_of_Delayed_Payment\": 22, \"Delay_from_due_date\": 48, \"Credit_Score\": \"Poor\"}, {\"Num_of_Delayed_Payment\": 19, \"Delay_from_due_date\": 26, \"Credit_Score\": \"Standard\"}, {\"Num_of_Delayed_Payment\": 23, \"Delay_from_due_date\": 24, \"Credit_Score\": \"Standard\"}, {\"Num_of_Delayed_Payment\": 18, \"Delay_from_due_date\": 31, \"Credit_Score\": \"Poor\"}, {\"Num_of_Delayed_Payment\": 8, \"Delay_from_due_date\": 11, \"Credit_Score\": \"Good\"}, {\"Num_of_Delayed_Payment\": 20, \"Delay_from_due_date\": 26, \"Credit_Score\": \"Standard\"}, {\"Num_of_Delayed_Payment\": 6, \"Delay_from_due_date\": 9, \"Credit_Score\": \"Standard\"}, {\"Num_of_Delayed_Payment\": 17, \"Delay_from_due_date\": 25, \"Credit_Score\": \"Poor\"}, {\"Num_of_Delayed_Payment\": 8, \"Delay_from_due_date\": 18, \"Credit_Score\": \"Poor\"}, {\"Num_of_Delayed_Payment\": 12, \"Delay_from_due_date\": 12, \"Credit_Score\": \"Poor\"}, {\"Num_of_Delayed_Payment\": 20, \"Delay_from_due_date\": 61, \"Credit_Score\": \"Standard\"}, {\"Num_of_Delayed_Payment\": 7, \"Delay_from_due_date\": 4, \"Credit_Score\": \"Good\"}, {\"Num_of_Delayed_Payment\": 11, \"Delay_from_due_date\": 12, \"Credit_Score\": \"Good\"}, {\"Num_of_Delayed_Payment\": 12, \"Delay_from_due_date\": 4, \"Credit_Score\": \"Standard\"}, {\"Num_of_Delayed_Payment\": 20, \"Delay_from_due_date\": 19, \"Credit_Score\": \"Standard\"}, {\"Num_of_Delayed_Payment\": 7, \"Delay_from_due_date\": 11, \"Credit_Score\": \"Good\"}, {\"Num_of_Delayed_Payment\": 14, \"Delay_from_due_date\": 16, \"Credit_Score\": \"Good\"}, {\"Num_of_Delayed_Payment\": 18, \"Delay_from_due_date\": 16, \"Credit_Score\": \"Standard\"}, {\"Num_of_Delayed_Payment\": 12, \"Delay_from_due_date\": 16, \"Credit_Score\": \"Standard\"}, {\"Num_of_Delayed_Payment\": 7, \"Delay_from_due_date\": 20, \"Credit_Score\": \"Poor\"}, {\"Num_of_Delayed_Payment\": 13, \"Delay_from_due_date\": 9, \"Credit_Score\": \"Standard\"}, {\"Num_of_Delayed_Payment\": 5, \"Delay_from_due_date\": 8, \"Credit_Score\": \"Good\"}, {\"Num_of_Delayed_Payment\": 19, \"Delay_from_due_date\": 40, \"Credit_Score\": \"Good\"}, {\"Num_of_Delayed_Payment\": 12, \"Delay_from_due_date\": 16, \"Credit_Score\": \"Good\"}, {\"Num_of_Delayed_Payment\": 17, \"Delay_from_due_date\": 16, \"Credit_Score\": \"Standard\"}, {\"Num_of_Delayed_Payment\": 19, \"Delay_from_due_date\": 21, \"Credit_Score\": \"Standard\"}, {\"Num_of_Delayed_Payment\": 7, \"Delay_from_due_date\": 25, \"Credit_Score\": \"Poor\"}, {\"Num_of_Delayed_Payment\": 18, \"Delay_from_due_date\": 58, \"Credit_Score\": \"Poor\"}, {\"Num_of_Delayed_Payment\": 9, \"Delay_from_due_date\": 27, \"Credit_Score\": \"Standard\"}, {\"Num_of_Delayed_Payment\": 12, \"Delay_from_due_date\": 42, \"Credit_Score\": \"Poor\"}, {\"Num_of_Delayed_Payment\": 16, \"Delay_from_due_date\": 22, \"Credit_Score\": \"Good\"}, {\"Num_of_Delayed_Payment\": 15, \"Delay_from_due_date\": 32, \"Credit_Score\": \"Standard\"}, {\"Num_of_Delayed_Payment\": 11, \"Delay_from_due_date\": 26, \"Credit_Score\": \"Standard\"}, {\"Num_of_Delayed_Payment\": 11, \"Delay_from_due_date\": 22, \"Credit_Score\": \"Standard\"}, {\"Num_of_Delayed_Payment\": 15, \"Delay_from_due_date\": 60, \"Credit_Score\": \"Standard\"}, {\"Num_of_Delayed_Payment\": 20, \"Delay_from_due_date\": 8, \"Credit_Score\": \"Good\"}, {\"Num_of_Delayed_Payment\": 0, \"Delay_from_due_date\": 8, \"Credit_Score\": \"Good\"}, {\"Num_of_Delayed_Payment\": 16, \"Delay_from_due_date\": 25, \"Credit_Score\": \"Poor\"}, {\"Num_of_Delayed_Payment\": 13, \"Delay_from_due_date\": 29, \"Credit_Score\": \"Standard\"}, {\"Num_of_Delayed_Payment\": 22, \"Delay_from_due_date\": 53, \"Credit_Score\": \"Poor\"}, {\"Num_of_Delayed_Payment\": 24, \"Delay_from_due_date\": 60, \"Credit_Score\": \"Poor\"}, {\"Num_of_Delayed_Payment\": 25, \"Delay_from_due_date\": 25, \"Credit_Score\": \"Standard\"}, {\"Num_of_Delayed_Payment\": 19, \"Delay_from_due_date\": 21, \"Credit_Score\": \"Standard\"}, {\"Num_of_Delayed_Payment\": 11, \"Delay_from_due_date\": 9, \"Credit_Score\": \"Standard\"}, {\"Num_of_Delayed_Payment\": 12, \"Delay_from_due_date\": 25, \"Credit_Score\": \"Standard\"}, {\"Num_of_Delayed_Payment\": 18, \"Delay_from_due_date\": 16, \"Credit_Score\": \"Standard\"}, {\"Num_of_Delayed_Payment\": 15, \"Delay_from_due_date\": 56, \"Credit_Score\": \"Standard\"}, {\"Num_of_Delayed_Payment\": 28, \"Delay_from_due_date\": 35, \"Credit_Score\": \"Poor\"}, {\"Num_of_Delayed_Payment\": 16, \"Delay_from_due_date\": 13, \"Credit_Score\": \"Standard\"}, {\"Num_of_Delayed_Payment\": 13, \"Delay_from_due_date\": 18, \"Credit_Score\": \"Poor\"}, {\"Num_of_Delayed_Payment\": 5, \"Delay_from_due_date\": 3, \"Credit_Score\": \"Good\"}, {\"Num_of_Delayed_Payment\": 18, \"Delay_from_due_date\": 9, \"Credit_Score\": \"Standard\"}, {\"Num_of_Delayed_Payment\": 23, \"Delay_from_due_date\": 48, \"Credit_Score\": \"Standard\"}, {\"Num_of_Delayed_Payment\": 25, \"Delay_from_due_date\": 37, \"Credit_Score\": \"Poor\"}, {\"Num_of_Delayed_Payment\": 6, \"Delay_from_due_date\": 9, \"Credit_Score\": \"Good\"}, {\"Num_of_Delayed_Payment\": 15, \"Delay_from_due_date\": 29, \"Credit_Score\": \"Standard\"}, {\"Num_of_Delayed_Payment\": 11, \"Delay_from_due_date\": -1, \"Credit_Score\": \"Good\"}, {\"Num_of_Delayed_Payment\": 26, \"Delay_from_due_date\": 22, \"Credit_Score\": \"Poor\"}, {\"Num_of_Delayed_Payment\": 0, \"Delay_from_due_date\": 4, \"Credit_Score\": \"Standard\"}, {\"Num_of_Delayed_Payment\": 12, \"Delay_from_due_date\": 27, \"Credit_Score\": \"Standard\"}, {\"Num_of_Delayed_Payment\": 9, \"Delay_from_due_date\": 13, \"Credit_Score\": \"Poor\"}, {\"Num_of_Delayed_Payment\": 9, \"Delay_from_due_date\": 13, \"Credit_Score\": \"Standard\"}, {\"Num_of_Delayed_Payment\": 13, \"Delay_from_due_date\": 27, \"Credit_Score\": \"Standard\"}, {\"Num_of_Delayed_Payment\": 11, \"Delay_from_due_date\": 28, \"Credit_Score\": \"Standard\"}, {\"Num_of_Delayed_Payment\": 25, \"Delay_from_due_date\": 22, \"Credit_Score\": \"Poor\"}, {\"Num_of_Delayed_Payment\": 10, \"Delay_from_due_date\": 2, \"Credit_Score\": \"Good\"}, {\"Num_of_Delayed_Payment\": 14, \"Delay_from_due_date\": 14, \"Credit_Score\": \"Standard\"}, {\"Num_of_Delayed_Payment\": 18, \"Delay_from_due_date\": 16, \"Credit_Score\": \"Standard\"}, {\"Num_of_Delayed_Payment\": 17, \"Delay_from_due_date\": 10, \"Credit_Score\": \"Standard\"}, {\"Num_of_Delayed_Payment\": 2, \"Delay_from_due_date\": 11, \"Credit_Score\": \"Good\"}, {\"Num_of_Delayed_Payment\": 11, \"Delay_from_due_date\": 2, \"Credit_Score\": \"Standard\"}, {\"Num_of_Delayed_Payment\": 19, \"Delay_from_due_date\": 29, \"Credit_Score\": \"Standard\"}, {\"Num_of_Delayed_Payment\": 2, \"Delay_from_due_date\": -1, \"Credit_Score\": \"Good\"}, {\"Num_of_Delayed_Payment\": 10, \"Delay_from_due_date\": 6, \"Credit_Score\": \"Standard\"}, {\"Num_of_Delayed_Payment\": 3, \"Delay_from_due_date\": 13, \"Credit_Score\": \"Good\"}, {\"Num_of_Delayed_Payment\": 3, \"Delay_from_due_date\": 6, \"Credit_Score\": \"Poor\"}, {\"Num_of_Delayed_Payment\": 14, \"Delay_from_due_date\": 19, \"Credit_Score\": \"Standard\"}, {\"Num_of_Delayed_Payment\": 19, \"Delay_from_due_date\": 25, \"Credit_Score\": \"Standard\"}, {\"Num_of_Delayed_Payment\": 4, \"Delay_from_due_date\": 10, \"Credit_Score\": \"Standard\"}, {\"Num_of_Delayed_Payment\": 25, \"Delay_from_due_date\": 40, \"Credit_Score\": \"Poor\"}, {\"Num_of_Delayed_Payment\": 14, \"Delay_from_due_date\": 34, \"Credit_Score\": \"Poor\"}, {\"Num_of_Delayed_Payment\": 15, \"Delay_from_due_date\": 12, \"Credit_Score\": \"Poor\"}, {\"Num_of_Delayed_Payment\": 15, \"Delay_from_due_date\": 12, \"Credit_Score\": \"Poor\"}, {\"Num_of_Delayed_Payment\": 6, \"Delay_from_due_date\": 15, \"Credit_Score\": \"Good\"}, {\"Num_of_Delayed_Payment\": 8, \"Delay_from_due_date\": 10, \"Credit_Score\": \"Standard\"}, {\"Num_of_Delayed_Payment\": 19, \"Delay_from_due_date\": 25, \"Credit_Score\": \"Standard\"}, {\"Num_of_Delayed_Payment\": 14, \"Delay_from_due_date\": 10, \"Credit_Score\": \"Standard\"}, {\"Num_of_Delayed_Payment\": 8, \"Delay_from_due_date\": 36, \"Credit_Score\": \"Standard\"}, {\"Num_of_Delayed_Payment\": 6, \"Delay_from_due_date\": 9, \"Credit_Score\": \"Standard\"}, {\"Num_of_Delayed_Payment\": 23, \"Delay_from_due_date\": 13, \"Credit_Score\": \"Standard\"}, {\"Num_of_Delayed_Payment\": 23, \"Delay_from_due_date\": 36, \"Credit_Score\": \"Poor\"}, {\"Num_of_Delayed_Payment\": 9, \"Delay_from_due_date\": 30, \"Credit_Score\": \"Poor\"}, {\"Num_of_Delayed_Payment\": 15, \"Delay_from_due_date\": 20, \"Credit_Score\": \"Poor\"}, {\"Num_of_Delayed_Payment\": 22, \"Delay_from_due_date\": 21, \"Credit_Score\": \"Standard\"}, {\"Num_of_Delayed_Payment\": 16, \"Delay_from_due_date\": 20, \"Credit_Score\": \"Poor\"}, {\"Num_of_Delayed_Payment\": 18, \"Delay_from_due_date\": 25, \"Credit_Score\": \"Standard\"}, {\"Num_of_Delayed_Payment\": 10, \"Delay_from_due_date\": 16, \"Credit_Score\": \"Standard\"}, {\"Num_of_Delayed_Payment\": 10, \"Delay_from_due_date\": 4, \"Credit_Score\": \"Good\"}, {\"Num_of_Delayed_Payment\": 16, \"Delay_from_due_date\": 17, \"Credit_Score\": \"Standard\"}, {\"Num_of_Delayed_Payment\": 15, \"Delay_from_due_date\": 27, \"Credit_Score\": \"Standard\"}, {\"Num_of_Delayed_Payment\": 9, \"Delay_from_due_date\": 5, \"Credit_Score\": \"Standard\"}, {\"Num_of_Delayed_Payment\": 13, \"Delay_from_due_date\": 7, \"Credit_Score\": \"Standard\"}, {\"Num_of_Delayed_Payment\": 13, \"Delay_from_due_date\": 1, \"Credit_Score\": \"Standard\"}, {\"Num_of_Delayed_Payment\": 15, \"Delay_from_due_date\": 7, \"Credit_Score\": \"Standard\"}, {\"Num_of_Delayed_Payment\": 7, \"Delay_from_due_date\": 9, \"Credit_Score\": \"Standard\"}, {\"Num_of_Delayed_Payment\": 15, \"Delay_from_due_date\": 16, \"Credit_Score\": \"Standard\"}, {\"Num_of_Delayed_Payment\": 17, \"Delay_from_due_date\": 6, \"Credit_Score\": \"Standard\"}, {\"Num_of_Delayed_Payment\": 19, \"Delay_from_due_date\": 30, \"Credit_Score\": \"Standard\"}, {\"Num_of_Delayed_Payment\": 20, \"Delay_from_due_date\": 7, \"Credit_Score\": \"Standard\"}, {\"Num_of_Delayed_Payment\": 20, \"Delay_from_due_date\": 29, \"Credit_Score\": \"Standard\"}, {\"Num_of_Delayed_Payment\": 6, \"Delay_from_due_date\": 8, \"Credit_Score\": \"Poor\"}, {\"Num_of_Delayed_Payment\": 3, \"Delay_from_due_date\": 0, \"Credit_Score\": \"Good\"}, {\"Num_of_Delayed_Payment\": 23, \"Delay_from_due_date\": 49, \"Credit_Score\": \"Standard\"}, {\"Num_of_Delayed_Payment\": 25, \"Delay_from_due_date\": 32, \"Credit_Score\": \"Poor\"}, {\"Num_of_Delayed_Payment\": 12, \"Delay_from_due_date\": 14, \"Credit_Score\": \"Standard\"}, {\"Num_of_Delayed_Payment\": 7, \"Delay_from_due_date\": 12, \"Credit_Score\": \"Standard\"}, {\"Num_of_Delayed_Payment\": 15, \"Delay_from_due_date\": 44, \"Credit_Score\": \"Poor\"}, {\"Num_of_Delayed_Payment\": 11, \"Delay_from_due_date\": 13, \"Credit_Score\": \"Standard\"}, {\"Num_of_Delayed_Payment\": 19, \"Delay_from_due_date\": 25, \"Credit_Score\": \"Poor\"}, {\"Num_of_Delayed_Payment\": 9, \"Delay_from_due_date\": 10, \"Credit_Score\": \"Poor\"}, {\"Num_of_Delayed_Payment\": 18, \"Delay_from_due_date\": 55, \"Credit_Score\": \"Standard\"}, {\"Num_of_Delayed_Payment\": 20, \"Delay_from_due_date\": 30, \"Credit_Score\": \"Poor\"}, {\"Num_of_Delayed_Payment\": 16, \"Delay_from_due_date\": 17, \"Credit_Score\": \"Standard\"}, {\"Num_of_Delayed_Payment\": 22, \"Delay_from_due_date\": 28, \"Credit_Score\": \"Standard\"}, {\"Num_of_Delayed_Payment\": 23, \"Delay_from_due_date\": 42, \"Credit_Score\": \"Poor\"}, {\"Num_of_Delayed_Payment\": 1, \"Delay_from_due_date\": 4, \"Credit_Score\": \"Good\"}, {\"Num_of_Delayed_Payment\": 15, \"Delay_from_due_date\": 21, \"Credit_Score\": \"Standard\"}, {\"Num_of_Delayed_Payment\": 16, \"Delay_from_due_date\": 16, \"Credit_Score\": \"Poor\"}, {\"Num_of_Delayed_Payment\": 8, \"Delay_from_due_date\": 22, \"Credit_Score\": \"Standard\"}, {\"Num_of_Delayed_Payment\": 4, \"Delay_from_due_date\": 14, \"Credit_Score\": \"Standard\"}, {\"Num_of_Delayed_Payment\": 0, \"Delay_from_due_date\": 3, \"Credit_Score\": \"Standard\"}, {\"Num_of_Delayed_Payment\": 6, \"Delay_from_due_date\": 13, \"Credit_Score\": \"Good\"}, {\"Num_of_Delayed_Payment\": 8, \"Delay_from_due_date\": 20, \"Credit_Score\": \"Good\"}, {\"Num_of_Delayed_Payment\": 2, \"Delay_from_due_date\": 5, \"Credit_Score\": \"Good\"}, {\"Num_of_Delayed_Payment\": 21, \"Delay_from_due_date\": 48, \"Credit_Score\": \"Poor\"}, {\"Num_of_Delayed_Payment\": 7, \"Delay_from_due_date\": 23, \"Credit_Score\": \"Standard\"}, {\"Num_of_Delayed_Payment\": 8, \"Delay_from_due_date\": 13, \"Credit_Score\": \"Standard\"}, {\"Num_of_Delayed_Payment\": 17, \"Delay_from_due_date\": 24, \"Credit_Score\": \"Standard\"}, {\"Num_of_Delayed_Payment\": 25, \"Delay_from_due_date\": 36, \"Credit_Score\": \"Standard\"}, {\"Num_of_Delayed_Payment\": 11, \"Delay_from_due_date\": 1, \"Credit_Score\": \"Standard\"}, {\"Num_of_Delayed_Payment\": 11, \"Delay_from_due_date\": 13, \"Credit_Score\": \"Good\"}, {\"Num_of_Delayed_Payment\": 24, \"Delay_from_due_date\": 35, \"Credit_Score\": \"Standard\"}, {\"Num_of_Delayed_Payment\": 5, \"Delay_from_due_date\": 17, \"Credit_Score\": \"Poor\"}, {\"Num_of_Delayed_Payment\": 18, \"Delay_from_due_date\": 43, \"Credit_Score\": \"Standard\"}, {\"Num_of_Delayed_Payment\": 8, \"Delay_from_due_date\": 2, \"Credit_Score\": \"Standard\"}, {\"Num_of_Delayed_Payment\": 24, \"Delay_from_due_date\": 62, \"Credit_Score\": \"Poor\"}, {\"Num_of_Delayed_Payment\": 18, \"Delay_from_due_date\": 43, \"Credit_Score\": \"Poor\"}, {\"Num_of_Delayed_Payment\": 18, \"Delay_from_due_date\": 19, \"Credit_Score\": \"Poor\"}, {\"Num_of_Delayed_Payment\": 10, \"Delay_from_due_date\": 12, \"Credit_Score\": \"Standard\"}, {\"Num_of_Delayed_Payment\": 10, \"Delay_from_due_date\": 19, \"Credit_Score\": \"Poor\"}, {\"Num_of_Delayed_Payment\": 17, \"Delay_from_due_date\": 30, \"Credit_Score\": \"Poor\"}, {\"Num_of_Delayed_Payment\": 19, \"Delay_from_due_date\": 11, \"Credit_Score\": \"Standard\"}, {\"Num_of_Delayed_Payment\": 21, \"Delay_from_due_date\": 20, \"Credit_Score\": \"Poor\"}, {\"Num_of_Delayed_Payment\": 8, \"Delay_from_due_date\": 17, \"Credit_Score\": \"Standard\"}, {\"Num_of_Delayed_Payment\": 17, \"Delay_from_due_date\": 14, \"Credit_Score\": \"Standard\"}, {\"Num_of_Delayed_Payment\": 14, \"Delay_from_due_date\": 12, \"Credit_Score\": \"Standard\"}, {\"Num_of_Delayed_Payment\": 2, \"Delay_from_due_date\": 30, \"Credit_Score\": \"Standard\"}, {\"Num_of_Delayed_Payment\": 6, \"Delay_from_due_date\": 4, \"Credit_Score\": \"Good\"}, {\"Num_of_Delayed_Payment\": 20, \"Delay_from_due_date\": 19, \"Credit_Score\": \"Standard\"}, {\"Num_of_Delayed_Payment\": 14, \"Delay_from_due_date\": 6, \"Credit_Score\": \"Standard\"}, {\"Num_of_Delayed_Payment\": 19, \"Delay_from_due_date\": 29, \"Credit_Score\": \"Standard\"}, {\"Num_of_Delayed_Payment\": 5, \"Delay_from_due_date\": 15, \"Credit_Score\": \"Good\"}, {\"Num_of_Delayed_Payment\": 18, \"Delay_from_due_date\": 14, \"Credit_Score\": \"Standard\"}, {\"Num_of_Delayed_Payment\": 9, \"Delay_from_due_date\": 5, \"Credit_Score\": \"Good\"}, {\"Num_of_Delayed_Payment\": 17, \"Delay_from_due_date\": 15, \"Credit_Score\": \"Poor\"}, {\"Num_of_Delayed_Payment\": 17, \"Delay_from_due_date\": 21, \"Credit_Score\": \"Poor\"}, {\"Num_of_Delayed_Payment\": 2, \"Delay_from_due_date\": 3, \"Credit_Score\": \"Good\"}, {\"Num_of_Delayed_Payment\": 14, \"Delay_from_due_date\": 60, \"Credit_Score\": \"Standard\"}, {\"Num_of_Delayed_Payment\": 19, \"Delay_from_due_date\": 14, \"Credit_Score\": \"Standard\"}, {\"Num_of_Delayed_Payment\": 20, \"Delay_from_due_date\": 5, \"Credit_Score\": \"Standard\"}, {\"Num_of_Delayed_Payment\": 20, \"Delay_from_due_date\": 28, \"Credit_Score\": \"Standard\"}, {\"Num_of_Delayed_Payment\": 2, \"Delay_from_due_date\": 10, \"Credit_Score\": \"Poor\"}, {\"Num_of_Delayed_Payment\": 6, \"Delay_from_due_date\": 10, \"Credit_Score\": \"Standard\"}, {\"Num_of_Delayed_Payment\": 10, \"Delay_from_due_date\": -2, \"Credit_Score\": \"Poor\"}, {\"Num_of_Delayed_Payment\": 14, \"Delay_from_due_date\": 26, \"Credit_Score\": \"Poor\"}, {\"Num_of_Delayed_Payment\": 11, \"Delay_from_due_date\": 12, \"Credit_Score\": \"Good\"}, {\"Num_of_Delayed_Payment\": 8, \"Delay_from_due_date\": 6, \"Credit_Score\": \"Standard\"}, {\"Num_of_Delayed_Payment\": 12, \"Delay_from_due_date\": 20, \"Credit_Score\": \"Good\"}, {\"Num_of_Delayed_Payment\": 11, \"Delay_from_due_date\": 25, \"Credit_Score\": \"Standard\"}, {\"Num_of_Delayed_Payment\": 17, \"Delay_from_due_date\": 27, \"Credit_Score\": \"Standard\"}, {\"Num_of_Delayed_Payment\": 19, \"Delay_from_due_date\": 10, \"Credit_Score\": \"Good\"}, {\"Num_of_Delayed_Payment\": 18, \"Delay_from_due_date\": 19, \"Credit_Score\": \"Poor\"}, {\"Num_of_Delayed_Payment\": 19, \"Delay_from_due_date\": 12, \"Credit_Score\": \"Standard\"}, {\"Num_of_Delayed_Payment\": 19, \"Delay_from_due_date\": 21, \"Credit_Score\": \"Poor\"}, {\"Num_of_Delayed_Payment\": 13, \"Delay_from_due_date\": 17, \"Credit_Score\": \"Poor\"}, {\"Num_of_Delayed_Payment\": 11, \"Delay_from_due_date\": 4, \"Credit_Score\": \"Standard\"}, {\"Num_of_Delayed_Payment\": 17, \"Delay_from_due_date\": 6, \"Credit_Score\": \"Standard\"}, {\"Num_of_Delayed_Payment\": 13, \"Delay_from_due_date\": 18, \"Credit_Score\": \"Standard\"}, {\"Num_of_Delayed_Payment\": 19, \"Delay_from_due_date\": 19, \"Credit_Score\": \"Poor\"}, {\"Num_of_Delayed_Payment\": 24, \"Delay_from_due_date\": 61, \"Credit_Score\": \"Poor\"}, {\"Num_of_Delayed_Payment\": 16, \"Delay_from_due_date\": 19, \"Credit_Score\": \"Standard\"}, {\"Num_of_Delayed_Payment\": 10, \"Delay_from_due_date\": 6, \"Credit_Score\": \"Standard\"}, {\"Num_of_Delayed_Payment\": 17, \"Delay_from_due_date\": 63, \"Credit_Score\": \"Poor\"}, {\"Num_of_Delayed_Payment\": 21, \"Delay_from_due_date\": 40, \"Credit_Score\": \"Standard\"}, {\"Num_of_Delayed_Payment\": 20, \"Delay_from_due_date\": 16, \"Credit_Score\": \"Standard\"}, {\"Num_of_Delayed_Payment\": 1, \"Delay_from_due_date\": 7, \"Credit_Score\": \"Standard\"}, {\"Num_of_Delayed_Payment\": 10, \"Delay_from_due_date\": 13, \"Credit_Score\": \"Standard\"}, {\"Num_of_Delayed_Payment\": 13, \"Delay_from_due_date\": 12, \"Credit_Score\": \"Poor\"}, {\"Num_of_Delayed_Payment\": 9, \"Delay_from_due_date\": 10, \"Credit_Score\": \"Good\"}, {\"Num_of_Delayed_Payment\": 24, \"Delay_from_due_date\": 22, \"Credit_Score\": \"Poor\"}, {\"Num_of_Delayed_Payment\": 2, \"Delay_from_due_date\": 8, \"Credit_Score\": \"Standard\"}, {\"Num_of_Delayed_Payment\": 20, \"Delay_from_due_date\": 21, \"Credit_Score\": \"Standard\"}, {\"Num_of_Delayed_Payment\": 9, \"Delay_from_due_date\": 30, \"Credit_Score\": \"Standard\"}, {\"Num_of_Delayed_Payment\": 14, \"Delay_from_due_date\": 6, \"Credit_Score\": \"Standard\"}, {\"Num_of_Delayed_Payment\": 17, \"Delay_from_due_date\": 32, \"Credit_Score\": \"Standard\"}, {\"Num_of_Delayed_Payment\": 26, \"Delay_from_due_date\": 35, \"Credit_Score\": \"Poor\"}, {\"Num_of_Delayed_Payment\": 15, \"Delay_from_due_date\": 24, \"Credit_Score\": \"Standard\"}, {\"Num_of_Delayed_Payment\": 15, \"Delay_from_due_date\": 10, \"Credit_Score\": \"Standard\"}, {\"Num_of_Delayed_Payment\": 15, \"Delay_from_due_date\": 23, \"Credit_Score\": \"Good\"}, {\"Num_of_Delayed_Payment\": 1, \"Delay_from_due_date\": 14, \"Credit_Score\": \"Standard\"}, {\"Num_of_Delayed_Payment\": 16, \"Delay_from_due_date\": 15, \"Credit_Score\": \"Standard\"}, {\"Num_of_Delayed_Payment\": 17, \"Delay_from_due_date\": 26, \"Credit_Score\": \"Poor\"}, {\"Num_of_Delayed_Payment\": 3, \"Delay_from_due_date\": 8, \"Credit_Score\": \"Good\"}, {\"Num_of_Delayed_Payment\": 17, \"Delay_from_due_date\": 25, \"Credit_Score\": \"Standard\"}, {\"Num_of_Delayed_Payment\": 8, \"Delay_from_due_date\": 31, \"Credit_Score\": \"Standard\"}, {\"Num_of_Delayed_Payment\": 13, \"Delay_from_due_date\": 6, \"Credit_Score\": \"Standard\"}, {\"Num_of_Delayed_Payment\": 9, \"Delay_from_due_date\": 25, \"Credit_Score\": \"Standard\"}, {\"Num_of_Delayed_Payment\": 8, \"Delay_from_due_date\": 51, \"Credit_Score\": \"Poor\"}, {\"Num_of_Delayed_Payment\": 8, \"Delay_from_due_date\": 3, \"Credit_Score\": \"Good\"}, {\"Num_of_Delayed_Payment\": 20, \"Delay_from_due_date\": 15, \"Credit_Score\": \"Standard\"}, {\"Num_of_Delayed_Payment\": 24, \"Delay_from_due_date\": 38, \"Credit_Score\": \"Standard\"}, {\"Num_of_Delayed_Payment\": 11, \"Delay_from_due_date\": 6, \"Credit_Score\": \"Standard\"}, {\"Num_of_Delayed_Payment\": 17, \"Delay_from_due_date\": 20, \"Credit_Score\": \"Standard\"}, {\"Num_of_Delayed_Payment\": 20, \"Delay_from_due_date\": 61, \"Credit_Score\": \"Standard\"}, {\"Num_of_Delayed_Payment\": 19, \"Delay_from_due_date\": 6, \"Credit_Score\": \"Standard\"}, {\"Num_of_Delayed_Payment\": 12, \"Delay_from_due_date\": 16, \"Credit_Score\": \"Standard\"}, {\"Num_of_Delayed_Payment\": 0, \"Delay_from_due_date\": 0, \"Credit_Score\": \"Good\"}, {\"Num_of_Delayed_Payment\": 7, \"Delay_from_due_date\": 11, \"Credit_Score\": \"Standard\"}, {\"Num_of_Delayed_Payment\": 25, \"Delay_from_due_date\": 41, \"Credit_Score\": \"Poor\"}, {\"Num_of_Delayed_Payment\": 7, \"Delay_from_due_date\": 5, \"Credit_Score\": \"Good\"}, {\"Num_of_Delayed_Payment\": 9, \"Delay_from_due_date\": 33, \"Credit_Score\": \"Standard\"}, {\"Num_of_Delayed_Payment\": 22, \"Delay_from_due_date\": 59, \"Credit_Score\": \"Poor\"}, {\"Num_of_Delayed_Payment\": 7, \"Delay_from_due_date\": 5, \"Credit_Score\": \"Good\"}, {\"Num_of_Delayed_Payment\": 5, \"Delay_from_due_date\": 10, \"Credit_Score\": \"Good\"}, {\"Num_of_Delayed_Payment\": 7, \"Delay_from_due_date\": 9, \"Credit_Score\": \"Standard\"}, {\"Num_of_Delayed_Payment\": 19, \"Delay_from_due_date\": 24, \"Credit_Score\": \"Poor\"}, {\"Num_of_Delayed_Payment\": 18, \"Delay_from_due_date\": 6, \"Credit_Score\": \"Standard\"}, {\"Num_of_Delayed_Payment\": 15, \"Delay_from_due_date\": 42, \"Credit_Score\": \"Standard\"}, {\"Num_of_Delayed_Payment\": 13, \"Delay_from_due_date\": 24, \"Credit_Score\": \"Standard\"}, {\"Num_of_Delayed_Payment\": 10, \"Delay_from_due_date\": 6, \"Credit_Score\": \"Good\"}, {\"Num_of_Delayed_Payment\": 7, \"Delay_from_due_date\": 25, \"Credit_Score\": \"Good\"}, {\"Num_of_Delayed_Payment\": 8, \"Delay_from_due_date\": 10, \"Credit_Score\": \"Standard\"}, {\"Num_of_Delayed_Payment\": 18, \"Delay_from_due_date\": 49, \"Credit_Score\": \"Standard\"}, {\"Num_of_Delayed_Payment\": 8, \"Delay_from_due_date\": 11, \"Credit_Score\": \"Good\"}, {\"Num_of_Delayed_Payment\": 16, \"Delay_from_due_date\": 34, \"Credit_Score\": \"Standard\"}, {\"Num_of_Delayed_Payment\": 22, \"Delay_from_due_date\": 34, \"Credit_Score\": \"Poor\"}, {\"Num_of_Delayed_Payment\": 18, \"Delay_from_due_date\": 59, \"Credit_Score\": \"Poor\"}, {\"Num_of_Delayed_Payment\": 9, \"Delay_from_due_date\": 26, \"Credit_Score\": \"Standard\"}, {\"Num_of_Delayed_Payment\": 12, \"Delay_from_due_date\": 8, \"Credit_Score\": \"Poor\"}, {\"Num_of_Delayed_Payment\": 9, \"Delay_from_due_date\": 30, \"Credit_Score\": \"Standard\"}, {\"Num_of_Delayed_Payment\": 19, \"Delay_from_due_date\": 25, \"Credit_Score\": \"Standard\"}, {\"Num_of_Delayed_Payment\": 10, \"Delay_from_due_date\": 11, \"Credit_Score\": \"Standard\"}, {\"Num_of_Delayed_Payment\": 10, \"Delay_from_due_date\": 29, \"Credit_Score\": \"Poor\"}, {\"Num_of_Delayed_Payment\": 24, \"Delay_from_due_date\": 62, \"Credit_Score\": \"Poor\"}, {\"Num_of_Delayed_Payment\": 25, \"Delay_from_due_date\": 64, \"Credit_Score\": \"Poor\"}, {\"Num_of_Delayed_Payment\": 3, \"Delay_from_due_date\": 9, \"Credit_Score\": \"Good\"}, {\"Num_of_Delayed_Payment\": 19, \"Delay_from_due_date\": 13, \"Credit_Score\": \"Good\"}, {\"Num_of_Delayed_Payment\": 20, \"Delay_from_due_date\": 19, \"Credit_Score\": \"Poor\"}, {\"Num_of_Delayed_Payment\": 19, \"Delay_from_due_date\": 24, \"Credit_Score\": \"Standard\"}, {\"Num_of_Delayed_Payment\": 2, \"Delay_from_due_date\": 5, \"Credit_Score\": \"Standard\"}, {\"Num_of_Delayed_Payment\": 8, \"Delay_from_due_date\": 2, \"Credit_Score\": \"Standard\"}, {\"Num_of_Delayed_Payment\": 10, \"Delay_from_due_date\": 15, \"Credit_Score\": \"Standard\"}, {\"Num_of_Delayed_Payment\": 17, \"Delay_from_due_date\": 25, \"Credit_Score\": \"Standard\"}, {\"Num_of_Delayed_Payment\": 10, \"Delay_from_due_date\": 14, \"Credit_Score\": \"Poor\"}, {\"Num_of_Delayed_Payment\": 8, \"Delay_from_due_date\": 16, \"Credit_Score\": \"Poor\"}, {\"Num_of_Delayed_Payment\": 16, \"Delay_from_due_date\": 27, \"Credit_Score\": \"Standard\"}, {\"Num_of_Delayed_Payment\": 17, \"Delay_from_due_date\": 37, \"Credit_Score\": \"Standard\"}, {\"Num_of_Delayed_Payment\": 18, \"Delay_from_due_date\": 27, \"Credit_Score\": \"Poor\"}, {\"Num_of_Delayed_Payment\": 9, \"Delay_from_due_date\": 1, \"Credit_Score\": \"Good\"}, {\"Num_of_Delayed_Payment\": 8, \"Delay_from_due_date\": 15, \"Credit_Score\": \"Standard\"}, {\"Num_of_Delayed_Payment\": 10, \"Delay_from_due_date\": 11, \"Credit_Score\": \"Standard\"}, {\"Num_of_Delayed_Payment\": 1, \"Delay_from_due_date\": 13, \"Credit_Score\": \"Standard\"}, {\"Num_of_Delayed_Payment\": 16, \"Delay_from_due_date\": 19, \"Credit_Score\": \"Standard\"}, {\"Num_of_Delayed_Payment\": 24, \"Delay_from_due_date\": 52, \"Credit_Score\": \"Standard\"}, {\"Num_of_Delayed_Payment\": 10, \"Delay_from_due_date\": 15, \"Credit_Score\": \"Good\"}, {\"Num_of_Delayed_Payment\": 13, \"Delay_from_due_date\": 27, \"Credit_Score\": \"Standard\"}, {\"Num_of_Delayed_Payment\": 12, \"Delay_from_due_date\": 23, \"Credit_Score\": \"Poor\"}, {\"Num_of_Delayed_Payment\": 18, \"Delay_from_due_date\": 57, \"Credit_Score\": \"Poor\"}, {\"Num_of_Delayed_Payment\": 12, \"Delay_from_due_date\": 28, \"Credit_Score\": \"Poor\"}, {\"Num_of_Delayed_Payment\": 13, \"Delay_from_due_date\": 54, \"Credit_Score\": \"Poor\"}, {\"Num_of_Delayed_Payment\": 3, \"Delay_from_due_date\": 0, \"Credit_Score\": \"Good\"}, {\"Num_of_Delayed_Payment\": 10, \"Delay_from_due_date\": 7, \"Credit_Score\": \"Standard\"}, {\"Num_of_Delayed_Payment\": 12, \"Delay_from_due_date\": 15, \"Credit_Score\": \"Standard\"}, {\"Num_of_Delayed_Payment\": 9, \"Delay_from_due_date\": 25, \"Credit_Score\": \"Standard\"}, {\"Num_of_Delayed_Payment\": 13, \"Delay_from_due_date\": 22, \"Credit_Score\": \"Poor\"}, {\"Num_of_Delayed_Payment\": 12, \"Delay_from_due_date\": 16, \"Credit_Score\": \"Poor\"}, {\"Num_of_Delayed_Payment\": 14, \"Delay_from_due_date\": 23, \"Credit_Score\": \"Standard\"}, {\"Num_of_Delayed_Payment\": 17, \"Delay_from_due_date\": 11, \"Credit_Score\": \"Standard\"}, {\"Num_of_Delayed_Payment\": 5, \"Delay_from_due_date\": 11, \"Credit_Score\": \"Poor\"}, {\"Num_of_Delayed_Payment\": 1, \"Delay_from_due_date\": 4, \"Credit_Score\": \"Good\"}, {\"Num_of_Delayed_Payment\": 5, \"Delay_from_due_date\": 3, \"Credit_Score\": \"Standard\"}, {\"Num_of_Delayed_Payment\": 6, \"Delay_from_due_date\": 2, \"Credit_Score\": \"Good\"}, {\"Num_of_Delayed_Payment\": 5, \"Delay_from_due_date\": 11, \"Credit_Score\": \"Standard\"}, {\"Num_of_Delayed_Payment\": 18, \"Delay_from_due_date\": 65, \"Credit_Score\": \"Poor\"}, {\"Num_of_Delayed_Payment\": 4, \"Delay_from_due_date\": 1, \"Credit_Score\": \"Good\"}, {\"Num_of_Delayed_Payment\": 15, \"Delay_from_due_date\": 27, \"Credit_Score\": \"Standard\"}, {\"Num_of_Delayed_Payment\": 10, \"Delay_from_due_date\": 15, \"Credit_Score\": \"Good\"}, {\"Num_of_Delayed_Payment\": 23, \"Delay_from_due_date\": 26, \"Credit_Score\": \"Poor\"}, {\"Num_of_Delayed_Payment\": 16, \"Delay_from_due_date\": 11, \"Credit_Score\": \"Standard\"}, {\"Num_of_Delayed_Payment\": 13, \"Delay_from_due_date\": 4, \"Credit_Score\": \"Good\"}, {\"Num_of_Delayed_Payment\": 20, \"Delay_from_due_date\": 25, \"Credit_Score\": \"Good\"}, {\"Num_of_Delayed_Payment\": 0, \"Delay_from_due_date\": 10, \"Credit_Score\": \"Good\"}, {\"Num_of_Delayed_Payment\": 19, \"Delay_from_due_date\": 30, \"Credit_Score\": \"Poor\"}, {\"Num_of_Delayed_Payment\": 10, \"Delay_from_due_date\": 4, \"Credit_Score\": \"Good\"}, {\"Num_of_Delayed_Payment\": 6, \"Delay_from_due_date\": 29, \"Credit_Score\": \"Poor\"}, {\"Num_of_Delayed_Payment\": 9, \"Delay_from_due_date\": 17, \"Credit_Score\": \"Poor\"}, {\"Num_of_Delayed_Payment\": 5, \"Delay_from_due_date\": 26, \"Credit_Score\": \"Standard\"}, {\"Num_of_Delayed_Payment\": 9, \"Delay_from_due_date\": 16, \"Credit_Score\": \"Poor\"}, {\"Num_of_Delayed_Payment\": 6, \"Delay_from_due_date\": 10, \"Credit_Score\": \"Standard\"}, {\"Num_of_Delayed_Payment\": 20, \"Delay_from_due_date\": 26, \"Credit_Score\": \"Standard\"}, {\"Num_of_Delayed_Payment\": 2, \"Delay_from_due_date\": 7, \"Credit_Score\": \"Standard\"}, {\"Num_of_Delayed_Payment\": 9, \"Delay_from_due_date\": 29, \"Credit_Score\": \"Standard\"}, {\"Num_of_Delayed_Payment\": 15, \"Delay_from_due_date\": 7, \"Credit_Score\": \"Standard\"}, {\"Num_of_Delayed_Payment\": 11, \"Delay_from_due_date\": 17, \"Credit_Score\": \"Standard\"}, {\"Num_of_Delayed_Payment\": 17, \"Delay_from_due_date\": 7, \"Credit_Score\": \"Standard\"}, {\"Num_of_Delayed_Payment\": 15, \"Delay_from_due_date\": 15, \"Credit_Score\": \"Standard\"}, {\"Num_of_Delayed_Payment\": 0, \"Delay_from_due_date\": 4, \"Credit_Score\": \"Standard\"}, {\"Num_of_Delayed_Payment\": 11, \"Delay_from_due_date\": 18, \"Credit_Score\": \"Standard\"}, {\"Num_of_Delayed_Payment\": 24, \"Delay_from_due_date\": 12, \"Credit_Score\": \"Poor\"}, {\"Num_of_Delayed_Payment\": 12, \"Delay_from_due_date\": 24, \"Credit_Score\": \"Standard\"}, {\"Num_of_Delayed_Payment\": 15, \"Delay_from_due_date\": 15, \"Credit_Score\": \"Good\"}, {\"Num_of_Delayed_Payment\": 15, \"Delay_from_due_date\": 7, \"Credit_Score\": \"Standard\"}, {\"Num_of_Delayed_Payment\": 0, \"Delay_from_due_date\": 6, \"Credit_Score\": \"Good\"}, {\"Num_of_Delayed_Payment\": 18, \"Delay_from_due_date\": 22, \"Credit_Score\": \"Standard\"}, {\"Num_of_Delayed_Payment\": 17, \"Delay_from_due_date\": 21, \"Credit_Score\": \"Standard\"}, {\"Num_of_Delayed_Payment\": 10, \"Delay_from_due_date\": 8, \"Credit_Score\": \"Standard\"}, {\"Num_of_Delayed_Payment\": 19, \"Delay_from_due_date\": 24, \"Credit_Score\": \"Standard\"}, {\"Num_of_Delayed_Payment\": 22, \"Delay_from_due_date\": 55, \"Credit_Score\": \"Standard\"}, {\"Num_of_Delayed_Payment\": 9, \"Delay_from_due_date\": 20, \"Credit_Score\": \"Standard\"}, {\"Num_of_Delayed_Payment\": 18, \"Delay_from_due_date\": 16, \"Credit_Score\": \"Standard\"}, {\"Num_of_Delayed_Payment\": 8, \"Delay_from_due_date\": 23, \"Credit_Score\": \"Standard\"}, {\"Num_of_Delayed_Payment\": 22, \"Delay_from_due_date\": 16, \"Credit_Score\": \"Poor\"}, {\"Num_of_Delayed_Payment\": 22, \"Delay_from_due_date\": 28, \"Credit_Score\": \"Poor\"}, {\"Num_of_Delayed_Payment\": 14, \"Delay_from_due_date\": 16, \"Credit_Score\": \"Standard\"}, {\"Num_of_Delayed_Payment\": 20, \"Delay_from_due_date\": 59, \"Credit_Score\": \"Poor\"}, {\"Num_of_Delayed_Payment\": 17, \"Delay_from_due_date\": 26, \"Credit_Score\": \"Standard\"}, {\"Num_of_Delayed_Payment\": 10, \"Delay_from_due_date\": 5, \"Credit_Score\": \"Standard\"}, {\"Num_of_Delayed_Payment\": 20, \"Delay_from_due_date\": 24, \"Credit_Score\": \"Standard\"}, {\"Num_of_Delayed_Payment\": 5, \"Delay_from_due_date\": 12, \"Credit_Score\": \"Good\"}, {\"Num_of_Delayed_Payment\": 8, \"Delay_from_due_date\": 9, \"Credit_Score\": \"Good\"}, {\"Num_of_Delayed_Payment\": 19, \"Delay_from_due_date\": 61, \"Credit_Score\": \"Poor\"}, {\"Num_of_Delayed_Payment\": 1, \"Delay_from_due_date\": 10, \"Credit_Score\": \"Good\"}, {\"Num_of_Delayed_Payment\": 17, \"Delay_from_due_date\": 18, \"Credit_Score\": \"Poor\"}, {\"Num_of_Delayed_Payment\": 20, \"Delay_from_due_date\": 59, \"Credit_Score\": \"Poor\"}, {\"Num_of_Delayed_Payment\": 19, \"Delay_from_due_date\": 55, \"Credit_Score\": \"Standard\"}, {\"Num_of_Delayed_Payment\": 19, \"Delay_from_due_date\": 10, \"Credit_Score\": \"Standard\"}, {\"Num_of_Delayed_Payment\": 19, \"Delay_from_due_date\": 30, \"Credit_Score\": \"Standard\"}, {\"Num_of_Delayed_Payment\": 7, \"Delay_from_due_date\": 4, \"Credit_Score\": \"Good\"}, {\"Num_of_Delayed_Payment\": 11, \"Delay_from_due_date\": 26, \"Credit_Score\": \"Standard\"}, {\"Num_of_Delayed_Payment\": 21, \"Delay_from_due_date\": 36, \"Credit_Score\": \"Standard\"}, {\"Num_of_Delayed_Payment\": 10, \"Delay_from_due_date\": 3, \"Credit_Score\": \"Good\"}, {\"Num_of_Delayed_Payment\": 0, \"Delay_from_due_date\": 6, \"Credit_Score\": \"Good\"}, {\"Num_of_Delayed_Payment\": 20, \"Delay_from_due_date\": 27, \"Credit_Score\": \"Standard\"}, {\"Num_of_Delayed_Payment\": 11, \"Delay_from_due_date\": 0, \"Credit_Score\": \"Standard\"}, {\"Num_of_Delayed_Payment\": 12, \"Delay_from_due_date\": 59, \"Credit_Score\": \"Standard\"}, {\"Num_of_Delayed_Payment\": 10, \"Delay_from_due_date\": 47, \"Credit_Score\": \"Standard\"}, {\"Num_of_Delayed_Payment\": 11, \"Delay_from_due_date\": 11, \"Credit_Score\": \"Standard\"}, {\"Num_of_Delayed_Payment\": 18, \"Delay_from_due_date\": 39, \"Credit_Score\": \"Poor\"}, {\"Num_of_Delayed_Payment\": 2, \"Delay_from_due_date\": 4, \"Credit_Score\": \"Standard\"}, {\"Num_of_Delayed_Payment\": 18, \"Delay_from_due_date\": 17, \"Credit_Score\": \"Standard\"}, {\"Num_of_Delayed_Payment\": 14, \"Delay_from_due_date\": 31, \"Credit_Score\": \"Standard\"}, {\"Num_of_Delayed_Payment\": 24, \"Delay_from_due_date\": 50, \"Credit_Score\": \"Poor\"}, {\"Num_of_Delayed_Payment\": 4, \"Delay_from_due_date\": 6, \"Credit_Score\": \"Standard\"}, {\"Num_of_Delayed_Payment\": 27, \"Delay_from_due_date\": 27, \"Credit_Score\": \"Standard\"}, {\"Num_of_Delayed_Payment\": 13, \"Delay_from_due_date\": 17, \"Credit_Score\": \"Poor\"}, {\"Num_of_Delayed_Payment\": 2, \"Delay_from_due_date\": 4, \"Credit_Score\": \"Good\"}, {\"Num_of_Delayed_Payment\": 19, \"Delay_from_due_date\": 17, \"Credit_Score\": \"Standard\"}, {\"Num_of_Delayed_Payment\": 12, \"Delay_from_due_date\": 22, \"Credit_Score\": \"Standard\"}, {\"Num_of_Delayed_Payment\": 18, \"Delay_from_due_date\": 6, \"Credit_Score\": \"Standard\"}, {\"Num_of_Delayed_Payment\": 20, \"Delay_from_due_date\": 11, \"Credit_Score\": \"Standard\"}, {\"Num_of_Delayed_Payment\": 2, \"Delay_from_due_date\": 14, \"Credit_Score\": \"Standard\"}, {\"Num_of_Delayed_Payment\": 6, \"Delay_from_due_date\": 15, \"Credit_Score\": \"Good\"}, {\"Num_of_Delayed_Payment\": 6, \"Delay_from_due_date\": 5, \"Credit_Score\": \"Good\"}, {\"Num_of_Delayed_Payment\": 25, \"Delay_from_due_date\": 16, \"Credit_Score\": \"Good\"}, {\"Num_of_Delayed_Payment\": 19, \"Delay_from_due_date\": 30, \"Credit_Score\": \"Good\"}, {\"Num_of_Delayed_Payment\": 5, \"Delay_from_due_date\": 5, \"Credit_Score\": \"Good\"}, {\"Num_of_Delayed_Payment\": 22, \"Delay_from_due_date\": 16, \"Credit_Score\": \"Standard\"}, {\"Num_of_Delayed_Payment\": 2, \"Delay_from_due_date\": -1, \"Credit_Score\": \"Good\"}, {\"Num_of_Delayed_Payment\": 5, \"Delay_from_due_date\": 3, \"Credit_Score\": \"Good\"}, {\"Num_of_Delayed_Payment\": 12, \"Delay_from_due_date\": 15, \"Credit_Score\": \"Good\"}, {\"Num_of_Delayed_Payment\": 17, \"Delay_from_due_date\": 52, \"Credit_Score\": \"Standard\"}, {\"Num_of_Delayed_Payment\": 9, \"Delay_from_due_date\": 25, \"Credit_Score\": \"Poor\"}, {\"Num_of_Delayed_Payment\": 17, \"Delay_from_due_date\": 27, \"Credit_Score\": \"Poor\"}, {\"Num_of_Delayed_Payment\": 16, \"Delay_from_due_date\": 6, \"Credit_Score\": \"Standard\"}, {\"Num_of_Delayed_Payment\": 20, \"Delay_from_due_date\": 28, \"Credit_Score\": \"Standard\"}, {\"Num_of_Delayed_Payment\": 11, \"Delay_from_due_date\": 24, \"Credit_Score\": \"Poor\"}, {\"Num_of_Delayed_Payment\": 16, \"Delay_from_due_date\": 12, \"Credit_Score\": \"Standard\"}, {\"Num_of_Delayed_Payment\": 8, \"Delay_from_due_date\": 18, \"Credit_Score\": \"Standard\"}, {\"Num_of_Delayed_Payment\": 2, \"Delay_from_due_date\": 0, \"Credit_Score\": \"Standard\"}, {\"Num_of_Delayed_Payment\": 20, \"Delay_from_due_date\": 16, \"Credit_Score\": \"Standard\"}, {\"Num_of_Delayed_Payment\": 2, \"Delay_from_due_date\": 8, \"Credit_Score\": \"Poor\"}, {\"Num_of_Delayed_Payment\": 14, \"Delay_from_due_date\": 12, \"Credit_Score\": \"Poor\"}, {\"Num_of_Delayed_Payment\": 5, \"Delay_from_due_date\": 15, \"Credit_Score\": \"Poor\"}, {\"Num_of_Delayed_Payment\": 9, \"Delay_from_due_date\": 5, \"Credit_Score\": \"Standard\"}, {\"Num_of_Delayed_Payment\": 18, \"Delay_from_due_date\": 25, \"Credit_Score\": \"Standard\"}, {\"Num_of_Delayed_Payment\": 16, \"Delay_from_due_date\": 23, \"Credit_Score\": \"Poor\"}, {\"Num_of_Delayed_Payment\": 18, \"Delay_from_due_date\": 21, \"Credit_Score\": \"Poor\"}, {\"Num_of_Delayed_Payment\": 10, \"Delay_from_due_date\": 6, \"Credit_Score\": \"Standard\"}, {\"Num_of_Delayed_Payment\": 24, \"Delay_from_due_date\": 50, \"Credit_Score\": \"Poor\"}, {\"Num_of_Delayed_Payment\": 10, \"Delay_from_due_date\": 11, \"Credit_Score\": \"Poor\"}, {\"Num_of_Delayed_Payment\": 16, \"Delay_from_due_date\": 54, \"Credit_Score\": \"Poor\"}, {\"Num_of_Delayed_Payment\": 21, \"Delay_from_due_date\": 34, \"Credit_Score\": \"Standard\"}, {\"Num_of_Delayed_Payment\": 1, \"Delay_from_due_date\": 15, \"Credit_Score\": \"Good\"}, {\"Num_of_Delayed_Payment\": 20, \"Delay_from_due_date\": 48, \"Credit_Score\": \"Poor\"}, {\"Num_of_Delayed_Payment\": 21, \"Delay_from_due_date\": 42, \"Credit_Score\": \"Standard\"}, {\"Num_of_Delayed_Payment\": 18, \"Delay_from_due_date\": 47, \"Credit_Score\": \"Poor\"}, {\"Num_of_Delayed_Payment\": 18, \"Delay_from_due_date\": 55, \"Credit_Score\": \"Poor\"}, {\"Num_of_Delayed_Payment\": 9, \"Delay_from_due_date\": 10, \"Credit_Score\": \"Poor\"}, {\"Num_of_Delayed_Payment\": 16, \"Delay_from_due_date\": 26, \"Credit_Score\": \"Standard\"}, {\"Num_of_Delayed_Payment\": 17, \"Delay_from_due_date\": 23, \"Credit_Score\": \"Standard\"}, {\"Num_of_Delayed_Payment\": 10, \"Delay_from_due_date\": 14, \"Credit_Score\": \"Standard\"}, {\"Num_of_Delayed_Payment\": 17, \"Delay_from_due_date\": 20, \"Credit_Score\": \"Standard\"}, {\"Num_of_Delayed_Payment\": 22, \"Delay_from_due_date\": 24, \"Credit_Score\": \"Poor\"}, {\"Num_of_Delayed_Payment\": 10, \"Delay_from_due_date\": 5, \"Credit_Score\": \"Standard\"}, {\"Num_of_Delayed_Payment\": 19, \"Delay_from_due_date\": 5, \"Credit_Score\": \"Standard\"}, {\"Num_of_Delayed_Payment\": 12, \"Delay_from_due_date\": 5, \"Credit_Score\": \"Good\"}, {\"Num_of_Delayed_Payment\": 9, \"Delay_from_due_date\": 1, \"Credit_Score\": \"Standard\"}, {\"Num_of_Delayed_Payment\": 8, \"Delay_from_due_date\": 27, \"Credit_Score\": \"Poor\"}, {\"Num_of_Delayed_Payment\": 8, \"Delay_from_due_date\": 8, \"Credit_Score\": \"Standard\"}, {\"Num_of_Delayed_Payment\": 9, \"Delay_from_due_date\": 8, \"Credit_Score\": \"Standard\"}, {\"Num_of_Delayed_Payment\": 4, \"Delay_from_due_date\": 2, \"Credit_Score\": \"Good\"}, {\"Num_of_Delayed_Payment\": 16, \"Delay_from_due_date\": 12, \"Credit_Score\": \"Good\"}, {\"Num_of_Delayed_Payment\": 15, \"Delay_from_due_date\": 13, \"Credit_Score\": \"Good\"}, {\"Num_of_Delayed_Payment\": 7, \"Delay_from_due_date\": 2, \"Credit_Score\": \"Good\"}, {\"Num_of_Delayed_Payment\": 18, \"Delay_from_due_date\": 21, \"Credit_Score\": \"Standard\"}, {\"Num_of_Delayed_Payment\": 10, \"Delay_from_due_date\": 7, \"Credit_Score\": \"Standard\"}, {\"Num_of_Delayed_Payment\": 13, \"Delay_from_due_date\": 15, \"Credit_Score\": \"Standard\"}, {\"Num_of_Delayed_Payment\": 1, \"Delay_from_due_date\": 9, \"Credit_Score\": \"Standard\"}, {\"Num_of_Delayed_Payment\": 16, \"Delay_from_due_date\": 13, \"Credit_Score\": \"Standard\"}, {\"Num_of_Delayed_Payment\": 19, \"Delay_from_due_date\": 59, \"Credit_Score\": \"Poor\"}, {\"Num_of_Delayed_Payment\": 10, \"Delay_from_due_date\": 28, \"Credit_Score\": \"Good\"}, {\"Num_of_Delayed_Payment\": 12, \"Delay_from_due_date\": 13, \"Credit_Score\": \"Poor\"}, {\"Num_of_Delayed_Payment\": 2, \"Delay_from_due_date\": 14, \"Credit_Score\": \"Standard\"}, {\"Num_of_Delayed_Payment\": 0, \"Delay_from_due_date\": 9, \"Credit_Score\": \"Good\"}, {\"Num_of_Delayed_Payment\": 22, \"Delay_from_due_date\": 47, \"Credit_Score\": \"Poor\"}, {\"Num_of_Delayed_Payment\": 17, \"Delay_from_due_date\": 25, \"Credit_Score\": \"Poor\"}, {\"Num_of_Delayed_Payment\": 16, \"Delay_from_due_date\": 10, \"Credit_Score\": \"Good\"}, {\"Num_of_Delayed_Payment\": 8, \"Delay_from_due_date\": 8, \"Credit_Score\": \"Standard\"}, {\"Num_of_Delayed_Payment\": 21, \"Delay_from_due_date\": 18, \"Credit_Score\": \"Poor\"}, {\"Num_of_Delayed_Payment\": 11, \"Delay_from_due_date\": 9, \"Credit_Score\": \"Good\"}, {\"Num_of_Delayed_Payment\": 19, \"Delay_from_due_date\": 19, \"Credit_Score\": \"Poor\"}, {\"Num_of_Delayed_Payment\": 16, \"Delay_from_due_date\": 28, \"Credit_Score\": \"Poor\"}, {\"Num_of_Delayed_Payment\": 10, \"Delay_from_due_date\": 19, \"Credit_Score\": \"Standard\"}, {\"Num_of_Delayed_Payment\": 9, \"Delay_from_due_date\": 14, \"Credit_Score\": \"Poor\"}, {\"Num_of_Delayed_Payment\": 15, \"Delay_from_due_date\": 25, \"Credit_Score\": \"Good\"}, {\"Num_of_Delayed_Payment\": 4, \"Delay_from_due_date\": 15, \"Credit_Score\": \"Good\"}, {\"Num_of_Delayed_Payment\": 20, \"Delay_from_due_date\": 24, \"Credit_Score\": \"Standard\"}, {\"Num_of_Delayed_Payment\": 12, \"Delay_from_due_date\": 15, \"Credit_Score\": \"Good\"}, {\"Num_of_Delayed_Payment\": 8, \"Delay_from_due_date\": 49, \"Credit_Score\": \"Poor\"}, {\"Num_of_Delayed_Payment\": 0, \"Delay_from_due_date\": 5, \"Credit_Score\": \"Standard\"}, {\"Num_of_Delayed_Payment\": 8, \"Delay_from_due_date\": 8, \"Credit_Score\": \"Standard\"}, {\"Num_of_Delayed_Payment\": 8, \"Delay_from_due_date\": 7, \"Credit_Score\": \"Poor\"}, {\"Num_of_Delayed_Payment\": 12, \"Delay_from_due_date\": 19, \"Credit_Score\": \"Standard\"}, {\"Num_of_Delayed_Payment\": 18, \"Delay_from_due_date\": 49, \"Credit_Score\": \"Standard\"}, {\"Num_of_Delayed_Payment\": 17, \"Delay_from_due_date\": 9, \"Credit_Score\": \"Standard\"}, {\"Num_of_Delayed_Payment\": 15, \"Delay_from_due_date\": 16, \"Credit_Score\": \"Good\"}, {\"Num_of_Delayed_Payment\": 23, \"Delay_from_due_date\": 58, \"Credit_Score\": \"Poor\"}, {\"Num_of_Delayed_Payment\": 8, \"Delay_from_due_date\": -1, \"Credit_Score\": \"Standard\"}, {\"Num_of_Delayed_Payment\": 6, \"Delay_from_due_date\": 9, \"Credit_Score\": \"Standard\"}, {\"Num_of_Delayed_Payment\": 15, \"Delay_from_due_date\": 20, \"Credit_Score\": \"Standard\"}, {\"Num_of_Delayed_Payment\": 11, \"Delay_from_due_date\": 11, \"Credit_Score\": \"Standard\"}, {\"Num_of_Delayed_Payment\": 15, \"Delay_from_due_date\": 7, \"Credit_Score\": \"Standard\"}, {\"Num_of_Delayed_Payment\": 11, \"Delay_from_due_date\": 15, \"Credit_Score\": \"Standard\"}, {\"Num_of_Delayed_Payment\": 20, \"Delay_from_due_date\": 62, \"Credit_Score\": \"Standard\"}, {\"Num_of_Delayed_Payment\": 11, \"Delay_from_due_date\": 10, \"Credit_Score\": \"Standard\"}, {\"Num_of_Delayed_Payment\": 17, \"Delay_from_due_date\": 51, \"Credit_Score\": \"Poor\"}, {\"Num_of_Delayed_Payment\": 8, \"Delay_from_due_date\": 57, \"Credit_Score\": \"Poor\"}, {\"Num_of_Delayed_Payment\": 14, \"Delay_from_due_date\": 22, \"Credit_Score\": \"Poor\"}, {\"Num_of_Delayed_Payment\": 9, \"Delay_from_due_date\": 5, \"Credit_Score\": \"Standard\"}, {\"Num_of_Delayed_Payment\": 10, \"Delay_from_due_date\": 27, \"Credit_Score\": \"Standard\"}, {\"Num_of_Delayed_Payment\": 21, \"Delay_from_due_date\": 37, \"Credit_Score\": \"Poor\"}, {\"Num_of_Delayed_Payment\": 3, \"Delay_from_due_date\": 10, \"Credit_Score\": \"Good\"}, {\"Num_of_Delayed_Payment\": 17, \"Delay_from_due_date\": 7, \"Credit_Score\": \"Standard\"}, {\"Num_of_Delayed_Payment\": 12, \"Delay_from_due_date\": 10, \"Credit_Score\": \"Standard\"}, {\"Num_of_Delayed_Payment\": 12, \"Delay_from_due_date\": 5, \"Credit_Score\": \"Good\"}, {\"Num_of_Delayed_Payment\": 19, \"Delay_from_due_date\": 8, \"Credit_Score\": \"Standard\"}, {\"Num_of_Delayed_Payment\": 7, \"Delay_from_due_date\": 10, \"Credit_Score\": \"Standard\"}, {\"Num_of_Delayed_Payment\": 12, \"Delay_from_due_date\": 15, \"Credit_Score\": \"Good\"}, {\"Num_of_Delayed_Payment\": 10, \"Delay_from_due_date\": 17, \"Credit_Score\": \"Standard\"}, {\"Num_of_Delayed_Payment\": 8, \"Delay_from_due_date\": 29, \"Credit_Score\": \"Standard\"}, {\"Num_of_Delayed_Payment\": 19, \"Delay_from_due_date\": 24, \"Credit_Score\": \"Standard\"}, {\"Num_of_Delayed_Payment\": 12, \"Delay_from_due_date\": 9, \"Credit_Score\": \"Standard\"}, {\"Num_of_Delayed_Payment\": 10, \"Delay_from_due_date\": 25, \"Credit_Score\": \"Standard\"}, {\"Num_of_Delayed_Payment\": 19, \"Delay_from_due_date\": 62, \"Credit_Score\": \"Poor\"}, {\"Num_of_Delayed_Payment\": 18, \"Delay_from_due_date\": 10, \"Credit_Score\": \"Poor\"}, {\"Num_of_Delayed_Payment\": 15, \"Delay_from_due_date\": 17, \"Credit_Score\": \"Standard\"}, {\"Num_of_Delayed_Payment\": 14, \"Delay_from_due_date\": 15, \"Credit_Score\": \"Poor\"}, {\"Num_of_Delayed_Payment\": 8, \"Delay_from_due_date\": 14, \"Credit_Score\": \"Good\"}, {\"Num_of_Delayed_Payment\": 7, \"Delay_from_due_date\": 18, \"Credit_Score\": \"Standard\"}, {\"Num_of_Delayed_Payment\": 8, \"Delay_from_due_date\": 26, \"Credit_Score\": \"Poor\"}, {\"Num_of_Delayed_Payment\": 12, \"Delay_from_due_date\": 10, \"Credit_Score\": \"Standard\"}, {\"Num_of_Delayed_Payment\": 22, \"Delay_from_due_date\": 33, \"Credit_Score\": \"Poor\"}, {\"Num_of_Delayed_Payment\": 10, \"Delay_from_due_date\": 12, \"Credit_Score\": \"Good\"}, {\"Num_of_Delayed_Payment\": 20, \"Delay_from_due_date\": 15, \"Credit_Score\": \"Poor\"}, {\"Num_of_Delayed_Payment\": 13, \"Delay_from_due_date\": 22, \"Credit_Score\": \"Standard\"}, {\"Num_of_Delayed_Payment\": 0, \"Delay_from_due_date\": 1, \"Credit_Score\": \"Standard\"}, {\"Num_of_Delayed_Payment\": 8, \"Delay_from_due_date\": 0, \"Credit_Score\": \"Standard\"}, {\"Num_of_Delayed_Payment\": 15, \"Delay_from_due_date\": 6, \"Credit_Score\": \"Standard\"}, {\"Num_of_Delayed_Payment\": 21, \"Delay_from_due_date\": 24, \"Credit_Score\": \"Poor\"}, {\"Num_of_Delayed_Payment\": 3, \"Delay_from_due_date\": 11, \"Credit_Score\": \"Good\"}, {\"Num_of_Delayed_Payment\": 11, \"Delay_from_due_date\": 15, \"Credit_Score\": \"Standard\"}, {\"Num_of_Delayed_Payment\": 18, \"Delay_from_due_date\": 26, \"Credit_Score\": \"Standard\"}, {\"Num_of_Delayed_Payment\": 14, \"Delay_from_due_date\": 15, \"Credit_Score\": \"Standard\"}, {\"Num_of_Delayed_Payment\": 22, \"Delay_from_due_date\": 19, \"Credit_Score\": \"Poor\"}, {\"Num_of_Delayed_Payment\": 10, \"Delay_from_due_date\": 16, \"Credit_Score\": \"Poor\"}, {\"Num_of_Delayed_Payment\": 26, \"Delay_from_due_date\": 23, \"Credit_Score\": \"Poor\"}, {\"Num_of_Delayed_Payment\": 18, \"Delay_from_due_date\": 8, \"Credit_Score\": \"Standard\"}, {\"Num_of_Delayed_Payment\": 19, \"Delay_from_due_date\": 13, \"Credit_Score\": \"Standard\"}, {\"Num_of_Delayed_Payment\": 25, \"Delay_from_due_date\": 32, \"Credit_Score\": \"Poor\"}, {\"Num_of_Delayed_Payment\": 20, \"Delay_from_due_date\": 23, \"Credit_Score\": \"Standard\"}, {\"Num_of_Delayed_Payment\": 13, \"Delay_from_due_date\": 10, \"Credit_Score\": \"Poor\"}, {\"Num_of_Delayed_Payment\": 0, \"Delay_from_due_date\": 15, \"Credit_Score\": \"Good\"}, {\"Num_of_Delayed_Payment\": 17, \"Delay_from_due_date\": 33, \"Credit_Score\": \"Standard\"}, {\"Num_of_Delayed_Payment\": 17, \"Delay_from_due_date\": 34, \"Credit_Score\": \"Standard\"}, {\"Num_of_Delayed_Payment\": 23, \"Delay_from_due_date\": 24, \"Credit_Score\": \"Poor\"}, {\"Num_of_Delayed_Payment\": 14, \"Delay_from_due_date\": 17, \"Credit_Score\": \"Poor\"}, {\"Num_of_Delayed_Payment\": 7, \"Delay_from_due_date\": 15, \"Credit_Score\": \"Good\"}, {\"Num_of_Delayed_Payment\": 12, \"Delay_from_due_date\": 22, \"Credit_Score\": \"Poor\"}, {\"Num_of_Delayed_Payment\": 18, \"Delay_from_due_date\": 13, \"Credit_Score\": \"Poor\"}, {\"Num_of_Delayed_Payment\": 19, \"Delay_from_due_date\": 13, \"Credit_Score\": \"Standard\"}, {\"Num_of_Delayed_Payment\": 23, \"Delay_from_due_date\": 42, \"Credit_Score\": \"Poor\"}, {\"Num_of_Delayed_Payment\": 20, \"Delay_from_due_date\": 17, \"Credit_Score\": \"Poor\"}, {\"Num_of_Delayed_Payment\": 14, \"Delay_from_due_date\": 27, \"Credit_Score\": \"Standard\"}, {\"Num_of_Delayed_Payment\": 12, \"Delay_from_due_date\": 11, \"Credit_Score\": \"Good\"}, {\"Num_of_Delayed_Payment\": 22, \"Delay_from_due_date\": 62, \"Credit_Score\": \"Poor\"}, {\"Num_of_Delayed_Payment\": 10, \"Delay_from_due_date\": 23, \"Credit_Score\": \"Standard\"}, {\"Num_of_Delayed_Payment\": 17, \"Delay_from_due_date\": 8, \"Credit_Score\": \"Good\"}, {\"Num_of_Delayed_Payment\": 16, \"Delay_from_due_date\": 17, \"Credit_Score\": \"Good\"}, {\"Num_of_Delayed_Payment\": 18, \"Delay_from_due_date\": 25, \"Credit_Score\": \"Standard\"}, {\"Num_of_Delayed_Payment\": 19, \"Delay_from_due_date\": 11, \"Credit_Score\": \"Standard\"}, {\"Num_of_Delayed_Payment\": 10, \"Delay_from_due_date\": 13, \"Credit_Score\": \"Standard\"}, {\"Num_of_Delayed_Payment\": 17, \"Delay_from_due_date\": 23, \"Credit_Score\": \"Poor\"}, {\"Num_of_Delayed_Payment\": 3, \"Delay_from_due_date\": 5, \"Credit_Score\": \"Good\"}, {\"Num_of_Delayed_Payment\": 11, \"Delay_from_due_date\": 17, \"Credit_Score\": \"Standard\"}, {\"Num_of_Delayed_Payment\": 17, \"Delay_from_due_date\": 25, \"Credit_Score\": \"Poor\"}, {\"Num_of_Delayed_Payment\": 14, \"Delay_from_due_date\": 24, \"Credit_Score\": \"Standard\"}, {\"Num_of_Delayed_Payment\": 8, \"Delay_from_due_date\": 11, \"Credit_Score\": \"Standard\"}, {\"Num_of_Delayed_Payment\": 20, \"Delay_from_due_date\": 6, \"Credit_Score\": \"Standard\"}, {\"Num_of_Delayed_Payment\": 9, \"Delay_from_due_date\": 18, \"Credit_Score\": \"Poor\"}, {\"Num_of_Delayed_Payment\": 8, \"Delay_from_due_date\": 2, \"Credit_Score\": \"Standard\"}, {\"Num_of_Delayed_Payment\": 25, \"Delay_from_due_date\": 27, \"Credit_Score\": \"Standard\"}, {\"Num_of_Delayed_Payment\": 19, \"Delay_from_due_date\": 21, \"Credit_Score\": \"Standard\"}, {\"Num_of_Delayed_Payment\": 22, \"Delay_from_due_date\": 26, \"Credit_Score\": \"Standard\"}, {\"Num_of_Delayed_Payment\": 5, \"Delay_from_due_date\": 15, \"Credit_Score\": \"Standard\"}, {\"Num_of_Delayed_Payment\": 14, \"Delay_from_due_date\": 25, \"Credit_Score\": \"Poor\"}, {\"Num_of_Delayed_Payment\": 15, \"Delay_from_due_date\": 53, \"Credit_Score\": \"Standard\"}, {\"Num_of_Delayed_Payment\": 18, \"Delay_from_due_date\": 11, \"Credit_Score\": \"Standard\"}, {\"Num_of_Delayed_Payment\": 17, \"Delay_from_due_date\": 17, \"Credit_Score\": \"Standard\"}, {\"Num_of_Delayed_Payment\": 20, \"Delay_from_due_date\": 14, \"Credit_Score\": \"Poor\"}, {\"Num_of_Delayed_Payment\": 12, \"Delay_from_due_date\": 6, \"Credit_Score\": \"Standard\"}, {\"Num_of_Delayed_Payment\": 12, \"Delay_from_due_date\": 9, \"Credit_Score\": \"Standard\"}, {\"Num_of_Delayed_Payment\": 8, \"Delay_from_due_date\": 19, \"Credit_Score\": \"Standard\"}, {\"Num_of_Delayed_Payment\": 18, \"Delay_from_due_date\": 25, \"Credit_Score\": \"Standard\"}, {\"Num_of_Delayed_Payment\": 10, \"Delay_from_due_date\": 17, \"Credit_Score\": \"Standard\"}, {\"Num_of_Delayed_Payment\": 7, \"Delay_from_due_date\": 30, \"Credit_Score\": \"Standard\"}, {\"Num_of_Delayed_Payment\": 19, \"Delay_from_due_date\": 24, \"Credit_Score\": \"Standard\"}, {\"Num_of_Delayed_Payment\": 24, \"Delay_from_due_date\": 22, \"Credit_Score\": \"Standard\"}, {\"Num_of_Delayed_Payment\": 8, \"Delay_from_due_date\": 8, \"Credit_Score\": \"Poor\"}, {\"Num_of_Delayed_Payment\": 5, \"Delay_from_due_date\": 2, \"Credit_Score\": \"Poor\"}, {\"Num_of_Delayed_Payment\": 19, \"Delay_from_due_date\": 65, \"Credit_Score\": \"Poor\"}, {\"Num_of_Delayed_Payment\": 9, \"Delay_from_due_date\": 33, \"Credit_Score\": \"Poor\"}, {\"Num_of_Delayed_Payment\": 20, \"Delay_from_due_date\": 22, \"Credit_Score\": \"Poor\"}, {\"Num_of_Delayed_Payment\": 24, \"Delay_from_due_date\": 53, \"Credit_Score\": \"Poor\"}, {\"Num_of_Delayed_Payment\": 11, \"Delay_from_due_date\": 11, \"Credit_Score\": \"Standard\"}, {\"Num_of_Delayed_Payment\": 16, \"Delay_from_due_date\": 15, \"Credit_Score\": \"Good\"}, {\"Num_of_Delayed_Payment\": 19, \"Delay_from_due_date\": 9, \"Credit_Score\": \"Standard\"}, {\"Num_of_Delayed_Payment\": 14, \"Delay_from_due_date\": 16, \"Credit_Score\": \"Standard\"}, {\"Num_of_Delayed_Payment\": 13, \"Delay_from_due_date\": 23, \"Credit_Score\": \"Poor\"}, {\"Num_of_Delayed_Payment\": 11, \"Delay_from_due_date\": 21, \"Credit_Score\": \"Good\"}, {\"Num_of_Delayed_Payment\": 11, \"Delay_from_due_date\": 11, \"Credit_Score\": \"Standard\"}, {\"Num_of_Delayed_Payment\": 9, \"Delay_from_due_date\": 18, \"Credit_Score\": \"Standard\"}, {\"Num_of_Delayed_Payment\": 20, \"Delay_from_due_date\": 4, \"Credit_Score\": \"Standard\"}, {\"Num_of_Delayed_Payment\": 18, \"Delay_from_due_date\": 17, \"Credit_Score\": \"Standard\"}, {\"Num_of_Delayed_Payment\": 16, \"Delay_from_due_date\": 3, \"Credit_Score\": \"Standard\"}, {\"Num_of_Delayed_Payment\": 19, \"Delay_from_due_date\": 24, \"Credit_Score\": \"Poor\"}, {\"Num_of_Delayed_Payment\": 8, \"Delay_from_due_date\": 16, \"Credit_Score\": \"Standard\"}, {\"Num_of_Delayed_Payment\": 7, \"Delay_from_due_date\": 18, \"Credit_Score\": \"Standard\"}, {\"Num_of_Delayed_Payment\": 18, \"Delay_from_due_date\": 29, \"Credit_Score\": \"Poor\"}, {\"Num_of_Delayed_Payment\": 16, \"Delay_from_due_date\": 31, \"Credit_Score\": \"Poor\"}, {\"Num_of_Delayed_Payment\": 12, \"Delay_from_due_date\": 21, \"Credit_Score\": \"Standard\"}, {\"Num_of_Delayed_Payment\": 11, \"Delay_from_due_date\": 3, \"Credit_Score\": \"Standard\"}, {\"Num_of_Delayed_Payment\": 6, \"Delay_from_due_date\": 22, \"Credit_Score\": \"Standard\"}, {\"Num_of_Delayed_Payment\": 11, \"Delay_from_due_date\": 12, \"Credit_Score\": \"Good\"}, {\"Num_of_Delayed_Payment\": 24, \"Delay_from_due_date\": 38, \"Credit_Score\": \"Poor\"}, {\"Num_of_Delayed_Payment\": 21, \"Delay_from_due_date\": 17, \"Credit_Score\": \"Standard\"}, {\"Num_of_Delayed_Payment\": 11, \"Delay_from_due_date\": 19, \"Credit_Score\": \"Standard\"}, {\"Num_of_Delayed_Payment\": 17, \"Delay_from_due_date\": 20, \"Credit_Score\": \"Poor\"}, {\"Num_of_Delayed_Payment\": 11, \"Delay_from_due_date\": 14, \"Credit_Score\": \"Good\"}, {\"Num_of_Delayed_Payment\": 20, \"Delay_from_due_date\": 12, \"Credit_Score\": \"Standard\"}, {\"Num_of_Delayed_Payment\": 2, \"Delay_from_due_date\": 22, \"Credit_Score\": \"Poor\"}, {\"Num_of_Delayed_Payment\": 11, \"Delay_from_due_date\": 23, \"Credit_Score\": \"Standard\"}, {\"Num_of_Delayed_Payment\": 1, \"Delay_from_due_date\": 3, \"Credit_Score\": \"Good\"}, {\"Num_of_Delayed_Payment\": 21, \"Delay_from_due_date\": 2, \"Credit_Score\": \"Standard\"}, {\"Num_of_Delayed_Payment\": 14, \"Delay_from_due_date\": 62, \"Credit_Score\": \"Standard\"}, {\"Num_of_Delayed_Payment\": 12, \"Delay_from_due_date\": 7, \"Credit_Score\": \"Standard\"}, {\"Num_of_Delayed_Payment\": 21, \"Delay_from_due_date\": 8, \"Credit_Score\": \"Poor\"}, {\"Num_of_Delayed_Payment\": 2, \"Delay_from_due_date\": 4, \"Credit_Score\": \"Good\"}, {\"Num_of_Delayed_Payment\": 19, \"Delay_from_due_date\": 25, \"Credit_Score\": \"Poor\"}, {\"Num_of_Delayed_Payment\": 16, \"Delay_from_due_date\": 28, \"Credit_Score\": \"Standard\"}, {\"Num_of_Delayed_Payment\": 20, \"Delay_from_due_date\": 18, \"Credit_Score\": \"Good\"}, {\"Num_of_Delayed_Payment\": 14, \"Delay_from_due_date\": 20, \"Credit_Score\": \"Standard\"}, {\"Num_of_Delayed_Payment\": 16, \"Delay_from_due_date\": 10, \"Credit_Score\": \"Standard\"}, {\"Num_of_Delayed_Payment\": 4, \"Delay_from_due_date\": 3, \"Credit_Score\": \"Good\"}, {\"Num_of_Delayed_Payment\": 24, \"Delay_from_due_date\": 25, \"Credit_Score\": \"Standard\"}, {\"Num_of_Delayed_Payment\": 15, \"Delay_from_due_date\": 13, \"Credit_Score\": \"Standard\"}, {\"Num_of_Delayed_Payment\": 21, \"Delay_from_due_date\": 20, \"Credit_Score\": \"Standard\"}, {\"Num_of_Delayed_Payment\": 19, \"Delay_from_due_date\": 22, \"Credit_Score\": \"Standard\"}, {\"Num_of_Delayed_Payment\": 16, \"Delay_from_due_date\": 11, \"Credit_Score\": \"Good\"}, {\"Num_of_Delayed_Payment\": 9, \"Delay_from_due_date\": 29, \"Credit_Score\": \"Standard\"}, {\"Num_of_Delayed_Payment\": 12, \"Delay_from_due_date\": 28, \"Credit_Score\": \"Standard\"}, {\"Num_of_Delayed_Payment\": 14, \"Delay_from_due_date\": 21, \"Credit_Score\": \"Poor\"}, {\"Num_of_Delayed_Payment\": 11, \"Delay_from_due_date\": 14, \"Credit_Score\": \"Standard\"}, {\"Num_of_Delayed_Payment\": 21, \"Delay_from_due_date\": 19, \"Credit_Score\": \"Poor\"}, {\"Num_of_Delayed_Payment\": 19, \"Delay_from_due_date\": 26, \"Credit_Score\": \"Standard\"}, {\"Num_of_Delayed_Payment\": 10, \"Delay_from_due_date\": 8, \"Credit_Score\": \"Good\"}, {\"Num_of_Delayed_Payment\": 7, \"Delay_from_due_date\": 6, \"Credit_Score\": \"Standard\"}, {\"Num_of_Delayed_Payment\": 14, \"Delay_from_due_date\": 18, \"Credit_Score\": \"Standard\"}, {\"Num_of_Delayed_Payment\": 11, \"Delay_from_due_date\": 2, \"Credit_Score\": \"Good\"}, {\"Num_of_Delayed_Payment\": 6, \"Delay_from_due_date\": 3, \"Credit_Score\": \"Good\"}, {\"Num_of_Delayed_Payment\": 14, \"Delay_from_due_date\": 10, \"Credit_Score\": \"Standard\"}, {\"Num_of_Delayed_Payment\": 3, \"Delay_from_due_date\": 17, \"Credit_Score\": \"Poor\"}, {\"Num_of_Delayed_Payment\": 11, \"Delay_from_due_date\": 2, \"Credit_Score\": \"Standard\"}, {\"Num_of_Delayed_Payment\": 19, \"Delay_from_due_date\": 28, \"Credit_Score\": \"Poor\"}, {\"Num_of_Delayed_Payment\": 5, \"Delay_from_due_date\": 14, \"Credit_Score\": \"Standard\"}, {\"Num_of_Delayed_Payment\": 17, \"Delay_from_due_date\": 16, \"Credit_Score\": \"Standard\"}, {\"Num_of_Delayed_Payment\": 15, \"Delay_from_due_date\": 19, \"Credit_Score\": \"Good\"}, {\"Num_of_Delayed_Payment\": 15, \"Delay_from_due_date\": 18, \"Credit_Score\": \"Standard\"}, {\"Num_of_Delayed_Payment\": 26, \"Delay_from_due_date\": 52, \"Credit_Score\": \"Poor\"}, {\"Num_of_Delayed_Payment\": 12, \"Delay_from_due_date\": 13, \"Credit_Score\": \"Standard\"}, {\"Num_of_Delayed_Payment\": 18, \"Delay_from_due_date\": 16, \"Credit_Score\": \"Standard\"}, {\"Num_of_Delayed_Payment\": 24, \"Delay_from_due_date\": 60, \"Credit_Score\": \"Standard\"}, {\"Num_of_Delayed_Payment\": 17, \"Delay_from_due_date\": 60, \"Credit_Score\": \"Poor\"}, {\"Num_of_Delayed_Payment\": 9, \"Delay_from_due_date\": 5, \"Credit_Score\": \"Good\"}, {\"Num_of_Delayed_Payment\": 1, \"Delay_from_due_date\": 10, \"Credit_Score\": \"Poor\"}, {\"Num_of_Delayed_Payment\": 19, \"Delay_from_due_date\": 58, \"Credit_Score\": \"Poor\"}, {\"Num_of_Delayed_Payment\": 23, \"Delay_from_due_date\": 55, \"Credit_Score\": \"Poor\"}, {\"Num_of_Delayed_Payment\": 5, \"Delay_from_due_date\": 14, \"Credit_Score\": \"Good\"}, {\"Num_of_Delayed_Payment\": 9, \"Delay_from_due_date\": 15, \"Credit_Score\": \"Standard\"}, {\"Num_of_Delayed_Payment\": 10, \"Delay_from_due_date\": 23, \"Credit_Score\": \"Standard\"}, {\"Num_of_Delayed_Payment\": 15, \"Delay_from_due_date\": 29, \"Credit_Score\": \"Poor\"}, {\"Num_of_Delayed_Payment\": 17, \"Delay_from_due_date\": 10, \"Credit_Score\": \"Good\"}, {\"Num_of_Delayed_Payment\": 6, \"Delay_from_due_date\": 7, \"Credit_Score\": \"Good\"}, {\"Num_of_Delayed_Payment\": 20, \"Delay_from_due_date\": 16, \"Credit_Score\": \"Standard\"}, {\"Num_of_Delayed_Payment\": 14, \"Delay_from_due_date\": 21, \"Credit_Score\": \"Standard\"}, {\"Num_of_Delayed_Payment\": 5, \"Delay_from_due_date\": 2, \"Credit_Score\": \"Good\"}, {\"Num_of_Delayed_Payment\": 16, \"Delay_from_due_date\": 29, \"Credit_Score\": \"Poor\"}, {\"Num_of_Delayed_Payment\": 11, \"Delay_from_due_date\": 19, \"Credit_Score\": \"Standard\"}, {\"Num_of_Delayed_Payment\": 8, \"Delay_from_due_date\": 2, \"Credit_Score\": \"Standard\"}, {\"Num_of_Delayed_Payment\": 22, \"Delay_from_due_date\": 66, \"Credit_Score\": \"Standard\"}, {\"Num_of_Delayed_Payment\": 11, \"Delay_from_due_date\": 17, \"Credit_Score\": \"Poor\"}, {\"Num_of_Delayed_Payment\": 8, \"Delay_from_due_date\": 7, \"Credit_Score\": \"Standard\"}, {\"Num_of_Delayed_Payment\": 3, \"Delay_from_due_date\": 7, \"Credit_Score\": \"Good\"}, {\"Num_of_Delayed_Payment\": 16, \"Delay_from_due_date\": 30, \"Credit_Score\": \"Poor\"}, {\"Num_of_Delayed_Payment\": 12, \"Delay_from_due_date\": 13, \"Credit_Score\": \"Standard\"}, {\"Num_of_Delayed_Payment\": 16, \"Delay_from_due_date\": 10, \"Credit_Score\": \"Good\"}, {\"Num_of_Delayed_Payment\": 11, \"Delay_from_due_date\": 15, \"Credit_Score\": \"Standard\"}, {\"Num_of_Delayed_Payment\": 15, \"Delay_from_due_date\": 12, \"Credit_Score\": \"Standard\"}, {\"Num_of_Delayed_Payment\": 13, \"Delay_from_due_date\": 22, \"Credit_Score\": \"Good\"}, {\"Num_of_Delayed_Payment\": 7, \"Delay_from_due_date\": 22, \"Credit_Score\": \"Standard\"}, {\"Num_of_Delayed_Payment\": 15, \"Delay_from_due_date\": 27, \"Credit_Score\": \"Standard\"}, {\"Num_of_Delayed_Payment\": 7, \"Delay_from_due_date\": 15, \"Credit_Score\": \"Standard\"}, {\"Num_of_Delayed_Payment\": 12, \"Delay_from_due_date\": 26, \"Credit_Score\": \"Poor\"}, {\"Num_of_Delayed_Payment\": 12, \"Delay_from_due_date\": 28, \"Credit_Score\": \"Standard\"}, {\"Num_of_Delayed_Payment\": 1, \"Delay_from_due_date\": 15, \"Credit_Score\": \"Standard\"}, {\"Num_of_Delayed_Payment\": 21, \"Delay_from_due_date\": 36, \"Credit_Score\": \"Standard\"}, {\"Num_of_Delayed_Payment\": 21, \"Delay_from_due_date\": 11, \"Credit_Score\": \"Standard\"}, {\"Num_of_Delayed_Payment\": 24, \"Delay_from_due_date\": 58, \"Credit_Score\": \"Standard\"}, {\"Num_of_Delayed_Payment\": 12, \"Delay_from_due_date\": 6, \"Credit_Score\": \"Poor\"}, {\"Num_of_Delayed_Payment\": 6, \"Delay_from_due_date\": 23, \"Credit_Score\": \"Standard\"}, {\"Num_of_Delayed_Payment\": 7, \"Delay_from_due_date\": 0, \"Credit_Score\": \"Good\"}, {\"Num_of_Delayed_Payment\": 11, \"Delay_from_due_date\": 22, \"Credit_Score\": \"Standard\"}, {\"Num_of_Delayed_Payment\": 19, \"Delay_from_due_date\": 22, \"Credit_Score\": \"Standard\"}, {\"Num_of_Delayed_Payment\": 6, \"Delay_from_due_date\": 12, \"Credit_Score\": \"Good\"}, {\"Num_of_Delayed_Payment\": 14, \"Delay_from_due_date\": 19, \"Credit_Score\": \"Poor\"}, {\"Num_of_Delayed_Payment\": 15, \"Delay_from_due_date\": 22, \"Credit_Score\": \"Standard\"}, {\"Num_of_Delayed_Payment\": 14, \"Delay_from_due_date\": 19, \"Credit_Score\": \"Poor\"}, {\"Num_of_Delayed_Payment\": 14, \"Delay_from_due_date\": 10, \"Credit_Score\": \"Standard\"}, {\"Num_of_Delayed_Payment\": 25, \"Delay_from_due_date\": 23, \"Credit_Score\": \"Poor\"}, {\"Num_of_Delayed_Payment\": 2, \"Delay_from_due_date\": 4, \"Credit_Score\": \"Standard\"}, {\"Num_of_Delayed_Payment\": 0, \"Delay_from_due_date\": 2, \"Credit_Score\": \"Standard\"}, {\"Num_of_Delayed_Payment\": 11, \"Delay_from_due_date\": 12, \"Credit_Score\": \"Poor\"}, {\"Num_of_Delayed_Payment\": 6, \"Delay_from_due_date\": 2, \"Credit_Score\": \"Poor\"}, {\"Num_of_Delayed_Payment\": 12, \"Delay_from_due_date\": 25, \"Credit_Score\": \"Poor\"}, {\"Num_of_Delayed_Payment\": 15, \"Delay_from_due_date\": 58, \"Credit_Score\": \"Poor\"}, {\"Num_of_Delayed_Payment\": 13, \"Delay_from_due_date\": 7, \"Credit_Score\": \"Standard\"}, {\"Num_of_Delayed_Payment\": 18, \"Delay_from_due_date\": 47, \"Credit_Score\": \"Standard\"}, {\"Num_of_Delayed_Payment\": 12, \"Delay_from_due_date\": 22, \"Credit_Score\": \"Standard\"}, {\"Num_of_Delayed_Payment\": 18, \"Delay_from_due_date\": 38, \"Credit_Score\": \"Standard\"}, {\"Num_of_Delayed_Payment\": 12, \"Delay_from_due_date\": 48, \"Credit_Score\": \"Poor\"}, {\"Num_of_Delayed_Payment\": 12, \"Delay_from_due_date\": 13, \"Credit_Score\": \"Poor\"}, {\"Num_of_Delayed_Payment\": 22, \"Delay_from_due_date\": 8, \"Credit_Score\": \"Standard\"}, {\"Num_of_Delayed_Payment\": 9, \"Delay_from_due_date\": 1, \"Credit_Score\": \"Good\"}, {\"Num_of_Delayed_Payment\": 15, \"Delay_from_due_date\": 50, \"Credit_Score\": \"Poor\"}, {\"Num_of_Delayed_Payment\": 5, \"Delay_from_due_date\": 9, \"Credit_Score\": \"Standard\"}, {\"Num_of_Delayed_Payment\": 17, \"Delay_from_due_date\": 6, \"Credit_Score\": \"Standard\"}, {\"Num_of_Delayed_Payment\": 11, \"Delay_from_due_date\": 9, \"Credit_Score\": \"Standard\"}, {\"Num_of_Delayed_Payment\": 6, \"Delay_from_due_date\": 12, \"Credit_Score\": \"Standard\"}, {\"Num_of_Delayed_Payment\": 17, \"Delay_from_due_date\": 15, \"Credit_Score\": \"Standard\"}, {\"Num_of_Delayed_Payment\": 4, \"Delay_from_due_date\": 7, \"Credit_Score\": \"Good\"}, {\"Num_of_Delayed_Payment\": 16, \"Delay_from_due_date\": 28, \"Credit_Score\": \"Poor\"}, {\"Num_of_Delayed_Payment\": 6, \"Delay_from_due_date\": 11, \"Credit_Score\": \"Good\"}, {\"Num_of_Delayed_Payment\": 18, \"Delay_from_due_date\": 57, \"Credit_Score\": \"Poor\"}, {\"Num_of_Delayed_Payment\": 8, \"Delay_from_due_date\": 9, \"Credit_Score\": \"Standard\"}, {\"Num_of_Delayed_Payment\": 3, \"Delay_from_due_date\": 10, \"Credit_Score\": \"Poor\"}, {\"Num_of_Delayed_Payment\": 15, \"Delay_from_due_date\": 19, \"Credit_Score\": \"Poor\"}, {\"Num_of_Delayed_Payment\": 12, \"Delay_from_due_date\": 13, \"Credit_Score\": \"Standard\"}, {\"Num_of_Delayed_Payment\": 11, \"Delay_from_due_date\": 2, \"Credit_Score\": \"Standard\"}, {\"Num_of_Delayed_Payment\": 15, \"Delay_from_due_date\": 9, \"Credit_Score\": \"Standard\"}, {\"Num_of_Delayed_Payment\": 7, \"Delay_from_due_date\": 14, \"Credit_Score\": \"Standard\"}, {\"Num_of_Delayed_Payment\": 17, \"Delay_from_due_date\": 4, \"Credit_Score\": \"Standard\"}, {\"Num_of_Delayed_Payment\": 6, \"Delay_from_due_date\": 8, \"Credit_Score\": \"Standard\"}, {\"Num_of_Delayed_Payment\": 4, \"Delay_from_due_date\": 10, \"Credit_Score\": \"Standard\"}, {\"Num_of_Delayed_Payment\": 16, \"Delay_from_due_date\": 20, \"Credit_Score\": \"Poor\"}, {\"Num_of_Delayed_Payment\": 24, \"Delay_from_due_date\": 43, \"Credit_Score\": \"Standard\"}, {\"Num_of_Delayed_Payment\": 10, \"Delay_from_due_date\": 22, \"Credit_Score\": \"Standard\"}, {\"Num_of_Delayed_Payment\": 18, \"Delay_from_due_date\": 17, \"Credit_Score\": \"Poor\"}, {\"Num_of_Delayed_Payment\": 20, \"Delay_from_due_date\": 51, \"Credit_Score\": \"Poor\"}, {\"Num_of_Delayed_Payment\": 5, \"Delay_from_due_date\": 25, \"Credit_Score\": \"Poor\"}, {\"Num_of_Delayed_Payment\": 23, \"Delay_from_due_date\": 41, \"Credit_Score\": \"Poor\"}, {\"Num_of_Delayed_Payment\": 8, \"Delay_from_due_date\": 5, \"Credit_Score\": \"Standard\"}, {\"Num_of_Delayed_Payment\": 16, \"Delay_from_due_date\": 6, \"Credit_Score\": \"Standard\"}, {\"Num_of_Delayed_Payment\": 13, \"Delay_from_due_date\": 13, \"Credit_Score\": \"Standard\"}, {\"Num_of_Delayed_Payment\": 8, \"Delay_from_due_date\": 17, \"Credit_Score\": \"Standard\"}, {\"Num_of_Delayed_Payment\": 16, \"Delay_from_due_date\": 30, \"Credit_Score\": \"Standard\"}, {\"Num_of_Delayed_Payment\": 15, \"Delay_from_due_date\": 18, \"Credit_Score\": \"Poor\"}, {\"Num_of_Delayed_Payment\": 18, \"Delay_from_due_date\": 24, \"Credit_Score\": \"Standard\"}, {\"Num_of_Delayed_Payment\": 20, \"Delay_from_due_date\": 18, \"Credit_Score\": \"Poor\"}, {\"Num_of_Delayed_Payment\": 5, \"Delay_from_due_date\": 8, \"Credit_Score\": \"Good\"}, {\"Num_of_Delayed_Payment\": 8, \"Delay_from_due_date\": 10, \"Credit_Score\": \"Standard\"}, {\"Num_of_Delayed_Payment\": 14, \"Delay_from_due_date\": 15, \"Credit_Score\": \"Standard\"}, {\"Num_of_Delayed_Payment\": 19, \"Delay_from_due_date\": 21, \"Credit_Score\": \"Standard\"}, {\"Num_of_Delayed_Payment\": 15, \"Delay_from_due_date\": 23, \"Credit_Score\": \"Standard\"}, {\"Num_of_Delayed_Payment\": 15, \"Delay_from_due_date\": 7, \"Credit_Score\": \"Standard\"}, {\"Num_of_Delayed_Payment\": 22, \"Delay_from_due_date\": 25, \"Credit_Score\": \"Poor\"}, {\"Num_of_Delayed_Payment\": 16, \"Delay_from_due_date\": 41, \"Credit_Score\": \"Poor\"}, {\"Num_of_Delayed_Payment\": 18, \"Delay_from_due_date\": 29, \"Credit_Score\": \"Standard\"}]}}, {\"mode\": \"vega-lite\"});\n",
       "</script>"
      ],
      "text/plain": [
       "alt.RepeatChart(...)"
      ]
     },
     "execution_count": 15,
     "metadata": {},
     "output_type": "execute_result"
    }
   ],
   "source": [
    "# initializing list of predictors\n",
    "predictors = [\"Delay_from_due_date\", \"Num_of_Delayed_Payment\"]\n",
    "\n",
    "# visualizing training data\n",
    "\n",
    "# removing outliers to make the visualization more naturak\n",
    "def remove_outliers(column):\n",
    "    Q1 = column.quantile(0.25)\n",
    "    Q3 = column.quantile(0.75)\n",
    "    IQR = Q3 - Q1\n",
    "    return (column >= Q1 - 1.5 * IQR) & (column <= Q3 + 1.5 * IQR)\n",
    "\n",
    "# Apply outlier removal to each column\n",
    "for col in predictors:\n",
    "    train_plot = train[remove_outliers(train[col])]\n",
    "\n",
    "train_pairplot = alt.Chart(train_plot).mark_point(opacity=0.4).encode(\n",
    "    alt.X(alt.repeat(\"row\"), type=\"quantitative\"),\n",
    "    alt.Y(alt.repeat(\"column\"), type=\"quantitative\"),\n",
    "    color = alt.Color(\"Credit_Score\").title(\"Credit_Score\")\n",
    ").properties(\n",
    "    width=200,\n",
    "    height=200\n",
    ").repeat(\n",
    "    column=predictors,\n",
    "    row=predictors\n",
    ")\n",
    "\n",
    "train_pairplot"
   ]
  },
  {
   "cell_type": "markdown",
   "metadata": {},
   "source": [
    "Delay from due date vs Num of delayed payments. We would expect to see a linaer relation between these two variables (generally speaking). Our expectations are met as seen in the visualization above. The two variables show a (weak) positive relation."
   ]
  },
  {
   "cell_type": "markdown",
   "metadata": {},
   "source": [
    "### Methods\n",
    "\n",
    "We plan to conduct our data analysis using the K Nearest Neighbors Classification algrorithm. We'll choose the best value of k using cross-validation and then use the following predictors to predict whether someone's Credit Score is Good, Standard or Poor.\n",
    "\n",
    "Predictors:\n",
    "\n",
    "- number of delayed payments \n",
    "- delay from due date \n",
    "**Describing our visualizations**\n",
    "We will plot histograms to visualize the distributions of our predictors. This will help us explore the relation between predicted credit score and the factors that may impact the credit score more than others like income, missed payments, credit utilization ratios.\n"
   ]
  },
  {
   "cell_type": "code",
   "execution_count": 16,
   "metadata": {
    "tags": []
   },
   "outputs": [],
   "source": [
    "# training_labels = subset_train[\"Credit_Score\"]\n",
    "# training_labels"
   ]
  },
  {
   "cell_type": "code",
   "execution_count": 17,
   "metadata": {
    "tags": []
   },
   "outputs": [
    {
     "data": {
      "text/html": [
       "<style>#sk-container-id-1 {color: black;background-color: white;}#sk-container-id-1 pre{padding: 0;}#sk-container-id-1 div.sk-toggleable {background-color: white;}#sk-container-id-1 label.sk-toggleable__label {cursor: pointer;display: block;width: 100%;margin-bottom: 0;padding: 0.3em;box-sizing: border-box;text-align: center;}#sk-container-id-1 label.sk-toggleable__label-arrow:before {content: \"▸\";float: left;margin-right: 0.25em;color: #696969;}#sk-container-id-1 label.sk-toggleable__label-arrow:hover:before {color: black;}#sk-container-id-1 div.sk-estimator:hover label.sk-toggleable__label-arrow:before {color: black;}#sk-container-id-1 div.sk-toggleable__content {max-height: 0;max-width: 0;overflow: hidden;text-align: left;background-color: #f0f8ff;}#sk-container-id-1 div.sk-toggleable__content pre {margin: 0.2em;color: black;border-radius: 0.25em;background-color: #f0f8ff;}#sk-container-id-1 input.sk-toggleable__control:checked~div.sk-toggleable__content {max-height: 200px;max-width: 100%;overflow: auto;}#sk-container-id-1 input.sk-toggleable__control:checked~label.sk-toggleable__label-arrow:before {content: \"▾\";}#sk-container-id-1 div.sk-estimator input.sk-toggleable__control:checked~label.sk-toggleable__label {background-color: #d4ebff;}#sk-container-id-1 div.sk-label input.sk-toggleable__control:checked~label.sk-toggleable__label {background-color: #d4ebff;}#sk-container-id-1 input.sk-hidden--visually {border: 0;clip: rect(1px 1px 1px 1px);clip: rect(1px, 1px, 1px, 1px);height: 1px;margin: -1px;overflow: hidden;padding: 0;position: absolute;width: 1px;}#sk-container-id-1 div.sk-estimator {font-family: monospace;background-color: #f0f8ff;border: 1px dotted black;border-radius: 0.25em;box-sizing: border-box;margin-bottom: 0.5em;}#sk-container-id-1 div.sk-estimator:hover {background-color: #d4ebff;}#sk-container-id-1 div.sk-parallel-item::after {content: \"\";width: 100%;border-bottom: 1px solid gray;flex-grow: 1;}#sk-container-id-1 div.sk-label:hover label.sk-toggleable__label {background-color: #d4ebff;}#sk-container-id-1 div.sk-serial::before {content: \"\";position: absolute;border-left: 1px solid gray;box-sizing: border-box;top: 0;bottom: 0;left: 50%;z-index: 0;}#sk-container-id-1 div.sk-serial {display: flex;flex-direction: column;align-items: center;background-color: white;padding-right: 0.2em;padding-left: 0.2em;position: relative;}#sk-container-id-1 div.sk-item {position: relative;z-index: 1;}#sk-container-id-1 div.sk-parallel {display: flex;align-items: stretch;justify-content: center;background-color: white;position: relative;}#sk-container-id-1 div.sk-item::before, #sk-container-id-1 div.sk-parallel-item::before {content: \"\";position: absolute;border-left: 1px solid gray;box-sizing: border-box;top: 0;bottom: 0;left: 50%;z-index: -1;}#sk-container-id-1 div.sk-parallel-item {display: flex;flex-direction: column;z-index: 1;position: relative;background-color: white;}#sk-container-id-1 div.sk-parallel-item:first-child::after {align-self: flex-end;width: 50%;}#sk-container-id-1 div.sk-parallel-item:last-child::after {align-self: flex-start;width: 50%;}#sk-container-id-1 div.sk-parallel-item:only-child::after {width: 0;}#sk-container-id-1 div.sk-dashed-wrapped {border: 1px dashed gray;margin: 0 0.4em 0.5em 0.4em;box-sizing: border-box;padding-bottom: 0.4em;background-color: white;}#sk-container-id-1 div.sk-label label {font-family: monospace;font-weight: bold;display: inline-block;line-height: 1.2em;}#sk-container-id-1 div.sk-label-container {text-align: center;}#sk-container-id-1 div.sk-container {/* jupyter's `normalize.less` sets `[hidden] { display: none; }` but bootstrap.min.css set `[hidden] { display: none !important; }` so we also need the `!important` here to be able to override the default hidden behavior on the sphinx rendered scikit-learn.org. See: https://github.com/scikit-learn/scikit-learn/issues/21755 */display: inline-block !important;position: relative;}#sk-container-id-1 div.sk-text-repr-fallback {display: none;}</style><div id=\"sk-container-id-1\" class=\"sk-top-container\"><div class=\"sk-text-repr-fallback\"><pre>KNeighborsClassifier(n_neighbors=41)</pre><b>In a Jupyter environment, please rerun this cell to show the HTML representation or trust the notebook. <br />On GitHub, the HTML representation is unable to render, please try loading this page with nbviewer.org.</b></div><div class=\"sk-container\" hidden><div class=\"sk-item\"><div class=\"sk-estimator sk-toggleable\"><input class=\"sk-toggleable__control sk-hidden--visually\" id=\"sk-estimator-id-1\" type=\"checkbox\" checked><label for=\"sk-estimator-id-1\" class=\"sk-toggleable__label sk-toggleable__label-arrow\">KNeighborsClassifier</label><div class=\"sk-toggleable__content\"><pre>KNeighborsClassifier(n_neighbors=41)</pre></div></div></div></div></div>"
      ],
      "text/plain": [
       "KNeighborsClassifier(n_neighbors=41)"
      ]
     },
     "execution_count": 17,
     "metadata": {},
     "output_type": "execute_result"
    }
   ],
   "source": [
    "knn = KNeighborsClassifier(n_neighbors=41)\n",
    "knn"
   ]
  },
  {
   "cell_type": "code",
   "execution_count": 18,
   "metadata": {
    "tags": []
   },
   "outputs": [
    {
     "data": {
      "text/html": [
       "<style>#sk-container-id-2 {color: black;background-color: white;}#sk-container-id-2 pre{padding: 0;}#sk-container-id-2 div.sk-toggleable {background-color: white;}#sk-container-id-2 label.sk-toggleable__label {cursor: pointer;display: block;width: 100%;margin-bottom: 0;padding: 0.3em;box-sizing: border-box;text-align: center;}#sk-container-id-2 label.sk-toggleable__label-arrow:before {content: \"▸\";float: left;margin-right: 0.25em;color: #696969;}#sk-container-id-2 label.sk-toggleable__label-arrow:hover:before {color: black;}#sk-container-id-2 div.sk-estimator:hover label.sk-toggleable__label-arrow:before {color: black;}#sk-container-id-2 div.sk-toggleable__content {max-height: 0;max-width: 0;overflow: hidden;text-align: left;background-color: #f0f8ff;}#sk-container-id-2 div.sk-toggleable__content pre {margin: 0.2em;color: black;border-radius: 0.25em;background-color: #f0f8ff;}#sk-container-id-2 input.sk-toggleable__control:checked~div.sk-toggleable__content {max-height: 200px;max-width: 100%;overflow: auto;}#sk-container-id-2 input.sk-toggleable__control:checked~label.sk-toggleable__label-arrow:before {content: \"▾\";}#sk-container-id-2 div.sk-estimator input.sk-toggleable__control:checked~label.sk-toggleable__label {background-color: #d4ebff;}#sk-container-id-2 div.sk-label input.sk-toggleable__control:checked~label.sk-toggleable__label {background-color: #d4ebff;}#sk-container-id-2 input.sk-hidden--visually {border: 0;clip: rect(1px 1px 1px 1px);clip: rect(1px, 1px, 1px, 1px);height: 1px;margin: -1px;overflow: hidden;padding: 0;position: absolute;width: 1px;}#sk-container-id-2 div.sk-estimator {font-family: monospace;background-color: #f0f8ff;border: 1px dotted black;border-radius: 0.25em;box-sizing: border-box;margin-bottom: 0.5em;}#sk-container-id-2 div.sk-estimator:hover {background-color: #d4ebff;}#sk-container-id-2 div.sk-parallel-item::after {content: \"\";width: 100%;border-bottom: 1px solid gray;flex-grow: 1;}#sk-container-id-2 div.sk-label:hover label.sk-toggleable__label {background-color: #d4ebff;}#sk-container-id-2 div.sk-serial::before {content: \"\";position: absolute;border-left: 1px solid gray;box-sizing: border-box;top: 0;bottom: 0;left: 50%;z-index: 0;}#sk-container-id-2 div.sk-serial {display: flex;flex-direction: column;align-items: center;background-color: white;padding-right: 0.2em;padding-left: 0.2em;position: relative;}#sk-container-id-2 div.sk-item {position: relative;z-index: 1;}#sk-container-id-2 div.sk-parallel {display: flex;align-items: stretch;justify-content: center;background-color: white;position: relative;}#sk-container-id-2 div.sk-item::before, #sk-container-id-2 div.sk-parallel-item::before {content: \"\";position: absolute;border-left: 1px solid gray;box-sizing: border-box;top: 0;bottom: 0;left: 50%;z-index: -1;}#sk-container-id-2 div.sk-parallel-item {display: flex;flex-direction: column;z-index: 1;position: relative;background-color: white;}#sk-container-id-2 div.sk-parallel-item:first-child::after {align-self: flex-end;width: 50%;}#sk-container-id-2 div.sk-parallel-item:last-child::after {align-self: flex-start;width: 50%;}#sk-container-id-2 div.sk-parallel-item:only-child::after {width: 0;}#sk-container-id-2 div.sk-dashed-wrapped {border: 1px dashed gray;margin: 0 0.4em 0.5em 0.4em;box-sizing: border-box;padding-bottom: 0.4em;background-color: white;}#sk-container-id-2 div.sk-label label {font-family: monospace;font-weight: bold;display: inline-block;line-height: 1.2em;}#sk-container-id-2 div.sk-label-container {text-align: center;}#sk-container-id-2 div.sk-container {/* jupyter's `normalize.less` sets `[hidden] { display: none; }` but bootstrap.min.css set `[hidden] { display: none !important; }` so we also need the `!important` here to be able to override the default hidden behavior on the sphinx rendered scikit-learn.org. See: https://github.com/scikit-learn/scikit-learn/issues/21755 */display: inline-block !important;position: relative;}#sk-container-id-2 div.sk-text-repr-fallback {display: none;}</style><div id=\"sk-container-id-2\" class=\"sk-top-container\"><div class=\"sk-text-repr-fallback\"><pre>ColumnTransformer(remainder=&#x27;passthrough&#x27;,\n",
       "                  transformers=[(&#x27;standardscaler&#x27;, StandardScaler(),\n",
       "                                 [&#x27;Delay_from_due_date&#x27;,\n",
       "                                  &#x27;Num_of_Delayed_Payment&#x27;])],\n",
       "                  verbose_feature_names_out=False)</pre><b>In a Jupyter environment, please rerun this cell to show the HTML representation or trust the notebook. <br />On GitHub, the HTML representation is unable to render, please try loading this page with nbviewer.org.</b></div><div class=\"sk-container\" hidden><div class=\"sk-item sk-dashed-wrapped\"><div class=\"sk-label-container\"><div class=\"sk-label sk-toggleable\"><input class=\"sk-toggleable__control sk-hidden--visually\" id=\"sk-estimator-id-2\" type=\"checkbox\" ><label for=\"sk-estimator-id-2\" class=\"sk-toggleable__label sk-toggleable__label-arrow\">ColumnTransformer</label><div class=\"sk-toggleable__content\"><pre>ColumnTransformer(remainder=&#x27;passthrough&#x27;,\n",
       "                  transformers=[(&#x27;standardscaler&#x27;, StandardScaler(),\n",
       "                                 [&#x27;Delay_from_due_date&#x27;,\n",
       "                                  &#x27;Num_of_Delayed_Payment&#x27;])],\n",
       "                  verbose_feature_names_out=False)</pre></div></div></div><div class=\"sk-parallel\"><div class=\"sk-parallel-item\"><div class=\"sk-item\"><div class=\"sk-label-container\"><div class=\"sk-label sk-toggleable\"><input class=\"sk-toggleable__control sk-hidden--visually\" id=\"sk-estimator-id-3\" type=\"checkbox\" ><label for=\"sk-estimator-id-3\" class=\"sk-toggleable__label sk-toggleable__label-arrow\">standardscaler</label><div class=\"sk-toggleable__content\"><pre>[&#x27;Delay_from_due_date&#x27;, &#x27;Num_of_Delayed_Payment&#x27;]</pre></div></div></div><div class=\"sk-serial\"><div class=\"sk-item\"><div class=\"sk-estimator sk-toggleable\"><input class=\"sk-toggleable__control sk-hidden--visually\" id=\"sk-estimator-id-4\" type=\"checkbox\" ><label for=\"sk-estimator-id-4\" class=\"sk-toggleable__label sk-toggleable__label-arrow\">StandardScaler</label><div class=\"sk-toggleable__content\"><pre>StandardScaler()</pre></div></div></div></div></div></div><div class=\"sk-parallel-item\"><div class=\"sk-item\"><div class=\"sk-label-container\"><div class=\"sk-label sk-toggleable\"><input class=\"sk-toggleable__control sk-hidden--visually\" id=\"sk-estimator-id-5\" type=\"checkbox\" ><label for=\"sk-estimator-id-5\" class=\"sk-toggleable__label sk-toggleable__label-arrow\">remainder</label><div class=\"sk-toggleable__content\"><pre></pre></div></div></div><div class=\"sk-serial\"><div class=\"sk-item\"><div class=\"sk-estimator sk-toggleable\"><input class=\"sk-toggleable__control sk-hidden--visually\" id=\"sk-estimator-id-6\" type=\"checkbox\" ><label for=\"sk-estimator-id-6\" class=\"sk-toggleable__label sk-toggleable__label-arrow\">passthrough</label><div class=\"sk-toggleable__content\"><pre>passthrough</pre></div></div></div></div></div></div></div></div></div></div>"
      ],
      "text/plain": [
       "ColumnTransformer(remainder='passthrough',\n",
       "                  transformers=[('standardscaler', StandardScaler(),\n",
       "                                 ['Delay_from_due_date',\n",
       "                                  'Num_of_Delayed_Payment'])],\n",
       "                  verbose_feature_names_out=False)"
      ]
     },
     "execution_count": 18,
     "metadata": {},
     "output_type": "execute_result"
    }
   ],
   "source": [
    "preprocessor = make_column_transformer(\n",
    "    (StandardScaler(), predictors),\n",
    "    remainder='passthrough',\n",
    "    verbose_feature_names_out=False\n",
    ")\n",
    "preprocessor"
   ]
  },
  {
   "cell_type": "code",
   "execution_count": 19,
   "metadata": {
    "tags": []
   },
   "outputs": [
    {
     "data": {
      "text/html": [
       "<style>#sk-container-id-3 {color: black;background-color: white;}#sk-container-id-3 pre{padding: 0;}#sk-container-id-3 div.sk-toggleable {background-color: white;}#sk-container-id-3 label.sk-toggleable__label {cursor: pointer;display: block;width: 100%;margin-bottom: 0;padding: 0.3em;box-sizing: border-box;text-align: center;}#sk-container-id-3 label.sk-toggleable__label-arrow:before {content: \"▸\";float: left;margin-right: 0.25em;color: #696969;}#sk-container-id-3 label.sk-toggleable__label-arrow:hover:before {color: black;}#sk-container-id-3 div.sk-estimator:hover label.sk-toggleable__label-arrow:before {color: black;}#sk-container-id-3 div.sk-toggleable__content {max-height: 0;max-width: 0;overflow: hidden;text-align: left;background-color: #f0f8ff;}#sk-container-id-3 div.sk-toggleable__content pre {margin: 0.2em;color: black;border-radius: 0.25em;background-color: #f0f8ff;}#sk-container-id-3 input.sk-toggleable__control:checked~div.sk-toggleable__content {max-height: 200px;max-width: 100%;overflow: auto;}#sk-container-id-3 input.sk-toggleable__control:checked~label.sk-toggleable__label-arrow:before {content: \"▾\";}#sk-container-id-3 div.sk-estimator input.sk-toggleable__control:checked~label.sk-toggleable__label {background-color: #d4ebff;}#sk-container-id-3 div.sk-label input.sk-toggleable__control:checked~label.sk-toggleable__label {background-color: #d4ebff;}#sk-container-id-3 input.sk-hidden--visually {border: 0;clip: rect(1px 1px 1px 1px);clip: rect(1px, 1px, 1px, 1px);height: 1px;margin: -1px;overflow: hidden;padding: 0;position: absolute;width: 1px;}#sk-container-id-3 div.sk-estimator {font-family: monospace;background-color: #f0f8ff;border: 1px dotted black;border-radius: 0.25em;box-sizing: border-box;margin-bottom: 0.5em;}#sk-container-id-3 div.sk-estimator:hover {background-color: #d4ebff;}#sk-container-id-3 div.sk-parallel-item::after {content: \"\";width: 100%;border-bottom: 1px solid gray;flex-grow: 1;}#sk-container-id-3 div.sk-label:hover label.sk-toggleable__label {background-color: #d4ebff;}#sk-container-id-3 div.sk-serial::before {content: \"\";position: absolute;border-left: 1px solid gray;box-sizing: border-box;top: 0;bottom: 0;left: 50%;z-index: 0;}#sk-container-id-3 div.sk-serial {display: flex;flex-direction: column;align-items: center;background-color: white;padding-right: 0.2em;padding-left: 0.2em;position: relative;}#sk-container-id-3 div.sk-item {position: relative;z-index: 1;}#sk-container-id-3 div.sk-parallel {display: flex;align-items: stretch;justify-content: center;background-color: white;position: relative;}#sk-container-id-3 div.sk-item::before, #sk-container-id-3 div.sk-parallel-item::before {content: \"\";position: absolute;border-left: 1px solid gray;box-sizing: border-box;top: 0;bottom: 0;left: 50%;z-index: -1;}#sk-container-id-3 div.sk-parallel-item {display: flex;flex-direction: column;z-index: 1;position: relative;background-color: white;}#sk-container-id-3 div.sk-parallel-item:first-child::after {align-self: flex-end;width: 50%;}#sk-container-id-3 div.sk-parallel-item:last-child::after {align-self: flex-start;width: 50%;}#sk-container-id-3 div.sk-parallel-item:only-child::after {width: 0;}#sk-container-id-3 div.sk-dashed-wrapped {border: 1px dashed gray;margin: 0 0.4em 0.5em 0.4em;box-sizing: border-box;padding-bottom: 0.4em;background-color: white;}#sk-container-id-3 div.sk-label label {font-family: monospace;font-weight: bold;display: inline-block;line-height: 1.2em;}#sk-container-id-3 div.sk-label-container {text-align: center;}#sk-container-id-3 div.sk-container {/* jupyter's `normalize.less` sets `[hidden] { display: none; }` but bootstrap.min.css set `[hidden] { display: none !important; }` so we also need the `!important` here to be able to override the default hidden behavior on the sphinx rendered scikit-learn.org. See: https://github.com/scikit-learn/scikit-learn/issues/21755 */display: inline-block !important;position: relative;}#sk-container-id-3 div.sk-text-repr-fallback {display: none;}</style><div id=\"sk-container-id-3\" class=\"sk-top-container\"><div class=\"sk-text-repr-fallback\"><pre>Pipeline(steps=[(&#x27;columntransformer&#x27;,\n",
       "                 ColumnTransformer(remainder=&#x27;passthrough&#x27;,\n",
       "                                   transformers=[(&#x27;standardscaler&#x27;,\n",
       "                                                  StandardScaler(),\n",
       "                                                  [&#x27;Delay_from_due_date&#x27;,\n",
       "                                                   &#x27;Num_of_Delayed_Payment&#x27;])],\n",
       "                                   verbose_feature_names_out=False)),\n",
       "                (&#x27;kneighborsclassifier&#x27;, KNeighborsClassifier(n_neighbors=41))])</pre><b>In a Jupyter environment, please rerun this cell to show the HTML representation or trust the notebook. <br />On GitHub, the HTML representation is unable to render, please try loading this page with nbviewer.org.</b></div><div class=\"sk-container\" hidden><div class=\"sk-item sk-dashed-wrapped\"><div class=\"sk-label-container\"><div class=\"sk-label sk-toggleable\"><input class=\"sk-toggleable__control sk-hidden--visually\" id=\"sk-estimator-id-7\" type=\"checkbox\" ><label for=\"sk-estimator-id-7\" class=\"sk-toggleable__label sk-toggleable__label-arrow\">Pipeline</label><div class=\"sk-toggleable__content\"><pre>Pipeline(steps=[(&#x27;columntransformer&#x27;,\n",
       "                 ColumnTransformer(remainder=&#x27;passthrough&#x27;,\n",
       "                                   transformers=[(&#x27;standardscaler&#x27;,\n",
       "                                                  StandardScaler(),\n",
       "                                                  [&#x27;Delay_from_due_date&#x27;,\n",
       "                                                   &#x27;Num_of_Delayed_Payment&#x27;])],\n",
       "                                   verbose_feature_names_out=False)),\n",
       "                (&#x27;kneighborsclassifier&#x27;, KNeighborsClassifier(n_neighbors=41))])</pre></div></div></div><div class=\"sk-serial\"><div class=\"sk-item sk-dashed-wrapped\"><div class=\"sk-label-container\"><div class=\"sk-label sk-toggleable\"><input class=\"sk-toggleable__control sk-hidden--visually\" id=\"sk-estimator-id-8\" type=\"checkbox\" ><label for=\"sk-estimator-id-8\" class=\"sk-toggleable__label sk-toggleable__label-arrow\">columntransformer: ColumnTransformer</label><div class=\"sk-toggleable__content\"><pre>ColumnTransformer(remainder=&#x27;passthrough&#x27;,\n",
       "                  transformers=[(&#x27;standardscaler&#x27;, StandardScaler(),\n",
       "                                 [&#x27;Delay_from_due_date&#x27;,\n",
       "                                  &#x27;Num_of_Delayed_Payment&#x27;])],\n",
       "                  verbose_feature_names_out=False)</pre></div></div></div><div class=\"sk-parallel\"><div class=\"sk-parallel-item\"><div class=\"sk-item\"><div class=\"sk-label-container\"><div class=\"sk-label sk-toggleable\"><input class=\"sk-toggleable__control sk-hidden--visually\" id=\"sk-estimator-id-9\" type=\"checkbox\" ><label for=\"sk-estimator-id-9\" class=\"sk-toggleable__label sk-toggleable__label-arrow\">standardscaler</label><div class=\"sk-toggleable__content\"><pre>[&#x27;Delay_from_due_date&#x27;, &#x27;Num_of_Delayed_Payment&#x27;]</pre></div></div></div><div class=\"sk-serial\"><div class=\"sk-item\"><div class=\"sk-estimator sk-toggleable\"><input class=\"sk-toggleable__control sk-hidden--visually\" id=\"sk-estimator-id-10\" type=\"checkbox\" ><label for=\"sk-estimator-id-10\" class=\"sk-toggleable__label sk-toggleable__label-arrow\">StandardScaler</label><div class=\"sk-toggleable__content\"><pre>StandardScaler()</pre></div></div></div></div></div></div><div class=\"sk-parallel-item\"><div class=\"sk-item\"><div class=\"sk-label-container\"><div class=\"sk-label sk-toggleable\"><input class=\"sk-toggleable__control sk-hidden--visually\" id=\"sk-estimator-id-11\" type=\"checkbox\" ><label for=\"sk-estimator-id-11\" class=\"sk-toggleable__label sk-toggleable__label-arrow\">remainder</label><div class=\"sk-toggleable__content\"><pre>[]</pre></div></div></div><div class=\"sk-serial\"><div class=\"sk-item\"><div class=\"sk-estimator sk-toggleable\"><input class=\"sk-toggleable__control sk-hidden--visually\" id=\"sk-estimator-id-12\" type=\"checkbox\" ><label for=\"sk-estimator-id-12\" class=\"sk-toggleable__label sk-toggleable__label-arrow\">passthrough</label><div class=\"sk-toggleable__content\"><pre>passthrough</pre></div></div></div></div></div></div></div></div><div class=\"sk-item\"><div class=\"sk-estimator sk-toggleable\"><input class=\"sk-toggleable__control sk-hidden--visually\" id=\"sk-estimator-id-13\" type=\"checkbox\" ><label for=\"sk-estimator-id-13\" class=\"sk-toggleable__label sk-toggleable__label-arrow\">KNeighborsClassifier</label><div class=\"sk-toggleable__content\"><pre>KNeighborsClassifier(n_neighbors=41)</pre></div></div></div></div></div></div></div>"
      ],
      "text/plain": [
       "Pipeline(steps=[('columntransformer',\n",
       "                 ColumnTransformer(remainder='passthrough',\n",
       "                                   transformers=[('standardscaler',\n",
       "                                                  StandardScaler(),\n",
       "                                                  ['Delay_from_due_date',\n",
       "                                                   'Num_of_Delayed_Payment'])],\n",
       "                                   verbose_feature_names_out=False)),\n",
       "                ('kneighborsclassifier', KNeighborsClassifier(n_neighbors=41))])"
      ]
     },
     "execution_count": 19,
     "metadata": {},
     "output_type": "execute_result"
    }
   ],
   "source": [
    "X = train.drop(columns='Credit_Score')\n",
    "y = train[\"Credit_Score\"]\n",
    "\n",
    "train_fit = make_pipeline(preprocessor, knn).fit(X, y)\n",
    "\n",
    "train_fit"
   ]
  },
  {
   "cell_type": "code",
   "execution_count": 20,
   "metadata": {
    "tags": []
   },
   "outputs": [
    {
     "data": {
      "text/html": [
       "<div>\n",
       "<style scoped>\n",
       "    .dataframe tbody tr th:only-of-type {\n",
       "        vertical-align: middle;\n",
       "    }\n",
       "\n",
       "    .dataframe tbody tr th {\n",
       "        vertical-align: top;\n",
       "    }\n",
       "\n",
       "    .dataframe thead th {\n",
       "        text-align: right;\n",
       "    }\n",
       "</style>\n",
       "<table border=\"1\" class=\"dataframe\">\n",
       "  <thead>\n",
       "    <tr style=\"text-align: right;\">\n",
       "      <th></th>\n",
       "      <th>Num_of_Delayed_Payment</th>\n",
       "      <th>Delay_from_due_date</th>\n",
       "      <th>Credit_Score</th>\n",
       "      <th>predicted</th>\n",
       "    </tr>\n",
       "  </thead>\n",
       "  <tbody>\n",
       "    <tr>\n",
       "      <th>28983</th>\n",
       "      <td>23</td>\n",
       "      <td>47</td>\n",
       "      <td>Standard</td>\n",
       "      <td>Poor</td>\n",
       "    </tr>\n",
       "    <tr>\n",
       "      <th>1431</th>\n",
       "      <td>20</td>\n",
       "      <td>25</td>\n",
       "      <td>Standard</td>\n",
       "      <td>Standard</td>\n",
       "    </tr>\n",
       "    <tr>\n",
       "      <th>27040</th>\n",
       "      <td>5</td>\n",
       "      <td>18</td>\n",
       "      <td>Standard</td>\n",
       "      <td>Standard</td>\n",
       "    </tr>\n",
       "    <tr>\n",
       "      <th>9783</th>\n",
       "      <td>1</td>\n",
       "      <td>11</td>\n",
       "      <td>Standard</td>\n",
       "      <td>Standard</td>\n",
       "    </tr>\n",
       "    <tr>\n",
       "      <th>29776</th>\n",
       "      <td>7</td>\n",
       "      <td>15</td>\n",
       "      <td>Standard</td>\n",
       "      <td>Standard</td>\n",
       "    </tr>\n",
       "  </tbody>\n",
       "</table>\n",
       "</div>"
      ],
      "text/plain": [
       "       Num_of_Delayed_Payment  Delay_from_due_date Credit_Score predicted\n",
       "28983                      23                   47     Standard      Poor\n",
       "1431                       20                   25     Standard  Standard\n",
       "27040                       5                   18     Standard  Standard\n",
       "9783                        1                   11     Standard  Standard\n",
       "29776                       7                   15     Standard  Standard"
      ]
     },
     "execution_count": 20,
     "metadata": {},
     "output_type": "execute_result"
    }
   ],
   "source": [
    "test_predictions = test.assign(\n",
    "    predicted = train_fit.predict(test[predictors])\n",
    ")\n",
    "test_predictions.head()"
   ]
  },
  {
   "cell_type": "code",
   "execution_count": 21,
   "metadata": {},
   "outputs": [
    {
     "data": {
      "text/plain": [
       "0.608"
      ]
     },
     "execution_count": 21,
     "metadata": {},
     "output_type": "execute_result"
    }
   ],
   "source": [
    "X_test = test[predictors]\n",
    "y_test = test[\"Credit_Score\"]\n",
    "accuracy = train_fit.score(X_test,y_test)\n",
    "accuracy"
   ]
  },
  {
   "cell_type": "markdown",
   "metadata": {},
   "source": [
    "### Choosing the best K"
   ]
  },
  {
   "cell_type": "code",
   "execution_count": 22,
   "metadata": {
    "tags": []
   },
   "outputs": [],
   "source": [
    "param_grid = {\n",
    "    \"kneighborsclassifier__n_neighbors\": range(1, 100, 5),\n",
    "}\n",
    "tune_pipe = make_pipeline(preprocessor, KNeighborsClassifier())"
   ]
  },
  {
   "cell_type": "code",
   "execution_count": 23,
   "metadata": {
    "tags": []
   },
   "outputs": [
    {
     "data": {
      "text/html": [
       "<style>#sk-container-id-4 {color: black;background-color: white;}#sk-container-id-4 pre{padding: 0;}#sk-container-id-4 div.sk-toggleable {background-color: white;}#sk-container-id-4 label.sk-toggleable__label {cursor: pointer;display: block;width: 100%;margin-bottom: 0;padding: 0.3em;box-sizing: border-box;text-align: center;}#sk-container-id-4 label.sk-toggleable__label-arrow:before {content: \"▸\";float: left;margin-right: 0.25em;color: #696969;}#sk-container-id-4 label.sk-toggleable__label-arrow:hover:before {color: black;}#sk-container-id-4 div.sk-estimator:hover label.sk-toggleable__label-arrow:before {color: black;}#sk-container-id-4 div.sk-toggleable__content {max-height: 0;max-width: 0;overflow: hidden;text-align: left;background-color: #f0f8ff;}#sk-container-id-4 div.sk-toggleable__content pre {margin: 0.2em;color: black;border-radius: 0.25em;background-color: #f0f8ff;}#sk-container-id-4 input.sk-toggleable__control:checked~div.sk-toggleable__content {max-height: 200px;max-width: 100%;overflow: auto;}#sk-container-id-4 input.sk-toggleable__control:checked~label.sk-toggleable__label-arrow:before {content: \"▾\";}#sk-container-id-4 div.sk-estimator input.sk-toggleable__control:checked~label.sk-toggleable__label {background-color: #d4ebff;}#sk-container-id-4 div.sk-label input.sk-toggleable__control:checked~label.sk-toggleable__label {background-color: #d4ebff;}#sk-container-id-4 input.sk-hidden--visually {border: 0;clip: rect(1px 1px 1px 1px);clip: rect(1px, 1px, 1px, 1px);height: 1px;margin: -1px;overflow: hidden;padding: 0;position: absolute;width: 1px;}#sk-container-id-4 div.sk-estimator {font-family: monospace;background-color: #f0f8ff;border: 1px dotted black;border-radius: 0.25em;box-sizing: border-box;margin-bottom: 0.5em;}#sk-container-id-4 div.sk-estimator:hover {background-color: #d4ebff;}#sk-container-id-4 div.sk-parallel-item::after {content: \"\";width: 100%;border-bottom: 1px solid gray;flex-grow: 1;}#sk-container-id-4 div.sk-label:hover label.sk-toggleable__label {background-color: #d4ebff;}#sk-container-id-4 div.sk-serial::before {content: \"\";position: absolute;border-left: 1px solid gray;box-sizing: border-box;top: 0;bottom: 0;left: 50%;z-index: 0;}#sk-container-id-4 div.sk-serial {display: flex;flex-direction: column;align-items: center;background-color: white;padding-right: 0.2em;padding-left: 0.2em;position: relative;}#sk-container-id-4 div.sk-item {position: relative;z-index: 1;}#sk-container-id-4 div.sk-parallel {display: flex;align-items: stretch;justify-content: center;background-color: white;position: relative;}#sk-container-id-4 div.sk-item::before, #sk-container-id-4 div.sk-parallel-item::before {content: \"\";position: absolute;border-left: 1px solid gray;box-sizing: border-box;top: 0;bottom: 0;left: 50%;z-index: -1;}#sk-container-id-4 div.sk-parallel-item {display: flex;flex-direction: column;z-index: 1;position: relative;background-color: white;}#sk-container-id-4 div.sk-parallel-item:first-child::after {align-self: flex-end;width: 50%;}#sk-container-id-4 div.sk-parallel-item:last-child::after {align-self: flex-start;width: 50%;}#sk-container-id-4 div.sk-parallel-item:only-child::after {width: 0;}#sk-container-id-4 div.sk-dashed-wrapped {border: 1px dashed gray;margin: 0 0.4em 0.5em 0.4em;box-sizing: border-box;padding-bottom: 0.4em;background-color: white;}#sk-container-id-4 div.sk-label label {font-family: monospace;font-weight: bold;display: inline-block;line-height: 1.2em;}#sk-container-id-4 div.sk-label-container {text-align: center;}#sk-container-id-4 div.sk-container {/* jupyter's `normalize.less` sets `[hidden] { display: none; }` but bootstrap.min.css set `[hidden] { display: none !important; }` so we also need the `!important` here to be able to override the default hidden behavior on the sphinx rendered scikit-learn.org. See: https://github.com/scikit-learn/scikit-learn/issues/21755 */display: inline-block !important;position: relative;}#sk-container-id-4 div.sk-text-repr-fallback {display: none;}</style><div id=\"sk-container-id-4\" class=\"sk-top-container\"><div class=\"sk-text-repr-fallback\"><pre>GridSearchCV(cv=25,\n",
       "             estimator=Pipeline(steps=[(&#x27;columntransformer&#x27;,\n",
       "                                        ColumnTransformer(remainder=&#x27;passthrough&#x27;,\n",
       "                                                          transformers=[(&#x27;standardscaler&#x27;,\n",
       "                                                                         StandardScaler(),\n",
       "                                                                         [&#x27;Delay_from_due_date&#x27;,\n",
       "                                                                          &#x27;Num_of_Delayed_Payment&#x27;])],\n",
       "                                                          verbose_feature_names_out=False)),\n",
       "                                       (&#x27;kneighborsclassifier&#x27;,\n",
       "                                        KNeighborsClassifier())]),\n",
       "             param_grid={&#x27;kneighborsclassifier__n_neighbors&#x27;: range(1, 100, 5)})</pre><b>In a Jupyter environment, please rerun this cell to show the HTML representation or trust the notebook. <br />On GitHub, the HTML representation is unable to render, please try loading this page with nbviewer.org.</b></div><div class=\"sk-container\" hidden><div class=\"sk-item sk-dashed-wrapped\"><div class=\"sk-label-container\"><div class=\"sk-label sk-toggleable\"><input class=\"sk-toggleable__control sk-hidden--visually\" id=\"sk-estimator-id-14\" type=\"checkbox\" ><label for=\"sk-estimator-id-14\" class=\"sk-toggleable__label sk-toggleable__label-arrow\">GridSearchCV</label><div class=\"sk-toggleable__content\"><pre>GridSearchCV(cv=25,\n",
       "             estimator=Pipeline(steps=[(&#x27;columntransformer&#x27;,\n",
       "                                        ColumnTransformer(remainder=&#x27;passthrough&#x27;,\n",
       "                                                          transformers=[(&#x27;standardscaler&#x27;,\n",
       "                                                                         StandardScaler(),\n",
       "                                                                         [&#x27;Delay_from_due_date&#x27;,\n",
       "                                                                          &#x27;Num_of_Delayed_Payment&#x27;])],\n",
       "                                                          verbose_feature_names_out=False)),\n",
       "                                       (&#x27;kneighborsclassifier&#x27;,\n",
       "                                        KNeighborsClassifier())]),\n",
       "             param_grid={&#x27;kneighborsclassifier__n_neighbors&#x27;: range(1, 100, 5)})</pre></div></div></div><div class=\"sk-parallel\"><div class=\"sk-parallel-item\"><div class=\"sk-item\"><div class=\"sk-label-container\"><div class=\"sk-label sk-toggleable\"><input class=\"sk-toggleable__control sk-hidden--visually\" id=\"sk-estimator-id-15\" type=\"checkbox\" ><label for=\"sk-estimator-id-15\" class=\"sk-toggleable__label sk-toggleable__label-arrow\">estimator: Pipeline</label><div class=\"sk-toggleable__content\"><pre>Pipeline(steps=[(&#x27;columntransformer&#x27;,\n",
       "                 ColumnTransformer(remainder=&#x27;passthrough&#x27;,\n",
       "                                   transformers=[(&#x27;standardscaler&#x27;,\n",
       "                                                  StandardScaler(),\n",
       "                                                  [&#x27;Delay_from_due_date&#x27;,\n",
       "                                                   &#x27;Num_of_Delayed_Payment&#x27;])],\n",
       "                                   verbose_feature_names_out=False)),\n",
       "                (&#x27;kneighborsclassifier&#x27;, KNeighborsClassifier())])</pre></div></div></div><div class=\"sk-serial\"><div class=\"sk-item\"><div class=\"sk-serial\"><div class=\"sk-item sk-dashed-wrapped\"><div class=\"sk-label-container\"><div class=\"sk-label sk-toggleable\"><input class=\"sk-toggleable__control sk-hidden--visually\" id=\"sk-estimator-id-16\" type=\"checkbox\" ><label for=\"sk-estimator-id-16\" class=\"sk-toggleable__label sk-toggleable__label-arrow\">columntransformer: ColumnTransformer</label><div class=\"sk-toggleable__content\"><pre>ColumnTransformer(remainder=&#x27;passthrough&#x27;,\n",
       "                  transformers=[(&#x27;standardscaler&#x27;, StandardScaler(),\n",
       "                                 [&#x27;Delay_from_due_date&#x27;,\n",
       "                                  &#x27;Num_of_Delayed_Payment&#x27;])],\n",
       "                  verbose_feature_names_out=False)</pre></div></div></div><div class=\"sk-parallel\"><div class=\"sk-parallel-item\"><div class=\"sk-item\"><div class=\"sk-label-container\"><div class=\"sk-label sk-toggleable\"><input class=\"sk-toggleable__control sk-hidden--visually\" id=\"sk-estimator-id-17\" type=\"checkbox\" ><label for=\"sk-estimator-id-17\" class=\"sk-toggleable__label sk-toggleable__label-arrow\">standardscaler</label><div class=\"sk-toggleable__content\"><pre>[&#x27;Delay_from_due_date&#x27;, &#x27;Num_of_Delayed_Payment&#x27;]</pre></div></div></div><div class=\"sk-serial\"><div class=\"sk-item\"><div class=\"sk-estimator sk-toggleable\"><input class=\"sk-toggleable__control sk-hidden--visually\" id=\"sk-estimator-id-18\" type=\"checkbox\" ><label for=\"sk-estimator-id-18\" class=\"sk-toggleable__label sk-toggleable__label-arrow\">StandardScaler</label><div class=\"sk-toggleable__content\"><pre>StandardScaler()</pre></div></div></div></div></div></div><div class=\"sk-parallel-item\"><div class=\"sk-item\"><div class=\"sk-label-container\"><div class=\"sk-label sk-toggleable\"><input class=\"sk-toggleable__control sk-hidden--visually\" id=\"sk-estimator-id-19\" type=\"checkbox\" ><label for=\"sk-estimator-id-19\" class=\"sk-toggleable__label sk-toggleable__label-arrow\">remainder</label><div class=\"sk-toggleable__content\"><pre>[]</pre></div></div></div><div class=\"sk-serial\"><div class=\"sk-item\"><div class=\"sk-estimator sk-toggleable\"><input class=\"sk-toggleable__control sk-hidden--visually\" id=\"sk-estimator-id-20\" type=\"checkbox\" ><label for=\"sk-estimator-id-20\" class=\"sk-toggleable__label sk-toggleable__label-arrow\">passthrough</label><div class=\"sk-toggleable__content\"><pre>passthrough</pre></div></div></div></div></div></div></div></div><div class=\"sk-item\"><div class=\"sk-estimator sk-toggleable\"><input class=\"sk-toggleable__control sk-hidden--visually\" id=\"sk-estimator-id-21\" type=\"checkbox\" ><label for=\"sk-estimator-id-21\" class=\"sk-toggleable__label sk-toggleable__label-arrow\">KNeighborsClassifier</label><div class=\"sk-toggleable__content\"><pre>KNeighborsClassifier()</pre></div></div></div></div></div></div></div></div></div></div></div></div>"
      ],
      "text/plain": [
       "GridSearchCV(cv=25,\n",
       "             estimator=Pipeline(steps=[('columntransformer',\n",
       "                                        ColumnTransformer(remainder='passthrough',\n",
       "                                                          transformers=[('standardscaler',\n",
       "                                                                         StandardScaler(),\n",
       "                                                                         ['Delay_from_due_date',\n",
       "                                                                          'Num_of_Delayed_Payment'])],\n",
       "                                                          verbose_feature_names_out=False)),\n",
       "                                       ('kneighborsclassifier',\n",
       "                                        KNeighborsClassifier())]),\n",
       "             param_grid={'kneighborsclassifier__n_neighbors': range(1, 100, 5)})"
      ]
     },
     "execution_count": 23,
     "metadata": {},
     "output_type": "execute_result"
    }
   ],
   "source": [
    "knn_tune_grid = GridSearchCV(\n",
    "    estimator = tune_pipe, param_grid = param_grid, cv=25,\n",
    ")\n",
    "knn_tune_grid"
   ]
  },
  {
   "cell_type": "code",
   "execution_count": 24,
   "metadata": {
    "tags": []
   },
   "outputs": [
    {
     "data": {
      "text/html": [
       "<div>\n",
       "<style scoped>\n",
       "    .dataframe tbody tr th:only-of-type {\n",
       "        vertical-align: middle;\n",
       "    }\n",
       "\n",
       "    .dataframe tbody tr th {\n",
       "        vertical-align: top;\n",
       "    }\n",
       "\n",
       "    .dataframe thead th {\n",
       "        text-align: right;\n",
       "    }\n",
       "</style>\n",
       "<table border=\"1\" class=\"dataframe\">\n",
       "  <thead>\n",
       "    <tr style=\"text-align: right;\">\n",
       "      <th></th>\n",
       "      <th>mean_fit_time</th>\n",
       "      <th>std_fit_time</th>\n",
       "      <th>mean_score_time</th>\n",
       "      <th>std_score_time</th>\n",
       "      <th>param_kneighborsclassifier__n_neighbors</th>\n",
       "      <th>params</th>\n",
       "      <th>split0_test_score</th>\n",
       "      <th>split1_test_score</th>\n",
       "      <th>split2_test_score</th>\n",
       "      <th>split3_test_score</th>\n",
       "      <th>...</th>\n",
       "      <th>split18_test_score</th>\n",
       "      <th>split19_test_score</th>\n",
       "      <th>split20_test_score</th>\n",
       "      <th>split21_test_score</th>\n",
       "      <th>split22_test_score</th>\n",
       "      <th>split23_test_score</th>\n",
       "      <th>split24_test_score</th>\n",
       "      <th>mean_test_score</th>\n",
       "      <th>std_test_score</th>\n",
       "      <th>rank_test_score</th>\n",
       "    </tr>\n",
       "  </thead>\n",
       "  <tbody>\n",
       "    <tr>\n",
       "      <th>0</th>\n",
       "      <td>0.007194</td>\n",
       "      <td>0.000484</td>\n",
       "      <td>0.006125</td>\n",
       "      <td>0.001686</td>\n",
       "      <td>1</td>\n",
       "      <td>{'kneighborsclassifier__n_neighbors': 1}</td>\n",
       "      <td>0.666667</td>\n",
       "      <td>0.433333</td>\n",
       "      <td>0.500000</td>\n",
       "      <td>0.633333</td>\n",
       "      <td>...</td>\n",
       "      <td>0.400000</td>\n",
       "      <td>0.433333</td>\n",
       "      <td>0.333333</td>\n",
       "      <td>0.400000</td>\n",
       "      <td>0.433333</td>\n",
       "      <td>0.500000</td>\n",
       "      <td>0.466667</td>\n",
       "      <td>0.508000</td>\n",
       "      <td>0.090077</td>\n",
       "      <td>20</td>\n",
       "    </tr>\n",
       "    <tr>\n",
       "      <th>1</th>\n",
       "      <td>0.010458</td>\n",
       "      <td>0.008254</td>\n",
       "      <td>0.006346</td>\n",
       "      <td>0.000765</td>\n",
       "      <td>6</td>\n",
       "      <td>{'kneighborsclassifier__n_neighbors': 6}</td>\n",
       "      <td>0.533333</td>\n",
       "      <td>0.566667</td>\n",
       "      <td>0.633333</td>\n",
       "      <td>0.533333</td>\n",
       "      <td>...</td>\n",
       "      <td>0.566667</td>\n",
       "      <td>0.533333</td>\n",
       "      <td>0.533333</td>\n",
       "      <td>0.433333</td>\n",
       "      <td>0.433333</td>\n",
       "      <td>0.466667</td>\n",
       "      <td>0.533333</td>\n",
       "      <td>0.529333</td>\n",
       "      <td>0.063470</td>\n",
       "      <td>19</td>\n",
       "    </tr>\n",
       "    <tr>\n",
       "      <th>2</th>\n",
       "      <td>0.007038</td>\n",
       "      <td>0.000588</td>\n",
       "      <td>0.009031</td>\n",
       "      <td>0.010696</td>\n",
       "      <td>11</td>\n",
       "      <td>{'kneighborsclassifier__n_neighbors': 11}</td>\n",
       "      <td>0.466667</td>\n",
       "      <td>0.566667</td>\n",
       "      <td>0.666667</td>\n",
       "      <td>0.600000</td>\n",
       "      <td>...</td>\n",
       "      <td>0.566667</td>\n",
       "      <td>0.466667</td>\n",
       "      <td>0.566667</td>\n",
       "      <td>0.533333</td>\n",
       "      <td>0.400000</td>\n",
       "      <td>0.533333</td>\n",
       "      <td>0.500000</td>\n",
       "      <td>0.544000</td>\n",
       "      <td>0.072859</td>\n",
       "      <td>18</td>\n",
       "    </tr>\n",
       "    <tr>\n",
       "      <th>3</th>\n",
       "      <td>0.007032</td>\n",
       "      <td>0.000754</td>\n",
       "      <td>0.005772</td>\n",
       "      <td>0.000559</td>\n",
       "      <td>16</td>\n",
       "      <td>{'kneighborsclassifier__n_neighbors': 16}</td>\n",
       "      <td>0.533333</td>\n",
       "      <td>0.566667</td>\n",
       "      <td>0.566667</td>\n",
       "      <td>0.566667</td>\n",
       "      <td>...</td>\n",
       "      <td>0.566667</td>\n",
       "      <td>0.366667</td>\n",
       "      <td>0.566667</td>\n",
       "      <td>0.500000</td>\n",
       "      <td>0.533333</td>\n",
       "      <td>0.466667</td>\n",
       "      <td>0.566667</td>\n",
       "      <td>0.548000</td>\n",
       "      <td>0.063302</td>\n",
       "      <td>17</td>\n",
       "    </tr>\n",
       "    <tr>\n",
       "      <th>4</th>\n",
       "      <td>0.007327</td>\n",
       "      <td>0.000620</td>\n",
       "      <td>0.005999</td>\n",
       "      <td>0.000696</td>\n",
       "      <td>21</td>\n",
       "      <td>{'kneighborsclassifier__n_neighbors': 21}</td>\n",
       "      <td>0.500000</td>\n",
       "      <td>0.600000</td>\n",
       "      <td>0.633333</td>\n",
       "      <td>0.566667</td>\n",
       "      <td>...</td>\n",
       "      <td>0.533333</td>\n",
       "      <td>0.466667</td>\n",
       "      <td>0.600000</td>\n",
       "      <td>0.466667</td>\n",
       "      <td>0.433333</td>\n",
       "      <td>0.533333</td>\n",
       "      <td>0.533333</td>\n",
       "      <td>0.561333</td>\n",
       "      <td>0.072222</td>\n",
       "      <td>16</td>\n",
       "    </tr>\n",
       "  </tbody>\n",
       "</table>\n",
       "<p>5 rows × 34 columns</p>\n",
       "</div>"
      ],
      "text/plain": [
       "   mean_fit_time  std_fit_time  mean_score_time  std_score_time  \\\n",
       "0       0.007194      0.000484         0.006125        0.001686   \n",
       "1       0.010458      0.008254         0.006346        0.000765   \n",
       "2       0.007038      0.000588         0.009031        0.010696   \n",
       "3       0.007032      0.000754         0.005772        0.000559   \n",
       "4       0.007327      0.000620         0.005999        0.000696   \n",
       "\n",
       "  param_kneighborsclassifier__n_neighbors  \\\n",
       "0                                       1   \n",
       "1                                       6   \n",
       "2                                      11   \n",
       "3                                      16   \n",
       "4                                      21   \n",
       "\n",
       "                                      params  split0_test_score  \\\n",
       "0   {'kneighborsclassifier__n_neighbors': 1}           0.666667   \n",
       "1   {'kneighborsclassifier__n_neighbors': 6}           0.533333   \n",
       "2  {'kneighborsclassifier__n_neighbors': 11}           0.466667   \n",
       "3  {'kneighborsclassifier__n_neighbors': 16}           0.533333   \n",
       "4  {'kneighborsclassifier__n_neighbors': 21}           0.500000   \n",
       "\n",
       "   split1_test_score  split2_test_score  split3_test_score  ...  \\\n",
       "0           0.433333           0.500000           0.633333  ...   \n",
       "1           0.566667           0.633333           0.533333  ...   \n",
       "2           0.566667           0.666667           0.600000  ...   \n",
       "3           0.566667           0.566667           0.566667  ...   \n",
       "4           0.600000           0.633333           0.566667  ...   \n",
       "\n",
       "   split18_test_score  split19_test_score  split20_test_score  \\\n",
       "0            0.400000            0.433333            0.333333   \n",
       "1            0.566667            0.533333            0.533333   \n",
       "2            0.566667            0.466667            0.566667   \n",
       "3            0.566667            0.366667            0.566667   \n",
       "4            0.533333            0.466667            0.600000   \n",
       "\n",
       "   split21_test_score  split22_test_score  split23_test_score  \\\n",
       "0            0.400000            0.433333            0.500000   \n",
       "1            0.433333            0.433333            0.466667   \n",
       "2            0.533333            0.400000            0.533333   \n",
       "3            0.500000            0.533333            0.466667   \n",
       "4            0.466667            0.433333            0.533333   \n",
       "\n",
       "   split24_test_score  mean_test_score  std_test_score  rank_test_score  \n",
       "0            0.466667         0.508000        0.090077               20  \n",
       "1            0.533333         0.529333        0.063470               19  \n",
       "2            0.500000         0.544000        0.072859               18  \n",
       "3            0.566667         0.548000        0.063302               17  \n",
       "4            0.533333         0.561333        0.072222               16  \n",
       "\n",
       "[5 rows x 34 columns]"
      ]
     },
     "execution_count": 24,
     "metadata": {},
     "output_type": "execute_result"
    }
   ],
   "source": [
    "knn_model_grid = knn_tune_grid.fit(X, y)\n",
    "\n",
    "accuracies_grid = pd.DataFrame(knn_model_grid.cv_results_)\n",
    "accuracies_grid.head()"
   ]
  },
  {
   "cell_type": "code",
   "execution_count": 25,
   "metadata": {
    "tags": []
   },
   "outputs": [
    {
     "data": {
      "text/html": [
       "\n",
       "<style>\n",
       "  #altair-viz-259beeb3d14648248783770e192d0568.vega-embed {\n",
       "    width: 100%;\n",
       "    display: flex;\n",
       "  }\n",
       "\n",
       "  #altair-viz-259beeb3d14648248783770e192d0568.vega-embed details,\n",
       "  #altair-viz-259beeb3d14648248783770e192d0568.vega-embed details summary {\n",
       "    position: relative;\n",
       "  }\n",
       "</style>\n",
       "<div id=\"altair-viz-259beeb3d14648248783770e192d0568\"></div>\n",
       "<script type=\"text/javascript\">\n",
       "  var VEGA_DEBUG = (typeof VEGA_DEBUG == \"undefined\") ? {} : VEGA_DEBUG;\n",
       "  (function(spec, embedOpt){\n",
       "    let outputDiv = document.currentScript.previousElementSibling;\n",
       "    if (outputDiv.id !== \"altair-viz-259beeb3d14648248783770e192d0568\") {\n",
       "      outputDiv = document.getElementById(\"altair-viz-259beeb3d14648248783770e192d0568\");\n",
       "    }\n",
       "    const paths = {\n",
       "      \"vega\": \"https://cdn.jsdelivr.net/npm/vega@5?noext\",\n",
       "      \"vega-lib\": \"https://cdn.jsdelivr.net/npm/vega-lib?noext\",\n",
       "      \"vega-lite\": \"https://cdn.jsdelivr.net/npm/vega-lite@5.16.3?noext\",\n",
       "      \"vega-embed\": \"https://cdn.jsdelivr.net/npm/vega-embed@6?noext\",\n",
       "    };\n",
       "\n",
       "    function maybeLoadScript(lib, version) {\n",
       "      var key = `${lib.replace(\"-\", \"\")}_version`;\n",
       "      return (VEGA_DEBUG[key] == version) ?\n",
       "        Promise.resolve(paths[lib]) :\n",
       "        new Promise(function(resolve, reject) {\n",
       "          var s = document.createElement('script');\n",
       "          document.getElementsByTagName(\"head\")[0].appendChild(s);\n",
       "          s.async = true;\n",
       "          s.onload = () => {\n",
       "            VEGA_DEBUG[key] = version;\n",
       "            return resolve(paths[lib]);\n",
       "          };\n",
       "          s.onerror = () => reject(`Error loading script: ${paths[lib]}`);\n",
       "          s.src = paths[lib];\n",
       "        });\n",
       "    }\n",
       "\n",
       "    function showError(err) {\n",
       "      outputDiv.innerHTML = `<div class=\"error\" style=\"color:red;\">${err}</div>`;\n",
       "      throw err;\n",
       "    }\n",
       "\n",
       "    function displayChart(vegaEmbed) {\n",
       "      vegaEmbed(outputDiv, spec, embedOpt)\n",
       "        .catch(err => showError(`Javascript Error: ${err.message}<br>This usually means there's a typo in your chart specification. See the javascript console for the full traceback.`));\n",
       "    }\n",
       "\n",
       "    if(typeof define === \"function\" && define.amd) {\n",
       "      requirejs.config({paths});\n",
       "      require([\"vega-embed\"], displayChart, err => showError(`Error loading script: ${err.message}`));\n",
       "    } else {\n",
       "      maybeLoadScript(\"vega\", \"5\")\n",
       "        .then(() => maybeLoadScript(\"vega-lite\", \"5.16.3\"))\n",
       "        .then(() => maybeLoadScript(\"vega-embed\", \"6\"))\n",
       "        .catch(showError)\n",
       "        .then(() => displayChart(vegaEmbed));\n",
       "    }\n",
       "  })({\"config\": {\"view\": {\"continuousWidth\": 300, \"continuousHeight\": 300}}, \"data\": {\"name\": \"data-0b3954d0eb06651225a87bdb061b5ca4\"}, \"mark\": {\"type\": \"line\", \"point\": true}, \"encoding\": {\"x\": {\"field\": \"param_kneighborsclassifier__n_neighbors\", \"scale\": {\"zero\": false}, \"title\": \"neighbors\", \"type\": \"quantitative\"}, \"y\": {\"field\": \"mean_test_score\", \"scale\": {\"zero\": false}, \"title\": \"Mean test score\", \"type\": \"quantitative\"}}, \"$schema\": \"https://vega.github.io/schema/vega-lite/v5.16.3.json\", \"datasets\": {\"data-0b3954d0eb06651225a87bdb061b5ca4\": [{\"mean_fit_time\": 0.007194032669067383, \"std_fit_time\": 0.00048415390048549636, \"mean_score_time\": 0.006124706268310547, \"std_score_time\": 0.0016864992881640208, \"param_kneighborsclassifier__n_neighbors\": 1, \"params\": {\"kneighborsclassifier__n_neighbors\": 1}, \"split0_test_score\": 0.6666666666666666, \"split1_test_score\": 0.43333333333333335, \"split2_test_score\": 0.5, \"split3_test_score\": 0.6333333333333333, \"split4_test_score\": 0.6333333333333333, \"split5_test_score\": 0.6, \"split6_test_score\": 0.6, \"split7_test_score\": 0.5, \"split8_test_score\": 0.5333333333333333, \"split9_test_score\": 0.43333333333333335, \"split10_test_score\": 0.5, \"split11_test_score\": 0.36666666666666664, \"split12_test_score\": 0.4666666666666667, \"split13_test_score\": 0.6, \"split14_test_score\": 0.6, \"split15_test_score\": 0.6, \"split16_test_score\": 0.5, \"split17_test_score\": 0.5666666666666667, \"split18_test_score\": 0.4, \"split19_test_score\": 0.43333333333333335, \"split20_test_score\": 0.3333333333333333, \"split21_test_score\": 0.4, \"split22_test_score\": 0.43333333333333335, \"split23_test_score\": 0.5, \"split24_test_score\": 0.4666666666666667, \"mean_test_score\": 0.508, \"std_test_score\": 0.09007651068829085, \"rank_test_score\": 20}, {\"mean_fit_time\": 0.010457658767700195, \"std_fit_time\": 0.00825413200569165, \"mean_score_time\": 0.0063457202911376956, \"std_score_time\": 0.0007650704018954882, \"param_kneighborsclassifier__n_neighbors\": 6, \"params\": {\"kneighborsclassifier__n_neighbors\": 6}, \"split0_test_score\": 0.5333333333333333, \"split1_test_score\": 0.5666666666666667, \"split2_test_score\": 0.6333333333333333, \"split3_test_score\": 0.5333333333333333, \"split4_test_score\": 0.43333333333333335, \"split5_test_score\": 0.6333333333333333, \"split6_test_score\": 0.4666666666666667, \"split7_test_score\": 0.5666666666666667, \"split8_test_score\": 0.5, \"split9_test_score\": 0.4666666666666667, \"split10_test_score\": 0.5, \"split11_test_score\": 0.5, \"split12_test_score\": 0.5333333333333333, \"split13_test_score\": 0.5666666666666667, \"split14_test_score\": 0.6666666666666666, \"split15_test_score\": 0.6333333333333333, \"split16_test_score\": 0.5, \"split17_test_score\": 0.5, \"split18_test_score\": 0.5666666666666667, \"split19_test_score\": 0.5333333333333333, \"split20_test_score\": 0.5333333333333333, \"split21_test_score\": 0.43333333333333335, \"split22_test_score\": 0.43333333333333335, \"split23_test_score\": 0.4666666666666667, \"split24_test_score\": 0.5333333333333333, \"mean_test_score\": 0.5293333333333333, \"std_test_score\": 0.06347002792219682, \"rank_test_score\": 19}, {\"mean_fit_time\": 0.007038040161132813, \"std_fit_time\": 0.0005877329070270289, \"mean_score_time\": 0.009031095504760743, \"std_score_time\": 0.010696283740449572, \"param_kneighborsclassifier__n_neighbors\": 11, \"params\": {\"kneighborsclassifier__n_neighbors\": 11}, \"split0_test_score\": 0.4666666666666667, \"split1_test_score\": 0.5666666666666667, \"split2_test_score\": 0.6666666666666666, \"split3_test_score\": 0.6, \"split4_test_score\": 0.5666666666666667, \"split5_test_score\": 0.6666666666666666, \"split6_test_score\": 0.43333333333333335, \"split7_test_score\": 0.6666666666666666, \"split8_test_score\": 0.5333333333333333, \"split9_test_score\": 0.4666666666666667, \"split10_test_score\": 0.6, \"split11_test_score\": 0.5333333333333333, \"split12_test_score\": 0.5333333333333333, \"split13_test_score\": 0.5, \"split14_test_score\": 0.6, \"split15_test_score\": 0.6333333333333333, \"split16_test_score\": 0.43333333333333335, \"split17_test_score\": 0.5666666666666667, \"split18_test_score\": 0.5666666666666667, \"split19_test_score\": 0.4666666666666667, \"split20_test_score\": 0.5666666666666667, \"split21_test_score\": 0.5333333333333333, \"split22_test_score\": 0.4, \"split23_test_score\": 0.5333333333333333, \"split24_test_score\": 0.5, \"mean_test_score\": 0.544, \"std_test_score\": 0.07285907249234265, \"rank_test_score\": 18}, {\"mean_fit_time\": 0.007031736373901368, \"std_fit_time\": 0.0007535249522787378, \"mean_score_time\": 0.005772342681884765, \"std_score_time\": 0.000558562168329942, \"param_kneighborsclassifier__n_neighbors\": 16, \"params\": {\"kneighborsclassifier__n_neighbors\": 16}, \"split0_test_score\": 0.5333333333333333, \"split1_test_score\": 0.5666666666666667, \"split2_test_score\": 0.5666666666666667, \"split3_test_score\": 0.5666666666666667, \"split4_test_score\": 0.5666666666666667, \"split5_test_score\": 0.6666666666666666, \"split6_test_score\": 0.43333333333333335, \"split7_test_score\": 0.6333333333333333, \"split8_test_score\": 0.5666666666666667, \"split9_test_score\": 0.5333333333333333, \"split10_test_score\": 0.6, \"split11_test_score\": 0.6, \"split12_test_score\": 0.5333333333333333, \"split13_test_score\": 0.5333333333333333, \"split14_test_score\": 0.5, \"split15_test_score\": 0.6333333333333333, \"split16_test_score\": 0.5, \"split17_test_score\": 0.6, \"split18_test_score\": 0.5666666666666667, \"split19_test_score\": 0.36666666666666664, \"split20_test_score\": 0.5666666666666667, \"split21_test_score\": 0.5, \"split22_test_score\": 0.5333333333333333, \"split23_test_score\": 0.4666666666666667, \"split24_test_score\": 0.5666666666666667, \"mean_test_score\": 0.5479999999999999, \"std_test_score\": 0.06330174650916917, \"rank_test_score\": 17}, {\"mean_fit_time\": 0.0073272609710693356, \"std_fit_time\": 0.000619842117789628, \"mean_score_time\": 0.005998687744140625, \"std_score_time\": 0.000696110394179189, \"param_kneighborsclassifier__n_neighbors\": 21, \"params\": {\"kneighborsclassifier__n_neighbors\": 21}, \"split0_test_score\": 0.5, \"split1_test_score\": 0.6, \"split2_test_score\": 0.6333333333333333, \"split3_test_score\": 0.5666666666666667, \"split4_test_score\": 0.5333333333333333, \"split5_test_score\": 0.7333333333333333, \"split6_test_score\": 0.5333333333333333, \"split7_test_score\": 0.7, \"split8_test_score\": 0.6333333333333333, \"split9_test_score\": 0.5666666666666667, \"split10_test_score\": 0.5666666666666667, \"split11_test_score\": 0.5333333333333333, \"split12_test_score\": 0.5, \"split13_test_score\": 0.6666666666666666, \"split14_test_score\": 0.5666666666666667, \"split15_test_score\": 0.6, \"split16_test_score\": 0.4666666666666667, \"split17_test_score\": 0.5666666666666667, \"split18_test_score\": 0.5333333333333333, \"split19_test_score\": 0.4666666666666667, \"split20_test_score\": 0.6, \"split21_test_score\": 0.4666666666666667, \"split22_test_score\": 0.43333333333333335, \"split23_test_score\": 0.5333333333333333, \"split24_test_score\": 0.5333333333333333, \"mean_test_score\": 0.5613333333333334, \"std_test_score\": 0.07222188034107115, \"rank_test_score\": 16}, {\"mean_fit_time\": 0.012187519073486329, \"std_fit_time\": 0.013816624378424666, \"mean_score_time\": 0.009277563095092773, \"std_score_time\": 0.011455617062233114, \"param_kneighborsclassifier__n_neighbors\": 26, \"params\": {\"kneighborsclassifier__n_neighbors\": 26}, \"split0_test_score\": 0.5333333333333333, \"split1_test_score\": 0.6, \"split2_test_score\": 0.6, \"split3_test_score\": 0.5333333333333333, \"split4_test_score\": 0.5333333333333333, \"split5_test_score\": 0.7, \"split6_test_score\": 0.5, \"split7_test_score\": 0.7333333333333333, \"split8_test_score\": 0.5333333333333333, \"split9_test_score\": 0.5666666666666667, \"split10_test_score\": 0.5666666666666667, \"split11_test_score\": 0.6333333333333333, \"split12_test_score\": 0.5333333333333333, \"split13_test_score\": 0.6333333333333333, \"split14_test_score\": 0.6333333333333333, \"split15_test_score\": 0.6, \"split16_test_score\": 0.5333333333333333, \"split17_test_score\": 0.5333333333333333, \"split18_test_score\": 0.5333333333333333, \"split19_test_score\": 0.36666666666666664, \"split20_test_score\": 0.5666666666666667, \"split21_test_score\": 0.5333333333333333, \"split22_test_score\": 0.43333333333333335, \"split23_test_score\": 0.5666666666666667, \"split24_test_score\": 0.5666666666666667, \"mean_test_score\": 0.5626666666666666, \"std_test_score\": 0.07322416116131189, \"rank_test_score\": 15}, {\"mean_fit_time\": 0.009582996368408203, \"std_fit_time\": 0.004877523756658045, \"mean_score_time\": 0.007333192825317383, \"std_score_time\": 0.0027841768581895803, \"param_kneighborsclassifier__n_neighbors\": 31, \"params\": {\"kneighborsclassifier__n_neighbors\": 31}, \"split0_test_score\": 0.5333333333333333, \"split1_test_score\": 0.5666666666666667, \"split2_test_score\": 0.6666666666666666, \"split3_test_score\": 0.6, \"split4_test_score\": 0.5666666666666667, \"split5_test_score\": 0.7, \"split6_test_score\": 0.5, \"split7_test_score\": 0.7333333333333333, \"split8_test_score\": 0.5, \"split9_test_score\": 0.5666666666666667, \"split10_test_score\": 0.5666666666666667, \"split11_test_score\": 0.6, \"split12_test_score\": 0.5333333333333333, \"split13_test_score\": 0.6333333333333333, \"split14_test_score\": 0.6666666666666666, \"split15_test_score\": 0.6666666666666666, \"split16_test_score\": 0.5666666666666667, \"split17_test_score\": 0.5666666666666667, \"split18_test_score\": 0.5666666666666667, \"split19_test_score\": 0.4, \"split20_test_score\": 0.5666666666666667, \"split21_test_score\": 0.5666666666666667, \"split22_test_score\": 0.43333333333333335, \"split23_test_score\": 0.5666666666666667, \"split24_test_score\": 0.5666666666666667, \"mean_test_score\": 0.576, \"std_test_score\": 0.07394893132726424, \"rank_test_score\": 14}, {\"mean_fit_time\": 0.0071741676330566405, \"std_fit_time\": 0.0007542168343491621, \"mean_score_time\": 0.0063310909271240235, \"std_score_time\": 0.001555493995565736, \"param_kneighborsclassifier__n_neighbors\": 36, \"params\": {\"kneighborsclassifier__n_neighbors\": 36}, \"split0_test_score\": 0.5666666666666667, \"split1_test_score\": 0.5666666666666667, \"split2_test_score\": 0.6333333333333333, \"split3_test_score\": 0.6666666666666666, \"split4_test_score\": 0.5666666666666667, \"split5_test_score\": 0.7, \"split6_test_score\": 0.5333333333333333, \"split7_test_score\": 0.7, \"split8_test_score\": 0.5, \"split9_test_score\": 0.5666666666666667, \"split10_test_score\": 0.6, \"split11_test_score\": 0.6333333333333333, \"split12_test_score\": 0.5, \"split13_test_score\": 0.7, \"split14_test_score\": 0.6333333333333333, \"split15_test_score\": 0.7, \"split16_test_score\": 0.5333333333333333, \"split17_test_score\": 0.5666666666666667, \"split18_test_score\": 0.5666666666666667, \"split19_test_score\": 0.36666666666666664, \"split20_test_score\": 0.6, \"split21_test_score\": 0.5666666666666667, \"split22_test_score\": 0.5, \"split23_test_score\": 0.5333333333333333, \"split24_test_score\": 0.5666666666666667, \"mean_test_score\": 0.5826666666666667, \"std_test_score\": 0.07666376806114693, \"rank_test_score\": 3}, {\"mean_fit_time\": 0.009442863464355468, \"std_fit_time\": 0.0015639260179925102, \"mean_score_time\": 0.008008012771606446, \"std_score_time\": 0.0014629979653441503, \"param_kneighborsclassifier__n_neighbors\": 41, \"params\": {\"kneighborsclassifier__n_neighbors\": 41}, \"split0_test_score\": 0.5333333333333333, \"split1_test_score\": 0.5666666666666667, \"split2_test_score\": 0.7, \"split3_test_score\": 0.6333333333333333, \"split4_test_score\": 0.5333333333333333, \"split5_test_score\": 0.6666666666666666, \"split6_test_score\": 0.5333333333333333, \"split7_test_score\": 0.7333333333333333, \"split8_test_score\": 0.5666666666666667, \"split9_test_score\": 0.6, \"split10_test_score\": 0.6333333333333333, \"split11_test_score\": 0.6, \"split12_test_score\": 0.5, \"split13_test_score\": 0.6333333333333333, \"split14_test_score\": 0.6, \"split15_test_score\": 0.7, \"split16_test_score\": 0.5333333333333333, \"split17_test_score\": 0.5666666666666667, \"split18_test_score\": 0.5333333333333333, \"split19_test_score\": 0.36666666666666664, \"split20_test_score\": 0.6, \"split21_test_score\": 0.5666666666666667, \"split22_test_score\": 0.5, \"split23_test_score\": 0.5666666666666667, \"split24_test_score\": 0.6333333333333333, \"mean_test_score\": 0.584, \"std_test_score\": 0.075495400890091, \"rank_test_score\": 1}, {\"mean_fit_time\": 0.011322402954101562, \"std_fit_time\": 0.008699543214608344, \"mean_score_time\": 0.008574485778808594, \"std_score_time\": 0.0032529686629993826, \"param_kneighborsclassifier__n_neighbors\": 46, \"params\": {\"kneighborsclassifier__n_neighbors\": 46}, \"split0_test_score\": 0.5333333333333333, \"split1_test_score\": 0.5666666666666667, \"split2_test_score\": 0.6333333333333333, \"split3_test_score\": 0.6333333333333333, \"split4_test_score\": 0.5333333333333333, \"split5_test_score\": 0.6666666666666666, \"split6_test_score\": 0.5333333333333333, \"split7_test_score\": 0.7333333333333333, \"split8_test_score\": 0.5666666666666667, \"split9_test_score\": 0.6, \"split10_test_score\": 0.6, \"split11_test_score\": 0.6, \"split12_test_score\": 0.5, \"split13_test_score\": 0.6666666666666666, \"split14_test_score\": 0.6, \"split15_test_score\": 0.7, \"split16_test_score\": 0.5333333333333333, \"split17_test_score\": 0.5666666666666667, \"split18_test_score\": 0.5333333333333333, \"split19_test_score\": 0.36666666666666664, \"split20_test_score\": 0.5666666666666667, \"split21_test_score\": 0.5666666666666667, \"split22_test_score\": 0.5, \"split23_test_score\": 0.5666666666666667, \"split24_test_score\": 0.6333333333333333, \"mean_test_score\": 0.58, \"std_test_score\": 0.07302967433402213, \"rank_test_score\": 10}, {\"mean_fit_time\": 0.009952220916748047, \"std_fit_time\": 0.002453968451669, \"mean_score_time\": 0.008123769760131835, \"std_score_time\": 0.0010162907865765018, \"param_kneighborsclassifier__n_neighbors\": 51, \"params\": {\"kneighborsclassifier__n_neighbors\": 51}, \"split0_test_score\": 0.5666666666666667, \"split1_test_score\": 0.5666666666666667, \"split2_test_score\": 0.6666666666666666, \"split3_test_score\": 0.6333333333333333, \"split4_test_score\": 0.5666666666666667, \"split5_test_score\": 0.6666666666666666, \"split6_test_score\": 0.5666666666666667, \"split7_test_score\": 0.6666666666666666, \"split8_test_score\": 0.5666666666666667, \"split9_test_score\": 0.5666666666666667, \"split10_test_score\": 0.6333333333333333, \"split11_test_score\": 0.6, \"split12_test_score\": 0.5, \"split13_test_score\": 0.6666666666666666, \"split14_test_score\": 0.6, \"split15_test_score\": 0.7, \"split16_test_score\": 0.5, \"split17_test_score\": 0.5666666666666667, \"split18_test_score\": 0.5666666666666667, \"split19_test_score\": 0.36666666666666664, \"split20_test_score\": 0.5333333333333333, \"split21_test_score\": 0.5666666666666667, \"split22_test_score\": 0.5, \"split23_test_score\": 0.5333333333333333, \"split24_test_score\": 0.6333333333333333, \"mean_test_score\": 0.58, \"std_test_score\": 0.07055336829505574, \"rank_test_score\": 10}, {\"mean_fit_time\": 0.007123060226440429, \"std_fit_time\": 0.0011889560541742574, \"mean_score_time\": 0.0061324405670166015, \"std_score_time\": 0.0011191088757078163, \"param_kneighborsclassifier__n_neighbors\": 56, \"params\": {\"kneighborsclassifier__n_neighbors\": 56}, \"split0_test_score\": 0.5666666666666667, \"split1_test_score\": 0.5666666666666667, \"split2_test_score\": 0.6333333333333333, \"split3_test_score\": 0.6, \"split4_test_score\": 0.5666666666666667, \"split5_test_score\": 0.6666666666666666, \"split6_test_score\": 0.5333333333333333, \"split7_test_score\": 0.6666666666666666, \"split8_test_score\": 0.5666666666666667, \"split9_test_score\": 0.6, \"split10_test_score\": 0.6333333333333333, \"split11_test_score\": 0.6, \"split12_test_score\": 0.5, \"split13_test_score\": 0.6666666666666666, \"split14_test_score\": 0.6333333333333333, \"split15_test_score\": 0.7, \"split16_test_score\": 0.5, \"split17_test_score\": 0.5666666666666667, \"split18_test_score\": 0.5333333333333333, \"split19_test_score\": 0.4, \"split20_test_score\": 0.5666666666666667, \"split21_test_score\": 0.6, \"split22_test_score\": 0.5, \"split23_test_score\": 0.5333333333333333, \"split24_test_score\": 0.6333333333333333, \"mean_test_score\": 0.5813333333333333, \"std_test_score\": 0.06605048574133777, \"rank_test_score\": 8}, {\"mean_fit_time\": 0.006842966079711914, \"std_fit_time\": 0.0006142108769233274, \"mean_score_time\": 0.006027498245239258, \"std_score_time\": 0.0007969820249137658, \"param_kneighborsclassifier__n_neighbors\": 61, \"params\": {\"kneighborsclassifier__n_neighbors\": 61}, \"split0_test_score\": 0.5666666666666667, \"split1_test_score\": 0.5666666666666667, \"split2_test_score\": 0.6, \"split3_test_score\": 0.5333333333333333, \"split4_test_score\": 0.5666666666666667, \"split5_test_score\": 0.6666666666666666, \"split6_test_score\": 0.5666666666666667, \"split7_test_score\": 0.7, \"split8_test_score\": 0.5666666666666667, \"split9_test_score\": 0.6, \"split10_test_score\": 0.6333333333333333, \"split11_test_score\": 0.5666666666666667, \"split12_test_score\": 0.5, \"split13_test_score\": 0.6666666666666666, \"split14_test_score\": 0.6, \"split15_test_score\": 0.6666666666666666, \"split16_test_score\": 0.5, \"split17_test_score\": 0.5666666666666667, \"split18_test_score\": 0.5333333333333333, \"split19_test_score\": 0.3333333333333333, \"split20_test_score\": 0.5666666666666667, \"split21_test_score\": 0.6333333333333333, \"split22_test_score\": 0.5333333333333333, \"split23_test_score\": 0.5666666666666667, \"split24_test_score\": 0.6333333333333333, \"mean_test_score\": 0.5773333333333333, \"std_test_score\": 0.07162867209900421, \"rank_test_score\": 12}, {\"mean_fit_time\": 0.015356101989746095, \"std_fit_time\": 0.016722051927384858, \"mean_score_time\": 0.006674976348876953, \"std_score_time\": 0.000720196530621471, \"param_kneighborsclassifier__n_neighbors\": 66, \"params\": {\"kneighborsclassifier__n_neighbors\": 66}, \"split0_test_score\": 0.6, \"split1_test_score\": 0.5666666666666667, \"split2_test_score\": 0.6333333333333333, \"split3_test_score\": 0.5666666666666667, \"split4_test_score\": 0.5666666666666667, \"split5_test_score\": 0.6666666666666666, \"split6_test_score\": 0.5666666666666667, \"split7_test_score\": 0.6666666666666666, \"split8_test_score\": 0.6, \"split9_test_score\": 0.6, \"split10_test_score\": 0.6333333333333333, \"split11_test_score\": 0.5666666666666667, \"split12_test_score\": 0.5, \"split13_test_score\": 0.6666666666666666, \"split14_test_score\": 0.6333333333333333, \"split15_test_score\": 0.6666666666666666, \"split16_test_score\": 0.5, \"split17_test_score\": 0.5666666666666667, \"split18_test_score\": 0.5333333333333333, \"split19_test_score\": 0.36666666666666664, \"split20_test_score\": 0.5333333333333333, \"split21_test_score\": 0.6, \"split22_test_score\": 0.5333333333333333, \"split23_test_score\": 0.5666666666666667, \"split24_test_score\": 0.6666666666666666, \"mean_test_score\": 0.5826666666666666, \"std_test_score\": 0.06740919818541086, \"rank_test_score\": 4}, {\"mean_fit_time\": 0.007271575927734375, \"std_fit_time\": 0.0015441009992423862, \"mean_score_time\": 0.006478214263916015, \"std_score_time\": 0.0023666264461380602, \"param_kneighborsclassifier__n_neighbors\": 71, \"params\": {\"kneighborsclassifier__n_neighbors\": 71}, \"split0_test_score\": 0.5666666666666667, \"split1_test_score\": 0.5666666666666667, \"split2_test_score\": 0.6666666666666666, \"split3_test_score\": 0.5333333333333333, \"split4_test_score\": 0.5666666666666667, \"split5_test_score\": 0.6333333333333333, \"split6_test_score\": 0.5666666666666667, \"split7_test_score\": 0.7, \"split8_test_score\": 0.6, \"split9_test_score\": 0.6, \"split10_test_score\": 0.6333333333333333, \"split11_test_score\": 0.5666666666666667, \"split12_test_score\": 0.5, \"split13_test_score\": 0.6333333333333333, \"split14_test_score\": 0.6333333333333333, \"split15_test_score\": 0.6666666666666666, \"split16_test_score\": 0.5, \"split17_test_score\": 0.5666666666666667, \"split18_test_score\": 0.5666666666666667, \"split19_test_score\": 0.4, \"split20_test_score\": 0.5333333333333333, \"split21_test_score\": 0.5333333333333333, \"split22_test_score\": 0.5666666666666667, \"split23_test_score\": 0.5666666666666667, \"split24_test_score\": 0.6666666666666666, \"mean_test_score\": 0.5813333333333333, \"std_test_score\": 0.06399999999999999, \"rank_test_score\": 8}, {\"mean_fit_time\": 0.006974496841430664, \"std_fit_time\": 0.0007496482297137025, \"mean_score_time\": 0.006435775756835937, \"std_score_time\": 0.0014782711271039285, \"param_kneighborsclassifier__n_neighbors\": 76, \"params\": {\"kneighborsclassifier__n_neighbors\": 76}, \"split0_test_score\": 0.5666666666666667, \"split1_test_score\": 0.5666666666666667, \"split2_test_score\": 0.6666666666666666, \"split3_test_score\": 0.5333333333333333, \"split4_test_score\": 0.5666666666666667, \"split5_test_score\": 0.6333333333333333, \"split6_test_score\": 0.5666666666666667, \"split7_test_score\": 0.7, \"split8_test_score\": 0.6, \"split9_test_score\": 0.6, \"split10_test_score\": 0.6333333333333333, \"split11_test_score\": 0.5666666666666667, \"split12_test_score\": 0.5, \"split13_test_score\": 0.6, \"split14_test_score\": 0.6333333333333333, \"split15_test_score\": 0.6666666666666666, \"split16_test_score\": 0.5, \"split17_test_score\": 0.5666666666666667, \"split18_test_score\": 0.5666666666666667, \"split19_test_score\": 0.4, \"split20_test_score\": 0.5666666666666667, \"split21_test_score\": 0.5666666666666667, \"split22_test_score\": 0.5666666666666667, \"split23_test_score\": 0.6, \"split24_test_score\": 0.6666666666666666, \"mean_test_score\": 0.584, \"std_test_score\": 0.06191032941996745, \"rank_test_score\": 1}, {\"mean_fit_time\": 0.007183713912963867, \"std_fit_time\": 0.000651138149767022, \"mean_score_time\": 0.006509981155395508, \"std_score_time\": 0.001152751268109825, \"param_kneighborsclassifier__n_neighbors\": 81, \"params\": {\"kneighborsclassifier__n_neighbors\": 81}, \"split0_test_score\": 0.5666666666666667, \"split1_test_score\": 0.6, \"split2_test_score\": 0.6666666666666666, \"split3_test_score\": 0.5333333333333333, \"split4_test_score\": 0.5333333333333333, \"split5_test_score\": 0.6333333333333333, \"split6_test_score\": 0.5666666666666667, \"split7_test_score\": 0.6666666666666666, \"split8_test_score\": 0.6, \"split9_test_score\": 0.6, \"split10_test_score\": 0.6333333333333333, \"split11_test_score\": 0.5333333333333333, \"split12_test_score\": 0.5, \"split13_test_score\": 0.6, \"split14_test_score\": 0.6333333333333333, \"split15_test_score\": 0.6666666666666666, \"split16_test_score\": 0.5, \"split17_test_score\": 0.5666666666666667, \"split18_test_score\": 0.5666666666666667, \"split19_test_score\": 0.4666666666666667, \"split20_test_score\": 0.5666666666666667, \"split21_test_score\": 0.5666666666666667, \"split22_test_score\": 0.5333333333333333, \"split23_test_score\": 0.6, \"split24_test_score\": 0.6666666666666666, \"mean_test_score\": 0.5826666666666666, \"std_test_score\": 0.055071670474835674, \"rank_test_score\": 4}, {\"mean_fit_time\": 0.009576711654663086, \"std_fit_time\": 0.004796107652334615, \"mean_score_time\": 0.009743175506591796, \"std_score_time\": 0.005553370295637804, \"param_kneighborsclassifier__n_neighbors\": 86, \"params\": {\"kneighborsclassifier__n_neighbors\": 86}, \"split0_test_score\": 0.6, \"split1_test_score\": 0.6, \"split2_test_score\": 0.6666666666666666, \"split3_test_score\": 0.5333333333333333, \"split4_test_score\": 0.5333333333333333, \"split5_test_score\": 0.6333333333333333, \"split6_test_score\": 0.5666666666666667, \"split7_test_score\": 0.6333333333333333, \"split8_test_score\": 0.6, \"split9_test_score\": 0.6, \"split10_test_score\": 0.6, \"split11_test_score\": 0.5666666666666667, \"split12_test_score\": 0.5, \"split13_test_score\": 0.6, \"split14_test_score\": 0.6, \"split15_test_score\": 0.6666666666666666, \"split16_test_score\": 0.5, \"split17_test_score\": 0.5666666666666667, \"split18_test_score\": 0.5666666666666667, \"split19_test_score\": 0.4666666666666667, \"split20_test_score\": 0.5666666666666667, \"split21_test_score\": 0.5, \"split22_test_score\": 0.5333333333333333, \"split23_test_score\": 0.5666666666666667, \"split24_test_score\": 0.6666666666666666, \"mean_test_score\": 0.5773333333333333, \"std_test_score\": 0.053099487337973, \"rank_test_score\": 12}, {\"mean_fit_time\": 0.0088055419921875, \"std_fit_time\": 0.002426451200052226, \"mean_score_time\": 0.007489051818847656, \"std_score_time\": 0.0015475098462657962, \"param_kneighborsclassifier__n_neighbors\": 91, \"params\": {\"kneighborsclassifier__n_neighbors\": 91}, \"split0_test_score\": 0.6, \"split1_test_score\": 0.6, \"split2_test_score\": 0.6, \"split3_test_score\": 0.5666666666666667, \"split4_test_score\": 0.6333333333333333, \"split5_test_score\": 0.6, \"split6_test_score\": 0.5333333333333333, \"split7_test_score\": 0.6333333333333333, \"split8_test_score\": 0.6333333333333333, \"split9_test_score\": 0.6333333333333333, \"split10_test_score\": 0.5333333333333333, \"split11_test_score\": 0.6, \"split12_test_score\": 0.5, \"split13_test_score\": 0.6333333333333333, \"split14_test_score\": 0.6333333333333333, \"split15_test_score\": 0.6666666666666666, \"split16_test_score\": 0.5, \"split17_test_score\": 0.5666666666666667, \"split18_test_score\": 0.5666666666666667, \"split19_test_score\": 0.5, \"split20_test_score\": 0.5666666666666667, \"split21_test_score\": 0.5333333333333333, \"split22_test_score\": 0.5, \"split23_test_score\": 0.6, \"split24_test_score\": 0.6, \"mean_test_score\": 0.5813333333333334, \"std_test_score\": 0.049062318647930925, \"rank_test_score\": 7}, {\"mean_fit_time\": 0.00851170539855957, \"std_fit_time\": 0.0024950468545588255, \"mean_score_time\": 0.007518072128295899, \"std_score_time\": 0.002219889585471819, \"param_kneighborsclassifier__n_neighbors\": 96, \"params\": {\"kneighborsclassifier__n_neighbors\": 96}, \"split0_test_score\": 0.6, \"split1_test_score\": 0.6, \"split2_test_score\": 0.6, \"split3_test_score\": 0.5333333333333333, \"split4_test_score\": 0.6, \"split5_test_score\": 0.6333333333333333, \"split6_test_score\": 0.5333333333333333, \"split7_test_score\": 0.6333333333333333, \"split8_test_score\": 0.6333333333333333, \"split9_test_score\": 0.6, \"split10_test_score\": 0.5333333333333333, \"split11_test_score\": 0.6, \"split12_test_score\": 0.5, \"split13_test_score\": 0.6666666666666666, \"split14_test_score\": 0.6, \"split15_test_score\": 0.6333333333333333, \"split16_test_score\": 0.5, \"split17_test_score\": 0.6, \"split18_test_score\": 0.5666666666666667, \"split19_test_score\": 0.5, \"split20_test_score\": 0.6, \"split21_test_score\": 0.5333333333333333, \"split22_test_score\": 0.5333333333333333, \"split23_test_score\": 0.6333333333333333, \"split24_test_score\": 0.6, \"mean_test_score\": 0.5826666666666666, \"std_test_score\": 0.04725345372445159, \"rank_test_score\": 4}]}}, {\"mode\": \"vega-lite\"});\n",
       "</script>"
      ],
      "text/plain": [
       "alt.Chart(...)"
      ]
     },
     "execution_count": 25,
     "metadata": {},
     "output_type": "execute_result"
    }
   ],
   "source": [
    "accuracy_versus_k_grid = alt.Chart(accuracies_grid).mark_line(point=True).encode(\n",
    "    x=alt.X(\"param_kneighborsclassifier__n_neighbors\")\n",
    "        .title(\"neighbors\")\n",
    "        .scale(zero=False),\n",
    "    y=alt.Y(\"mean_test_score\")\n",
    "        .title(\"Mean test score\")\n",
    "        .scale(zero=False)\n",
    ")\n",
    "accuracy_versus_k_grid"
   ]
  },
  {
   "cell_type": "markdown",
   "metadata": {},
   "source": [
    "## Visualizing the Analysis"
   ]
  },
  {
   "cell_type": "markdown",
   "metadata": {},
   "source": [
    "We want to use a confusion matrix to visualize our analysis and evaluate our model's performance with metrics like accuracy, precision and recall. A confusion matrix shows how many observations of each (true) label were classified as each (predicted) label"
   ]
  },
  {
   "cell_type": "code",
   "execution_count": 26,
   "metadata": {
    "tags": []
   },
   "outputs": [
    {
     "data": {
      "text/html": [
       "<div>\n",
       "<style scoped>\n",
       "    .dataframe tbody tr th:only-of-type {\n",
       "        vertical-align: middle;\n",
       "    }\n",
       "\n",
       "    .dataframe tbody tr th {\n",
       "        vertical-align: top;\n",
       "    }\n",
       "\n",
       "    .dataframe thead th {\n",
       "        text-align: right;\n",
       "    }\n",
       "</style>\n",
       "<table border=\"1\" class=\"dataframe\">\n",
       "  <thead>\n",
       "    <tr style=\"text-align: right;\">\n",
       "      <th>predicted</th>\n",
       "      <th>Good</th>\n",
       "      <th>Poor</th>\n",
       "      <th>Standard</th>\n",
       "    </tr>\n",
       "    <tr>\n",
       "      <th>Credit_Score</th>\n",
       "      <th></th>\n",
       "      <th></th>\n",
       "      <th></th>\n",
       "    </tr>\n",
       "  </thead>\n",
       "  <tbody>\n",
       "    <tr>\n",
       "      <th>Good</th>\n",
       "      <td>12</td>\n",
       "      <td>2</td>\n",
       "      <td>30</td>\n",
       "    </tr>\n",
       "    <tr>\n",
       "      <th>Poor</th>\n",
       "      <td>3</td>\n",
       "      <td>28</td>\n",
       "      <td>39</td>\n",
       "    </tr>\n",
       "    <tr>\n",
       "      <th>Standard</th>\n",
       "      <td>12</td>\n",
       "      <td>12</td>\n",
       "      <td>112</td>\n",
       "    </tr>\n",
       "  </tbody>\n",
       "</table>\n",
       "</div>"
      ],
      "text/plain": [
       "predicted     Good  Poor  Standard\n",
       "Credit_Score                      \n",
       "Good            12     2        30\n",
       "Poor             3    28        39\n",
       "Standard        12    12       112"
      ]
     },
     "execution_count": 26,
     "metadata": {},
     "output_type": "execute_result"
    }
   ],
   "source": [
    "confusion_matrix = pd.crosstab(\n",
    "    test_predictions[\"Credit_Score\"],  # True labels\n",
    "    test_predictions[\"predicted\"],  # Predicted labels\n",
    ")\n",
    "\n",
    "confusion_matrix"
   ]
  },
  {
   "cell_type": "markdown",
   "metadata": {
    "tags": []
   },
   "source": [
    "With many observations, it can be difficult to interpret the confusion matrix when it is presented as a table like above. We'll display it as a heatmap for easier analysis:"
   ]
  },
  {
   "cell_type": "code",
   "execution_count": 31,
   "metadata": {
    "tags": []
   },
   "outputs": [
    {
     "data": {
      "text/plain": [
       "<sklearn.metrics._plot.confusion_matrix.ConfusionMatrixDisplay at 0x7f6ca7969ed0>"
      ]
     },
     "execution_count": 31,
     "metadata": {},
     "output_type": "execute_result"
    },
    {
     "data": {
      "image/png": "[encoded data removed]",
      "text/plain": [
       "<Figure size 640x480 with 2 Axes>"
      ]
     },
     "metadata": {},
     "output_type": "display_data"
    }
   ],
   "source": [
    "from sklearn.metrics import ConfusionMatrixDisplay\n",
    "from sklearn.metrics import precision_score\n",
    "\n",
    "X_test = test[predictors]\n",
    "y_test = test[\"Credit_Score\"]\n",
    "\n",
    "ConfusionMatrixDisplay.from_estimator(\n",
    "    train_fit,\n",
    "    X_test,\n",
    "    y_test\n",
    ")"
   ]
  },
  {
   "cell_type": "markdown",
   "metadata": {
    "tags": []
   },
   "source": [
    "Accuracy"
   ]
  },
  {
   "cell_type": "code",
   "execution_count": 32,
   "metadata": {},
   "outputs": [
    {
     "data": {
      "text/plain": [
       "0.608"
      ]
     },
     "execution_count": 32,
     "metadata": {},
     "output_type": "execute_result"
    }
   ],
   "source": [
    "accuracy = train_fit.score(X_test,y_test)\n",
    "accuracy"
   ]
  },
  {
   "cell_type": "markdown",
   "metadata": {},
   "source": [
    "Precision (number of correct positive predictions per total number of positive predictions)"
   ]
  },
  {
   "cell_type": "code",
   "execution_count": 38,
   "metadata": {
    "tags": []
   },
   "outputs": [
    {
     "name": "stdout",
     "output_type": "stream",
     "text": [
      "Precision for good credit score:  0.2727272727272727\n",
      "Precision for poor credit score:  0.4\n",
      "Precision for standard credit score:  0.8235294117647058\n"
     ]
    }
   ],
   "source": [
    "precision_good = 12/(12 + 2 + 30)\n",
    "precision_poor = 28/ (3 + 28 + 39)\n",
    "precision_standard = 112 / (12 + 12 + 112)\n",
    "print(\"Precision for good credit score: \", precision_good)\n",
    "print(\"Precision for poor credit score: \", precision_poor)\n",
    "print(\"Precision for standard credit score: \", precision_standard)"
   ]
  },
  {
   "cell_type": "code",
   "execution_count": null,
   "metadata": {},
   "outputs": [],
   "source": [
    "Recall (number of correct positive predictions per total number of positive predictions)"
   ]
  },
  {
   "cell_type": "code",
   "execution_count": 40,
   "metadata": {
    "tags": []
   },
   "outputs": [
    {
     "name": "stdout",
     "output_type": "stream",
     "text": [
      "Recall for good credit score:  0.4444444444444444\n",
      "Recall for poor credit score:  0.6666666666666666\n",
      "Recall for standard credit score:  0.6187845303867403\n"
     ]
    }
   ],
   "source": [
    "recall_good = 12/(12 + 3 + 12)\n",
    "recall_poor = 28/ (2 + 28 + 12)\n",
    "recall_standard = 112 / (30 + 39 + 112)\n",
    "print(\"Recall for good credit score: \", recall_good)\n",
    "print(\"Recall for poor credit score: \", recall_poor)\n",
    "print(\"Recall for standard credit score: \", recall_standard)"
   ]
  },
  {
   "cell_type": "markdown",
   "metadata": {},
   "source": [
    "### Discussion\n"
   ]
  },
  {
   "cell_type": "markdown",
   "metadata": {},
   "source": [
    "Outcomes vs expected outcomes:\n",
    "\n",
    "In our credit score category classification project, we discovered that a k-nearest neighbors (KNN) model with a k-value of 41 yields the highest accuracy of 60.8%. This finding was somewhat anticipated given the nature of our dataset and the typical behavior of KNN models. A moderately high k-value like 41 helps in achieving a balance between overfitting and bias. It's larger than the very small k-values which tend to overfit, but not so large as to introduce significant bias, which can be a problem with very high k-values. This middle ground suggests that our model is less prone to overfitting and is likely to have a smoother decision boundary, making it suitable for larger datasets.\n",
    "\n",
    "What we found: our predictors (num of delayed payments and days from delayed payments) show a weak positive relation as we would expect. But it is unlikely and hard to find a strong positive relation owing to the difference in behavioural patterns of consumers, however, that discussion is outside the scope of this project. \n",
    "\n",
    "The impact of these findings is notable in the field of credit scoring. By efficiently predicting creditworthiness with a balanced bias-variance tradeoff, financial institutions can make more informed decisions, potentially reducing the risk of default while offering credit opportunities to eligible individuals."
   ]
  },
  {
   "cell_type": "markdown",
   "metadata": {},
   "source": [
    "Potential Shortcomings: investigating the impact of feature selection and data quality on the model's performance could lead to more robust and accurate predictions. Lastly, considering ethical implications and the model's behavior in diverse, real-world scenarios would be essential for responsible application. Since we see that existing research cited discriminates based on credit history age. Additionally, we only used two predictor variables but using multiple variables and studying their interactions is something worth looking into for improving the accuracy of the model. With adding each new predictor, the interaction possibilities grows multiplicatively. So, the process can be time consuming but might yield better results. "
   ]
  },
  {
   "cell_type": "markdown",
   "metadata": {
    "tags": []
   },
   "source": [
    "\n",
    "- *What impact could such findings have?*\n",
    "  - Helping banks predict whether it is a good idea to issue a new credit card to a new user\n",
    "  - Can influence an individual’s credit limit/interest rate.\n",
    "  - Studying the relation of individual factors with credit score category classification.\n",
    "  \n",
    "- *What future questions could this lead to?* \n",
    "  \n",
    "  How do we evaluate or categorize a new person who has just started working and does not have a long enough credit history. \n"
   ]
  },
  {
   "cell_type": "markdown",
   "metadata": {},
   "source": [
    "### References\n"
   ]
  },
  {
   "cell_type": "markdown",
   "metadata": {},
   "source": [
    "- Debt.org. (2023, September 1). Credit Scoring Models: FICO, VantageScore & More. Retrieved from https://www.debt.org/credit/report/scoring-models/                                     \n",
    "- Akin, J. (2023, July 29). What Affects Your Credit Scores? Experian. https://www.experian.com/blogs/ask-experian/credit-education/score-basics/what-affects-your-credit-scores/"
   ]
  }
 ],
 "metadata": {
  "kernelspec": {
   "display_name": "Python 3 (ipykernel)",
   "language": "python",
   "name": "python3"
  },
  "language_info": {
   "codemirror_mode": {
    "name": "ipython",
    "version": 3
   },
   "file_extension": ".py",
   "mimetype": "text/x-python",
   "name": "python",
   "nbconvert_exporter": "python",
   "pygments_lexer": "ipython3",
   "version": "3.10.8"
  }
 },
 "nbformat": 4,
 "nbformat_minor": 4
}
